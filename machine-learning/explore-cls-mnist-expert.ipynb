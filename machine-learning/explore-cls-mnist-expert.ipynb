{
 "cells": [
  {
   "cell_type": "code",
   "execution_count": 1,
   "metadata": {
    "collapsed": false
   },
   "outputs": [],
   "source": [
    "from ml.nodes import *\n",
    "from ml.traces import *\n",
    "import tensorflow as tf"
   ]
  },
  {
   "cell_type": "code",
   "execution_count": 2,
   "metadata": {
    "collapsed": false
   },
   "outputs": [
    {
     "name": "stdout",
     "output_type": "stream",
     "text": [
      "Extracting MNIST_data/train-images-idx3-ubyte.gz\n",
      "Extracting MNIST_data/train-labels-idx1-ubyte.gz\n",
      "Extracting MNIST_data/t10k-images-idx3-ubyte.gz\n",
      "Extracting MNIST_data/t10k-labels-idx1-ubyte.gz\n",
      "                                Datasets:        0     N:-1 C:784 \n",
      "Dataset: MNIST\n",
      "  shape: N:-1 C:784 \n",
      "  labels: 10\n",
      "  test:       (10000, 784)\n",
      "  validation: (5000, 784)\n",
      "  train:      (55000, 784)\n"
     ]
    }
   ],
   "source": [
    "from tensorflow.examples.tutorials.mnist import input_data\n",
    "mnist = input_data.read_data_sets('MNIST_data', one_hot=True)\n",
    "MNIST = Datasets('MNIST', mnist)\n",
    "MNIST.info()"
   ]
  },
  {
   "cell_type": "code",
   "execution_count": 3,
   "metadata": {
    "collapsed": false
   },
   "outputs": [],
   "source": [
    "import tensorflow as tf\n",
    "sess = tf.InteractiveSession()"
   ]
  },
  {
   "cell_type": "code",
   "execution_count": 4,
   "metadata": {
    "collapsed": false
   },
   "outputs": [],
   "source": [
    "x = MNIST.x\n",
    "y_ = MNIST.y_"
   ]
  },
  {
   "cell_type": "code",
   "execution_count": 5,
   "metadata": {
    "collapsed": false
   },
   "outputs": [
    {
     "name": "stdout",
     "output_type": "stream",
     "text": [
      "                                 Reshape:        0     N:-1 W:28 H:28 C:1 \n",
      "                                  Conv2d:      800     N:-1 W:28 H:28 C:32 \n",
      "                                    Bias:       32     N:-1 W:28 H:28 C:32 \n",
      "                                    Relu:        0     N:-1 W:28 H:28 C:32 \n",
      "                                 MaxPool:        0     N:-1 W:14 H:14 C:32 \n",
      "                                  Conv2d:    51200     N:-1 W:14 H:14 C:64 \n",
      "                                    Bias:       64     N:-1 W:14 H:14 C:64 \n",
      "                                    Relu:        0     N:-1 W:14 H:14 C:64 \n",
      "                                 MaxPool:        0     N:-1 W:7 H:7 C:64 \n",
      "                                 Flatten:        0     N:-1 C:3136 \n",
      "                                  Linear:  3211264     N:-1 C:1024 \n",
      "                                    Bias:     1024     N:-1 C:1024 \n",
      "                                    Relu:        0     N:-1 C:1024 \n",
      "                                 Dropout:        0     N:-1 C:1024 \n",
      "                                  Linear:    10240     N:-1 C:10 \n",
      "                                    Bias:       10     N:-1 C:10 \n",
      "           SoftmaxCrossEntropyWithLogits:        0     N:-1 C:1 \n",
      "                                 Softmax:        0     N:-1 C:10 \n",
      "                                    Mean:        0     N:1 C:1 \n",
      "                                Accuracy:        0     N:1 C:1 \n"
     ]
    }
   ],
   "source": [
    "x_im = Reshape(MNIST, 'C', 'WHC', (28, 28, 1))\n",
    "\n",
    "c = Conv2d(x_im, 5, 32)\n",
    "b = Bias(c)\n",
    "relu = Relu(b)\n",
    "mp1 = MaxPool(relu, 2, stride=2)\n",
    "\n",
    "c2 = Conv2d(mp1, 5, 64)\n",
    "b2 = Bias(c2)\n",
    "relu2 = Relu(b2)\n",
    "mp2 = MaxPool(relu2, 2, stride=2)\n",
    "\n",
    "f3 = Flatten(mp2)\n",
    "l3 = Linear(f3, 1024)\n",
    "b3 = Bias(l3)\n",
    "r3 = Relu(b3)\n",
    "\n",
    "keep_prob = tf.placeholder(tf.float32)\n",
    "d4 = Dropout(r3, keep_prob)\n",
    "l4 = Linear(d4, 10)\n",
    "b4 = Bias(l4)\n",
    "\n",
    "s = SoftmaxCrossEntropyWithLogits(b4, y_)\n",
    "sm = Softmax(b4)\n",
    "ce = Mean(s)\n",
    "\n",
    "acc = Accuracy(b4, y_)"
   ]
  },
  {
   "cell_type": "code",
   "execution_count": 6,
   "metadata": {
    "collapsed": true
   },
   "outputs": [],
   "source": [
    "train_step = tf.train.AdamOptimizer(1e-4).minimize(ce.out())\n",
    "sess.run(tf.global_variables_initializer())"
   ]
  },
  {
   "cell_type": "code",
   "execution_count": null,
   "metadata": {
    "collapsed": false
   },
   "outputs": [],
   "source": [
    "trackables = [ [ ScalarTrace(acc.out(), 'Accuracy',      yFn='log', skip=100),\n",
    "                 ScalarTrace(ce.out(),  'Cross Entropy', yFn='log', skip=100), ],\n",
    "               [ BiasTrace(b.b, 'Conv1 Bias'),  WeightTrace(c.W, 'Conv1 Weights'),   OutTrace(b.out(), 'Out')],\n",
    "               [ BiasTrace(b2.b, 'Conv2 Bias'), WeightTrace(c2.W, 'Conv2 Weights'),  OutTrace(b2.out(), 'Out')],\n",
    "               [ BiasTrace(b3.b, 'Lin1 Bias'),  WeightTrace(l3.W, 'Lin1 Weights'),   OutTrace(b3.out(), 'Out')],\n",
    "               [ BiasTrace(b4.b, 'Lin2 Bias'),  WeightTrace(l4.W, 'Lin2 Weights'),   OutTrace(b4.out(), 'Out')],\n",
    "               [ OutTrace(sm.out(), 'Softmax'),\n",
    "                 TopTrace(sm.out(), 'Softmax/Top'),\n",
    "                 TopTrace(sm.out(), 'Softmax/2nd', index=-2), ],\n",
    "             ]\n",
    "\n",
    "track = Track(trackables)"
   ]
  },
  {
   "cell_type": "code",
   "execution_count": null,
   "metadata": {
    "collapsed": false,
    "scrolled": false
   },
   "outputs": [
    {
     "name": "stdout",
     "output_type": "stream",
     "text": [
      "   0    1    2    3    4    5    6    7    8    9  96.4400\n",
      "  10   11   12   13   14   15   16   17   18   19  97.6400\n",
      "  20   21   22   23   24   25   26   27   28   29  98.1200\n",
      "  30   31   32   33   34   35   36   37   38   39  98.5400\n",
      "  40   41"
     ]
    }
   ],
   "source": [
    "def train(track, epochs=200):\n",
    "    nodes = track.nodes()\n",
    "    for i in range(epochs):\n",
    "        for j in range(100):\n",
    "            batch = mnist.train.next_batch(50)\n",
    "            vals = sess.run([train_step] + nodes, feed_dict={x: batch[0], y_: batch[1], keep_prob: 0.5})\n",
    "            track.addBatch(vals[1:])\n",
    "        r = sess.run(nodes, feed_dict={x: mnist.validation.images, y_: mnist.validation.labels, keep_prob: 1.0})\n",
    "        print '%4d' % i,\n",
    "        if (i+1) % 10 == 0:\n",
    "            print '%8.04f' % (r[0]*100)\n",
    "        track.addEpoch(r)\n",
    "        \n",
    "train(track)"
   ]
  },
  {
   "cell_type": "code",
   "execution_count": null,
   "metadata": {
    "collapsed": false,
    "scrolled": false
   },
   "outputs": [],
   "source": [
    "track.plotAll(width=18, height=30)"
   ]
  },
  {
   "cell_type": "code",
   "execution_count": null,
   "metadata": {
    "collapsed": false
   },
   "outputs": [],
   "source": [
    "print(\"test accuracy %g\" % \n",
    "          acc.out().eval(\n",
    "            feed_dict={ x: mnist.test.images, y_: mnist.test.labels, keep_prob: 1.0}))"
   ]
  }
 ],
 "metadata": {
  "kernelspec": {
   "display_name": "Python 2",
   "language": "python",
   "name": "python2"
  },
  "language_info": {
   "codemirror_mode": {
    "name": "ipython",
    "version": 2
   },
   "file_extension": ".py",
   "mimetype": "text/x-python",
   "name": "python",
   "nbconvert_exporter": "python",
   "pygments_lexer": "ipython2",
   "version": "2.7.13"
  }
 },
 "nbformat": 4,
 "nbformat_minor": 2
}
