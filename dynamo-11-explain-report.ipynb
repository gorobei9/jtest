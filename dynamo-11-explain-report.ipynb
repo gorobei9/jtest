{
 "cells": [
  {
   "cell_type": "markdown",
   "metadata": {},
   "source": [
    "# An Explain Report\n",
    "\n",
    "This is a POC for an explain report: given a number at time T1 and time T2, introspect the clocks involved to produce a simple linear breakdown\n",
    "of what changed on various timelines to account for the change in the number between T1 and T2.\n",
    "\n",
    "The report is an ordered sequence of clock changes: the sum of changes should equal to the total change. The order of application is important: change the\n",
    "ordering, and the resultant values may change. It's not a Jacobian-type report with T1 deltas and no ordering.\n",
    "\n",
    "The real reason for this workbook is to start working on the node class optimizations and metadata management."
   ]
  },
  {
   "cell_type": "markdown",
   "metadata": {},
   "source": [
    "## Footnotes\n",
    "\n",
    "Footnotes are one of the simplest types of metadata:\n",
    "* Any computation (even a simple read of a constant value) may declare it has footnotes\n",
    "* Every computation gets the footnote of all its inputs\n",
    "\n",
    "Footnoting is based on a number of observations about large software systems (say, 1M LOC or more):\n",
    "* Any complex report (i.e. computation output) will generally be somewhat wrong, misleading, or out of date.\n",
    "* If you want 100% correctness and truth, your report will raise an exception every time you run it.\n",
    "* If you just want it to run, you'll get a result, but some log file on some machine in some compute farm will have a message explaining why your result is wrong.\n",
    "* And you won't see that message.\n",
    "* And that message may have leaked information that bad actors can read.\n",
    "* And you won't trust this system, so your own developers will copy the underlying data and write their own version of the report with all the same issues.\n",
    "* Now you don't have a problem, but your company now has two problems.\n",
    "\n",
    "Footnotes summary:\n",
    "* Are the documentation of problems from the producer's point of view\n",
    "* Make no claim about usability of results, etc, for a specific consumer\n",
    "* May be programmatically removed/condensed/replaced at controlled code points\n"
   ]
  },
  {
   "cell_type": "code",
   "execution_count": 1,
   "metadata": {
    "collapsed": false
   },
   "outputs": [
    {
     "ename": "ImportError",
     "evalue": "No module named mand.core",
     "output_type": "error",
     "traceback": [
      "\u001b[0;31m---------------------------------------------------------------------------\u001b[0m",
      "\u001b[0;31mImportError\u001b[0m                               Traceback (most recent call last)",
      "\u001b[0;32m<ipython-input-1-4fdb350f55dd>\u001b[0m in \u001b[0;36m<module>\u001b[0;34m()\u001b[0m\n\u001b[0;32m----> 1\u001b[0;31m \u001b[0;32mfrom\u001b[0m \u001b[0mmand\u001b[0m\u001b[0;34m.\u001b[0m\u001b[0mcore\u001b[0m \u001b[0;32mimport\u001b[0m \u001b[0mEntity\u001b[0m\u001b[0;34m,\u001b[0m \u001b[0mnode\u001b[0m\u001b[0;34m,\u001b[0m \u001b[0mContext\u001b[0m\u001b[0;34m\u001b[0m\u001b[0m\n\u001b[0m\u001b[1;32m      2\u001b[0m \u001b[0;32mfrom\u001b[0m \u001b[0mmand\u001b[0m\u001b[0;34m.\u001b[0m\u001b[0mcore\u001b[0m \u001b[0;32mimport\u001b[0m \u001b[0mObjectDb\u001b[0m\u001b[0;34m,\u001b[0m \u001b[0mTimestamp\u001b[0m\u001b[0;34m,\u001b[0m \u001b[0mgetNode\u001b[0m\u001b[0;34m,\u001b[0m \u001b[0m_tr\u001b[0m\u001b[0;34m\u001b[0m\u001b[0m\n\u001b[1;32m      3\u001b[0m \u001b[0;32mfrom\u001b[0m \u001b[0mmand\u001b[0m\u001b[0;34m.\u001b[0m\u001b[0mcore\u001b[0m \u001b[0;32mimport\u001b[0m \u001b[0mProfileMonitor\u001b[0m\u001b[0;34m\u001b[0m\u001b[0m\n\u001b[1;32m      4\u001b[0m \u001b[0;32mfrom\u001b[0m \u001b[0mmand\u001b[0m\u001b[0;34m.\u001b[0m\u001b[0mcore\u001b[0m \u001b[0;32mimport\u001b[0m \u001b[0mdisplayDict\u001b[0m\u001b[0;34m,\u001b[0m \u001b[0mdisplayMarkdown\u001b[0m\u001b[0;34m,\u001b[0m \u001b[0mdisplayListOfDicts\u001b[0m\u001b[0;34m,\u001b[0m \u001b[0mdisplayHeader\u001b[0m\u001b[0;34m\u001b[0m\u001b[0m\n\u001b[1;32m      5\u001b[0m \u001b[0;32mfrom\u001b[0m \u001b[0mmand\u001b[0m\u001b[0;34m.\u001b[0m\u001b[0mcore\u001b[0m \u001b[0;32mimport\u001b[0m \u001b[0mfind\u001b[0m\u001b[0;34m\u001b[0m\u001b[0m\n",
      "\u001b[0;31mImportError\u001b[0m: No module named mand.core"
     ]
    }
   ],
   "source": [
    "from mand.core import Entity, node, Context\n",
    "from mand.core import ObjectDb, Timestamp, getNode, _tr\n",
    "from mand.core import ProfileMonitor\n",
    "from mand.core import displayDict, displayMarkdown, displayListOfDicts, displayHeader\n",
    "from mand.core import find\n",
    "from mand.demos.trading import makeWorld, bookSomeTrades\n",
    "\n",
    "db = ObjectDb()\n",
    "\n",
    "from mand.lib.dbsetup import setUpDb\n",
    "setUpDb(db)\n",
    "db.describe()"
   ]
  },
  {
   "cell_type": "code",
   "execution_count": null,
   "metadata": {
    "collapsed": false
   },
   "outputs": [],
   "source": [
    "with db:\n",
    "    pWorld = makeWorld()\n",
    "    \n",
    "pAll, bExt, bExt2 = pWorld.children()\n",
    "p1 = pAll.children()[0]\n",
    "p2 = pAll.children()[1]\n",
    "p4 = pAll.children()[3]\n",
    "\n",
    "b2 = p2.children()[0]\n",
    "b4 = p4.children()[0]"
   ]
  },
  {
   "cell_type": "markdown",
   "metadata": {},
   "source": [
    "# Book some trades\n",
    "\n",
    "This time, we throw a few thousand in..."
   ]
  },
  {
   "cell_type": "code",
   "execution_count": null,
   "metadata": {
    "collapsed": false
   },
   "outputs": [],
   "source": [
    "ts0, ts1, ts2, ts3, ts4, ts5, eod, ts6 = bookSomeTrades(pWorld)"
   ]
  },
  {
   "cell_type": "markdown",
   "metadata": {},
   "source": [
    "# An Explain Report\n",
    "\n",
    "This is a mix of abstractions at the Core, DBA, and BA, and User levels. But, it does the job for now..."
   ]
  },
  {
   "cell_type": "code",
   "execution_count": null,
   "metadata": {
    "collapsed": false,
    "scrolled": false
   },
   "outputs": [],
   "source": [
    "class Report(Entity):\n",
    "    @node(stored=True)\n",
    "    def valuable(self):\n",
    "        return None\n",
    "    \n",
    "    @node(stored=True)\n",
    "    def ts1(self):\n",
    "        return None\n",
    "    \n",
    "    @node(stored=True)\n",
    "    def ts2(self):\n",
    "        return None\n",
    "    \n",
    "    @node\n",
    "    def cutoffs(self):\n",
    "        valuable = self.valuable()\n",
    "        ts1 = self.ts1()\n",
    "        ts2 = self.ts2()\n",
    "        \n",
    "        clock = valuable.getObj(_tr.RootClock, 'Main')\n",
    "        \n",
    "        def cuts(ts):\n",
    "            def fn(node):\n",
    "                obj = node.key.object()\n",
    "                m = node.key.shortName()\n",
    "                if isinstance(obj, _tr.Clock) and m == 'cutoffs':\n",
    "                    return True\n",
    "            with Context({clock.cutoffs: ts}, 'Clocks'):\n",
    "                nodes = find(valuable.NPV, fn)\n",
    "                return nodes\n",
    "\n",
    "        ret = {}\n",
    "        for n in cuts(ts1):\n",
    "            ret[n.key._key] = n\n",
    "        for n in cuts(ts2):\n",
    "            ret[n.key._key] = n\n",
    "        return ret.values()\n",
    "    \n",
    "    @node\n",
    "    def data(self):\n",
    "        valuable = self.valuable()\n",
    "        ts1 = self.ts1()\n",
    "        ts2 = self.ts2()\n",
    "        clock = valuable.getObj(_tr.RootClock, 'Main')\n",
    "    \n",
    "        nodes = self.cutoffs()\n",
    "    \n",
    "        # IRL, we'd sort these according to some business req...\n",
    "        # And our clocks might be arranged in an N-level tree...\n",
    "        nodes = sorted(nodes, key = lambda node: node.object().meta.name())\n",
    "    \n",
    "        data = []\n",
    "        curr = [0]\n",
    "        def add(title, npv):\n",
    "            pnl = npv - curr[0]\n",
    "            curr[0] = npv\n",
    "            data.append( {'Activity': title, 'PnL': pnl } )\n",
    "\n",
    "        with Context({clock.cutoffs: ts1}, 'Start'):\n",
    "            curr = [ valuable.NPV() ] # Starting balance\n",
    "    \n",
    "        tweaks = {}\n",
    "        for n in nodes:\n",
    "            tweaks[n] = ts1\n",
    "        with Context(tweaks, name='Start breaks'):\n",
    "            start = valuable.NPV()\n",
    "            add('Starting balance breaks', start)\n",
    "\n",
    "        tsAmend = Timestamp(t=ts2.transactionTime, v=ts1.validTime)\n",
    "        # XXX - modifying tweaks in place is a bit evil\n",
    "        # This is only safe because I know Context() effectively copies, so this works\n",
    "        # for now.\n",
    "        for n in nodes:\n",
    "            tweaks[n] = tsAmend\n",
    "            name = n.object().meta.name()\n",
    "            with Context(tweaks, name='Amend %s' % name):\n",
    "                add('prior day amends: %s' % name, valuable.NPV())\n",
    "        for n in nodes:\n",
    "            tweaks[n] = ts2\n",
    "            name = n.object().meta.name()\n",
    "            with Context(tweaks, name='Activity %s' % name):\n",
    "                add('activity: %s' % name, valuable.NPV())\n",
    "    \n",
    "        with Context({clock.cutoffs: ts2}, name='End'):\n",
    "            end = valuable.NPV()\n",
    "            add('Ending balance breaks', end)\n",
    "\n",
    "        title = 'PnL explain for %s: %s' % (valuable.meta.name(), end-start)\n",
    "        return data, title\n",
    "\n",
    "    def run(self):\n",
    "        data, title = self.data()\n",
    "        node = getNode(self.data)\n",
    "        footnotes = node.footnotes.values()\n",
    "        displayHeader('%s' % title)\n",
    "        if footnotes:\n",
    "            displayMarkdown('**Caveat: this report encountered problems. See footnotes at bottom.**')\n",
    "        displayListOfDicts(data, names=['Activity', 'PnL'] )\n",
    "        if footnotes:\n",
    "            displayMarkdown('## Footnotes:')\n",
    "            displayMarkdown(node.footnoteMarkdown())\n",
    "    \n",
    "r = Report(valuable=pAll, ts1=eod, ts2=ts6)\n",
    "r.run()"
   ]
  },
  {
   "cell_type": "markdown",
   "metadata": {},
   "source": [
    "## Add some inconsistent data [Test]\n",
    "\n",
    "Book b2 should appear multiple times in some portfolio trees and be flagged accordingly..."
   ]
  },
  {
   "cell_type": "code",
   "execution_count": null,
   "metadata": {
    "collapsed": false
   },
   "outputs": [],
   "source": [
    "with db:\n",
    "    p1.setChildren(p1.children() + [b2])\n",
    "\n",
    "ts7 = Timestamp()"
   ]
  },
  {
   "cell_type": "markdown",
   "metadata": {},
   "source": [
    "# Footnotes\n",
    "\n",
    "Note the report calculation has run, but attached appropriate caveats to the output:"
   ]
  },
  {
   "cell_type": "code",
   "execution_count": null,
   "metadata": {
    "collapsed": false,
    "scrolled": false
   },
   "outputs": [],
   "source": [
    "db3 = db.copy()\n",
    "p = db3._get(pAll.meta.path())\n",
    "\n",
    "with ProfileMonitor(mode='sum'): \n",
    "    r = Report(valuable=p, ts1=eod, ts2=ts7)\n",
    "    r.run()"
   ]
  }
 ],
 "metadata": {
  "kernelspec": {
   "display_name": "Python 2",
   "language": "python",
   "name": "python2"
  },
  "language_info": {
   "codemirror_mode": {
    "name": "ipython",
    "version": 2
   },
   "file_extension": ".py",
   "mimetype": "text/x-python",
   "name": "python",
   "nbconvert_exporter": "python",
   "pygments_lexer": "ipython2",
   "version": "2.7.13"
  }
 },
 "nbformat": 4,
 "nbformat_minor": 2
}
