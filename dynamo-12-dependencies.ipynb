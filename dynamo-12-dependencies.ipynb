{
 "cells": [
  {
   "cell_type": "code",
   "execution_count": 1,
   "metadata": {
    "collapsed": false
   },
   "outputs": [],
   "source": [
    "from mand.core import Entity, node, getNode\n",
    "from mand.core import ObjectDb, Timestamp, Context, _tr\n",
    "from mand.core import ProfileMonitor, SummaryMonitor\n",
    "from mand.core import find, addFootnote\n",
    "from mand.demos.trading import makeWorld, bookSomeTrades, PnLExplainReport\n",
    "from mand.lib.dbsetup import setUpDb\n",
    "\n",
    "db = ObjectDb()\n",
    "setUpDb(db)"
   ]
  },
  {
   "cell_type": "code",
   "execution_count": 2,
   "metadata": {
    "collapsed": false,
    "scrolled": false
   },
   "outputs": [
    {
     "name": "stdout",
     "output_type": "stream",
     "text": [
      "makeWorld, TopOfTheHouse is: <Entity:/Global/TradingPortfolio/TopOfTheHouse>\n",
      "    # books: 100\n",
      "    # children: 10\n"
     ]
    }
   ],
   "source": [
    "with db:\n",
    "    pWorld = makeWorld()\n",
    "    \n",
    "pAll, bExt, bExt2 = pWorld.children()\n",
    "p1 = pAll.children()[0]\n",
    "p2 = pAll.children()[1]\n",
    "p4 = pAll.children()[3]\n",
    "\n",
    "b2 = p2.children()[0]\n",
    "b4 = p4.children()[0]"
   ]
  },
  {
   "cell_type": "code",
   "execution_count": 3,
   "metadata": {
    "collapsed": false
   },
   "outputs": [],
   "source": [
    "ts0, ts1, ts2, ts3, ts4, ts5, eod, ts6 = bookSomeTrades(pWorld)\n",
    "\n",
    "p1.setChildren(p1.children() + [b2])\n",
    "ts7 = Timestamp()"
   ]
  },
  {
   "cell_type": "markdown",
   "metadata": {},
   "source": [
    "# Sanity check of a computation we might want to optimize [Test]\n",
    "\n",
    "The PnL report is a good test, but at 152K getValues, it's a bit too big to immediately use:"
   ]
  },
  {
   "cell_type": "code",
   "execution_count": 4,
   "metadata": {
    "collapsed": false,
    "scrolled": false
   },
   "outputs": [
    {
     "data": {
      "text/markdown": [
       "# PnL explain for TopOfTheHouse: 6256.00"
      ],
      "text/plain": [
       "<IPython.core.display.Markdown object>"
      ]
     },
     "metadata": {},
     "output_type": "display_data"
    },
    {
     "data": {
      "text/markdown": [
       "**Caveat: this report encountered problems. See footnotes at bottom.**"
      ],
      "text/plain": [
       "<IPython.core.display.Markdown object>"
      ]
     },
     "metadata": {},
     "output_type": "display_data"
    },
    {
     "data": {
      "text/markdown": [
       "|Activity|PnL|\n",
       "|-|-|\n",
       "|Starting balance breaks|0.00\n",
       "|prior day amends: MarketData|0.00\n",
       "|prior day amends: Portfolio|0.00\n",
       "|prior day amends: Trading|-4.00\n",
       "|activity: MarketData|5240.00\n",
       "|activity: Portfolio|1020.00\n",
       "|activity: Trading|0.00\n",
       "|Ending balance breaks|0.00"
      ],
      "text/plain": [
       "<IPython.core.display.Markdown object>"
      ]
     },
     "metadata": {},
     "output_type": "display_data"
    },
    {
     "data": {
      "text/markdown": [
       "## Footnotes:\n",
       "1. Inadequate cash discounting model used\n",
       "1. Book appears multiple times\n",
       "  * /Global/TradingBook/Eq-Inst0"
      ],
      "text/plain": [
       "<IPython.core.display.Markdown object>"
      ]
     },
     "metadata": {},
     "output_type": "display_data"
    },
    {
     "data": {
      "text/markdown": [
       "# Compute activity summary (33.37 seconds of wall clock time)"
      ],
      "text/plain": [
       "<IPython.core.display.Markdown object>"
      ]
     },
     "metadata": {},
     "output_type": "display_data"
    },
    {
     "data": {
      "text/markdown": [
       "|key|value|\n",
       "|-|-|\n",
       "|Context|11\n",
       "|Db.Get|2176\n",
       "|GetValue|152158\n",
       "|GetValue/Calc|2891"
      ],
      "text/plain": [
       "<IPython.core.display.Markdown object>"
      ]
     },
     "metadata": {},
     "output_type": "display_data"
    },
    {
     "data": {
      "text/markdown": [
       "\n",
       "### Profile by nodes.\n",
       "* times are in microseconds\n",
       "* cumT is total time spent in funtion\n",
       "* calcT is time spent in function, but not in a child node"
      ],
      "text/plain": [
       "<IPython.core.display.Markdown object>"
      ]
     },
     "metadata": {},
     "output_type": "display_data"
    },
    {
     "data": {
      "text/markdown": [
       "|fn|n|cumT|calcT|cumT/call|sys|\n",
       "|-|-|-|-|-|-|\n",
       "|PnLExplainReport:data|1|33,346,873|27|33,346,873|GetValue\n",
       "|PnLExplainReport:data|1|33,346,845|807|33,346,845|GetValue/Calc\n",
       "|TradingContainer:NPV|11|33,244,371|257|3,022,215|GetValue\n",
       "|TradingContainer:NPV|11|33,244,113|159|3,022,192|GetValue/Calc\n",
       "|Portfolio:items|121|32,952,086|2,269|272,331|GetValue\n",
       "|Portfolio:items|121|32,951,903|1,637|272,329|GetValue/Calc\n",
       "|Workbook:items|1,104|31,246,024|21,713|28,302|GetValue\n",
       "|Workbook:items|1,100|31,224,310|17,114|28,385|GetValue/Calc\n",
       "|PnLExplainReport:cutoffs|1|18,008,327|31|18,008,327|GetValue\n",
       "|PnLExplainReport:cutoffs|1|18,008,296|265|18,008,296|GetValue/Calc\n",
       "|Root:Clocks|548|18,007,879|3,220,824|32,861|Context\n",
       "|TradeOpenEvent|1,014|7,378,299|7,378,299|7,276|Db.Get\n",
       "|TradeOpenEvent:ticket|22,286|6,420,828|221,852|288|GetValue\n",
       "|TradingTicket|1,014|6,198,976|6,198,976|6,113|Db.Get\n",
       "|Root:Activity Portfolio|263|1,985,954|1,836,719|7,551|Context\n",
       "|Root:End|278|1,777,172|1,621,580|6,392|Context\n",
       "|Root:Amend Trading|255|1,776,880|1,640,272|6,968|Context\n",
       "|Root:Amend MarketData|255|1,758,508|1,620,258|6,896|Context\n",
       "|Root:Activity Trading|263|1,722,955|1,568,432|6,551|Context\n",
       "|Root:Start breaks|255|1,647,405|1,515,661|6,460|Context\n",
       "|Portfolio:children|242|1,628,362|3,466|6,728|GetValue\n",
       "|Portfolio:children|121|1,624,895|1,745|13,428|GetValue/Calc\n",
       "|Root:Activity MarketData|255|1,607,132|1,463,659|6,302|Context\n",
       "|Root:Amend Portfolio|255|1,544,911|1,407,363|6,058|Context\n",
       "|Root:Start|270|1,510,550|1,378,926|5,594|Context\n",
       "|PortfolioUpdateEvent:children|121|664,531|5,105|5,491|GetValue\n",
       "|TradingBook|102|611,799|611,799|5,998|Db.Get\n",
       "|Equity:NPV|15|287,924|357|19,194|GetValue\n",
       "|Equity:NPV|15|287,566|222|19,171|GetValue/Calc\n",
       "|MarketInterface:spot|15|272,759|290|18,183|GetValue\n",
       "|MarketInterface:spot|15|272,469|207|18,164|GetValue/Calc\n",
       "|ExternalRefData:state|15|257,442|247|17,162|GetValue\n",
       "|ExternalRefData:state|15|257,194|207|17,146|GetValue/Calc\n",
       "|RefData:state|15|256,311|262|17,087|GetValue\n",
       "|RefData:state|15|256,048|220|17,069|GetValue/Calc\n",
       "|_WorkItemEvent:book2|22,286|212,961|200,808|9|GetValue\n",
       "|_WorkItemEvent:book1|22,286|206,007|206,007|9|GetValue\n",
       "|TradeOpenEvent:quantity|22,286|184,289|184,289|8|GetValue\n",
       "|Clock:cutoffs|2,480|179,704|17,982|72|GetValue\n",
       "|Clock:cutoffs|20|161,860|268|8,093|GetValue/Calc\n",
       "|Clock:parent|20|160,107|345|8,005|GetValue\n",
       "|Clock:parent|20|159,762|290|7,988|GetValue/Calc\n",
       "|_WorkItemEvent:item|11,143|151,168|138,293|13|GetValue\n",
       "|TradeOpenEvent:action|11,143|132,937|132,937|11|GetValue\n",
       "|TradeOpenEvent:premium|11,143|131,807|125,725|11|GetValue\n",
       "|TradeOpenEvent:unitPrice|11,143|111,671|111,671|10|GetValue\n",
       "|TradingBook:clock|2,200|106,044|41,314|48|GetValue\n",
       "|Event:amends|11,340|105,500|105,500|9|GetValue\n",
       "|PortfolioUpdateEvent|12|85,692|85,692|7,141|Db.Get\n",
       "|TradingBook:clock|1,100|64,730|22,095|58|GetValue/Calc\n",
       "|RefDataUpdateEvent|9|61,884|61,884|6,876|Db.Get\n",
       "|TradingPortfolio|10|59,779|59,779|5,977|Db.Get\n",
       "|Clock|5|31,201|31,201|6,240|Db.Get\n",
       "|Portfolio:books|231|17,237|3,388|74|GetValue\n",
       "|Portfolio:clock|242|16,340|4,413|67|GetValue\n",
       "|Portfolio:books|121|14,604|1,727|120|GetValue/Calc\n",
       "|MarketInterface:source|15|13,722|253|914|GetValue\n",
       "|ClockEvent|2|13,715|13,715|6,857|Db.Get\n",
       "|Equity:refdata|15|13,516|289|901|GetValue\n",
       "|MarketInterface:source|15|13,468|239|897|GetValue/Calc\n",
       "|ClockEvent:parent|8|13,460|153|1,682|GetValue\n",
       "|Equity:refdata|15|13,226|209|881|GetValue/Calc\n",
       "|Equity|2|12,875|12,875|6,437|Db.Get\n",
       "|Portfolio:clock|121|11,927|2,431|98|GetValue/Calc\n",
       "|MarketInterface|2|11,910|11,910|5,955|Db.Get\n",
       "|MarketDataSource|2|11,624|11,624|5,812|Db.Get\n",
       "|MarketDataSource:clock|30|7,276|495|242|GetValue\n",
       "|MarketDataSource:clock|15|6,780|293|452|GetValue/Calc\n",
       "|RootClock|1|6,203|6,203|6,203|Db.Get\n",
       "|ForwardCashflow|1|6,082|6,082|6,082|Db.Get\n",
       "|Entity:clock|40|1,604|671|40|GetValue\n",
       "|Entity:clock|20|932|387|46|GetValue/Calc\n",
       "|MarketInterface:sourceName|15|722|291|48|GetValue\n",
       "|ForwardCashflow:NPV|11|658|225|59|GetValue\n",
       "|RefDataUpdateEvent:data|58|535|535|9|GetValue\n",
       "|RootClock:cutoffs|53|487|373|9|GetValue\n",
       "|ForwardCashflow:NPV|11|432|161|39|GetValue/Calc\n",
       "|MarketInterface:sourceName|15|430|214|28|GetValue/Calc\n",
       "|Equity:assetName|15|201|201|13|GetValue\n",
       "|RootClock:cutoffs|1|113|55|113|GetValue/Calc\n",
       "|RootClock:cosmicAll|1|32|18|32|GetValue\n",
       "|CosmicAll:dbState|1|25|16|25|GetValue\n",
       "|PnLExplainReport:ts1|2|22|22|11|GetValue\n",
       "|PnLExplainReport:valuable|2|17|17|8|GetValue\n",
       "|PnLExplainReport:ts2|2|15|15|7|GetValue\n",
       "|RootClock:cosmicAll|1|14|14|14|GetValue/Calc\n",
       "|CosmicAll:dbState|1|9|9|9|GetValue/Calc"
      ],
      "text/plain": [
       "<IPython.core.display.Markdown object>"
      ]
     },
     "metadata": {},
     "output_type": "display_data"
    }
   ],
   "source": [
    "db3 = db.copy()\n",
    "p = db3._get(pAll.meta.path())\n",
    "\n",
    "r = PnLExplainReport(valuable=p, ts1=eod, ts2=ts7)\n",
    "\n",
    "with ProfileMonitor():\n",
    "    with SummaryMonitor():\n",
    "        r.run()"
   ]
  },
  {
   "cell_type": "markdown",
   "metadata": {},
   "source": [
    "# Caching/Reusing results\n",
    "\n",
    "Until now, we have just checked to see if the current context contains a value for a node we are asking for, and if so, reuse that.\n",
    "\n",
    "A better approach to caching bound *fn* on *object* in *context0* is:\n",
    "    \n",
    "1. Has fn been tweaked in context0? If so, return that\n",
    "2. Is fn sufficiently trivial that we can avoid managing it as a node?\n",
    "  * If trivial, just treat it as a pure python function and call it\n",
    "  * Meta-data (inputs, outputs, etc) will be given to its caller and callees as appropriate\n",
    "3. Ask object for context1\n",
    "  * *context1* is a simplified version of *context0*\n",
    "  * The default case is just to return *context1*\n",
    "  * IRL, this could actually be a list of contexts or a pattern to match contexts against\n",
    "4. Is fn cached in *context1*? If so, use that\n",
    "5. Compute *fn* in *context1*\n",
    "6. Construct *context2* from the inputs of the computed value\n",
    "7. If *context2* is a subset of *context1*, cache *fn* in *context1*\n",
    "8. Something odd happened\n",
    "  * Footnote the problem as part of computation notes on the node's metadata\n",
    "  * Maybe cache the node anyway in *context2*\n",
    "    * Perhaps *object* will return *context2* as a siplification for future computations?\n",
    "9. Return the value\n",
    "\n",
    "Notes:\n",
    "* Parallel compute of nodes not considered yet\n",
    "* Context simplification (step 3) and input simplification (step 9) are probably intimately related\n",
    "* The split between calculation and caching is nice:\n",
    "  * BAs can write business logic\n",
    "  * Computer scientists can add caching logic where needed\n",
    "* We can use a profiler type object to gather runtime compute cost infomation\n",
    "  * The resulting trace can be used as input to drive step 2 and step 3\n",
    "    "
   ]
  },
  {
   "cell_type": "code",
   "execution_count": 5,
   "metadata": {
    "collapsed": false,
    "scrolled": false
   },
   "outputs": [
    {
     "name": "stdout",
     "output_type": "stream",
     "text": [
      "40.85\n"
     ]
    },
    {
     "data": {
      "text/markdown": [
       "# Compute activity summary (0.33 seconds of wall clock time)"
      ],
      "text/plain": [
       "<IPython.core.display.Markdown object>"
      ]
     },
     "metadata": {},
     "output_type": "display_data"
    },
    {
     "data": {
      "text/markdown": [
       "|key|value|\n",
       "|-|-|\n",
       "|Context|1\n",
       "|Db.Get|35\n",
       "|GetValue|185\n",
       "|GetValue/Calc|24"
      ],
      "text/plain": [
       "<IPython.core.display.Markdown object>"
      ]
     },
     "metadata": {},
     "output_type": "display_data"
    },
    {
     "name": "stdout",
     "output_type": "stream",
     "text": [
      "<Node: /Global/TradingBook/Rates0.(TradingContainer:NPV)() in Root:4478373784 @4581901008 T=False>, nIn=3\n",
      "   <Node: /Global/Equity/4b90c5a7-2095-47b7-8306-110b555da62f.(Equity:NPV)() in Root:4478373784 @4624176720 T=False>, nIn=2\n",
      "      <Node: /Global/Equity/4b90c5a7-2095-47b7-8306-110b555da62f.(Equity:refdata)() in Root:4478373784 @4624176784 T=False>, nIn=1\n",
      "         <Node: /Global/Equity/4b90c5a7-2095-47b7-8306-110b555da62f.(Equity:assetName)() in Root:4478373784 @4624176912 T=False>, nIn=0\n",
      "      <Node: /Global/MarketInterface/GOOG.(MarketInterface:spot)() in Root:4478373784 @4624177808 T=True>, nIn=2\n",
      "         <Node: /Global/MarketDataSource/source1.GOOG.(ExternalRefData:state)() in Root:4478373784 @4624178960 T=False>, nIn=1\n",
      "            <Node: /Global/MarketDataSource/source1.GOOG.(RefData:state)() in Root:4478373784 @4643647696 T=False>, nIn=10\n",
      "               <Node: /Global/Clock/MarketData.(Clock:cutoffs)() in Root:4478373784 @4605196560 T=True>, nIn=2\n",
      "                  <Node: /Global/Clock/MarketData.(Clock:parent)() in Root:4478373784 @4605197968 T=False>, nIn=4\n",
      "                     <Node: /Global/Clock/MarketData.(Entity:clock)() in Root:4478373784 @4643648528 T=False>, nIn=0\n",
      "                     <Node: /Global/ClockEvent/2fbd42d9-3c2a-4233-b187-29e3d5953e20.(ClockEvent:parent)() in Root:4478373784 @4643648464 T=False>, nIn=0\n",
      "                     <Node: /Global/ClockEvent/2fbd42d9-3c2a-4233-b187-29e3d5953e20.(Event:amends)() in Root:4478373784 @4643648592 T=False>, nIn=0\n",
      "                     <Node: /Global/RootClock/Main.(RootClock:cutoffs)() in Root:4478373784 @4581900816 T=True>, nIn=0\n",
      "                  <Node: /Global/Clock/RefData.(Clock:cutoffs)() in Root:4478373784 @4643649872 T=True>, nIn=2\n",
      "                     <Node: /Global/Clock/RefData.(Clock:parent)() in Root:4478373784 @4643649744 T=False>, nIn=2\n",
      "                        <Node: /Global/Clock/RefData.(Entity:clock)() in Root:4478373784 @4643650960 T=False>, nIn=0\n",
      "                        <Node: /Global/RootClock/Main.(RootClock:cutoffs)() in Root:4478373784 @4581900816 T=True>, nIn=0\n",
      "                     <Node: /Global/RootClock/Main.(RootClock:cutoffs)() in Root:4478373784 @4581900816 T=True>, nIn=0\n",
      "               <Node: /Global/MarketDataSource/source1.GOOG.(MarketDataSource:clock)() in Root:4478373784 @4581902544 T=False>, nIn=0\n",
      "               <Node: /Global/RefDataUpdateEvent/090b8f94-c584-4310-9760-24481d9b8be0.(Event:amends)() in Root:4478373784 @4643650832 T=False>, nIn=0\n",
      "               <Node: /Global/RefDataUpdateEvent/090b8f94-c584-4310-9760-24481d9b8be0.(RefDataUpdateEvent:data)() in Root:4478373784 @4683653392 T=False>, nIn=0\n",
      "               <Node: /Global/RefDataUpdateEvent/19ec1313-9e92-48c9-9828-d92beaace193.(Event:amends)() in Root:4478373784 @4643651152 T=False>, nIn=0\n",
      "               <Node: /Global/RefDataUpdateEvent/19ec1313-9e92-48c9-9828-d92beaace193.(RefDataUpdateEvent:data)() in Root:4478373784 @4643651536 T=False>, nIn=0\n",
      "               <Node: /Global/RefDataUpdateEvent/be0ca1db-7640-4664-802d-52c1a323876d.(Event:amends)() in Root:4478373784 @4643651216 T=False>, nIn=0\n",
      "               <Node: /Global/RefDataUpdateEvent/be0ca1db-7640-4664-802d-52c1a323876d.(RefDataUpdateEvent:data)() in Root:4478373784 @4683653264 T=False>, nIn=0\n",
      "               <Node: /Global/RefDataUpdateEvent/eb949dc5-e9ff-4e6d-be1b-d992f09f7d6a.(Event:amends)() in Root:4478373784 @4643650192 T=False>, nIn=0\n",
      "               <Node: /Global/RefDataUpdateEvent/eb949dc5-e9ff-4e6d-be1b-d992f09f7d6a.(RefDataUpdateEvent:data)() in Root:4478373784 @4643651408 T=False>, nIn=0\n",
      "         <Node: /Global/MarketInterface/GOOG.(MarketInterface:source)() in Root:4478373784 @4624178128 T=False>, nIn=1\n",
      "            <Node: /Global/MarketInterface/GOOG.(MarketInterface:sourceName)() in Root:4478373784 @4624178000 T=False>, nIn=0\n",
      "   <Node: /Global/ForwardCashflow/01f4bc87-5cf1-445f-8702-6cf843551cb0.(ForwardCashflow:NPV)() in Root:4478373784 @4624175504 T=False>, nIn=0\n",
      "   <Node: /Global/TradingBook/Rates0.(Workbook:items)() in Root:4478373784 @4581900944 T=False>, nIn=92\n",
      "      <Node: /Global/Clock/Trading.(Clock:cutoffs)() in Root:4478373784 @4594684112 T=True>, nIn=2\n",
      "         <Node: /Global/Clock/Trading.(Clock:parent)() in Root:4478373784 @4594685008 T=False>, nIn=4\n",
      "            <Node: /Global/Clock/Trading.(Entity:clock)() in Root:4478373784 @4581904080 T=False>, nIn=0\n",
      "            <Node: /Global/ClockEvent/509ddc4a-f3ef-464d-9e6e-3fcae0d1f11a.(ClockEvent:parent)() in Root:4478373784 @4581902736 T=False>, nIn=0\n",
      "            <Node: /Global/ClockEvent/509ddc4a-f3ef-464d-9e6e-3fcae0d1f11a.(Event:amends)() in Root:4478373784 @4581903184 T=False>, nIn=0\n",
      "            <Node: /Global/RootClock/Main.(RootClock:cutoffs)() in Root:4478373784 @4581900816 T=True>, nIn=0\n",
      "         <Node: /Global/Clock/Workflow.(Clock:cutoffs)() in Root:4478373784 @4581901776 T=True>, nIn=2\n",
      "            <Node: /Global/Clock/Workflow.(Clock:parent)() in Root:4478373784 @4581901712 T=False>, nIn=2\n",
      "               <Node: /Global/Clock/Workflow.(Entity:clock)() in Root:4478373784 @4794445648 T=False>, nIn=0\n",
      "               <Node: /Global/RootClock/Main.(RootClock:cutoffs)() in Root:4478373784 @4581900816 T=True>, nIn=0\n",
      "            <Node: /Global/RootClock/Main.(RootClock:cutoffs)() in Root:4478373784 @4581900816 T=True>, nIn=0\n",
      "      <Node: /Global/TradeOpenEvent/0b44c95b-496f-42ac-97bc-dddb0cbe338f.(Event:amends)() in Root:4478373784 @4523931920 T=False>, nIn=0\n",
      "      <Node: /Global/TradeOpenEvent/0b44c95b-496f-42ac-97bc-dddb0cbe338f.(TradeOpenEvent:action)() in Root:4478373784 @4605195216 T=False>, nIn=0\n",
      "      <Node: /Global/TradeOpenEvent/0b44c95b-496f-42ac-97bc-dddb0cbe338f.(TradeOpenEvent:premium)() in Root:4478373784 @4777877776 T=False>, nIn=0\n",
      "      <Node: /Global/TradeOpenEvent/0b44c95b-496f-42ac-97bc-dddb0cbe338f.(TradeOpenEvent:quantity)() in Root:4478373784 @4605195792 T=False>, nIn=0\n",
      "      <Node: /Global/TradeOpenEvent/0b44c95b-496f-42ac-97bc-dddb0cbe338f.(TradeOpenEvent:ticket)() in Root:4478373784 @4605195664 T=False>, nIn=0\n",
      "      <Node: /Global/TradeOpenEvent/0b44c95b-496f-42ac-97bc-dddb0cbe338f.(TradeOpenEvent:unitPrice)() in Root:4478373784 @4605195728 T=False>, nIn=0\n",
      "      <Node: /Global/TradeOpenEvent/0b44c95b-496f-42ac-97bc-dddb0cbe338f.(_WorkItemEvent:book1)() in Root:4478373784 @4605197264 T=False>, nIn=0\n",
      "      <Node: /Global/TradeOpenEvent/0b44c95b-496f-42ac-97bc-dddb0cbe338f.(_WorkItemEvent:book2)() in Root:4478373784 @4605197648 T=False>, nIn=0\n",
      "      <Node: /Global/TradeOpenEvent/0b44c95b-496f-42ac-97bc-dddb0cbe338f.(_WorkItemEvent:item)() in Root:4478373784 @4605196368 T=False>, nIn=0\n",
      "      <Node: /Global/TradeOpenEvent/0bafa65b-3981-4b38-af54-9161a4829cdb.(Event:amends)() in Root:4478373784 @4794275088 T=False>, nIn=0\n",
      "      <Node: /Global/TradeOpenEvent/0bafa65b-3981-4b38-af54-9161a4829cdb.(TradeOpenEvent:action)() in Root:4478373784 @4605197200 T=False>, nIn=0\n",
      "      <Node: /Global/TradeOpenEvent/0bafa65b-3981-4b38-af54-9161a4829cdb.(TradeOpenEvent:premium)() in Root:4478373784 @4581900560 T=False>, nIn=0\n",
      "      <Node: /Global/TradeOpenEvent/0bafa65b-3981-4b38-af54-9161a4829cdb.(TradeOpenEvent:quantity)() in Root:4478373784 @4605195536 T=False>, nIn=0\n",
      "      <Node: /Global/TradeOpenEvent/0bafa65b-3981-4b38-af54-9161a4829cdb.(TradeOpenEvent:ticket)() in Root:4478373784 @4605194384 T=False>, nIn=0\n",
      "      <Node: /Global/TradeOpenEvent/0bafa65b-3981-4b38-af54-9161a4829cdb.(TradeOpenEvent:unitPrice)() in Root:4478373784 @4605194448 T=False>, nIn=0\n",
      "      <Node: /Global/TradeOpenEvent/0bafa65b-3981-4b38-af54-9161a4829cdb.(_WorkItemEvent:book1)() in Root:4478373784 @4581902352 T=False>, nIn=0\n",
      "      <Node: /Global/TradeOpenEvent/0bafa65b-3981-4b38-af54-9161a4829cdb.(_WorkItemEvent:book2)() in Root:4478373784 @4581900496 T=False>, nIn=0\n",
      "      <Node: /Global/TradeOpenEvent/0bafa65b-3981-4b38-af54-9161a4829cdb.(_WorkItemEvent:item)() in Root:4478373784 @4581901072 T=False>, nIn=0\n",
      "      <Node: /Global/TradeOpenEvent/1860f537-f83a-4267-9c34-99354ea18ae3.(Event:amends)() in Root:4478373784 @4555735440 T=False>, nIn=0\n",
      "      <Node: /Global/TradeOpenEvent/1860f537-f83a-4267-9c34-99354ea18ae3.(TradeOpenEvent:action)() in Root:4478373784 @4777879312 T=False>, nIn=0\n",
      "      <Node: /Global/TradeOpenEvent/1860f537-f83a-4267-9c34-99354ea18ae3.(TradeOpenEvent:premium)() in Root:4478373784 @4593185168 T=False>, nIn=0\n",
      "      <Node: /Global/TradeOpenEvent/1860f537-f83a-4267-9c34-99354ea18ae3.(TradeOpenEvent:quantity)() in Root:4478373784 @4777880528 T=False>, nIn=0\n",
      "      <Node: /Global/TradeOpenEvent/1860f537-f83a-4267-9c34-99354ea18ae3.(TradeOpenEvent:ticket)() in Root:4478373784 @4777880656 T=False>, nIn=0\n",
      "      <Node: /Global/TradeOpenEvent/1860f537-f83a-4267-9c34-99354ea18ae3.(TradeOpenEvent:unitPrice)() in Root:4478373784 @4777880400 T=False>, nIn=0\n",
      "      <Node: /Global/TradeOpenEvent/1860f537-f83a-4267-9c34-99354ea18ae3.(_WorkItemEvent:book1)() in Root:4478373784 @4593184848 T=False>, nIn=0\n",
      "      <Node: /Global/TradeOpenEvent/1860f537-f83a-4267-9c34-99354ea18ae3.(_WorkItemEvent:book2)() in Root:4478373784 @4593184912 T=False>, nIn=0\n",
      "      <Node: /Global/TradeOpenEvent/1860f537-f83a-4267-9c34-99354ea18ae3.(_WorkItemEvent:item)() in Root:4478373784 @4777880208 T=False>, nIn=0\n",
      "      <Node: /Global/TradeOpenEvent/22b628e8-9c98-4828-a6fe-ad99d87374dc.(Event:amends)() in Root:4478373784 @4794276624 T=False>, nIn=0\n",
      "      <Node: /Global/TradeOpenEvent/22b628e8-9c98-4828-a6fe-ad99d87374dc.(TradeOpenEvent:action)() in Root:4478373784 @4594686160 T=False>, nIn=0\n",
      "      <Node: /Global/TradeOpenEvent/22b628e8-9c98-4828-a6fe-ad99d87374dc.(TradeOpenEvent:premium)() in Root:4478373784 @4593185808 T=False>, nIn=0\n",
      "      <Node: /Global/TradeOpenEvent/22b628e8-9c98-4828-a6fe-ad99d87374dc.(TradeOpenEvent:quantity)() in Root:4478373784 @4594685776 T=False>, nIn=0\n",
      "      <Node: /Global/TradeOpenEvent/22b628e8-9c98-4828-a6fe-ad99d87374dc.(TradeOpenEvent:ticket)() in Root:4478373784 @4594687696 T=False>, nIn=0\n",
      "      <Node: /Global/TradeOpenEvent/22b628e8-9c98-4828-a6fe-ad99d87374dc.(TradeOpenEvent:unitPrice)() in Root:4478373784 @4594687888 T=False>, nIn=0\n",
      "      <Node: /Global/TradeOpenEvent/22b628e8-9c98-4828-a6fe-ad99d87374dc.(_WorkItemEvent:book1)() in Root:4478373784 @4593186384 T=False>, nIn=0\n",
      "      <Node: /Global/TradeOpenEvent/22b628e8-9c98-4828-a6fe-ad99d87374dc.(_WorkItemEvent:book2)() in Root:4478373784 @4593186320 T=False>, nIn=0\n",
      "      <Node: /Global/TradeOpenEvent/22b628e8-9c98-4828-a6fe-ad99d87374dc.(_WorkItemEvent:item)() in Root:4478373784 @4593186000 T=False>, nIn=0\n",
      "      <Node: /Global/TradeOpenEvent/33acba08-5b7c-4d9f-a5ba-059f84d62890.(Event:amends)() in Root:4478373784 @4794207312 T=False>, nIn=0\n",
      "      <Node: /Global/TradeOpenEvent/33acba08-5b7c-4d9f-a5ba-059f84d62890.(TradeOpenEvent:action)() in Root:4478373784 @4777878096 T=False>, nIn=0\n",
      "      <Node: /Global/TradeOpenEvent/33acba08-5b7c-4d9f-a5ba-059f84d62890.(TradeOpenEvent:premium)() in Root:4478373784 @4605194512 T=False>, nIn=0\n",
      "      <Node: /Global/TradeOpenEvent/33acba08-5b7c-4d9f-a5ba-059f84d62890.(TradeOpenEvent:quantity)() in Root:4478373784 @4777877840 T=False>, nIn=0\n",
      "      <Node: /Global/TradeOpenEvent/33acba08-5b7c-4d9f-a5ba-059f84d62890.(TradeOpenEvent:ticket)() in Root:4478373784 @4605197904 T=False>, nIn=0\n",
      "      <Node: /Global/TradeOpenEvent/33acba08-5b7c-4d9f-a5ba-059f84d62890.(TradeOpenEvent:unitPrice)() in Root:4478373784 @4777878160 T=False>, nIn=0\n",
      "      <Node: /Global/TradeOpenEvent/33acba08-5b7c-4d9f-a5ba-059f84d62890.(_WorkItemEvent:book1)() in Root:4478373784 @4605196432 T=False>, nIn=0\n",
      "      <Node: /Global/TradeOpenEvent/33acba08-5b7c-4d9f-a5ba-059f84d62890.(_WorkItemEvent:book2)() in Root:4478373784 @4605196240 T=False>, nIn=0\n",
      "      <Node: /Global/TradeOpenEvent/33acba08-5b7c-4d9f-a5ba-059f84d62890.(_WorkItemEvent:item)() in Root:4478373784 @4605196752 T=False>, nIn=0\n",
      "      <Node: /Global/TradeOpenEvent/5f5c058a-1f8e-4c17-aca1-6af52e819285.(Event:amends)() in Root:4478373784 @4581901584 T=False>, nIn=0\n",
      "      <Node: /Global/TradeOpenEvent/5f5c058a-1f8e-4c17-aca1-6af52e819285.(TradeOpenEvent:action)() in Root:4478373784 @4593186576 T=False>, nIn=0\n",
      "      <Node: /Global/TradeOpenEvent/5f5c058a-1f8e-4c17-aca1-6af52e819285.(TradeOpenEvent:premium)() in Root:4478373784 @4593187728 T=False>, nIn=0\n",
      "      <Node: /Global/TradeOpenEvent/5f5c058a-1f8e-4c17-aca1-6af52e819285.(TradeOpenEvent:quantity)() in Root:4478373784 @4593186832 T=False>, nIn=0\n",
      "      <Node: /Global/TradeOpenEvent/5f5c058a-1f8e-4c17-aca1-6af52e819285.(TradeOpenEvent:ticket)() in Root:4478373784 @4593186960 T=False>, nIn=0\n",
      "      <Node: /Global/TradeOpenEvent/5f5c058a-1f8e-4c17-aca1-6af52e819285.(TradeOpenEvent:unitPrice)() in Root:4478373784 @4593186704 T=False>, nIn=0\n",
      "      <Node: /Global/TradeOpenEvent/5f5c058a-1f8e-4c17-aca1-6af52e819285.(_WorkItemEvent:book1)() in Root:4478373784 @4593187856 T=False>, nIn=0\n",
      "      <Node: /Global/TradeOpenEvent/5f5c058a-1f8e-4c17-aca1-6af52e819285.(_WorkItemEvent:book2)() in Root:4478373784 @4593187664 T=False>, nIn=0\n",
      "      <Node: /Global/TradeOpenEvent/5f5c058a-1f8e-4c17-aca1-6af52e819285.(_WorkItemEvent:item)() in Root:4478373784 @4593187984 T=False>, nIn=0\n",
      "      <Node: /Global/TradeOpenEvent/92db25ce-28c1-41b9-834d-1fefb0f7c27c.(Event:amends)() in Root:4478373784 @4556697936 T=False>, nIn=0\n",
      "      <Node: /Global/TradeOpenEvent/92db25ce-28c1-41b9-834d-1fefb0f7c27c.(TradeOpenEvent:action)() in Root:4478373784 @4777878032 T=False>, nIn=0\n",
      "      <Node: /Global/TradeOpenEvent/92db25ce-28c1-41b9-834d-1fefb0f7c27c.(TradeOpenEvent:premium)() in Root:4478373784 @4777879632 T=False>, nIn=0\n",
      "      <Node: /Global/TradeOpenEvent/92db25ce-28c1-41b9-834d-1fefb0f7c27c.(TradeOpenEvent:quantity)() in Root:4478373784 @4777878736 T=False>, nIn=0\n",
      "      <Node: /Global/TradeOpenEvent/92db25ce-28c1-41b9-834d-1fefb0f7c27c.(TradeOpenEvent:ticket)() in Root:4478373784 @4777877968 T=False>, nIn=0\n",
      "      <Node: /Global/TradeOpenEvent/92db25ce-28c1-41b9-834d-1fefb0f7c27c.(TradeOpenEvent:unitPrice)() in Root:4478373784 @4777878800 T=False>, nIn=0\n",
      "      <Node: /Global/TradeOpenEvent/92db25ce-28c1-41b9-834d-1fefb0f7c27c.(_WorkItemEvent:book1)() in Root:4478373784 @4777879760 T=False>, nIn=0\n",
      "      <Node: /Global/TradeOpenEvent/92db25ce-28c1-41b9-834d-1fefb0f7c27c.(_WorkItemEvent:book2)() in Root:4478373784 @4777879568 T=False>, nIn=0\n",
      "      <Node: /Global/TradeOpenEvent/92db25ce-28c1-41b9-834d-1fefb0f7c27c.(_WorkItemEvent:item)() in Root:4478373784 @4777879888 T=False>, nIn=0\n",
      "      <Node: /Global/TradeOpenEvent/cbf2e4af-ea90-4bce-be51-54fb26e3cc1e.(Event:amends)() in Root:4478373784 @4794206288 T=False>, nIn=0\n",
      "      <Node: /Global/TradeOpenEvent/cbf2e4af-ea90-4bce-be51-54fb26e3cc1e.(TradeOpenEvent:action)() in Root:4478373784 @4593185296 T=False>, nIn=0\n",
      "      <Node: /Global/TradeOpenEvent/cbf2e4af-ea90-4bce-be51-54fb26e3cc1e.(TradeOpenEvent:premium)() in Root:4478373784 @4777877712 T=False>, nIn=0\n",
      "      <Node: /Global/TradeOpenEvent/cbf2e4af-ea90-4bce-be51-54fb26e3cc1e.(TradeOpenEvent:quantity)() in Root:4478373784 @4593185552 T=False>, nIn=0\n",
      "      <Node: /Global/TradeOpenEvent/cbf2e4af-ea90-4bce-be51-54fb26e3cc1e.(TradeOpenEvent:ticket)() in Root:4478373784 @4593185680 T=False>, nIn=0\n",
      "      <Node: /Global/TradeOpenEvent/cbf2e4af-ea90-4bce-be51-54fb26e3cc1e.(TradeOpenEvent:unitPrice)() in Root:4478373784 @4593185424 T=False>, nIn=0\n",
      "      <Node: /Global/TradeOpenEvent/cbf2e4af-ea90-4bce-be51-54fb26e3cc1e.(_WorkItemEvent:book1)() in Root:4478373784 @4777878992 T=False>, nIn=0\n",
      "      <Node: /Global/TradeOpenEvent/cbf2e4af-ea90-4bce-be51-54fb26e3cc1e.(_WorkItemEvent:book2)() in Root:4478373784 @4777880720 T=False>, nIn=0\n",
      "      <Node: /Global/TradeOpenEvent/cbf2e4af-ea90-4bce-be51-54fb26e3cc1e.(_WorkItemEvent:item)() in Root:4478373784 @4777879440 T=False>, nIn=0\n",
      "      <Node: /Global/TradeOpenEvent/cec89341-1024-46a3-876f-d14434b2812d.(Event:amends)() in Root:4478373784 @4794277136 T=False>, nIn=0\n",
      "      <Node: /Global/TradeOpenEvent/cec89341-1024-46a3-876f-d14434b2812d.(TradeOpenEvent:action)() in Root:4478373784 @4581902224 T=False>, nIn=0\n",
      "      <Node: /Global/TradeOpenEvent/cec89341-1024-46a3-876f-d14434b2812d.(TradeOpenEvent:premium)() in Root:4478373784 @4594684496 T=False>, nIn=0\n",
      "      <Node: /Global/TradeOpenEvent/cec89341-1024-46a3-876f-d14434b2812d.(TradeOpenEvent:quantity)() in Root:4478373784 @4581902928 T=False>, nIn=0\n",
      "      <Node: /Global/TradeOpenEvent/cec89341-1024-46a3-876f-d14434b2812d.(TradeOpenEvent:ticket)() in Root:4478373784 @4581903504 T=False>, nIn=0\n",
      "      <Node: /Global/TradeOpenEvent/cec89341-1024-46a3-876f-d14434b2812d.(TradeOpenEvent:unitPrice)() in Root:4478373784 @4581903632 T=False>, nIn=0\n",
      "      <Node: /Global/TradeOpenEvent/cec89341-1024-46a3-876f-d14434b2812d.(_WorkItemEvent:book1)() in Root:4478373784 @4594685392 T=False>, nIn=0\n",
      "      <Node: /Global/TradeOpenEvent/cec89341-1024-46a3-876f-d14434b2812d.(_WorkItemEvent:book2)() in Root:4478373784 @4594685904 T=False>, nIn=0\n",
      "      <Node: /Global/TradeOpenEvent/cec89341-1024-46a3-876f-d14434b2812d.(_WorkItemEvent:item)() in Root:4478373784 @4594684240 T=False>, nIn=0\n",
      "      <Node: /Global/TradeOpenEvent/f8f40cec-3089-4706-b8e0-6fe1aae2bf91.(Event:amends)() in Root:4478373784 @4794445328 T=False>, nIn=0\n",
      "      <Node: /Global/TradeOpenEvent/f8f40cec-3089-4706-b8e0-6fe1aae2bf91.(TradeOpenEvent:action)() in Root:4478373784 @4593187408 T=False>, nIn=0\n",
      "      <Node: /Global/TradeOpenEvent/f8f40cec-3089-4706-b8e0-6fe1aae2bf91.(TradeOpenEvent:premium)() in Root:4478373784 @4624175824 T=False>, nIn=0\n",
      "      <Node: /Global/TradeOpenEvent/f8f40cec-3089-4706-b8e0-6fe1aae2bf91.(TradeOpenEvent:quantity)() in Root:4478373784 @4593188624 T=False>, nIn=0\n",
      "      <Node: /Global/TradeOpenEvent/f8f40cec-3089-4706-b8e0-6fe1aae2bf91.(TradeOpenEvent:ticket)() in Root:4478373784 @4593188752 T=False>, nIn=0\n",
      "      <Node: /Global/TradeOpenEvent/f8f40cec-3089-4706-b8e0-6fe1aae2bf91.(TradeOpenEvent:unitPrice)() in Root:4478373784 @4593188496 T=False>, nIn=0\n",
      "      <Node: /Global/TradeOpenEvent/f8f40cec-3089-4706-b8e0-6fe1aae2bf91.(_WorkItemEvent:book1)() in Root:4478373784 @4624176272 T=False>, nIn=0\n",
      "      <Node: /Global/TradeOpenEvent/f8f40cec-3089-4706-b8e0-6fe1aae2bf91.(_WorkItemEvent:book2)() in Root:4478373784 @4624176208 T=False>, nIn=0\n",
      "      <Node: /Global/TradeOpenEvent/f8f40cec-3089-4706-b8e0-6fe1aae2bf91.(_WorkItemEvent:item)() in Root:4478373784 @4624175888 T=False>, nIn=0\n",
      "      <Node: /Global/TradingBook/Rates0.(TradingBook:clock)() in Root:4478373784 @4594686224 T=False>, nIn=0\n"
     ]
    }
   ],
   "source": [
    "dba = db.copy()\n",
    "valuable = dba.get(b4.meta.path())\n",
    "\n",
    "clock = valuable.getObj(_tr.RootClock, 'Main')\n",
    "with SummaryMonitor():\n",
    "    with Context({clock.cutoffs: ts7}):\n",
    "        print valuable.NPV()\n",
    "        node = getNode(valuable.NPV)\n",
    "node.printInputGraph()"
   ]
  },
  {
   "cell_type": "markdown",
   "metadata": {
    "collapsed": true
   },
   "source": [
    "# Graph Simplification\n",
    "\n",
    "* Very simple input management simplifier: ignore inputs if they are leaves and not tweakable\n",
    "* Simple context simplification: just switch to a simple context for certain known methods"
   ]
  },
  {
   "cell_type": "code",
   "execution_count": 6,
   "metadata": {
    "collapsed": false,
    "scrolled": false
   },
   "outputs": [
    {
     "name": "stdout",
     "output_type": "stream",
     "text": [
      "40.85\n",
      "<Node: /Global/TradingBook/Rates0.(TradingContainer:NPV)() in Root:4478373784 @4699925840 T=False>, nIn=3\n",
      "   <Node: /Global/Clock/Trading.(Clock:cutoffs)() in Root:4478373784 @4758295568 T=True>, nIn=2\n",
      "      <Node: /Global/Clock/Trading.(Clock:parent)() in Root:4478373784 @4758294672 T=False>, nIn=1\n",
      "         <Node: /Global/RootClock/Main.(RootClock:cutoffs)() in Root:4478373784 @4699926224 T=True>, nIn=0\n",
      "      <Node: /Global/Clock/Workflow.(Clock:cutoffs)() in Root:4478373784 @4740063504 T=True>, nIn=2\n",
      "         <Node: /Global/Clock/Workflow.(Clock:parent)() in Root:4478373784 @4740063888 T=False>, nIn=1\n",
      "            <Node: /Global/RootClock/Main.(RootClock:cutoffs)() in Root:4478373784 @4699926224 T=True>, nIn=0\n",
      "         <Node: /Global/RootClock/Main.(RootClock:cutoffs)() in Root:4478373784 @4699926224 T=True>, nIn=0\n",
      "   <Node: /Global/Equity/4b90c5a7-2095-47b7-8306-110b555da62f.(Equity:NPV)() in Root:4478373784 @4601141584 T=False>, nIn=1\n",
      "      <Node: /Global/MarketInterface/GOOG.(MarketInterface:spot)() in Root:4478373784 @4601142672 T=True>, nIn=1\n",
      "         <Node: /Global/MarketDataSource/source1.GOOG.(ExternalRefData:state)() in Root:4478373784 @4606481232 T=False>, nIn=2\n",
      "            <Node: /Global/Clock/MarketData.(Clock:cutoffs)() in Root:4478373784 @4606482384 T=True>, nIn=2\n",
      "               <Node: /Global/Clock/MarketData.(Clock:parent)() in Root:4478373784 @4606482256 T=False>, nIn=1\n",
      "                  <Node: /Global/RootClock/Main.(RootClock:cutoffs)() in Root:4478373784 @4699926224 T=True>, nIn=0\n",
      "               <Node: /Global/Clock/RefData.(Clock:cutoffs)() in Root:4478373784 @4612211344 T=True>, nIn=2\n",
      "                  <Node: /Global/Clock/RefData.(Clock:parent)() in Root:4478373784 @4612211728 T=False>, nIn=1\n",
      "                     <Node: /Global/RootClock/Main.(RootClock:cutoffs)() in Root:4478373784 @4699926224 T=True>, nIn=0\n",
      "                  <Node: /Global/RootClock/Main.(RootClock:cutoffs)() in Root:4478373784 @4699926224 T=True>, nIn=0\n",
      "            <Node: /Global/MarketDataSource/source1.GOOG.(RefData:state)() in Root:4478373784:4478373784 @4606484368 T=False>, nIn=1\n",
      "               <Node: /Global/Clock/MarketData.(Clock:cutoffs)() in Root:4478373784:4478373784 @4606482704 T=True>, nIn=0\n",
      "   <Node: /Global/TradingBook/Rates0.(Workbook:items)() in Root:4478373784:4478373784 @4740064848 T=False>, nIn=1\n",
      "      <Node: /Global/Clock/Trading.(Clock:cutoffs)() in Root:4478373784:4478373784 @4740064720 T=True>, nIn=0\n"
     ]
    }
   ],
   "source": [
    "from mand.graph import DependencyManager, setDependencyManager\n",
    "from mand.core import Event\n",
    "\n",
    "class DM1(DependencyManager):\n",
    "    \n",
    "    def __init__(self):\n",
    "        self.contexts = {}\n",
    "        self.simpleClockMethods = ('Workbook:items', 'RefData:state', 'Portfolio:children', 'Portfolio:items')\n",
    "        super(DM1, self).__init__()\n",
    "        \n",
    "    def addDep(self, input, output):\n",
    "        if not input.key.tweakable:\n",
    "            if not input.inputs:\n",
    "                return\n",
    "        output.inputs.add(input)\n",
    "        input.outputs.add(output)\n",
    "\n",
    "\n",
    "    def calculated(self, node):\n",
    "        if not node.isSimplified:\n",
    "            return\n",
    "        for input in node.inputs:\n",
    "            if input not in node.ctx.tweaks:\n",
    "                addFootnote(text='context simplification failure', info='%s used %s' % (str(node.key), str(input.key)))\n",
    "                  \n",
    "    def getCtx(self, clock):\n",
    "        ts = clock.cutoffs()\n",
    "        cKey = (clock, ts) # really want value-based comparison of ts, not object equality\n",
    "        if cKey not in self.contexts:\n",
    "            self.contexts[cKey] = Context({clock.cutoffs: ts})\n",
    "        return self.contexts[cKey]\n",
    "            \n",
    "    def getNode(self, ctx, key):\n",
    "        n = ctx._get(key)\n",
    "        if n:\n",
    "            return n\n",
    "        if key.fullName() in self.simpleClockMethods:\n",
    "            obj = key.object()\n",
    "            ctx1 = self.getCtx(obj.clock())\n",
    "            ret = ctx1.get(key)\n",
    "            ret.isSimplified = True\n",
    "        else:\n",
    "            ret = super(DM1, self).getNode(ctx, key)\n",
    "            ret.isSimplified = False\n",
    "        return ret\n",
    "    \n",
    "setDependencyManager(DM1())\n",
    "\n",
    "db4 = db.copy()\n",
    "valuable = db4.get(b4.meta.path())\n",
    "\n",
    "clock = valuable.getObj(_tr.RootClock, 'Main')\n",
    "with Context({clock.cutoffs: ts7}):\n",
    "    print valuable.NPV()\n",
    "    node = getNode(valuable.NPV)\n",
    "    node.printInputGraph()"
   ]
  },
  {
   "cell_type": "code",
   "execution_count": 7,
   "metadata": {
    "collapsed": false,
    "scrolled": false
   },
   "outputs": [
    {
     "data": {
      "text/markdown": [
       "# PnL explain for TopOfTheHouse: 6256.00"
      ],
      "text/plain": [
       "<IPython.core.display.Markdown object>"
      ]
     },
     "metadata": {},
     "output_type": "display_data"
    },
    {
     "data": {
      "text/markdown": [
       "**Caveat: this report encountered problems. See footnotes at bottom.**"
      ],
      "text/plain": [
       "<IPython.core.display.Markdown object>"
      ]
     },
     "metadata": {},
     "output_type": "display_data"
    },
    {
     "data": {
      "text/markdown": [
       "|Activity|PnL|\n",
       "|-|-|\n",
       "|Starting balance breaks|0.00\n",
       "|prior day amends: MarketData|0.00\n",
       "|prior day amends: Portfolio|0.00\n",
       "|prior day amends: Trading|0.00\n",
       "|activity: MarketData|5240.00\n",
       "|activity: Portfolio|1016.00\n",
       "|activity: Trading|0.00\n",
       "|Ending balance breaks|0.00"
      ],
      "text/plain": [
       "<IPython.core.display.Markdown object>"
      ]
     },
     "metadata": {},
     "output_type": "display_data"
    },
    {
     "data": {
      "text/markdown": [
       "## Footnotes:\n",
       "1. context simplification failure\n",
       "  * <NodeKey:<Entity:/Global/TradingPortfolio/Commod>.(Portfolio:items) ()> used <NodeKey:<Entity:/Global/Clock/Trading>.(Clock:cutoffs) ()>\n",
       "  * <NodeKey:<Entity:/Global/TradingPortfolio/Commod>.(Portfolio:items) ()> used <NodeKey:<Entity:/Global/TradingBook/Commod0>.(Workbook:items) ()>\n",
       "  * <NodeKey:<Entity:/Global/TradingPortfolio/Commod>.(Portfolio:items) ()> used <NodeKey:<Entity:/Global/TradingBook/Commod1>.(Workbook:items) ()>\n",
       "  * <NodeKey:<Entity:/Global/TradingPortfolio/Commod>.(Portfolio:items) ()> used <NodeKey:<Entity:/Global/TradingBook/Commod2>.(Workbook:items) ()>\n",
       "  * <NodeKey:<Entity:/Global/TradingPortfolio/Commod>.(Portfolio:items) ()> used <NodeKey:<Entity:/Global/TradingBook/Commod3>.(Workbook:items) ()>\n",
       "  * <NodeKey:<Entity:/Global/TradingPortfolio/Commod>.(Portfolio:items) ()> used <NodeKey:<Entity:/Global/TradingBook/Commod4>.(Workbook:items) ()>\n",
       "  * <NodeKey:<Entity:/Global/TradingPortfolio/Commod>.(Portfolio:items) ()> used <NodeKey:<Entity:/Global/TradingBook/Commod5>.(Workbook:items) ()>\n",
       "  * <NodeKey:<Entity:/Global/TradingPortfolio/Commod>.(Portfolio:items) ()> used <NodeKey:<Entity:/Global/TradingBook/Commod6>.(Workbook:items) ()>\n",
       "  * <NodeKey:<Entity:/Global/TradingPortfolio/Commod>.(Portfolio:items) ()> used <NodeKey:<Entity:/Global/TradingBook/Commod7>.(Workbook:items) ()>\n",
       "  * <NodeKey:<Entity:/Global/TradingPortfolio/Commod>.(Portfolio:items) ()> used <NodeKey:<Entity:/Global/TradingBook/Commod8>.(Workbook:items) ()>\n",
       "  * <NodeKey:<Entity:/Global/TradingPortfolio/Commod>.(Portfolio:items) ()> used <NodeKey:<Entity:/Global/TradingBook/Commod9>.(Workbook:items) ()>\n",
       "  * <NodeKey:<Entity:/Global/TradingPortfolio/Commod>.(Portfolio:items) ()> used <NodeKey:<Entity:/Global/TradingPortfolio/Commod>.(Portfolio:books) ()>\n",
       "  * <NodeKey:<Entity:/Global/TradingPortfolio/Commod>.(Portfolio:items) ()> used <NodeKey:<Entity:/Global/TradingPortfolio/Commod>.(Portfolio:children) ()>\n",
       "  * <NodeKey:<Entity:/Global/TradingPortfolio/Credit>.(Portfolio:items) ()> used <NodeKey:<Entity:/Global/Clock/Trading>.(Clock:cutoffs) ()>\n",
       "  * <NodeKey:<Entity:/Global/TradingPortfolio/Credit>.(Portfolio:items) ()> used <NodeKey:<Entity:/Global/TradingBook/Credit0>.(Workbook:items) ()>\n",
       "  * <NodeKey:<Entity:/Global/TradingPortfolio/Credit>.(Portfolio:items) ()> used <NodeKey:<Entity:/Global/TradingBook/Credit1>.(Workbook:items) ()>\n",
       "  * <NodeKey:<Entity:/Global/TradingPortfolio/Credit>.(Portfolio:items) ()> used <NodeKey:<Entity:/Global/TradingBook/Credit2>.(Workbook:items) ()>\n",
       "  * <NodeKey:<Entity:/Global/TradingPortfolio/Credit>.(Portfolio:items) ()> used <NodeKey:<Entity:/Global/TradingBook/Credit3>.(Workbook:items) ()>\n",
       "  * <NodeKey:<Entity:/Global/TradingPortfolio/Credit>.(Portfolio:items) ()> used <NodeKey:<Entity:/Global/TradingBook/Credit4>.(Workbook:items) ()>\n",
       "  * <NodeKey:<Entity:/Global/TradingPortfolio/Credit>.(Portfolio:items) ()> used <NodeKey:<Entity:/Global/TradingBook/Credit5>.(Workbook:items) ()>\n",
       "  * <NodeKey:<Entity:/Global/TradingPortfolio/Credit>.(Portfolio:items) ()> used <NodeKey:<Entity:/Global/TradingBook/Credit6>.(Workbook:items) ()>\n",
       "  * <NodeKey:<Entity:/Global/TradingPortfolio/Credit>.(Portfolio:items) ()> used <NodeKey:<Entity:/Global/TradingBook/Credit7>.(Workbook:items) ()>\n",
       "  * <NodeKey:<Entity:/Global/TradingPortfolio/Credit>.(Portfolio:items) ()> used <NodeKey:<Entity:/Global/TradingBook/Credit8>.(Workbook:items) ()>\n",
       "  * <NodeKey:<Entity:/Global/TradingPortfolio/Credit>.(Portfolio:items) ()> used <NodeKey:<Entity:/Global/TradingBook/Credit9>.(Workbook:items) ()>\n",
       "  * <NodeKey:<Entity:/Global/TradingPortfolio/Credit>.(Portfolio:items) ()> used <NodeKey:<Entity:/Global/TradingPortfolio/Credit>.(Portfolio:books) ()>\n",
       "  * <NodeKey:<Entity:/Global/TradingPortfolio/Credit>.(Portfolio:items) ()> used <NodeKey:<Entity:/Global/TradingPortfolio/Credit>.(Portfolio:children) ()>\n",
       "  * <NodeKey:<Entity:/Global/TradingPortfolio/Delta1>.(Portfolio:items) ()> used <NodeKey:<Entity:/Global/Clock/Trading>.(Clock:cutoffs) ()>\n",
       "  * <NodeKey:<Entity:/Global/TradingPortfolio/Delta1>.(Portfolio:items) ()> used <NodeKey:<Entity:/Global/TradingBook/Delta10>.(Workbook:items) ()>\n",
       "  * <NodeKey:<Entity:/Global/TradingPortfolio/Delta1>.(Portfolio:items) ()> used <NodeKey:<Entity:/Global/TradingBook/Delta11>.(Workbook:items) ()>\n",
       "  * <NodeKey:<Entity:/Global/TradingPortfolio/Delta1>.(Portfolio:items) ()> used <NodeKey:<Entity:/Global/TradingBook/Delta12>.(Workbook:items) ()>\n",
       "  * <NodeKey:<Entity:/Global/TradingPortfolio/Delta1>.(Portfolio:items) ()> used <NodeKey:<Entity:/Global/TradingBook/Delta13>.(Workbook:items) ()>\n",
       "  * <NodeKey:<Entity:/Global/TradingPortfolio/Delta1>.(Portfolio:items) ()> used <NodeKey:<Entity:/Global/TradingBook/Delta14>.(Workbook:items) ()>\n",
       "  * <NodeKey:<Entity:/Global/TradingPortfolio/Delta1>.(Portfolio:items) ()> used <NodeKey:<Entity:/Global/TradingBook/Delta15>.(Workbook:items) ()>\n",
       "  * <NodeKey:<Entity:/Global/TradingPortfolio/Delta1>.(Portfolio:items) ()> used <NodeKey:<Entity:/Global/TradingBook/Delta16>.(Workbook:items) ()>\n",
       "  * <NodeKey:<Entity:/Global/TradingPortfolio/Delta1>.(Portfolio:items) ()> used <NodeKey:<Entity:/Global/TradingBook/Delta17>.(Workbook:items) ()>\n",
       "  * <NodeKey:<Entity:/Global/TradingPortfolio/Delta1>.(Portfolio:items) ()> used <NodeKey:<Entity:/Global/TradingBook/Delta18>.(Workbook:items) ()>\n",
       "  * <NodeKey:<Entity:/Global/TradingPortfolio/Delta1>.(Portfolio:items) ()> used <NodeKey:<Entity:/Global/TradingBook/Delta19>.(Workbook:items) ()>\n",
       "  * <NodeKey:<Entity:/Global/TradingPortfolio/Delta1>.(Portfolio:items) ()> used <NodeKey:<Entity:/Global/TradingPortfolio/Delta1>.(Portfolio:books) ()>\n",
       "  * <NodeKey:<Entity:/Global/TradingPortfolio/Delta1>.(Portfolio:items) ()> used <NodeKey:<Entity:/Global/TradingPortfolio/Delta1>.(Portfolio:children) ()>\n",
       "  * <NodeKey:<Entity:/Global/TradingPortfolio/ETFs>.(Portfolio:items) ()> used <NodeKey:<Entity:/Global/Clock/Trading>.(Clock:cutoffs) ()>\n",
       "  * <NodeKey:<Entity:/Global/TradingPortfolio/ETFs>.(Portfolio:items) ()> used <NodeKey:<Entity:/Global/TradingBook/ETFs0>.(Workbook:items) ()>\n",
       "  * <NodeKey:<Entity:/Global/TradingPortfolio/ETFs>.(Portfolio:items) ()> used <NodeKey:<Entity:/Global/TradingBook/ETFs1>.(Workbook:items) ()>\n",
       "  * <NodeKey:<Entity:/Global/TradingPortfolio/ETFs>.(Portfolio:items) ()> used <NodeKey:<Entity:/Global/TradingBook/ETFs2>.(Workbook:items) ()>\n",
       "  * <NodeKey:<Entity:/Global/TradingPortfolio/ETFs>.(Portfolio:items) ()> used <NodeKey:<Entity:/Global/TradingBook/ETFs3>.(Workbook:items) ()>\n",
       "  * <NodeKey:<Entity:/Global/TradingPortfolio/ETFs>.(Portfolio:items) ()> used <NodeKey:<Entity:/Global/TradingBook/ETFs4>.(Workbook:items) ()>\n",
       "  * <NodeKey:<Entity:/Global/TradingPortfolio/ETFs>.(Portfolio:items) ()> used <NodeKey:<Entity:/Global/TradingBook/ETFs5>.(Workbook:items) ()>\n",
       "  * <NodeKey:<Entity:/Global/TradingPortfolio/ETFs>.(Portfolio:items) ()> used <NodeKey:<Entity:/Global/TradingBook/ETFs6>.(Workbook:items) ()>\n",
       "  * <NodeKey:<Entity:/Global/TradingPortfolio/ETFs>.(Portfolio:items) ()> used <NodeKey:<Entity:/Global/TradingBook/ETFs7>.(Workbook:items) ()>\n",
       "  * <NodeKey:<Entity:/Global/TradingPortfolio/ETFs>.(Portfolio:items) ()> used <NodeKey:<Entity:/Global/TradingBook/ETFs8>.(Workbook:items) ()>\n",
       "  * <NodeKey:<Entity:/Global/TradingPortfolio/ETFs>.(Portfolio:items) ()> used <NodeKey:<Entity:/Global/TradingBook/ETFs9>.(Workbook:items) ()>\n",
       "  * <NodeKey:<Entity:/Global/TradingPortfolio/ETFs>.(Portfolio:items) ()> used <NodeKey:<Entity:/Global/TradingPortfolio/ETFs>.(Portfolio:books) ()>\n",
       "  * <NodeKey:<Entity:/Global/TradingPortfolio/ETFs>.(Portfolio:items) ()> used <NodeKey:<Entity:/Global/TradingPortfolio/ETFs>.(Portfolio:children) ()>\n",
       "  * <NodeKey:<Entity:/Global/TradingPortfolio/Eq-Inst>.(Portfolio:items) ()> used <NodeKey:<Entity:/Global/Clock/Trading>.(Clock:cutoffs) ()>\n",
       "  * <NodeKey:<Entity:/Global/TradingPortfolio/Eq-Inst>.(Portfolio:items) ()> used <NodeKey:<Entity:/Global/TradingBook/Eq-Inst0>.(Workbook:items) ()>\n",
       "  * <NodeKey:<Entity:/Global/TradingPortfolio/Eq-Inst>.(Portfolio:items) ()> used <NodeKey:<Entity:/Global/TradingBook/Eq-Inst1>.(Workbook:items) ()>\n",
       "  * <NodeKey:<Entity:/Global/TradingPortfolio/Eq-Inst>.(Portfolio:items) ()> used <NodeKey:<Entity:/Global/TradingBook/Eq-Inst2>.(Workbook:items) ()>\n",
       "  * <NodeKey:<Entity:/Global/TradingPortfolio/Eq-Inst>.(Portfolio:items) ()> used <NodeKey:<Entity:/Global/TradingBook/Eq-Inst3>.(Workbook:items) ()>\n",
       "  * <NodeKey:<Entity:/Global/TradingPortfolio/Eq-Inst>.(Portfolio:items) ()> used <NodeKey:<Entity:/Global/TradingBook/Eq-Inst4>.(Workbook:items) ()>\n",
       "  * <NodeKey:<Entity:/Global/TradingPortfolio/Eq-Inst>.(Portfolio:items) ()> used <NodeKey:<Entity:/Global/TradingBook/Eq-Inst5>.(Workbook:items) ()>\n",
       "  * <NodeKey:<Entity:/Global/TradingPortfolio/Eq-Inst>.(Portfolio:items) ()> used <NodeKey:<Entity:/Global/TradingBook/Eq-Inst6>.(Workbook:items) ()>\n",
       "  * <NodeKey:<Entity:/Global/TradingPortfolio/Eq-Inst>.(Portfolio:items) ()> used <NodeKey:<Entity:/Global/TradingBook/Eq-Inst7>.(Workbook:items) ()>\n",
       "  * <NodeKey:<Entity:/Global/TradingPortfolio/Eq-Inst>.(Portfolio:items) ()> used <NodeKey:<Entity:/Global/TradingBook/Eq-Inst8>.(Workbook:items) ()>\n",
       "  * <NodeKey:<Entity:/Global/TradingPortfolio/Eq-Inst>.(Portfolio:items) ()> used <NodeKey:<Entity:/Global/TradingBook/Eq-Inst9>.(Workbook:items) ()>\n",
       "  * <NodeKey:<Entity:/Global/TradingPortfolio/Eq-Inst>.(Portfolio:items) ()> used <NodeKey:<Entity:/Global/TradingPortfolio/Eq-Inst>.(Portfolio:books) ()>\n",
       "  * <NodeKey:<Entity:/Global/TradingPortfolio/Eq-Inst>.(Portfolio:items) ()> used <NodeKey:<Entity:/Global/TradingPortfolio/Eq-Inst>.(Portfolio:children) ()>\n",
       "  * <NodeKey:<Entity:/Global/TradingPortfolio/Eq-Prop>.(Portfolio:items) ()> used <NodeKey:<Entity:/Global/Clock/Trading>.(Clock:cutoffs) ()>\n",
       "  * <NodeKey:<Entity:/Global/TradingPortfolio/Eq-Prop>.(Portfolio:items) ()> used <NodeKey:<Entity:/Global/TradingBook/Eq-Inst0>.(Workbook:items) ()>\n",
       "  * <NodeKey:<Entity:/Global/TradingPortfolio/Eq-Prop>.(Portfolio:items) ()> used <NodeKey:<Entity:/Global/TradingBook/Eq-Prop0>.(Workbook:items) ()>\n",
       "  * <NodeKey:<Entity:/Global/TradingPortfolio/Eq-Prop>.(Portfolio:items) ()> used <NodeKey:<Entity:/Global/TradingBook/Eq-Prop1>.(Workbook:items) ()>\n",
       "  * <NodeKey:<Entity:/Global/TradingPortfolio/Eq-Prop>.(Portfolio:items) ()> used <NodeKey:<Entity:/Global/TradingBook/Eq-Prop2>.(Workbook:items) ()>\n",
       "  * <NodeKey:<Entity:/Global/TradingPortfolio/Eq-Prop>.(Portfolio:items) ()> used <NodeKey:<Entity:/Global/TradingBook/Eq-Prop3>.(Workbook:items) ()>\n",
       "  * <NodeKey:<Entity:/Global/TradingPortfolio/Eq-Prop>.(Portfolio:items) ()> used <NodeKey:<Entity:/Global/TradingBook/Eq-Prop4>.(Workbook:items) ()>\n",
       "  * <NodeKey:<Entity:/Global/TradingPortfolio/Eq-Prop>.(Portfolio:items) ()> used <NodeKey:<Entity:/Global/TradingBook/Eq-Prop5>.(Workbook:items) ()>\n",
       "  * <NodeKey:<Entity:/Global/TradingPortfolio/Eq-Prop>.(Portfolio:items) ()> used <NodeKey:<Entity:/Global/TradingBook/Eq-Prop6>.(Workbook:items) ()>\n",
       "  * <NodeKey:<Entity:/Global/TradingPortfolio/Eq-Prop>.(Portfolio:items) ()> used <NodeKey:<Entity:/Global/TradingBook/Eq-Prop7>.(Workbook:items) ()>\n",
       "  * <NodeKey:<Entity:/Global/TradingPortfolio/Eq-Prop>.(Portfolio:items) ()> used <NodeKey:<Entity:/Global/TradingBook/Eq-Prop8>.(Workbook:items) ()>\n",
       "  * <NodeKey:<Entity:/Global/TradingPortfolio/Eq-Prop>.(Portfolio:items) ()> used <NodeKey:<Entity:/Global/TradingBook/Eq-Prop9>.(Workbook:items) ()>\n",
       "  * <NodeKey:<Entity:/Global/TradingPortfolio/Eq-Prop>.(Portfolio:items) ()> used <NodeKey:<Entity:/Global/TradingPortfolio/Eq-Prop>.(Portfolio:books) ()>\n",
       "  * <NodeKey:<Entity:/Global/TradingPortfolio/Eq-Prop>.(Portfolio:items) ()> used <NodeKey:<Entity:/Global/TradingPortfolio/Eq-Prop>.(Portfolio:children) ()>\n",
       "  * <NodeKey:<Entity:/Global/TradingPortfolio/FX>.(Portfolio:items) ()> used <NodeKey:<Entity:/Global/Clock/Trading>.(Clock:cutoffs) ()>\n",
       "  * <NodeKey:<Entity:/Global/TradingPortfolio/FX>.(Portfolio:items) ()> used <NodeKey:<Entity:/Global/TradingBook/FX0>.(Workbook:items) ()>\n",
       "  * <NodeKey:<Entity:/Global/TradingPortfolio/FX>.(Portfolio:items) ()> used <NodeKey:<Entity:/Global/TradingBook/FX1>.(Workbook:items) ()>\n",
       "  * <NodeKey:<Entity:/Global/TradingPortfolio/FX>.(Portfolio:items) ()> used <NodeKey:<Entity:/Global/TradingBook/FX2>.(Workbook:items) ()>\n",
       "  * <NodeKey:<Entity:/Global/TradingPortfolio/FX>.(Portfolio:items) ()> used <NodeKey:<Entity:/Global/TradingBook/FX3>.(Workbook:items) ()>\n",
       "  * <NodeKey:<Entity:/Global/TradingPortfolio/FX>.(Portfolio:items) ()> used <NodeKey:<Entity:/Global/TradingBook/FX4>.(Workbook:items) ()>\n",
       "  * <NodeKey:<Entity:/Global/TradingPortfolio/FX>.(Portfolio:items) ()> used <NodeKey:<Entity:/Global/TradingBook/FX5>.(Workbook:items) ()>\n",
       "  * <NodeKey:<Entity:/Global/TradingPortfolio/FX>.(Portfolio:items) ()> used <NodeKey:<Entity:/Global/TradingBook/FX6>.(Workbook:items) ()>\n",
       "  * <NodeKey:<Entity:/Global/TradingPortfolio/FX>.(Portfolio:items) ()> used <NodeKey:<Entity:/Global/TradingBook/FX7>.(Workbook:items) ()>\n",
       "  * <NodeKey:<Entity:/Global/TradingPortfolio/FX>.(Portfolio:items) ()> used <NodeKey:<Entity:/Global/TradingBook/FX8>.(Workbook:items) ()>\n",
       "  * <NodeKey:<Entity:/Global/TradingPortfolio/FX>.(Portfolio:items) ()> used <NodeKey:<Entity:/Global/TradingBook/FX9>.(Workbook:items) ()>\n",
       "  * <NodeKey:<Entity:/Global/TradingPortfolio/FX>.(Portfolio:items) ()> used <NodeKey:<Entity:/Global/TradingPortfolio/FX>.(Portfolio:books) ()>\n",
       "  * <NodeKey:<Entity:/Global/TradingPortfolio/FX>.(Portfolio:items) ()> used <NodeKey:<Entity:/Global/TradingPortfolio/FX>.(Portfolio:children) ()>\n",
       "  * <NodeKey:<Entity:/Global/TradingPortfolio/Loans>.(Portfolio:items) ()> used <NodeKey:<Entity:/Global/Clock/Trading>.(Clock:cutoffs) ()>\n",
       "  * <NodeKey:<Entity:/Global/TradingPortfolio/Loans>.(Portfolio:items) ()> used <NodeKey:<Entity:/Global/TradingBook/Loans0>.(Workbook:items) ()>\n",
       "  * <NodeKey:<Entity:/Global/TradingPortfolio/Loans>.(Portfolio:items) ()> used <NodeKey:<Entity:/Global/TradingBook/Loans1>.(Workbook:items) ()>\n",
       "  * <NodeKey:<Entity:/Global/TradingPortfolio/Loans>.(Portfolio:items) ()> used <NodeKey:<Entity:/Global/TradingBook/Loans2>.(Workbook:items) ()>\n",
       "  * <NodeKey:<Entity:/Global/TradingPortfolio/Loans>.(Portfolio:items) ()> used <NodeKey:<Entity:/Global/TradingBook/Loans3>.(Workbook:items) ()>\n",
       "  * <NodeKey:<Entity:/Global/TradingPortfolio/Loans>.(Portfolio:items) ()> used <NodeKey:<Entity:/Global/TradingBook/Loans4>.(Workbook:items) ()>\n",
       "  * <NodeKey:<Entity:/Global/TradingPortfolio/Loans>.(Portfolio:items) ()> used <NodeKey:<Entity:/Global/TradingBook/Loans5>.(Workbook:items) ()>\n",
       "  * <NodeKey:<Entity:/Global/TradingPortfolio/Loans>.(Portfolio:items) ()> used <NodeKey:<Entity:/Global/TradingBook/Loans6>.(Workbook:items) ()>\n",
       "  * <NodeKey:<Entity:/Global/TradingPortfolio/Loans>.(Portfolio:items) ()> used <NodeKey:<Entity:/Global/TradingBook/Loans7>.(Workbook:items) ()>\n",
       "  * <NodeKey:<Entity:/Global/TradingPortfolio/Loans>.(Portfolio:items) ()> used <NodeKey:<Entity:/Global/TradingBook/Loans8>.(Workbook:items) ()>\n",
       "  * <NodeKey:<Entity:/Global/TradingPortfolio/Loans>.(Portfolio:items) ()> used <NodeKey:<Entity:/Global/TradingBook/Loans9>.(Workbook:items) ()>\n",
       "  * <NodeKey:<Entity:/Global/TradingPortfolio/Loans>.(Portfolio:items) ()> used <NodeKey:<Entity:/Global/TradingPortfolio/Loans>.(Portfolio:books) ()>\n",
       "  * <NodeKey:<Entity:/Global/TradingPortfolio/Loans>.(Portfolio:items) ()> used <NodeKey:<Entity:/Global/TradingPortfolio/Loans>.(Portfolio:children) ()>\n",
       "  * <NodeKey:<Entity:/Global/TradingPortfolio/Mtge>.(Portfolio:items) ()> used <NodeKey:<Entity:/Global/Clock/Trading>.(Clock:cutoffs) ()>\n",
       "  * <NodeKey:<Entity:/Global/TradingPortfolio/Mtge>.(Portfolio:items) ()> used <NodeKey:<Entity:/Global/TradingBook/Mtge0>.(Workbook:items) ()>\n",
       "  * <NodeKey:<Entity:/Global/TradingPortfolio/Mtge>.(Portfolio:items) ()> used <NodeKey:<Entity:/Global/TradingBook/Mtge1>.(Workbook:items) ()>\n",
       "  * <NodeKey:<Entity:/Global/TradingPortfolio/Mtge>.(Portfolio:items) ()> used <NodeKey:<Entity:/Global/TradingBook/Mtge2>.(Workbook:items) ()>\n",
       "  * <NodeKey:<Entity:/Global/TradingPortfolio/Mtge>.(Portfolio:items) ()> used <NodeKey:<Entity:/Global/TradingBook/Mtge3>.(Workbook:items) ()>\n",
       "  * <NodeKey:<Entity:/Global/TradingPortfolio/Mtge>.(Portfolio:items) ()> used <NodeKey:<Entity:/Global/TradingBook/Mtge4>.(Workbook:items) ()>\n",
       "  * <NodeKey:<Entity:/Global/TradingPortfolio/Mtge>.(Portfolio:items) ()> used <NodeKey:<Entity:/Global/TradingBook/Mtge5>.(Workbook:items) ()>\n",
       "  * <NodeKey:<Entity:/Global/TradingPortfolio/Mtge>.(Portfolio:items) ()> used <NodeKey:<Entity:/Global/TradingBook/Mtge6>.(Workbook:items) ()>\n",
       "  * <NodeKey:<Entity:/Global/TradingPortfolio/Mtge>.(Portfolio:items) ()> used <NodeKey:<Entity:/Global/TradingBook/Mtge7>.(Workbook:items) ()>\n",
       "  * <NodeKey:<Entity:/Global/TradingPortfolio/Mtge>.(Portfolio:items) ()> used <NodeKey:<Entity:/Global/TradingBook/Mtge8>.(Workbook:items) ()>\n",
       "  * <NodeKey:<Entity:/Global/TradingPortfolio/Mtge>.(Portfolio:items) ()> used <NodeKey:<Entity:/Global/TradingBook/Mtge9>.(Workbook:items) ()>\n",
       "  * <NodeKey:<Entity:/Global/TradingPortfolio/Mtge>.(Portfolio:items) ()> used <NodeKey:<Entity:/Global/TradingPortfolio/Mtge>.(Portfolio:books) ()>\n",
       "  * <NodeKey:<Entity:/Global/TradingPortfolio/Mtge>.(Portfolio:items) ()> used <NodeKey:<Entity:/Global/TradingPortfolio/Mtge>.(Portfolio:children) ()>\n",
       "  * <NodeKey:<Entity:/Global/TradingPortfolio/Rates>.(Portfolio:items) ()> used <NodeKey:<Entity:/Global/Clock/Trading>.(Clock:cutoffs) ()>\n",
       "  * <NodeKey:<Entity:/Global/TradingPortfolio/Rates>.(Portfolio:items) ()> used <NodeKey:<Entity:/Global/TradingBook/Rates0>.(Workbook:items) ()>\n",
       "  * <NodeKey:<Entity:/Global/TradingPortfolio/Rates>.(Portfolio:items) ()> used <NodeKey:<Entity:/Global/TradingBook/Rates1>.(Workbook:items) ()>\n",
       "  * <NodeKey:<Entity:/Global/TradingPortfolio/Rates>.(Portfolio:items) ()> used <NodeKey:<Entity:/Global/TradingBook/Rates2>.(Workbook:items) ()>\n",
       "  * <NodeKey:<Entity:/Global/TradingPortfolio/Rates>.(Portfolio:items) ()> used <NodeKey:<Entity:/Global/TradingBook/Rates3>.(Workbook:items) ()>\n",
       "  * <NodeKey:<Entity:/Global/TradingPortfolio/Rates>.(Portfolio:items) ()> used <NodeKey:<Entity:/Global/TradingBook/Rates4>.(Workbook:items) ()>\n",
       "  * <NodeKey:<Entity:/Global/TradingPortfolio/Rates>.(Portfolio:items) ()> used <NodeKey:<Entity:/Global/TradingBook/Rates5>.(Workbook:items) ()>\n",
       "  * <NodeKey:<Entity:/Global/TradingPortfolio/Rates>.(Portfolio:items) ()> used <NodeKey:<Entity:/Global/TradingBook/Rates6>.(Workbook:items) ()>\n",
       "  * <NodeKey:<Entity:/Global/TradingPortfolio/Rates>.(Portfolio:items) ()> used <NodeKey:<Entity:/Global/TradingBook/Rates7>.(Workbook:items) ()>\n",
       "  * <NodeKey:<Entity:/Global/TradingPortfolio/Rates>.(Portfolio:items) ()> used <NodeKey:<Entity:/Global/TradingBook/Rates8>.(Workbook:items) ()>\n",
       "  * <NodeKey:<Entity:/Global/TradingPortfolio/Rates>.(Portfolio:items) ()> used <NodeKey:<Entity:/Global/TradingBook/Rates9>.(Workbook:items) ()>\n",
       "  * <NodeKey:<Entity:/Global/TradingPortfolio/Rates>.(Portfolio:items) ()> used <NodeKey:<Entity:/Global/TradingPortfolio/Rates>.(Portfolio:books) ()>\n",
       "  * <NodeKey:<Entity:/Global/TradingPortfolio/Rates>.(Portfolio:items) ()> used <NodeKey:<Entity:/Global/TradingPortfolio/Rates>.(Portfolio:children) ()>\n",
       "  * <NodeKey:<Entity:/Global/TradingPortfolio/TopOfTheHouse>.(Portfolio:items) ()> used <NodeKey:<Entity:/Global/TradingPortfolio/Commod>.(Portfolio:items) ()>\n",
       "  * <NodeKey:<Entity:/Global/TradingPortfolio/TopOfTheHouse>.(Portfolio:items) ()> used <NodeKey:<Entity:/Global/TradingPortfolio/Credit>.(Portfolio:items) ()>\n",
       "  * <NodeKey:<Entity:/Global/TradingPortfolio/TopOfTheHouse>.(Portfolio:items) ()> used <NodeKey:<Entity:/Global/TradingPortfolio/Delta1>.(Portfolio:items) ()>\n",
       "  * <NodeKey:<Entity:/Global/TradingPortfolio/TopOfTheHouse>.(Portfolio:items) ()> used <NodeKey:<Entity:/Global/TradingPortfolio/ETFs>.(Portfolio:items) ()>\n",
       "  * <NodeKey:<Entity:/Global/TradingPortfolio/TopOfTheHouse>.(Portfolio:items) ()> used <NodeKey:<Entity:/Global/TradingPortfolio/Eq-Inst>.(Portfolio:items) ()>\n",
       "  * <NodeKey:<Entity:/Global/TradingPortfolio/TopOfTheHouse>.(Portfolio:items) ()> used <NodeKey:<Entity:/Global/TradingPortfolio/Eq-Prop>.(Portfolio:items) ()>\n",
       "  * <NodeKey:<Entity:/Global/TradingPortfolio/TopOfTheHouse>.(Portfolio:items) ()> used <NodeKey:<Entity:/Global/TradingPortfolio/FX>.(Portfolio:items) ()>\n",
       "  * <NodeKey:<Entity:/Global/TradingPortfolio/TopOfTheHouse>.(Portfolio:items) ()> used <NodeKey:<Entity:/Global/TradingPortfolio/Loans>.(Portfolio:items) ()>\n",
       "  * <NodeKey:<Entity:/Global/TradingPortfolio/TopOfTheHouse>.(Portfolio:items) ()> used <NodeKey:<Entity:/Global/TradingPortfolio/Mtge>.(Portfolio:items) ()>\n",
       "  * <NodeKey:<Entity:/Global/TradingPortfolio/TopOfTheHouse>.(Portfolio:items) ()> used <NodeKey:<Entity:/Global/TradingPortfolio/Rates>.(Portfolio:items) ()>\n",
       "  * <NodeKey:<Entity:/Global/TradingPortfolio/TopOfTheHouse>.(Portfolio:items) ()> used <NodeKey:<Entity:/Global/TradingPortfolio/TopOfTheHouse>.(Portfolio:books) ()>\n",
       "  * <NodeKey:<Entity:/Global/TradingPortfolio/TopOfTheHouse>.(Portfolio:items) ()> used <NodeKey:<Entity:/Global/TradingPortfolio/TopOfTheHouse>.(Portfolio:children) ()>\n",
       "1. Inadequate cash discounting model used\n",
       "1. Book appears multiple times\n",
       "  * /Global/TradingBook/Eq-Inst0"
      ],
      "text/plain": [
       "<IPython.core.display.Markdown object>"
      ]
     },
     "metadata": {},
     "output_type": "display_data"
    },
    {
     "data": {
      "text/markdown": [
       "# Compute activity summary (29.40 seconds of wall clock time)"
      ],
      "text/plain": [
       "<IPython.core.display.Markdown object>"
      ]
     },
     "metadata": {},
     "output_type": "display_data"
    },
    {
     "data": {
      "text/markdown": [
       "|key|value|\n",
       "|-|-|\n",
       "|Context|19\n",
       "|Db.Get|2176\n",
       "|GetValue|28897\n",
       "|GetValue/Calc|1031"
      ],
      "text/plain": [
       "<IPython.core.display.Markdown object>"
      ]
     },
     "metadata": {},
     "output_type": "display_data"
    },
    {
     "data": {
      "text/markdown": [
       "\n",
       "### Profile by nodes.\n",
       "* times are in microseconds\n",
       "* cumT is total time spent in funtion\n",
       "* calcT is time spent in function, but not in a child node"
      ],
      "text/plain": [
       "<IPython.core.display.Markdown object>"
      ]
     },
     "metadata": {},
     "output_type": "display_data"
    },
    {
     "data": {
      "text/markdown": [
       "|fn|n|cumT|calcT|cumT/call|sys|\n",
       "|-|-|-|-|-|-|\n",
       "|PnLExplainReport:data|1|29,380,333|44|29,380,333|GetValue\n",
       "|PnLExplainReport:data|1|29,380,289|1,314|29,380,289|GetValue/Calc\n",
       "|TradingContainer:NPV|11|29,359,666|529|2,669,060|GetValue\n",
       "|TradingContainer:NPV|11|29,359,136|355|2,669,012|GetValue/Calc\n",
       "|PnLExplainReport:cutoffs|1|29,033,841|48|29,033,841|GetValue\n",
       "|PnLExplainReport:cutoffs|1|29,033,792|444|29,033,792|GetValue/Calc\n",
       "|Root:Clocks|47|29,033,155|87,615|617,726|Context\n",
       "|Portfolio:items|41|28,845,780|25,220|703,555|GetValue\n",
       "|Portfolio:items|33|28,843,796|1,059|874,054|GetValue/Calc\n",
       "|Root:Clocks:4478373784|306|28,841,394|440,539|94,252|Context\n",
       "|Workbook:items|301|26,883,624|10,760|89,314|GetValue\n",
       "|Workbook:items|200|26,872,864|6,383|134,364|GetValue/Calc\n",
       "|Root:Clocks:4478373784:4478373784|400|26,866,481|6,009,269|67,166|Context\n",
       "|TradeOpenEvent:ticket|4,052|10,564,655|108,469|2,607|GetValue\n",
       "|TradingTicket|1,014|10,456,186|10,456,186|10,311|Db.Get\n",
       "|TradeOpenEvent|1,014|9,755,701|9,755,701|9,621|Db.Get\n",
       "|Portfolio:children|66|1,743,216|2,134|26,412|GetValue\n",
       "|Portfolio:children|33|1,741,081|1,037|52,760|GetValue/Calc\n",
       "|PortfolioUpdateEvent:children|33|1,161,509|4,865|35,197|GetValue\n",
       "|TradingBook|102|1,096,812|1,096,812|10,753|Db.Get\n",
       "|Equity:NPV|15|440,283|765|29,352|GetValue\n",
       "|Equity:NPV|15|439,517|478|29,301|GetValue/Calc\n",
       "|MarketInterface:spot|15|402,755|740|26,850|GetValue\n",
       "|MarketInterface:spot|15|402,014|432|26,800|GetValue/Calc\n",
       "|ExternalRefData:state|15|370,076|608|24,671|GetValue\n",
       "|ExternalRefData:state|15|369,467|426|24,631|GetValue/Calc\n",
       "|Clock:cutoffs|870|262,795|13,465|302|GetValue\n",
       "|Clock:cutoffs|16|249,548|490|15,596|GetValue/Calc\n",
       "|Clock:parent|16|246,581|603|15,411|GetValue\n",
       "|Clock:parent|16|245,977|485|15,373|GetValue/Calc\n",
       "|RefData:state|15|215,206|347|14,347|GetValue\n",
       "|RefData:state|4|214,859|157|53,714|GetValue/Calc\n",
       "|Root:Amend Portfolio|11|203,634|1,876|18,512|Context\n",
       "|Root:Amend Portfolio:4478373784|144|200,294|176,897|1,390|Context\n",
       "|RefDataUpdateEvent|9|147,506|147,506|16,389|Db.Get\n",
       "|PortfolioUpdateEvent|12|143,263|143,263|11,938|Db.Get\n",
       "|_WorkItemEvent:book2|4,052|89,769|75,516|22|GetValue\n",
       "|_WorkItemEvent:book1|4,052|80,932|80,932|19|GetValue\n",
       "|TradingBook:clock|701|79,576|27,903|113|GetValue\n",
       "|_WorkItemEvent:item|2,026|78,647|64,515|38|GetValue\n",
       "|TradingPortfolio|10|74,083|74,083|7,408|Db.Get\n",
       "|TradeOpenEvent:quantity|4,052|71,546|71,546|17|GetValue\n",
       "|TradeOpenEvent:premium|2,026|55,716|48,581|27|GetValue\n",
       "|TradingBook:clock|500|51,673|17,976|103|GetValue/Calc\n",
       "|TradeOpenEvent:action|2,026|51,393|51,393|25|GetValue\n",
       "|Root:Start|20|49,938|48,192|2,496|Context\n",
       "|Root:End|27|47,358|45,071|1,754|Context\n",
       "|Clock|5|45,747|45,747|9,149|Db.Get\n",
       "|TradeOpenEvent:unitPrice|2,026|42,804|42,804|21|GetValue\n",
       "|Event:amends|2,083|37,060|37,060|17|GetValue\n",
       "|Equity:refdata|15|33,560|620|2,237|GetValue\n",
       "|Equity:refdata|15|32,940|447|2,196|GetValue/Calc\n",
       "|MarketInterface|2|30,181|30,181|15,090|Db.Get\n",
       "|MarketInterface:source|15|28,788|552|1,919|GetValue\n",
       "|MarketInterface:source|15|28,236|437|1,882|GetValue/Calc\n",
       "|MarketDataSource|2|23,564|23,564|11,782|Db.Get\n",
       "|ClockEvent|2|22,089|22,089|11,044|Db.Get\n",
       "|Root:Amend MarketData|11|19,764|2,194|1,796|Context\n",
       "|ClockEvent:parent|6|19,475|245|3,245|GetValue\n",
       "|Root:Amend MarketData:4478373784|2|16,721|16,339|8,360|Context\n",
       "|MarketDataSource:clock|23|14,325|938|622|GetValue\n",
       "|Portfolio:clock|140|14,287|3,687|102|GetValue\n",
       "|Equity|2|14,132|14,132|7,066|Db.Get\n",
       "|MarketDataSource:clock|19|13,387|664|704|GetValue/Calc\n",
       "|Portfolio:clock|44|10,600|1,321|240|GetValue/Calc\n",
       "|Portfolio:books|63|8,379|1,921|133|GetValue\n",
       "|RootClock|1|8,020|8,020|8,020|Db.Get\n",
       "|ForwardCashflow|1|7,134|7,134|7,134|Db.Get\n",
       "|Portfolio:books|33|6,938|967|210|GetValue/Calc\n",
       "|Root:Activity Trading|18|5,300|3,592|294|Context\n",
       "|Root:Activity Portfolio|18|4,091|2,879|227|Context\n",
       "|Entity:clock|32|2,346|1,010|73|GetValue\n",
       "|Root:Amend Trading|11|2,341|1,620|212|Context\n",
       "|Root:Activity MarketData|11|2,333|1,619|212|Context\n",
       "|Root:Start breaks|11|2,318|1,587|210|Context\n",
       "|MarketInterface:sourceName|15|1,341|588|89|GetValue\n",
       "|ForwardCashflow:NPV|11|1,338|495|121|GetValue\n",
       "|Entity:clock|16|1,335|582|83|GetValue/Calc\n",
       "|ForwardCashflow:NPV|11|843|333|76|GetValue/Calc\n",
       "|MarketInterface:sourceName|15|753|440|50|GetValue/Calc\n",
       "|RootClock:cutoffs|43|728|581|16|GetValue\n",
       "|Equity:assetName|15|379|379|25|GetValue\n",
       "|RefDataUpdateEvent:data|15|297|297|19|GetValue\n",
       "|RootClock:cutoffs|1|147|80|147|GetValue/Calc\n",
       "|RootClock:cosmicAll|1|38|21|38|GetValue\n",
       "|CosmicAll:dbState|1|28|17|28|GetValue\n",
       "|PnLExplainReport:valuable|2|20|20|10|GetValue\n",
       "|PnLExplainReport:ts1|2|19|19|9|GetValue\n",
       "|RootClock:cosmicAll|1|16|16|16|GetValue/Calc\n",
       "|PnLExplainReport:ts2|2|15|15|7|GetValue\n",
       "|CosmicAll:dbState|1|10|10|10|GetValue/Calc"
      ],
      "text/plain": [
       "<IPython.core.display.Markdown object>"
      ]
     },
     "metadata": {},
     "output_type": "display_data"
    }
   ],
   "source": [
    "db4 = db.copy()\n",
    "valuable = db4.get(pAll.meta.path())\n",
    "\n",
    "r = PnLExplainReport(valuable=valuable, ts1=eod, ts2=ts7)\n",
    "with ProfileMonitor():\n",
    "    with SummaryMonitor():\n",
    "        r.run()"
   ]
  }
 ],
 "metadata": {
  "kernelspec": {
   "display_name": "Python 2",
   "language": "python",
   "name": "python2"
  },
  "language_info": {
   "codemirror_mode": {
    "name": "ipython",
    "version": 2
   },
   "file_extension": ".py",
   "mimetype": "text/x-python",
   "name": "python",
   "nbconvert_exporter": "python",
   "pygments_lexer": "ipython2",
   "version": "2.7.13"
  }
 },
 "nbformat": 4,
 "nbformat_minor": 2
}
