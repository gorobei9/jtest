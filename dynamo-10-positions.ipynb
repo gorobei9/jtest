{
 "cells": [
  {
   "cell_type": "markdown",
   "metadata": {},
   "source": [
    "# A toy trading system [Test]\n",
    "\n",
    "I wanted to work on the node class, but that's hard without having an application/demo that is meaty enough to\n",
    "work with.\n",
    "\n",
    "So, here's a toy front-office position management, pricing, and risk system:"
   ]
  },
  {
   "cell_type": "code",
   "execution_count": 1,
   "metadata": {
    "collapsed": false
   },
   "outputs": [],
   "source": [
    "import mand.core\n",
    "\n",
    "from mand.core import Entity, node, Context\n",
    "\n",
    "from mand.core import ObjectDb, DynamoDbDriver, ddb, _tr, Timestamp, Context, _DBO\n",
    "from mand.core import PrintMonitor, SummaryMonitor, ProfileMonitor\n",
    "from mand.lib.refdata import RefData, RefDataUpdateEvent\n",
    "from mand.lib.extrefdata import ExternalRefData, dataField\n",
    "from mand.lib.workflow import Workbook, WorkItemOpenEvent, WorkItem\n",
    "from mand.lib.portfolio import Portfolio\n",
    "from mand.core import displayTable\n",
    "import datetime\n",
    "\n",
    "db = ObjectDb()"
   ]
  },
  {
   "cell_type": "markdown",
   "metadata": {},
   "source": [
    "## Books and Portfolios [BA]\n",
    "\n",
    "These are just workflow entities that support a net present value function. As long as items in books are valuable\n",
    "(in the sense of implementing NPV) then everythin just works."
   ]
  },
  {
   "cell_type": "code",
   "execution_count": 2,
   "metadata": {
    "collapsed": false
   },
   "outputs": [],
   "source": [
    "class TradingBook(Workbook):\n",
    "    @node\n",
    "    def NPV(self):\n",
    "        ret = 0\n",
    "        for i, q in self.items().items():\n",
    "            #print i, i.name(), i.NPV(), q, i.NPV()*q\n",
    "            ret += i.NPV() * q\n",
    "        return ret\n",
    "\n",
    "class TradingPortfolio(Portfolio):\n",
    "    @node\n",
    "    def NPV(self):\n",
    "        return sum( [c.NPV() for c in self.children()] )\n",
    "    \n",
    "_tr.add(TradingBook)\n",
    "_tr.add(TradingPortfolio)"
   ]
  },
  {
   "cell_type": "markdown",
   "metadata": {},
   "source": [
    "## Building a tree of bank-side accounts [User]\n",
    "\n",
    "Here, we build a tree of 100 books, grouped under 10 sub-portfolios, rooted in one top-level portfolio.\n",
    "\n",
    "In a real bank, we might have 100,000 books, grouped 10 levels deep. in multiple different trees. Plus millions \n",
    "of customer books grouped in various portfolio trees."
   ]
  },
  {
   "cell_type": "code",
   "execution_count": 3,
   "metadata": {
    "collapsed": false
   },
   "outputs": [
    {
     "name": "stdout",
     "output_type": "stream",
     "text": [
      "<__main__.TradingPortfolio object at 0x10f600050>\n",
      "# books: 100\n",
      "# children: 10\n"
     ]
    }
   ],
   "source": [
    "def makeTree(name, depth):\n",
    "    if depth:\n",
    "        subs = [ makeTree(name+str(i), depth-1) for i in range(10) ]\n",
    "        p = TradingPortfolio(name).write()\n",
    "        p.setChildren(subs)\n",
    "        return p\n",
    "    else:\n",
    "        ret = TradingBook(name).write()\n",
    "        return ret\n",
    "\n",
    "with db:\n",
    "    pAll = makeTree('B', 2)\n",
    "    \n",
    "print pAll\n",
    "print '# books:', len(pAll.books())\n",
    "print '# children:', len(pAll.children())"
   ]
  },
  {
   "cell_type": "markdown",
   "metadata": {},
   "source": [
    "## Checking execution counts [Test]\n",
    "\n",
    "We have 11 portfolios, 100 books. We should get node calculation counts that reflect this..."
   ]
  },
  {
   "cell_type": "code",
   "execution_count": 4,
   "metadata": {
    "collapsed": false,
    "scrolled": false
   },
   "outputs": [
    {
     "name": "stdout",
     "output_type": "stream",
     "text": [
      "100\n"
     ]
    },
    {
     "data": {
      "text/markdown": [
       "Profile by nodes.\n",
       "* times are in microseconds\n",
       "* cumT is total time spent in funtion\n",
       "* calcT is time spent in function, but not in a child node"
      ],
      "text/plain": [
       "<IPython.core.display.Markdown object>"
      ]
     },
     "metadata": {},
     "output_type": "display_data"
    },
    {
     "data": {
      "text/markdown": [
       "|fn|n|cumT|calcT|cumT/call|sys|\n",
       "|-|-|-|-|-|-|\n",
       "|Portfolio:books|11|424,331|104|38,575|GetValue\n",
       "|Portfolio:books|11|424,226|475|38,566|GetValue/Calc\n",
       "|Portfolio:children|11|224,750|117|20,431|GetValue\n",
       "|Portfolio:children|11|224,633|19,616|20,421|GetValue/Calc\n",
       "|PortfolioUpdateEvent:children|11|176,675|964|16,061|GetValue\n",
       "|TradingBook|100|158,687|158,687|1,586|Db.Get\n",
       "|PortfolioUpdateEvent|11|24,425|24,425|2,220|Db.Get\n",
       "|TradingPortfolio|10|17,023|17,023|1,702|Db.Get\n",
       "|RootClock|1|4,137|4,137|4,137|Db.Get\n",
       "|Clock:cutoffs|22|1,980|68|90|GetValue\n",
       "|Clock:cutoffs|1|1,911|21|1,911|GetValue/Calc\n",
       "|Clock:parent|1|1,888|8|1,888|GetValue\n",
       "|Clock:parent|1|1,880|1,760|1,880|GetValue/Calc\n",
       "|Portfolio:clock|22|1,875|160|85|GetValue\n",
       "|Portfolio:clock|11|1,715|148|155|GetValue/Calc\n",
       "|CosmicAll|1|1,680|1,680|1,680|Db.Get\n",
       "|Clock|1|1,567|1,567|1,567|Db.Get\n",
       "|RootClock:cutoffs|3|72|13|24|GetValue\n",
       "|RootClock:cutoffs|1|59|21|59|GetValue/Calc\n",
       "|Event:amends|11|58|58|5|GetValue\n",
       "|Entity:clock|2|49|40|24|GetValue\n",
       "|RootClock:cosmicAll|1|26|18|26|GetValue\n",
       "|CosmicAll:dbState|1|10|6|10|GetValue\n",
       "|Entity:clock|1|8|8|8|GetValue/Calc\n",
       "|RootClock:cosmicAll|1|8|8|8|GetValue/Calc\n",
       "|CosmicAll:dbState|1|3|3|3|GetValue/Calc"
      ],
      "text/plain": [
       "<IPython.core.display.Markdown object>"
      ]
     },
     "metadata": {},
     "output_type": "display_data"
    }
   ],
   "source": [
    "with ProfileMonitor(mode='sum'):\n",
    "    db2 = db.copy()\n",
    "    p = db2._get(pAll.meta.path())\n",
    "    print len(p.books())"
   ]
  },
  {
   "cell_type": "markdown",
   "metadata": {},
   "source": [
    "## A few books [Test]\n",
    "\n",
    "We also create two customers' books.\n",
    "\n",
    "Pretend *p1* is one of our trading desks, *p2* is another. "
   ]
  },
  {
   "cell_type": "code",
   "execution_count": 5,
   "metadata": {
    "collapsed": false
   },
   "outputs": [
    {
     "name": "stdout",
     "output_type": "stream",
     "text": [
      "Customer1\n",
      "B04\n",
      "B37\n"
     ]
    }
   ],
   "source": [
    "with db:\n",
    "    bExt = _tr.TradingBook('Customer1')\n",
    "    bExt2 = _tr.TradingBook('Customer2')\n",
    "    \n",
    "p1 = pAll.children()[0]\n",
    "p2 = pAll.children()[3]\n",
    "\n",
    "b1 = p1.children()[4]\n",
    "b2 = p2.children()[7]\n",
    "\n",
    "print bExt.meta.name()\n",
    "print b1.meta.name()\n",
    "print b2.meta.name()\n",
    "\n"
   ]
  },
  {
   "cell_type": "markdown",
   "metadata": {},
   "source": [
    "## Tracking Market Data [DBA]\n",
    "\n",
    "For now, just save incoming market observations as reference data. \n",
    "\n",
    "In reality, we'd have billions of observations per day on millions of data sources."
   ]
  },
  {
   "cell_type": "code",
   "execution_count": 6,
   "metadata": {
    "collapsed": false
   },
   "outputs": [],
   "source": [
    "class MarketDataSource(ExternalRefData):\n",
    "    @dataField\n",
    "    def last(self):\n",
    "        return None\n",
    "    \n",
    "_tr.add(MarketDataSource)"
   ]
  },
  {
   "cell_type": "markdown",
   "metadata": {},
   "source": [
    "## Making some data sources [Test]\n",
    "\n",
    "Two pretend data sources: IBM and Google last trade prices."
   ]
  },
  {
   "cell_type": "code",
   "execution_count": 7,
   "metadata": {
    "collapsed": false
   },
   "outputs": [
    {
     "name": "stdout",
     "output_type": "stream",
     "text": [
      "175.61\n",
      "852.12\n"
     ]
    }
   ],
   "source": [
    "with db:\n",
    "    s1_ibm  = MarketDataSource('source1.IBM')\n",
    "    s1_goog = MarketDataSource('source1.GOOG')\n",
    "\n",
    "s1_ibm.update(last=175.61)\n",
    "s1_goog.update(last=852.12)\n",
    "\n",
    "print s1_ibm.last()\n",
    "print s1_goog.last()"
   ]
  },
  {
   "cell_type": "markdown",
   "metadata": {},
   "source": [
    "## Market Interface [DBA]\n",
    "\n",
    "How user code accesses market data. \n",
    "\n",
    "In reality, market interfaces would be choosing amongst raw data sources,\n",
    "providing bootstrapped curves, vol surfaces, etc."
   ]
  },
  {
   "cell_type": "code",
   "execution_count": 8,
   "metadata": {
    "collapsed": false
   },
   "outputs": [],
   "source": [
    "class MarketInterface(Entity):\n",
    "    \n",
    "    @node\n",
    "    def sourceName(self):\n",
    "        return 'source1'\n",
    "    \n",
    "    @node\n",
    "    def source(self):\n",
    "        return self.getObj(_tr.MarketDataSource, '%s.%s' % (self.sourceName(), self.meta.name()))\n",
    "    \n",
    "    @node\n",
    "    def spot(self):\n",
    "        return self.source().last()\n",
    "                           \n",
    "    \n",
    "_tr.add(MarketInterface)\n"
   ]
  },
  {
   "cell_type": "markdown",
   "metadata": {},
   "source": [
    "## Making some market interfaces [Test]"
   ]
  },
  {
   "cell_type": "code",
   "execution_count": 9,
   "metadata": {
    "collapsed": false
   },
   "outputs": [
    {
     "name": "stdout",
     "output_type": "stream",
     "text": [
      "175.61 <class 'decimal.Decimal'>\n",
      "852.12 <class 'decimal.Decimal'>\n"
     ]
    }
   ],
   "source": [
    "with db:\n",
    "    ibm  = MarketInterface('IBM')\n",
    "    goog = MarketInterface('GOOG')\n",
    "\n",
    "print ibm.spot(), type(ibm.spot())\n",
    "print goog.spot(), type(goog.spot())"
   ]
  },
  {
   "cell_type": "markdown",
   "metadata": {},
   "source": [
    "## Instruments [BA]\n",
    "\n",
    "Things we can own/have contracted. Instruments have an NPV.\n",
    "\n",
    "We implement two classes of instrument:\n",
    "* ForwardCashflow: money that will arrive at some future time\n",
    "* Equity: a share of common stock in a company\n",
    "    \n",
    "Both implementations are toys."
   ]
  },
  {
   "cell_type": "code",
   "execution_count": 10,
   "metadata": {
    "collapsed": false
   },
   "outputs": [],
   "source": [
    "class Instrument(WorkItem):\n",
    "    \"\"\"A thing that can be owned, an asset, or legal obligation\"\"\"\n",
    "    \n",
    "class ForwardCashflow(Instrument):\n",
    "    \n",
    "    @node(stored=True)\n",
    "    def currency(self):\n",
    "        return 'USD'\n",
    "    \n",
    "    @node(stored=True)\n",
    "    def settlementDatetime(self):\n",
    "        d = datetime.datetime.utcnow() + datetime.timedelta(2)\n",
    "        return d\n",
    "    \n",
    "    @node\n",
    "    def NPV(self):\n",
    "        # XXX - would really get the currency discount curve here, and discount according to \n",
    "        # current time/settlement time\n",
    "        # XXX - and do a conversion to our native currency\n",
    "        return 1\n",
    "    \n",
    "    @node\n",
    "    def name(self):\n",
    "        return 'Cash %s/%s' % (self.currency(), self.settlementDatetime())\n",
    "    \n",
    "class Equity(Instrument):\n",
    "    \n",
    "    @node(stored=True)\n",
    "    def assetName(self):\n",
    "        return 'IBM.Eq.1'\n",
    "    \n",
    "    @node\n",
    "    def NPV(self):\n",
    "        return self.refdata().spot()\n",
    "    \n",
    "    @node\n",
    "    def refdata(self):\n",
    "        return self.getObj(_tr.MarketInterface, self.assetName().split('.')[0])\n",
    "\n",
    "    @node\n",
    "    def name(self):\n",
    "        return 'Stock: %s' % self.assetName()\n",
    "    \n",
    "_tr.add(ForwardCashflow)\n",
    "_tr.add(Equity)"
   ]
  },
  {
   "cell_type": "markdown",
   "metadata": {},
   "source": [
    "## TradeOpenEvent [BA]\n",
    "\n",
    "An event/observation that represents buying or selling something.\n",
    "\n",
    "Someone gets *quantity* of *item*, and pays *unitPrice* of *premium* for each *item*.\n",
    "\n",
    "Note that *premium* is typically a *ForwardCashflow*, so the money settles T+2. From a risk/PnL point\n",
    "of view, we get the asset immediately. This is a gross simplification."
   ]
  },
  {
   "cell_type": "code",
   "execution_count": 11,
   "metadata": {
    "collapsed": false
   },
   "outputs": [],
   "source": [
    "class TradeOpenEvent(WorkItemOpenEvent):\n",
    "    @node(stored=True)\n",
    "    def action(self):\n",
    "        return 'Buy'\n",
    "    @node(stored=True)\n",
    "    def quantity(self):\n",
    "        return 1.\n",
    "    @node(stored=True)\n",
    "    def premium(self):\n",
    "        return None\n",
    "    @node(stored=True)\n",
    "    def unitPrice(self):\n",
    "        return 0.\n",
    "    \n",
    "    def _items(self):\n",
    "        bs = 1 if self.action() == 'Buy' else -1\n",
    "        pq = -bs * self.unitPrice() * self.quantity()\n",
    "        return [ [ self.ticket(), self.item(),    bs*self.quantity(), self.book1(), self.book2() ],\n",
    "                 [ self.ticket(), self.premium(), pq,                 self.book1(), self.book2() ]\n",
    "               ] \n",
    "\n",
    "_tr.add(TradeOpenEvent)"
   ]
  },
  {
   "cell_type": "markdown",
   "metadata": {},
   "source": [
    "## Let's book some trades [Test]"
   ]
  },
  {
   "cell_type": "code",
   "execution_count": 12,
   "metadata": {
    "collapsed": true
   },
   "outputs": [],
   "source": [
    "with db:\n",
    "    cf1 = ForwardCashflow()\n",
    "    ins1 = Equity()\n",
    "    ins2 = Equity(assetName='GOOG.Eq.1')\n",
    "    \n",
    "    ts1 = Timestamp()\n",
    "    \n",
    "    ev1 = TradeOpenEvent(action='Buy',\n",
    "                         item=ins1,\n",
    "                         quantity=100,\n",
    "                         premium=cf1,\n",
    "                         unitPrice=175.65,\n",
    "                         book1=b1,\n",
    "                         book2=bExt).write()\n",
    "    \n",
    "    ts2 = Timestamp()\n",
    "    \n",
    "    s1_ibm.update(last=175.64)\n",
    "    \n",
    "    ts3 = Timestamp()\n",
    "    \n",
    "    ev2 = TradeOpenEvent(action='Buy',\n",
    "                         item=ins2,\n",
    "                         quantity=300,\n",
    "                         premium=cf1,\n",
    "                         unitPrice=852.12,\n",
    "                         book1=b2,\n",
    "                         book2=bExt).write()\n",
    "    \n",
    "    ev3 = TradeOpenEvent(action='Sell',\n",
    "                         item=ins1,\n",
    "                         quantity=100,\n",
    "                         premium=cf1,\n",
    "                         unitPrice=175.85,\n",
    "                         book1=b2,\n",
    "                         book2=bExt2).write()\n",
    "    \n",
    "    ts4 = Timestamp()\n",
    "    \n",
    "    s1_ibm.update(last=175.70)\n",
    "    s1_goog.update(last=852.11)\n",
    "    \n",
    "    ts5 = Timestamp()\n",
    "    \n",
    "    s1_ibm.update(last=175.68)\n",
    "    s1_goog.update(last=852.13)\n",
    "    \n",
    "    eod = Timestamp()\n",
    "    \n",
    "    ev4 = TradeOpenEvent(action='Buy',\n",
    "                         item=ins1,\n",
    "                         quantity=100,\n",
    "                         premium=cf1,\n",
    "                         unitPrice=175.68,\n",
    "                         book1=b1,\n",
    "                         book2=bExt,\n",
    "                         amends=ev1,\n",
    "                        ).write()\n",
    "    \n",
    "    ts6 = Timestamp()\n",
    "    "
   ]
  },
  {
   "cell_type": "markdown",
   "metadata": {},
   "source": [
    "# Reporting [User]\n",
    "\n",
    "Reporting is the whole point of the Abstract Nonsense Db.\n",
    "\n",
    "We ignore all the standard report infrastructure goop (aggregation, GUIs, pivot-tables, drill-down, etc) and\n",
    "just focus on extracting the underlying data.\n",
    "\n",
    "For the following examples, we mostly care about NPV (the present values of what we own,) \n",
    "PnL (how much money we made or lost,) and risk (what happens to our NPV if underlying conditions change.)\n",
    "\n",
    "Note that even in the trivial case of our three trades, one amendment, and five market data updates, trying to write\n",
    "code to attribute profit, or even trying to figure it by hand, would require assumptions and be error-prone. \n",
    "\n",
    "In general, the less a report knows about the underlying data, the better it is."
   ]
  },
  {
   "cell_type": "markdown",
   "metadata": {},
   "source": [
    "## PnL: The most basic report\n",
    "\n",
    "How much money did we (i.e. our portfolio) gain or lose between two times?\n",
    "\n",
    "For example, if time1 was yesterday's close, and time2 is today's close, this report tells us how much we made or lost\n",
    "today. Will we be drinking champagne or straight vodka this evening?\n",
    "\n",
    "Note: it's worth understanding how the cash entries are working in this example. The reason our open and closed out\n",
    "positions are pricing rationally is because we are modelling cash approximately correct, not because the instruments\n",
    "are carrying around a notion of price-paid!"
   ]
  },
  {
   "cell_type": "code",
   "execution_count": 13,
   "metadata": {
    "collapsed": true
   },
   "outputs": [],
   "source": [
    "def reportPnL(valuable, ts1, ts2):\n",
    "    clock = valuable.getObj(_tr.RootClock, 'Main')\n",
    "    with Context({clock.cutoffs: ts1}):\n",
    "        npv1 = valuable.NPV()\n",
    "    with Context({clock.cutoffs: ts2}):\n",
    "        npv2 = valuable.NPV()\n",
    "    print 'PnL:', npv2-npv1"
   ]
  },
  {
   "cell_type": "markdown",
   "metadata": {},
   "source": [
    "### Example: top-of-the-house intraday PnL\n",
    "\n",
    "Hmm, one of our desks bought 100 shares of IBM, and the last trade price is already down 1 cent. The bank is down \n",
    "100 times $.01 or one dollar:"
   ]
  },
  {
   "cell_type": "code",
   "execution_count": 14,
   "metadata": {
    "collapsed": false
   },
   "outputs": [
    {
     "name": "stdout",
     "output_type": "stream",
     "text": [
      "PnL: -1.00\n"
     ]
    }
   ],
   "source": [
    "# 100 shares bought at $175.65\n",
    "# current price is $175.64:\n",
    "reportPnL(pAll, ts1, ts3)"
   ]
  },
  {
   "cell_type": "markdown",
   "metadata": {},
   "source": [
    "### Example: top-of-the-house daily PnL\n",
    "\n",
    "By end of day, the bank as a whole has closed out the IBM trade for a profit, and bought some GOOG. Closing refdata\n",
    "prices have been entered. We should have a total profit for the day of $23:"
   ]
  },
  {
   "cell_type": "code",
   "execution_count": 15,
   "metadata": {
    "collapsed": false,
    "scrolled": false
   },
   "outputs": [
    {
     "name": "stdout",
     "output_type": "stream",
     "text": [
      "PnL: 23.00\n"
     ]
    }
   ],
   "source": [
    "# 100 * ($175.85 - $175.65) =  $20\n",
    "# 300 * ($852.13 - $852.12) =  $ 3\n",
    "#                              ----\n",
    "#                              $23\n",
    "reportPnL(pAll, ts1, eod)"
   ]
  },
  {
   "cell_type": "markdown",
   "metadata": {},
   "source": [
    "### Example: trading desk daily PnL\n",
    "\n",
    "Desk *p1* bought IBM at $175.65\n",
    "\n",
    "It still owns IBM, which closed at $175.68\n",
    "\n",
    "So, it should be up $3:"
   ]
  },
  {
   "cell_type": "code",
   "execution_count": 16,
   "metadata": {
    "collapsed": false
   },
   "outputs": [
    {
     "name": "stdout",
     "output_type": "stream",
     "text": [
      "PnL: 3.00\n"
     ]
    }
   ],
   "source": [
    "# 100 * ($175.68 - $175.65) =   $3\n",
    "reportPnL(p1, ts1, eod)"
   ]
  },
  {
   "cell_type": "markdown",
   "metadata": {},
   "source": [
    "# Let's see what is going on when we run a report [Core]"
   ]
  },
  {
   "cell_type": "code",
   "execution_count": 17,
   "metadata": {
    "collapsed": false,
    "scrolled": false
   },
   "outputs": [
    {
     "name": "stdout",
     "output_type": "stream",
     "text": [
      "PnL: 20.00\n"
     ]
    },
    {
     "data": {
      "text/markdown": [
       "Profile by nodes.\n",
       "* times are in microseconds\n",
       "* cumT is total time spent in funtion\n",
       "* calcT is time spent in function, but not in a child node"
      ],
      "text/plain": [
       "<IPython.core.display.Markdown object>"
      ]
     },
     "metadata": {},
     "output_type": "display_data"
    },
    {
     "data": {
      "text/markdown": [
       "|fn|n|cumT|calcT|cumT/call|sys|\n",
       "|-|-|-|-|-|-|\n",
       "|TradingPortfolio:NPV|22|1,302,152|230|59,188|GetValue\n",
       "|TradingPortfolio:NPV|22|1,301,921|2,797|59,178|GetValue/Calc\n",
       "||2|664,976|40|332,488|Context\n",
       "|TradingBook:NPV|200|411,641|1,662|2,058|GetValue\n",
       "|TradingBook:NPV|200|409,979|2,725|2,049|GetValue/Calc\n",
       "|Workbook:items|200|376,449|1,686|1,882|GetValue\n",
       "|Workbook:items|200|374,762|339,107|1,873|GetValue/Calc\n",
       "|Portfolio:children|22|250,266|208|11,375|GetValue\n",
       "|Portfolio:children|22|250,057|38,796|11,366|GetValue/Calc\n",
       "|PortfolioUpdateEvent:children|22|180,865|1,149|8,221|GetValue\n",
       "|TradingBook|102|167,066|167,066|1,637|Db.Get\n",
       "|Equity:NPV|3|30,775|24|10,258|GetValue\n",
       "|Equity:NPV|2|30,750|53|15,375|GetValue/Calc\n",
       "|MarketInterface:spot|2|27,426|17|13,713|GetValue\n",
       "|MarketInterface:spot|2|27,409|65|13,704|GetValue/Calc\n",
       "|PortfolioUpdateEvent|11|24,378|24,378|2,216|Db.Get\n",
       "|ExternalRefData:state|2|23,916|16|11,958|GetValue\n",
       "|ExternalRefData:state|2|23,899|37|11,949|GetValue/Calc\n",
       "|RefData:state|2|23,862|24|11,931|GetValue\n",
       "|RefData:state|2|23,837|4,044|11,918|GetValue/Calc\n",
       "|RefDataUpdateEvent|7|16,397|16,397|2,342|Db.Get\n",
       "|TradingPortfolio|10|15,849|15,849|1,584|Db.Get\n",
       "|Clock:cutoffs|448|10,095|1,398|22|GetValue\n",
       "|TradeOpenEvent|4|9,122|9,122|2,280|Db.Get\n",
       "|Clock:cutoffs|5|8,697|105|1,739|GetValue/Calc\n",
       "|Clock:parent|5|8,576|46|1,715|GetValue\n",
       "|Clock:parent|5|8,530|8,364|1,706|GetValue/Calc\n",
       "|Workbook:clock|400|8,206|3,694|20|GetValue\n",
       "|_WorkItemEvent:ticket|6|4,917|54|819|GetValue\n",
       "|Clock|3|4,900|4,900|1,633|Db.Get\n",
       "|WorkTicket|3|4,862|4,862|1,620|Db.Get\n",
       "|Workbook:clock|200|4,512|2,843|22|GetValue/Calc\n",
       "|RootClock|1|3,946|3,946|3,946|Db.Get\n",
       "|_WorkItemEvent:item|3|3,519|39|1,173|GetValue\n",
       "|Equity|2|3,479|3,479|1,739|Db.Get\n",
       "|MarketInterface:source|2|3,427|20|1,713|GetValue\n",
       "|MarketInterface:source|2|3,407|58|1,703|GetValue/Calc\n",
       "|MarketDataSource|2|3,325|3,325|1,662|Db.Get\n",
       "|Equity:refdata|2|3,270|24|1,635|GetValue\n",
       "|Equity:refdata|2|3,246|62|1,623|GetValue/Calc\n",
       "|_WorkItemEvent:book2|6|3,240|40|540|GetValue\n",
       "|MarketInterface|2|3,174|3,174|1,587|Db.Get\n",
       "|Portfolio:clock|44|2,333|373|53|GetValue\n",
       "|Portfolio:clock|22|1,959|294|89|GetValue/Calc\n",
       "|CosmicAll|1|1,819|1,819|1,819|Db.Get\n",
       "|TradeOpenEvent:premium|3|1,685|29|561|GetValue\n",
       "|ForwardCashflow|1|1,656|1,656|1,656|Db.Get\n",
       "|RefData:clock|4|1,626|26|406|GetValue\n",
       "|RefData:clock|2|1,599|33|799|GetValue/Calc\n",
       "|Event:amends|32|186|186|5|GetValue\n",
       "|Entity:clock|10|138|85|13|GetValue\n",
       "|Entity:clock|5|52|52|10|GetValue/Calc\n",
       "|RootClock:cutoffs|15|42|42|2|GetValue\n",
       "|RefDataUpdateEvent:data|7|37|37|5|GetValue\n",
       "|_WorkItemEvent:book1|6|33|33|5|GetValue\n",
       "|ForwardCashflow:NPV|2|28|24|14|GetValue\n",
       "|TradeOpenEvent:quantity|6|27|27|4|GetValue\n",
       "|MarketInterface:sourceName|2|23|17|11|GetValue\n",
       "|TradeOpenEvent:unitPrice|3|20|20|6|GetValue\n",
       "|TradeOpenEvent:action|3|18|18|6|GetValue\n",
       "|Equity:assetName|2|10|10|5|GetValue\n",
       "|MarketInterface:sourceName|2|5|5|2|GetValue/Calc\n",
       "|ForwardCashflow:NPV|1|4|4|4|GetValue/Calc"
      ],
      "text/plain": [
       "<IPython.core.display.Markdown object>"
      ]
     },
     "metadata": {},
     "output_type": "display_data"
    }
   ],
   "source": [
    "with ProfileMonitor(mode='sum'):\n",
    "    db3 = db.copy()\n",
    "    p = db3._get(pAll.meta.path())\n",
    "    reportPnL(p, ts1, ts6)"
   ]
  }
 ],
 "metadata": {
  "kernelspec": {
   "display_name": "Python 2",
   "language": "python",
   "name": "python2"
  },
  "language_info": {
   "codemirror_mode": {
    "name": "ipython",
    "version": 2
   },
   "file_extension": ".py",
   "mimetype": "text/x-python",
   "name": "python",
   "nbconvert_exporter": "python",
   "pygments_lexer": "ipython2",
   "version": "2.7.13"
  }
 },
 "nbformat": 4,
 "nbformat_minor": 2
}
