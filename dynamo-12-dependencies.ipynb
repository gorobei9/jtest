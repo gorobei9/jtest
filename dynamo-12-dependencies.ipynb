{
 "cells": [
  {
   "cell_type": "code",
   "execution_count": 1,
   "metadata": {
    "collapsed": false
   },
   "outputs": [],
   "source": [
    "from mand.core import Entity, node, getNode\n",
    "from mand.core import ObjectDb, Timestamp, Context, SimplificationContext, _tr\n",
    "from mand.core import ProfileMonitor, SummaryMonitor\n",
    "from mand.core import find, addFootnote\n",
    "from mand.core import DependencyManager, setDependencyManager\n",
    "from mand.demos.trading import makeWorld, bookSomeTrades, PnLExplainReport\n",
    "from mand.lib.dbsetup import setUpDb\n",
    "\n",
    "db = ObjectDb()\n",
    "setUpDb(db)"
   ]
  },
  {
   "cell_type": "code",
   "execution_count": 2,
   "metadata": {
    "collapsed": false,
    "scrolled": false
   },
   "outputs": [
    {
     "name": "stdout",
     "output_type": "stream",
     "text": [
      "makeWorld, TopOfTheHouse is: <Entity:/Global/TradingPortfolio/TopOfTheHouse>\n",
      "    # books: 100\n",
      "    # children: 10\n"
     ]
    }
   ],
   "source": [
    "small = False\n",
    "\n",
    "with db:\n",
    "    pWorld = makeWorld(small=small)\n",
    "    \n",
    "pAll, bExt, bExt2 = pWorld.children()\n",
    "p1 = pAll.children()[0]\n",
    "p2 = pAll.children()[1]\n",
    "p4 = pAll.children()[3]\n",
    "\n",
    "b2 = p2.children()[0]\n",
    "b4 = p4.children()[0]"
   ]
  },
  {
   "cell_type": "code",
   "execution_count": 3,
   "metadata": {
    "collapsed": false
   },
   "outputs": [],
   "source": [
    "ts0, ts1, ts2, ts3, ts4, ts5, eod, ts6 = bookSomeTrades(pWorld, small=small)\n",
    "\n",
    "p1.setChildren(p1.children() + [b2])\n",
    "ts7 = Timestamp()"
   ]
  },
  {
   "cell_type": "markdown",
   "metadata": {},
   "source": [
    "# Sanity check of a computation we might want to optimize [Test]\n",
    "\n",
    "The PnL report is a good test, but at 152K getValues, it's a bit too big to immediately use:"
   ]
  },
  {
   "cell_type": "code",
   "execution_count": 4,
   "metadata": {
    "collapsed": false,
    "scrolled": false
   },
   "outputs": [
    {
     "data": {
      "text/markdown": [
       "# PnL explain for TopOfTheHouse: 6256.00"
      ],
      "text/plain": [
       "<IPython.core.display.Markdown object>"
      ]
     },
     "metadata": {},
     "output_type": "display_data"
    },
    {
     "data": {
      "text/markdown": [
       "**Caveat: this report encountered problems. See footnotes at bottom.**"
      ],
      "text/plain": [
       "<IPython.core.display.Markdown object>"
      ]
     },
     "metadata": {},
     "output_type": "display_data"
    },
    {
     "data": {
      "text/markdown": [
       "|Activity|PnL|\n",
       "|-|-|\n",
       "|Starting balance breaks|0.00\n",
       "|prior day amends: MarketData|0.00\n",
       "|prior day amends: Portfolio|0.00\n",
       "|prior day amends: Trading|-4.00\n",
       "|activity: MarketData|5240.00\n",
       "|activity: Portfolio|1020.00\n",
       "|activity: Trading|0.00\n",
       "|Ending balance breaks|0.00"
      ],
      "text/plain": [
       "<IPython.core.display.Markdown object>"
      ]
     },
     "metadata": {},
     "output_type": "display_data"
    },
    {
     "data": {
      "text/markdown": [
       "1. Inadequate cash discounting model used\n",
       "1. Book appears multiple times\n",
       "  * /Global/TradingBook/Eq-Inst0"
      ],
      "text/plain": [
       "<IPython.core.display.Markdown object>"
      ]
     },
     "metadata": {},
     "output_type": "display_data"
    },
    {
     "data": {
      "text/markdown": [
       "# Compute activity summary (22.46 seconds of wall clock time)"
      ],
      "text/plain": [
       "<IPython.core.display.Markdown object>"
      ]
     },
     "metadata": {},
     "output_type": "display_data"
    },
    {
     "data": {
      "text/markdown": [
       "|key|value|\n",
       "|-|-|\n",
       "|Context|11\n",
       "|Db.Get|2176\n",
       "|GetValue|152158\n",
       "|GetValue/Calc|2891"
      ],
      "text/plain": [
       "<IPython.core.display.Markdown object>"
      ]
     },
     "metadata": {},
     "output_type": "display_data"
    },
    {
     "data": {
      "text/markdown": [
       "\n",
       "### Profile by nodes.\n",
       "* times are in microseconds\n",
       "* cumT is total time spent in funtion\n",
       "* calcT is time spent in function, but not in a child node"
      ],
      "text/plain": [
       "<IPython.core.display.Markdown object>"
      ]
     },
     "metadata": {},
     "output_type": "display_data"
    },
    {
     "data": {
      "text/markdown": [
       "|fn|n|cumT|calcT|cumT/call|sys|\n",
       "|-|-|-|-|-|-|\n",
       "|PnLExplainReport:data|1|22,449,635|19|22,449,635|GetValue\n",
       "|PnLExplainReport:data|1|22,449,615|686|22,449,615|GetValue/Calc\n",
       "|TradingContainer:NPV|11|22,376,711|203|2,034,246|GetValue\n",
       "|TradingContainer:NPV|11|22,376,508|123|2,034,228|GetValue/Calc\n",
       "|Portfolio:items|121|22,171,768|1,714|183,237|GetValue\n",
       "|Portfolio:items|121|22,171,656|1,110|183,236|GetValue/Calc\n",
       "|Workbook:items|1,104|21,008,972|15,743|19,029|GetValue\n",
       "|Workbook:items|1,100|20,993,228|12,498|19,084|GetValue/Calc\n",
       "|PnLExplainReport:cutoffs|1|11,543,650|20|11,543,650|GetValue\n",
       "|PnLExplainReport:cutoffs|1|11,543,629|205|11,543,629|GetValue/Calc\n",
       "|Root:Clocks|548|11,543,322|2,239,610|21,064|Context\n",
       "|TradeOpenEvent|1,014|4,509,989|4,509,989|4,447|Db.Get\n",
       "|TradeOpenEvent:ticket|22,286|4,138,741|147,261|185|GetValue\n",
       "|TradingTicket|1,014|3,991,480|3,991,480|3,936|Db.Get\n",
       "|Root:End|278|1,446,378|1,349,106|5,202|Context\n",
       "|Root:Activity MarketData|255|1,305,902|1,215,540|5,121|Context\n",
       "|Root:Amend MarketData|255|1,285,317|1,189,135|5,040|Context\n",
       "|Root:Activity Portfolio|263|1,281,527|1,162,222|4,872|Context\n",
       "|Root:Amend Portfolio|255|1,261,650|1,169,385|4,947|Context\n",
       "|Root:Start|270|1,168,035|1,081,174|4,326|Context\n",
       "|Root:Activity Trading|263|1,114,315|1,019,430|4,236|Context\n",
       "|Portfolio:children|242|1,107,820|2,303|4,577|GetValue\n",
       "|Portfolio:children|121|1,105,516|1,376|9,136|GetValue/Calc\n",
       "|Root:Amend Trading|255|1,024,055|936,663|4,015|Context\n",
       "|Root:Start breaks|255|1,013,402|925,431|3,974|Context\n",
       "|PortfolioUpdateEvent:children|121|437,659|4,138|3,617|GetValue\n",
       "|TradingBook|102|395,210|395,210|3,874|Db.Get\n",
       "|Equity:NPV|15|201,777|206|13,451|GetValue\n",
       "|Equity:NPV|15|201,570|137|13,438|GetValue/Calc\n",
       "|MarketInterface:spot|15|190,697|183|12,713|GetValue\n",
       "|MarketInterface:spot|15|190,514|130|12,700|GetValue/Calc\n",
       "|ExternalRefData:state|15|180,186|167|12,012|GetValue\n",
       "|ExternalRefData:state|15|180,018|139|12,001|GetValue/Calc\n",
       "|RefData:state|15|179,372|249|11,958|GetValue\n",
       "|RefData:state|15|179,123|153|11,941|GetValue/Calc\n",
       "|_WorkItemEvent:book1|22,286|136,767|136,767|6|GetValue\n",
       "|_WorkItemEvent:book2|22,286|134,369|126,870|6|GetValue\n",
       "|Clock:cutoffs|2,480|127,159|13,287|51|GetValue\n",
       "|TradeOpenEvent:quantity|22,286|122,692|122,692|5|GetValue\n",
       "|Clock:cutoffs|20|113,970|238|5,698|GetValue/Calc\n",
       "|Clock:parent|20|112,609|251|5,630|GetValue\n",
       "|Clock:parent|20|112,358|201|5,617|GetValue/Calc\n",
       "|_WorkItemEvent:item|11,143|98,088|89,236|8|GetValue\n",
       "|TradeOpenEvent:action|11,143|93,160|93,160|8|GetValue\n",
       "|TradeOpenEvent:premium|11,143|86,056|82,657|7|GetValue\n",
       "|Event:amends|11,340|75,490|75,490|6|GetValue\n",
       "|TradeOpenEvent:unitPrice|11,143|74,453|74,453|6|GetValue\n",
       "|TradingBook:clock|2,200|73,105|27,717|33|GetValue\n",
       "|PortfolioUpdateEvent|12|56,728|56,728|4,727|Db.Get\n",
       "|TradingPortfolio|10|45,809|45,809|4,580|Db.Get\n",
       "|TradingBook:clock|1,100|45,388|15,228|41|GetValue/Calc\n",
       "|RefDataUpdateEvent|9|41,375|41,375|4,597|Db.Get\n",
       "|Clock|5|19,942|19,942|3,988|Db.Get\n",
       "|Portfolio:clock|242|14,430|3,416|59|GetValue\n",
       "|Portfolio:clock|121|11,013|1,880|91|GetValue/Calc\n",
       "|Equity:refdata|15|10,059|181|670|GetValue\n",
       "|Portfolio:books|231|9,945|2,232|43|GetValue\n",
       "|Equity:refdata|15|9,877|144|658|GetValue/Calc\n",
       "|MarketInterface:source|15|9,261|159|617|GetValue\n",
       "|MarketInterface:source|15|9,101|144|606|GetValue/Calc\n",
       "|MarketInterface|2|9,045|9,045|4,522|Db.Get\n",
       "|Equity|2|8,852|8,852|4,426|Db.Get\n",
       "|ClockEvent|2|8,495|8,495|4,247|Db.Get\n",
       "|Portfolio:books|121|8,160|1,169|67|GetValue/Calc\n",
       "|MarketDataSource|2|7,644|7,644|3,822|Db.Get\n",
       "|ClockEvent:parent|8|7,251|100|906|GetValue\n",
       "|RootClock|1|4,677|4,677|4,677|Db.Get\n",
       "|MarketDataSource:clock|30|4,416|346|147|GetValue\n",
       "|MarketDataSource:clock|15|4,070|200|271|GetValue/Calc\n",
       "|ForwardCashflow|1|3,398|3,398|3,398|Db.Get\n",
       "|Entity:clock|40|1,166|474|29|GetValue\n",
       "|Entity:clock|20|691|254|34|GetValue/Calc\n",
       "|MarketInterface:sourceName|15|462|182|30|GetValue\n",
       "|ForwardCashflow:NPV|11|435|171|39|GetValue\n",
       "|RefDataUpdateEvent:data|58|394|394|6|GetValue\n",
       "|RootClock:cutoffs|53|352|275|6|GetValue\n",
       "|MarketInterface:sourceName|15|279|190|18|GetValue/Calc\n",
       "|ForwardCashflow:NPV|11|263|106|23|GetValue/Calc\n",
       "|Equity:assetName|15|118|118|7|GetValue\n",
       "|RootClock:cutoffs|1|77|40|77|GetValue/Calc\n",
       "|RootClock:cosmicAll|1|21|12|21|GetValue\n",
       "|CosmicAll:dbState|1|14|8|14|GetValue\n",
       "|PnLExplainReport:valuable|2|11|11|5|GetValue\n",
       "|PnLExplainReport:ts2|2|10|10|5|GetValue\n",
       "|RootClock:cosmicAll|1|9|9|9|GetValue/Calc\n",
       "|PnLExplainReport:ts1|2|9|9|4|GetValue\n",
       "|CosmicAll:dbState|1|5|5|5|GetValue/Calc"
      ],
      "text/plain": [
       "<IPython.core.display.Markdown object>"
      ]
     },
     "metadata": {},
     "output_type": "display_data"
    }
   ],
   "source": [
    "db3 = db.copy()\n",
    "p = db3._get(pAll.meta.path())\n",
    "\n",
    "r = PnLExplainReport(valuable=p, ts1=eod, ts2=ts7)\n",
    "\n",
    "with ProfileMonitor():\n",
    "    with SummaryMonitor():\n",
    "        r.run()"
   ]
  },
  {
   "cell_type": "markdown",
   "metadata": {},
   "source": [
    "# Caching/Reusing results\n",
    "\n",
    "Until now, we have just checked to see if the current context contains a value for a node we are asking for, and if so, reuse that.\n",
    "\n",
    "A better approach to caching bound *fn* on *object* in *context0* is:\n",
    "    \n",
    "1. Has fn been tweaked in context0? If so, return that\n",
    "2. Is fn sufficiently trivial that we can avoid managing it as a node?\n",
    "  * If trivial, just treat it as a pure python function and call it\n",
    "  * Meta-data (inputs, outputs, etc) will be given to its caller and callees as appropriate\n",
    "3. Ask object for context1\n",
    "  * *context1* is a simplified version of *context0*\n",
    "  * The default case is just to return *context1*\n",
    "  * IRL, this could actually be a list of contexts or a pattern to match contexts against\n",
    "4. Is fn cached in *context1*? If so, use that\n",
    "5. Compute *fn* in *context1*\n",
    "6. Construct *context2* from the inputs of the computed value\n",
    "7. If *context2* is a subset of *context1*, cache *fn* in *context1*\n",
    "8. Something odd happened\n",
    "  * Footnote the problem as part of computation notes on the node's metadata\n",
    "  * Maybe cache the node anyway in *context2*\n",
    "    * Perhaps *object* will return *context2* as a siplification for future computations?\n",
    "9. Return the value\n",
    "\n",
    "Notes:\n",
    "* Parallel compute of nodes not considered yet\n",
    "* Context simplification (step 3) and input simplification (step 9) are probably intimately related\n",
    "* The split between calculation and caching is nice:\n",
    "  * BAs can write business logic\n",
    "  * Computer scientists can add caching logic where needed\n",
    "* We can use a profiler type object to gather runtime compute cost infomation\n",
    "  * The resulting trace can be used as input to drive step 2 and step 3\n",
    "    "
   ]
  },
  {
   "cell_type": "markdown",
   "metadata": {
    "collapsed": true
   },
   "source": [
    "# Graph Simplification\n",
    "\n",
    "* Very simple input management simplifier: ignore inputs if they are leaves and not tweakable\n",
    "* Simple context simplification: just switch to a simple context for certain known methods"
   ]
  },
  {
   "cell_type": "code",
   "execution_count": 5,
   "metadata": {
    "collapsed": false,
    "scrolled": false
   },
   "outputs": [],
   "source": [
    "class DM1(DependencyManager):\n",
    "    \n",
    "    def __init__(self):\n",
    "        self.contexts = {}\n",
    "        #self.simpleClockMethods = ('Workbook:items', 'RefData:state', 'Portfolio:children', 'Portfolio:items')\n",
    "        super(DM1, self).__init__()\n",
    "        \n",
    "    def addDep(self, input, output):\n",
    "        if not input.key.tweakable:\n",
    "            if not input.inputs:\n",
    "                return\n",
    "        output.inputs.add(input)\n",
    "        input.outputs.add(output)\n",
    "\n",
    "    def calculated(self, node):\n",
    "        if not node.isSimplified:\n",
    "            return True\n",
    "        ok = True\n",
    "        for input in node.floatingTweakPoints():\n",
    "            addFootnote(text='context simplification failure', info='%s in %s on %s in %s' % (str(node.key), node.ctx.name, str(input.key), input.ctx.name))\n",
    "            ok = False\n",
    "        return ok\n",
    "\n",
    "    def simplify(self, key):\n",
    "        if key.fullName() == 'RefData:state':\n",
    "            obj = key.object()\n",
    "            return (obj.clock().cutoffs,)\n",
    "        if key.fullName() == 'Portfolio:items':\n",
    "            obj = key.object()\n",
    "            obj2 = obj.getObj(_tr.Clock, 'Trading')\n",
    "            return (obj.clock().cutoffs, obj2.cutoffs)\n",
    "        if key.fullName() == 'Workbook:items':\n",
    "            obj = key.object()\n",
    "            return (obj.clock().cutoffs,)\n",
    "        \n",
    "    def getNode(self, ctx, key):\n",
    "        n = ctx._get(key)\n",
    "        if n:\n",
    "            return n\n",
    "        s = self.simplify(key)\n",
    "        if s: \n",
    "            nodes = [ getNode(bm) for bm in s ]\n",
    "            values = [ bm() for bm in s ]\n",
    "            k = [ (n.object(), n.key.fullName(), v) for n, v in zip(nodes, values) ]\n",
    "            cKey = tuple(k)\n",
    "            \n",
    "            if cKey not in self.contexts:\n",
    "                tweaks = dict( [ (bm, v) for bm, v in zip(s, values)])\n",
    "                name = 'simp-%s' % len(self.contexts)\n",
    "                ctx1 = SimplificationContext(tweaks, name)\n",
    "                self.contexts[cKey] = ctx1\n",
    "            ctx1 = self.contexts[cKey]\n",
    "            ret = ctx1.get(key)\n",
    "            ret.isSimplified = True\n",
    "        else:\n",
    "            ret = super(DM1, self).getNode(ctx, key)\n",
    "            ret.isSimplified = False\n",
    "        return ret\n",
    "    \n",
    "dm = DM1()\n",
    "setDependencyManager(dm)\n"
   ]
  },
  {
   "cell_type": "code",
   "execution_count": 6,
   "metadata": {
    "collapsed": false,
    "scrolled": false
   },
   "outputs": [
    {
     "data": {
      "text/markdown": [
       "# PnL explain for TopOfTheHouse: 6256.00"
      ],
      "text/plain": [
       "<IPython.core.display.Markdown object>"
      ]
     },
     "metadata": {},
     "output_type": "display_data"
    },
    {
     "data": {
      "text/markdown": [
       "**Caveat: this report encountered problems. See footnotes at bottom.**"
      ],
      "text/plain": [
       "<IPython.core.display.Markdown object>"
      ]
     },
     "metadata": {},
     "output_type": "display_data"
    },
    {
     "data": {
      "text/markdown": [
       "|Activity|PnL|\n",
       "|-|-|\n",
       "|Starting balance breaks|0.00\n",
       "|prior day amends: MarketData|0.00\n",
       "|prior day amends: Portfolio|0.00\n",
       "|prior day amends: Trading|-4.00\n",
       "|activity: MarketData|5240.00\n",
       "|activity: Portfolio|1020.00\n",
       "|activity: Trading|0.00\n",
       "|Ending balance breaks|0.00"
      ],
      "text/plain": [
       "<IPython.core.display.Markdown object>"
      ]
     },
     "metadata": {},
     "output_type": "display_data"
    },
    {
     "data": {
      "text/markdown": [
       "1. Inadequate cash discounting model used\n",
       "1. Book appears multiple times\n",
       "  * /Global/TradingBook/Eq-Inst0"
      ],
      "text/plain": [
       "<IPython.core.display.Markdown object>"
      ]
     },
     "metadata": {},
     "output_type": "display_data"
    },
    {
     "data": {
      "text/markdown": [
       "# Compute activity summary (14.03 seconds of wall clock time)"
      ],
      "text/plain": [
       "<IPython.core.display.Markdown object>"
      ]
     },
     "metadata": {},
     "output_type": "display_data"
    },
    {
     "data": {
      "text/markdown": [
       "|key|value|\n",
       "|-|-|\n",
       "|Context|22\n",
       "|Db.Get|2176\n",
       "|GetValue|43372\n",
       "|GetValue/Calc|1531"
      ],
      "text/plain": [
       "<IPython.core.display.Markdown object>"
      ]
     },
     "metadata": {},
     "output_type": "display_data"
    },
    {
     "data": {
      "text/markdown": [
       "\n",
       "### Profile by nodes.\n",
       "* times are in microseconds\n",
       "* cumT is total time spent in funtion\n",
       "* calcT is time spent in function, but not in a child node"
      ],
      "text/plain": [
       "<IPython.core.display.Markdown object>"
      ]
     },
     "metadata": {},
     "output_type": "display_data"
    },
    {
     "data": {
      "text/markdown": [
       "|fn|n|cumT|calcT|cumT/call|sys|\n",
       "|-|-|-|-|-|-|\n",
       "|PnLExplainReport:data|1|14,025,542|16|14,025,542|GetValue\n",
       "|PnLExplainReport:data|1|14,025,526|1,017|14,025,526|GetValue/Calc\n",
       "|TradingContainer:NPV|11|13,945,812|161|1,267,801|GetValue\n",
       "|TradingContainer:NPV|11|13,945,650|150|1,267,786|GetValue/Calc\n",
       "|Portfolio:items|61|13,721,186|814|224,937|GetValue\n",
       "|Portfolio:items|55|13,721,093|607|249,474|GetValue/Calc\n",
       "|Workbook:items|502|12,871,161|5,621|25,639|GetValue\n",
       "|Workbook:items|300|12,865,540|3,014|42,885|GetValue/Calc\n",
       "|PnLExplainReport:cutoffs|1|12,328,405|25|12,328,405|GetValue\n",
       "|PnLExplainReport:cutoffs|1|12,328,379|293|12,328,379|GetValue/Calc\n",
       "|Root:Clocks|59|12,327,836|123,723|208,946|Context\n",
       "|simp-0|144|11,041,001|61,785|76,673|Context\n",
       "|simp-1|200|10,466,011|1,027,464|52,330|Context\n",
       "|TradeOpenEvent|1,014|5,172,436|5,172,436|5,101|Db.Get\n",
       "|TradeOpenEvent:ticket|6,078|4,176,960|49,600|687|GetValue\n",
       "|TradingTicket|1,014|4,127,360|4,127,360|4,070|Db.Get\n",
       "|Root:Amend Trading|11|1,488,131|636|135,284|Context\n",
       "|simp-8|144|1,487,237|63,536|10,328|Context\n",
       "|simp-9|200|1,415,975|1,327,474|7,079|Context\n",
       "|simp-3|144|1,050,038|62,288|7,291|Context\n",
       "|simp-4|200|980,539|895,036|4,902|Context\n",
       "|Portfolio:children|110|761,834|1,317|6,925|GetValue\n",
       "|Portfolio:children|55|760,517|688|13,827|GetValue/Calc\n",
       "|PortfolioUpdateEvent:children|55|443,309|2,325|8,060|GetValue\n",
       "|TradingBook|102|403,454|403,454|3,955|Db.Get\n",
       "|Equity:NPV|15|145,811|219|9,720|GetValue\n",
       "|Equity:NPV|15|145,592|143|9,706|GetValue/Calc\n",
       "|MarketInterface:spot|15|134,804|269|8,986|GetValue\n",
       "|MarketInterface:spot|15|134,535|171|8,969|GetValue/Calc\n",
       "|ExternalRefData:state|15|122,639|251|8,175|GetValue\n",
       "|ExternalRefData:state|15|122,388|200|8,159|GetValue/Calc\n",
       "|Clock:cutoffs|1,365|120,157|7,237|88|GetValue\n",
       "|Clock:cutoffs|20|113,026|208|5,651|GetValue/Calc\n",
       "|Clock:parent|20|111,313|298|5,565|GetValue\n",
       "|Clock:parent|20|111,014|214|5,550|GetValue/Calc\n",
       "|Root:Amend Portfolio|11|75,228|692|6,838|Context\n",
       "|simp-7|144|74,283|68,324|515|Context\n",
       "|Root:Activity Portfolio|18|70,557|1,492|3,919|Context\n",
       "|simp-10|144|68,487|62,765|475|Context\n",
       "|RefData:state|15|66,668|113|4,444|GetValue\n",
       "|RefData:state|4|66,555|39|16,638|GetValue/Calc\n",
       "|PortfolioUpdateEvent|12|63,627|63,627|5,302|Db.Get\n",
       "|TradingPortfolio|10|46,946|46,946|4,694|Db.Get\n",
       "|RefDataUpdateEvent|9|45,995|45,995|5,110|Db.Get\n",
       "|_WorkItemEvent:book2|6,078|44,308|34,892|7|GetValue\n",
       "|simp-5|4|41,433|11,610|10,358|Context\n",
       "|TradingBook:clock|1,102|40,107|15,315|36|GetValue\n",
       "|_WorkItemEvent:item|3,039|39,425|28,136|12|GetValue\n",
       "|_WorkItemEvent:book1|6,078|37,844|37,844|6|GetValue\n",
       "|TradeOpenEvent:quantity|6,078|33,390|33,390|5|GetValue\n",
       "|TradeOpenEvent:premium|3,039|27,706|23,300|9|GetValue\n",
       "|TradeOpenEvent:action|3,039|25,349|25,349|8|GetValue\n",
       "|TradingBook:clock|800|24,792|9,421|30|GetValue/Calc\n",
       "|Root:End|33|23,607|22,561|715|Context\n",
       "|Clock|5|23,570|23,570|4,714|Db.Get\n",
       "|Root:Start|26|21,873|21,187|841|Context\n",
       "|Event:amends|3,122|20,630|20,630|6|GetValue\n",
       "|simp-2|2|20,567|4,054|10,283|Context\n",
       "|TradeOpenEvent:unitPrice|3,039|20,177|20,177|6|GetValue\n",
       "|Equity|2|11,288|11,288|5,644|Db.Get\n",
       "|ClockEvent:parent|8|11,191|143|1,398|GetValue\n",
       "|MarketInterface:source|15|10,680|190|712|GetValue\n",
       "|MarketInterface:source|15|10,489|163|699|GetValue/Calc\n",
       "|Equity:refdata|15|9,502|262|633|GetValue\n",
       "|Equity:refdata|15|9,240|204|616|GetValue/Calc\n",
       "|MarketDataSource|2|8,934|8,934|4,467|Db.Get\n",
       "|ClockEvent|2|8,574|8,574|4,287|Db.Get\n",
       "|MarketInterface|2|8,002|8,002|4,001|Db.Get\n",
       "|Portfolio:clock|171|7,298|1,718|42|GetValue\n",
       "|RootClock|1|5,606|5,606|5,606|Db.Get\n",
       "|Portfolio:clock|66|5,579|749|84|GetValue/Calc\n",
       "|Root:Amend MarketData|11|5,421|663|492|Context\n",
       "|MarketDataSource:clock|23|5,302|290|230|GetValue\n",
       "|MarketDataSource:clock|19|5,011|203|263|GetValue/Calc\n",
       "|Portfolio:books|105|4,945|1,151|47|GetValue\n",
       "|simp-6|2|4,514|4,427|2,257|Context\n",
       "|ForwardCashflow|1|4,405|4,405|4,405|Db.Get\n",
       "|Portfolio:books|55|3,998|696|72|GetValue/Calc\n",
       "|Root:Activity Trading|18|3,326|2,325|184|Context\n",
       "|Root:Activity MarketData|11|1,586|1,151|144|Context\n",
       "|Entity:clock|40|1,152|473|28|GetValue\n",
       "|Root:Start breaks|11|745|530|67|Context\n",
       "|Entity:clock|20|679|277|33|GetValue/Calc\n",
       "|MarketInterface:sourceName|15|638|224|42|GetValue\n",
       "|RootClock:cutoffs|53|447|251|8|GetValue\n",
       "|ForwardCashflow:NPV|11|441|177|40|GetValue\n",
       "|MarketInterface:sourceName|15|413|301|27|GetValue/Calc\n",
       "|ForwardCashflow:NPV|11|263|106|23|GetValue/Calc\n",
       "|RootClock:cutoffs|1|195|129|195|GetValue/Calc\n",
       "|Equity:assetName|15|149|149|9|GetValue\n",
       "|RefDataUpdateEvent:data|15|138|138|9|GetValue\n",
       "|RootClock:cosmicAll|1|36|20|36|GetValue\n",
       "|CosmicAll:dbState|1|30|19|30|GetValue\n",
       "|PnLExplainReport:ts1|2|27|27|13|GetValue\n",
       "|RootClock:cosmicAll|1|15|15|15|GetValue/Calc\n",
       "|PnLExplainReport:valuable|2|15|15|7|GetValue\n",
       "|PnLExplainReport:ts2|2|11|11|5|GetValue\n",
       "|CosmicAll:dbState|1|10|10|10|GetValue/Calc"
      ],
      "text/plain": [
       "<IPython.core.display.Markdown object>"
      ]
     },
     "metadata": {},
     "output_type": "display_data"
    }
   ],
   "source": [
    "db4 = db.copy()\n",
    "valuable = db4.get(pAll.meta.path())\n",
    "\n",
    "r = PnLExplainReport(valuable=valuable, ts1=eod, ts2=ts7)\n",
    "with ProfileMonitor():\n",
    "    with SummaryMonitor():\n",
    "        r.run()"
   ]
  },
  {
   "cell_type": "code",
   "execution_count": 7,
   "metadata": {
    "collapsed": false,
    "scrolled": false
   },
   "outputs": [
    {
     "name": "stdout",
     "output_type": "stream",
     "text": [
      "\n",
      "simp-0\n",
      "     (<Entity:/Global/Clock/Portfolio>, 'Clock:cutoffs', <TS:t=2017-03-29T12:32:23.437793,v=2017-03-29T12:32:23.437791>)\n",
      "     (<Entity:/Global/Clock/Trading>, 'Clock:cutoffs', <TS:t=2017-03-29T12:32:23.437793,v=2017-03-29T12:32:23.437791>)\n",
      "         <Node: /Global/Clock/Portfolio.(Clock:cutoffs)() in simp-0 @4538614032>\n",
      "         <Node: /Global/Clock/Trading.(Clock:cutoffs)() in simp-0 @4538615312>\n",
      "\n",
      "simp-1\n",
      "     (<Entity:/Global/Clock/Trading>, 'Clock:cutoffs', <TS:t=2017-03-29T12:32:23.437793,v=2017-03-29T12:32:23.437791>)\n",
      "         <Node: /Global/Clock/Trading.(Clock:cutoffs)() in simp-1 @4538617488>\n",
      "\n",
      "simp-10\n",
      "     (<Entity:/Global/Clock/Portfolio>, 'Clock:cutoffs', <TS:t=2017-03-29T12:32:23.506764,v=2017-03-29T12:32:23.506760>)\n",
      "     (<Entity:/Global/Clock/Trading>, 'Clock:cutoffs', <TS:t=2017-03-29T12:32:23.506764,v=2017-03-29T12:32:23.437791>)\n",
      "         <Node: /Global/Clock/Trading.(Clock:cutoffs)() in simp-10 @4825840912>\n",
      "         <Node: /Global/Clock/Portfolio.(Clock:cutoffs)() in simp-10 @4825840976>\n",
      "\n",
      "simp-2\n",
      "     (<Entity:/Global/Clock/MarketData>, 'Clock:cutoffs', <TS:t=2017-03-29T12:32:23.437793,v=2017-03-29T12:32:23.437791>)\n",
      "         <Node: /Global/Clock/MarketData.(Clock:cutoffs)() in simp-2 @4786830096>\n",
      "\n",
      "simp-3\n",
      "     (<Entity:/Global/Clock/Portfolio>, 'Clock:cutoffs', <TS:t=2017-03-29T12:32:23.506764,v=2017-03-29T12:32:23.506760>)\n",
      "     (<Entity:/Global/Clock/Trading>, 'Clock:cutoffs', <TS:t=2017-03-29T12:32:23.506764,v=2017-03-29T12:32:23.506760>)\n",
      "         <Node: /Global/Clock/Portfolio.(Clock:cutoffs)() in simp-3 @4786939024>\n",
      "         <Node: /Global/Clock/Trading.(Clock:cutoffs)() in simp-3 @4786938768>\n",
      "\n",
      "simp-4\n",
      "     (<Entity:/Global/Clock/Trading>, 'Clock:cutoffs', <TS:t=2017-03-29T12:32:23.506764,v=2017-03-29T12:32:23.506760>)\n",
      "         <Node: /Global/Clock/Trading.(Clock:cutoffs)() in simp-4 @4786886736>\n",
      "\n",
      "simp-5\n",
      "     (<Entity:/Global/Clock/MarketData>, 'Clock:cutoffs', <TS:t=2017-03-29T12:32:23.506764,v=2017-03-29T12:32:23.506760>)\n",
      "         <Node: /Global/Clock/MarketData.(Clock:cutoffs)() in simp-5 @4806022160>\n",
      "\n",
      "simp-6\n",
      "     (<Entity:/Global/Clock/MarketData>, 'Clock:cutoffs', <TS:t=2017-03-29T12:32:23.506764,v=2017-03-29T12:32:23.437791>)\n",
      "         <Node: /Global/Clock/MarketData.(Clock:cutoffs)() in simp-6 @4806648400>\n",
      "\n",
      "simp-7\n",
      "     (<Entity:/Global/Clock/Portfolio>, 'Clock:cutoffs', <TS:t=2017-03-29T12:32:23.506764,v=2017-03-29T12:32:23.437791>)\n",
      "     (<Entity:/Global/Clock/Trading>, 'Clock:cutoffs', <TS:t=2017-03-29T12:32:23.437793,v=2017-03-29T12:32:23.437791>)\n",
      "         <Node: /Global/Clock/Portfolio.(Clock:cutoffs)() in simp-7 @4806650960>\n",
      "         <Node: /Global/Clock/Trading.(Clock:cutoffs)() in simp-7 @4806651088>\n",
      "\n",
      "simp-8\n",
      "     (<Entity:/Global/Clock/Portfolio>, 'Clock:cutoffs', <TS:t=2017-03-29T12:32:23.506764,v=2017-03-29T12:32:23.437791>)\n",
      "     (<Entity:/Global/Clock/Trading>, 'Clock:cutoffs', <TS:t=2017-03-29T12:32:23.506764,v=2017-03-29T12:32:23.437791>)\n",
      "         <Node: /Global/Clock/Portfolio.(Clock:cutoffs)() in simp-8 @4806938384>\n",
      "         <Node: /Global/Clock/Trading.(Clock:cutoffs)() in simp-8 @4806938512>\n",
      "\n",
      "simp-9\n",
      "     (<Entity:/Global/Clock/Trading>, 'Clock:cutoffs', <TS:t=2017-03-29T12:32:23.506764,v=2017-03-29T12:32:23.437791>)\n",
      "         <Node: /Global/Clock/Trading.(Clock:cutoffs)() in simp-9 @4807007248>\n"
     ]
    }
   ],
   "source": [
    "for k, ctx in sorted(dm.contexts.items(), key=lambda x: x[1].name):\n",
    "    print\n",
    "    print ctx.name\n",
    "    for t in k:\n",
    "        print '    ', t\n",
    "    for t in ctx.tweaks:\n",
    "        print '        ', t"
   ]
  }
 ],
 "metadata": {
  "kernelspec": {
   "display_name": "Python 2",
   "language": "python",
   "name": "python2"
  },
  "language_info": {
   "codemirror_mode": {
    "name": "ipython",
    "version": 2
   },
   "file_extension": ".py",
   "mimetype": "text/x-python",
   "name": "python",
   "nbconvert_exporter": "python",
   "pygments_lexer": "ipython2",
   "version": "2.7.13"
  }
 },
 "nbformat": 4,
 "nbformat_minor": 2
}
