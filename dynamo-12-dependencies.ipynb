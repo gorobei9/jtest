{
 "cells": [
  {
   "cell_type": "code",
   "execution_count": 1,
   "metadata": {
    "collapsed": false
   },
   "outputs": [],
   "source": [
    "from mand.core import Entity, node, getNode\n",
    "from mand.core import ObjectDb, Timestamp, Context, _tr\n",
    "from mand.core import ProfileMonitor, SummaryMonitor\n",
    "from mand.core import find, addFootnote\n",
    "from mand.demos.trading import makeWorld, bookSomeTrades, PnLExplainReport\n",
    "from mand.lib.dbsetup import setUpDb\n",
    "\n",
    "db = ObjectDb()\n",
    "setUpDb(db)"
   ]
  },
  {
   "cell_type": "code",
   "execution_count": 2,
   "metadata": {
    "collapsed": false,
    "scrolled": false
   },
   "outputs": [
    {
     "name": "stdout",
     "output_type": "stream",
     "text": [
      "makeWorld, TopOfTheHouse is: <Entity:/Global/TradingPortfolio/TopOfTheHouse>\n",
      "    # books: 100\n",
      "    # children: 10\n"
     ]
    }
   ],
   "source": [
    "with db:\n",
    "    pWorld = makeWorld()\n",
    "    \n",
    "pAll, bExt, bExt2 = pWorld.children()\n",
    "p1 = pAll.children()[0]\n",
    "p2 = pAll.children()[1]\n",
    "p4 = pAll.children()[3]\n",
    "\n",
    "b2 = p2.children()[0]\n",
    "b4 = p4.children()[0]"
   ]
  },
  {
   "cell_type": "code",
   "execution_count": 3,
   "metadata": {
    "collapsed": false
   },
   "outputs": [],
   "source": [
    "ts0, ts1, ts2, ts3, ts4, ts5, eod, ts6 = bookSomeTrades(pWorld)\n",
    "\n",
    "p1.setChildren(p1.children() + [b2])\n",
    "ts7 = Timestamp()"
   ]
  },
  {
   "cell_type": "markdown",
   "metadata": {},
   "source": [
    "# Sanity check of a computation we might want to optimize [Test]\n",
    "\n",
    "The PnL report is a good test, but at 152K getValues, it's a bit too big to immediately use:"
   ]
  },
  {
   "cell_type": "code",
   "execution_count": 4,
   "metadata": {
    "collapsed": false,
    "scrolled": false
   },
   "outputs": [
    {
     "data": {
      "text/markdown": [
       "# PnL explain for TopOfTheHouse: 6256.00"
      ],
      "text/plain": [
       "<IPython.core.display.Markdown object>"
      ]
     },
     "metadata": {},
     "output_type": "display_data"
    },
    {
     "data": {
      "text/markdown": [
       "**Caveat: this report encountered problems. See footnotes at bottom.**"
      ],
      "text/plain": [
       "<IPython.core.display.Markdown object>"
      ]
     },
     "metadata": {},
     "output_type": "display_data"
    },
    {
     "data": {
      "text/markdown": [
       "|Activity|PnL|\n",
       "|-|-|\n",
       "|Starting balance breaks|0.00\n",
       "|prior day amends: MarketData|0.00\n",
       "|prior day amends: Portfolio|0.00\n",
       "|prior day amends: Trading|-4.00\n",
       "|activity: MarketData|5240.00\n",
       "|activity: Portfolio|1020.00\n",
       "|activity: Trading|0.00\n",
       "|Ending balance breaks|0.00"
      ],
      "text/plain": [
       "<IPython.core.display.Markdown object>"
      ]
     },
     "metadata": {},
     "output_type": "display_data"
    },
    {
     "data": {
      "text/markdown": [
       "1. Inadequate cash discounting model used\n",
       "1. Book appears multiple times\n",
       "  * /Global/TradingBook/Eq-Inst0"
      ],
      "text/plain": [
       "<IPython.core.display.Markdown object>"
      ]
     },
     "metadata": {},
     "output_type": "display_data"
    },
    {
     "data": {
      "text/markdown": [
       "# Compute activity summary (17.76 seconds of wall clock time)"
      ],
      "text/plain": [
       "<IPython.core.display.Markdown object>"
      ]
     },
     "metadata": {},
     "output_type": "display_data"
    },
    {
     "data": {
      "text/markdown": [
       "|key|value|\n",
       "|-|-|\n",
       "|Context|11\n",
       "|Db.Get|2176\n",
       "|GetValue|152158\n",
       "|GetValue/Calc|2891"
      ],
      "text/plain": [
       "<IPython.core.display.Markdown object>"
      ]
     },
     "metadata": {},
     "output_type": "display_data"
    },
    {
     "data": {
      "text/markdown": [
       "\n",
       "### Profile by nodes.\n",
       "* times are in microseconds\n",
       "* cumT is total time spent in funtion\n",
       "* calcT is time spent in function, but not in a child node"
      ],
      "text/plain": [
       "<IPython.core.display.Markdown object>"
      ]
     },
     "metadata": {},
     "output_type": "display_data"
    },
    {
     "data": {
      "text/markdown": [
       "|fn|n|cumT|calcT|cumT/call|sys|\n",
       "|-|-|-|-|-|-|\n",
       "|PnLExplainReport:data|1|17,753,073|13|17,753,073|GetValue\n",
       "|PnLExplainReport:data|1|17,753,060|399|17,753,060|GetValue/Calc\n",
       "|TradingContainer:NPV|11|17,695,872|138|1,608,715|GetValue\n",
       "|TradingContainer:NPV|11|17,695,734|90|1,608,703|GetValue/Calc\n",
       "|Portfolio:items|121|17,413,216|1,151|143,910|GetValue\n",
       "|Portfolio:items|121|17,413,113|828|143,910|GetValue/Calc\n",
       "|Workbook:items|1,104|16,570,371|10,701|15,009|GetValue\n",
       "|Workbook:items|1,100|16,559,670|7,970|15,054|GetValue/Calc\n",
       "|PnLExplainReport:cutoffs|1|9,839,530|15|9,839,530|GetValue\n",
       "|PnLExplainReport:cutoffs|1|9,839,514|154|9,839,514|GetValue/Calc\n",
       "|Root:Clocks|548|9,839,267|1,787,533|17,954|Context\n",
       "|TradeOpenEvent|1,014|3,902,750|3,902,750|3,848|Db.Get\n",
       "|TradeOpenEvent:ticket|22,286|3,622,692|112,795|162|GetValue\n",
       "|TradingTicket|1,014|3,509,897|3,509,897|3,461|Db.Get\n",
       "|Root:End|278|1,099,073|1,022,866|3,953|Context\n",
       "|Root:Activity MarketData|255|983,561|912,398|3,857|Context\n",
       "|Root:Amend Portfolio|255|958,935|888,698|3,760|Context\n",
       "|Root:Start|270|902,723|831,501|3,343|Context\n",
       "|Root:Start breaks|255|889,971|824,042|3,490|Context\n",
       "|Portfolio:children|242|805,165|1,553|3,327|GetValue\n",
       "|Portfolio:children|121|803,612|896|6,641|GetValue/Calc\n",
       "|Root:Amend Trading|255|782,598|711,468|3,069|Context\n",
       "|Root:Activity Portfolio|263|771,260|702,421|2,932|Context\n",
       "|Root:Activity Trading|263|761,277|694,113|2,894|Context\n",
       "|Root:Amend MarketData|255|759,468|692,204|2,978|Context\n",
       "|PortfolioUpdateEvent:children|121|344,189|2,489|2,844|GetValue\n",
       "|TradingBook|102|315,922|315,922|3,097|Db.Get\n",
       "|ForwardCashflow:NPV|11|141,078|132|12,825|GetValue\n",
       "|ForwardCashflow:NPV|11|140,946|92|12,813|GetValue/Calc\n",
       "|Equity:NPV|15|139,437|170|9,295|GetValue\n",
       "|Equity:NPV|15|139,267|110|9,284|GetValue/Calc\n",
       "|MarketInterface:spot|15|132,011|166|8,800|GetValue\n",
       "|MarketInterface:spot|15|131,844|109|8,789|GetValue/Calc\n",
       "|ExternalRefData:state|15|124,521|139|8,301|GetValue\n",
       "|ExternalRefData:state|15|124,382|107|8,292|GetValue/Calc\n",
       "|RefData:state|15|123,905|143|8,260|GetValue\n",
       "|RefData:state|15|123,761|116|8,250|GetValue/Calc\n",
       "|_WorkItemEvent:book2|22,286|104,544|98,661|4|GetValue\n",
       "|_WorkItemEvent:book1|22,286|104,135|104,135|4|GetValue\n",
       "|TradeOpenEvent:quantity|22,286|93,991|93,991|4|GetValue\n",
       "|Clock:cutoffs|2,480|87,637|8,954|35|GetValue\n",
       "|Clock:cutoffs|20|78,749|133|3,937|GetValue/Calc\n",
       "|Clock:parent|20|77,852|175|3,892|GetValue\n",
       "|Clock:parent|20|77,676|148|3,883|GetValue/Calc\n",
       "|_WorkItemEvent:item|11,143|75,720|69,686|6|GetValue\n",
       "|TradeOpenEvent:action|11,143|68,877|68,877|6|GetValue\n",
       "|TradeOpenEvent:premium|11,143|67,109|63,150|6|GetValue\n",
       "|TradeOpenEvent:unitPrice|11,143|56,962|56,962|5|GetValue\n",
       "|Event:amends|11,340|56,444|56,444|4|GetValue\n",
       "|TradingBook:clock|2,200|48,073|17,829|21|GetValue\n",
       "|PortfolioUpdateEvent|12|46,740|46,740|3,895|Db.Get\n",
       "|RefDataUpdateEvent|9|32,159|32,159|3,573|Db.Get\n",
       "|TradingPortfolio|10|31,661|31,661|3,166|Db.Get\n",
       "|TradingBook:clock|1,100|30,243|10,517|27|GetValue/Calc\n",
       "|Clock|5|16,302|16,302|3,260|Db.Get\n",
       "|Portfolio:clock|242|8,253|2,004|34|GetValue\n",
       "|Portfolio:books|231|7,344|1,669|31|GetValue\n",
       "|MarketInterface:source|15|6,646|130|443|GetValue\n",
       "|ClockEvent|2|6,575|6,575|3,287|Db.Get\n",
       "|Equity:refdata|15|6,568|159|437|GetValue\n",
       "|MarketInterface:source|15|6,515|107|434|GetValue/Calc\n",
       "|Equity:refdata|15|6,408|112|427|GetValue/Calc\n",
       "|Portfolio:clock|121|6,248|1,122|51|GetValue/Calc\n",
       "|Portfolio:books|121|6,039|839|49|GetValue/Calc\n",
       "|Equity|2|6,033|6,033|3,016|Db.Get\n",
       "|ClockEvent:parent|8|5,833|79|729|GetValue\n",
       "|MarketInterface|2|5,707|5,707|2,853|Db.Get\n",
       "|MarketDataSource|2|5,641|5,641|2,820|Db.Get\n",
       "|RootClock|1|4,242|4,242|4,242|Db.Get\n",
       "|ForwardCashflow|1|3,958|3,958|3,958|Db.Get\n",
       "|MarketDataSource:clock|30|3,453|262|115|GetValue\n",
       "|MarketDataSource:clock|15|3,191|147|212|GetValue/Calc\n",
       "|Entity:clock|40|765|329|19|GetValue\n",
       "|Entity:clock|20|435|189|21|GetValue/Calc\n",
       "|MarketInterface:sourceName|15|322|131|21|GetValue\n",
       "|RefDataUpdateEvent:data|58|283|283|4|GetValue\n",
       "|RootClock:cutoffs|53|259|189|4|GetValue\n",
       "|MarketInterface:sourceName|15|190|111|12|GetValue/Calc\n",
       "|Equity:assetName|15|105|105|7|GetValue\n",
       "|RootClock:cutoffs|1|69|36|69|GetValue/Calc\n",
       "|RootClock:cosmicAll|1|19|10|19|GetValue\n",
       "|CosmicAll:dbState|1|14|9|14|GetValue\n",
       "|PnLExplainReport:valuable|2|10|10|5|GetValue\n",
       "|RootClock:cosmicAll|1|9|9|9|GetValue/Calc\n",
       "|PnLExplainReport:ts1|2|9|9|4|GetValue\n",
       "|PnLExplainReport:ts2|2|8|8|4|GetValue\n",
       "|CosmicAll:dbState|1|5|5|5|GetValue/Calc"
      ],
      "text/plain": [
       "<IPython.core.display.Markdown object>"
      ]
     },
     "metadata": {},
     "output_type": "display_data"
    }
   ],
   "source": [
    "db3 = db.copy()\n",
    "p = db3._get(pAll.meta.path())\n",
    "\n",
    "r = PnLExplainReport(valuable=p, ts1=eod, ts2=ts7)\n",
    "\n",
    "with ProfileMonitor():\n",
    "    with SummaryMonitor():\n",
    "        r.run()"
   ]
  },
  {
   "cell_type": "markdown",
   "metadata": {},
   "source": [
    "# Caching/Reusing results\n",
    "\n",
    "Until now, we have just checked to see if the current context contains a value for a node we are asking for, and if so, reuse that.\n",
    "\n",
    "A better approach to caching bound *fn* on *object* in *context0* is:\n",
    "    \n",
    "1. Has fn been tweaked in context0? If so, return that\n",
    "2. Is fn sufficiently trivial that we can avoid managing it as a node?\n",
    "  * If trivial, just treat it as a pure python function and call it\n",
    "  * Meta-data (inputs, outputs, etc) will be given to its caller and callees as appropriate\n",
    "3. Ask object for context1\n",
    "  * *context1* is a simplified version of *context0*\n",
    "  * The default case is just to return *context1*\n",
    "  * IRL, this could actually be a list of contexts or a pattern to match contexts against\n",
    "4. Is fn cached in *context1*? If so, use that\n",
    "5. Compute *fn* in *context1*\n",
    "6. Construct *context2* from the inputs of the computed value\n",
    "7. If *context2* is a subset of *context1*, cache *fn* in *context1*\n",
    "8. Something odd happened\n",
    "  * Footnote the problem as part of computation notes on the node's metadata\n",
    "  * Maybe cache the node anyway in *context2*\n",
    "    * Perhaps *object* will return *context2* as a siplification for future computations?\n",
    "9. Return the value\n",
    "\n",
    "Notes:\n",
    "* Parallel compute of nodes not considered yet\n",
    "* Context simplification (step 3) and input simplification (step 9) are probably intimately related\n",
    "* The split between calculation and caching is nice:\n",
    "  * BAs can write business logic\n",
    "  * Computer scientists can add caching logic where needed\n",
    "* We can use a profiler type object to gather runtime compute cost infomation\n",
    "  * The resulting trace can be used as input to drive step 2 and step 3\n",
    "    "
   ]
  },
  {
   "cell_type": "markdown",
   "metadata": {
    "collapsed": true
   },
   "source": [
    "# Graph Simplification\n",
    "\n",
    "* Very simple input management simplifier: ignore inputs if they are leaves and not tweakable\n",
    "* Simple context simplification: just switch to a simple context for certain known methods"
   ]
  },
  {
   "cell_type": "code",
   "execution_count": 5,
   "metadata": {
    "collapsed": false,
    "scrolled": false
   },
   "outputs": [],
   "source": [
    "from mand.graph import DependencyManager, setDependencyManager\n",
    "from mand.core import Event\n",
    "\n",
    "class DM1(DependencyManager):\n",
    "    \n",
    "    def __init__(self):\n",
    "        self.contexts = {}\n",
    "        #self.simpleClockMethods = ('Workbook:items', 'RefData:state', 'Portfolio:children', 'Portfolio:items')\n",
    "        super(DM1, self).__init__()\n",
    "        \n",
    "    def addDep(self, input, output):\n",
    "        if not input.key.tweakable:\n",
    "            if not input.inputs:\n",
    "                return\n",
    "        output.inputs.add(input)\n",
    "        input.outputs.add(output)\n",
    "\n",
    "    def calculated(self, node):\n",
    "        if not node.isSimplified:\n",
    "            return True\n",
    "        ok = True\n",
    "        for input in node.tweakPoints():\n",
    "            if input not in node.ctx.tweaks:\n",
    "                addFootnote(text='context simplification failure', info='%s in %s on %s in %s' % (str(node.key), node.ctx.name, str(input.key), input.ctx.name))\n",
    "                print\n",
    "                print 'node:', node\n",
    "                print 'tweaks:'\n",
    "                for t in node.ctx.tweaks:\n",
    "                    print t\n",
    "                print 'input:', input\n",
    "                ok = False\n",
    "        return ok\n",
    "\n",
    "    def simplify(self, key):\n",
    "        if key.fullName() == 'RefData:state':\n",
    "            obj = key.object()\n",
    "            return (obj.clock().cutoffs,)\n",
    "        if key.fullName() == 'Portfolio:items':\n",
    "            obj = key.object()\n",
    "            obj2 = obj.getObj(_tr.Clock, 'Trading')\n",
    "            return (obj.clock().cutoffs, obj2.cutoffs)\n",
    "        #if key.fullName() == 'Workbook:items':\n",
    "        #    obj = key.object()\n",
    "        #    return (obj.clock().cutoffs,)\n",
    "        \n",
    "    def getNode(self, ctx, key):\n",
    "        n = ctx._get(key)\n",
    "        if n:\n",
    "            return n\n",
    "        s = self.simplify(key)\n",
    "        if s: \n",
    "            nodes = [ getNode(bm) for bm in s ]\n",
    "            values = [ bm() for bm in s ]\n",
    "            k = [ (n.object(), n.key.fullName(), v) for n, v in zip(nodes, values) ]\n",
    "            cKey = tuple(k)\n",
    "            \n",
    "            if cKey not in self.contexts:\n",
    "                tweaks = dict( [ (bm, v) for bm, v in zip(s, values)])\n",
    "                name = 'simp'\n",
    "                ctx1 = Context(tweaks, name)\n",
    "                self.contexts[cKey] = ctx1\n",
    "            ctx1 = self.contexts[cKey]\n",
    "            ret = ctx1.get(key)\n",
    "            ret.isSimplified = True\n",
    "        else:\n",
    "            ret = super(DM1, self).getNode(ctx, key)\n",
    "            ret.isSimplified = False\n",
    "        return ret\n",
    "    \n",
    "dm = DM1()\n",
    "setDependencyManager(dm)\n"
   ]
  },
  {
   "cell_type": "code",
   "execution_count": 6,
   "metadata": {
    "collapsed": false,
    "scrolled": false
   },
   "outputs": [
    {
     "data": {
      "text/markdown": [
       "# PnL explain for TopOfTheHouse: 6256.00"
      ],
      "text/plain": [
       "<IPython.core.display.Markdown object>"
      ]
     },
     "metadata": {},
     "output_type": "display_data"
    },
    {
     "data": {
      "text/markdown": [
       "**Caveat: this report encountered problems. See footnotes at bottom.**"
      ],
      "text/plain": [
       "<IPython.core.display.Markdown object>"
      ]
     },
     "metadata": {},
     "output_type": "display_data"
    },
    {
     "data": {
      "text/markdown": [
       "|Activity|PnL|\n",
       "|-|-|\n",
       "|Starting balance breaks|0.00\n",
       "|prior day amends: MarketData|0.00\n",
       "|prior day amends: Portfolio|0.00\n",
       "|prior day amends: Trading|-4.00\n",
       "|activity: MarketData|5240.00\n",
       "|activity: Portfolio|1020.00\n",
       "|activity: Trading|0.00\n",
       "|Ending balance breaks|0.00"
      ],
      "text/plain": [
       "<IPython.core.display.Markdown object>"
      ]
     },
     "metadata": {},
     "output_type": "display_data"
    },
    {
     "data": {
      "text/markdown": [
       "1. Inadequate cash discounting model used\n",
       "1. Book appears multiple times\n",
       "  * /Global/TradingBook/Eq-Inst0"
      ],
      "text/plain": [
       "<IPython.core.display.Markdown object>"
      ]
     },
     "metadata": {},
     "output_type": "display_data"
    },
    {
     "data": {
      "text/markdown": [
       "# Compute activity summary (12.25 seconds of wall clock time)"
      ],
      "text/plain": [
       "<IPython.core.display.Markdown object>"
      ]
     },
     "metadata": {},
     "output_type": "display_data"
    },
    {
     "data": {
      "text/markdown": [
       "|key|value|\n",
       "|-|-|\n",
       "|Context|19\n",
       "|Db.Get|2176\n",
       "|GetValue|69506\n",
       "|GetValue/Calc|1431"
      ],
      "text/plain": [
       "<IPython.core.display.Markdown object>"
      ]
     },
     "metadata": {},
     "output_type": "display_data"
    },
    {
     "data": {
      "text/markdown": [
       "\n",
       "### Profile by nodes.\n",
       "* times are in microseconds\n",
       "* cumT is total time spent in funtion\n",
       "* calcT is time spent in function, but not in a child node"
      ],
      "text/plain": [
       "<IPython.core.display.Markdown object>"
      ]
     },
     "metadata": {},
     "output_type": "display_data"
    },
    {
     "data": {
      "text/markdown": [
       "|fn|n|cumT|calcT|cumT/call|sys|\n",
       "|-|-|-|-|-|-|\n",
       "|PnLExplainReport:data|1|12,248,667|14|12,248,667|GetValue\n",
       "|PnLExplainReport:data|1|12,248,653|372|12,248,653|GetValue/Calc\n",
       "|TradingContainer:NPV|11|12,242,557|123|1,112,959|GetValue\n",
       "|TradingContainer:NPV|11|12,242,434|81|1,112,948|GetValue/Calc\n",
       "|Portfolio:items|61|12,083,296|614|198,086|GetValue\n",
       "|Portfolio:items|55|12,083,216|379|219,694|GetValue/Calc\n",
       "|Workbook:items|502|11,497,979|5,229|22,904|GetValue\n",
       "|Workbook:items|500|11,492,750|3,812|22,985|GetValue/Calc\n",
       "|PnLExplainReport:cutoffs|1|9,754,480|15|9,754,480|GetValue\n",
       "|PnLExplainReport:cutoffs|1|9,754,464|134|9,754,464|GetValue/Calc\n",
       "|Root:Clocks|59|9,754,236|37,102|165,326|Context\n",
       "|Root:Clocks:simp|494|9,679,765|1,919,111|19,594|Context\n",
       "|TradeOpenEvent|1,014|4,028,806|4,028,806|3,973|Db.Get\n",
       "|TradeOpenEvent:ticket|10,130|3,209,622|56,415|316|GetValue\n",
       "|TradingTicket|1,014|3,153,206|3,153,206|3,109|Db.Get\n",
       "|Root:Activity Portfolio|18|877,712|776|48,761|Context\n",
       "|Root:Activity Portfolio:simp|244|876,597|800,340|3,592|Context\n",
       "|Root:Amend Portfolio|11|789,727|570|71,793|Context\n",
       "|Root:Amend Portfolio:simp|244|788,939|719,551|3,233|Context\n",
       "|Root:Amend Trading|11|778,343|476|70,758|Context\n",
       "|Root:Amend Trading:simp|244|777,672|709,194|3,187|Context\n",
       "|Portfolio:children|110|561,805|828|5,107|GetValue\n",
       "|Portfolio:children|55|560,976|444|10,199|GetValue/Calc\n",
       "|PortfolioUpdateEvent:children|55|327,497|1,604|5,954|GetValue\n",
       "|TradingBook|102|300,554|300,554|2,946|Db.Get\n",
       "|Equity:NPV|15|98,984|159|6,598|GetValue\n",
       "|Equity:NPV|15|98,824|129|6,588|GetValue/Calc\n",
       "|MarketInterface:spot|15|91,497|133|6,099|GetValue\n",
       "|MarketInterface:spot|15|91,363|98|6,090|GetValue/Calc\n",
       "|Clock:cutoffs|1,263|88,110|4,775|69|GetValue\n",
       "|ExternalRefData:state|15|83,837|135|5,589|GetValue\n",
       "|ExternalRefData:state|15|83,701|95|5,580|GetValue/Calc\n",
       "|Clock:cutoffs|20|83,412|160|4,170|GetValue/Calc\n",
       "|Clock:parent|20|82,204|202|4,110|GetValue\n",
       "|Clock:parent|20|82,002|152|4,100|GetValue/Calc\n",
       "|_WorkItemEvent:book2|10,130|51,177|45,550|5|GetValue\n",
       "|_WorkItemEvent:book1|10,130|48,780|48,780|4|GetValue\n",
       "|TradeOpenEvent:quantity|10,130|43,838|43,838|4|GetValue\n",
       "|PortfolioUpdateEvent|12|43,668|43,668|3,639|Db.Get\n",
       "|RefData:state|15|43,648|82|2,909|GetValue\n",
       "|RefData:state|4|43,565|31|10,891|GetValue/Calc\n",
       "|_WorkItemEvent:item|5,065|39,723|34,062|7|GetValue\n",
       "|TradeOpenEvent:premium|5,065|32,958|29,887|6|GetValue\n",
       "|TradeOpenEvent:action|5,065|32,363|32,363|6|GetValue\n",
       "|TradingPortfolio|10|30,965|30,965|3,096|Db.Get\n",
       "|RefDataUpdateEvent|9|29,392|29,392|3,265|Db.Get\n",
       "|Event:amends|5,148|28,288|28,288|5|GetValue\n",
       "|TradeOpenEvent:unitPrice|5,065|26,444|26,444|5|GetValue\n",
       "|Root:End|33|21,782|20,933|660|Context\n",
       "|TradingBook:clock|1,000|21,692|8,824|21|GetValue\n",
       "|Clock|5|17,751|17,751|3,550|Db.Get\n",
       "|Root:Start|26|16,219|15,689|623|Context\n",
       "|TradingBook:clock|500|12,867|5,000|25|GetValue/Calc\n",
       "|ClockEvent|2|6,819|6,819|3,409|Db.Get\n",
       "|MarketInterface:source|15|6,687|128|445|GetValue\n",
       "|Equity:refdata|15|6,584|160|438|GetValue\n",
       "|MarketInterface:source|15|6,558|107|437|GetValue/Calc\n",
       "|Equity:refdata|15|6,423|105|428|GetValue/Calc\n",
       "|ClockEvent:parent|8|6,303|76|787|GetValue\n",
       "|Portfolio:clock|171|5,979|1,194|34|GetValue\n",
       "|MarketInterface|2|5,738|5,738|2,869|Db.Get\n",
       "|MarketDataSource|2|5,686|5,686|2,843|Db.Get\n",
       "|Equity|2|5,660|5,660|2,830|Db.Get\n",
       "|MarketDataSource:clock|23|4,981|194|216|GetValue\n",
       "|MarketDataSource:clock|19|4,786|139|251|GetValue/Calc\n",
       "|Portfolio:clock|66|4,784|496|72|GetValue/Calc\n",
       "|Root:Amend MarketData|11|4,578|615|416|Context\n",
       "|Root:Amend MarketData:simp|2|3,737|3,654|1,868|Context\n",
       "|Portfolio:books|105|3,468|796|33|GetValue\n",
       "|RootClock|1|3,255|3,255|3,255|Db.Get\n",
       "|ForwardCashflow|1|3,070|3,070|3,070|Db.Get\n",
       "|Portfolio:books|55|2,844|391|51|GetValue/Calc\n",
       "|Root:Activity Trading|18|996|686|55|Context\n",
       "|Entity:clock|40|837|365|20|GetValue\n",
       "|Root:Start breaks|11|595|420|54|Context\n",
       "|Root:Activity MarketData|11|575|403|52|Context\n",
       "|Entity:clock|20|472|196|23|GetValue/Calc\n",
       "|MarketInterface:sourceName|15|306|130|20|GetValue\n",
       "|ForwardCashflow:NPV|11|303|118|27|GetValue\n",
       "|RootClock:cutoffs|53|303|229|5|GetValue\n",
       "|ForwardCashflow:NPV|11|184|73|16|GetValue/Calc\n",
       "|MarketInterface:sourceName|15|175|104|11|GetValue/Calc\n",
       "|Equity:assetName|15|105|105|7|GetValue\n",
       "|RootClock:cutoffs|1|73|40|73|GetValue/Calc\n",
       "|RefDataUpdateEvent:data|15|72|72|4|GetValue\n",
       "|RootClock:cosmicAll|1|19|10|19|GetValue\n",
       "|CosmicAll:dbState|1|14|10|14|GetValue\n",
       "|PnLExplainReport:valuable|2|10|10|5|GetValue\n",
       "|RootClock:cosmicAll|1|9|9|9|GetValue/Calc\n",
       "|PnLExplainReport:ts2|2|8|8|4|GetValue\n",
       "|PnLExplainReport:ts1|2|8|8|4|GetValue\n",
       "|CosmicAll:dbState|1|4|4|4|GetValue/Calc"
      ],
      "text/plain": [
       "<IPython.core.display.Markdown object>"
      ]
     },
     "metadata": {},
     "output_type": "display_data"
    }
   ],
   "source": [
    "db4 = db.copy()\n",
    "valuable = db4.get(pAll.meta.path())\n",
    "\n",
    "r = PnLExplainReport(valuable=valuable, ts1=eod, ts2=ts7)\n",
    "with ProfileMonitor():\n",
    "    with SummaryMonitor():\n",
    "        r.run()"
   ]
  },
  {
   "cell_type": "code",
   "execution_count": 7,
   "metadata": {
    "collapsed": false,
    "scrolled": false
   },
   "outputs": [
    {
     "name": "stdout",
     "output_type": "stream",
     "text": [
      "\n",
      "(<Entity:/Global/Clock/Portfolio>, 'Clock:cutoffs', <TS:t=2017-03-28T15:03:25.447049,v=2017-03-28T15:03:25.447047>)\n",
      "(<Entity:/Global/Clock/Trading>, 'Clock:cutoffs', <TS:t=2017-03-28T15:03:25.447049,v=2017-03-28T15:03:25.447047>)\n",
      "     <Node: /Global/Clock/Portfolio.(Clock:cutoffs)() in Root:Clocks:simp @4615300304 T=True>\n",
      "     <Node: /Global/Clock/Trading.(Clock:cutoffs)() in Root:Clocks:simp @4615300688 T=True>\n",
      "\n",
      "(<Entity:/Global/Clock/Portfolio>, 'Clock:cutoffs', <TS:t=2017-03-28T15:03:25.502909,v=2017-03-28T15:03:25.502907>)\n",
      "(<Entity:/Global/Clock/Trading>, 'Clock:cutoffs', <TS:t=2017-03-28T15:03:25.502909,v=2017-03-28T15:03:25.447047>)\n",
      "     <Node: /Global/Clock/Trading.(Clock:cutoffs)() in Root:Activity Portfolio:simp @4894971920 T=True>\n",
      "     <Node: /Global/Clock/Portfolio.(Clock:cutoffs)() in Root:Activity Portfolio:simp @4894971728 T=True>\n",
      "\n",
      "(<Entity:/Global/Clock/MarketData>, 'Clock:cutoffs', <TS:t=2017-03-28T15:03:25.447049,v=2017-03-28T15:03:25.447047>)\n",
      "     <Node: /Global/Clock/MarketData.(Clock:cutoffs)() in Root:Clocks:simp @4839039888 T=True>\n",
      "\n",
      "(<Entity:/Global/Clock/Portfolio>, 'Clock:cutoffs', <TS:t=2017-03-28T15:03:25.502909,v=2017-03-28T15:03:25.447047>)\n",
      "(<Entity:/Global/Clock/Trading>, 'Clock:cutoffs', <TS:t=2017-03-28T15:03:25.502909,v=2017-03-28T15:03:25.447047>)\n",
      "     <Node: /Global/Clock/Portfolio.(Clock:cutoffs)() in Root:Amend Trading:simp @4876306576 T=True>\n",
      "     <Node: /Global/Clock/Trading.(Clock:cutoffs)() in Root:Amend Trading:simp @4876304976 T=True>\n",
      "\n",
      "(<Entity:/Global/Clock/MarketData>, 'Clock:cutoffs', <TS:t=2017-03-28T15:03:25.502909,v=2017-03-28T15:03:25.447047>)\n",
      "     <Node: /Global/Clock/MarketData.(Clock:cutoffs)() in Root:Amend MarketData:simp @4857668112 T=True>\n",
      "\n",
      "(<Entity:/Global/Clock/Portfolio>, 'Clock:cutoffs', <TS:t=2017-03-28T15:03:25.502909,v=2017-03-28T15:03:25.447047>)\n",
      "(<Entity:/Global/Clock/Trading>, 'Clock:cutoffs', <TS:t=2017-03-28T15:03:25.447049,v=2017-03-28T15:03:25.447047>)\n",
      "     <Node: /Global/Clock/Portfolio.(Clock:cutoffs)() in Root:Amend Portfolio:simp @4857729936 T=True>\n",
      "     <Node: /Global/Clock/Trading.(Clock:cutoffs)() in Root:Amend Portfolio:simp @4857730000 T=True>\n",
      "\n",
      "(<Entity:/Global/Clock/Portfolio>, 'Clock:cutoffs', <TS:t=2017-03-28T15:03:25.502909,v=2017-03-28T15:03:25.502907>)\n",
      "(<Entity:/Global/Clock/Trading>, 'Clock:cutoffs', <TS:t=2017-03-28T15:03:25.502909,v=2017-03-28T15:03:25.502907>)\n",
      "     <Node: /Global/Clock/Portfolio.(Clock:cutoffs)() in Root:Clocks:simp @4839338256 T=True>\n",
      "     <Node: /Global/Clock/Trading.(Clock:cutoffs)() in Root:Clocks:simp @4839338320 T=True>\n",
      "\n",
      "(<Entity:/Global/Clock/MarketData>, 'Clock:cutoffs', <TS:t=2017-03-28T15:03:25.502909,v=2017-03-28T15:03:25.502907>)\n",
      "     <Node: /Global/Clock/MarketData.(Clock:cutoffs)() in Root:Clocks:simp @4857487632 T=True>\n"
     ]
    }
   ],
   "source": [
    "for k, ctx in dm.contexts.items():\n",
    "    print\n",
    "    for t in k:\n",
    "        print t\n",
    "    for t in ctx.tweaks:\n",
    "        print '    ', t"
   ]
  }
 ],
 "metadata": {
  "kernelspec": {
   "display_name": "Python 2",
   "language": "python",
   "name": "python2"
  },
  "language_info": {
   "codemirror_mode": {
    "name": "ipython",
    "version": 2
   },
   "file_extension": ".py",
   "mimetype": "text/x-python",
   "name": "python",
   "nbconvert_exporter": "python",
   "pygments_lexer": "ipython2",
   "version": "2.7.13"
  }
 },
 "nbformat": 4,
 "nbformat_minor": 2
}
