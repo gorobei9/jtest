{
 "cells": [
  {
   "cell_type": "code",
   "execution_count": 1,
   "metadata": {
    "collapsed": false
   },
   "outputs": [],
   "source": [
    "from ml.nodes import *\n",
    "from ml.traces import *\n",
    "import tensorflow as tf"
   ]
  },
  {
   "cell_type": "code",
   "execution_count": 2,
   "metadata": {
    "collapsed": false
   },
   "outputs": [
    {
     "name": "stdout",
     "output_type": "stream",
     "text": [
      "Extracting MNIST_data/train-images-idx3-ubyte.gz\n",
      "Extracting MNIST_data/train-labels-idx1-ubyte.gz\n",
      "Extracting MNIST_data/t10k-images-idx3-ubyte.gz\n",
      "Extracting MNIST_data/t10k-labels-idx1-ubyte.gz\n",
      "                                   MNIST:        0     N:-1 C:784 \n",
      "Dataset: MNIST\n",
      "  shape: N:-1 C:784 \n",
      "  labels: 10\n",
      "  test:       (10000, 784)\n",
      "  validation: (5000, 784)\n",
      "  train:      (55000, 784)\n"
     ]
    }
   ],
   "source": [
    "mnist = MNIST()\n",
    "mnist.info()"
   ]
  },
  {
   "cell_type": "code",
   "execution_count": 3,
   "metadata": {
    "collapsed": false
   },
   "outputs": [],
   "source": [
    "import tensorflow as tf\n",
    "sess = tf.InteractiveSession()"
   ]
  },
  {
   "cell_type": "code",
   "execution_count": 4,
   "metadata": {
    "collapsed": false
   },
   "outputs": [],
   "source": [
    "x = mnist.x\n",
    "y_ = mnist.y_"
   ]
  },
  {
   "cell_type": "code",
   "execution_count": 5,
   "metadata": {
    "collapsed": false
   },
   "outputs": [
    {
     "name": "stdout",
     "output_type": "stream",
     "text": [
      "                                 Reshape:        0     N:-1 W:28 H:28 C:1 \n",
      "                                  Conv2d:      400     N:-1 W:24 H:24 C:16 \n",
      "                                    Bias:       16     N:-1 W:24 H:24 C:16 \n",
      "                                    Relu:        0     N:-1 W:24 H:24 C:16 \n",
      "                                 MaxPool:        0     N:-1 W:12 H:12 C:16 \n",
      "                                  Conv2d:    12800     N:-1 W:12 H:12 C:32 \n",
      "                                    Bias:       32     N:-1 W:12 H:12 C:32 \n",
      "                                    Relu:        0     N:-1 W:12 H:12 C:32 \n",
      "                                 MaxPool:        0     N:-1 W:6 H:6 C:32 \n",
      "                                 Flatten:        0     N:-1 C:1152 \n",
      "                                  Linear:    11520     N:-1 C:10 \n",
      "                                    Bias:       10     N:-1 C:10 \n",
      "           SoftmaxCrossEntropyWithLogits:        0     N:-1 C:1 \n",
      "                                 Softmax:        0     N:-1 C:10 \n",
      "                                    Mean:        0     N:1 C:1 \n",
      "                                Accuracy:        0     N:1 C:1 \n"
     ]
    }
   ],
   "source": [
    "x_im = Reshape(mnist, 'C', 'WHC', (28, 28, 1))\n",
    "c = Conv2d(x_im, 5, 16, sd=.001, padding='VALID')\n",
    "b = Bias(c, .001)\n",
    "r = Relu(b)\n",
    "mp1 = MaxPool(r, 5, stride=2, padding='SAME')\n",
    "\n",
    "c2 = Conv2d(mp1, 5, 32, sd=.1)\n",
    "b2 = Bias(c2, .001)\n",
    "r2 = Relu(b2)\n",
    "mp2 = MaxPool(r2, 5, stride=2, padding='SAME')\n",
    "\n",
    "f = Flatten(mp2)\n",
    "\n",
    "l4 = Linear(f, 10)\n",
    "b4 = Bias(l4, .001)\n",
    "\n",
    "s = SoftmaxCrossEntropyWithLogits(b4, y_)\n",
    "sm = Softmax(b4)\n",
    "ce = Mean(s)\n",
    "\n",
    "acc = Accuracy(b4, y_)"
   ]
  },
  {
   "cell_type": "code",
   "execution_count": 6,
   "metadata": {
    "collapsed": false
   },
   "outputs": [],
   "source": [
    "rate = tf.placeholder(tf.float32)\n",
    "train_step = tf.train.AdamOptimizer(rate).minimize(ce.out())\n",
    "sess.run(tf.global_variables_initializer())"
   ]
  },
  {
   "cell_type": "code",
   "execution_count": 7,
   "metadata": {
    "collapsed": false
   },
   "outputs": [],
   "source": [
    "trackables = [ [ ScalarTrace(acc.out(), 'Accuracy',                 skip=50),\n",
    "                 ScalarTrace(ce.out(),  'Cross Entropy', yFn='log', skip=50), ],\n",
    "               [ BiasTrace(b.b, 'Conv1 Bias'),  WeightTrace(c.W, 'Conv1 Weights'),  OutTrace(b.out(), 'Out')],\n",
    "               [ BiasTrace(b2.b, 'Conv2 Bias'), WeightTrace(c2.W, 'Conv2 Weights'), OutTrace(b2.out(), 'Out')],\n",
    "               [ BiasTrace(b4.b, 'Lin1 Bias'),  WeightTrace(l4.W, 'Lin1 Weights'),  OutTrace(b4.out(), 'Out')],\n",
    "               [ OutTrace(sm.out(), 'Softmax'),\n",
    "                 TopTrace(sm.out(), 'Softmax/Top'),\n",
    "                 TopTrace(sm.out(), 'Softmax/2nd', index=-2), ],\n",
    "             ]\n",
    "\n",
    "track = Track(trackables)"
   ]
  },
  {
   "cell_type": "code",
   "execution_count": null,
   "metadata": {
    "collapsed": false
   },
   "outputs": [],
   "source": [
    "def train(track, epochs=200):\n",
    "    nodes = track.nodes()\n",
    "    for i in range(epochs):\n",
    "        f = 1-float(i)/epochs\n",
    "        lr = 1e-5 + (1e-3-1e-5) * f\n",
    "        for j in range(100):\n",
    "            batch = mnist.train.next_batch(50)\n",
    "            vals = sess.run([train_step] + nodes, feed_dict={x: batch[0], y_: batch[1], rate:lr})\n",
    "            track.addBatch(vals[1:])\n",
    "        r = sess.run(nodes, feed_dict={x: mnist.validation.images(), y_: mnist.validation.labels()})\n",
    "        print '%4d' % i,\n",
    "        if (i+1) % 10 == 0:\n",
    "            print '%8.04f %f' % (r[0]*100, lr)\n",
    "        track.addEpoch(r)"
   ]
  },
  {
   "cell_type": "code",
   "execution_count": null,
   "metadata": {
    "collapsed": false
   },
   "outputs": [
    {
     "name": "stdout",
     "output_type": "stream",
     "text": [
      "   0    1    2    3    4    5    6    7    8    9  97.8200 0.000991\n",
      "  10   11   12   13   14   15   16   17   18   19  98.3400 0.000981\n",
      "  20   21   22   23   24   25   26   27   28   29  98.8200 0.000971\n",
      "  30   31   32   33   34   35   36   37   38   39  98.7800 0.000961\n",
      "  40   41   42   43   44   45   46   47   48   49  99.1600 0.000951\n",
      "  50   51   52   53   54   55   56   57   58   59  98.9800 0.000942\n",
      "  60   61   62   63   64   65   66   67   68   69  99.0800 0.000932\n",
      "  70   71   72   73   74   75   76   77   78   79  98.8200 0.000922\n",
      "  80   81   82   83   84   85   86   87   88   89  98.0200 0.000912\n",
      "  90   91   92   93"
     ]
    }
   ],
   "source": [
    "train(track, epochs=1000)"
   ]
  },
  {
   "cell_type": "code",
   "execution_count": null,
   "metadata": {
    "collapsed": false
   },
   "outputs": [],
   "source": [
    "print(\"test accuracy %8.04f\" % \n",
    "          acc.out().eval(\n",
    "            feed_dict={ x: mnist.test.images(), y_: mnist.test.labels()}))"
   ]
  },
  {
   "cell_type": "code",
   "execution_count": null,
   "metadata": {
    "collapsed": false
   },
   "outputs": [],
   "source": [
    "track.plotAll(width=18, height=20)"
   ]
  }
 ],
 "metadata": {
  "kernelspec": {
   "display_name": "Python 2",
   "language": "python",
   "name": "python2"
  },
  "language_info": {
   "codemirror_mode": {
    "name": "ipython",
    "version": 2
   },
   "file_extension": ".py",
   "mimetype": "text/x-python",
   "name": "python",
   "nbconvert_exporter": "python",
   "pygments_lexer": "ipython2",
   "version": "2.7.13"
  }
 },
 "nbformat": 4,
 "nbformat_minor": 2
}
