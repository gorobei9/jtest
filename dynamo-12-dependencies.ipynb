{
 "cells": [
  {
   "cell_type": "code",
   "execution_count": 1,
   "metadata": {
    "collapsed": false
   },
   "outputs": [],
   "source": [
    "from mand.core import Entity, node, getNode\n",
    "from mand.core import ObjectDb, Timestamp, Context, _tr\n",
    "from mand.core import ProfileMonitor, SummaryMonitor\n",
    "from mand.core import find, addFootnote\n",
    "from mand.demos.trading import makeWorld, bookSomeTrades, PnLExplainReport\n",
    "from mand.lib.dbsetup import setUpDb\n",
    "\n",
    "db = ObjectDb()\n",
    "setUpDb(db)"
   ]
  },
  {
   "cell_type": "code",
   "execution_count": 2,
   "metadata": {
    "collapsed": false,
    "scrolled": false
   },
   "outputs": [
    {
     "name": "stdout",
     "output_type": "stream",
     "text": [
      "makeWorld, TopOfTheHouse is: <Entity:/Global/TradingPortfolio/TopOfTheHouse>\n",
      "    # books: 100\n",
      "    # children: 10\n"
     ]
    }
   ],
   "source": [
    "with db:\n",
    "    pWorld = makeWorld()\n",
    "    \n",
    "pAll, bExt, bExt2 = pWorld.children()\n",
    "p1 = pAll.children()[0]\n",
    "p2 = pAll.children()[1]\n",
    "p4 = pAll.children()[3]\n",
    "\n",
    "b2 = p2.children()[0]\n",
    "b4 = p4.children()[0]"
   ]
  },
  {
   "cell_type": "code",
   "execution_count": 3,
   "metadata": {
    "collapsed": false
   },
   "outputs": [],
   "source": [
    "ts0, ts1, ts2, ts3, ts4, ts5, eod, ts6 = bookSomeTrades(pWorld)\n",
    "\n",
    "p1.setChildren(p1.children() + [b2])\n",
    "ts7 = Timestamp()"
   ]
  },
  {
   "cell_type": "markdown",
   "metadata": {},
   "source": [
    "# Sanity check of a computation we might want to optimize [Test]\n",
    "\n",
    "The PnL report is a good test, but at 152K getValues, it's a bit too big to immediately use:"
   ]
  },
  {
   "cell_type": "code",
   "execution_count": 4,
   "metadata": {
    "collapsed": false,
    "scrolled": false
   },
   "outputs": [
    {
     "data": {
      "text/markdown": [
       "# PnL explain for TopOfTheHouse: 6256.00"
      ],
      "text/plain": [
       "<IPython.core.display.Markdown object>"
      ]
     },
     "metadata": {},
     "output_type": "display_data"
    },
    {
     "data": {
      "text/markdown": [
       "**Caveat: this report encountered problems. See footnotes at bottom.**"
      ],
      "text/plain": [
       "<IPython.core.display.Markdown object>"
      ]
     },
     "metadata": {},
     "output_type": "display_data"
    },
    {
     "data": {
      "text/markdown": [
       "|Activity|PnL|\n",
       "|-|-|\n",
       "|Starting balance breaks|0.00\n",
       "|prior day amends: MarketData|0.00\n",
       "|prior day amends: Portfolio|0.00\n",
       "|prior day amends: Trading|-4.00\n",
       "|activity: MarketData|5240.00\n",
       "|activity: Portfolio|1020.00\n",
       "|activity: Trading|0.00\n",
       "|Ending balance breaks|0.00"
      ],
      "text/plain": [
       "<IPython.core.display.Markdown object>"
      ]
     },
     "metadata": {},
     "output_type": "display_data"
    },
    {
     "data": {
      "text/markdown": [
       "## Footnotes:"
      ],
      "text/plain": [
       "<IPython.core.display.Markdown object>"
      ]
     },
     "metadata": {},
     "output_type": "display_data"
    },
    {
     "data": {
      "text/markdown": [
       "1. Inadequate cash discounting model used\n",
       "1. Book appears multiple times: /Global/TradingBook/Eq-Inst0"
      ],
      "text/plain": [
       "<IPython.core.display.Markdown object>"
      ]
     },
     "metadata": {},
     "output_type": "display_data"
    },
    {
     "data": {
      "text/markdown": [
       "# Compute activity summary (19.88 seconds of wall clock time)"
      ],
      "text/plain": [
       "<IPython.core.display.Markdown object>"
      ]
     },
     "metadata": {},
     "output_type": "display_data"
    },
    {
     "data": {
      "text/markdown": [
       "|key|value|\n",
       "|-|-|\n",
       "|Context|11\n",
       "|Db.Get|2176\n",
       "|GetValue|152158\n",
       "|GetValue/Calc|2891"
      ],
      "text/plain": [
       "<IPython.core.display.Markdown object>"
      ]
     },
     "metadata": {},
     "output_type": "display_data"
    },
    {
     "data": {
      "text/markdown": [
       "\n",
       "### Profile by nodes.\n",
       "* times are in microseconds\n",
       "* cumT is total time spent in funtion\n",
       "* calcT is time spent in function, but not in a child node"
      ],
      "text/plain": [
       "<IPython.core.display.Markdown object>"
      ]
     },
     "metadata": {},
     "output_type": "display_data"
    },
    {
     "data": {
      "text/markdown": [
       "|fn|n|cumT|calcT|cumT/call|sys|\n",
       "|-|-|-|-|-|-|\n",
       "|PnLExplainReport:data|1|19,872,262|12|19,872,262|GetValue\n",
       "|PnLExplainReport:data|1|19,872,249|396|19,872,249|GetValue/Calc\n",
       "|TradingContainer:NPV|11|19,808,238|138|1,800,748|GetValue\n",
       "|TradingContainer:NPV|11|19,808,100|1,694|1,800,736|GetValue/Calc\n",
       "|Portfolio:items|121|19,634,541|1,217|162,268|GetValue\n",
       "|Portfolio:items|121|19,634,444|29,326|162,268|GetValue/Calc\n",
       "|Workbook:items|1,104|18,589,410|10,922|16,838|GetValue\n",
       "|Workbook:items|1,100|18,578,487|9,199,980|16,889|GetValue/Calc\n",
       "|PnLExplainReport:cutoffs|1|11,150,460|14|11,150,460|GetValue\n",
       "|PnLExplainReport:cutoffs|1|11,150,446|133|11,150,446|GetValue/Calc\n",
       "|Root:Clocks|2|11,150,237|58,928|5,575,118|Context\n",
       "|TradeOpenEvent|1,014|4,515,610|4,515,610|4,453|Db.Get\n",
       "|TradeOpenEvent:ticket|22,286|4,132,913|112,223|185|GetValue\n",
       "|TradingTicket|1,014|4,020,689|4,020,689|3,965|Db.Get\n",
       "|Root:End|1|1,151,924|47|1,151,924|Context\n",
       "|Root:Activity Portfolio|1|1,084,820|53|1,084,820|Context\n",
       "|Root:Amend Portfolio|1|1,036,906|44|1,036,906|Context\n",
       "|Root:Amend MarketData|1|1,011,096|42|1,011,096|Context\n",
       "|Portfolio:children|242|1,008,567|1,616|4,167|GetValue\n",
       "|Portfolio:children|121|1,006,950|508,192|8,321|GetValue/Calc\n",
       "|Root:Start|1|987,930|24|987,930|Context\n",
       "|Root:Activity MarketData|1|873,403|45|873,403|Context\n",
       "|Root:Activity Trading|1|869,467|61|869,467|Context\n",
       "|Root:Start breaks|1|852,000|41|852,000|Context\n",
       "|Root:Amend Trading|1|849,786|44|849,786|Context\n",
       "|PortfolioUpdateEvent:children|121|418,592|2,649|3,459|GetValue\n",
       "|TradingBook|102|382,488|382,488|3,749|Db.Get\n",
       "|Equity:NPV|15|171,596|186|11,439|GetValue\n",
       "|Equity:NPV|15|171,409|527|11,427|GetValue/Calc\n",
       "|MarketInterface:spot|15|158,012|147|10,534|GetValue\n",
       "|MarketInterface:spot|15|157,865|541|10,524|GetValue/Calc\n",
       "|ExternalRefData:state|15|149,164|138|9,944|GetValue\n",
       "|ExternalRefData:state|15|149,026|334|9,935|GetValue/Calc\n",
       "|RefData:state|15|148,691|134|9,912|GetValue\n",
       "|RefData:state|15|148,556|64,618|9,903|GetValue/Calc\n",
       "|_WorkItemEvent:book2|22,286|109,448|102,731|4|GetValue\n",
       "|Clock:cutoffs|2,480|106,920|9,150|43|GetValue\n",
       "|_WorkItemEvent:book1|22,286|102,868|102,868|4|GetValue\n",
       "|Clock:cutoffs|20|97,842|597|4,892|GetValue/Calc\n",
       "|Clock:parent|20|97,135|176|4,856|GetValue\n",
       "|Clock:parent|20|96,959|80,179|4,847|GetValue/Calc\n",
       "|TradeOpenEvent:quantity|22,286|94,223|94,223|4|GetValue\n",
       "|_WorkItemEvent:item|11,143|77,045|69,480|6|GetValue\n",
       "|TradeOpenEvent:premium|11,143|73,145|68,426|6|GetValue\n",
       "|TradeOpenEvent:action|11,143|68,828|68,828|6|GetValue\n",
       "|Event:amends|11,340|58,869|58,869|5|GetValue\n",
       "|TradeOpenEvent:unitPrice|11,143|57,195|57,195|5|GetValue\n",
       "|PortfolioUpdateEvent|12|55,130|55,130|4,594|Db.Get\n",
       "|TradingPortfolio|10|40,172|40,172|4,017|Db.Get\n",
       "|TradingBook:clock|2,200|39,587|19,953|17|GetValue\n",
       "|RefDataUpdateEvent|9|39,122|39,122|4,346|Db.Get\n",
       "|TradingBook:clock|1,100|19,634|16,171|17|GetValue/Calc\n",
       "|Clock|5|18,049|18,049|3,609|Db.Get\n",
       "|Equity:refdata|15|12,870|143|858|GetValue\n",
       "|Equity:refdata|15|12,726|424|848|GetValue/Calc\n",
       "|MarketInterface|2|12,197|12,197|6,098|Db.Get\n",
       "|ClockEvent|2|8,495|8,495|4,247|Db.Get\n",
       "|MarketInterface:source|15|8,159|125|543|GetValue\n",
       "|MarketInterface:source|15|8,033|540|535|GetValue/Calc\n",
       "|Portfolio:clock|242|7,765|2,179|32|GetValue\n",
       "|Equity|2|7,565|7,565|3,782|Db.Get\n",
       "|ClockEvent:parent|8|7,545|84|943|GetValue\n",
       "|MarketDataSource|2|7,299|7,299|3,649|Db.Get\n",
       "|Portfolio:books|231|6,463|1,704|27|GetValue\n",
       "|Portfolio:clock|121|5,586|1,691|46|GetValue/Calc\n",
       "|Portfolio:books|121|5,150|4,316|42|GetValue/Calc\n",
       "|ForwardCashflow|1|4,719|4,719|4,719|Db.Get\n",
       "|RootClock|1|4,042|4,042|4,042|Db.Get\n",
       "|MarketDataSource:clock|30|3,714|268|123|GetValue\n",
       "|MarketDataSource:clock|15|3,445|215|229|GetValue/Calc\n",
       "|Entity:clock|40|535|334|13|GetValue\n",
       "|RefDataUpdateEvent:data|58|283|283|4|GetValue\n",
       "|ForwardCashflow:NPV|11|267|134|24|GetValue\n",
       "|RootClock:cutoffs|53|243|186|4|GetValue\n",
       "|Entity:clock|20|200|200|10|GetValue/Calc\n",
       "|MarketInterface:sourceName|15|193|137|12|GetValue\n",
       "|ForwardCashflow:NPV|11|133|133|12|GetValue/Calc\n",
       "|Equity:assetName|15|103|103|6|GetValue\n",
       "|RootClock:cutoffs|1|56|30|56|GetValue/Calc\n",
       "|MarketInterface:sourceName|15|56|56|3|GetValue/Calc\n",
       "|RootClock:cosmicAll|1|15|9|15|GetValue\n",
       "|CosmicAll:dbState|1|11|7|11|GetValue\n",
       "|PnLExplainReport:valuable|2|9|9|4|GetValue\n",
       "|PnLExplainReport:ts2|2|7|7|3|GetValue\n",
       "|PnLExplainReport:ts1|2|6|6|3|GetValue\n",
       "|RootClock:cosmicAll|1|5|5|5|GetValue/Calc\n",
       "|CosmicAll:dbState|1|4|4|4|GetValue/Calc"
      ],
      "text/plain": [
       "<IPython.core.display.Markdown object>"
      ]
     },
     "metadata": {},
     "output_type": "display_data"
    }
   ],
   "source": [
    "db3 = db.copy()\n",
    "p = db3._get(pAll.meta.path())\n",
    "\n",
    "r = PnLExplainReport(valuable=p, ts1=eod, ts2=ts7)\n",
    "\n",
    "with ProfileMonitor():\n",
    "    with SummaryMonitor():\n",
    "        r.run()"
   ]
  },
  {
   "cell_type": "markdown",
   "metadata": {},
   "source": [
    "# Caching/Reusing results\n",
    "\n",
    "Until now, we have just checked to see if the current context contains a value for a node we are asking for, and if so, reuse that.\n",
    "\n",
    "A better approach to caching bound *fn* on *object* in *context0* is:\n",
    "    \n",
    "1. Has fn been tweaked in context0? If so, return that\n",
    "2. Is fn sufficiently trivial that we can avoid managing it as a node?\n",
    "  * If trivial, just treat it as a pure python function and call it\n",
    "  * Meta-data (inputs, outputs, etc) will be given to its caller and callees as appropriate\n",
    "3. Ask object for context1\n",
    "  * *context1* is a simplified version of *context0*\n",
    "  * The default case is just to return *context1*\n",
    "  * IRL, this could actually be a list of contexts or a pattern to match contexts against\n",
    "4. Is fn cached in *context1*? If so, use that\n",
    "5. Compute *fn* in *context1*\n",
    "6. Construct *context2* from the inputs of the computed value\n",
    "7. If *context2* is a subset of *context1*, cache *fn* in *context1*\n",
    "8. Something odd happened\n",
    "  * Footnote the problem as part of computation notes on the node's metadata\n",
    "  * Maybe cache the node anyway in *context2*\n",
    "    * Perhaps *object* will return *context2* as a siplification for future computations?\n",
    "9. Return the value\n",
    "\n",
    "Notes:\n",
    "* Parallel compute of nodes not considered yet\n",
    "* Context simplification (step 3) and input simplification (step 9) are probably intimately related\n",
    "* The split between calculation and caching is nice:\n",
    "  * BAs can write business logic\n",
    "  * Computer scientists can add caching logic where needed\n",
    "* We can use a profiler type object to gather runtime compute cost infomation\n",
    "  * The resulting trace can be used as input to drive step 2 and step 3\n",
    "    "
   ]
  },
  {
   "cell_type": "code",
   "execution_count": 5,
   "metadata": {
    "collapsed": false,
    "scrolled": false
   },
   "outputs": [
    {
     "name": "stdout",
     "output_type": "stream",
     "text": [
      "40.85\n"
     ]
    },
    {
     "data": {
      "text/markdown": [
       "# Compute activity summary (0.18 seconds of wall clock time)"
      ],
      "text/plain": [
       "<IPython.core.display.Markdown object>"
      ]
     },
     "metadata": {},
     "output_type": "display_data"
    },
    {
     "data": {
      "text/markdown": [
       "|key|value|\n",
       "|-|-|\n",
       "|Context|1\n",
       "|Db.Get|35\n",
       "|GetValue|185\n",
       "|GetValue/Calc|24"
      ],
      "text/plain": [
       "<IPython.core.display.Markdown object>"
      ]
     },
     "metadata": {},
     "output_type": "display_data"
    },
    {
     "name": "stdout",
     "output_type": "stream",
     "text": [
      "<Node: /Global/TradingBook/Rates0.(TradingContainer:NPV)() in Root:4551430040 @4867030544 T=None>, nIn=3\n",
      "   <Node: /Global/Equity/f8a92eac-54f5-4e68-b9da-3359f7e8be6d.(Equity:NPV)() in Root:4551430040 @4681890704 T=None>, nIn=2\n",
      "      <Node: /Global/Equity/f8a92eac-54f5-4e68-b9da-3359f7e8be6d.(Equity:refdata)() in Root:4551430040 @4681890832 T=None>, nIn=1\n",
      "         <Node: /Global/Equity/f8a92eac-54f5-4e68-b9da-3359f7e8be6d.(Equity:assetName)() in Root:4551430040 @4681890960 T=None>, nIn=0\n",
      "      <Node: /Global/MarketInterface/GOOG.(MarketInterface:spot)() in Root:4551430040 @4699955792 T=True>, nIn=2\n",
      "         <Node: /Global/MarketDataSource/source1.GOOG.(ExternalRefData:state)() in Root:4551430040 @4681889552 T=None>, nIn=1\n",
      "            <Node: /Global/MarketDataSource/source1.GOOG.(RefData:state)() in Root:4551430040 @4681890320 T=None>, nIn=10\n",
      "               <Node: /Global/Clock/MarketData.(Clock:cutoffs)() in Root:4551430040 @4699956688 T=True>, nIn=2\n",
      "                  <Node: /Global/Clock/MarketData.(Clock:parent)() in Root:4551430040 @4699956560 T=None>, nIn=4\n",
      "                     <Node: /Global/Clock/MarketData.(Entity:clock)() in Root:4551430040 @4699958416 T=None>, nIn=0\n",
      "                     <Node: /Global/ClockEvent/73c9fcf5-1789-4821-ae4f-a7dc563be332.(ClockEvent:parent)() in Root:4551430040 @4699957584 T=None>, nIn=0\n",
      "                     <Node: /Global/ClockEvent/73c9fcf5-1789-4821-ae4f-a7dc563be332.(Event:amends)() in Root:4551430040 @4699958544 T=None>, nIn=0\n",
      "                     <Node: /Global/RootClock/Main.(RootClock:cutoffs)() in Root:4551430040 @4867030864 T=True>, nIn=0\n",
      "                  <Node: /Global/Clock/RefData.(Clock:cutoffs)() in Root:4551430040 @4738248848 T=True>, nIn=2\n",
      "                     <Node: /Global/Clock/RefData.(Clock:parent)() in Root:4551430040 @4738249232 T=None>, nIn=2\n",
      "                        <Node: /Global/Clock/RefData.(Entity:clock)() in Root:4551430040 @4738250128 T=None>, nIn=0\n",
      "                        <Node: /Global/RootClock/Main.(RootClock:cutoffs)() in Root:4551430040 @4867030864 T=True>, nIn=0\n",
      "                     <Node: /Global/RootClock/Main.(RootClock:cutoffs)() in Root:4551430040 @4867030864 T=True>, nIn=0\n",
      "               <Node: /Global/MarketDataSource/source1.GOOG.(MarketDataSource:clock)() in Root:4551430040 @4829262160 T=None>, nIn=0\n",
      "               <Node: /Global/RefDataUpdateEvent/2383321a-b667-4d2d-8604-75ec523d2781.(Event:amends)() in Root:4551430040 @4738250320 T=None>, nIn=0\n",
      "               <Node: /Global/RefDataUpdateEvent/2383321a-b667-4d2d-8604-75ec523d2781.(RefDataUpdateEvent:data)() in Root:4551430040 @4738250704 T=None>, nIn=0\n",
      "               <Node: /Global/RefDataUpdateEvent/46bb51b8-e3ac-4b49-ad8d-6048627d70e8.(Event:amends)() in Root:4551430040 @4738250000 T=None>, nIn=0\n",
      "               <Node: /Global/RefDataUpdateEvent/46bb51b8-e3ac-4b49-ad8d-6048627d70e8.(RefDataUpdateEvent:data)() in Root:4551430040 @4738250960 T=None>, nIn=0\n",
      "               <Node: /Global/RefDataUpdateEvent/a061b185-e340-48c7-b58b-638559087b0f.(Event:amends)() in Root:4551430040 @4738250384 T=None>, nIn=0\n",
      "               <Node: /Global/RefDataUpdateEvent/a061b185-e340-48c7-b58b-638559087b0f.(RefDataUpdateEvent:data)() in Root:4551430040 @4738250832 T=None>, nIn=0\n",
      "               <Node: /Global/RefDataUpdateEvent/fc9965b7-5d6d-4e3e-897b-f4951eb6f3e8.(Event:amends)() in Root:4551430040 @4738249360 T=None>, nIn=0\n",
      "               <Node: /Global/RefDataUpdateEvent/fc9965b7-5d6d-4e3e-897b-f4951eb6f3e8.(RefDataUpdateEvent:data)() in Root:4551430040 @4738250576 T=None>, nIn=0\n",
      "         <Node: /Global/MarketInterface/GOOG.(MarketInterface:source)() in Root:4551430040 @4699955344 T=None>, nIn=1\n",
      "            <Node: /Global/MarketInterface/GOOG.(MarketInterface:sourceName)() in Root:4551430040 @4699955728 T=None>, nIn=0\n",
      "   <Node: /Global/ForwardCashflow/ccd6e667-3232-4d56-994b-4439538f343d.(ForwardCashflow:NPV)() in Root:4551430040 @4681889488 T=None>, nIn=0\n",
      "   <Node: /Global/TradingBook/Rates0.(Workbook:items)() in Root:4551430040 @4867030352 T=None>, nIn=92\n",
      "      <Node: /Global/Clock/Trading.(Clock:cutoffs)() in Root:4551430040 @4654378256 T=True>, nIn=2\n",
      "         <Node: /Global/Clock/Trading.(Clock:parent)() in Root:4551430040 @4654377808 T=None>, nIn=4\n",
      "            <Node: /Global/Clock/Trading.(Entity:clock)() in Root:4551430040 @4654376080 T=None>, nIn=0\n",
      "            <Node: /Global/ClockEvent/84c69beb-9fb5-40cb-94b2-f6b474b59ac7.(ClockEvent:parent)() in Root:4551430040 @4654376720 T=None>, nIn=0\n",
      "            <Node: /Global/ClockEvent/84c69beb-9fb5-40cb-94b2-f6b474b59ac7.(Event:amends)() in Root:4551430040 @4654375184 T=None>, nIn=0\n",
      "            <Node: /Global/RootClock/Main.(RootClock:cutoffs)() in Root:4551430040 @4867030864 T=True>, nIn=0\n",
      "         <Node: /Global/Clock/Workflow.(Clock:cutoffs)() in Root:4551430040 @4867030928 T=True>, nIn=2\n",
      "            <Node: /Global/Clock/Workflow.(Clock:parent)() in Root:4551430040 @4867030288 T=None>, nIn=2\n",
      "               <Node: /Global/Clock/Workflow.(Entity:clock)() in Root:4551430040 @4866611920 T=None>, nIn=0\n",
      "               <Node: /Global/RootClock/Main.(RootClock:cutoffs)() in Root:4551430040 @4867030864 T=True>, nIn=0\n",
      "            <Node: /Global/RootClock/Main.(RootClock:cutoffs)() in Root:4551430040 @4867030864 T=True>, nIn=0\n",
      "      <Node: /Global/TradeOpenEvent/206097c7-8f7f-4c12-9377-8e307b959113.(Event:amends)() in Root:4551430040 @4867027920 T=None>, nIn=0\n",
      "      <Node: /Global/TradeOpenEvent/206097c7-8f7f-4c12-9377-8e307b959113.(TradeOpenEvent:action)() in Root:4551430040 @4681888656 T=None>, nIn=0\n",
      "      <Node: /Global/TradeOpenEvent/206097c7-8f7f-4c12-9377-8e307b959113.(TradeOpenEvent:premium)() in Root:4551430040 @4681889808 T=None>, nIn=0\n",
      "      <Node: /Global/TradeOpenEvent/206097c7-8f7f-4c12-9377-8e307b959113.(TradeOpenEvent:quantity)() in Root:4551430040 @4681888912 T=None>, nIn=0\n",
      "      <Node: /Global/TradeOpenEvent/206097c7-8f7f-4c12-9377-8e307b959113.(TradeOpenEvent:ticket)() in Root:4551430040 @4681889040 T=None>, nIn=0\n",
      "      <Node: /Global/TradeOpenEvent/206097c7-8f7f-4c12-9377-8e307b959113.(TradeOpenEvent:unitPrice)() in Root:4551430040 @4681888784 T=None>, nIn=0\n",
      "      <Node: /Global/TradeOpenEvent/206097c7-8f7f-4c12-9377-8e307b959113.(_WorkItemEvent:book1)() in Root:4551430040 @4681889936 T=None>, nIn=0\n",
      "      <Node: /Global/TradeOpenEvent/206097c7-8f7f-4c12-9377-8e307b959113.(_WorkItemEvent:book2)() in Root:4551430040 @4681889744 T=None>, nIn=0\n",
      "      <Node: /Global/TradeOpenEvent/206097c7-8f7f-4c12-9377-8e307b959113.(_WorkItemEvent:item)() in Root:4551430040 @4681890064 T=None>, nIn=0\n",
      "      <Node: /Global/TradeOpenEvent/569e6295-220a-4cad-a7da-e7a4dee24313.(Event:amends)() in Root:4551430040 @4866882576 T=None>, nIn=0\n",
      "      <Node: /Global/TradeOpenEvent/569e6295-220a-4cad-a7da-e7a4dee24313.(TradeOpenEvent:action)() in Root:4551430040 @4829264592 T=None>, nIn=0\n",
      "      <Node: /Global/TradeOpenEvent/569e6295-220a-4cad-a7da-e7a4dee24313.(TradeOpenEvent:premium)() in Root:4551430040 @4866516752 T=None>, nIn=0\n",
      "      <Node: /Global/TradeOpenEvent/569e6295-220a-4cad-a7da-e7a4dee24313.(TradeOpenEvent:quantity)() in Root:4551430040 @4829263952 T=None>, nIn=0\n",
      "      <Node: /Global/TradeOpenEvent/569e6295-220a-4cad-a7da-e7a4dee24313.(TradeOpenEvent:ticket)() in Root:4551430040 @4829263568 T=None>, nIn=0\n",
      "      <Node: /Global/TradeOpenEvent/569e6295-220a-4cad-a7da-e7a4dee24313.(TradeOpenEvent:unitPrice)() in Root:4551430040 @4829263632 T=None>, nIn=0\n",
      "      <Node: /Global/TradeOpenEvent/569e6295-220a-4cad-a7da-e7a4dee24313.(_WorkItemEvent:book1)() in Root:4551430040 @4829261904 T=None>, nIn=0\n",
      "      <Node: /Global/TradeOpenEvent/569e6295-220a-4cad-a7da-e7a4dee24313.(_WorkItemEvent:book2)() in Root:4551430040 @4829262096 T=None>, nIn=0\n",
      "      <Node: /Global/TradeOpenEvent/569e6295-220a-4cad-a7da-e7a4dee24313.(_WorkItemEvent:item)() in Root:4551430040 @4866742992 T=None>, nIn=0\n",
      "      <Node: /Global/TradeOpenEvent/59ff1d7a-dfea-45f3-8d8f-0d6fb1dcbe18.(Event:amends)() in Root:4551430040 @4867027728 T=None>, nIn=0\n",
      "      <Node: /Global/TradeOpenEvent/59ff1d7a-dfea-45f3-8d8f-0d6fb1dcbe18.(TradeOpenEvent:action)() in Root:4551430040 @4660185232 T=None>, nIn=0\n",
      "      <Node: /Global/TradeOpenEvent/59ff1d7a-dfea-45f3-8d8f-0d6fb1dcbe18.(TradeOpenEvent:premium)() in Root:4551430040 @4681888016 T=None>, nIn=0\n",
      "      <Node: /Global/TradeOpenEvent/59ff1d7a-dfea-45f3-8d8f-0d6fb1dcbe18.(TradeOpenEvent:quantity)() in Root:4551430040 @4660186448 T=None>, nIn=0\n",
      "      <Node: /Global/TradeOpenEvent/59ff1d7a-dfea-45f3-8d8f-0d6fb1dcbe18.(TradeOpenEvent:ticket)() in Root:4551430040 @4660186576 T=None>, nIn=0\n",
      "      <Node: /Global/TradeOpenEvent/59ff1d7a-dfea-45f3-8d8f-0d6fb1dcbe18.(TradeOpenEvent:unitPrice)() in Root:4551430040 @4660186320 T=None>, nIn=0\n",
      "      <Node: /Global/TradeOpenEvent/59ff1d7a-dfea-45f3-8d8f-0d6fb1dcbe18.(_WorkItemEvent:book1)() in Root:4551430040 @4681888464 T=None>, nIn=0\n",
      "      <Node: /Global/TradeOpenEvent/59ff1d7a-dfea-45f3-8d8f-0d6fb1dcbe18.(_WorkItemEvent:book2)() in Root:4551430040 @4681888400 T=None>, nIn=0\n",
      "      <Node: /Global/TradeOpenEvent/59ff1d7a-dfea-45f3-8d8f-0d6fb1dcbe18.(_WorkItemEvent:item)() in Root:4551430040 @4681888080 T=None>, nIn=0\n",
      "      <Node: /Global/TradeOpenEvent/6af40f02-914d-4559-9f16-743c84f078f0.(Event:amends)() in Root:4551430040 @4866881296 T=None>, nIn=0\n",
      "      <Node: /Global/TradeOpenEvent/6af40f02-914d-4559-9f16-743c84f078f0.(TradeOpenEvent:action)() in Root:4551430040 @4866515984 T=None>, nIn=0\n",
      "      <Node: /Global/TradeOpenEvent/6af40f02-914d-4559-9f16-743c84f078f0.(TradeOpenEvent:premium)() in Root:4551430040 @4654375568 T=None>, nIn=0\n",
      "      <Node: /Global/TradeOpenEvent/6af40f02-914d-4559-9f16-743c84f078f0.(TradeOpenEvent:quantity)() in Root:4551430040 @4866516112 T=None>, nIn=0\n",
      "      <Node: /Global/TradeOpenEvent/6af40f02-914d-4559-9f16-743c84f078f0.(TradeOpenEvent:ticket)() in Root:4551430040 @4866516368 T=None>, nIn=0\n",
      "      <Node: /Global/TradeOpenEvent/6af40f02-914d-4559-9f16-743c84f078f0.(TradeOpenEvent:unitPrice)() in Root:4551430040 @4866515920 T=None>, nIn=0\n",
      "      <Node: /Global/TradeOpenEvent/6af40f02-914d-4559-9f16-743c84f078f0.(_WorkItemEvent:book1)() in Root:4551430040 @4654375440 T=None>, nIn=0\n",
      "      <Node: /Global/TradeOpenEvent/6af40f02-914d-4559-9f16-743c84f078f0.(_WorkItemEvent:book2)() in Root:4551430040 @4654375248 T=None>, nIn=0\n",
      "      <Node: /Global/TradeOpenEvent/6af40f02-914d-4559-9f16-743c84f078f0.(_WorkItemEvent:item)() in Root:4551430040 @4866743696 T=None>, nIn=0\n",
      "      <Node: /Global/TradeOpenEvent/71b3aeff-fe41-4226-a03f-3ed6f44e3f76.(Event:amends)() in Root:4551430040 @4866882896 T=None>, nIn=0\n",
      "      <Node: /Global/TradeOpenEvent/71b3aeff-fe41-4226-a03f-3ed6f44e3f76.(TradeOpenEvent:action)() in Root:4551430040 @4866742928 T=None>, nIn=0\n",
      "      <Node: /Global/TradeOpenEvent/71b3aeff-fe41-4226-a03f-3ed6f44e3f76.(TradeOpenEvent:premium)() in Root:4551430040 @4829263248 T=None>, nIn=0\n",
      "      <Node: /Global/TradeOpenEvent/71b3aeff-fe41-4226-a03f-3ed6f44e3f76.(TradeOpenEvent:quantity)() in Root:4551430040 @4866743440 T=None>, nIn=0\n",
      "      <Node: /Global/TradeOpenEvent/71b3aeff-fe41-4226-a03f-3ed6f44e3f76.(TradeOpenEvent:ticket)() in Root:4551430040 @4866743760 T=None>, nIn=0\n",
      "      <Node: /Global/TradeOpenEvent/71b3aeff-fe41-4226-a03f-3ed6f44e3f76.(TradeOpenEvent:unitPrice)() in Root:4551430040 @4866742224 T=None>, nIn=0\n",
      "      <Node: /Global/TradeOpenEvent/71b3aeff-fe41-4226-a03f-3ed6f44e3f76.(_WorkItemEvent:book1)() in Root:4551430040 @4829262224 T=None>, nIn=0\n",
      "      <Node: /Global/TradeOpenEvent/71b3aeff-fe41-4226-a03f-3ed6f44e3f76.(_WorkItemEvent:book2)() in Root:4551430040 @4829262608 T=None>, nIn=0\n",
      "      <Node: /Global/TradeOpenEvent/71b3aeff-fe41-4226-a03f-3ed6f44e3f76.(_WorkItemEvent:item)() in Root:4551430040 @4866334928 T=None>, nIn=0\n",
      "      <Node: /Global/TradeOpenEvent/792758ac-caef-49e9-949a-88249a698d63.(Event:amends)() in Root:4551430040 @4866883216 T=None>, nIn=0\n",
      "      <Node: /Global/TradeOpenEvent/792758ac-caef-49e9-949a-88249a698d63.(TradeOpenEvent:action)() in Root:4551430040 @4654375504 T=None>, nIn=0\n",
      "      <Node: /Global/TradeOpenEvent/792758ac-caef-49e9-949a-88249a698d63.(TradeOpenEvent:premium)() in Root:4551430040 @4654375760 T=None>, nIn=0\n",
      "      <Node: /Global/TradeOpenEvent/792758ac-caef-49e9-949a-88249a698d63.(TradeOpenEvent:quantity)() in Root:4551430040 @4654376208 T=None>, nIn=0\n",
      "      <Node: /Global/TradeOpenEvent/792758ac-caef-49e9-949a-88249a698d63.(TradeOpenEvent:ticket)() in Root:4551430040 @4654377872 T=None>, nIn=0\n",
      "      <Node: /Global/TradeOpenEvent/792758ac-caef-49e9-949a-88249a698d63.(TradeOpenEvent:unitPrice)() in Root:4551430040 @4654378576 T=None>, nIn=0\n",
      "      <Node: /Global/TradeOpenEvent/792758ac-caef-49e9-949a-88249a698d63.(_WorkItemEvent:book1)() in Root:4551430040 @4654377488 T=None>, nIn=0\n",
      "      <Node: /Global/TradeOpenEvent/792758ac-caef-49e9-949a-88249a698d63.(_WorkItemEvent:book2)() in Root:4551430040 @4654376016 T=None>, nIn=0\n",
      "      <Node: /Global/TradeOpenEvent/792758ac-caef-49e9-949a-88249a698d63.(_WorkItemEvent:item)() in Root:4551430040 @4654378768 T=None>, nIn=0\n",
      "      <Node: /Global/TradeOpenEvent/a7791670-22a6-4467-b61d-290bd7caa430.(Event:amends)() in Root:4551430040 @4866882832 T=None>, nIn=0\n",
      "      <Node: /Global/TradeOpenEvent/a7791670-22a6-4467-b61d-290bd7caa430.(TradeOpenEvent:action)() in Root:4551430040 @4829262736 T=None>, nIn=0\n",
      "      <Node: /Global/TradeOpenEvent/a7791670-22a6-4467-b61d-290bd7caa430.(TradeOpenEvent:premium)() in Root:4551430040 @4660183120 T=None>, nIn=0\n",
      "      <Node: /Global/TradeOpenEvent/a7791670-22a6-4467-b61d-290bd7caa430.(TradeOpenEvent:quantity)() in Root:4551430040 @4829264464 T=None>, nIn=0\n",
      "      <Node: /Global/TradeOpenEvent/a7791670-22a6-4467-b61d-290bd7caa430.(TradeOpenEvent:ticket)() in Root:4551430040 @4829263184 T=None>, nIn=0\n",
      "      <Node: /Global/TradeOpenEvent/a7791670-22a6-4467-b61d-290bd7caa430.(TradeOpenEvent:unitPrice)() in Root:4551430040 @4829264528 T=None>, nIn=0\n",
      "      <Node: /Global/TradeOpenEvent/a7791670-22a6-4467-b61d-290bd7caa430.(_WorkItemEvent:book1)() in Root:4551430040 @4829265488 T=None>, nIn=0\n",
      "      <Node: /Global/TradeOpenEvent/a7791670-22a6-4467-b61d-290bd7caa430.(_WorkItemEvent:book2)() in Root:4551430040 @4829265296 T=None>, nIn=0\n",
      "      <Node: /Global/TradeOpenEvent/a7791670-22a6-4467-b61d-290bd7caa430.(_WorkItemEvent:item)() in Root:4551430040 @4829265616 T=None>, nIn=0\n",
      "      <Node: /Global/TradeOpenEvent/b0bcd1e1-c5f5-4b75-8d38-e070b51bc158.(Event:amends)() in Root:4551430040 @4866881872 T=None>, nIn=0\n",
      "      <Node: /Global/TradeOpenEvent/b0bcd1e1-c5f5-4b75-8d38-e070b51bc158.(TradeOpenEvent:action)() in Root:4551430040 @4660183184 T=None>, nIn=0\n",
      "      <Node: /Global/TradeOpenEvent/b0bcd1e1-c5f5-4b75-8d38-e070b51bc158.(TradeOpenEvent:premium)() in Root:4551430040 @4829264784 T=None>, nIn=0\n",
      "      <Node: /Global/TradeOpenEvent/b0bcd1e1-c5f5-4b75-8d38-e070b51bc158.(TradeOpenEvent:quantity)() in Root:4551430040 @4660183440 T=None>, nIn=0\n",
      "      <Node: /Global/TradeOpenEvent/b0bcd1e1-c5f5-4b75-8d38-e070b51bc158.(TradeOpenEvent:ticket)() in Root:4551430040 @4660183568 T=None>, nIn=0\n",
      "      <Node: /Global/TradeOpenEvent/b0bcd1e1-c5f5-4b75-8d38-e070b51bc158.(TradeOpenEvent:unitPrice)() in Root:4551430040 @4660183312 T=None>, nIn=0\n",
      "      <Node: /Global/TradeOpenEvent/b0bcd1e1-c5f5-4b75-8d38-e070b51bc158.(_WorkItemEvent:book1)() in Root:4551430040 @4829265232 T=None>, nIn=0\n",
      "      <Node: /Global/TradeOpenEvent/b0bcd1e1-c5f5-4b75-8d38-e070b51bc158.(_WorkItemEvent:book2)() in Root:4551430040 @4829264848 T=None>, nIn=0\n",
      "      <Node: /Global/TradeOpenEvent/b0bcd1e1-c5f5-4b75-8d38-e070b51bc158.(_WorkItemEvent:item)() in Root:4551430040 @4829264720 T=None>, nIn=0\n",
      "      <Node: /Global/TradeOpenEvent/bd344b1c-8c82-4523-b561-fd0fd82c3527.(Event:amends)() in Root:4551430040 @4867027984 T=None>, nIn=0\n",
      "      <Node: /Global/TradeOpenEvent/bd344b1c-8c82-4523-b561-fd0fd82c3527.(TradeOpenEvent:action)() in Root:4551430040 @4660184528 T=None>, nIn=0\n",
      "      <Node: /Global/TradeOpenEvent/bd344b1c-8c82-4523-b561-fd0fd82c3527.(TradeOpenEvent:premium)() in Root:4551430040 @4660185552 T=None>, nIn=0\n",
      "      <Node: /Global/TradeOpenEvent/bd344b1c-8c82-4523-b561-fd0fd82c3527.(TradeOpenEvent:quantity)() in Root:4551430040 @4660184464 T=None>, nIn=0\n",
      "      <Node: /Global/TradeOpenEvent/bd344b1c-8c82-4523-b561-fd0fd82c3527.(TradeOpenEvent:ticket)() in Root:4551430040 @4660184272 T=None>, nIn=0\n",
      "      <Node: /Global/TradeOpenEvent/bd344b1c-8c82-4523-b561-fd0fd82c3527.(TradeOpenEvent:unitPrice)() in Root:4551430040 @4660184592 T=None>, nIn=0\n",
      "      <Node: /Global/TradeOpenEvent/bd344b1c-8c82-4523-b561-fd0fd82c3527.(_WorkItemEvent:book1)() in Root:4551430040 @4660185680 T=None>, nIn=0\n",
      "      <Node: /Global/TradeOpenEvent/bd344b1c-8c82-4523-b561-fd0fd82c3527.(_WorkItemEvent:book2)() in Root:4551430040 @4660185488 T=None>, nIn=0\n",
      "      <Node: /Global/TradeOpenEvent/bd344b1c-8c82-4523-b561-fd0fd82c3527.(_WorkItemEvent:item)() in Root:4551430040 @4660185808 T=None>, nIn=0\n",
      "      <Node: /Global/TradeOpenEvent/e121c66b-eb63-44be-ac03-98ccef734394.(Event:amends)() in Root:4551430040 @4867029712 T=None>, nIn=0\n",
      "      <Node: /Global/TradeOpenEvent/e121c66b-eb63-44be-ac03-98ccef734394.(TradeOpenEvent:action)() in Root:4551430040 @4678711248 T=None>, nIn=0\n",
      "      <Node: /Global/TradeOpenEvent/e121c66b-eb63-44be-ac03-98ccef734394.(TradeOpenEvent:premium)() in Root:4551430040 @4660184016 T=None>, nIn=0\n",
      "      <Node: /Global/TradeOpenEvent/e121c66b-eb63-44be-ac03-98ccef734394.(TradeOpenEvent:quantity)() in Root:4551430040 @4678711760 T=None>, nIn=0\n",
      "      <Node: /Global/TradeOpenEvent/e121c66b-eb63-44be-ac03-98ccef734394.(TradeOpenEvent:ticket)() in Root:4551430040 @4678712784 T=None>, nIn=0\n",
      "      <Node: /Global/TradeOpenEvent/e121c66b-eb63-44be-ac03-98ccef734394.(TradeOpenEvent:unitPrice)() in Root:4551430040 @4678711120 T=None>, nIn=0\n",
      "      <Node: /Global/TradeOpenEvent/e121c66b-eb63-44be-ac03-98ccef734394.(_WorkItemEvent:book1)() in Root:4551430040 @4678713040 T=None>, nIn=0\n",
      "      <Node: /Global/TradeOpenEvent/e121c66b-eb63-44be-ac03-98ccef734394.(_WorkItemEvent:book2)() in Root:4551430040 @4654377104 T=None>, nIn=0\n",
      "      <Node: /Global/TradeOpenEvent/e121c66b-eb63-44be-ac03-98ccef734394.(_WorkItemEvent:item)() in Root:4551430040 @4678711888 T=None>, nIn=0\n",
      "      <Node: /Global/TradingBook/Rates0.(TradingBook:clock)() in Root:4551430040 @4678709648 T=None>, nIn=0\n"
     ]
    }
   ],
   "source": [
    "dba = db.copy()\n",
    "valuable = dba.get(b4.meta.path())\n",
    "\n",
    "clock = valuable.getObj(_tr.RootClock, 'Main')\n",
    "with SummaryMonitor():\n",
    "    with Context({clock.cutoffs: ts7}):\n",
    "        print valuable.NPV()\n",
    "        node = getNode(valuable.NPV)\n",
    "node.printInputGraph()"
   ]
  },
  {
   "cell_type": "markdown",
   "metadata": {
    "collapsed": true
   },
   "source": [
    "# Graph Simplification\n",
    "\n",
    "* Very simple input management simplifier: ignore inputs if they are leaves and not tweakable\n",
    "* Simple context simplification: just switch to a simple context for certain known methods"
   ]
  },
  {
   "cell_type": "code",
   "execution_count": 6,
   "metadata": {
    "collapsed": false,
    "scrolled": false
   },
   "outputs": [
    {
     "name": "stdout",
     "output_type": "stream",
     "text": [
      "40.85\n",
      "<Node: /Global/TradingBook/Rates0.(TradingContainer:NPV)() in Root:4551430040 @4810058576 T=None>, nIn=3\n",
      "   <Node: /Global/Clock/Trading.(Clock:cutoffs)() in Root:4551430040 @4810059664 T=True>, nIn=2\n",
      "      <Node: /Global/Clock/Trading.(Clock:parent)() in Root:4551430040 @4810059344 T=None>, nIn=1\n",
      "         <Node: /Global/RootClock/Main.(RootClock:cutoffs)() in Root:4551430040 @4810058384 T=True>, nIn=0\n",
      "      <Node: /Global/Clock/Workflow.(Clock:cutoffs)() in Root:4551430040 @4847516432 T=True>, nIn=2\n",
      "         <Node: /Global/Clock/Workflow.(Clock:parent)() in Root:4551430040 @4847516304 T=None>, nIn=1\n",
      "            <Node: /Global/RootClock/Main.(RootClock:cutoffs)() in Root:4551430040 @4810058384 T=True>, nIn=0\n",
      "         <Node: /Global/RootClock/Main.(RootClock:cutoffs)() in Root:4551430040 @4810058384 T=True>, nIn=0\n",
      "   <Node: /Global/Equity/f8a92eac-54f5-4e68-b9da-3359f7e8be6d.(Equity:NPV)() in Root:4551430040 @4680462864 T=None>, nIn=1\n",
      "      <Node: /Global/MarketInterface/GOOG.(MarketInterface:spot)() in Root:4551430040 @4680463952 T=True>, nIn=1\n",
      "         <Node: /Global/MarketDataSource/source1.GOOG.(ExternalRefData:state)() in Root:4551430040 @4680465232 T=None>, nIn=2\n",
      "            <Node: /Global/Clock/MarketData.(Clock:cutoffs)() in Root:4551430040 @4680465744 T=True>, nIn=2\n",
      "               <Node: /Global/Clock/MarketData.(Clock:parent)() in Root:4551430040 @4685402192 T=None>, nIn=1\n",
      "                  <Node: /Global/RootClock/Main.(RootClock:cutoffs)() in Root:4551430040 @4810058384 T=True>, nIn=0\n",
      "               <Node: /Global/Clock/RefData.(Clock:cutoffs)() in Root:4551430040 @4680463824 T=True>, nIn=2\n",
      "                  <Node: /Global/Clock/RefData.(Clock:parent)() in Root:4551430040 @4680463760 T=None>, nIn=1\n",
      "                     <Node: /Global/RootClock/Main.(RootClock:cutoffs)() in Root:4551430040 @4810058384 T=True>, nIn=0\n",
      "                  <Node: /Global/RootClock/Main.(RootClock:cutoffs)() in Root:4551430040 @4810058384 T=True>, nIn=0\n",
      "            <Node: /Global/MarketDataSource/source1.GOOG.(RefData:state)() in Root:4551430040:4551430040 @4680463632 T=None>, nIn=1\n",
      "               <Node: /Global/Clock/MarketData.(Clock:cutoffs)() in Root:4551430040 @4680465744 T=True>, nIn=2\n",
      "                  <Node: /Global/Clock/MarketData.(Clock:parent)() in Root:4551430040 @4685402192 T=None>, nIn=1\n",
      "                     <Node: /Global/RootClock/Main.(RootClock:cutoffs)() in Root:4551430040 @4810058384 T=True>, nIn=0\n",
      "                  <Node: /Global/Clock/RefData.(Clock:cutoffs)() in Root:4551430040 @4680463824 T=True>, nIn=2\n",
      "                     <Node: /Global/Clock/RefData.(Clock:parent)() in Root:4551430040 @4680463760 T=None>, nIn=1\n",
      "                        <Node: /Global/RootClock/Main.(RootClock:cutoffs)() in Root:4551430040 @4810058384 T=True>, nIn=0\n",
      "                     <Node: /Global/RootClock/Main.(RootClock:cutoffs)() in Root:4551430040 @4810058384 T=True>, nIn=0\n",
      "   <Node: /Global/TradingBook/Rates0.(Workbook:items)() in Root:4551430040:4551430040 @4847517584 T=None>, nIn=1\n",
      "      <Node: /Global/Clock/Trading.(Clock:cutoffs)() in Root:4551430040 @4810059664 T=True>, nIn=2\n",
      "         <Node: /Global/Clock/Trading.(Clock:parent)() in Root:4551430040 @4810059344 T=None>, nIn=1\n",
      "            <Node: /Global/RootClock/Main.(RootClock:cutoffs)() in Root:4551430040 @4810058384 T=True>, nIn=0\n",
      "         <Node: /Global/Clock/Workflow.(Clock:cutoffs)() in Root:4551430040 @4847516432 T=True>, nIn=2\n",
      "            <Node: /Global/Clock/Workflow.(Clock:parent)() in Root:4551430040 @4847516304 T=None>, nIn=1\n",
      "               <Node: /Global/RootClock/Main.(RootClock:cutoffs)() in Root:4551430040 @4810058384 T=True>, nIn=0\n",
      "            <Node: /Global/RootClock/Main.(RootClock:cutoffs)() in Root:4551430040 @4810058384 T=True>, nIn=0\n"
     ]
    }
   ],
   "source": [
    "from mand.graph import DependencyManager, setDependencyManager\n",
    "from mand.core import Event\n",
    "\n",
    "class DM1(DependencyManager):\n",
    "    \n",
    "    def __init__(self):\n",
    "        self.contexts = {}\n",
    "        super(DM1, self).__init__()\n",
    "            \n",
    "    def prn(self, input, txt):\n",
    "        print txt\n",
    "        isEvent = isinstance(input.object(), Event)\n",
    "        print input.object(), input.methodId() \n",
    "        print isEvent, len(input.inputs)\n",
    "        print input.tweakPoint\n",
    "        print\n",
    "        \n",
    "    def addDep(self, input, output):\n",
    "        if not input.tweakable:\n",
    "            # if isinstance(input.object(), Event) and not input.inputs:\n",
    "            if not input.inputs:\n",
    "                return\n",
    "\n",
    "        output.inputs.add(input)\n",
    "        input.outputs.add(output)\n",
    "\n",
    "\n",
    "    def calculated(self, node):\n",
    "        if not node.isSimplified:\n",
    "            return\n",
    "        for input in node.inputs:\n",
    "            if input not in node.ctx.tweaks:\n",
    "                addFootnote(text='context simplification failure', info=str(input.key))\n",
    "                        \n",
    "    def getNode(self, ctx, key, tweakable=False):\n",
    "        n = ctx._get(key)\n",
    "        if n:\n",
    "            return n\n",
    "        if key.fullName() in ('Workbook:items', 'RefData:state', 'Portfolio:children', 'Portfolio:items'):\n",
    "            obj = key.object()\n",
    "            ts = obj.clock().cutoffs()\n",
    "            cKey = (obj.clock(), ts)\n",
    "            if cKey not in self.contexts:\n",
    "                self.contexts[cKey] = Context({obj.clock().cutoffs: ts})\n",
    "            ctx1 = self.contexts[cKey]\n",
    "            ret = ctx1.get(key, tweakable)\n",
    "            ret.isSimplified = True\n",
    "        else:\n",
    "            ret = super(DM1, self).getNode(ctx, key, tweakable)\n",
    "        return ret\n",
    "    \n",
    "setDependencyManager(DM1())\n",
    "\n",
    "db4 = db.copy()\n",
    "valuable = db4.get(b4.meta.path())\n",
    "\n",
    "clock = valuable.getObj(_tr.RootClock, 'Main')\n",
    "with Context({clock.cutoffs: ts7}):\n",
    "    print valuable.NPV()\n",
    "    node = getNode(valuable.NPV)\n",
    "    node.printInputGraph()"
   ]
  },
  {
   "cell_type": "code",
   "execution_count": 7,
   "metadata": {
    "collapsed": false,
    "scrolled": false
   },
   "outputs": [
    {
     "data": {
      "text/markdown": [
       "# PnL explain for TopOfTheHouse: 6256.00"
      ],
      "text/plain": [
       "<IPython.core.display.Markdown object>"
      ]
     },
     "metadata": {},
     "output_type": "display_data"
    },
    {
     "data": {
      "text/markdown": [
       "**Caveat: this report encountered problems. See footnotes at bottom.**"
      ],
      "text/plain": [
       "<IPython.core.display.Markdown object>"
      ]
     },
     "metadata": {},
     "output_type": "display_data"
    },
    {
     "data": {
      "text/markdown": [
       "|Activity|PnL|\n",
       "|-|-|\n",
       "|Starting balance breaks|0.00\n",
       "|prior day amends: MarketData|0.00\n",
       "|prior day amends: Portfolio|0.00\n",
       "|prior day amends: Trading|0.00\n",
       "|activity: MarketData|5240.00\n",
       "|activity: Portfolio|1016.00\n",
       "|activity: Trading|0.00\n",
       "|Ending balance breaks|0.00"
      ],
      "text/plain": [
       "<IPython.core.display.Markdown object>"
      ]
     },
     "metadata": {},
     "output_type": "display_data"
    },
    {
     "data": {
      "text/markdown": [
       "## Footnotes:"
      ],
      "text/plain": [
       "<IPython.core.display.Markdown object>"
      ]
     },
     "metadata": {},
     "output_type": "display_data"
    },
    {
     "data": {
      "text/markdown": [
       "1. Inadequate cash discounting model used\n",
       "1. Book appears multiple times: /Global/TradingBook/Eq-Inst0"
      ],
      "text/plain": [
       "<IPython.core.display.Markdown object>"
      ]
     },
     "metadata": {},
     "output_type": "display_data"
    },
    {
     "data": {
      "text/markdown": [
       "# Compute activity summary (11.37 seconds of wall clock time)"
      ],
      "text/plain": [
       "<IPython.core.display.Markdown object>"
      ]
     },
     "metadata": {},
     "output_type": "display_data"
    },
    {
     "data": {
      "text/markdown": [
       "|key|value|\n",
       "|-|-|\n",
       "|Context|19\n",
       "|Db.Get|2176\n",
       "|GetValue|29394\n",
       "|GetValue/Calc|824"
      ],
      "text/plain": [
       "<IPython.core.display.Markdown object>"
      ]
     },
     "metadata": {},
     "output_type": "display_data"
    },
    {
     "data": {
      "text/markdown": [
       "\n",
       "### Profile by nodes.\n",
       "* times are in microseconds\n",
       "* cumT is total time spent in funtion\n",
       "* calcT is time spent in function, but not in a child node"
      ],
      "text/plain": [
       "<IPython.core.display.Markdown object>"
      ]
     },
     "metadata": {},
     "output_type": "display_data"
    },
    {
     "data": {
      "text/markdown": [
       "|fn|n|cumT|calcT|cumT/call|sys|\n",
       "|-|-|-|-|-|-|\n",
       "|PnLExplainReport:data|1|11,361,942|19|11,361,942|GetValue\n",
       "|PnLExplainReport:data|1|11,361,922|430|11,361,922|GetValue/Calc\n",
       "|TradingContainer:NPV|11|11,354,182|128|1,032,198|GetValue\n",
       "|TradingContainer:NPV|11|11,354,054|2,094|1,032,186|GetValue/Calc\n",
       "|PnLExplainReport:cutoffs|1|11,264,296|18|11,264,296|GetValue\n",
       "|PnLExplainReport:cutoffs|1|11,264,277|142|11,264,277|GetValue/Calc\n",
       "|Root:Clocks|2|11,264,055|2,342|5,632,027|Context\n",
       "|Portfolio:items|41|11,205,550|332|273,306|GetValue\n",
       "|Portfolio:items|33|11,205,491|20,266|339,560|GetValue/Calc\n",
       "|Workbook:items|301|10,507,129|2,641|34,907|GetValue\n",
       "|Workbook:items|200|10,504,487|1,661,529|52,522|GetValue/Calc\n",
       "|TradeOpenEvent|1,014|4,597,417|4,597,417|4,533|Db.Get\n",
       "|TradeOpenEvent:ticket|4,052|4,087,635|30,755|1,008|GetValue\n",
       "|TradingTicket|1,014|4,056,879|4,056,879|4,000|Db.Get\n",
       "|Portfolio:children|66|636,379|475|9,642|GetValue\n",
       "|Portfolio:children|33|635,903|142,522|19,269|GetValue/Calc\n",
       "|PortfolioUpdateEvent:children|33|437,810|1,461|13,266|GetValue\n",
       "|TradingBook|102|403,865|403,865|3,959|Db.Get\n",
       "|Equity:NPV|15|121,293|161|8,086|GetValue\n",
       "|Equity:NPV|15|121,131|567|8,075|GetValue/Calc\n",
       "|MarketInterface:spot|15|110,964|145|7,397|GetValue\n",
       "|MarketInterface:spot|15|110,818|740|7,387|GetValue/Calc\n",
       "|ExternalRefData:state|15|102,043|130|6,802|GetValue\n",
       "|ExternalRefData:state|15|101,912|1,008|6,794|GetValue/Calc\n",
       "|Clock:cutoffs|903|86,164|3,475|95|GetValue\n",
       "|Clock:cutoffs|16|82,748|521|5,171|GetValue/Calc\n",
       "|Clock:parent|16|82,133|161|5,133|GetValue\n",
       "|Clock:parent|16|81,972|65,039|5,123|GetValue/Calc\n",
       "|Root:Amend Portfolio|1|57,126|41|57,126|Context\n",
       "|RefData:state|15|56,376|81|3,758|GetValue\n",
       "|RefData:state|4|56,294|17,908|14,073|GetValue/Calc\n",
       "|PortfolioUpdateEvent|12|54,711|54,711|4,559|Db.Get\n",
       "|TradingPortfolio|10|39,735|39,735|3,973|Db.Get\n",
       "|RefDataUpdateEvent|9|38,143|38,143|4,238|Db.Get\n",
       "|_WorkItemEvent:book2|4,052|29,122|21,870|7|GetValue\n",
       "|_WorkItemEvent:item|2,026|26,722|17,409|13|GetValue\n",
       "|_WorkItemEvent:book1|4,052|21,575|21,575|5|GetValue\n",
       "|Clock|5|20,450|20,450|4,090|Db.Get\n",
       "|TradeOpenEvent:quantity|4,052|19,465|19,465|4|GetValue\n",
       "|TradeOpenEvent:premium|2,026|18,781|14,676|9|GetValue\n",
       "|TradeOpenEvent:action|2,026|14,749|14,749|7|GetValue\n",
       "|TradingBook:clock|1,004|14,573|6,645|14|GetValue\n",
       "|Root:End|1|13,526|51|13,526|Context\n",
       "|Event:amends|2,083|12,366|12,366|5|GetValue\n",
       "|Root:Start|1|12,175|28|12,175|Context\n",
       "|TradeOpenEvent:unitPrice|2,026|11,676|11,676|5|GetValue\n",
       "|Equity:refdata|15|9,599|157|639|GetValue\n",
       "|Equity:refdata|15|9,442|603|629|GetValue/Calc\n",
       "|Equity|2|9,313|9,313|4,656|Db.Get\n",
       "|ClockEvent|2|8,871|8,871|4,435|Db.Get\n",
       "|MarketInterface|2|8,748|8,748|4,374|Db.Get\n",
       "|MarketInterface:source|15|8,033|123|535|GetValue\n",
       "|TradingBook:clock|300|7,928|3,590|26|GetValue/Calc\n",
       "|MarketInterface:source|15|7,910|557|527|GetValue/Calc\n",
       "|ClockEvent:parent|6|7,394|72|1,232|GetValue\n",
       "|MarketDataSource|2|7,163|7,163|3,581|Db.Get\n",
       "|MarketDataSource:clock|41|6,377|1,162|155|GetValue\n",
       "|Root:Amend MarketData|1|5,668|42|5,668|Context\n",
       "|Portfolio:clock|283|5,659|1,469|19|GetValue\n",
       "|MarketDataSource:clock|15|5,215|150|347|GetValue/Calc\n",
       "|RootClock|1|4,331|4,331|4,331|Db.Get\n",
       "|Portfolio:clock|41|4,189|463|102|GetValue/Calc\n",
       "|ForwardCashflow|1|4,105|4,105|4,105|Db.Get\n",
       "|Portfolio:books|63|3,024|467|48|GetValue\n",
       "|Portfolio:books|33|2,662|2,100|80|GetValue/Calc\n",
       "|Root:Activity Trading|1|1,747|44|1,747|Context\n",
       "|Root:Activity Portfolio|1|906|43|906|Context\n",
       "|Root:Start breaks|1|653|41|653|Context\n",
       "|Root:Amend Trading|1|571|37|571|Context\n",
       "|Entity:clock|32|508|331|15|GetValue\n",
       "|Root:Activity MarketData|1|464|38|464|Context\n",
       "|ForwardCashflow:NPV|11|257|120|23|GetValue\n",
       "|RootClock:cutoffs|43|218|158|5|GetValue\n",
       "|MarketInterface:sourceName|15|189|137|12|GetValue\n",
       "|Entity:clock|16|176|176|11|GetValue/Calc\n",
       "|ForwardCashflow:NPV|11|137|137|12|GetValue/Calc\n",
       "|Equity:assetName|15|91|91|6|GetValue\n",
       "|RefDataUpdateEvent:data|15|75|75|5|GetValue\n",
       "|RootClock:cutoffs|1|60|31|60|GetValue/Calc\n",
       "|MarketInterface:sourceName|15|52|52|3|GetValue/Calc\n",
       "|RootClock:cosmicAll|1|15|10|15|GetValue\n",
       "|PnLExplainReport:valuable|2|12|12|6|GetValue\n",
       "|CosmicAll:dbState|1|12|9|12|GetValue\n",
       "|PnLExplainReport:ts1|2|11|11|5|GetValue\n",
       "|PnLExplainReport:ts2|2|10|10|5|GetValue\n",
       "|RootClock:cosmicAll|1|5|5|5|GetValue/Calc\n",
       "|CosmicAll:dbState|1|3|3|3|GetValue/Calc"
      ],
      "text/plain": [
       "<IPython.core.display.Markdown object>"
      ]
     },
     "metadata": {},
     "output_type": "display_data"
    }
   ],
   "source": [
    "db4 = db.copy()\n",
    "valuable = db4.get(pAll.meta.path())\n",
    "\n",
    "r = PnLExplainReport(valuable=valuable, ts1=eod, ts2=ts7)\n",
    "with ProfileMonitor():\n",
    "    with SummaryMonitor():\n",
    "        r.run()"
   ]
  }
 ],
 "metadata": {
  "kernelspec": {
   "display_name": "Python 2",
   "language": "python",
   "name": "python2"
  },
  "language_info": {
   "codemirror_mode": {
    "name": "ipython",
    "version": 2
   },
   "file_extension": ".py",
   "mimetype": "text/x-python",
   "name": "python",
   "nbconvert_exporter": "python",
   "pygments_lexer": "ipython2",
   "version": "2.7.13"
  }
 },
 "nbformat": 4,
 "nbformat_minor": 2
}
