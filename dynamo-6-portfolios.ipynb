{
 "cells": [
  {
   "cell_type": "code",
   "execution_count": 1,
   "metadata": {
    "collapsed": false,
    "scrolled": false
   },
   "outputs": [],
   "source": [
    "import mand.core\n",
    "\n",
    "from mand.core import Entity, node, Context\n",
    "\n",
    "from mand.core import ObjectDb, DynamoDbDriver, ddb, _tr, Timestamp, Context\n",
    "from mand.core import RefData, RefDataUpdateEvent, Workbook, PrintMonitor, SummaryMonitor\n",
    "\n",
    "rawdb = DynamoDbDriver(ddb)\n",
    "db = ObjectDb(rawdb)\n",
    "\n",
    "pClock = _tr.Clock('Portfolio', db=db).write()"
   ]
  },
  {
   "cell_type": "code",
   "execution_count": 2,
   "metadata": {
    "collapsed": false
   },
   "outputs": [],
   "source": [
    "class Book(Workbook):\n",
    "    \n",
    "    def books(self):\n",
    "        return [self]\n",
    "\n",
    "    def prn(self, depth=0):\n",
    "        print '  ' * depth, self.meta.name()\n",
    "            \n",
    "class PortfolioUpdateEvent(RefDataUpdateEvent):\n",
    "\n",
    "    @node(stored=True)\n",
    "    def children(self):\n",
    "        return []\n",
    "    \n",
    "class Portfolio(RefData):\n",
    "\n",
    "    evCls = PortfolioUpdateEvent\n",
    "    \n",
    "    @node\n",
    "    def clock(self):\n",
    "        return _tr.Clock.get('Portfolio', db=self.meta.db)\n",
    "    \n",
    "    @node\n",
    "    def children(self):\n",
    "        evs = self.activeEvents()\n",
    "        if evs:\n",
    "            return evs[-1].children()\n",
    "        else:\n",
    "            return []\n",
    "        \n",
    "    def setChildren(self, children, validTime=None, amends=[]):\n",
    "        ev = self.evCls(entity=self, amends=amends, children=children, db=self.meta.db)\n",
    "        ev.write(validTime=validTime)\n",
    "        return ev\n",
    "    \n",
    "    @node\n",
    "    def books(self):\n",
    "        books = set()\n",
    "        for c in self.children():\n",
    "            for b in c.books():\n",
    "                if b in books:\n",
    "                    print 'Oops: book appears multiple times'\n",
    "                books.add(b)\n",
    "        return list(books)\n",
    "\n",
    "    def prn(self, depth=0):\n",
    "        print '  ' * depth, self.meta.name()\n",
    "        for c in self.children():\n",
    "            c.prn(depth+1)\n",
    "            \n",
    "_tr.add(Book)\n",
    "_tr.add(Portfolio)\n",
    "_tr.add(PortfolioUpdateEvent)"
   ]
  },
  {
   "cell_type": "code",
   "execution_count": 3,
   "metadata": {
    "collapsed": false
   },
   "outputs": [],
   "source": [
    "with db:\n",
    "    checking = Book('checking').write()\n",
    "    savings = Book('savings').write()\n",
    "    brokerage = Book('brokerage').write()\n",
    "    misc = Book('misc').write()\n",
    "    margin = Book('margin').write()\n",
    "    retirement = Book('401K').write()\n",
    "    kid1Trust = Book('trust1').write()\n",
    "    kid2Trust = Book('trust2').write()\n",
    "\n",
    "    pAll = Portfolio('Family').write()\n",
    "    pKids = Portfolio('Kids').write()\n",
    "    pBanking = Portfolio('Banking').write()\n",
    "    pTrading = Portfolio('Trading').write()\n",
    "    pDerivs = Portfolio('Derivs').write()\n",
    "\n",
    "def info():\n",
    "    c = [ o.meta.name() for o in pAll.children() ]\n",
    "    b = [ o.meta.name() for o in pAll.books() ]\n",
    "    print 'All children:', c\n",
    "    print 'All books   :', b"
   ]
  },
  {
   "cell_type": "code",
   "execution_count": 4,
   "metadata": {
    "collapsed": false,
    "scrolled": false
   },
   "outputs": [
    {
     "name": "stdout",
     "output_type": "stream",
     "text": [
      "All children: []\n",
      "All books   : []\n"
     ]
    }
   ],
   "source": [
    "info()"
   ]
  },
  {
   "cell_type": "code",
   "execution_count": 5,
   "metadata": {
    "collapsed": false
   },
   "outputs": [
    {
     "name": "stdout",
     "output_type": "stream",
     "text": [
      "All children: []\n",
      "All books   : []\n"
     ]
    }
   ],
   "source": [
    "ctx2 = Context({})\n",
    "with ctx2:\n",
    "    info()"
   ]
  },
  {
   "cell_type": "code",
   "execution_count": 6,
   "metadata": {
    "collapsed": false,
    "scrolled": false
   },
   "outputs": [
    {
     "data": {
      "text/plain": [
       "<__main__.PortfolioUpdateEvent at 0x1120d24d0>"
      ]
     },
     "execution_count": 6,
     "metadata": {},
     "output_type": "execute_result"
    }
   ],
   "source": [
    "pKids.setChildren([kid1Trust, kid2Trust])\n",
    "pBanking.setChildren([checking, savings])\n",
    "pTrading.setChildren([brokerage, margin, retirement])\n",
    "pDerivs.setChildren([pTrading])\n",
    "pAll.setChildren([pBanking, pDerivs, pKids, misc])"
   ]
  },
  {
   "cell_type": "code",
   "execution_count": 7,
   "metadata": {
    "collapsed": false,
    "scrolled": false
   },
   "outputs": [
    {
     "name": "stdout",
     "output_type": "stream",
     "text": [
      "All children: ['Banking', 'Derivs', 'Kids', 'misc']\n",
      "All books   : ['savings', '401K', 'brokerage', 'checking', 'trust2', 'trust1', 'margin', 'misc']\n",
      " <Portfolio@112146bd0/Portfolio:books in Root>\n",
      "   <Portfolio@112119410/Portfolio:books in Root>\n",
      "     <Portfolio@112119410/Portfolio:children in Root>\n",
      "       <Portfolio@112119410/Portfolio:clock in Root>\n",
      "       <Clock@112071450/Clock:cutoffs in Root>\n",
      "         <Clock@112071450/Clock:parent in Root>\n",
      "           <Clock@112071450/Entity:clock in Root>\n",
      "           <RootClock@112071210/RootClock:cutoffs in Root>\n",
      "             <CosmicAll@11218f3d0/CosmicAll:dbState in Root>\n",
      "             <RootClock@112071210/RootClock:cosmicAll in Root>\n",
      "         <RootClock@112071210/RootClock:cutoffs in Root>\n",
      "           <CosmicAll@11218f3d0/CosmicAll:dbState in Root>\n",
      "           <RootClock@112071210/RootClock:cosmicAll in Root>\n",
      "       <PortfolioUpdateEvent@112146310/PortfolioUpdateEvent:children in Root>\n",
      "       <PortfolioUpdateEvent@112146310/Event:amends in Root>\n",
      "   <Portfolio@112146bd0/Portfolio:children in Root>\n",
      "     <PortfolioUpdateEvent@1120d24d0/Event:amends in Root>\n",
      "     <PortfolioUpdateEvent@1120d24d0/PortfolioUpdateEvent:children in Root>\n",
      "     <Portfolio@112146bd0/Portfolio:clock in Root>\n",
      "     <Clock@112071450/Clock:cutoffs in Root>\n",
      "       <Clock@112071450/Clock:parent in Root>\n",
      "         <Clock@112071450/Entity:clock in Root>\n",
      "         <RootClock@112071210/RootClock:cutoffs in Root>\n",
      "           <CosmicAll@11218f3d0/CosmicAll:dbState in Root>\n",
      "           <RootClock@112071210/RootClock:cosmicAll in Root>\n",
      "       <RootClock@112071210/RootClock:cutoffs in Root>\n",
      "         <CosmicAll@11218f3d0/CosmicAll:dbState in Root>\n",
      "         <RootClock@112071210/RootClock:cosmicAll in Root>\n",
      "   <Portfolio@1121465d0/Portfolio:books in Root>\n",
      "     <Portfolio@1121465d0/Portfolio:children in Root>\n",
      "       <PortfolioUpdateEvent@1120960d0/PortfolioUpdateEvent:children in Root>\n",
      "       <Portfolio@1121465d0/Portfolio:clock in Root>\n",
      "       <Clock@112071450/Clock:cutoffs in Root>\n",
      "         <Clock@112071450/Clock:parent in Root>\n",
      "           <Clock@112071450/Entity:clock in Root>\n",
      "           <RootClock@112071210/RootClock:cutoffs in Root>\n",
      "             <CosmicAll@11218f3d0/CosmicAll:dbState in Root>\n",
      "             <RootClock@112071210/RootClock:cosmicAll in Root>\n",
      "         <RootClock@112071210/RootClock:cutoffs in Root>\n",
      "           <CosmicAll@11218f3d0/CosmicAll:dbState in Root>\n",
      "           <RootClock@112071210/RootClock:cosmicAll in Root>\n",
      "       <PortfolioUpdateEvent@1120960d0/Event:amends in Root>\n",
      "     <Portfolio@112119f10/Portfolio:books in Root>\n",
      "       <Portfolio@112119f10/Portfolio:children in Root>\n",
      "         <Portfolio@112119f10/Portfolio:clock in Root>\n",
      "         <Clock@112071450/Clock:cutoffs in Root>\n",
      "           <Clock@112071450/Clock:parent in Root>\n",
      "             <Clock@112071450/Entity:clock in Root>\n",
      "             <RootClock@112071210/RootClock:cutoffs in Root>\n",
      "               <CosmicAll@11218f3d0/CosmicAll:dbState in Root>\n",
      "               <RootClock@112071210/RootClock:cosmicAll in Root>\n",
      "           <RootClock@112071210/RootClock:cutoffs in Root>\n",
      "             <CosmicAll@11218f3d0/CosmicAll:dbState in Root>\n",
      "             <RootClock@112071210/RootClock:cosmicAll in Root>\n",
      "         <PortfolioUpdateEvent@112096410/PortfolioUpdateEvent:children in Root>\n",
      "         <PortfolioUpdateEvent@112096410/Event:amends in Root>\n",
      "   <Portfolio@112146c10/Portfolio:books in Root>\n",
      "     <Portfolio@112146c10/Portfolio:children in Root>\n",
      "       <PortfolioUpdateEvent@112146350/Event:amends in Root>\n",
      "       <Portfolio@112146c10/Portfolio:clock in Root>\n",
      "       <PortfolioUpdateEvent@112146350/PortfolioUpdateEvent:children in Root>\n",
      "       <Clock@112071450/Clock:cutoffs in Root>\n",
      "         <Clock@112071450/Clock:parent in Root>\n",
      "           <Clock@112071450/Entity:clock in Root>\n",
      "           <RootClock@112071210/RootClock:cutoffs in Root>\n",
      "             <CosmicAll@11218f3d0/CosmicAll:dbState in Root>\n",
      "             <RootClock@112071210/RootClock:cosmicAll in Root>\n",
      "         <RootClock@112071210/RootClock:cutoffs in Root>\n",
      "           <CosmicAll@11218f3d0/CosmicAll:dbState in Root>\n",
      "           <RootClock@112071210/RootClock:cosmicAll in Root>\n"
     ]
    }
   ],
   "source": [
    "n = Context.current().getCBM(pAll.books)\n",
    "info()\n",
    "n.printInputGraph()\n",
    "ts = Timestamp()"
   ]
  },
  {
   "cell_type": "code",
   "execution_count": 8,
   "metadata": {
    "collapsed": false,
    "scrolled": false
   },
   "outputs": [
    {
     "name": "stdout",
     "output_type": "stream",
     "text": [
      "\n",
      "\n",
      " <Portfolio@112146bd0/Portfolio:books in Root:4520525720>\n",
      "   <Portfolio@112146c10/Portfolio:books in Root:4520525720>\n",
      "     <Portfolio@112146c10/Portfolio:children in Root:4520525720>\n",
      "       <Portfolio@112146c10/Portfolio:clock in Root:4520525720>\n",
      "       <PortfolioUpdateEvent@112146350/Event:amends in Root:4520525720>\n",
      "       <PortfolioUpdateEvent@112146350/PortfolioUpdateEvent:children in Root:4520525720>\n",
      "       <Clock@112071450/Clock:cutoffs in Root:4520525720>\n",
      "   <Portfolio@112119410/Portfolio:books in Root:4520525720>\n",
      "     <Portfolio@112119410/Portfolio:children in Root:4520525720>\n",
      "       <PortfolioUpdateEvent@112146310/PortfolioUpdateEvent:children in Root:4520525720>\n",
      "       <Clock@112071450/Clock:cutoffs in Root:4520525720>\n",
      "       <Portfolio@112119410/Portfolio:clock in Root:4520525720>\n",
      "       <PortfolioUpdateEvent@112146310/Event:amends in Root:4520525720>\n",
      "   <Portfolio@112146bd0/Portfolio:children in Root:4520525720>\n",
      "     <PortfolioUpdateEvent@1120d24d0/PortfolioUpdateEvent:children in Root:4520525720>\n",
      "     <Clock@112071450/Clock:cutoffs in Root:4520525720>\n",
      "     <Portfolio@112146bd0/Portfolio:clock in Root:4520525720>\n",
      "     <PortfolioUpdateEvent@1120d24d0/Event:amends in Root:4520525720>\n",
      "   <Portfolio@1121465d0/Portfolio:books in Root:4520525720>\n",
      "     <Portfolio@1121465d0/Portfolio:children in Root:4520525720>\n",
      "       <PortfolioUpdateEvent@1120960d0/PortfolioUpdateEvent:children in Root:4520525720>\n",
      "       <Clock@112071450/Clock:cutoffs in Root:4520525720>\n",
      "       <Portfolio@1121465d0/Portfolio:clock in Root:4520525720>\n",
      "       <PortfolioUpdateEvent@1120960d0/Event:amends in Root:4520525720>\n",
      "     <Portfolio@112119f10/Portfolio:books in Root:4520525720>\n",
      "       <Portfolio@112119f10/Portfolio:children in Root:4520525720>\n",
      "         <PortfolioUpdateEvent@112096410/PortfolioUpdateEvent:children in Root:4520525720>\n",
      "         <Portfolio@112119f10/Portfolio:clock in Root:4520525720>\n",
      "         <PortfolioUpdateEvent@112096410/Event:amends in Root:4520525720>\n",
      "         <Clock@112071450/Clock:cutoffs in Root:4520525720>\n",
      "All children: ['Banking', 'Derivs', 'Kids', 'misc']\n",
      "All books   : ['savings', '401K', 'brokerage', 'checking', 'trust2', 'trust1', 'margin', 'misc']\n"
     ]
    }
   ],
   "source": [
    "with Context({pClock.cutoffs: ts}):\n",
    "    b = pAll.books()\n",
    "    print\n",
    "    print\n",
    "    n = Context.current().getCBM(pAll.books)\n",
    "    n.printInputGraph()\n",
    "    info()"
   ]
  },
  {
   "cell_type": "code",
   "execution_count": 9,
   "metadata": {
    "collapsed": false,
    "scrolled": false
   },
   "outputs": [
    {
     "name": "stdout",
     "output_type": "stream",
     "text": [
      "All children: ['Banking', 'Derivs', 'Kids', 'misc']\n",
      "All books   : ['savings', '401K', 'brokerage', 'checking', 'trust2', 'trust1', 'margin', 'misc']\n",
      "Compute activity:\n",
      "              GetValue:    49\n",
      "         GetValue/Calc:    17\n"
     ]
    }
   ],
   "source": [
    "# ctx2 has open time cutoffs, so it should depend on the dbState, thus this should recompute...\n",
    "with SummaryMonitor():\n",
    "    with ctx2:\n",
    "        info()"
   ]
  },
  {
   "cell_type": "code",
   "execution_count": 10,
   "metadata": {
    "collapsed": false
   },
   "outputs": [
    {
     "name": "stdout",
     "output_type": "stream",
     "text": [
      " Context enter ctx: Root:4520525720\n",
      "   GetValue begin ctx: Root:4520525720, key: Portfolio@112146bd0/Portfolio:children\n",
      "     GetValue from ctx value: [<__main__.Portfo..., ctx: Root:4520525720, key: Portfolio@112146bd0/Portfolio:children\n",
      "   GetValue begin ctx: Root:4520525720, key: Portfolio@112146bd0/Portfolio:books\n",
      "     GetValue from ctx value: [<__main__.Book o..., ctx: Root:4520525720, key: Portfolio@112146bd0/Portfolio:books\n",
      "All children: ['Banking', 'Derivs', 'Kids', 'misc']\n",
      "All books   : ['savings', '401K', 'brokerage', 'checking', 'trust2', 'trust1', 'margin', 'misc']\n"
     ]
    }
   ],
   "source": [
    "# and now be cached...\n",
    "with PrintMonitor():\n",
    "    with ctx2:\n",
    "        info()"
   ]
  },
  {
   "cell_type": "code",
   "execution_count": 11,
   "metadata": {
    "collapsed": false,
    "scrolled": false
   },
   "outputs": [
    {
     "name": "stdout",
     "output_type": "stream",
     "text": [
      " Family\n",
      "   Banking\n",
      "     checking\n",
      "     savings\n",
      "   Derivs\n",
      "     Trading\n",
      "       brokerage\n",
      "       margin\n",
      "       401K\n",
      "   Kids\n",
      "     trust1\n",
      "     trust2\n",
      "   misc\n"
     ]
    }
   ],
   "source": [
    "pAll.prn()"
   ]
  },
  {
   "cell_type": "code",
   "execution_count": 12,
   "metadata": {
    "collapsed": false
   },
   "outputs": [
    {
     "name": "stdout",
     "output_type": "stream",
     "text": [
      "Oops: book appears multiple times\n",
      "All children: ['Banking', 'Derivs', 'Kids', 'misc']\n",
      "All books   : ['savings', '401K', 'brokerage', 'misc', 'trust2', 'trust1', 'margin', 'checking']\n",
      " Family\n",
      "   Banking\n",
      "     checking\n",
      "     savings\n",
      "   Derivs\n",
      "     Trading\n",
      "       brokerage\n",
      "       margin\n",
      "       401K\n",
      "     misc\n",
      "   Kids\n",
      "     trust1\n",
      "     trust2\n",
      "   misc\n"
     ]
    }
   ],
   "source": [
    "pDerivs.setChildren([pTrading, misc])     \n",
    "info()\n",
    "pAll.prn()"
   ]
  }
 ],
 "metadata": {
  "kernelspec": {
   "display_name": "Python 2",
   "language": "python",
   "name": "python2"
  },
  "language_info": {
   "codemirror_mode": {
    "name": "ipython",
    "version": 2
   },
   "file_extension": ".py",
   "mimetype": "text/x-python",
   "name": "python",
   "nbconvert_exporter": "python",
   "pygments_lexer": "ipython2",
   "version": "2.7.13"
  }
 },
 "nbformat": 4,
 "nbformat_minor": 2
}
