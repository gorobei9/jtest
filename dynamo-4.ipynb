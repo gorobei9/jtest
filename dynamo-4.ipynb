{
 "cells": [
  {
   "cell_type": "markdown",
   "metadata": {},
   "source": [
    "# RefData and Workflow demos.\n",
    "\n",
    "This is just the dynamo-3 notebook with the core classes refactoring into the mand library."
   ]
  },
  {
   "cell_type": "code",
   "execution_count": 1,
   "metadata": {
    "collapsed": false,
    "scrolled": false
   },
   "outputs": [],
   "source": [
    "import mand.core\n",
    "\n",
    "from mand.core import ObjectDb, DynamoDbDriver, ddb, _tr, PrintMonitor\n",
    "\n",
    "db = ObjectDb()\n",
    "\n",
    "from mand.lib.dbsetup import setUpDb\n",
    "setUpDb(db)"
   ]
  },
  {
   "cell_type": "code",
   "execution_count": 2,
   "metadata": {
    "collapsed": false,
    "scrolled": false
   },
   "outputs": [
    {
     "name": "stdout",
     "output_type": "stream",
     "text": [
      "<mand.demos.refdata.CustomerRefData object at 0x10afff810> activeEvents:\n"
     ]
    },
    {
     "data": {
      "text/markdown": [
       "|_validTime|fullName|address|company|_entityName|\n",
       "|-|-|-|-|-|\n",
       "|2017-03-23T13:15:44.496109|Eliza Smith|10 Main St|Frobozz Magic Avocado Company|Customer123\n",
       "|2017-03-23T13:15:44.525654|None|None|Frobozz Magic Fruit Company|Customer123\n",
       "|2017-03-23T13:15:44.538242|Eliza James|None|None|Customer123\n"
      ],
      "text/plain": [
       "<IPython.core.display.Markdown object>"
      ]
     },
     "metadata": {},
     "output_type": "display_data"
    },
    {
     "name": "stdout",
     "output_type": "stream",
     "text": [
      "Clock is at: None\n",
      "data: Eliza James works for Frobozz Magic Fruit Company, located at 10 Main St\n",
      "\n",
      "<mand.demos.refdata.CustomerRefData object at 0x10afff810> _visibleEvents:\n"
     ]
    },
    {
     "data": {
      "text/markdown": [
       "|_validTime|fullName|address|company|_entityName|\n",
       "|-|-|-|-|-|\n",
       "|2017-03-23T13:15:44.496109|Eliza Smith|10 Main St|Frobozz Magic Avocado Company|Customer123\n",
       "|2017-03-23T13:15:44.512799|None|None|Frobozz Magic Friut Company|Customer123\n",
       "|2017-03-23T13:15:44.525654|None|None|Frobozz Magic Fruit Company|Customer123\n",
       "|2017-03-23T13:15:44.538242|Eliza James|None|None|Customer123\n"
      ],
      "text/plain": [
       "<IPython.core.display.Markdown object>"
      ]
     },
     "metadata": {},
     "output_type": "display_data"
    },
    {
     "name": "stdout",
     "output_type": "stream",
     "text": [
      "<mand.demos.refdata.CustomerRefData object at 0x10afff810> activeEvents:\n"
     ]
    },
    {
     "data": {
      "text/markdown": [
       "|_validTime|fullName|address|company|_entityName|\n",
       "|-|-|-|-|-|\n",
       "|2017-03-23T13:15:44.496109|Eliza Smith|10 Main St|Frobozz Magic Avocado Company|Customer123\n",
       "|2017-03-23T13:15:44.525654|None|None|Frobozz Magic Fruit Company|Customer123\n",
       "|2017-03-23T13:15:44.538242|Eliza James|None|None|Customer123\n"
      ],
      "text/plain": [
       "<IPython.core.display.Markdown object>"
      ]
     },
     "metadata": {},
     "output_type": "display_data"
    },
    {
     "name": "stdout",
     "output_type": "stream",
     "text": [
      "\n",
      "\n",
      "Clock is at: <TS:t=2017-03-23T13:15:44.508715,v=2017-03-23T13:15:44.508713>\n",
      "data: Eliza Smith works for Frobozz Magic Avocado Company, located at 10 Main St\n",
      "\n",
      "<mand.demos.refdata.CustomerRefData object at 0x10afff810> _visibleEvents:\n"
     ]
    },
    {
     "data": {
      "text/markdown": [
       "|_validTime|fullName|address|company|_entityName|\n",
       "|-|-|-|-|-|\n",
       "|2017-03-23T13:15:44.496109|Eliza Smith|10 Main St|Frobozz Magic Avocado Company|Customer123\n"
      ],
      "text/plain": [
       "<IPython.core.display.Markdown object>"
      ]
     },
     "metadata": {},
     "output_type": "display_data"
    },
    {
     "name": "stdout",
     "output_type": "stream",
     "text": [
      "<mand.demos.refdata.CustomerRefData object at 0x10afff810> activeEvents:\n"
     ]
    },
    {
     "data": {
      "text/markdown": [
       "|_validTime|fullName|address|company|_entityName|\n",
       "|-|-|-|-|-|\n",
       "|2017-03-23T13:15:44.496109|Eliza Smith|10 Main St|Frobozz Magic Avocado Company|Customer123\n"
      ],
      "text/plain": [
       "<IPython.core.display.Markdown object>"
      ]
     },
     "metadata": {},
     "output_type": "display_data"
    },
    {
     "name": "stdout",
     "output_type": "stream",
     "text": [
      "\n",
      "\n",
      "original db  : <mand.db.ObjectDb object at 0x10bb32910>: 191, mem=True, ro=False: entities=14, map=6\n",
      "new client db: <mand.db.ObjectDb object at 0x10ce3efd0>: 191, mem=True, ro=False: entities=14, map=6\n",
      "\n",
      "current: Eliza James\n",
      "at ts1 : Eliza Smith\n",
      "\n",
      "Prod db: <mand.db.ObjectDb object at 0x10bb32910>: 191, mem=True, ro=False: entities=14, map=6\n",
      "\n",
      "in production:\n",
      "data: Eliza James works for Frobozz Magic Fruit Company, located at 10 Main St\n",
      "deleting union event: <mand.demos.refdata.CustomerRefDataUpdateEvent object at 0x10d00f210> (O192:O191)\n",
      "\n",
      "in union:\n",
      "data: Eliza Smith works for Frobozz Magic Fruit Company, located at 10 Main St\n",
      "in production:\n",
      "data: Eliza James works for Frobozz Magic Fruit Company, located at 10 Main St\n",
      "Prod db: <mand.db.ObjectDb object at 0x10bb32910>: 191, mem=True, ro=False: entities=14, map=6\n",
      "New db: <mand.db.ObjectDb object at 0x10cec7190>: 192, mem=True, ro=False: entities=2, map=1\n",
      "Union db: (<mand.db.ObjectDb object at 0x10cec7190>: 192, mem=True, ro=False: entities=2, map=1 <mand.db.ObjectDb object at 0x10bb32910>: 191, mem=True, ro=False: entities=14, map=6)\n",
      "Line item end of day:\n",
      "data: Joe James works for Frobozz Magic Lamp Company, located at 235 W 76\n",
      "Line item end of day (rerun):\n",
      "data: Joe James works for Frobozz Magic Lamp Company, located at 235 W 76\n",
      "\n",
      "Line item generated from corrected end of day report:\n",
      "data: Joe James works for Frobozz Magic Lamp Company, located at 1 First Ave\n",
      "\n",
      "Current line item:\n",
      "data: Joe James works for Frobozz Magic Illumination Company, located at 1 First Ave\n"
     ]
    }
   ],
   "source": [
    "import mand.demos.refdata\n",
    "\n",
    "#with PrintMonitor():\n",
    "mand.demos.refdata.main(db)"
   ]
  },
  {
   "cell_type": "code",
   "execution_count": 3,
   "metadata": {
    "collapsed": false,
    "scrolled": false
   },
   "outputs": [
    {
     "name": "stdout",
     "output_type": "stream",
     "text": [
      "Status:\n",
      "    Workbook Customer123:\n",
      "\n",
      "    Workbook Customer.joe:\n",
      "\n",
      "    Workbook Helpdesk:\n",
      "\n",
      "    Workbook Fire Department:\n",
      "\n",
      "Status:\n",
      "    Workbook Customer123:\n",
      "        Ticket 70ff18f5-99da-40ff-87b0-545d446b75f0, , waiting on Helpdesk (1 events, 1 active)\n",
      "           New, 237927c9-dc3c-40fa-9703-3e5fb17cbc37: raised with: Helpdesk, msg: Help, I forgot my password\n",
      "\n",
      "    Workbook Customer.joe:\n",
      "        Ticket 1a67aa3f-2291-4cb2-aa83-ade59e07fffa, , waiting on Helpdesk (1 events, 1 active)\n",
      "           New, b8d1263e-71ba-4635-9bcc-661974bed992: raised with: Helpdesk, msg: Help! My computer is smoking\n",
      "\n",
      "    Workbook Helpdesk:\n",
      "        Ticket 1a67aa3f-2291-4cb2-aa83-ade59e07fffa, , raised by Customer.joe (1 events, 1 active)\n",
      "           New, b8d1263e-71ba-4635-9bcc-661974bed992: raised by: Customer.joe, msg: Help! My computer is smoking\n",
      "        Ticket 70ff18f5-99da-40ff-87b0-545d446b75f0, , raised by Customer123 (1 events, 1 active)\n",
      "           New, 237927c9-dc3c-40fa-9703-3e5fb17cbc37: raised by: Customer123, msg: Help, I forgot my password\n",
      "\n",
      "    Workbook Fire Department:\n",
      "\n",
      "Status:\n",
      "    Workbook Customer123:\n",
      "        Ticket f105fe1f-4cf0-4d31-9c58-8986538c4e24, , waiting on Helpdesk (1 events, 1 active)\n",
      "           New, c37303e9-e1ca-4a3b-a68a-be6888541d50: raised with: Helpdesk, msg: My mouse is broken\n",
      "        Ticket 70ff18f5-99da-40ff-87b0-545d446b75f0, , waiting on Helpdesk (1 events, 1 active)\n",
      "           New, 237927c9-dc3c-40fa-9703-3e5fb17cbc37: raised with: Helpdesk, msg: Help, I forgot my password\n",
      "\n",
      "    Workbook Customer.joe:\n",
      "        Ticket 1a67aa3f-2291-4cb2-aa83-ade59e07fffa, , waiting on Helpdesk (2 events, 1 active)\n",
      "           New, 0d2cd050-3b3c-4786-9438-2430cda0049c: raised with: Helpdesk, msg: Help! My computer is on fire!\n",
      "\n",
      "    Workbook Helpdesk:\n",
      "        Ticket 1a67aa3f-2291-4cb2-aa83-ade59e07fffa, , raised by Customer.joe (2 events, 1 active)\n",
      "           New, 0d2cd050-3b3c-4786-9438-2430cda0049c: raised by: Customer.joe, msg: Help! My computer is on fire!\n",
      "        Ticket 70ff18f5-99da-40ff-87b0-545d446b75f0, , raised by Customer123 (1 events, 1 active)\n",
      "           New, 237927c9-dc3c-40fa-9703-3e5fb17cbc37: raised by: Customer123, msg: Help, I forgot my password\n",
      "        Ticket f105fe1f-4cf0-4d31-9c58-8986538c4e24, , raised by Customer123 (1 events, 1 active)\n",
      "           New, c37303e9-e1ca-4a3b-a68a-be6888541d50: raised by: Customer123, msg: My mouse is broken\n",
      "\n",
      "    Workbook Fire Department:\n",
      "\n",
      "Status:\n",
      "    Workbook Customer123:\n",
      "        Ticket f105fe1f-4cf0-4d31-9c58-8986538c4e24, , waiting on Helpdesk (2 events, 2 active)\n",
      "           New, c37303e9-e1ca-4a3b-a68a-be6888541d50: raised with: Helpdesk, msg: My mouse is broken\n",
      "           Message: Actually, only the right mouse button is bad, so just rep...\n",
      "        Ticket 70ff18f5-99da-40ff-87b0-545d446b75f0, , waiting on Helpdesk (1 events, 1 active)\n",
      "           New, 237927c9-dc3c-40fa-9703-3e5fb17cbc37: raised with: Helpdesk, msg: Help, I forgot my password\n",
      "\n",
      "    Workbook Customer.joe:\n",
      "        Ticket 1a67aa3f-2291-4cb2-aa83-ade59e07fffa, , waiting on Fire Department (4 events, 3 active)\n",
      "           New, 0d2cd050-3b3c-4786-9438-2430cda0049c: raised with: Helpdesk, msg: Help! My computer is on fire!\n",
      "           Transfer, 4964105b-f81e-4e7e-a489-80b832f9884f: Helpdesk -> Fire Department\n",
      "           Message: Um, the smoke is making it hard to see my desk.\n",
      "\n",
      "    Workbook Helpdesk:\n",
      "        Ticket 70ff18f5-99da-40ff-87b0-545d446b75f0, , raised by Customer123 (1 events, 1 active)\n",
      "           New, 237927c9-dc3c-40fa-9703-3e5fb17cbc37: raised by: Customer123, msg: Help, I forgot my password\n",
      "        Ticket f105fe1f-4cf0-4d31-9c58-8986538c4e24, , raised by Customer123 (2 events, 2 active)\n",
      "           New, c37303e9-e1ca-4a3b-a68a-be6888541d50: raised by: Customer123, msg: My mouse is broken\n",
      "           Message: Actually, only the right mouse button is bad, so just rep...\n",
      "\n",
      "    Workbook Fire Department:\n",
      "        Ticket 1a67aa3f-2291-4cb2-aa83-ade59e07fffa, , raised by Customer.joe (4 events, 3 active)\n",
      "           New, 0d2cd050-3b3c-4786-9438-2430cda0049c: ???, msg: Help! My computer is on fire!\n",
      "           Transfer, 4964105b-f81e-4e7e-a489-80b832f9884f: Helpdesk -> Fire Department\n",
      "           Message: Um, the smoke is making it hard to see my desk.\n",
      "\n",
      "Status:\n",
      "    Workbook Customer123:\n",
      "        Ticket f105fe1f-4cf0-4d31-9c58-8986538c4e24, , waiting on Helpdesk (2 events, 2 active)\n",
      "           New, c37303e9-e1ca-4a3b-a68a-be6888541d50: raised with: Helpdesk, msg: My mouse is broken\n",
      "           Message: Actually, only the right mouse button is bad, so just rep...\n",
      "\n",
      "    Workbook Customer.joe:\n",
      "        Ticket 1a67aa3f-2291-4cb2-aa83-ade59e07fffa, , waiting on Fire Department (4 events, 3 active)\n",
      "           New, 0d2cd050-3b3c-4786-9438-2430cda0049c: raised with: Helpdesk, msg: Help! My computer is on fire!\n",
      "           Transfer, 4964105b-f81e-4e7e-a489-80b832f9884f: Helpdesk -> Fire Department\n",
      "           Message: Um, the smoke is making it hard to see my desk.\n",
      "\n",
      "    Workbook Helpdesk:\n",
      "        Ticket f105fe1f-4cf0-4d31-9c58-8986538c4e24, , raised by Customer123 (2 events, 2 active)\n",
      "           New, c37303e9-e1ca-4a3b-a68a-be6888541d50: raised by: Customer123, msg: My mouse is broken\n",
      "           Message: Actually, only the right mouse button is bad, so just rep...\n",
      "\n",
      "    Workbook Fire Department:\n",
      "        Ticket 1a67aa3f-2291-4cb2-aa83-ade59e07fffa, , raised by Customer.joe (4 events, 3 active)\n",
      "           New, 0d2cd050-3b3c-4786-9438-2430cda0049c: ???, msg: Help! My computer is on fire!\n",
      "           Transfer, 4964105b-f81e-4e7e-a489-80b832f9884f: Helpdesk -> Fire Department\n",
      "           Message: Um, the smoke is making it hard to see my desk.\n",
      "\n"
     ]
    },
    {
     "data": {
      "text/markdown": [
       "|action|book1|book2|message|\n",
       "|-|-|-|-|\n",
       "|open|Workbook: Customer.joe|Workbook: Helpdesk|Help! My computer is smoking\n",
       "|open|Workbook: Customer.joe|Workbook: Helpdesk|Help! My computer is on fire!\n",
       "|escalate|Workbook: Helpdesk|Workbook: Fire Department| \n",
       "|message| | |Um, the smoke is making it hard to see my desk.\n"
      ],
      "text/plain": [
       "<IPython.core.display.Markdown object>"
      ]
     },
     "metadata": {},
     "output_type": "display_data"
    },
    {
     "name": "stdout",
     "output_type": "stream",
     "text": [
      "\n"
     ]
    },
    {
     "data": {
      "text/markdown": [
       "|action|book1|book2|message|\n",
       "|-|-|-|-|\n",
       "|open|Workbook: Customer.joe|Workbook: Helpdesk|Help! My computer is on fire!\n",
       "|escalate|Workbook: Helpdesk|Workbook: Fire Department| \n",
       "|message| | |Um, the smoke is making it hard to see my desk.\n"
      ],
      "text/plain": [
       "<IPython.core.display.Markdown object>"
      ]
     },
     "metadata": {},
     "output_type": "display_data"
    },
    {
     "name": "stdout",
     "output_type": "stream",
     "text": [
      "<mand.demos.refdata.CustomerRefData object at 0x10d01b0d0>\n",
      "<Clock: /Global/Clock/Workflow:/Global/RootClock/Main>\n",
      "<Clock: /Global/Clock/RefData:/Global/RootClock/Main>\n"
     ]
    }
   ],
   "source": [
    "import mand.demos.workflow\n",
    "\n",
    "mand.demos.workflow.main(db)"
   ]
  }
 ],
 "metadata": {
  "kernelspec": {
   "display_name": "Python 2",
   "language": "python",
   "name": "python2"
  },
  "language_info": {
   "codemirror_mode": {
    "name": "ipython",
    "version": 2
   },
   "file_extension": ".py",
   "mimetype": "text/x-python",
   "name": "python",
   "nbconvert_exporter": "python",
   "pygments_lexer": "ipython2",
   "version": "2.7.13"
  }
 },
 "nbformat": 4,
 "nbformat_minor": 2
}
