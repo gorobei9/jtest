{
 "cells": [
  {
   "cell_type": "markdown",
   "metadata": {},
   "source": [
    "# An Explain Report\n",
    "\n",
    "This is a POC for an explain report: given a number at time T1 and time T2, introspect the clocks involved to produce a simple linear breakdown\n",
    "of what changed on various timelines to account for the change in the number between T1 and T2.\n",
    "\n",
    "The report is an ordered sequence of clock changes: the sum of changes should equal to the total change. The order of application is important: change the\n",
    "ordering, and the resultant values may change. It's not a Jacobian-type report with T1 deltas and no ordering.\n",
    "\n",
    "The real reason for this workbook is to start working on the node class optimizations and metadata management."
   ]
  },
  {
   "cell_type": "markdown",
   "metadata": {},
   "source": [
    "## Footnotes\n",
    "\n",
    "Footnotes are one of the simplest types of metadata:\n",
    "* Any computation (even a simple read of a constant value) may declare it has footnotes\n",
    "* Every computation gets the footnote of all its inputs\n",
    "\n",
    "Footnoting is based on a number of observations about large software systems (say, 1M LOC or more):\n",
    "* Any complex report (i.e. computation output) will generally be somewhat wrong, misleading, or out of date.\n",
    "* If you want 100% correctness and truth, your report will raise an exception every time you run it.\n",
    "* If you just want it to run, you'll get a result, but some log file on some machine in some compute farm will have a message explaining why your result is wrong.\n",
    "* And you won't see that message.\n",
    "* And that message may have leaked information that bad actors can read.\n",
    "* And you won't trust this system, so your own developers will copy the underlying data and write their own version of the report with all the same issues.\n",
    "* Now you don't have a problem, but your company now has two problems.\n",
    "\n",
    "Footnotes summary:\n",
    "* Are the documentation of problems from the producer's point of view\n",
    "* Make no claim about usability of results, etc, for a specific consumer\n",
    "* May be programmatically removed/condensed/replaced at controlled code points\n"
   ]
  },
  {
   "cell_type": "code",
   "execution_count": 1,
   "metadata": {
    "collapsed": false
   },
   "outputs": [
    {
     "name": "stdout",
     "output_type": "stream",
     "text": [
      "<mand.db.ObjectDb object at 0x10b48ee50>: 203, mem=True, ro=False: entities=9, map=2\n"
     ]
    }
   ],
   "source": [
    "import mand.core\n",
    "\n",
    "from mand.core import Entity, node, Context\n",
    "\n",
    "from mand.core import ObjectDb, _tr, Timestamp, Context, getNode\n",
    "from mand.core import ProfileMonitor, PrintMonitor\n",
    "from mand.lib.extrefdata import ExternalRefData, dataField\n",
    "from mand.lib.workflow import Workbook, WorkItemOpenEvent, WorkItem\n",
    "from mand.lib.portfolio import Portfolio\n",
    "from mand.core import displayDict, displayMarkdown, displayListOfDicts, displayHeader\n",
    "from mand.core import num, find\n",
    "import datetime\n",
    "\n",
    "\n",
    "from mand.demos.trading import TradingBook, TradingPortfolio, MarketDataSource, MarketInterface\n",
    "\n",
    "db = ObjectDb()\n",
    "\n",
    "from mand.lib.dbsetup import setUpDb\n",
    "setUpDb(db)\n",
    "db.describe()"
   ]
  },
  {
   "cell_type": "code",
   "execution_count": 2,
   "metadata": {
    "collapsed": false
   },
   "outputs": [
    {
     "name": "stdout",
     "output_type": "stream",
     "text": [
      "<mand.demos.trading.TradingPortfolio object at 0x10c85f3d0>\n",
      "# books: 100\n",
      "# children: 10\n"
     ]
    }
   ],
   "source": [
    "def makeTree(names):\n",
    "    ret = []\n",
    "    for name in names:\n",
    "        subs = [ TradingBook(name+str(i)) for i in range(10) ]\n",
    "        p = TradingPortfolio(name).write()\n",
    "        p.setChildren(subs)\n",
    "        ret.append(p)\n",
    "    return ret\n",
    "\n",
    "with db:\n",
    "    pAll = TradingPortfolio('TopOfTheHouse').write()\n",
    "    subs = makeTree(['Eq-Prop', 'Eq-Inst', 'FX', 'Rates', 'Credit', 'Delta1', 'Loans', 'Commod', 'ETFs', 'Mtge'])\n",
    "    pAll.setChildren(subs)\n",
    "    \n",
    "print pAll\n",
    "print '# books:', len(pAll.books())\n",
    "print '# children:', len(pAll.children())"
   ]
  },
  {
   "cell_type": "code",
   "execution_count": 3,
   "metadata": {
    "collapsed": false
   },
   "outputs": [
    {
     "name": "stdout",
     "output_type": "stream",
     "text": [
      "Customer1\n",
      "Eq-Prop0\n",
      "Eq-Inst0\n"
     ]
    }
   ],
   "source": [
    "with db:\n",
    "    bExt  = _tr.TradingBook('Customer1')\n",
    "    bExt2 = _tr.TradingBook('Customer2')\n",
    "    \n",
    "p1 = pAll.children()[0]\n",
    "p2 = pAll.children()[1]\n",
    "p3 = pAll.children()[2]\n",
    "p4 = pAll.children()[3]\n",
    "\n",
    "b1 = p1.children()[0]\n",
    "b2 = p2.children()[0]\n",
    "b3 = p3.children()[0]\n",
    "b4 = p4.children()[0]\n",
    "\n",
    "print bExt.meta.name()\n",
    "print b1.meta.name()\n",
    "print b2.meta.name()"
   ]
  },
  {
   "cell_type": "code",
   "execution_count": 4,
   "metadata": {
    "collapsed": false,
    "scrolled": false
   },
   "outputs": [],
   "source": [
    "with db:\n",
    "    s1_ibm  = MarketDataSource('source1.IBM')\n",
    "    s1_goog = MarketDataSource('source1.GOOG')\n",
    "\n",
    "s1_ibm.update(last=175.61)\n",
    "s1_goog.update(last=852.12)"
   ]
  },
  {
   "cell_type": "code",
   "execution_count": 5,
   "metadata": {
    "collapsed": false
   },
   "outputs": [],
   "source": [
    "with db:\n",
    "    ibm  = MarketInterface('IBM').write()\n",
    "    goog = MarketInterface('GOOG').write()"
   ]
  },
  {
   "cell_type": "markdown",
   "metadata": {},
   "source": [
    "# Book some trades\n",
    "\n",
    "This time, we throw a few thousand in..."
   ]
  },
  {
   "cell_type": "code",
   "execution_count": 6,
   "metadata": {
    "collapsed": false
   },
   "outputs": [],
   "source": [
    "with db:\n",
    "    TradeOpenEvent = _tr.TradeOpenEvent\n",
    "    cf1 = _tr.ForwardCashflow()\n",
    "    ins1 = _tr.Equity()\n",
    "    ins2 = _tr.Equity(assetName='GOOG.Eq.1')\n",
    "    \n",
    "    ts0 = Timestamp()\n",
    "\n",
    "    for i in range(10): # 1000\n",
    "        ev0 = TradeOpenEvent(action='Buy',\n",
    "                             item=ins2,\n",
    "                             quantity=1,\n",
    "                             premium=cf1,\n",
    "                             unitPrice=852 + i/100.,\n",
    "                             book1=b3,\n",
    "                             book2=bExt2).write()\n",
    "    \n",
    "    for i in range(10):\n",
    "        ev0 = TradeOpenEvent(action='Buy',\n",
    "                             item=ins2,\n",
    "                             quantity=1,\n",
    "                             premium=cf1,\n",
    "                             unitPrice=852 + i/100.,\n",
    "                             book1=b4,\n",
    "                             book2=bExt2).write()\n",
    "    \n",
    "    \n",
    "    ts1 = Timestamp()\n",
    "    \n",
    "    ev1 = TradeOpenEvent(action='Buy',\n",
    "                         item=ins1,\n",
    "                         quantity=100,\n",
    "                         premium=cf1,\n",
    "                         unitPrice=175.65,\n",
    "                         book1=b1,\n",
    "                         book2=bExt).write()\n",
    "    \n",
    "    ts2 = Timestamp()\n",
    "    \n",
    "    s1_ibm.update(last=175.64)\n",
    "    \n",
    "    ts3 = Timestamp()\n",
    "    \n",
    "    ev2 = TradeOpenEvent(action='Buy',\n",
    "                         item=ins2,\n",
    "                         quantity=300,\n",
    "                         premium=cf1,\n",
    "                         unitPrice=852.12,\n",
    "                         book1=b2,\n",
    "                         book2=bExt).write()\n",
    "    \n",
    "    ev3 = TradeOpenEvent(action='Sell',\n",
    "                         item=ins1,\n",
    "                         quantity=100,\n",
    "                         premium=cf1,\n",
    "                         unitPrice=175.85,\n",
    "                         book1=b2,\n",
    "                         book2=bExt2).write()\n",
    "    \n",
    "    ts4 = Timestamp()\n",
    "    \n",
    "    s1_ibm.update(last=175.70)\n",
    "    s1_goog.update(last=852.11)\n",
    "    \n",
    "    ts5 = Timestamp()\n",
    "    \n",
    "    s1_ibm.update(last=175.68)\n",
    "    s1_goog.update(last=852.13)\n",
    "    \n",
    "    eod = Timestamp()\n",
    "    \n",
    "    ev4 = TradeOpenEvent(action='Buy',\n",
    "                         item=ins1,\n",
    "                         quantity=100,\n",
    "                         premium=cf1,\n",
    "                         unitPrice=175.69,\n",
    "                         book1=b1,\n",
    "                         book2=bExt,\n",
    "                         amends=ev1,\n",
    "                         message='Sorry, the broker says you actually paid 69. signed: the middle office'\n",
    "                        ).write(validTime=ev1.meta._timestamp.validTime)\n",
    "    \n",
    "    s1_ibm.update(last=177.68)\n",
    "    s1_goog.update(last=856.13)\n",
    "    \n",
    "    ts6 = Timestamp()\n",
    "    "
   ]
  },
  {
   "cell_type": "markdown",
   "metadata": {},
   "source": [
    "# An Explain Report\n",
    "\n",
    "This is a mix of abstractions at the Core, DBA, and BA, and User levels. But, it does the job for now..."
   ]
  },
  {
   "cell_type": "code",
   "execution_count": 7,
   "metadata": {
    "collapsed": false,
    "scrolled": false
   },
   "outputs": [
    {
     "data": {
      "text/markdown": [
       "# PnL explain for TopOfTheHouse: 1276.00"
      ],
      "text/plain": [
       "<IPython.core.display.Markdown object>"
      ]
     },
     "metadata": {},
     "output_type": "display_data"
    },
    {
     "data": {
      "text/markdown": [
       "**Caveat: this report encountered problems. See footnotes at bottom.**"
      ],
      "text/plain": [
       "<IPython.core.display.Markdown object>"
      ]
     },
     "metadata": {},
     "output_type": "display_data"
    },
    {
     "data": {
      "text/markdown": [
       "|Activity|PnL|\n",
       "|-|-|\n",
       "|Starting balance breaks|0.00\n",
       "|prior day amends: MarketData|0.00\n",
       "|prior day amends: Portfolio|0.00\n",
       "|prior day amends: Trading|-4.00\n",
       "|activity: MarketData|1280.00\n",
       "|activity: Portfolio|0.00\n",
       "|activity: Trading|0.00\n",
       "|Ending balance breaks|0.00"
      ],
      "text/plain": [
       "<IPython.core.display.Markdown object>"
      ]
     },
     "metadata": {},
     "output_type": "display_data"
    },
    {
     "data": {
      "text/markdown": [
       "## Footnotes:"
      ],
      "text/plain": [
       "<IPython.core.display.Markdown object>"
      ]
     },
     "metadata": {},
     "output_type": "display_data"
    },
    {
     "data": {
      "text/markdown": [
       "1. Inadequate cash discounting model used"
      ],
      "text/plain": [
       "<IPython.core.display.Markdown object>"
      ]
     },
     "metadata": {},
     "output_type": "display_data"
    }
   ],
   "source": [
    "class Report(Entity):\n",
    "    @node(stored=True)\n",
    "    def valuable(self):\n",
    "        return None\n",
    "    \n",
    "    @node(stored=True)\n",
    "    def ts1(self):\n",
    "        return None\n",
    "    \n",
    "    @node(stored=True)\n",
    "    def ts2(self):\n",
    "        return None\n",
    "    \n",
    "    @node\n",
    "    def data(self):\n",
    "        valuable = self.valuable()\n",
    "        ts1 = self.ts1()\n",
    "        ts2 = self.ts2()\n",
    "        clock = valuable.getObj(_tr.RootClock, 'Main')\n",
    "    \n",
    "        def clocks(ts):\n",
    "            def fn(node):\n",
    "                obj = node.key[0]\n",
    "                m = node.key[1].split(':')[-1]\n",
    "                if isinstance(obj, _tr.Clock) and m == 'cutoffs':\n",
    "                    return True\n",
    "            with Context({clock.cutoffs: ts}, 'Clocks'):\n",
    "                nodes = find(valuable.NPV, fn)\n",
    "                return dict( [ (node.tweakPoint, node) for node in nodes ] )\n",
    "    \n",
    "        allNodes = clocks(ts1)\n",
    "    \n",
    "        allNodes.update(clocks(ts2))\n",
    "        nodes = allNodes.values() \n",
    "    \n",
    "        # IRL, we'd sort these according to some business req...\n",
    "        # And our clocks might be arranged in an N-level tree...\n",
    "        nodes = sorted(nodes, key = lambda node: node.key[0].meta.name())\n",
    "    \n",
    "        data = []\n",
    "        curr = [0]\n",
    "        def add(title, npv):\n",
    "            pnl = npv - curr[0]\n",
    "            curr[0] = npv\n",
    "            data.append( {'Activity': title, 'PnL': pnl } )\n",
    "\n",
    "        with Context({clock.cutoffs: ts1}, 'Start'):\n",
    "            curr = [ valuable.NPV() ] # Starting balance\n",
    "    \n",
    "        tweaks = {}\n",
    "        for n in nodes:\n",
    "            tweaks[n.tweakPoint] = ts1\n",
    "        with Context(tweaks, name='Start breaks'):\n",
    "            start = valuable.NPV()\n",
    "            add('Starting balance breaks', start)\n",
    "\n",
    "        tsAmend = Timestamp(t=ts2.transactionTime, v=ts1.validTime)\n",
    "        # XXX - modifying tweaks in place is a bit evil\n",
    "        # This is only safe because I know Context() effectively copies, so this works\n",
    "        # for now.\n",
    "        for n in nodes:\n",
    "            tweaks[n.tweakPoint] = tsAmend\n",
    "            name = n.key[0].meta.name()\n",
    "            with Context(tweaks, name='Amend %s' % name):\n",
    "                add('prior day amends: %s' % name, valuable.NPV())\n",
    "        for n in nodes:\n",
    "            tweaks[n.tweakPoint] = ts2\n",
    "            name = n.key[0].meta.name()\n",
    "            with Context(tweaks, name='Activity %s' % name):\n",
    "                add('activity: %s' % name, valuable.NPV())\n",
    "    \n",
    "        with Context({clock.cutoffs: ts2}, name='End'):\n",
    "            end = valuable.NPV()\n",
    "            add('Ending balance breaks', end)\n",
    "\n",
    "        title = 'PnL explain for %s: %s' % (valuable.meta.name(), end-start)\n",
    "        return data, title\n",
    "\n",
    "    def run(self):\n",
    "        data, title = self.data()\n",
    "        node = getNode(self.data)\n",
    "        footnotes = node.footnotes.values()\n",
    "        displayHeader('%s' % title)\n",
    "        if footnotes:\n",
    "            displayMarkdown('**Caveat: this report encountered problems. See footnotes at bottom.**')\n",
    "        displayListOfDicts(data, names=['Activity', 'PnL'] )\n",
    "        if footnotes:\n",
    "            displayMarkdown('## Footnotes:')\n",
    "            txt = '\\n'.join( [ '1. %s' % f for f in footnotes])\n",
    "            displayMarkdown(txt)\n",
    "    \n",
    "r = Report(valuable=pAll, ts1=eod, ts2=ts6)\n",
    "r.run()"
   ]
  },
  {
   "cell_type": "markdown",
   "metadata": {},
   "source": [
    "## Add some inconsistent data [Test]\n",
    "\n",
    "Book b2 should appear multiple times in some portfolio trees and be flagged accordingly..."
   ]
  },
  {
   "cell_type": "code",
   "execution_count": 8,
   "metadata": {
    "collapsed": false
   },
   "outputs": [],
   "source": [
    "with db:\n",
    "    p1.setChildren(p1.children() + [b2])\n",
    "\n",
    "ts7 = Timestamp()"
   ]
  },
  {
   "cell_type": "markdown",
   "metadata": {},
   "source": [
    "# Footnotes\n",
    "\n",
    "Note the report calculation has run, but attached appropriate caveats to the output:"
   ]
  },
  {
   "cell_type": "code",
   "execution_count": 9,
   "metadata": {
    "collapsed": false,
    "scrolled": false
   },
   "outputs": [
    {
     "data": {
      "text/markdown": [
       "# PnL explain for TopOfTheHouse: 2296.00"
      ],
      "text/plain": [
       "<IPython.core.display.Markdown object>"
      ]
     },
     "metadata": {},
     "output_type": "display_data"
    },
    {
     "data": {
      "text/markdown": [
       "**Caveat: this report encountered problems. See footnotes at bottom.**"
      ],
      "text/plain": [
       "<IPython.core.display.Markdown object>"
      ]
     },
     "metadata": {},
     "output_type": "display_data"
    },
    {
     "data": {
      "text/markdown": [
       "|Activity|PnL|\n",
       "|-|-|\n",
       "|Starting balance breaks|0.00\n",
       "|prior day amends: MarketData|0.00\n",
       "|prior day amends: Portfolio|0.00\n",
       "|prior day amends: Trading|-4.00\n",
       "|activity: MarketData|1280.00\n",
       "|activity: Portfolio|1020.00\n",
       "|activity: Trading|0.00\n",
       "|Ending balance breaks|0.00"
      ],
      "text/plain": [
       "<IPython.core.display.Markdown object>"
      ]
     },
     "metadata": {},
     "output_type": "display_data"
    },
    {
     "data": {
      "text/markdown": [
       "## Footnotes:"
      ],
      "text/plain": [
       "<IPython.core.display.Markdown object>"
      ]
     },
     "metadata": {},
     "output_type": "display_data"
    },
    {
     "data": {
      "text/markdown": [
       "1. Inadequate cash discounting model used\n",
       "1. Book appears multiple times: /Global/TradingBook/Eq-Inst0"
      ],
      "text/plain": [
       "<IPython.core.display.Markdown object>"
      ]
     },
     "metadata": {},
     "output_type": "display_data"
    },
    {
     "data": {
      "text/markdown": [
       "\n",
       "### Profile by nodes.\n",
       "* times are in microseconds\n",
       "* cumT is total time spent in funtion\n",
       "* calcT is time spent in function, but not in a child node"
      ],
      "text/plain": [
       "<IPython.core.display.Markdown object>"
      ]
     },
     "metadata": {},
     "output_type": "display_data"
    },
    {
     "data": {
      "text/markdown": [
       "|fn|n|cumT|calcT|cumT/call|sys|\n",
       "|-|-|-|-|-|-|\n",
       "|Report:data|1|5,908,102|13|5,908,102|GetValue\n",
       "|Report:data|1|5,908,089|485|5,908,089|GetValue/Calc\n",
       "|TradingContainer:NPV|11|5,900,050|116|536,368|GetValue\n",
       "|TradingContainer:NPV|11|5,899,934|1,603|536,357|GetValue/Calc\n",
       "|Portfolio:items|121|5,730,298|1,086|47,357|GetValue\n",
       "|Portfolio:items|121|5,730,213|21,133|47,357|GetValue/Calc\n",
       "|Workbook:items|1,104|4,700,039|9,227|4,257|GetValue\n",
       "|Workbook:items|1,100|4,690,811|4,372,357|4,264|GetValue/Calc\n",
       "|Root:Clocks|2|1,749,381|3,367|874,690|Context\n",
       "|Portfolio:children|242|1,002,769|1,342|4,143|GetValue\n",
       "|Portfolio:children|121|1,001,426|497,026|8,276|GetValue/Calc\n",
       "|Root:Amend Trading|1|487,325|43|487,325|Context\n",
       "|Root:End|1|474,363|41|474,363|Context\n",
       "|Root:Start|1|468,348|21|468,348|Context\n",
       "|Root:Amend MarketData|1|458,189|37|458,189|Context\n",
       "|Root:Activity Portfolio|1|457,584|40|457,584|Context\n",
       "|Root:Amend Portfolio|1|454,957|37|454,957|Context\n",
       "|Root:Activity Trading|1|453,368|42|453,368|Context\n",
       "|Root:Start breaks|1|450,551|39|450,551|Context\n",
       "|Root:Activity MarketData|1|449,694|40|449,694|Context\n",
       "|PortfolioUpdateEvent:children|121|426,395|2,473|3,523|GetValue\n",
       "|TradingBook|102|393,415|393,415|3,857|Db.Get\n",
       "|Equity:NPV|15|167,839|149|11,189|GetValue\n",
       "|Equity:NPV|15|167,689|381|11,179|GetValue/Calc\n",
       "|MarketInterface:spot|15|159,249|281|10,616|GetValue\n",
       "|MarketInterface:spot|15|158,968|402|10,597|GetValue/Calc\n",
       "|ExternalRefData:state|15|150,498|107|10,033|GetValue\n",
       "|ExternalRefData:state|15|150,390|270|10,026|GetValue/Calc\n",
       "|RefData:state|15|150,119|112|10,007|GetValue\n",
       "|RefData:state|15|150,007|67,083|10,000|GetValue/Calc\n",
       "|TradeOpenEvent|24|107,015|107,015|4,458|Db.Get\n",
       "|Clock:cutoffs|2,480|104,318|7,069|42|GetValue\n",
       "|Clock:cutoffs|20|97,308|484|4,865|GetValue/Calc\n",
       "|TradeOpenEvent:ticket|506|96,922|2,348|191|GetValue\n",
       "|Clock:parent|20|96,734|162|4,836|GetValue\n",
       "|Clock:parent|20|96,571|80,291|4,828|GetValue/Calc\n",
       "|TradingTicket|24|94,574|94,574|3,940|Db.Get\n",
       "|PortfolioUpdateEvent|12|54,143|54,143|4,511|Db.Get\n",
       "|TradingPortfolio|10|38,163|38,163|3,816|Db.Get\n",
       "|RefDataUpdateEvent|9|36,760|36,760|4,084|Db.Get\n",
       "|TradingBook:clock|2,200|35,994|18,090|16|GetValue\n",
       "|Clock|5|19,469|19,469|3,893|Db.Get\n",
       "|TradingBook:clock|1,100|17,903|14,490|16|GetValue/Calc\n",
       "|_WorkItemEvent:book2|506|9,568|1,912|18|GetValue\n",
       "|_WorkItemEvent:item|253|8,702|1,470|34|GetValue\n",
       "|ClockEvent:parent|8|8,121|76|1,015|GetValue\n",
       "|MarketInterface:source|15|8,067|104|537|GetValue\n",
       "|Equity:refdata|15|8,058|132|537|GetValue\n",
       "|MarketInterface:source|15|7,962|345|530|GetValue/Calc\n",
       "|Equity:refdata|15|7,925|364|528|GetValue/Calc\n",
       "|Portfolio:clock|242|7,531|2,041|31|GetValue\n",
       "|ClockEvent|2|7,482|7,482|3,741|Db.Get\n",
       "|MarketInterface|2|7,477|7,477|3,738|Db.Get\n",
       "|MarketDataSource|2|7,449|7,449|3,724|Db.Get\n",
       "|Equity|2|7,231|7,231|3,615|Db.Get\n",
       "|Portfolio:books|231|5,610|1,412|24|GetValue\n",
       "|Portfolio:clock|121|5,490|1,592|45|GetValue/Calc\n",
       "|TradeOpenEvent:premium|253|5,002|1,347|19|GetValue\n",
       "|MarketDataSource:clock|30|4,561|249|152|GetValue\n",
       "|Portfolio:books|121|4,481|3,856|37|GetValue/Calc\n",
       "|MarketDataSource:clock|15|4,312|198|287|GetValue/Calc\n",
       "|RootClock|1|3,828|3,828|3,828|Db.Get\n",
       "|ForwardCashflow|1|3,655|3,655|3,655|Db.Get\n",
       "|Event:amends|450|2,420|2,420|5|GetValue\n",
       "|_WorkItemEvent:book1|506|2,033|2,033|4|GetValue\n",
       "|TradeOpenEvent:quantity|506|1,800|1,800|3|GetValue\n",
       "|TradeOpenEvent:action|253|1,309|1,309|5|GetValue\n",
       "|TradeOpenEvent:unitPrice|253|1,122|1,122|4|GetValue\n",
       "|Entity:clock|40|505|310|12|GetValue\n",
       "|RefDataUpdateEvent:data|58|224|224|3|GetValue\n",
       "|Entity:clock|20|195|195|9|GetValue/Calc\n",
       "|ForwardCashflow:NPV|11|193|116|17|GetValue\n",
       "|MarketInterface:sourceName|15|167|123|11|GetValue\n",
       "|RootClock:cutoffs|52|148|148|2|GetValue\n",
       "|Equity:assetName|15|84|84|5|GetValue\n",
       "|ForwardCashflow:NPV|11|76|76|6|GetValue/Calc\n",
       "|MarketInterface:sourceName|15|44|44|2|GetValue/Calc\n",
       "|Report:valuable|1|5|5|5|GetValue\n",
       "|Report:ts1|1|4|4|4|GetValue\n",
       "|Report:ts2|1|3|3|3|GetValue"
      ],
      "text/plain": [
       "<IPython.core.display.Markdown object>"
      ]
     },
     "metadata": {},
     "output_type": "display_data"
    }
   ],
   "source": [
    "db3 = db.copy()\n",
    "p = db3._get(pAll.meta.path())\n",
    "\n",
    "with ProfileMonitor(mode='sum'): \n",
    "    r = Report(valuable=p, ts1=eod, ts2=ts7)\n",
    "    r.run()"
   ]
  },
  {
   "cell_type": "markdown",
   "metadata": {},
   "source": [
    "# Caching/Reusing results\n",
    "\n",
    "Until now, we have just checked to see if the current context contains a value for a node we are asking for, and if so, reuse that.\n",
    "\n",
    "A better approach to caching bound *fn* on *object* in *context0* is:\n",
    "    \n",
    "1. Has fn been tweaked in context0? If so, return that\n",
    "2. Is fn sufficiently trivial that we can avoid managing it as a node?\n",
    "  * If trivial, just treat it as a pure python function and call it\n",
    "  * Meta-data (inputs, outputs, etc) will be given to its caller and callees as appropriate\n",
    "3. Ask object for context1\n",
    "  * *context1* is a simplified version of *context0*\n",
    "  * The default case is just to return *context1*\n",
    "  * IRL, this could actually be a list of contexts or a pattern to match contexts against\n",
    "4. Is fn cached in *context1*? If so, use that\n",
    "5. Compute *fn* in *context1*\n",
    "6. Construct *context2* from the inputs of the computed value\n",
    "7. If *context2* is a subset of *context1*, cache *fn* in *context1*\n",
    "8. Something odd happened\n",
    "  * Footnote the problem as part of computation notes on the node's metadata\n",
    "  * Maybe cache the node anyway in *context2*\n",
    "    * Perhaps *object* will return *context2* as a siplification for future computations?\n",
    "9. Return the value\n",
    "\n",
    "Notes:\n",
    "* Parallel compute of nodes not considered yet\n",
    "* Context simplification (step 3) and input simplification (step 9) are probably intimately related\n",
    "* The split between calculation and caching is nice:\n",
    "  * BAs can write business logic\n",
    "  * Computer scientists can add caching logic where needed\n",
    "* We can use a profiler type object to gather runtime compute cost infomation\n",
    "  * The resulting trace can be used as input to drives step 2 and step 3\n",
    "    "
   ]
  },
  {
   "cell_type": "code",
   "execution_count": 10,
   "metadata": {
    "collapsed": false,
    "scrolled": false
   },
   "outputs": [
    {
     "name": "stdout",
     "output_type": "stream",
     "text": [
      "40.85\n",
      " <TradingBook@10c8226d0/TradingContainer:NPV in Root:4427022232>\n",
      "   <TradingBook@10c8226d0/Workbook:items in Root:4427022232>\n",
      "     <TradeOpenEvent@10c827450/TradeOpenEvent:ticket in Root:4427022232>\n",
      "     <TradeOpenEvent@10c827450/_WorkItemEvent:item in Root:4427022232>\n",
      "     <TradeOpenEvent@10c827450/_WorkItemEvent:book1 in Root:4427022232>\n",
      "     <TradeOpenEvent@10c827450/_WorkItemEvent:book2 in Root:4427022232>\n",
      "     <TradeOpenEvent@10c827450/TradeOpenEvent:premium in Root:4427022232>\n",
      "     <TradeOpenEvent@10c954a90/Event:amends in Root:4427022232>\n",
      "     <TradeOpenEvent@10c91c3d0/TradeOpenEvent:unitPrice in Root:4427022232>\n",
      "     <TradeOpenEvent@10c91c3d0/TradeOpenEvent:quantity in Root:4427022232>\n",
      "     <TradeOpenEvent@10c91c3d0/TradeOpenEvent:ticket in Root:4427022232>\n",
      "     <TradeOpenEvent@10c91c3d0/_WorkItemEvent:item in Root:4427022232>\n",
      "     <TradeOpenEvent@10c91c3d0/_WorkItemEvent:book1 in Root:4427022232>\n",
      "     <TradeOpenEvent@10c91c3d0/_WorkItemEvent:book2 in Root:4427022232>\n",
      "     <TradeOpenEvent@10c91c3d0/TradeOpenEvent:premium in Root:4427022232>\n",
      "     <TradeOpenEvent@10c921b10/TradeOpenEvent:action in Root:4427022232>\n",
      "     <TradeOpenEvent@10c921b10/TradeOpenEvent:unitPrice in Root:4427022232>\n",
      "     <TradeOpenEvent@10c9134d0/Event:amends in Root:4427022232>\n",
      "     <TradeOpenEvent@10c921b10/TradeOpenEvent:quantity in Root:4427022232>\n",
      "     <TradeOpenEvent@10c921b10/TradeOpenEvent:ticket in Root:4427022232>\n",
      "     <TradeOpenEvent@10c921b10/_WorkItemEvent:item in Root:4427022232>\n",
      "     <TradeOpenEvent@10c921b10/_WorkItemEvent:book1 in Root:4427022232>\n",
      "     <TradeOpenEvent@10c921b10/_WorkItemEvent:book2 in Root:4427022232>\n",
      "     <TradeOpenEvent@10c921b10/TradeOpenEvent:premium in Root:4427022232>\n",
      "     <TradeOpenEvent@10c954a90/TradeOpenEvent:action in Root:4427022232>\n",
      "     <TradeOpenEvent@10c954a90/TradeOpenEvent:unitPrice in Root:4427022232>\n",
      "     <TradeOpenEvent@10c7daa10/_WorkItemEvent:book2 in Root:4427022232>\n",
      "     <TradeOpenEvent@10c954a90/TradeOpenEvent:quantity in Root:4427022232>\n",
      "     <TradeOpenEvent@10c954a90/TradeOpenEvent:ticket in Root:4427022232>\n",
      "     <TradeOpenEvent@10c7daa10/Event:amends in Root:4427022232>\n",
      "     <TradeOpenEvent@10c954a90/_WorkItemEvent:item in Root:4427022232>\n",
      "     <TradeOpenEvent@10c954a90/_WorkItemEvent:book1 in Root:4427022232>\n",
      "     <TradeOpenEvent@10c7daa10/TradeOpenEvent:action in Root:4427022232>\n",
      "     <TradeOpenEvent@10c954a90/TradeOpenEvent:premium in Root:4427022232>\n",
      "     <TradingBook@10c8226d0/TradingBook:clock in Root:4427022232>\n",
      "     <TradeOpenEvent@10c945f90/TradeOpenEvent:action in Root:4427022232>\n",
      "     <TradeOpenEvent@10c945f90/TradeOpenEvent:unitPrice in Root:4427022232>\n",
      "     <TradeOpenEvent@10c945f90/TradeOpenEvent:quantity in Root:4427022232>\n",
      "     <TradeOpenEvent@10c945f90/TradeOpenEvent:ticket in Root:4427022232>\n",
      "     <TradeOpenEvent@10c945f90/_WorkItemEvent:item in Root:4427022232>\n",
      "     <TradeOpenEvent@10c945f90/_WorkItemEvent:book1 in Root:4427022232>\n",
      "     <TradeOpenEvent@10c921bd0/TradeOpenEvent:unitPrice in Root:4427022232>\n",
      "     <TradeOpenEvent@10c921bd0/TradeOpenEvent:quantity in Root:4427022232>\n",
      "     <TradeOpenEvent@10c91c3d0/TradeOpenEvent:action in Root:4427022232>\n",
      "     <TradeOpenEvent@10c945f90/Event:amends in Root:4427022232>\n",
      "     <TradeOpenEvent@10c921bd0/TradeOpenEvent:action in Root:4427022232>\n",
      "     <TradeOpenEvent@10c954a90/_WorkItemEvent:book2 in Root:4427022232>\n",
      "     <TradeOpenEvent@10c921bd0/_WorkItemEvent:item in Root:4427022232>\n",
      "     <Clock@10c85fc10/Clock:cutoffs in Root:4427022232>\n",
      "       <Clock@10c85fc10/Clock:parent in Root:4427022232>\n",
      "         <ClockEvent@10c85fd90/ClockEvent:parent in Root:4427022232>\n",
      "         <ClockEvent@10c85fd90/Event:amends in Root:4427022232>\n",
      "         <Clock@10c85fc10/Entity:clock in Root:4427022232>\n",
      "         <RootClock@107f8f9d0/RootClock:cutoffs in Root:4427022232>\n",
      "       <Clock@10c8551d0/Clock:cutoffs in Root:4427022232>\n",
      "         <Clock@10c8551d0/Clock:parent in Root:4427022232>\n",
      "           <Clock@10c8551d0/Entity:clock in Root:4427022232>\n",
      "           <RootClock@107f8f9d0/RootClock:cutoffs in Root:4427022232>\n",
      "         <RootClock@107f8f9d0/RootClock:cutoffs in Root:4427022232>\n",
      "     <TradeOpenEvent@10c921bd0/_WorkItemEvent:book1 in Root:4427022232>\n",
      "     <TradeOpenEvent@10c8b7590/Event:amends in Root:4427022232>\n",
      "     <TradeOpenEvent@10c945f90/TradeOpenEvent:premium in Root:4427022232>\n",
      "     <TradeOpenEvent@10c7daa10/TradeOpenEvent:premium in Root:4427022232>\n",
      "     <TradeOpenEvent@10c921bd0/TradeOpenEvent:ticket in Root:4427022232>\n",
      "     <TradeOpenEvent@10c7daa10/_WorkItemEvent:item in Root:4427022232>\n",
      "     <TradeOpenEvent@10c91c3d0/Event:amends in Root:4427022232>\n",
      "     <TradeOpenEvent@10c937a90/Event:amends in Root:4427022232>\n",
      "     <TradeOpenEvent@10c7daa10/_WorkItemEvent:book1 in Root:4427022232>\n",
      "     <TradeOpenEvent@10c9134d0/_WorkItemEvent:item in Root:4427022232>\n",
      "     <TradeOpenEvent@10c9134d0/TradeOpenEvent:quantity in Root:4427022232>\n",
      "     <TradeOpenEvent@10c827450/Event:amends in Root:4427022232>\n",
      "     <TradeOpenEvent@10c937a90/TradeOpenEvent:action in Root:4427022232>\n",
      "     <TradeOpenEvent@10c937a90/TradeOpenEvent:quantity in Root:4427022232>\n",
      "     <TradeOpenEvent@10c9134d0/TradeOpenEvent:premium in Root:4427022232>\n",
      "     <TradeOpenEvent@10c7daa10/TradeOpenEvent:ticket in Root:4427022232>\n",
      "     <TradeOpenEvent@10c945f90/_WorkItemEvent:book2 in Root:4427022232>\n",
      "     <TradeOpenEvent@10c9134d0/_WorkItemEvent:book1 in Root:4427022232>\n",
      "     <TradeOpenEvent@10c9134d0/_WorkItemEvent:book2 in Root:4427022232>\n",
      "     <TradeOpenEvent@10c937a90/TradeOpenEvent:unitPrice in Root:4427022232>\n",
      "     <TradeOpenEvent@10c937a90/TradeOpenEvent:ticket in Root:4427022232>\n",
      "     <TradeOpenEvent@10c9134d0/TradeOpenEvent:unitPrice in Root:4427022232>\n",
      "     <TradeOpenEvent@10c7daa10/TradeOpenEvent:unitPrice in Root:4427022232>\n",
      "     <TradeOpenEvent@10c921bd0/TradeOpenEvent:premium in Root:4427022232>\n",
      "     <TradeOpenEvent@10c921bd0/_WorkItemEvent:book2 in Root:4427022232>\n",
      "     <TradeOpenEvent@10c9134d0/TradeOpenEvent:ticket in Root:4427022232>\n",
      "     <TradeOpenEvent@10c937a90/_WorkItemEvent:item in Root:4427022232>\n",
      "     <TradeOpenEvent@10c9134d0/TradeOpenEvent:action in Root:4427022232>\n",
      "     <TradeOpenEvent@10c937a90/_WorkItemEvent:book1 in Root:4427022232>\n",
      "     <TradeOpenEvent@10c937a90/_WorkItemEvent:book2 in Root:4427022232>\n",
      "     <TradeOpenEvent@10c7daa10/TradeOpenEvent:quantity in Root:4427022232>\n",
      "     <TradeOpenEvent@10c937a90/TradeOpenEvent:premium in Root:4427022232>\n",
      "     <TradeOpenEvent@10c8b7590/TradeOpenEvent:action in Root:4427022232>\n",
      "     <TradeOpenEvent@10c8b7590/TradeOpenEvent:unitPrice in Root:4427022232>\n",
      "     <TradeOpenEvent@10c8b7590/TradeOpenEvent:quantity in Root:4427022232>\n",
      "     <TradeOpenEvent@10c8b7590/TradeOpenEvent:ticket in Root:4427022232>\n",
      "     <TradeOpenEvent@10c8b7590/_WorkItemEvent:item in Root:4427022232>\n",
      "     <TradeOpenEvent@10c921bd0/Event:amends in Root:4427022232>\n",
      "     <TradeOpenEvent@10c8b7590/_WorkItemEvent:book1 in Root:4427022232>\n",
      "     <TradeOpenEvent@10c8b7590/_WorkItemEvent:book2 in Root:4427022232>\n",
      "     <TradeOpenEvent@10c8b7590/TradeOpenEvent:premium in Root:4427022232>\n",
      "     <TradeOpenEvent@10c827450/TradeOpenEvent:action in Root:4427022232>\n",
      "     <TradeOpenEvent@10c827450/TradeOpenEvent:unitPrice in Root:4427022232>\n",
      "     <TradeOpenEvent@10c827450/TradeOpenEvent:quantity in Root:4427022232>\n",
      "     <TradeOpenEvent@10c921b10/Event:amends in Root:4427022232>\n",
      "   <Equity@10c921310/Equity:NPV in Root:4427022232>\n",
      "     <MarketInterface@10c726590/MarketInterface:spot in Root:4427022232>\n",
      "       <MarketDataSource@10a968310/ExternalRefData:state in Root:4427022232>\n",
      "         <MarketDataSource@10a968310/RefData:state in Root:4427022232>\n",
      "           <RefDataUpdateEvent@10c98d4d0/RefDataUpdateEvent:data in Root:4427022232>\n",
      "           <RefDataUpdateEvent@10a968350/RefDataUpdateEvent:data in Root:4427022232>\n",
      "           <RefDataUpdateEvent@10c98d4d0/Event:amends in Root:4427022232>\n",
      "           <Clock@10c883f10/Clock:cutoffs in Root:4427022232>\n",
      "             <Clock@10c883f10/Clock:parent in Root:4427022232>\n",
      "               <Clock@10c883f10/Entity:clock in Root:4427022232>\n",
      "               <ClockEvent@10c84f3d0/ClockEvent:parent in Root:4427022232>\n",
      "               <RootClock@107f8f9d0/RootClock:cutoffs in Root:4427022232>\n",
      "               <ClockEvent@10c84f3d0/Event:amends in Root:4427022232>\n",
      "             <Clock@10c84f2d0/Clock:cutoffs in Root:4427022232>\n",
      "               <Clock@10c84f2d0/Clock:parent in Root:4427022232>\n",
      "                 <Clock@10c84f2d0/Entity:clock in Root:4427022232>\n",
      "                 <RootClock@107f8f9d0/RootClock:cutoffs in Root:4427022232>\n",
      "               <RootClock@107f8f9d0/RootClock:cutoffs in Root:4427022232>\n",
      "           <RefDataUpdateEvent@10c921690/RefDataUpdateEvent:data in Root:4427022232>\n",
      "           <RefDataUpdateEvent@10c7fdc50/RefDataUpdateEvent:data in Root:4427022232>\n",
      "           <RefDataUpdateEvent@10a968350/Event:amends in Root:4427022232>\n",
      "           <RefDataUpdateEvent@10c921690/Event:amends in Root:4427022232>\n",
      "           <MarketDataSource@10a968310/MarketDataSource:clock in Root:4427022232>\n",
      "           <RefDataUpdateEvent@10c7fdc50/Event:amends in Root:4427022232>\n",
      "       <MarketInterface@10c726590/MarketInterface:source in Root:4427022232>\n",
      "         <MarketInterface@10c726590/MarketInterface:sourceName in Root:4427022232>\n",
      "     <Equity@10c921310/Equity:refdata in Root:4427022232>\n",
      "       <Equity@10c921310/Equity:assetName in Root:4427022232>\n",
      "   <ForwardCashflow@10c921210/ForwardCashflow:NPV in Root:4427022232>\n"
     ]
    }
   ],
   "source": [
    "valuable = b4\n",
    "clock = valuable.getObj(_tr.RootClock, 'Main')\n",
    "with Context({clock.cutoffs: ts7}):\n",
    "    print valuable.NPV()\n",
    "    node = getNode(valuable.NPV)\n",
    "    node.printInputGraph()"
   ]
  },
  {
   "cell_type": "code",
   "execution_count": 11,
   "metadata": {
    "collapsed": true
   },
   "outputs": [],
   "source": [
    "# Input simplification\n",
    "\n"
   ]
  },
  {
   "cell_type": "code",
   "execution_count": 12,
   "metadata": {
    "collapsed": false,
    "scrolled": false
   },
   "outputs": [
    {
     "name": "stdout",
     "output_type": "stream",
     "text": [
      "Interesting:\n",
      "<mand.clock.Clock object at 0x10d90a9d0> Clock:parent\n",
      "False 4\n",
      "<bound method Clock.fn of <mand.clock.Clock object at 0x10d90a9d0>>\n",
      "\n",
      "Interesting:\n",
      "<mand.clock.Clock object at 0x10d90af10> Clock:parent\n",
      "False 2\n",
      "<bound method Clock.fn of <mand.clock.Clock object at 0x10d90af10>>\n",
      "\n",
      "Interesting:\n",
      "<mand.clock.Clock object at 0x10d90af10> Clock:cutoffs\n",
      "False 2\n",
      "<bound method Clock.fn of <mand.clock.Clock object at 0x10d90af10>>\n",
      "\n",
      "Interesting:\n",
      "<mand.clock.Clock object at 0x10d90a9d0> Clock:cutoffs\n",
      "False 2\n",
      "<bound method Clock.fn of <mand.clock.Clock object at 0x10d90a9d0>>\n",
      "\n",
      "Interesting:\n",
      "<mand.clock.Clock object at 0x10d90a9d0> Clock:cutoffs\n",
      "False 2\n",
      "<bound method Clock.fn of <mand.clock.Clock object at 0x10d90a9d0>>\n",
      "\n",
      "Interesting:\n",
      "<mand.demos.trading.TradingBook object at 0x10b48d950> Workbook:items\n",
      "False 92\n",
      "<bound method TradingBook.fn of <mand.demos.trading.TradingBook object at 0x10b48d950>>\n",
      "\n",
      "Interesting:\n",
      "<mand.demos.trading.Equity object at 0x10d910f10> Equity:refdata\n",
      "False 1\n",
      "<bound method Equity.fn of <mand.demos.trading.Equity object at 0x10d910f10>>\n",
      "\n",
      "Interesting:\n",
      "<mand.demos.trading.MarketInterface object at 0x10d901410> MarketInterface:source\n",
      "False 1\n",
      "<bound method MarketInterface.fn of <mand.demos.trading.MarketInterface object at 0x10d901410>>\n",
      "\n",
      "Interesting:\n",
      "<mand.clock.Clock object at 0x10d91b410> Clock:parent\n",
      "False 4\n",
      "<bound method Clock.fn of <mand.clock.Clock object at 0x10d91b410>>\n",
      "\n",
      "Interesting:\n",
      "<mand.clock.Clock object at 0x10d935c50> Clock:parent\n",
      "False 2\n",
      "<bound method Clock.fn of <mand.clock.Clock object at 0x10d935c50>>\n",
      "\n",
      "Interesting:\n",
      "<mand.clock.Clock object at 0x10d935c50> Clock:cutoffs\n",
      "False 2\n",
      "<bound method Clock.fn of <mand.clock.Clock object at 0x10d935c50>>\n",
      "\n",
      "Interesting:\n",
      "<mand.clock.Clock object at 0x10d91b410> Clock:cutoffs\n",
      "False 2\n",
      "<bound method Clock.fn of <mand.clock.Clock object at 0x10d91b410>>\n",
      "\n",
      "Interesting:\n",
      "<mand.clock.Clock object at 0x10d91b410> Clock:cutoffs\n",
      "False 2\n",
      "<bound method Clock.fn of <mand.clock.Clock object at 0x10d91b410>>\n",
      "\n",
      "Interesting:\n",
      "<mand.demos.trading.MarketDataSource object at 0x10d9011d0> RefData:state\n",
      "False 10\n",
      "<bound method MarketDataSource.fn of <mand.demos.trading.MarketDataSource object at 0x10d9011d0>>\n",
      "\n",
      "Interesting:\n",
      "<mand.demos.trading.MarketDataSource object at 0x10d9011d0> ExternalRefData:state\n",
      "False 1\n",
      "<bound method MarketDataSource.fn of <mand.demos.trading.MarketDataSource object at 0x10d9011d0>>\n",
      "\n",
      "Interesting:\n",
      "<mand.demos.trading.MarketInterface object at 0x10d901410> MarketInterface:spot\n",
      "False 2\n",
      "<bound method MarketInterface.fn of <mand.demos.trading.MarketInterface object at 0x10d901410>>\n",
      "\n",
      "Interesting:\n",
      "<mand.demos.trading.Equity object at 0x10d910f10> Equity:NPV\n",
      "False 2\n",
      "<bound method Equity.fn of <mand.demos.trading.Equity object at 0x10d910f10>>\n",
      "\n",
      "40.85\n",
      "{<mand.demos.trading.Equity object at 0x10d910f10>: Decimal('10'), <mand.demos.trading.ForwardCashflow object at 0x10d910a90>: Decimal('-8520.45')}\n",
      " <TradingBook@10b48d950/TradingContainer:NPV in Root:4427022232>\n",
      "   <Equity@10d910f10/Equity:NPV in Root:4427022232>\n",
      "     <Equity@10d910f10/Equity:refdata in Root:4427022232>\n",
      "       <Equity@10d910f10/Equity:assetName in Root:4427022232>\n",
      "     <MarketInterface@10d901410/MarketInterface:spot in Root:4427022232>\n",
      "       <MarketInterface@10d901410/MarketInterface:source in Root:4427022232>\n",
      "         <MarketInterface@10d901410/MarketInterface:sourceName in Root:4427022232>\n",
      "       <MarketDataSource@10d9011d0/ExternalRefData:state in Root:4427022232>\n",
      "         <MarketDataSource@10d9011d0/RefData:state in Root:4427022232>\n",
      "           <RefDataUpdateEvent@10d910f90/RefDataUpdateEvent:data in Root:4427022232>\n",
      "           <RefDataUpdateEvent@10d91b3d0/RefDataUpdateEvent:data in Root:4427022232>\n",
      "           <RefDataUpdateEvent@10d90add0/RefDataUpdateEvent:data in Root:4427022232>\n",
      "           <Clock@10d91b410/Clock:cutoffs in Root:4427022232>\n",
      "             <Clock@10d91b410/Clock:parent in Root:4427022232>\n",
      "               <ClockEvent@10d935890/Event:amends in Root:4427022232>\n",
      "               <Clock@10d91b410/Entity:clock in Root:4427022232>\n",
      "               <ClockEvent@10d935890/ClockEvent:parent in Root:4427022232>\n",
      "               <RootClock@10d8f0f10/RootClock:cutoffs in Root:4427022232>\n",
      "             <Clock@10d935c50/Clock:cutoffs in Root:4427022232>\n",
      "               <Clock@10d935c50/Clock:parent in Root:4427022232>\n",
      "                 <Clock@10d935c50/Entity:clock in Root:4427022232>\n",
      "                 <RootClock@10d8f0f10/RootClock:cutoffs in Root:4427022232>\n",
      "               <RootClock@10d8f0f10/RootClock:cutoffs in Root:4427022232>\n",
      "           <RefDataUpdateEvent@10d910f90/Event:amends in Root:4427022232>\n",
      "           <RefDataUpdateEvent@10d90add0/Event:amends in Root:4427022232>\n",
      "           <RefDataUpdateEvent@10d91b3d0/Event:amends in Root:4427022232>\n",
      "           <MarketDataSource@10d9011d0/MarketDataSource:clock in Root:4427022232>\n",
      "           <RefDataUpdateEvent@10d910bd0/Event:amends in Root:4427022232>\n",
      "           <RefDataUpdateEvent@10d910bd0/RefDataUpdateEvent:data in Root:4427022232>\n",
      "   <TradingBook@10b48d950/Workbook:items in Root:4427022232>\n",
      "     <TradeOpenEvent@10d901910/_WorkItemEvent:book2 in Root:4427022232>\n",
      "     <TradeOpenEvent@10c827ed0/TradeOpenEvent:action in Root:4427022232>\n",
      "     <TradeOpenEvent@10d901390/_WorkItemEvent:book2 in Root:4427022232>\n",
      "     <TradeOpenEvent@10d8f0690/TradeOpenEvent:premium in Root:4427022232>\n",
      "     <TradeOpenEvent@10d901910/_WorkItemEvent:item in Root:4427022232>\n",
      "     <TradeOpenEvent@10d8f0ad0/TradeOpenEvent:action in Root:4427022232>\n",
      "     <TradeOpenEvent@10d8d8e10/TradeOpenEvent:action in Root:4427022232>\n",
      "     <TradeOpenEvent@10c827ed0/TradeOpenEvent:ticket in Root:4427022232>\n",
      "     <TradeOpenEvent@10d901910/_WorkItemEvent:book1 in Root:4427022232>\n",
      "     <TradeOpenEvent@10d901090/Event:amends in Root:4427022232>\n",
      "     <TradeOpenEvent@10d901910/TradeOpenEvent:unitPrice in Root:4427022232>\n",
      "     <TradeOpenEvent@10d90a610/Event:amends in Root:4427022232>\n",
      "     <TradeOpenEvent@10d901910/Event:amends in Root:4427022232>\n",
      "     <TradeOpenEvent@10d901910/TradeOpenEvent:premium in Root:4427022232>\n",
      "     <TradeOpenEvent@10d901ed0/TradeOpenEvent:ticket in Root:4427022232>\n",
      "     <TradeOpenEvent@10c827ed0/TradeOpenEvent:quantity in Root:4427022232>\n",
      "     <TradeOpenEvent@10c827ed0/TradeOpenEvent:premium in Root:4427022232>\n",
      "     <TradeOpenEvent@10c827ed0/Event:amends in Root:4427022232>\n",
      "     <TradeOpenEvent@10d8f0c90/Event:amends in Root:4427022232>\n",
      "     <TradeOpenEvent@10d8f0690/_WorkItemEvent:item in Root:4427022232>\n",
      "     <TradeOpenEvent@10d8d8e10/Event:amends in Root:4427022232>\n",
      "     <TradeOpenEvent@10d8f0690/_WorkItemEvent:book1 in Root:4427022232>\n",
      "     <TradeOpenEvent@10d901ed0/TradeOpenEvent:unitPrice in Root:4427022232>\n",
      "     <TradeOpenEvent@10d901390/Event:amends in Root:4427022232>\n",
      "     <TradeOpenEvent@10d8d8e10/TradeOpenEvent:quantity in Root:4427022232>\n",
      "     <TradeOpenEvent@10d8f0690/Event:amends in Root:4427022232>\n",
      "     <TradeOpenEvent@10d901ed0/TradeOpenEvent:action in Root:4427022232>\n",
      "     <Clock@10d90a9d0/Clock:cutoffs in Root:4427022232>\n",
      "       <Clock@10d90a9d0/Clock:parent in Root:4427022232>\n",
      "         <Clock@10d90a9d0/Entity:clock in Root:4427022232>\n",
      "         <ClockEvent@10d90af90/Event:amends in Root:4427022232>\n",
      "         <ClockEvent@10d90af90/ClockEvent:parent in Root:4427022232>\n",
      "         <RootClock@10d8f0f10/RootClock:cutoffs in Root:4427022232>\n",
      "       <Clock@10d90af10/Clock:cutoffs in Root:4427022232>\n",
      "         <Clock@10d90af10/Clock:parent in Root:4427022232>\n",
      "           <Clock@10d90af10/Entity:clock in Root:4427022232>\n",
      "           <RootClock@10d8f0f10/RootClock:cutoffs in Root:4427022232>\n",
      "         <RootClock@10d8f0f10/RootClock:cutoffs in Root:4427022232>\n",
      "     <TradeOpenEvent@10c827ed0/_WorkItemEvent:book1 in Root:4427022232>\n",
      "     <TradeOpenEvent@10d901ed0/TradeOpenEvent:quantity in Root:4427022232>\n",
      "     <TradeOpenEvent@10d8f0690/_WorkItemEvent:book2 in Root:4427022232>\n",
      "     <TradeOpenEvent@10d8f0c90/TradeOpenEvent:unitPrice in Root:4427022232>\n",
      "     <TradeOpenEvent@10d8f0c90/TradeOpenEvent:quantity in Root:4427022232>\n",
      "     <TradeOpenEvent@10d901390/_WorkItemEvent:item in Root:4427022232>\n",
      "     <TradeOpenEvent@10d8f0c90/TradeOpenEvent:ticket in Root:4427022232>\n",
      "     <TradeOpenEvent@10c827ed0/_WorkItemEvent:item in Root:4427022232>\n",
      "     <TradeOpenEvent@10d901ed0/Event:amends in Root:4427022232>\n",
      "     <TradeOpenEvent@10d8d8e10/TradeOpenEvent:unitPrice in Root:4427022232>\n",
      "     <TradeOpenEvent@10d8f0690/TradeOpenEvent:unitPrice in Root:4427022232>\n",
      "     <TradeOpenEvent@10d8f0690/TradeOpenEvent:quantity in Root:4427022232>\n",
      "     <TradeOpenEvent@10d8f0ad0/TradeOpenEvent:quantity in Root:4427022232>\n",
      "     <TradeOpenEvent@10d901910/TradeOpenEvent:quantity in Root:4427022232>\n",
      "     <TradeOpenEvent@10d8f0690/TradeOpenEvent:action in Root:4427022232>\n",
      "     <TradeOpenEvent@10d901910/TradeOpenEvent:action in Root:4427022232>\n",
      "     <TradeOpenEvent@10c827ed0/_WorkItemEvent:book2 in Root:4427022232>\n",
      "     <TradeOpenEvent@10d901910/TradeOpenEvent:ticket in Root:4427022232>\n",
      "     <TradeOpenEvent@10d8f0690/TradeOpenEvent:ticket in Root:4427022232>\n",
      "     <TradeOpenEvent@10d8f0c90/_WorkItemEvent:item in Root:4427022232>\n",
      "     <TradeOpenEvent@10d8f0c90/_WorkItemEvent:book2 in Root:4427022232>\n",
      "     <TradeOpenEvent@10d8f0c90/_WorkItemEvent:book1 in Root:4427022232>\n",
      "     <TradeOpenEvent@10d901090/TradeOpenEvent:action in Root:4427022232>\n",
      "     <TradeOpenEvent@10d901390/TradeOpenEvent:ticket in Root:4427022232>\n",
      "     <TradeOpenEvent@10d901090/TradeOpenEvent:quantity in Root:4427022232>\n",
      "     <TradeOpenEvent@10d901ed0/_WorkItemEvent:book1 in Root:4427022232>\n",
      "     <TradeOpenEvent@10d901ed0/TradeOpenEvent:premium in Root:4427022232>\n",
      "     <TradeOpenEvent@10d8f0ad0/TradeOpenEvent:premium in Root:4427022232>\n",
      "     <TradeOpenEvent@10d901ed0/_WorkItemEvent:item in Root:4427022232>\n",
      "     <TradeOpenEvent@10d901ed0/_WorkItemEvent:book2 in Root:4427022232>\n",
      "     <TradeOpenEvent@10d8f0ad0/Event:amends in Root:4427022232>\n",
      "     <TradeOpenEvent@10d8f0c90/TradeOpenEvent:premium in Root:4427022232>\n",
      "     <TradeOpenEvent@10d901390/TradeOpenEvent:unitPrice in Root:4427022232>\n",
      "     <TradeOpenEvent@10d90a610/TradeOpenEvent:premium in Root:4427022232>\n",
      "     <TradeOpenEvent@10d8d8e10/TradeOpenEvent:premium in Root:4427022232>\n",
      "     <TradeOpenEvent@10c827ed0/TradeOpenEvent:unitPrice in Root:4427022232>\n",
      "     <TradeOpenEvent@10d901090/TradeOpenEvent:ticket in Root:4427022232>\n",
      "     <TradeOpenEvent@10d901390/TradeOpenEvent:quantity in Root:4427022232>\n",
      "     <TradingBook@10b48d950/TradingBook:clock in Root:4427022232>\n",
      "     <TradeOpenEvent@10d901090/TradeOpenEvent:unitPrice in Root:4427022232>\n",
      "     <TradeOpenEvent@10d8d8e10/TradeOpenEvent:ticket in Root:4427022232>\n",
      "     <TradeOpenEvent@10d90a610/TradeOpenEvent:unitPrice in Root:4427022232>\n",
      "     <TradeOpenEvent@10d90a610/_WorkItemEvent:book1 in Root:4427022232>\n",
      "     <TradeOpenEvent@10d8f0ad0/_WorkItemEvent:item in Root:4427022232>\n",
      "     <TradeOpenEvent@10d8f0c90/TradeOpenEvent:action in Root:4427022232>\n",
      "     <TradeOpenEvent@10d90a610/TradeOpenEvent:quantity in Root:4427022232>\n",
      "     <TradeOpenEvent@10d901090/_WorkItemEvent:item in Root:4427022232>\n",
      "     <TradeOpenEvent@10d901090/TradeOpenEvent:premium in Root:4427022232>\n",
      "     <TradeOpenEvent@10d901090/_WorkItemEvent:book1 in Root:4427022232>\n",
      "     <TradeOpenEvent@10d90a610/TradeOpenEvent:ticket in Root:4427022232>\n",
      "     <TradeOpenEvent@10d90a610/TradeOpenEvent:action in Root:4427022232>\n",
      "     <TradeOpenEvent@10d901090/_WorkItemEvent:book2 in Root:4427022232>\n",
      "     <TradeOpenEvent@10d901390/_WorkItemEvent:book1 in Root:4427022232>\n",
      "     <TradeOpenEvent@10d901390/TradeOpenEvent:action in Root:4427022232>\n",
      "     <TradeOpenEvent@10d8f0ad0/TradeOpenEvent:ticket in Root:4427022232>\n",
      "     <TradeOpenEvent@10d8f0ad0/_WorkItemEvent:book2 in Root:4427022232>\n",
      "     <TradeOpenEvent@10d8f0ad0/_WorkItemEvent:book1 in Root:4427022232>\n",
      "     <TradeOpenEvent@10d90a610/_WorkItemEvent:item in Root:4427022232>\n",
      "     <TradeOpenEvent@10d901390/TradeOpenEvent:premium in Root:4427022232>\n",
      "     <TradeOpenEvent@10d8d8e10/_WorkItemEvent:item in Root:4427022232>\n",
      "     <TradeOpenEvent@10d8d8e10/_WorkItemEvent:book2 in Root:4427022232>\n",
      "     <TradeOpenEvent@10d8d8e10/_WorkItemEvent:book1 in Root:4427022232>\n",
      "     <TradeOpenEvent@10d90a610/_WorkItemEvent:book2 in Root:4427022232>\n",
      "     <TradeOpenEvent@10d8f0ad0/TradeOpenEvent:unitPrice in Root:4427022232>\n",
      "   <ForwardCashflow@10d910a90/ForwardCashflow:NPV in Root:4427022232>\n"
     ]
    }
   ],
   "source": [
    "from mand.graph import DependencyManager, setDependencyManager\n",
    "from mand.core import Event\n",
    "\n",
    "class DM1(DependencyManager):\n",
    "    \n",
    "    def prn(self, input, txt):\n",
    "        print txt\n",
    "        isEvent = isinstance(input.object(), Event)\n",
    "        print input.object(), input.methodId() \n",
    "        print isEvent, len(input.inputs)\n",
    "        print input.tweakPoint\n",
    "        print\n",
    "        \n",
    "    def addDep(self, input, output):\n",
    "        if not input.tweakPoint:\n",
    "            self.prn(input, 'No tweak point:')\n",
    "        elif input.inputs:\n",
    "            self.prn(input, 'Interesting:')\n",
    "            \n",
    "        output.inputs.add(input)\n",
    "        input.outputs.add(output)\n",
    "\n",
    "        \n",
    "setDependencyManager(DM1())\n",
    "\n",
    "db4 = db.copy()\n",
    "valuable = db4.get(b4.meta.path())\n",
    "\n",
    "clock = valuable.getObj(_tr.RootClock, 'Main')\n",
    "with Context({clock.cutoffs: ts7}):\n",
    "    print valuable.NPV()\n",
    "    print valuable.items()\n",
    "    node = getNode(valuable.NPV)\n",
    "    node.printInputGraph()"
   ]
  }
 ],
 "metadata": {
  "kernelspec": {
   "display_name": "Python 2",
   "language": "python",
   "name": "python2"
  },
  "language_info": {
   "codemirror_mode": {
    "name": "ipython",
    "version": 2
   },
   "file_extension": ".py",
   "mimetype": "text/x-python",
   "name": "python",
   "nbconvert_exporter": "python",
   "pygments_lexer": "ipython2",
   "version": "2.7.13"
  }
 },
 "nbformat": 4,
 "nbformat_minor": 2
}
