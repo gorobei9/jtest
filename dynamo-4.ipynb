{
 "cells": [
  {
   "cell_type": "markdown",
   "metadata": {},
   "source": [
    "# RefData and Workflow demos.\n",
    "\n",
    "This is just the dynamo-3 notebook with the core classes refactoring into the mand library."
   ]
  },
  {
   "cell_type": "code",
   "execution_count": 1,
   "metadata": {
    "collapsed": false,
    "scrolled": false
   },
   "outputs": [],
   "source": [
    "import mand.core\n",
    "\n",
    "from mand.core import ObjectDb, DynamoDbDriver, ddb, _tr, PrintMonitor\n",
    "\n",
    "db = ObjectDb()\n",
    "\n",
    "from mand.lib.dbsetup import setUpDb\n",
    "setUpDb(db)"
   ]
  },
  {
   "cell_type": "code",
   "execution_count": 2,
   "metadata": {
    "collapsed": false,
    "scrolled": false
   },
   "outputs": [
    {
     "name": "stdout",
     "output_type": "stream",
     "text": [
      "<Entity:/Global/CustomerRefData/Customer123> activeEvents:\n"
     ]
    },
    {
     "data": {
      "text/markdown": [
       "|_validTime|fullName|address|company|_entityName|\n",
       "|-|-|-|-|-|\n",
       "|2017-05-31T10:36:34.630586|Eliza Smith|10 Main St|Frobozz Magic Avocado Company|Customer123\n",
       "|2017-05-31T10:36:34.655908|None|None|Frobozz Magic Fruit Company|Customer123\n",
       "|2017-05-31T10:36:34.667454|Eliza James|None|None|Customer123\n"
      ],
      "text/plain": [
       "<IPython.core.display.Markdown object>"
      ]
     },
     "metadata": {},
     "output_type": "display_data"
    },
    {
     "name": "stdout",
     "output_type": "stream",
     "text": [
      "Clock is at: None\n",
      "data: Eliza James works for Frobozz Magic Fruit Company, located at 10 Main St\n",
      "\n",
      "<Entity:/Global/CustomerRefData/Customer123> _visibleEvents:\n"
     ]
    },
    {
     "data": {
      "text/markdown": [
       "|_validTime|fullName|address|company|_entityName|\n",
       "|-|-|-|-|-|\n",
       "|2017-05-31T10:36:34.630586|Eliza Smith|10 Main St|Frobozz Magic Avocado Company|Customer123\n",
       "|2017-05-31T10:36:34.645368|None|None|Frobozz Magic Friut Company|Customer123\n",
       "|2017-05-31T10:36:34.655908|None|None|Frobozz Magic Fruit Company|Customer123\n",
       "|2017-05-31T10:36:34.667454|Eliza James|None|None|Customer123\n"
      ],
      "text/plain": [
       "<IPython.core.display.Markdown object>"
      ]
     },
     "metadata": {},
     "output_type": "display_data"
    },
    {
     "name": "stdout",
     "output_type": "stream",
     "text": [
      "<Entity:/Global/CustomerRefData/Customer123> activeEvents:\n"
     ]
    },
    {
     "data": {
      "text/markdown": [
       "|_validTime|fullName|address|company|_entityName|\n",
       "|-|-|-|-|-|\n",
       "|2017-05-31T10:36:34.630586|Eliza Smith|10 Main St|Frobozz Magic Avocado Company|Customer123\n",
       "|2017-05-31T10:36:34.655908|None|None|Frobozz Magic Fruit Company|Customer123\n",
       "|2017-05-31T10:36:34.667454|Eliza James|None|None|Customer123\n"
      ],
      "text/plain": [
       "<IPython.core.display.Markdown object>"
      ]
     },
     "metadata": {},
     "output_type": "display_data"
    },
    {
     "name": "stdout",
     "output_type": "stream",
     "text": [
      "\n",
      "\n",
      "Clock is at: <TS:t=2017-05-31T10:36:34.642002,v=2017-05-31T10:36:34.642001>\n",
      "data: Eliza Smith works for Frobozz Magic Avocado Company, located at 10 Main St\n",
      "\n",
      "<Entity:/Global/CustomerRefData/Customer123> _visibleEvents:\n"
     ]
    },
    {
     "data": {
      "text/markdown": [
       "|_validTime|fullName|address|company|_entityName|\n",
       "|-|-|-|-|-|\n",
       "|2017-05-31T10:36:34.630586|Eliza Smith|10 Main St|Frobozz Magic Avocado Company|Customer123\n"
      ],
      "text/plain": [
       "<IPython.core.display.Markdown object>"
      ]
     },
     "metadata": {},
     "output_type": "display_data"
    },
    {
     "name": "stdout",
     "output_type": "stream",
     "text": [
      "<Entity:/Global/CustomerRefData/Customer123> activeEvents:\n"
     ]
    },
    {
     "data": {
      "text/markdown": [
       "|_validTime|fullName|address|company|_entityName|\n",
       "|-|-|-|-|-|\n",
       "|2017-05-31T10:36:34.630586|Eliza Smith|10 Main St|Frobozz Magic Avocado Company|Customer123\n"
      ],
      "text/plain": [
       "<IPython.core.display.Markdown object>"
      ]
     },
     "metadata": {},
     "output_type": "display_data"
    },
    {
     "name": "stdout",
     "output_type": "stream",
     "text": [
      "\n",
      "\n",
      "original db  : <mand.db.ObjectDb object at 0x10e316c50>: 24, mem=True, ro=False: entities=14, map=6\n",
      "new client db: <mand.db.ObjectDb object at 0x110489588>: 24, mem=True, ro=False: entities=14, map=6\n",
      "\n",
      "current: Eliza James\n",
      "at ts1 : Eliza Smith\n",
      "\n",
      "Prod db: <mand.db.ObjectDb object at 0x10e316c50>: 24, mem=True, ro=False: entities=14, map=6\n",
      "\n",
      "in production:\n",
      "data: Eliza James works for Frobozz Magic Fruit Company, located at 10 Main St\n",
      "deleting union event: <Entity:/Global/CustomerRefDataUpdateEvent/ad0af4d9-c850-4575-92fc-f5a07bf459d8> (O25:O24)\n",
      "\n",
      "in union:\n",
      "data: Eliza Smith works for Frobozz Magic Fruit Company, located at 10 Main St\n",
      "in production:\n",
      "data: Eliza James works for Frobozz Magic Fruit Company, located at 10 Main St\n",
      "Prod db: <mand.db.ObjectDb object at 0x10e316c50>: 24, mem=True, ro=False: entities=14, map=6\n",
      "New db: <mand.db.ObjectDb object at 0x11049f5f8>: 25, mem=True, ro=False: entities=2, map=1\n",
      "Union db: (<mand.db.ObjectDb object at 0x11049f5f8>: 25, mem=True, ro=False: entities=2, map=1 <mand.db.ObjectDb object at 0x10e316c50>: 24, mem=True, ro=False: entities=14, map=6)\n",
      "Line item end of day:\n",
      "data: Joe James works for Frobozz Magic Lamp Company, located at 235 W 76\n",
      "Line item end of day (rerun):\n",
      "data: Joe James works for Frobozz Magic Lamp Company, located at 235 W 76\n",
      "\n",
      "Line item generated from corrected end of day report:\n",
      "data: Joe James works for Frobozz Magic Lamp Company, located at 1 First Ave\n",
      "\n",
      "Current line item:\n",
      "data: Joe James works for Frobozz Magic Illumination Company, located at 1 First Ave\n"
     ]
    }
   ],
   "source": [
    "import mand.demos.refdata\n",
    "\n",
    "#with PrintMonitor():\n",
    "mand.demos.refdata.main(db)"
   ]
  },
  {
   "cell_type": "code",
   "execution_count": 3,
   "metadata": {
    "collapsed": false,
    "scrolled": false
   },
   "outputs": [
    {
     "name": "stdout",
     "output_type": "stream",
     "text": [
      "Status:\n",
      "    Workbook Customer123:\n",
      "\n",
      "    Workbook Customer.joe:\n",
      "\n",
      "    Workbook Helpdesk:\n",
      "\n",
      "    Workbook Fire Department:\n",
      "\n",
      "Status:\n",
      "    Workbook Customer123:\n",
      "        Ticket 45b68336-c949-4958-9365-32669a7e97c3, , waiting on Helpdesk (1 events, 1 active)\n",
      "           New, 840a14c8-3abf-4b68-afb8-d3edc53bb0fa: raised with: Helpdesk, msg: Help, I forgot my password\n",
      "\n",
      "    Workbook Customer.joe:\n",
      "        Ticket b5a7906f-9d3f-4459-9eb0-dadf79a94c28, , waiting on Helpdesk (1 events, 1 active)\n",
      "           New, 25ca469f-4749-43b2-a41e-1563db045160: raised with: Helpdesk, msg: Help! My computer is smoking\n",
      "\n",
      "    Workbook Helpdesk:\n",
      "        Ticket 45b68336-c949-4958-9365-32669a7e97c3, , raised by Customer123 (1 events, 1 active)\n",
      "           New, 840a14c8-3abf-4b68-afb8-d3edc53bb0fa: raised by: Customer123, msg: Help, I forgot my password\n",
      "        Ticket b5a7906f-9d3f-4459-9eb0-dadf79a94c28, , raised by Customer.joe (1 events, 1 active)\n",
      "           New, 25ca469f-4749-43b2-a41e-1563db045160: raised by: Customer.joe, msg: Help! My computer is smoking\n",
      "\n",
      "    Workbook Fire Department:\n",
      "\n",
      "Status:\n",
      "    Workbook Customer123:\n",
      "        Ticket 45b68336-c949-4958-9365-32669a7e97c3, , waiting on Helpdesk (1 events, 1 active)\n",
      "           New, 840a14c8-3abf-4b68-afb8-d3edc53bb0fa: raised with: Helpdesk, msg: Help, I forgot my password\n",
      "        Ticket 40b8fee9-ce81-4fd5-8636-306a8a068520, , waiting on Helpdesk (1 events, 1 active)\n",
      "           New, 33dbe3d5-fab8-4fe5-bd44-9aa12a737696: raised with: Helpdesk, msg: My mouse is broken\n",
      "\n",
      "    Workbook Customer.joe:\n",
      "        Ticket b5a7906f-9d3f-4459-9eb0-dadf79a94c28, , waiting on Helpdesk (2 events, 1 active)\n",
      "           New, 7ccfd60e-4861-4169-a11b-49fb8f16bb79: raised with: Helpdesk, msg: Help! My computer is on fire!\n",
      "\n",
      "    Workbook Helpdesk:\n",
      "        Ticket 45b68336-c949-4958-9365-32669a7e97c3, , raised by Customer123 (1 events, 1 active)\n",
      "           New, 840a14c8-3abf-4b68-afb8-d3edc53bb0fa: raised by: Customer123, msg: Help, I forgot my password\n",
      "        Ticket b5a7906f-9d3f-4459-9eb0-dadf79a94c28, , raised by Customer.joe (2 events, 1 active)\n",
      "           New, 7ccfd60e-4861-4169-a11b-49fb8f16bb79: raised by: Customer.joe, msg: Help! My computer is on fire!\n",
      "        Ticket 40b8fee9-ce81-4fd5-8636-306a8a068520, , raised by Customer123 (1 events, 1 active)\n",
      "           New, 33dbe3d5-fab8-4fe5-bd44-9aa12a737696: raised by: Customer123, msg: My mouse is broken\n",
      "\n",
      "    Workbook Fire Department:\n",
      "\n",
      "Status:\n",
      "    Workbook Customer123:\n",
      "        Ticket 45b68336-c949-4958-9365-32669a7e97c3, , waiting on Helpdesk (1 events, 1 active)\n",
      "           New, 840a14c8-3abf-4b68-afb8-d3edc53bb0fa: raised with: Helpdesk, msg: Help, I forgot my password\n",
      "        Ticket 40b8fee9-ce81-4fd5-8636-306a8a068520, , waiting on Helpdesk (2 events, 2 active)\n",
      "           New, 33dbe3d5-fab8-4fe5-bd44-9aa12a737696: raised with: Helpdesk, msg: My mouse is broken\n",
      "           Message: Actually, only the right mouse button is bad, so just rep...\n",
      "\n",
      "    Workbook Customer.joe:\n",
      "        Ticket b5a7906f-9d3f-4459-9eb0-dadf79a94c28, , waiting on Fire Department (4 events, 3 active)\n",
      "           New, 7ccfd60e-4861-4169-a11b-49fb8f16bb79: raised with: Helpdesk, msg: Help! My computer is on fire!\n",
      "           Transfer, e71dbe1d-1843-4733-9061-3022af96b727: Helpdesk -> Fire Department\n",
      "           Message: Um, the smoke is making it hard to see my desk.\n",
      "\n",
      "    Workbook Helpdesk:\n",
      "        Ticket 45b68336-c949-4958-9365-32669a7e97c3, , raised by Customer123 (1 events, 1 active)\n",
      "           New, 840a14c8-3abf-4b68-afb8-d3edc53bb0fa: raised by: Customer123, msg: Help, I forgot my password\n",
      "        Ticket 40b8fee9-ce81-4fd5-8636-306a8a068520, , raised by Customer123 (2 events, 2 active)\n",
      "           New, 33dbe3d5-fab8-4fe5-bd44-9aa12a737696: raised by: Customer123, msg: My mouse is broken\n",
      "           Message: Actually, only the right mouse button is bad, so just rep...\n",
      "\n",
      "    Workbook Fire Department:\n",
      "        Ticket b5a7906f-9d3f-4459-9eb0-dadf79a94c28, , raised by Customer.joe (4 events, 3 active)\n",
      "           New, 7ccfd60e-4861-4169-a11b-49fb8f16bb79: ???, msg: Help! My computer is on fire!\n",
      "           Transfer, e71dbe1d-1843-4733-9061-3022af96b727: Helpdesk -> Fire Department\n",
      "           Message: Um, the smoke is making it hard to see my desk.\n",
      "\n",
      "Status:\n",
      "    Workbook Customer123:\n",
      "        Ticket 40b8fee9-ce81-4fd5-8636-306a8a068520, , waiting on Helpdesk (2 events, 2 active)\n",
      "           New, 33dbe3d5-fab8-4fe5-bd44-9aa12a737696: raised with: Helpdesk, msg: My mouse is broken\n",
      "           Message: Actually, only the right mouse button is bad, so just rep...\n",
      "\n",
      "    Workbook Customer.joe:\n",
      "        Ticket b5a7906f-9d3f-4459-9eb0-dadf79a94c28, , waiting on Fire Department (4 events, 3 active)\n",
      "           New, 7ccfd60e-4861-4169-a11b-49fb8f16bb79: raised with: Helpdesk, msg: Help! My computer is on fire!\n",
      "           Transfer, e71dbe1d-1843-4733-9061-3022af96b727: Helpdesk -> Fire Department\n",
      "           Message: Um, the smoke is making it hard to see my desk.\n",
      "\n",
      "    Workbook Helpdesk:\n",
      "        Ticket 40b8fee9-ce81-4fd5-8636-306a8a068520, , raised by Customer123 (2 events, 2 active)\n",
      "           New, 33dbe3d5-fab8-4fe5-bd44-9aa12a737696: raised by: Customer123, msg: My mouse is broken\n",
      "           Message: Actually, only the right mouse button is bad, so just rep...\n",
      "\n",
      "    Workbook Fire Department:\n",
      "        Ticket b5a7906f-9d3f-4459-9eb0-dadf79a94c28, , raised by Customer.joe (4 events, 3 active)\n",
      "           New, 7ccfd60e-4861-4169-a11b-49fb8f16bb79: ???, msg: Help! My computer is on fire!\n",
      "           Transfer, e71dbe1d-1843-4733-9061-3022af96b727: Helpdesk -> Fire Department\n",
      "           Message: Um, the smoke is making it hard to see my desk.\n",
      "\n"
     ]
    },
    {
     "data": {
      "text/markdown": [
       "|action|book1|book2|message|\n",
       "|-|-|-|-|\n",
       "|open|Workbook: Customer.joe|Workbook: Helpdesk|Help! My computer is smoking\n",
       "|open|Workbook: Customer.joe|Workbook: Helpdesk|Help! My computer is on fire!\n",
       "|escalate|Workbook: Helpdesk|Workbook: Fire Department| \n",
       "|message| | |Um, the smoke is making it hard to see my desk.\n"
      ],
      "text/plain": [
       "<IPython.core.display.Markdown object>"
      ]
     },
     "metadata": {},
     "output_type": "display_data"
    },
    {
     "name": "stdout",
     "output_type": "stream",
     "text": [
      "\n"
     ]
    },
    {
     "data": {
      "text/markdown": [
       "|action|book1|book2|message|\n",
       "|-|-|-|-|\n",
       "|open|Workbook: Customer.joe|Workbook: Helpdesk|Help! My computer is on fire!\n",
       "|escalate|Workbook: Helpdesk|Workbook: Fire Department| \n",
       "|message| | |Um, the smoke is making it hard to see my desk.\n"
      ],
      "text/plain": [
       "<IPython.core.display.Markdown object>"
      ]
     },
     "metadata": {},
     "output_type": "display_data"
    },
    {
     "name": "stdout",
     "output_type": "stream",
     "text": [
      "<Entity:/Global/CustomerRefData/Customer.joe>\n",
      "<Clock: /Global/Clock/Workflow:/Global/RootClock/Main>\n",
      "<Clock: /Global/Clock/RefData:/Global/RootClock/Main>\n"
     ]
    }
   ],
   "source": [
    "import mand.demos.workflow\n",
    "\n",
    "mand.demos.workflow.main(db)"
   ]
  }
 ],
 "metadata": {
  "kernelspec": {
   "display_name": "Python 3",
   "language": "python",
   "name": "python3"
  },
  "language_info": {
   "codemirror_mode": {
    "name": "ipython",
    "version": 3
   },
   "file_extension": ".py",
   "mimetype": "text/x-python",
   "name": "python",
   "nbconvert_exporter": "python",
   "pygments_lexer": "ipython3",
   "version": "3.6.1"
  }
 },
 "nbformat": 4,
 "nbformat_minor": 2
}
