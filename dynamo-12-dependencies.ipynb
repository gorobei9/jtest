{
 "cells": [
  {
   "cell_type": "code",
   "execution_count": 1,
   "metadata": {
    "collapsed": false
   },
   "outputs": [],
   "source": [
    "from mand.core import Entity, node, getNode\n",
    "from mand.core import ObjectDb, Timestamp, Context, _tr\n",
    "from mand.core import ProfileMonitor, SummaryMonitor\n",
    "from mand.core import find, addFootnote\n",
    "from mand.demos.trading import makeWorld, bookSomeTrades, PnLExplainReport\n",
    "from mand.lib.dbsetup import setUpDb\n",
    "\n",
    "db = ObjectDb()\n",
    "setUpDb(db)"
   ]
  },
  {
   "cell_type": "code",
   "execution_count": 2,
   "metadata": {
    "collapsed": false,
    "scrolled": false
   },
   "outputs": [
    {
     "name": "stdout",
     "output_type": "stream",
     "text": [
      "makeWorld, TopOfTheHouse is: <Entity:/Global/TradingPortfolio/TopOfTheHouse>\n",
      "    # books: 100\n",
      "    # children: 10\n"
     ]
    }
   ],
   "source": [
    "with db:\n",
    "    pWorld = makeWorld()\n",
    "    \n",
    "pAll, bExt, bExt2 = pWorld.children()\n",
    "p1 = pAll.children()[0]\n",
    "p2 = pAll.children()[1]\n",
    "p4 = pAll.children()[3]\n",
    "\n",
    "b2 = p2.children()[0]\n",
    "b4 = p4.children()[0]"
   ]
  },
  {
   "cell_type": "code",
   "execution_count": 3,
   "metadata": {
    "collapsed": false
   },
   "outputs": [],
   "source": [
    "ts0, ts1, ts2, ts3, ts4, ts5, eod, ts6 = bookSomeTrades(pWorld)\n",
    "\n",
    "p1.setChildren(p1.children() + [b2])\n",
    "ts7 = Timestamp()"
   ]
  },
  {
   "cell_type": "markdown",
   "metadata": {},
   "source": [
    "# Sanity check of a computation we might want to optimize [Test]\n",
    "\n",
    "The PnL report is a good test, but at 152K getValues, it's a bit too big to immediately use:"
   ]
  },
  {
   "cell_type": "code",
   "execution_count": 4,
   "metadata": {
    "collapsed": false,
    "scrolled": false
   },
   "outputs": [
    {
     "data": {
      "text/markdown": [
       "# PnL explain for TopOfTheHouse: 6256.00"
      ],
      "text/plain": [
       "<IPython.core.display.Markdown object>"
      ]
     },
     "metadata": {},
     "output_type": "display_data"
    },
    {
     "data": {
      "text/markdown": [
       "**Caveat: this report encountered problems. See footnotes at bottom.**"
      ],
      "text/plain": [
       "<IPython.core.display.Markdown object>"
      ]
     },
     "metadata": {},
     "output_type": "display_data"
    },
    {
     "data": {
      "text/markdown": [
       "|Activity|PnL|\n",
       "|-|-|\n",
       "|Starting balance breaks|0.00\n",
       "|prior day amends: MarketData|0.00\n",
       "|prior day amends: Portfolio|0.00\n",
       "|prior day amends: Trading|-4.00\n",
       "|activity: MarketData|5240.00\n",
       "|activity: Portfolio|1020.00\n",
       "|activity: Trading|0.00\n",
       "|Ending balance breaks|0.00"
      ],
      "text/plain": [
       "<IPython.core.display.Markdown object>"
      ]
     },
     "metadata": {},
     "output_type": "display_data"
    },
    {
     "data": {
      "text/markdown": [
       "1. Inadequate cash discounting model used\n",
       "1. Book appears multiple times\n",
       "  * /Global/TradingBook/Eq-Inst0"
      ],
      "text/plain": [
       "<IPython.core.display.Markdown object>"
      ]
     },
     "metadata": {},
     "output_type": "display_data"
    },
    {
     "data": {
      "text/markdown": [
       "# Compute activity summary (17.36 seconds of wall clock time)"
      ],
      "text/plain": [
       "<IPython.core.display.Markdown object>"
      ]
     },
     "metadata": {},
     "output_type": "display_data"
    },
    {
     "data": {
      "text/markdown": [
       "|key|value|\n",
       "|-|-|\n",
       "|Context|11\n",
       "|Db.Get|2176\n",
       "|GetValue|152158\n",
       "|GetValue/Calc|2891"
      ],
      "text/plain": [
       "<IPython.core.display.Markdown object>"
      ]
     },
     "metadata": {},
     "output_type": "display_data"
    },
    {
     "data": {
      "text/markdown": [
       "\n",
       "### Profile by nodes.\n",
       "* times are in microseconds\n",
       "* cumT is total time spent in funtion\n",
       "* calcT is time spent in function, but not in a child node"
      ],
      "text/plain": [
       "<IPython.core.display.Markdown object>"
      ]
     },
     "metadata": {},
     "output_type": "display_data"
    },
    {
     "data": {
      "text/markdown": [
       "|fn|n|cumT|calcT|cumT/call|sys|\n",
       "|-|-|-|-|-|-|\n",
       "|PnLExplainReport:data|1|17,352,117|19|17,352,117|GetValue\n",
       "|PnLExplainReport:data|1|17,352,097|466|17,352,097|GetValue/Calc\n",
       "|TradingContainer:NPV|11|17,290,362|140|1,571,851|GetValue\n",
       "|TradingContainer:NPV|11|17,290,222|90|1,571,838|GetValue/Calc\n",
       "|Portfolio:items|121|17,148,273|1,238|141,721|GetValue\n",
       "|Portfolio:items|121|17,148,172|836|141,720|GetValue/Calc\n",
       "|Workbook:items|1,104|16,291,932|11,296|14,757|GetValue\n",
       "|Workbook:items|1,100|16,280,636|8,502|14,800|GetValue/Calc\n",
       "|PnLExplainReport:cutoffs|1|9,486,394|19|9,486,394|GetValue\n",
       "|PnLExplainReport:cutoffs|1|9,486,375|177|9,486,375|GetValue/Calc\n",
       "|Root:Clocks|548|9,486,102|1,778,244|17,310|Context\n",
       "|TradeOpenEvent|1,014|3,935,155|3,935,155|3,880|Db.Get\n",
       "|TradeOpenEvent:ticket|22,286|3,246,092|117,636|145|GetValue\n",
       "|TradingTicket|1,014|3,128,456|3,128,456|3,085|Db.Get\n",
       "|Root:Activity Portfolio|263|1,025,349|949,454|3,898|Context\n",
       "|Root:Amend Trading|255|987,178|911,222|3,871|Context\n",
       "|Root:Amend MarketData|255|950,186|724,833|3,726|Context\n",
       "|Root:Start breaks|255|919,655|842,674|3,606|Context\n",
       "|Portfolio:children|242|817,417|1,604|3,377|GetValue\n",
       "|Portfolio:children|121|815,813|877|6,742|GetValue/Calc\n",
       "|Root:End|278|804,567|730,975|2,894|Context\n",
       "|Root:Activity Trading|263|798,818|724,747|3,037|Context\n",
       "|Root:Start|270|798,677|725,737|2,958|Context\n",
       "|Root:Activity MarketData|255|795,306|719,569|3,118|Context\n",
       "|Root:Amend Portfolio|255|779,738|706,446|3,057|Context\n",
       "|PortfolioUpdateEvent:children|121|346,174|2,583|2,860|GetValue\n",
       "|TradingBook|102|318,845|318,845|3,125|Db.Get\n",
       "|_WorkItemEvent:book2|22,286|264,310|257,578|11|GetValue\n",
       "|Equity:NPV|15|139,909|164|9,327|GetValue\n",
       "|Equity:NPV|15|139,744|110|9,316|GetValue/Calc\n",
       "|MarketInterface:spot|15|132,454|136|8,830|GetValue\n",
       "|MarketInterface:spot|15|132,317|107|8,821|GetValue/Calc\n",
       "|ExternalRefData:state|15|124,582|132|8,305|GetValue\n",
       "|ExternalRefData:state|15|124,449|101|8,296|GetValue/Calc\n",
       "|RefData:state|15|124,003|132|8,266|GetValue\n",
       "|RefData:state|15|123,871|105|8,258|GetValue/Calc\n",
       "|_WorkItemEvent:book1|22,286|109,482|109,482|4|GetValue\n",
       "|TradeOpenEvent:quantity|22,286|99,231|99,231|4|GetValue\n",
       "|Clock:cutoffs|2,480|91,268|9,130|36|GetValue\n",
       "|Clock:cutoffs|20|82,207|150|4,110|GetValue/Calc\n",
       "|Clock:parent|20|81,317|190|4,065|GetValue\n",
       "|Clock:parent|20|81,126|154|4,056|GetValue/Calc\n",
       "|_WorkItemEvent:item|11,143|79,890|72,577|7|GetValue\n",
       "|TradeOpenEvent:action|11,143|73,160|73,160|6|GetValue\n",
       "|TradeOpenEvent:premium|11,143|70,994|66,817|6|GetValue\n",
       "|TradeOpenEvent:unitPrice|11,143|59,837|59,837|5|GetValue\n",
       "|Event:amends|11,340|57,520|57,520|5|GetValue\n",
       "|TradingBook:clock|2,200|51,151|18,809|23|GetValue\n",
       "|PortfolioUpdateEvent|12|47,556|47,556|3,963|Db.Get\n",
       "|RefDataUpdateEvent|9|32,874|32,874|3,652|Db.Get\n",
       "|TradingBook:clock|1,100|32,341|10,658|29|GetValue/Calc\n",
       "|TradingPortfolio|10|31,477|31,477|3,147|Db.Get\n",
       "|Clock|5|17,490|17,490|3,498|Db.Get\n",
       "|Portfolio:clock|242|8,693|2,090|35|GetValue\n",
       "|Portfolio:books|231|7,509|1,663|32|GetValue\n",
       "|Equity|2|7,313|7,313|3,656|Db.Get\n",
       "|ClockEvent|2|7,246|7,246|3,623|Db.Get\n",
       "|MarketInterface:source|15|6,943|124|462|GetValue\n",
       "|MarketInterface:source|15|6,819|103|454|GetValue/Calc\n",
       "|Equity:refdata|15|6,653|145|443|GetValue\n",
       "|Portfolio:clock|121|6,602|1,154|54|GetValue/Calc\n",
       "|Equity:refdata|15|6,507|103|433|GetValue/Calc\n",
       "|Portfolio:books|121|6,219|857|51|GetValue/Calc\n",
       "|ClockEvent:parent|8|6,123|88|765|GetValue\n",
       "|MarketInterface|2|5,878|5,878|2,939|Db.Get\n",
       "|MarketDataSource|2|5,791|5,791|2,895|Db.Get\n",
       "|RootClock|1|5,733|5,733|5,733|Db.Get\n",
       "|ForwardCashflow|1|4,177|4,177|4,177|Db.Get\n",
       "|MarketDataSource:clock|30|3,799|240|126|GetValue\n",
       "|MarketDataSource:clock|15|3,559|141|237|GetValue/Calc\n",
       "|Entity:clock|40|864|371|21|GetValue\n",
       "|Entity:clock|20|493|195|24|GetValue/Calc\n",
       "|MarketInterface:sourceName|15|332|142|22|GetValue\n",
       "|ForwardCashflow:NPV|11|328|134|29|GetValue\n",
       "|RefDataUpdateEvent:data|58|273|273|4|GetValue\n",
       "|RootClock:cutoffs|53|266|195|5|GetValue\n",
       "|ForwardCashflow:NPV|11|193|79|17|GetValue/Calc\n",
       "|MarketInterface:sourceName|15|189|113|12|GetValue/Calc\n",
       "|Equity:assetName|15|104|104|6|GetValue\n",
       "|RootClock:cutoffs|1|71|36|71|GetValue/Calc\n",
       "|RootClock:cosmicAll|1|20|10|20|GetValue\n",
       "|PnLExplainReport:valuable|2|14|14|7|GetValue\n",
       "|CosmicAll:dbState|1|14|9|14|GetValue\n",
       "|PnLExplainReport:ts1|2|11|11|5|GetValue\n",
       "|PnLExplainReport:ts2|2|11|11|5|GetValue\n",
       "|RootClock:cosmicAll|1|9|9|9|GetValue/Calc\n",
       "|CosmicAll:dbState|1|5|5|5|GetValue/Calc"
      ],
      "text/plain": [
       "<IPython.core.display.Markdown object>"
      ]
     },
     "metadata": {},
     "output_type": "display_data"
    }
   ],
   "source": [
    "db3 = db.copy()\n",
    "p = db3._get(pAll.meta.path())\n",
    "\n",
    "r = PnLExplainReport(valuable=p, ts1=eod, ts2=ts7)\n",
    "\n",
    "with ProfileMonitor():\n",
    "    with SummaryMonitor():\n",
    "        r.run()"
   ]
  },
  {
   "cell_type": "markdown",
   "metadata": {},
   "source": [
    "# Caching/Reusing results\n",
    "\n",
    "Until now, we have just checked to see if the current context contains a value for a node we are asking for, and if so, reuse that.\n",
    "\n",
    "A better approach to caching bound *fn* on *object* in *context0* is:\n",
    "    \n",
    "1. Has fn been tweaked in context0? If so, return that\n",
    "2. Is fn sufficiently trivial that we can avoid managing it as a node?\n",
    "  * If trivial, just treat it as a pure python function and call it\n",
    "  * Meta-data (inputs, outputs, etc) will be given to its caller and callees as appropriate\n",
    "3. Ask object for context1\n",
    "  * *context1* is a simplified version of *context0*\n",
    "  * The default case is just to return *context1*\n",
    "  * IRL, this could actually be a list of contexts or a pattern to match contexts against\n",
    "4. Is fn cached in *context1*? If so, use that\n",
    "5. Compute *fn* in *context1*\n",
    "6. Construct *context2* from the inputs of the computed value\n",
    "7. If *context2* is a subset of *context1*, cache *fn* in *context1*\n",
    "8. Something odd happened\n",
    "  * Footnote the problem as part of computation notes on the node's metadata\n",
    "  * Maybe cache the node anyway in *context2*\n",
    "    * Perhaps *object* will return *context2* as a siplification for future computations?\n",
    "9. Return the value\n",
    "\n",
    "Notes:\n",
    "* Parallel compute of nodes not considered yet\n",
    "* Context simplification (step 3) and input simplification (step 9) are probably intimately related\n",
    "* The split between calculation and caching is nice:\n",
    "  * BAs can write business logic\n",
    "  * Computer scientists can add caching logic where needed\n",
    "* We can use a profiler type object to gather runtime compute cost infomation\n",
    "  * The resulting trace can be used as input to drive step 2 and step 3\n",
    "    "
   ]
  },
  {
   "cell_type": "code",
   "execution_count": 5,
   "metadata": {
    "collapsed": false,
    "scrolled": false
   },
   "outputs": [
    {
     "name": "stdout",
     "output_type": "stream",
     "text": [
      "40.85\n"
     ]
    },
    {
     "data": {
      "text/markdown": [
       "# Compute activity summary (0.14 seconds of wall clock time)"
      ],
      "text/plain": [
       "<IPython.core.display.Markdown object>"
      ]
     },
     "metadata": {},
     "output_type": "display_data"
    },
    {
     "data": {
      "text/markdown": [
       "|key|value|\n",
       "|-|-|\n",
       "|Context|1\n",
       "|Db.Get|35\n",
       "|GetValue|185\n",
       "|GetValue/Calc|24"
      ],
      "text/plain": [
       "<IPython.core.display.Markdown object>"
      ]
     },
     "metadata": {},
     "output_type": "display_data"
    },
    {
     "name": "stdout",
     "output_type": "stream",
     "text": [
      "<Node: /Global/TradingBook/Rates0.(TradingContainer:NPV)() in Root:4485922712 @4785282512 T=False>, nIn=3\n",
      "   <Node: /Global/Equity/2377c7fd-196f-4313-9b60-9c449acaf560.(Equity:NPV)() in Root:4485922712 @4596269712 T=False>, nIn=2\n",
      "      <Node: /Global/Equity/2377c7fd-196f-4313-9b60-9c449acaf560.(Equity:refdata)() in Root:4485922712 @4596269840 T=False>, nIn=1\n",
      "         <Node: /Global/Equity/2377c7fd-196f-4313-9b60-9c449acaf560.(Equity:assetName)() in Root:4485922712 @4596269968 T=False>, nIn=0\n",
      "      <Node: /Global/MarketInterface/GOOG.(MarketInterface:spot)() in Root:4485922712 @4596270736 T=True>, nIn=2\n",
      "         <Node: /Global/MarketDataSource/source1.GOOG.(ExternalRefData:state)() in Root:4485922712 @4596272016 T=False>, nIn=1\n",
      "            <Node: /Global/MarketDataSource/source1.GOOG.(RefData:state)() in Root:4485922712 @4596272400 T=False>, nIn=10\n",
      "               <Node: /Global/Clock/MarketData.(Clock:cutoffs)() in Root:4485922712 @4573765072 T=True>, nIn=2\n",
      "                  <Node: /Global/Clock/MarketData.(Clock:parent)() in Root:4485922712 @4573764176 T=False>, nIn=4\n",
      "                     <Node: /Global/Clock/MarketData.(Entity:clock)() in Root:4485922712 @4635574544 T=False>, nIn=0\n",
      "                     <Node: /Global/ClockEvent/a3965ba1-a213-44b5-a3fc-ec3f7ea0edf2.(ClockEvent:parent)() in Root:4485922712 @4635574352 T=False>, nIn=0\n",
      "                     <Node: /Global/ClockEvent/a3965ba1-a213-44b5-a3fc-ec3f7ea0edf2.(Event:amends)() in Root:4485922712 @4635574672 T=False>, nIn=0\n",
      "                     <Node: /Global/RootClock/Main.(RootClock:cutoffs)() in Root:4485922712 @4785282256 T=True>, nIn=0\n",
      "                  <Node: /Global/Clock/RefData.(Clock:cutoffs)() in Root:4485922712 @4635575632 T=True>, nIn=2\n",
      "                     <Node: /Global/Clock/RefData.(Clock:parent)() in Root:4485922712 @4635575504 T=False>, nIn=2\n",
      "                        <Node: /Global/Clock/RefData.(Entity:clock)() in Root:4485922712 @4635576720 T=False>, nIn=0\n",
      "                        <Node: /Global/RootClock/Main.(RootClock:cutoffs)() in Root:4485922712 @4785282256 T=True>, nIn=0\n",
      "                     <Node: /Global/RootClock/Main.(RootClock:cutoffs)() in Root:4485922712 @4785282256 T=True>, nIn=0\n",
      "               <Node: /Global/MarketDataSource/source1.GOOG.(MarketDataSource:clock)() in Root:4485922712 @4615615504 T=False>, nIn=0\n",
      "               <Node: /Global/RefDataUpdateEvent/1d7ebbe3-d7d1-4042-941a-b6a7de7fd19b.(Event:amends)() in Root:4485922712 @4635576912 T=False>, nIn=0\n",
      "               <Node: /Global/RefDataUpdateEvent/1d7ebbe3-d7d1-4042-941a-b6a7de7fd19b.(RefDataUpdateEvent:data)() in Root:4485922712 @4635577296 T=False>, nIn=0\n",
      "               <Node: /Global/RefDataUpdateEvent/3504fa76-d3e7-4cb9-b281-388f22630e9a.(Event:amends)() in Root:4485922712 @4635576592 T=False>, nIn=0\n",
      "               <Node: /Global/RefDataUpdateEvent/3504fa76-d3e7-4cb9-b281-388f22630e9a.(RefDataUpdateEvent:data)() in Root:4485922712 @4635577552 T=False>, nIn=0\n",
      "               <Node: /Global/RefDataUpdateEvent/a6b3dd21-2afb-4690-9903-82c8b20a11ca.(Event:amends)() in Root:4485922712 @4635576976 T=False>, nIn=0\n",
      "               <Node: /Global/RefDataUpdateEvent/a6b3dd21-2afb-4690-9903-82c8b20a11ca.(RefDataUpdateEvent:data)() in Root:4485922712 @4635577424 T=False>, nIn=0\n",
      "               <Node: /Global/RefDataUpdateEvent/afda716a-b38f-4528-bab3-1362f019ef79.(Event:amends)() in Root:4485922712 @4635575952 T=False>, nIn=0\n",
      "               <Node: /Global/RefDataUpdateEvent/afda716a-b38f-4528-bab3-1362f019ef79.(RefDataUpdateEvent:data)() in Root:4485922712 @4635577168 T=False>, nIn=0\n",
      "         <Node: /Global/MarketInterface/GOOG.(MarketInterface:source)() in Root:4485922712 @4596271056 T=False>, nIn=1\n",
      "            <Node: /Global/MarketInterface/GOOG.(MarketInterface:sourceName)() in Root:4485922712 @4596270928 T=False>, nIn=0\n",
      "   <Node: /Global/ForwardCashflow/ba3e3ea3-00fe-4edf-abb5-d0de3f639768.(ForwardCashflow:NPV)() in Root:4485922712 @4635577616 T=False>, nIn=0\n",
      "   <Node: /Global/TradingBook/Rates0.(Workbook:items)() in Root:4485922712 @4785282064 T=False>, nIn=92\n",
      "      <Node: /Global/Clock/Trading.(Clock:cutoffs)() in Root:4485922712 @4573764304 T=True>, nIn=2\n",
      "         <Node: /Global/Clock/Trading.(Clock:parent)() in Root:4485922712 @4573765328 T=False>, nIn=4\n",
      "            <Node: /Global/Clock/Trading.(Entity:clock)() in Root:4485922712 @4573763280 T=False>, nIn=0\n",
      "            <Node: /Global/ClockEvent/29e94771-de41-40ed-b3dd-8f50a339425f.(ClockEvent:parent)() in Root:4485922712 @4573762896 T=False>, nIn=0\n",
      "            <Node: /Global/ClockEvent/29e94771-de41-40ed-b3dd-8f50a339425f.(Event:amends)() in Root:4485922712 @4573762768 T=False>, nIn=0\n",
      "            <Node: /Global/RootClock/Main.(RootClock:cutoffs)() in Root:4485922712 @4785282256 T=True>, nIn=0\n",
      "         <Node: /Global/Clock/Workflow.(Clock:cutoffs)() in Root:4485922712 @4573761744 T=True>, nIn=2\n",
      "            <Node: /Global/Clock/Workflow.(Clock:parent)() in Root:4485922712 @4785282128 T=False>, nIn=2\n",
      "               <Node: /Global/Clock/Workflow.(Entity:clock)() in Root:4485922712 @4517334352 T=False>, nIn=0\n",
      "               <Node: /Global/RootClock/Main.(RootClock:cutoffs)() in Root:4485922712 @4785282256 T=True>, nIn=0\n",
      "            <Node: /Global/RootClock/Main.(RootClock:cutoffs)() in Root:4485922712 @4785282256 T=True>, nIn=0\n",
      "      <Node: /Global/TradeOpenEvent/31060b9d-2ec1-4115-a5b3-b56e1f5bf811.(Event:amends)() in Root:4485922712 @4785101776 T=False>, nIn=0\n",
      "      <Node: /Global/TradeOpenEvent/31060b9d-2ec1-4115-a5b3-b56e1f5bf811.(TradeOpenEvent:action)() in Root:4485922712 @4573762576 T=False>, nIn=0\n",
      "      <Node: /Global/TradeOpenEvent/31060b9d-2ec1-4115-a5b3-b56e1f5bf811.(TradeOpenEvent:premium)() in Root:4485922712 @4615616336 T=False>, nIn=0\n",
      "      <Node: /Global/TradeOpenEvent/31060b9d-2ec1-4115-a5b3-b56e1f5bf811.(TradeOpenEvent:quantity)() in Root:4485922712 @4573763024 T=False>, nIn=0\n",
      "      <Node: /Global/TradeOpenEvent/31060b9d-2ec1-4115-a5b3-b56e1f5bf811.(TradeOpenEvent:ticket)() in Root:4485922712 @4573762192 T=False>, nIn=0\n",
      "      <Node: /Global/TradeOpenEvent/31060b9d-2ec1-4115-a5b3-b56e1f5bf811.(TradeOpenEvent:unitPrice)() in Root:4485922712 @4573762064 T=False>, nIn=0\n",
      "      <Node: /Global/TradeOpenEvent/31060b9d-2ec1-4115-a5b3-b56e1f5bf811.(_WorkItemEvent:book1)() in Root:4485922712 @4573763408 T=False>, nIn=0\n",
      "      <Node: /Global/TradeOpenEvent/31060b9d-2ec1-4115-a5b3-b56e1f5bf811.(_WorkItemEvent:book2)() in Root:4485922712 @4573764112 T=False>, nIn=0\n",
      "      <Node: /Global/TradeOpenEvent/31060b9d-2ec1-4115-a5b3-b56e1f5bf811.(_WorkItemEvent:item)() in Root:4485922712 @4573764560 T=False>, nIn=0\n",
      "      <Node: /Global/TradeOpenEvent/4cddcb07-98d7-4901-9e95-71f46b8e1946.(Event:amends)() in Root:4485922712 @4785174288 T=False>, nIn=0\n",
      "      <Node: /Global/TradeOpenEvent/4cddcb07-98d7-4901-9e95-71f46b8e1946.(TradeOpenEvent:action)() in Root:4485922712 @4785173968 T=False>, nIn=0\n",
      "      <Node: /Global/TradeOpenEvent/4cddcb07-98d7-4901-9e95-71f46b8e1946.(TradeOpenEvent:premium)() in Root:4485922712 @4784600400 T=False>, nIn=0\n",
      "      <Node: /Global/TradeOpenEvent/4cddcb07-98d7-4901-9e95-71f46b8e1946.(TradeOpenEvent:quantity)() in Root:4485922712 @4785173776 T=False>, nIn=0\n",
      "      <Node: /Global/TradeOpenEvent/4cddcb07-98d7-4901-9e95-71f46b8e1946.(TradeOpenEvent:ticket)() in Root:4485922712 @4785172944 T=False>, nIn=0\n",
      "      <Node: /Global/TradeOpenEvent/4cddcb07-98d7-4901-9e95-71f46b8e1946.(TradeOpenEvent:unitPrice)() in Root:4485922712 @4785175696 T=False>, nIn=0\n",
      "      <Node: /Global/TradeOpenEvent/4cddcb07-98d7-4901-9e95-71f46b8e1946.(_WorkItemEvent:book1)() in Root:4485922712 @4784851920 T=False>, nIn=0\n",
      "      <Node: /Global/TradeOpenEvent/4cddcb07-98d7-4901-9e95-71f46b8e1946.(_WorkItemEvent:book2)() in Root:4485922712 @4784781776 T=False>, nIn=0\n",
      "      <Node: /Global/TradeOpenEvent/4cddcb07-98d7-4901-9e95-71f46b8e1946.(_WorkItemEvent:item)() in Root:4485922712 @4785033936 T=False>, nIn=0\n",
      "      <Node: /Global/TradeOpenEvent/a6d03a2c-082f-4c7e-ae5b-c5b3683cfbf6.(Event:amends)() in Root:4485922712 @4785174224 T=False>, nIn=0\n",
      "      <Node: /Global/TradeOpenEvent/a6d03a2c-082f-4c7e-ae5b-c5b3683cfbf6.(TradeOpenEvent:action)() in Root:4485922712 @4576270352 T=False>, nIn=0\n",
      "      <Node: /Global/TradeOpenEvent/a6d03a2c-082f-4c7e-ae5b-c5b3683cfbf6.(TradeOpenEvent:premium)() in Root:4485922712 @4576271440 T=False>, nIn=0\n",
      "      <Node: /Global/TradeOpenEvent/a6d03a2c-082f-4c7e-ae5b-c5b3683cfbf6.(TradeOpenEvent:quantity)() in Root:4485922712 @4576270608 T=False>, nIn=0\n",
      "      <Node: /Global/TradeOpenEvent/a6d03a2c-082f-4c7e-ae5b-c5b3683cfbf6.(TradeOpenEvent:ticket)() in Root:4485922712 @4576270736 T=False>, nIn=0\n",
      "      <Node: /Global/TradeOpenEvent/a6d03a2c-082f-4c7e-ae5b-c5b3683cfbf6.(TradeOpenEvent:unitPrice)() in Root:4485922712 @4576270480 T=False>, nIn=0\n",
      "      <Node: /Global/TradeOpenEvent/a6d03a2c-082f-4c7e-ae5b-c5b3683cfbf6.(_WorkItemEvent:book1)() in Root:4485922712 @4576271568 T=False>, nIn=0\n",
      "      <Node: /Global/TradeOpenEvent/a6d03a2c-082f-4c7e-ae5b-c5b3683cfbf6.(_WorkItemEvent:book2)() in Root:4485922712 @4576271376 T=False>, nIn=0\n",
      "      <Node: /Global/TradeOpenEvent/a6d03a2c-082f-4c7e-ae5b-c5b3683cfbf6.(_WorkItemEvent:item)() in Root:4485922712 @4576271696 T=False>, nIn=0\n",
      "      <Node: /Global/TradeOpenEvent/afb3e887-a52f-40b2-8260-d6a9c64bfa40.(Event:amends)() in Root:4485922712 @4785281360 T=False>, nIn=0\n",
      "      <Node: /Global/TradeOpenEvent/afb3e887-a52f-40b2-8260-d6a9c64bfa40.(TradeOpenEvent:action)() in Root:4485922712 @4576271248 T=False>, nIn=0\n",
      "      <Node: /Global/TradeOpenEvent/afb3e887-a52f-40b2-8260-d6a9c64bfa40.(TradeOpenEvent:premium)() in Root:4485922712 @4582416656 T=False>, nIn=0\n",
      "      <Node: /Global/TradeOpenEvent/afb3e887-a52f-40b2-8260-d6a9c64bfa40.(TradeOpenEvent:quantity)() in Root:4485922712 @4576270800 T=False>, nIn=0\n",
      "      <Node: /Global/TradeOpenEvent/afb3e887-a52f-40b2-8260-d6a9c64bfa40.(TradeOpenEvent:ticket)() in Root:4485922712 @4576269008 T=False>, nIn=0\n",
      "      <Node: /Global/TradeOpenEvent/afb3e887-a52f-40b2-8260-d6a9c64bfa40.(TradeOpenEvent:unitPrice)() in Root:4485922712 @4576270928 T=False>, nIn=0\n",
      "      <Node: /Global/TradeOpenEvent/afb3e887-a52f-40b2-8260-d6a9c64bfa40.(_WorkItemEvent:book1)() in Root:4485922712 @4582417232 T=False>, nIn=0\n",
      "      <Node: /Global/TradeOpenEvent/afb3e887-a52f-40b2-8260-d6a9c64bfa40.(_WorkItemEvent:book2)() in Root:4485922712 @4582417168 T=False>, nIn=0\n",
      "      <Node: /Global/TradeOpenEvent/afb3e887-a52f-40b2-8260-d6a9c64bfa40.(_WorkItemEvent:item)() in Root:4485922712 @4582416784 T=False>, nIn=0\n",
      "      <Node: /Global/TradeOpenEvent/b3bb781b-f613-47d0-b5ed-de830a37ca4d.(Event:amends)() in Root:4485922712 @4785174928 T=False>, nIn=0\n",
      "      <Node: /Global/TradeOpenEvent/b3bb781b-f613-47d0-b5ed-de830a37ca4d.(TradeOpenEvent:action)() in Root:4485922712 @4576268432 T=False>, nIn=0\n",
      "      <Node: /Global/TradeOpenEvent/b3bb781b-f613-47d0-b5ed-de830a37ca4d.(TradeOpenEvent:premium)() in Root:4485922712 @4576269648 T=False>, nIn=0\n",
      "      <Node: /Global/TradeOpenEvent/b3bb781b-f613-47d0-b5ed-de830a37ca4d.(TradeOpenEvent:quantity)() in Root:4485922712 @4576268496 T=False>, nIn=0\n",
      "      <Node: /Global/TradeOpenEvent/b3bb781b-f613-47d0-b5ed-de830a37ca4d.(TradeOpenEvent:ticket)() in Root:4485922712 @4576268688 T=False>, nIn=0\n",
      "      <Node: /Global/TradeOpenEvent/b3bb781b-f613-47d0-b5ed-de830a37ca4d.(TradeOpenEvent:unitPrice)() in Root:4485922712 @4576268752 T=False>, nIn=0\n",
      "      <Node: /Global/TradeOpenEvent/b3bb781b-f613-47d0-b5ed-de830a37ca4d.(_WorkItemEvent:book1)() in Root:4485922712 @4576269776 T=False>, nIn=0\n",
      "      <Node: /Global/TradeOpenEvent/b3bb781b-f613-47d0-b5ed-de830a37ca4d.(_WorkItemEvent:book2)() in Root:4485922712 @4576269584 T=False>, nIn=0\n",
      "      <Node: /Global/TradeOpenEvent/b3bb781b-f613-47d0-b5ed-de830a37ca4d.(_WorkItemEvent:item)() in Root:4485922712 @4576269904 T=False>, nIn=0\n",
      "      <Node: /Global/TradeOpenEvent/bcf01a5e-ab03-4ebe-bc10-0d3a77383e6e.(Event:amends)() in Root:4485922712 @4785101200 T=False>, nIn=0\n",
      "      <Node: /Global/TradeOpenEvent/bcf01a5e-ab03-4ebe-bc10-0d3a77383e6e.(TradeOpenEvent:action)() in Root:4485922712 @4785033424 T=False>, nIn=0\n",
      "      <Node: /Global/TradeOpenEvent/bcf01a5e-ab03-4ebe-bc10-0d3a77383e6e.(TradeOpenEvent:premium)() in Root:4485922712 @4573761872 T=False>, nIn=0\n",
      "      <Node: /Global/TradeOpenEvent/bcf01a5e-ab03-4ebe-bc10-0d3a77383e6e.(TradeOpenEvent:quantity)() in Root:4485922712 @4785033360 T=False>, nIn=0\n",
      "      <Node: /Global/TradeOpenEvent/bcf01a5e-ab03-4ebe-bc10-0d3a77383e6e.(TradeOpenEvent:ticket)() in Root:4485922712 @4785172624 T=False>, nIn=0\n",
      "      <Node: /Global/TradeOpenEvent/bcf01a5e-ab03-4ebe-bc10-0d3a77383e6e.(TradeOpenEvent:unitPrice)() in Root:4485922712 @4785033808 T=False>, nIn=0\n",
      "      <Node: /Global/TradeOpenEvent/bcf01a5e-ab03-4ebe-bc10-0d3a77383e6e.(_WorkItemEvent:book1)() in Root:4485922712 @4785280080 T=False>, nIn=0\n",
      "      <Node: /Global/TradeOpenEvent/bcf01a5e-ab03-4ebe-bc10-0d3a77383e6e.(_WorkItemEvent:book2)() in Root:4485922712 @4573762256 T=False>, nIn=0\n",
      "      <Node: /Global/TradeOpenEvent/bcf01a5e-ab03-4ebe-bc10-0d3a77383e6e.(_WorkItemEvent:item)() in Root:4485922712 @4785280016 T=False>, nIn=0\n",
      "      <Node: /Global/TradeOpenEvent/c6440cad-ab2d-43c8-9283-25814c633dde.(Event:amends)() in Root:4485922712 @4785282000 T=False>, nIn=0\n",
      "      <Node: /Global/TradeOpenEvent/c6440cad-ab2d-43c8-9283-25814c633dde.(TradeOpenEvent:action)() in Root:4485922712 @4582417488 T=False>, nIn=0\n",
      "      <Node: /Global/TradeOpenEvent/c6440cad-ab2d-43c8-9283-25814c633dde.(TradeOpenEvent:premium)() in Root:4485922712 @4582418576 T=False>, nIn=0\n",
      "      <Node: /Global/TradeOpenEvent/c6440cad-ab2d-43c8-9283-25814c633dde.(TradeOpenEvent:quantity)() in Root:4485922712 @4582417744 T=False>, nIn=0\n",
      "      <Node: /Global/TradeOpenEvent/c6440cad-ab2d-43c8-9283-25814c633dde.(TradeOpenEvent:ticket)() in Root:4485922712 @4582417872 T=False>, nIn=0\n",
      "      <Node: /Global/TradeOpenEvent/c6440cad-ab2d-43c8-9283-25814c633dde.(TradeOpenEvent:unitPrice)() in Root:4485922712 @4582417616 T=False>, nIn=0\n",
      "      <Node: /Global/TradeOpenEvent/c6440cad-ab2d-43c8-9283-25814c633dde.(_WorkItemEvent:book1)() in Root:4485922712 @4582418704 T=False>, nIn=0\n",
      "      <Node: /Global/TradeOpenEvent/c6440cad-ab2d-43c8-9283-25814c633dde.(_WorkItemEvent:book2)() in Root:4485922712 @4582418512 T=False>, nIn=0\n",
      "      <Node: /Global/TradeOpenEvent/c6440cad-ab2d-43c8-9283-25814c633dde.(_WorkItemEvent:item)() in Root:4485922712 @4582418832 T=False>, nIn=0\n",
      "      <Node: /Global/TradeOpenEvent/e0e6297c-7c9e-4af8-94de-a96f2eb15af6.(Event:amends)() in Root:4485922712 @4785102096 T=False>, nIn=0\n",
      "      <Node: /Global/TradeOpenEvent/e0e6297c-7c9e-4af8-94de-a96f2eb15af6.(TradeOpenEvent:action)() in Root:4485922712 @4576272144 T=False>, nIn=0\n",
      "      <Node: /Global/TradeOpenEvent/e0e6297c-7c9e-4af8-94de-a96f2eb15af6.(TradeOpenEvent:premium)() in Root:4485922712 @4784894160 T=False>, nIn=0\n",
      "      <Node: /Global/TradeOpenEvent/e0e6297c-7c9e-4af8-94de-a96f2eb15af6.(TradeOpenEvent:quantity)() in Root:4485922712 @4582416464 T=False>, nIn=0\n",
      "      <Node: /Global/TradeOpenEvent/e0e6297c-7c9e-4af8-94de-a96f2eb15af6.(TradeOpenEvent:ticket)() in Root:4485922712 @4582416592 T=False>, nIn=0\n",
      "      <Node: /Global/TradeOpenEvent/e0e6297c-7c9e-4af8-94de-a96f2eb15af6.(TradeOpenEvent:unitPrice)() in Root:4485922712 @4576272272 T=False>, nIn=0\n",
      "      <Node: /Global/TradeOpenEvent/e0e6297c-7c9e-4af8-94de-a96f2eb15af6.(_WorkItemEvent:book1)() in Root:4485922712 @4784781392 T=False>, nIn=0\n",
      "      <Node: /Global/TradeOpenEvent/e0e6297c-7c9e-4af8-94de-a96f2eb15af6.(_WorkItemEvent:book2)() in Root:4485922712 @4784894672 T=False>, nIn=0\n",
      "      <Node: /Global/TradeOpenEvent/e0e6297c-7c9e-4af8-94de-a96f2eb15af6.(_WorkItemEvent:item)() in Root:4485922712 @4784781840 T=False>, nIn=0\n",
      "      <Node: /Global/TradeOpenEvent/e6e8b645-e1be-4db9-95bb-a27fb6be2db7.(Event:amends)() in Root:4485922712 @4785282768 T=False>, nIn=0\n",
      "      <Node: /Global/TradeOpenEvent/e6e8b645-e1be-4db9-95bb-a27fb6be2db7.(TradeOpenEvent:action)() in Root:4485922712 @4615615440 T=False>, nIn=0\n",
      "      <Node: /Global/TradeOpenEvent/e6e8b645-e1be-4db9-95bb-a27fb6be2db7.(TradeOpenEvent:premium)() in Root:4485922712 @4576269200 T=False>, nIn=0\n",
      "      <Node: /Global/TradeOpenEvent/e6e8b645-e1be-4db9-95bb-a27fb6be2db7.(TradeOpenEvent:quantity)() in Root:4485922712 @4615617232 T=False>, nIn=0\n",
      "      <Node: /Global/TradeOpenEvent/e6e8b645-e1be-4db9-95bb-a27fb6be2db7.(TradeOpenEvent:ticket)() in Root:4485922712 @4615614736 T=False>, nIn=0\n",
      "      <Node: /Global/TradeOpenEvent/e6e8b645-e1be-4db9-95bb-a27fb6be2db7.(TradeOpenEvent:unitPrice)() in Root:4485922712 @4615614800 T=False>, nIn=0\n",
      "      <Node: /Global/TradeOpenEvent/e6e8b645-e1be-4db9-95bb-a27fb6be2db7.(_WorkItemEvent:book1)() in Root:4485922712 @4615616016 T=False>, nIn=0\n",
      "      <Node: /Global/TradeOpenEvent/e6e8b645-e1be-4db9-95bb-a27fb6be2db7.(_WorkItemEvent:book2)() in Root:4485922712 @4576269264 T=False>, nIn=0\n",
      "      <Node: /Global/TradeOpenEvent/e6e8b645-e1be-4db9-95bb-a27fb6be2db7.(_WorkItemEvent:item)() in Root:4485922712 @4615617488 T=False>, nIn=0\n",
      "      <Node: /Global/TradeOpenEvent/e96e7f8d-d7d0-40ca-834b-c7be2e073ad2.(Event:amends)() in Root:4485922712 @4785280656 T=False>, nIn=0\n",
      "      <Node: /Global/TradeOpenEvent/e96e7f8d-d7d0-40ca-834b-c7be2e073ad2.(TradeOpenEvent:action)() in Root:4485922712 @4582419280 T=False>, nIn=0\n",
      "      <Node: /Global/TradeOpenEvent/e96e7f8d-d7d0-40ca-834b-c7be2e073ad2.(TradeOpenEvent:premium)() in Root:4485922712 @4596269520 T=False>, nIn=0\n",
      "      <Node: /Global/TradeOpenEvent/e96e7f8d-d7d0-40ca-834b-c7be2e073ad2.(TradeOpenEvent:quantity)() in Root:4485922712 @4582419536 T=False>, nIn=0\n",
      "      <Node: /Global/TradeOpenEvent/e96e7f8d-d7d0-40ca-834b-c7be2e073ad2.(TradeOpenEvent:ticket)() in Root:4485922712 @4582419664 T=False>, nIn=0\n",
      "      <Node: /Global/TradeOpenEvent/e96e7f8d-d7d0-40ca-834b-c7be2e073ad2.(TradeOpenEvent:unitPrice)() in Root:4485922712 @4582419408 T=False>, nIn=0\n",
      "      <Node: /Global/TradeOpenEvent/e96e7f8d-d7d0-40ca-834b-c7be2e073ad2.(_WorkItemEvent:book1)() in Root:4485922712 @4596269264 T=False>, nIn=0\n",
      "      <Node: /Global/TradeOpenEvent/e96e7f8d-d7d0-40ca-834b-c7be2e073ad2.(_WorkItemEvent:book2)() in Root:4485922712 @4596269136 T=False>, nIn=0\n",
      "      <Node: /Global/TradeOpenEvent/e96e7f8d-d7d0-40ca-834b-c7be2e073ad2.(_WorkItemEvent:item)() in Root:4485922712 @4596269328 T=False>, nIn=0\n",
      "      <Node: /Global/TradingBook/Rates0.(TradingBook:clock)() in Root:4485922712 @4615615632 T=False>, nIn=0\n"
     ]
    }
   ],
   "source": [
    "dba = db.copy()\n",
    "valuable = dba.get(b4.meta.path())\n",
    "\n",
    "clock = valuable.getObj(_tr.RootClock, 'Main')\n",
    "with SummaryMonitor():\n",
    "    with Context({clock.cutoffs: ts7}):\n",
    "        print valuable.NPV()\n",
    "        node = getNode(valuable.NPV)\n",
    "node.printInputGraph()"
   ]
  },
  {
   "cell_type": "markdown",
   "metadata": {
    "collapsed": true
   },
   "source": [
    "# Graph Simplification\n",
    "\n",
    "* Very simple input management simplifier: ignore inputs if they are leaves and not tweakable\n",
    "* Simple context simplification: just switch to a simple context for certain known methods"
   ]
  },
  {
   "cell_type": "code",
   "execution_count": 6,
   "metadata": {
    "collapsed": false,
    "scrolled": false
   },
   "outputs": [
    {
     "name": "stdout",
     "output_type": "stream",
     "text": [
      "40.85\n",
      "<Node: /Global/TradingBook/Rates0.(TradingContainer:NPV)() in Root:4485922712 @4654306256 T=False>, nIn=3\n",
      "   <Node: /Global/Clock/Trading.(Clock:cutoffs)() in Root:4485922712 @4674287888 T=True>, nIn=2\n",
      "      <Node: /Global/Clock/Trading.(Clock:parent)() in Root:4485922712 @4674287952 T=False>, nIn=1\n",
      "         <Node: /Global/RootClock/Main.(RootClock:cutoffs)() in Root:4485922712 @4654306064 T=True>, nIn=0\n",
      "      <Node: /Global/Clock/Workflow.(Clock:cutoffs)() in Root:4485922712 @4654308304 T=True>, nIn=2\n",
      "         <Node: /Global/Clock/Workflow.(Clock:parent)() in Root:4485922712 @4654308176 T=False>, nIn=1\n",
      "            <Node: /Global/RootClock/Main.(RootClock:cutoffs)() in Root:4485922712 @4654306064 T=True>, nIn=0\n",
      "         <Node: /Global/RootClock/Main.(RootClock:cutoffs)() in Root:4485922712 @4654306064 T=True>, nIn=0\n",
      "   <Node: /Global/Equity/2377c7fd-196f-4313-9b60-9c449acaf560.(Equity:NPV)() in Root:4485922712 @4585100176 T=False>, nIn=1\n",
      "      <Node: /Global/MarketInterface/GOOG.(MarketInterface:spot)() in Root:4485922712 @4585101200 T=True>, nIn=1\n",
      "         <Node: /Global/MarketDataSource/source1.GOOG.(ExternalRefData:state)() in Root:4485922712 @4585102480 T=False>, nIn=2\n",
      "            <Node: /Global/Clock/MarketData.(Clock:cutoffs)() in Root:4485922712 @4593094928 T=True>, nIn=2\n",
      "               <Node: /Global/Clock/MarketData.(Clock:parent)() in Root:4485922712 @4593095312 T=False>, nIn=1\n",
      "                  <Node: /Global/RootClock/Main.(RootClock:cutoffs)() in Root:4485922712 @4654306064 T=True>, nIn=0\n",
      "               <Node: /Global/Clock/RefData.(Clock:cutoffs)() in Root:4485922712 @4593098000 T=True>, nIn=2\n",
      "                  <Node: /Global/Clock/RefData.(Clock:parent)() in Root:4485922712 @4593097872 T=False>, nIn=1\n",
      "                     <Node: /Global/RootClock/Main.(RootClock:cutoffs)() in Root:4485922712 @4654306064 T=True>, nIn=0\n",
      "                  <Node: /Global/RootClock/Main.(RootClock:cutoffs)() in Root:4485922712 @4654306064 T=True>, nIn=0\n",
      "            <Node: /Global/MarketDataSource/source1.GOOG.(RefData:state)() in Root:4485922712:4485922712 @4593097616 T=False>, nIn=1\n",
      "               <Node: /Global/Clock/MarketData.(Clock:cutoffs)() in Root:4485922712:4485922712 @4593095440 T=True>, nIn=0\n",
      "   <Node: /Global/TradingBook/Rates0.(Workbook:items)() in Root:4485922712:4485922712 @4654308624 T=False>, nIn=1\n",
      "      <Node: /Global/Clock/Trading.(Clock:cutoffs)() in Root:4485922712:4485922712 @4692009040 T=True>, nIn=0\n"
     ]
    }
   ],
   "source": [
    "from mand.graph import DependencyManager, setDependencyManager\n",
    "from mand.core import Event\n",
    "\n",
    "class DM1(DependencyManager):\n",
    "    \n",
    "    def __init__(self):\n",
    "        self.contexts = {}\n",
    "        self.simpleClockMethods = ('Workbook:items', 'RefData:state', 'Portfolio:children', 'Portfolio:items')\n",
    "        super(DM1, self).__init__()\n",
    "        \n",
    "    def addDep(self, input, output):\n",
    "        if not input.key.tweakable:\n",
    "            if not input.inputs:\n",
    "                return\n",
    "        output.inputs.add(input)\n",
    "        input.outputs.add(output)\n",
    "\n",
    "\n",
    "    def calculated(self, node):\n",
    "        if not node.isSimplified:\n",
    "            return\n",
    "        for input in node.inputs:\n",
    "            if input not in node.ctx.tweaks:\n",
    "                addFootnote(text='context simplification failure', info='%s used %s' % (str(node.key), str(input.key)))\n",
    "                  \n",
    "    def getCtx(self, clock):\n",
    "        ts = clock.cutoffs()\n",
    "        cKey = (clock, ts) # really want value-based comparison of ts, not object equality\n",
    "        if cKey not in self.contexts:\n",
    "            self.contexts[cKey] = Context({clock.cutoffs: ts})\n",
    "        return self.contexts[cKey]\n",
    "            \n",
    "    def getNode(self, ctx, key):\n",
    "        n = ctx._get(key)\n",
    "        if n:\n",
    "            return n\n",
    "        if key.fullName() in self.simpleClockMethods:\n",
    "            obj = key.object()\n",
    "            ctx1 = self.getCtx(obj.clock())\n",
    "            ret = ctx1.get(key)\n",
    "            ret.isSimplified = True\n",
    "        else:\n",
    "            ret = super(DM1, self).getNode(ctx, key)\n",
    "            ret.isSimplified = False\n",
    "        return ret\n",
    "    \n",
    "setDependencyManager(DM1())\n",
    "\n",
    "db4 = db.copy()\n",
    "valuable = db4.get(b4.meta.path())\n",
    "\n",
    "clock = valuable.getObj(_tr.RootClock, 'Main')\n",
    "with Context({clock.cutoffs: ts7}):\n",
    "    print valuable.NPV()\n",
    "    node = getNode(valuable.NPV)\n",
    "    node.printInputGraph()"
   ]
  },
  {
   "cell_type": "code",
   "execution_count": 7,
   "metadata": {
    "collapsed": false,
    "scrolled": false
   },
   "outputs": [
    {
     "data": {
      "text/markdown": [
       "# PnL explain for TopOfTheHouse: 6256.00"
      ],
      "text/plain": [
       "<IPython.core.display.Markdown object>"
      ]
     },
     "metadata": {},
     "output_type": "display_data"
    },
    {
     "data": {
      "text/markdown": [
       "**Caveat: this report encountered problems. See footnotes at bottom.**"
      ],
      "text/plain": [
       "<IPython.core.display.Markdown object>"
      ]
     },
     "metadata": {},
     "output_type": "display_data"
    },
    {
     "data": {
      "text/markdown": [
       "|Activity|PnL|\n",
       "|-|-|\n",
       "|Starting balance breaks|0.00\n",
       "|prior day amends: MarketData|0.00\n",
       "|prior day amends: Portfolio|0.00\n",
       "|prior day amends: Trading|0.00\n",
       "|activity: MarketData|5240.00\n",
       "|activity: Portfolio|1016.00\n",
       "|activity: Trading|0.00\n",
       "|Ending balance breaks|0.00"
      ],
      "text/plain": [
       "<IPython.core.display.Markdown object>"
      ]
     },
     "metadata": {},
     "output_type": "display_data"
    },
    {
     "data": {
      "text/markdown": [
       "1. context simplification failure\n",
       "  * <NodeKey:<Entity:/Global/TradingPortfolio/Commod>.(Portfolio:items) ()> used <NodeKey:<Entity:/Global/Clock/Trading>.(Clock:cutoffs) ()>\n",
       "  * <NodeKey:<Entity:/Global/TradingPortfolio/Commod>.(Portfolio:items) ()> used <NodeKey:<Entity:/Global/TradingBook/Commod0>.(Workbook:items) ()>\n",
       "  * <NodeKey:<Entity:/Global/TradingPortfolio/Commod>.(Portfolio:items) ()> used <NodeKey:<Entity:/Global/TradingBook/Commod1>.(Workbook:items) ()>\n",
       "  * <NodeKey:<Entity:/Global/TradingPortfolio/Commod>.(Portfolio:items) ()> used <NodeKey:<Entity:/Global/TradingBook/Commod2>.(Workbook:items) ()>\n",
       "  * <NodeKey:<Entity:/Global/TradingPortfolio/Commod>.(Portfolio:items) ()> used <NodeKey:<Entity:/Global/TradingBook/Commod3>.(Workbook:items) ()>\n",
       "  * <NodeKey:<Entity:/Global/TradingPortfolio/Commod>.(Portfolio:items) ()> used <NodeKey:<Entity:/Global/TradingBook/Commod4>.(Workbook:items) ()>\n",
       "  * <NodeKey:<Entity:/Global/TradingPortfolio/Commod>.(Portfolio:items) ()> used <NodeKey:<Entity:/Global/TradingBook/Commod5>.(Workbook:items) ()>\n",
       "  * <NodeKey:<Entity:/Global/TradingPortfolio/Commod>.(Portfolio:items) ()> used <NodeKey:<Entity:/Global/TradingBook/Commod6>.(Workbook:items) ()>\n",
       "  * <NodeKey:<Entity:/Global/TradingPortfolio/Commod>.(Portfolio:items) ()> used <NodeKey:<Entity:/Global/TradingBook/Commod7>.(Workbook:items) ()>\n",
       "  * <NodeKey:<Entity:/Global/TradingPortfolio/Commod>.(Portfolio:items) ()> used <NodeKey:<Entity:/Global/TradingBook/Commod8>.(Workbook:items) ()>\n",
       "  * <NodeKey:<Entity:/Global/TradingPortfolio/Commod>.(Portfolio:items) ()> used <NodeKey:<Entity:/Global/TradingBook/Commod9>.(Workbook:items) ()>\n",
       "  * <NodeKey:<Entity:/Global/TradingPortfolio/Commod>.(Portfolio:items) ()> used <NodeKey:<Entity:/Global/TradingPortfolio/Commod>.(Portfolio:books) ()>\n",
       "  * <NodeKey:<Entity:/Global/TradingPortfolio/Commod>.(Portfolio:items) ()> used <NodeKey:<Entity:/Global/TradingPortfolio/Commod>.(Portfolio:children) ()>\n",
       "  * <NodeKey:<Entity:/Global/TradingPortfolio/Credit>.(Portfolio:items) ()> used <NodeKey:<Entity:/Global/Clock/Trading>.(Clock:cutoffs) ()>\n",
       "  * <NodeKey:<Entity:/Global/TradingPortfolio/Credit>.(Portfolio:items) ()> used <NodeKey:<Entity:/Global/TradingBook/Credit0>.(Workbook:items) ()>\n",
       "  * <NodeKey:<Entity:/Global/TradingPortfolio/Credit>.(Portfolio:items) ()> used <NodeKey:<Entity:/Global/TradingBook/Credit1>.(Workbook:items) ()>\n",
       "  * <NodeKey:<Entity:/Global/TradingPortfolio/Credit>.(Portfolio:items) ()> used <NodeKey:<Entity:/Global/TradingBook/Credit2>.(Workbook:items) ()>\n",
       "  * <NodeKey:<Entity:/Global/TradingPortfolio/Credit>.(Portfolio:items) ()> used <NodeKey:<Entity:/Global/TradingBook/Credit3>.(Workbook:items) ()>\n",
       "  * <NodeKey:<Entity:/Global/TradingPortfolio/Credit>.(Portfolio:items) ()> used <NodeKey:<Entity:/Global/TradingBook/Credit4>.(Workbook:items) ()>\n",
       "  * <NodeKey:<Entity:/Global/TradingPortfolio/Credit>.(Portfolio:items) ()> used <NodeKey:<Entity:/Global/TradingBook/Credit5>.(Workbook:items) ()>\n",
       "  * <NodeKey:<Entity:/Global/TradingPortfolio/Credit>.(Portfolio:items) ()> used <NodeKey:<Entity:/Global/TradingBook/Credit6>.(Workbook:items) ()>\n",
       "  * <NodeKey:<Entity:/Global/TradingPortfolio/Credit>.(Portfolio:items) ()> used <NodeKey:<Entity:/Global/TradingBook/Credit7>.(Workbook:items) ()>\n",
       "  * <NodeKey:<Entity:/Global/TradingPortfolio/Credit>.(Portfolio:items) ()> used <NodeKey:<Entity:/Global/TradingBook/Credit8>.(Workbook:items) ()>\n",
       "  * <NodeKey:<Entity:/Global/TradingPortfolio/Credit>.(Portfolio:items) ()> used <NodeKey:<Entity:/Global/TradingBook/Credit9>.(Workbook:items) ()>\n",
       "  * <NodeKey:<Entity:/Global/TradingPortfolio/Credit>.(Portfolio:items) ()> used <NodeKey:<Entity:/Global/TradingPortfolio/Credit>.(Portfolio:books) ()>\n",
       "  * <NodeKey:<Entity:/Global/TradingPortfolio/Credit>.(Portfolio:items) ()> used <NodeKey:<Entity:/Global/TradingPortfolio/Credit>.(Portfolio:children) ()>\n",
       "  * <NodeKey:<Entity:/Global/TradingPortfolio/Delta1>.(Portfolio:items) ()> used <NodeKey:<Entity:/Global/Clock/Trading>.(Clock:cutoffs) ()>\n",
       "  * <NodeKey:<Entity:/Global/TradingPortfolio/Delta1>.(Portfolio:items) ()> used <NodeKey:<Entity:/Global/TradingBook/Delta10>.(Workbook:items) ()>\n",
       "  * <NodeKey:<Entity:/Global/TradingPortfolio/Delta1>.(Portfolio:items) ()> used <NodeKey:<Entity:/Global/TradingBook/Delta11>.(Workbook:items) ()>\n",
       "  * <NodeKey:<Entity:/Global/TradingPortfolio/Delta1>.(Portfolio:items) ()> used <NodeKey:<Entity:/Global/TradingBook/Delta12>.(Workbook:items) ()>\n",
       "  * <NodeKey:<Entity:/Global/TradingPortfolio/Delta1>.(Portfolio:items) ()> used <NodeKey:<Entity:/Global/TradingBook/Delta13>.(Workbook:items) ()>\n",
       "  * <NodeKey:<Entity:/Global/TradingPortfolio/Delta1>.(Portfolio:items) ()> used <NodeKey:<Entity:/Global/TradingBook/Delta14>.(Workbook:items) ()>\n",
       "  * <NodeKey:<Entity:/Global/TradingPortfolio/Delta1>.(Portfolio:items) ()> used <NodeKey:<Entity:/Global/TradingBook/Delta15>.(Workbook:items) ()>\n",
       "  * <NodeKey:<Entity:/Global/TradingPortfolio/Delta1>.(Portfolio:items) ()> used <NodeKey:<Entity:/Global/TradingBook/Delta16>.(Workbook:items) ()>\n",
       "  * <NodeKey:<Entity:/Global/TradingPortfolio/Delta1>.(Portfolio:items) ()> used <NodeKey:<Entity:/Global/TradingBook/Delta17>.(Workbook:items) ()>\n",
       "  * <NodeKey:<Entity:/Global/TradingPortfolio/Delta1>.(Portfolio:items) ()> used <NodeKey:<Entity:/Global/TradingBook/Delta18>.(Workbook:items) ()>\n",
       "  * <NodeKey:<Entity:/Global/TradingPortfolio/Delta1>.(Portfolio:items) ()> used <NodeKey:<Entity:/Global/TradingBook/Delta19>.(Workbook:items) ()>\n",
       "  * <NodeKey:<Entity:/Global/TradingPortfolio/Delta1>.(Portfolio:items) ()> used <NodeKey:<Entity:/Global/TradingPortfolio/Delta1>.(Portfolio:books) ()>\n",
       "  * <NodeKey:<Entity:/Global/TradingPortfolio/Delta1>.(Portfolio:items) ()> used <NodeKey:<Entity:/Global/TradingPortfolio/Delta1>.(Portfolio:children) ()>\n",
       "  * <NodeKey:<Entity:/Global/TradingPortfolio/ETFs>.(Portfolio:items) ()> used <NodeKey:<Entity:/Global/Clock/Trading>.(Clock:cutoffs) ()>\n",
       "  * <NodeKey:<Entity:/Global/TradingPortfolio/ETFs>.(Portfolio:items) ()> used <NodeKey:<Entity:/Global/TradingBook/ETFs0>.(Workbook:items) ()>\n",
       "  * <NodeKey:<Entity:/Global/TradingPortfolio/ETFs>.(Portfolio:items) ()> used <NodeKey:<Entity:/Global/TradingBook/ETFs1>.(Workbook:items) ()>\n",
       "  * <NodeKey:<Entity:/Global/TradingPortfolio/ETFs>.(Portfolio:items) ()> used <NodeKey:<Entity:/Global/TradingBook/ETFs2>.(Workbook:items) ()>\n",
       "  * <NodeKey:<Entity:/Global/TradingPortfolio/ETFs>.(Portfolio:items) ()> used <NodeKey:<Entity:/Global/TradingBook/ETFs3>.(Workbook:items) ()>\n",
       "  * <NodeKey:<Entity:/Global/TradingPortfolio/ETFs>.(Portfolio:items) ()> used <NodeKey:<Entity:/Global/TradingBook/ETFs4>.(Workbook:items) ()>\n",
       "  * <NodeKey:<Entity:/Global/TradingPortfolio/ETFs>.(Portfolio:items) ()> used <NodeKey:<Entity:/Global/TradingBook/ETFs5>.(Workbook:items) ()>\n",
       "  * <NodeKey:<Entity:/Global/TradingPortfolio/ETFs>.(Portfolio:items) ()> used <NodeKey:<Entity:/Global/TradingBook/ETFs6>.(Workbook:items) ()>\n",
       "  * <NodeKey:<Entity:/Global/TradingPortfolio/ETFs>.(Portfolio:items) ()> used <NodeKey:<Entity:/Global/TradingBook/ETFs7>.(Workbook:items) ()>\n",
       "  * <NodeKey:<Entity:/Global/TradingPortfolio/ETFs>.(Portfolio:items) ()> used <NodeKey:<Entity:/Global/TradingBook/ETFs8>.(Workbook:items) ()>\n",
       "  * <NodeKey:<Entity:/Global/TradingPortfolio/ETFs>.(Portfolio:items) ()> used <NodeKey:<Entity:/Global/TradingBook/ETFs9>.(Workbook:items) ()>\n",
       "  * <NodeKey:<Entity:/Global/TradingPortfolio/ETFs>.(Portfolio:items) ()> used <NodeKey:<Entity:/Global/TradingPortfolio/ETFs>.(Portfolio:books) ()>\n",
       "  * <NodeKey:<Entity:/Global/TradingPortfolio/ETFs>.(Portfolio:items) ()> used <NodeKey:<Entity:/Global/TradingPortfolio/ETFs>.(Portfolio:children) ()>\n",
       "  * <NodeKey:<Entity:/Global/TradingPortfolio/Eq-Inst>.(Portfolio:items) ()> used <NodeKey:<Entity:/Global/Clock/Trading>.(Clock:cutoffs) ()>\n",
       "  * <NodeKey:<Entity:/Global/TradingPortfolio/Eq-Inst>.(Portfolio:items) ()> used <NodeKey:<Entity:/Global/TradingBook/Eq-Inst0>.(Workbook:items) ()>\n",
       "  * <NodeKey:<Entity:/Global/TradingPortfolio/Eq-Inst>.(Portfolio:items) ()> used <NodeKey:<Entity:/Global/TradingBook/Eq-Inst1>.(Workbook:items) ()>\n",
       "  * <NodeKey:<Entity:/Global/TradingPortfolio/Eq-Inst>.(Portfolio:items) ()> used <NodeKey:<Entity:/Global/TradingBook/Eq-Inst2>.(Workbook:items) ()>\n",
       "  * <NodeKey:<Entity:/Global/TradingPortfolio/Eq-Inst>.(Portfolio:items) ()> used <NodeKey:<Entity:/Global/TradingBook/Eq-Inst3>.(Workbook:items) ()>\n",
       "  * <NodeKey:<Entity:/Global/TradingPortfolio/Eq-Inst>.(Portfolio:items) ()> used <NodeKey:<Entity:/Global/TradingBook/Eq-Inst4>.(Workbook:items) ()>\n",
       "  * <NodeKey:<Entity:/Global/TradingPortfolio/Eq-Inst>.(Portfolio:items) ()> used <NodeKey:<Entity:/Global/TradingBook/Eq-Inst5>.(Workbook:items) ()>\n",
       "  * <NodeKey:<Entity:/Global/TradingPortfolio/Eq-Inst>.(Portfolio:items) ()> used <NodeKey:<Entity:/Global/TradingBook/Eq-Inst6>.(Workbook:items) ()>\n",
       "  * <NodeKey:<Entity:/Global/TradingPortfolio/Eq-Inst>.(Portfolio:items) ()> used <NodeKey:<Entity:/Global/TradingBook/Eq-Inst7>.(Workbook:items) ()>\n",
       "  * <NodeKey:<Entity:/Global/TradingPortfolio/Eq-Inst>.(Portfolio:items) ()> used <NodeKey:<Entity:/Global/TradingBook/Eq-Inst8>.(Workbook:items) ()>\n",
       "  * <NodeKey:<Entity:/Global/TradingPortfolio/Eq-Inst>.(Portfolio:items) ()> used <NodeKey:<Entity:/Global/TradingBook/Eq-Inst9>.(Workbook:items) ()>\n",
       "  * <NodeKey:<Entity:/Global/TradingPortfolio/Eq-Inst>.(Portfolio:items) ()> used <NodeKey:<Entity:/Global/TradingPortfolio/Eq-Inst>.(Portfolio:books) ()>\n",
       "  * <NodeKey:<Entity:/Global/TradingPortfolio/Eq-Inst>.(Portfolio:items) ()> used <NodeKey:<Entity:/Global/TradingPortfolio/Eq-Inst>.(Portfolio:children) ()>\n",
       "  * <NodeKey:<Entity:/Global/TradingPortfolio/Eq-Prop>.(Portfolio:items) ()> used <NodeKey:<Entity:/Global/Clock/Trading>.(Clock:cutoffs) ()>\n",
       "  * <NodeKey:<Entity:/Global/TradingPortfolio/Eq-Prop>.(Portfolio:items) ()> used <NodeKey:<Entity:/Global/TradingBook/Eq-Inst0>.(Workbook:items) ()>\n",
       "  * <NodeKey:<Entity:/Global/TradingPortfolio/Eq-Prop>.(Portfolio:items) ()> used <NodeKey:<Entity:/Global/TradingBook/Eq-Prop0>.(Workbook:items) ()>\n",
       "  * <NodeKey:<Entity:/Global/TradingPortfolio/Eq-Prop>.(Portfolio:items) ()> used <NodeKey:<Entity:/Global/TradingBook/Eq-Prop1>.(Workbook:items) ()>\n",
       "  * <NodeKey:<Entity:/Global/TradingPortfolio/Eq-Prop>.(Portfolio:items) ()> used <NodeKey:<Entity:/Global/TradingBook/Eq-Prop2>.(Workbook:items) ()>\n",
       "  * <NodeKey:<Entity:/Global/TradingPortfolio/Eq-Prop>.(Portfolio:items) ()> used <NodeKey:<Entity:/Global/TradingBook/Eq-Prop3>.(Workbook:items) ()>\n",
       "  * <NodeKey:<Entity:/Global/TradingPortfolio/Eq-Prop>.(Portfolio:items) ()> used <NodeKey:<Entity:/Global/TradingBook/Eq-Prop4>.(Workbook:items) ()>\n",
       "  * <NodeKey:<Entity:/Global/TradingPortfolio/Eq-Prop>.(Portfolio:items) ()> used <NodeKey:<Entity:/Global/TradingBook/Eq-Prop5>.(Workbook:items) ()>\n",
       "  * <NodeKey:<Entity:/Global/TradingPortfolio/Eq-Prop>.(Portfolio:items) ()> used <NodeKey:<Entity:/Global/TradingBook/Eq-Prop6>.(Workbook:items) ()>\n",
       "  * <NodeKey:<Entity:/Global/TradingPortfolio/Eq-Prop>.(Portfolio:items) ()> used <NodeKey:<Entity:/Global/TradingBook/Eq-Prop7>.(Workbook:items) ()>\n",
       "  * <NodeKey:<Entity:/Global/TradingPortfolio/Eq-Prop>.(Portfolio:items) ()> used <NodeKey:<Entity:/Global/TradingBook/Eq-Prop8>.(Workbook:items) ()>\n",
       "  * <NodeKey:<Entity:/Global/TradingPortfolio/Eq-Prop>.(Portfolio:items) ()> used <NodeKey:<Entity:/Global/TradingBook/Eq-Prop9>.(Workbook:items) ()>\n",
       "  * <NodeKey:<Entity:/Global/TradingPortfolio/Eq-Prop>.(Portfolio:items) ()> used <NodeKey:<Entity:/Global/TradingPortfolio/Eq-Prop>.(Portfolio:books) ()>\n",
       "  * <NodeKey:<Entity:/Global/TradingPortfolio/Eq-Prop>.(Portfolio:items) ()> used <NodeKey:<Entity:/Global/TradingPortfolio/Eq-Prop>.(Portfolio:children) ()>\n",
       "  * <NodeKey:<Entity:/Global/TradingPortfolio/FX>.(Portfolio:items) ()> used <NodeKey:<Entity:/Global/Clock/Trading>.(Clock:cutoffs) ()>\n",
       "  * <NodeKey:<Entity:/Global/TradingPortfolio/FX>.(Portfolio:items) ()> used <NodeKey:<Entity:/Global/TradingBook/FX0>.(Workbook:items) ()>\n",
       "  * <NodeKey:<Entity:/Global/TradingPortfolio/FX>.(Portfolio:items) ()> used <NodeKey:<Entity:/Global/TradingBook/FX1>.(Workbook:items) ()>\n",
       "  * <NodeKey:<Entity:/Global/TradingPortfolio/FX>.(Portfolio:items) ()> used <NodeKey:<Entity:/Global/TradingBook/FX2>.(Workbook:items) ()>\n",
       "  * <NodeKey:<Entity:/Global/TradingPortfolio/FX>.(Portfolio:items) ()> used <NodeKey:<Entity:/Global/TradingBook/FX3>.(Workbook:items) ()>\n",
       "  * <NodeKey:<Entity:/Global/TradingPortfolio/FX>.(Portfolio:items) ()> used <NodeKey:<Entity:/Global/TradingBook/FX4>.(Workbook:items) ()>\n",
       "  * <NodeKey:<Entity:/Global/TradingPortfolio/FX>.(Portfolio:items) ()> used <NodeKey:<Entity:/Global/TradingBook/FX5>.(Workbook:items) ()>\n",
       "  * <NodeKey:<Entity:/Global/TradingPortfolio/FX>.(Portfolio:items) ()> used <NodeKey:<Entity:/Global/TradingBook/FX6>.(Workbook:items) ()>\n",
       "  * <NodeKey:<Entity:/Global/TradingPortfolio/FX>.(Portfolio:items) ()> used <NodeKey:<Entity:/Global/TradingBook/FX7>.(Workbook:items) ()>\n",
       "  * <NodeKey:<Entity:/Global/TradingPortfolio/FX>.(Portfolio:items) ()> used <NodeKey:<Entity:/Global/TradingBook/FX8>.(Workbook:items) ()>\n",
       "  * <NodeKey:<Entity:/Global/TradingPortfolio/FX>.(Portfolio:items) ()> used <NodeKey:<Entity:/Global/TradingBook/FX9>.(Workbook:items) ()>\n",
       "  * <NodeKey:<Entity:/Global/TradingPortfolio/FX>.(Portfolio:items) ()> used <NodeKey:<Entity:/Global/TradingPortfolio/FX>.(Portfolio:books) ()>\n",
       "  * <NodeKey:<Entity:/Global/TradingPortfolio/FX>.(Portfolio:items) ()> used <NodeKey:<Entity:/Global/TradingPortfolio/FX>.(Portfolio:children) ()>\n",
       "  * <NodeKey:<Entity:/Global/TradingPortfolio/Loans>.(Portfolio:items) ()> used <NodeKey:<Entity:/Global/Clock/Trading>.(Clock:cutoffs) ()>\n",
       "  * <NodeKey:<Entity:/Global/TradingPortfolio/Loans>.(Portfolio:items) ()> used <NodeKey:<Entity:/Global/TradingBook/Loans0>.(Workbook:items) ()>\n",
       "  * <NodeKey:<Entity:/Global/TradingPortfolio/Loans>.(Portfolio:items) ()> used <NodeKey:<Entity:/Global/TradingBook/Loans1>.(Workbook:items) ()>\n",
       "  * <NodeKey:<Entity:/Global/TradingPortfolio/Loans>.(Portfolio:items) ()> used <NodeKey:<Entity:/Global/TradingBook/Loans2>.(Workbook:items) ()>\n",
       "  * <NodeKey:<Entity:/Global/TradingPortfolio/Loans>.(Portfolio:items) ()> used <NodeKey:<Entity:/Global/TradingBook/Loans3>.(Workbook:items) ()>\n",
       "  * <NodeKey:<Entity:/Global/TradingPortfolio/Loans>.(Portfolio:items) ()> used <NodeKey:<Entity:/Global/TradingBook/Loans4>.(Workbook:items) ()>\n",
       "  * <NodeKey:<Entity:/Global/TradingPortfolio/Loans>.(Portfolio:items) ()> used <NodeKey:<Entity:/Global/TradingBook/Loans5>.(Workbook:items) ()>\n",
       "  * <NodeKey:<Entity:/Global/TradingPortfolio/Loans>.(Portfolio:items) ()> used <NodeKey:<Entity:/Global/TradingBook/Loans6>.(Workbook:items) ()>\n",
       "  * <NodeKey:<Entity:/Global/TradingPortfolio/Loans>.(Portfolio:items) ()> used <NodeKey:<Entity:/Global/TradingBook/Loans7>.(Workbook:items) ()>\n",
       "  * <NodeKey:<Entity:/Global/TradingPortfolio/Loans>.(Portfolio:items) ()> used <NodeKey:<Entity:/Global/TradingBook/Loans8>.(Workbook:items) ()>\n",
       "  * <NodeKey:<Entity:/Global/TradingPortfolio/Loans>.(Portfolio:items) ()> used <NodeKey:<Entity:/Global/TradingBook/Loans9>.(Workbook:items) ()>\n",
       "  * <NodeKey:<Entity:/Global/TradingPortfolio/Loans>.(Portfolio:items) ()> used <NodeKey:<Entity:/Global/TradingPortfolio/Loans>.(Portfolio:books) ()>\n",
       "  * <NodeKey:<Entity:/Global/TradingPortfolio/Loans>.(Portfolio:items) ()> used <NodeKey:<Entity:/Global/TradingPortfolio/Loans>.(Portfolio:children) ()>\n",
       "  * <NodeKey:<Entity:/Global/TradingPortfolio/Mtge>.(Portfolio:items) ()> used <NodeKey:<Entity:/Global/Clock/Trading>.(Clock:cutoffs) ()>\n",
       "  * <NodeKey:<Entity:/Global/TradingPortfolio/Mtge>.(Portfolio:items) ()> used <NodeKey:<Entity:/Global/TradingBook/Mtge0>.(Workbook:items) ()>\n",
       "  * <NodeKey:<Entity:/Global/TradingPortfolio/Mtge>.(Portfolio:items) ()> used <NodeKey:<Entity:/Global/TradingBook/Mtge1>.(Workbook:items) ()>\n",
       "  * <NodeKey:<Entity:/Global/TradingPortfolio/Mtge>.(Portfolio:items) ()> used <NodeKey:<Entity:/Global/TradingBook/Mtge2>.(Workbook:items) ()>\n",
       "  * <NodeKey:<Entity:/Global/TradingPortfolio/Mtge>.(Portfolio:items) ()> used <NodeKey:<Entity:/Global/TradingBook/Mtge3>.(Workbook:items) ()>\n",
       "  * <NodeKey:<Entity:/Global/TradingPortfolio/Mtge>.(Portfolio:items) ()> used <NodeKey:<Entity:/Global/TradingBook/Mtge4>.(Workbook:items) ()>\n",
       "  * <NodeKey:<Entity:/Global/TradingPortfolio/Mtge>.(Portfolio:items) ()> used <NodeKey:<Entity:/Global/TradingBook/Mtge5>.(Workbook:items) ()>\n",
       "  * <NodeKey:<Entity:/Global/TradingPortfolio/Mtge>.(Portfolio:items) ()> used <NodeKey:<Entity:/Global/TradingBook/Mtge6>.(Workbook:items) ()>\n",
       "  * <NodeKey:<Entity:/Global/TradingPortfolio/Mtge>.(Portfolio:items) ()> used <NodeKey:<Entity:/Global/TradingBook/Mtge7>.(Workbook:items) ()>\n",
       "  * <NodeKey:<Entity:/Global/TradingPortfolio/Mtge>.(Portfolio:items) ()> used <NodeKey:<Entity:/Global/TradingBook/Mtge8>.(Workbook:items) ()>\n",
       "  * <NodeKey:<Entity:/Global/TradingPortfolio/Mtge>.(Portfolio:items) ()> used <NodeKey:<Entity:/Global/TradingBook/Mtge9>.(Workbook:items) ()>\n",
       "  * <NodeKey:<Entity:/Global/TradingPortfolio/Mtge>.(Portfolio:items) ()> used <NodeKey:<Entity:/Global/TradingPortfolio/Mtge>.(Portfolio:books) ()>\n",
       "  * <NodeKey:<Entity:/Global/TradingPortfolio/Mtge>.(Portfolio:items) ()> used <NodeKey:<Entity:/Global/TradingPortfolio/Mtge>.(Portfolio:children) ()>\n",
       "  * <NodeKey:<Entity:/Global/TradingPortfolio/Rates>.(Portfolio:items) ()> used <NodeKey:<Entity:/Global/Clock/Trading>.(Clock:cutoffs) ()>\n",
       "  * <NodeKey:<Entity:/Global/TradingPortfolio/Rates>.(Portfolio:items) ()> used <NodeKey:<Entity:/Global/TradingBook/Rates0>.(Workbook:items) ()>\n",
       "  * <NodeKey:<Entity:/Global/TradingPortfolio/Rates>.(Portfolio:items) ()> used <NodeKey:<Entity:/Global/TradingBook/Rates1>.(Workbook:items) ()>\n",
       "  * <NodeKey:<Entity:/Global/TradingPortfolio/Rates>.(Portfolio:items) ()> used <NodeKey:<Entity:/Global/TradingBook/Rates2>.(Workbook:items) ()>\n",
       "  * <NodeKey:<Entity:/Global/TradingPortfolio/Rates>.(Portfolio:items) ()> used <NodeKey:<Entity:/Global/TradingBook/Rates3>.(Workbook:items) ()>\n",
       "  * <NodeKey:<Entity:/Global/TradingPortfolio/Rates>.(Portfolio:items) ()> used <NodeKey:<Entity:/Global/TradingBook/Rates4>.(Workbook:items) ()>\n",
       "  * <NodeKey:<Entity:/Global/TradingPortfolio/Rates>.(Portfolio:items) ()> used <NodeKey:<Entity:/Global/TradingBook/Rates5>.(Workbook:items) ()>\n",
       "  * <NodeKey:<Entity:/Global/TradingPortfolio/Rates>.(Portfolio:items) ()> used <NodeKey:<Entity:/Global/TradingBook/Rates6>.(Workbook:items) ()>\n",
       "  * <NodeKey:<Entity:/Global/TradingPortfolio/Rates>.(Portfolio:items) ()> used <NodeKey:<Entity:/Global/TradingBook/Rates7>.(Workbook:items) ()>\n",
       "  * <NodeKey:<Entity:/Global/TradingPortfolio/Rates>.(Portfolio:items) ()> used <NodeKey:<Entity:/Global/TradingBook/Rates8>.(Workbook:items) ()>\n",
       "  * <NodeKey:<Entity:/Global/TradingPortfolio/Rates>.(Portfolio:items) ()> used <NodeKey:<Entity:/Global/TradingBook/Rates9>.(Workbook:items) ()>\n",
       "  * <NodeKey:<Entity:/Global/TradingPortfolio/Rates>.(Portfolio:items) ()> used <NodeKey:<Entity:/Global/TradingPortfolio/Rates>.(Portfolio:books) ()>\n",
       "  * <NodeKey:<Entity:/Global/TradingPortfolio/Rates>.(Portfolio:items) ()> used <NodeKey:<Entity:/Global/TradingPortfolio/Rates>.(Portfolio:children) ()>\n",
       "  * <NodeKey:<Entity:/Global/TradingPortfolio/TopOfTheHouse>.(Portfolio:items) ()> used <NodeKey:<Entity:/Global/TradingPortfolio/Commod>.(Portfolio:items) ()>\n",
       "  * <NodeKey:<Entity:/Global/TradingPortfolio/TopOfTheHouse>.(Portfolio:items) ()> used <NodeKey:<Entity:/Global/TradingPortfolio/Credit>.(Portfolio:items) ()>\n",
       "  * <NodeKey:<Entity:/Global/TradingPortfolio/TopOfTheHouse>.(Portfolio:items) ()> used <NodeKey:<Entity:/Global/TradingPortfolio/Delta1>.(Portfolio:items) ()>\n",
       "  * <NodeKey:<Entity:/Global/TradingPortfolio/TopOfTheHouse>.(Portfolio:items) ()> used <NodeKey:<Entity:/Global/TradingPortfolio/ETFs>.(Portfolio:items) ()>\n",
       "  * <NodeKey:<Entity:/Global/TradingPortfolio/TopOfTheHouse>.(Portfolio:items) ()> used <NodeKey:<Entity:/Global/TradingPortfolio/Eq-Inst>.(Portfolio:items) ()>\n",
       "  * <NodeKey:<Entity:/Global/TradingPortfolio/TopOfTheHouse>.(Portfolio:items) ()> used <NodeKey:<Entity:/Global/TradingPortfolio/Eq-Prop>.(Portfolio:items) ()>\n",
       "  * <NodeKey:<Entity:/Global/TradingPortfolio/TopOfTheHouse>.(Portfolio:items) ()> used <NodeKey:<Entity:/Global/TradingPortfolio/FX>.(Portfolio:items) ()>\n",
       "  * <NodeKey:<Entity:/Global/TradingPortfolio/TopOfTheHouse>.(Portfolio:items) ()> used <NodeKey:<Entity:/Global/TradingPortfolio/Loans>.(Portfolio:items) ()>\n",
       "  * <NodeKey:<Entity:/Global/TradingPortfolio/TopOfTheHouse>.(Portfolio:items) ()> used <NodeKey:<Entity:/Global/TradingPortfolio/Mtge>.(Portfolio:items) ()>\n",
       "  * <NodeKey:<Entity:/Global/TradingPortfolio/TopOfTheHouse>.(Portfolio:items) ()> used <NodeKey:<Entity:/Global/TradingPortfolio/Rates>.(Portfolio:items) ()>\n",
       "  * <NodeKey:<Entity:/Global/TradingPortfolio/TopOfTheHouse>.(Portfolio:items) ()> used <NodeKey:<Entity:/Global/TradingPortfolio/TopOfTheHouse>.(Portfolio:books) ()>\n",
       "  * <NodeKey:<Entity:/Global/TradingPortfolio/TopOfTheHouse>.(Portfolio:items) ()> used <NodeKey:<Entity:/Global/TradingPortfolio/TopOfTheHouse>.(Portfolio:children) ()>\n",
       "1. Inadequate cash discounting model used\n",
       "1. Book appears multiple times\n",
       "  * /Global/TradingBook/Eq-Inst0"
      ],
      "text/plain": [
       "<IPython.core.display.Markdown object>"
      ]
     },
     "metadata": {},
     "output_type": "display_data"
    },
    {
     "data": {
      "text/markdown": [
       "# Compute activity summary (9.20 seconds of wall clock time)"
      ],
      "text/plain": [
       "<IPython.core.display.Markdown object>"
      ]
     },
     "metadata": {},
     "output_type": "display_data"
    },
    {
     "data": {
      "text/markdown": [
       "|key|value|\n",
       "|-|-|\n",
       "|Context|19\n",
       "|Db.Get|2176\n",
       "|GetValue|28897\n",
       "|GetValue/Calc|1031"
      ],
      "text/plain": [
       "<IPython.core.display.Markdown object>"
      ]
     },
     "metadata": {},
     "output_type": "display_data"
    },
    {
     "data": {
      "text/markdown": [
       "\n",
       "### Profile by nodes.\n",
       "* times are in microseconds\n",
       "* cumT is total time spent in funtion\n",
       "* calcT is time spent in function, but not in a child node"
      ],
      "text/plain": [
       "<IPython.core.display.Markdown object>"
      ]
     },
     "metadata": {},
     "output_type": "display_data"
    },
    {
     "data": {
      "text/markdown": [
       "|fn|n|cumT|calcT|cumT/call|sys|\n",
       "|-|-|-|-|-|-|\n",
       "|PnLExplainReport:data|1|9,190,831|14|9,190,831|GetValue\n",
       "|PnLExplainReport:data|1|9,190,817|414|9,190,817|GetValue/Calc\n",
       "|TradingContainer:NPV|11|9,183,198|125|834,836|GetValue\n",
       "|TradingContainer:NPV|11|9,183,073|85|834,824|GetValue/Calc\n",
       "|PnLExplainReport:cutoffs|1|9,108,361|15|9,108,361|GetValue\n",
       "|PnLExplainReport:cutoffs|1|9,108,345|150|9,108,345|GetValue/Calc\n",
       "|Root:Clocks|47|9,108,102|23,313|193,789|Context\n",
       "|Portfolio:items|41|9,062,564|5,743|221,038|GetValue\n",
       "|Portfolio:items|33|9,062,153|231|274,610|GetValue/Calc\n",
       "|Root:Clocks:4485922712|306|9,057,461|110,995|29,599|Context\n",
       "|Workbook:items|301|8,528,995|2,330|28,335|GetValue\n",
       "|Workbook:items|200|8,526,665|1,440|42,633|GetValue/Calc\n",
       "|Root:Clocks:4485922712:4485922712|400|8,525,224|1,381,506|21,313|Context\n",
       "|TradeOpenEvent|1,014|3,641,757|3,641,757|3,591|Db.Get\n",
       "|TradeOpenEvent:ticket|4,052|3,358,099|28,190|828|GetValue\n",
       "|TradingTicket|1,014|3,329,908|3,329,908|3,283|Db.Get\n",
       "|Portfolio:children|66|475,061|512|7,197|GetValue\n",
       "|Portfolio:children|33|474,549|252|14,380|GetValue/Calc\n",
       "|PortfolioUpdateEvent:children|33|321,646|1,312|9,746|GetValue\n",
       "|TradingBook|102|296,778|296,778|2,909|Db.Get\n",
       "|Equity:NPV|15|100,033|152|6,668|GetValue\n",
       "|Equity:NPV|15|99,881|98|6,658|GetValue/Calc\n",
       "|MarketInterface:spot|15|91,155|142|6,077|GetValue\n",
       "|MarketInterface:spot|15|91,013|100|6,067|GetValue/Calc\n",
       "|ExternalRefData:state|15|83,510|132|5,567|GetValue\n",
       "|ExternalRefData:state|15|83,378|102|5,558|GetValue/Calc\n",
       "|Clock:cutoffs|870|68,354|3,159|78|GetValue\n",
       "|Clock:cutoffs|16|65,251|112|4,078|GetValue/Calc\n",
       "|Clock:parent|16|64,501|145|4,031|GetValue\n",
       "|Clock:parent|16|64,355|120|4,022|GetValue/Calc\n",
       "|Root:Amend Portfolio|11|48,394|459|4,399|Context\n",
       "|Root:Amend Portfolio:4485922712|144|47,616|42,216|330|Context\n",
       "|RefData:state|15|46,968|81|3,131|GetValue\n",
       "|RefData:state|4|46,886|30|11,721|GetValue/Calc\n",
       "|PortfolioUpdateEvent|12|44,652|44,652|3,721|Db.Get\n",
       "|RefDataUpdateEvent|9|32,030|32,030|3,558|Db.Get\n",
       "|TradingPortfolio|10|29,593|29,593|2,959|Db.Get\n",
       "|_WorkItemEvent:book2|4,052|25,902|19,864|6|GetValue\n",
       "|_WorkItemEvent:item|2,026|21,677|15,870|10|GetValue\n",
       "|_WorkItemEvent:book1|4,052|20,714|20,714|5|GetValue\n",
       "|TradingBook:clock|701|19,349|6,311|27|GetValue\n",
       "|TradeOpenEvent:quantity|4,052|18,383|18,383|4|GetValue\n",
       "|TradeOpenEvent:premium|2,026|15,532|12,573|7|GetValue\n",
       "|Clock|5|15,457|15,457|3,091|Db.Get\n",
       "|TradeOpenEvent:action|2,026|13,913|13,913|6|GetValue\n",
       "|TradingBook:clock|500|13,037|4,142|26|GetValue/Calc\n",
       "|TradeOpenEvent:unitPrice|2,026|10,929|10,929|5|GetValue\n",
       "|Root:Start|20|10,719|10,309|535|Context\n",
       "|Event:amends|2,083|10,490|10,490|5|GetValue\n",
       "|Root:End|27|10,399|9,906|385|Context\n",
       "|Equity:refdata|15|8,086|145|539|GetValue\n",
       "|Equity:refdata|15|7,941|106|529|GetValue/Calc\n",
       "|MarketInterface|2|7,224|7,224|3,612|Db.Get\n",
       "|MarketInterface:source|15|6,834|131|455|GetValue\n",
       "|MarketInterface:source|15|6,702|95|446|GetValue/Calc\n",
       "|ClockEvent|2|6,471|6,471|3,235|Db.Get\n",
       "|ClockEvent:parent|6|5,971|61|995|GetValue\n",
       "|MarketDataSource|2|5,878|5,878|2,939|Db.Get\n",
       "|Equity|2|5,806|5,806|2,903|Db.Get\n",
       "|Portfolio:clock|140|5,472|916|39|GetValue\n",
       "|Portfolio:clock|44|4,555|328|103|GetValue/Calc\n",
       "|Root:Amend MarketData|11|4,529|428|411|Context\n",
       "|RootClock|1|4,402|4,402|4,402|Db.Get\n",
       "|Root:Amend MarketData:4485922712|2|3,906|3,833|1,953|Context\n",
       "|MarketDataSource:clock|23|3,468|199|150|GetValue\n",
       "|MarketDataSource:clock|19|3,268|137|172|GetValue/Calc\n",
       "|ForwardCashflow|1|2,959|2,959|2,959|Db.Get\n",
       "|Portfolio:books|63|1,940|449|30|GetValue\n",
       "|Portfolio:books|33|1,595|219|48|GetValue/Calc\n",
       "|Root:Activity Portfolio|18|996|702|55|Context\n",
       "|Root:Activity Trading|18|882|596|49|Context\n",
       "|Entity:clock|32|628|269|19|GetValue\n",
       "|Root:Start breaks|11|589|411|53|Context\n",
       "|Root:Amend Trading|11|557|385|50|Context\n",
       "|Root:Activity MarketData|11|547|376|49|Context\n",
       "|Entity:clock|16|359|152|22|GetValue/Calc\n",
       "|MarketInterface:sourceName|15|303|130|20|GetValue\n",
       "|ForwardCashflow:NPV|11|297|118|27|GetValue\n",
       "|RootClock:cutoffs|43|230|159|5|GetValue\n",
       "|ForwardCashflow:NPV|11|178|74|16|GetValue/Calc\n",
       "|MarketInterface:sourceName|15|172|99|11|GetValue/Calc\n",
       "|Equity:assetName|15|88|88|5|GetValue\n",
       "|RefDataUpdateEvent:data|15|77|77|5|GetValue\n",
       "|RootClock:cutoffs|1|71|37|71|GetValue/Calc\n",
       "|RootClock:cosmicAll|1|19|11|19|GetValue\n",
       "|CosmicAll:dbState|1|14|10|14|GetValue\n",
       "|PnLExplainReport:ts2|2|12|12|6|GetValue\n",
       "|PnLExplainReport:ts1|2|12|12|6|GetValue\n",
       "|PnLExplainReport:valuable|2|10|10|5|GetValue\n",
       "|RootClock:cosmicAll|1|7|7|7|GetValue/Calc\n",
       "|CosmicAll:dbState|1|4|4|4|GetValue/Calc"
      ],
      "text/plain": [
       "<IPython.core.display.Markdown object>"
      ]
     },
     "metadata": {},
     "output_type": "display_data"
    }
   ],
   "source": [
    "db4 = db.copy()\n",
    "valuable = db4.get(pAll.meta.path())\n",
    "\n",
    "r = PnLExplainReport(valuable=valuable, ts1=eod, ts2=ts7)\n",
    "with ProfileMonitor():\n",
    "    with SummaryMonitor():\n",
    "        r.run()"
   ]
  }
 ],
 "metadata": {
  "kernelspec": {
   "display_name": "Python 2",
   "language": "python",
   "name": "python2"
  },
  "language_info": {
   "codemirror_mode": {
    "name": "ipython",
    "version": 2
   },
   "file_extension": ".py",
   "mimetype": "text/x-python",
   "name": "python",
   "nbconvert_exporter": "python",
   "pygments_lexer": "ipython2",
   "version": "2.7.13"
  }
 },
 "nbformat": 4,
 "nbformat_minor": 2
}
