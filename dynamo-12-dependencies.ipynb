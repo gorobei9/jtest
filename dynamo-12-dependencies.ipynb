{
 "cells": [
  {
   "cell_type": "code",
   "execution_count": 1,
   "metadata": {
    "collapsed": false
   },
   "outputs": [],
   "source": [
    "from mand.core import Entity, node, getNode\n",
    "from mand.core import ObjectDb, Timestamp, Context, _tr\n",
    "from mand.core import ProfileMonitor, SummaryMonitor\n",
    "from mand.core import find, addFootnote\n",
    "from mand.demos.trading import makeWorld, bookSomeTrades, PnLExplainReport\n",
    "from mand.lib.dbsetup import setUpDb\n",
    "\n",
    "db = ObjectDb()\n",
    "setUpDb(db)"
   ]
  },
  {
   "cell_type": "code",
   "execution_count": 2,
   "metadata": {
    "collapsed": false,
    "scrolled": false
   },
   "outputs": [
    {
     "name": "stdout",
     "output_type": "stream",
     "text": [
      "makeWorld, TopOfTheHouse is: <Entity:/Global/TradingPortfolio/TopOfTheHouse>\n",
      "    # books: 100\n",
      "    # children: 10\n"
     ]
    }
   ],
   "source": [
    "with db:\n",
    "    pWorld = makeWorld()\n",
    "    \n",
    "pAll, bExt, bExt2 = pWorld.children()\n",
    "p1 = pAll.children()[0]\n",
    "p2 = pAll.children()[1]\n",
    "p4 = pAll.children()[3]\n",
    "\n",
    "b2 = p2.children()[0]\n",
    "b4 = p4.children()[0]"
   ]
  },
  {
   "cell_type": "code",
   "execution_count": 3,
   "metadata": {
    "collapsed": false
   },
   "outputs": [],
   "source": [
    "ts0, ts1, ts2, ts3, ts4, ts5, eod, ts6 = bookSomeTrades(pWorld)\n",
    "\n",
    "p1.setChildren(p1.children() + [b2])\n",
    "ts7 = Timestamp()"
   ]
  },
  {
   "cell_type": "markdown",
   "metadata": {},
   "source": [
    "# Sanity check of a computation we might want to optimize [Test]\n",
    "\n",
    "The PnL report is a good test, but at 152K getValues, it's a bit too big to immediately use:"
   ]
  },
  {
   "cell_type": "code",
   "execution_count": 4,
   "metadata": {
    "collapsed": false,
    "scrolled": false
   },
   "outputs": [
    {
     "data": {
      "text/markdown": [
       "# PnL explain for TopOfTheHouse: 6256.00"
      ],
      "text/plain": [
       "<IPython.core.display.Markdown object>"
      ]
     },
     "metadata": {},
     "output_type": "display_data"
    },
    {
     "data": {
      "text/markdown": [
       "**Caveat: this report encountered problems. See footnotes at bottom.**"
      ],
      "text/plain": [
       "<IPython.core.display.Markdown object>"
      ]
     },
     "metadata": {},
     "output_type": "display_data"
    },
    {
     "data": {
      "text/markdown": [
       "|Activity|PnL|\n",
       "|-|-|\n",
       "|Starting balance breaks|0.00\n",
       "|prior day amends: MarketData|0.00\n",
       "|prior day amends: Portfolio|0.00\n",
       "|prior day amends: Trading|-4.00\n",
       "|activity: MarketData|5240.00\n",
       "|activity: Portfolio|1020.00\n",
       "|activity: Trading|0.00\n",
       "|Ending balance breaks|0.00"
      ],
      "text/plain": [
       "<IPython.core.display.Markdown object>"
      ]
     },
     "metadata": {},
     "output_type": "display_data"
    },
    {
     "data": {
      "text/markdown": [
       "1. Inadequate cash discounting model used\n",
       "1. Book appears multiple times\n",
       "  * /Global/TradingBook/Eq-Inst0"
      ],
      "text/plain": [
       "<IPython.core.display.Markdown object>"
      ]
     },
     "metadata": {},
     "output_type": "display_data"
    },
    {
     "data": {
      "text/markdown": [
       "# Compute activity summary (18.39 seconds of wall clock time)"
      ],
      "text/plain": [
       "<IPython.core.display.Markdown object>"
      ]
     },
     "metadata": {},
     "output_type": "display_data"
    },
    {
     "data": {
      "text/markdown": [
       "|key|value|\n",
       "|-|-|\n",
       "|Context|11\n",
       "|Db.Get|2176\n",
       "|GetValue|152158\n",
       "|GetValue/Calc|2891"
      ],
      "text/plain": [
       "<IPython.core.display.Markdown object>"
      ]
     },
     "metadata": {},
     "output_type": "display_data"
    },
    {
     "data": {
      "text/markdown": [
       "\n",
       "### Profile by nodes.\n",
       "* times are in microseconds\n",
       "* cumT is total time spent in funtion\n",
       "* calcT is time spent in function, but not in a child node"
      ],
      "text/plain": [
       "<IPython.core.display.Markdown object>"
      ]
     },
     "metadata": {},
     "output_type": "display_data"
    },
    {
     "data": {
      "text/markdown": [
       "|fn|n|cumT|calcT|cumT/call|sys|\n",
       "|-|-|-|-|-|-|\n",
       "|PnLExplainReport:data|1|18,385,082|14|18,385,082|GetValue\n",
       "|PnLExplainReport:data|1|18,385,067|449|18,385,067|GetValue/Calc\n",
       "|TradingContainer:NPV|11|18,325,874|178|1,665,988|GetValue\n",
       "|TradingContainer:NPV|11|18,325,695|98|1,665,972|GetValue/Calc\n",
       "|Portfolio:items|121|18,028,629|1,271|148,996|GetValue\n",
       "|Portfolio:items|121|18,028,524|937|148,996|GetValue/Calc\n",
       "|Workbook:items|1,104|17,134,644|11,818|15,520|GetValue\n",
       "|Workbook:items|1,100|17,122,825|8,744|15,566|GetValue/Calc\n",
       "|PnLExplainReport:cutoffs|1|9,792,665|23|9,792,665|GetValue\n",
       "|PnLExplainReport:cutoffs|1|9,792,642|217|9,792,642|GetValue/Calc\n",
       "|Root:Clocks|548|9,792,293|1,928,434|17,869|Context\n",
       "|TradeOpenEvent|1,014|3,797,460|3,797,460|3,745|Db.Get\n",
       "|TradeOpenEvent:ticket|22,286|3,539,755|122,991|158|GetValue\n",
       "|TradingTicket|1,014|3,416,764|3,416,764|3,369|Db.Get\n",
       "|Root:End|278|1,088,122|1,013,856|3,914|Context\n",
       "|Root:Activity MarketData|255|1,087,496|1,006,866|4,264|Context\n",
       "|Root:Amend Portfolio|255|1,062,170|981,146|4,165|Context\n",
       "|Root:Start|270|1,034,288|952,167|3,830|Context\n",
       "|Root:Start breaks|255|1,033,781|954,622|4,054|Context\n",
       "|Root:Amend MarketData|255|868,766|791,948|3,406|Context\n",
       "|Portfolio:children|242|852,573|1,698|3,523|GetValue\n",
       "|Portfolio:children|121|850,875|967|7,032|GetValue/Calc\n",
       "|Root:Amend Trading|255|829,155|754,827|3,251|Context\n",
       "|Root:Activity Portfolio|263|795,819|725,435|3,025|Context\n",
       "|Root:Activity Trading|263|788,221|716,074|2,997|Context\n",
       "|PortfolioUpdateEvent:children|121|345,086|2,634|2,851|GetValue\n",
       "|TradingBook|102|317,126|317,126|3,109|Db.Get\n",
       "|Equity:NPV|15|294,674|187|19,644|GetValue\n",
       "|Equity:NPV|15|294,486|106|19,632|GetValue/Calc\n",
       "|MarketInterface:spot|15|140,969|154|9,397|GetValue\n",
       "|MarketInterface:spot|15|140,815|106|9,387|GetValue/Calc\n",
       "|ExternalRefData:state|15|133,441|148|8,896|GetValue\n",
       "|ExternalRefData:state|15|133,293|105|8,886|GetValue/Calc\n",
       "|RefData:state|15|132,807|154|8,853|GetValue\n",
       "|RefData:state|15|132,653|113|8,843|GetValue/Calc\n",
       "|_WorkItemEvent:book1|22,286|113,527|113,527|5|GetValue\n",
       "|_WorkItemEvent:book2|22,286|112,623|107,077|5|GetValue\n",
       "|TradeOpenEvent:quantity|22,286|102,282|102,282|4|GetValue\n",
       "|Clock:cutoffs|2,480|90,849|10,059|36|GetValue\n",
       "|_WorkItemEvent:item|11,143|81,327|75,663|7|GetValue\n",
       "|Clock:cutoffs|20|80,865|141|4,043|GetValue/Calc\n",
       "|Clock:parent|20|79,919|184|3,995|GetValue\n",
       "|Clock:parent|20|79,735|157|3,986|GetValue/Calc\n",
       "|TradeOpenEvent:action|11,143|75,986|75,986|6|GetValue\n",
       "|TradeOpenEvent:premium|11,143|72,350|69,509|6|GetValue\n",
       "|TradeOpenEvent:unitPrice|11,143|62,779|62,779|5|GetValue\n",
       "|Event:amends|11,340|60,524|60,524|5|GetValue\n",
       "|TradingBook:clock|2,200|53,431|20,358|24|GetValue\n",
       "|PortfolioUpdateEvent|12|44,818|44,818|3,734|Db.Get\n",
       "|RefDataUpdateEvent|9|34,957|34,957|3,884|Db.Get\n",
       "|TradingBook:clock|1,100|33,072|11,452|30|GetValue/Calc\n",
       "|TradingPortfolio|10|30,870|30,870|3,087|Db.Get\n",
       "|Clock|5|14,894|14,894|2,978|Db.Get\n",
       "|Portfolio:clock|242|9,159|2,373|37|GetValue\n",
       "|Portfolio:books|231|8,025|1,808|34|GetValue\n",
       "|Equity:refdata|15|7,117|170|474|GetValue\n",
       "|Equity:refdata|15|6,946|116|463|GetValue/Calc\n",
       "|Portfolio:clock|121|6,785|1,256|56|GetValue/Calc\n",
       "|MarketInterface:source|15|6,666|136|444|GetValue\n",
       "|Portfolio:books|121|6,599|885|54|GetValue/Calc\n",
       "|MarketInterface:source|15|6,529|107|435|GetValue/Calc\n",
       "|ClockEvent|2|6,376|6,376|3,188|Db.Get\n",
       "|MarketInterface|2|6,203|6,203|3,101|Db.Get\n",
       "|ClockEvent:parent|8|5,785|83|723|GetValue\n",
       "|Equity|2|5,664|5,664|2,832|Db.Get\n",
       "|MarketDataSource|2|5,656|5,656|2,828|Db.Get\n",
       "|RootClock|1|4,117|4,117|4,117|Db.Get\n",
       "|MarketDataSource:clock|30|3,590|288|119|GetValue\n",
       "|MarketDataSource:clock|15|3,302|150|220|GetValue/Calc\n",
       "|ForwardCashflow|1|2,840|2,840|2,840|Db.Get\n",
       "|Entity:clock|40|801|341|20|GetValue\n",
       "|Entity:clock|20|460|194|23|GetValue/Calc\n",
       "|ForwardCashflow:NPV|11|348|141|31|GetValue\n",
       "|MarketInterface:sourceName|15|328|133|21|GetValue\n",
       "|RootClock:cutoffs|53|314|205|5|GetValue\n",
       "|RefDataUpdateEvent:data|58|292|292|5|GetValue\n",
       "|ForwardCashflow:NPV|11|207|90|18|GetValue/Calc\n",
       "|MarketInterface:sourceName|15|194|108|12|GetValue/Calc\n",
       "|Equity:assetName|15|109|109|7|GetValue\n",
       "|RootClock:cutoffs|1|108|50|108|GetValue/Calc\n",
       "|RootClock:cosmicAll|1|36|15|36|GetValue\n",
       "|CosmicAll:dbState|1|21|13|21|GetValue\n",
       "|RootClock:cosmicAll|1|20|20|20|GetValue/Calc\n",
       "|PnLExplainReport:valuable|2|9|9|4|GetValue\n",
       "|CosmicAll:dbState|1|8|8|8|GetValue/Calc\n",
       "|PnLExplainReport:ts2|2|8|8|4|GetValue\n",
       "|PnLExplainReport:ts1|2|7|7|3|GetValue"
      ],
      "text/plain": [
       "<IPython.core.display.Markdown object>"
      ]
     },
     "metadata": {},
     "output_type": "display_data"
    }
   ],
   "source": [
    "db3 = db.copy()\n",
    "p = db3._get(pAll.meta.path())\n",
    "\n",
    "r = PnLExplainReport(valuable=p, ts1=eod, ts2=ts7)\n",
    "\n",
    "with ProfileMonitor():\n",
    "    with SummaryMonitor():\n",
    "        r.run()"
   ]
  },
  {
   "cell_type": "markdown",
   "metadata": {},
   "source": [
    "# Caching/Reusing results\n",
    "\n",
    "Until now, we have just checked to see if the current context contains a value for a node we are asking for, and if so, reuse that.\n",
    "\n",
    "A better approach to caching bound *fn* on *object* in *context0* is:\n",
    "    \n",
    "1. Has fn been tweaked in context0? If so, return that\n",
    "2. Is fn sufficiently trivial that we can avoid managing it as a node?\n",
    "  * If trivial, just treat it as a pure python function and call it\n",
    "  * Meta-data (inputs, outputs, etc) will be given to its caller and callees as appropriate\n",
    "3. Ask object for context1\n",
    "  * *context1* is a simplified version of *context0*\n",
    "  * The default case is just to return *context1*\n",
    "  * IRL, this could actually be a list of contexts or a pattern to match contexts against\n",
    "4. Is fn cached in *context1*? If so, use that\n",
    "5. Compute *fn* in *context1*\n",
    "6. Construct *context2* from the inputs of the computed value\n",
    "7. If *context2* is a subset of *context1*, cache *fn* in *context1*\n",
    "8. Something odd happened\n",
    "  * Footnote the problem as part of computation notes on the node's metadata\n",
    "  * Maybe cache the node anyway in *context2*\n",
    "    * Perhaps *object* will return *context2* as a siplification for future computations?\n",
    "9. Return the value\n",
    "\n",
    "Notes:\n",
    "* Parallel compute of nodes not considered yet\n",
    "* Context simplification (step 3) and input simplification (step 9) are probably intimately related\n",
    "* The split between calculation and caching is nice:\n",
    "  * BAs can write business logic\n",
    "  * Computer scientists can add caching logic where needed\n",
    "* We can use a profiler type object to gather runtime compute cost infomation\n",
    "  * The resulting trace can be used as input to drive step 2 and step 3\n",
    "    "
   ]
  },
  {
   "cell_type": "code",
   "execution_count": 5,
   "metadata": {
    "collapsed": false,
    "scrolled": false
   },
   "outputs": [
    {
     "name": "stdout",
     "output_type": "stream",
     "text": [
      "40.85\n"
     ]
    },
    {
     "data": {
      "text/markdown": [
       "# Compute activity summary (0.15 seconds of wall clock time)"
      ],
      "text/plain": [
       "<IPython.core.display.Markdown object>"
      ]
     },
     "metadata": {},
     "output_type": "display_data"
    },
    {
     "data": {
      "text/markdown": [
       "|key|value|\n",
       "|-|-|\n",
       "|Context|1\n",
       "|Db.Get|35\n",
       "|GetValue|185\n",
       "|GetValue/Calc|24"
      ],
      "text/plain": [
       "<IPython.core.display.Markdown object>"
      ]
     },
     "metadata": {},
     "output_type": "display_data"
    },
    {
     "name": "stdout",
     "output_type": "stream",
     "text": [
      "<Node: /Global/TradingBook/Rates0.(TradingContainer:NPV)() in Root:4473028504 @4561426320 T=False>, nIn=3\n",
      "   <Node: /Global/Equity/a716a276-736b-4e5a-a96c-473d96a17c48.(Equity:NPV)() in Root:4473028504 @4632152464 T=False>, nIn=2\n",
      "      <Node: /Global/Equity/a716a276-736b-4e5a-a96c-473d96a17c48.(Equity:refdata)() in Root:4473028504 @4632152592 T=False>, nIn=1\n",
      "         <Node: /Global/Equity/a716a276-736b-4e5a-a96c-473d96a17c48.(Equity:assetName)() in Root:4473028504 @4632152720 T=False>, nIn=0\n",
      "      <Node: /Global/MarketInterface/GOOG.(MarketInterface:spot)() in Root:4473028504 @4589534672 T=True>, nIn=2\n",
      "         <Node: /Global/MarketDataSource/source1.GOOG.(ExternalRefData:state)() in Root:4473028504 @4561424848 T=False>, nIn=1\n",
      "            <Node: /Global/MarketDataSource/source1.GOOG.(RefData:state)() in Root:4473028504 @4561428048 T=False>, nIn=10\n",
      "               <Node: /Global/Clock/MarketData.(Clock:cutoffs)() in Root:4473028504 @4653642512 T=True>, nIn=2\n",
      "                  <Node: /Global/Clock/MarketData.(Clock:parent)() in Root:4473028504 @4653642896 T=False>, nIn=4\n",
      "                     <Node: /Global/Clock/MarketData.(Entity:clock)() in Root:4473028504 @4653644432 T=False>, nIn=0\n",
      "                     <Node: /Global/ClockEvent/3d139589-3d37-4c75-b759-c664ff56ea45.(ClockEvent:parent)() in Root:4473028504 @4653643600 T=False>, nIn=0\n",
      "                     <Node: /Global/ClockEvent/3d139589-3d37-4c75-b759-c664ff56ea45.(Event:amends)() in Root:4473028504 @4653644560 T=False>, nIn=0\n",
      "                     <Node: /Global/RootClock/Main.(RootClock:cutoffs)() in Root:4473028504 @4561426064 T=True>, nIn=0\n",
      "                  <Node: /Global/Clock/RefData.(Clock:cutoffs)() in Root:4473028504 @4653645584 T=True>, nIn=2\n",
      "                     <Node: /Global/Clock/RefData.(Clock:parent)() in Root:4473028504 @4653645456 T=False>, nIn=2\n",
      "                        <Node: /Global/Clock/RefData.(Entity:clock)() in Root:4473028504 @4653645712 T=False>, nIn=0\n",
      "                        <Node: /Global/RootClock/Main.(RootClock:cutoffs)() in Root:4473028504 @4561426064 T=True>, nIn=0\n",
      "                     <Node: /Global/RootClock/Main.(RootClock:cutoffs)() in Root:4473028504 @4561426064 T=True>, nIn=0\n",
      "               <Node: /Global/MarketDataSource/source1.GOOG.(MarketDataSource:clock)() in Root:4473028504 @4632153936 T=False>, nIn=0\n",
      "               <Node: /Global/RefDataUpdateEvent/344f5d7e-3cf1-4398-8a26-44a984f3fa27.(Event:amends)() in Root:4473028504 @4675510928 T=False>, nIn=0\n",
      "               <Node: /Global/RefDataUpdateEvent/344f5d7e-3cf1-4398-8a26-44a984f3fa27.(RefDataUpdateEvent:data)() in Root:4473028504 @4675511632 T=False>, nIn=0\n",
      "               <Node: /Global/RefDataUpdateEvent/420d9395-3367-4371-b78b-12862d658214.(Event:amends)() in Root:4473028504 @4675511120 T=False>, nIn=0\n",
      "               <Node: /Global/RefDataUpdateEvent/420d9395-3367-4371-b78b-12862d658214.(RefDataUpdateEvent:data)() in Root:4473028504 @4675511760 T=False>, nIn=0\n",
      "               <Node: /Global/RefDataUpdateEvent/9e31bfbf-4810-43a3-af06-58fb9effc981.(Event:amends)() in Root:4473028504 @4675511248 T=False>, nIn=0\n",
      "               <Node: /Global/RefDataUpdateEvent/9e31bfbf-4810-43a3-af06-58fb9effc981.(RefDataUpdateEvent:data)() in Root:4473028504 @4675511888 T=False>, nIn=0\n",
      "               <Node: /Global/RefDataUpdateEvent/cd9d607c-6e36-413c-8d1b-5c3d5c3837ae.(Event:amends)() in Root:4473028504 @4675511184 T=False>, nIn=0\n",
      "               <Node: /Global/RefDataUpdateEvent/cd9d607c-6e36-413c-8d1b-5c3d5c3837ae.(RefDataUpdateEvent:data)() in Root:4473028504 @4675512016 T=False>, nIn=0\n",
      "         <Node: /Global/MarketInterface/GOOG.(MarketInterface:source)() in Root:4473028504 @4589533072 T=False>, nIn=1\n",
      "            <Node: /Global/MarketInterface/GOOG.(MarketInterface:sourceName)() in Root:4473028504 @4589532880 T=False>, nIn=0\n",
      "   <Node: /Global/ForwardCashflow/c9af52e6-05d7-44a4-8471-53a9a07ce2d3.(ForwardCashflow:NPV)() in Root:4473028504 @4675512080 T=False>, nIn=0\n",
      "   <Node: /Global/TradingBook/Rates0.(Workbook:items)() in Root:4473028504 @4561425872 T=False>, nIn=92\n",
      "      <Node: /Global/Clock/Trading.(Clock:cutoffs)() in Root:4473028504 @4561427920 T=True>, nIn=2\n",
      "         <Node: /Global/Clock/Trading.(Clock:parent)() in Root:4473028504 @4561427728 T=False>, nIn=4\n",
      "            <Node: /Global/Clock/Trading.(Entity:clock)() in Root:4473028504 @4561425104 T=False>, nIn=0\n",
      "            <Node: /Global/ClockEvent/e11013d3-b6e2-4a19-8c04-91aff9729c01.(ClockEvent:parent)() in Root:4473028504 @4561427152 T=False>, nIn=0\n",
      "            <Node: /Global/ClockEvent/e11013d3-b6e2-4a19-8c04-91aff9729c01.(Event:amends)() in Root:4473028504 @4561425296 T=False>, nIn=0\n",
      "            <Node: /Global/RootClock/Main.(RootClock:cutoffs)() in Root:4473028504 @4561426064 T=True>, nIn=0\n",
      "         <Node: /Global/Clock/Workflow.(Clock:cutoffs)() in Root:4473028504 @4800351952 T=True>, nIn=2\n",
      "            <Node: /Global/Clock/Workflow.(Clock:parent)() in Root:4473028504 @4800351504 T=False>, nIn=2\n",
      "               <Node: /Global/Clock/Workflow.(Entity:clock)() in Root:4473028504 @4800266064 T=False>, nIn=0\n",
      "               <Node: /Global/RootClock/Main.(RootClock:cutoffs)() in Root:4473028504 @4561426064 T=True>, nIn=0\n",
      "            <Node: /Global/RootClock/Main.(RootClock:cutoffs)() in Root:4473028504 @4561426064 T=True>, nIn=0\n",
      "      <Node: /Global/TradeOpenEvent/2d4b394a-b38e-446d-80dd-fb01ad9982f3.(Event:amends)() in Root:4473028504 @4800352016 T=False>, nIn=0\n",
      "      <Node: /Global/TradeOpenEvent/2d4b394a-b38e-446d-80dd-fb01ad9982f3.(TradeOpenEvent:action)() in Root:4473028504 @4632150672 T=False>, nIn=0\n",
      "      <Node: /Global/TradeOpenEvent/2d4b394a-b38e-446d-80dd-fb01ad9982f3.(TradeOpenEvent:premium)() in Root:4473028504 @4632151248 T=False>, nIn=0\n",
      "      <Node: /Global/TradeOpenEvent/2d4b394a-b38e-446d-80dd-fb01ad9982f3.(TradeOpenEvent:quantity)() in Root:4473028504 @4632150928 T=False>, nIn=0\n",
      "      <Node: /Global/TradeOpenEvent/2d4b394a-b38e-446d-80dd-fb01ad9982f3.(TradeOpenEvent:ticket)() in Root:4473028504 @4632151056 T=False>, nIn=0\n",
      "      <Node: /Global/TradeOpenEvent/2d4b394a-b38e-446d-80dd-fb01ad9982f3.(TradeOpenEvent:unitPrice)() in Root:4473028504 @4632150800 T=False>, nIn=0\n",
      "      <Node: /Global/TradeOpenEvent/2d4b394a-b38e-446d-80dd-fb01ad9982f3.(_WorkItemEvent:book1)() in Root:4473028504 @4632152272 T=False>, nIn=0\n",
      "      <Node: /Global/TradeOpenEvent/2d4b394a-b38e-446d-80dd-fb01ad9982f3.(_WorkItemEvent:book2)() in Root:4473028504 @4632152208 T=False>, nIn=0\n",
      "      <Node: /Global/TradeOpenEvent/2d4b394a-b38e-446d-80dd-fb01ad9982f3.(_WorkItemEvent:item)() in Root:4473028504 @4632152080 T=False>, nIn=0\n",
      "      <Node: /Global/TradeOpenEvent/4d8dbb3b-8a62-439a-9684-ae68e6adb3e1.(Event:amends)() in Root:4473028504 @4695004816 T=False>, nIn=0\n",
      "      <Node: /Global/TradeOpenEvent/4d8dbb3b-8a62-439a-9684-ae68e6adb3e1.(TradeOpenEvent:action)() in Root:4473028504 @4561425616 T=False>, nIn=0\n",
      "      <Node: /Global/TradeOpenEvent/4d8dbb3b-8a62-439a-9684-ae68e6adb3e1.(TradeOpenEvent:premium)() in Root:4473028504 @4630214736 T=False>, nIn=0\n",
      "      <Node: /Global/TradeOpenEvent/4d8dbb3b-8a62-439a-9684-ae68e6adb3e1.(TradeOpenEvent:quantity)() in Root:4473028504 @4561425424 T=False>, nIn=0\n",
      "      <Node: /Global/TradeOpenEvent/4d8dbb3b-8a62-439a-9684-ae68e6adb3e1.(TradeOpenEvent:ticket)() in Root:4473028504 @4561427472 T=False>, nIn=0\n",
      "      <Node: /Global/TradeOpenEvent/4d8dbb3b-8a62-439a-9684-ae68e6adb3e1.(TradeOpenEvent:unitPrice)() in Root:4473028504 @4561426768 T=False>, nIn=0\n",
      "      <Node: /Global/TradeOpenEvent/4d8dbb3b-8a62-439a-9684-ae68e6adb3e1.(_WorkItemEvent:book1)() in Root:4473028504 @4630214480 T=False>, nIn=0\n",
      "      <Node: /Global/TradeOpenEvent/4d8dbb3b-8a62-439a-9684-ae68e6adb3e1.(_WorkItemEvent:book2)() in Root:4473028504 @4630214544 T=False>, nIn=0\n",
      "      <Node: /Global/TradeOpenEvent/4d8dbb3b-8a62-439a-9684-ae68e6adb3e1.(_WorkItemEvent:item)() in Root:4473028504 @4630213904 T=False>, nIn=0\n",
      "      <Node: /Global/TradeOpenEvent/87564cab-b843-4a31-b3cf-1108c44896c4.(Event:amends)() in Root:4473028504 @4695005008 T=False>, nIn=0\n",
      "      <Node: /Global/TradeOpenEvent/87564cab-b843-4a31-b3cf-1108c44896c4.(TradeOpenEvent:action)() in Root:4473028504 @4589534032 T=False>, nIn=0\n",
      "      <Node: /Global/TradeOpenEvent/87564cab-b843-4a31-b3cf-1108c44896c4.(TradeOpenEvent:premium)() in Root:4473028504 @4632150544 T=False>, nIn=0\n",
      "      <Node: /Global/TradeOpenEvent/87564cab-b843-4a31-b3cf-1108c44896c4.(TradeOpenEvent:quantity)() in Root:4473028504 @4589534288 T=False>, nIn=0\n",
      "      <Node: /Global/TradeOpenEvent/87564cab-b843-4a31-b3cf-1108c44896c4.(TradeOpenEvent:ticket)() in Root:4473028504 @4589534416 T=False>, nIn=0\n",
      "      <Node: /Global/TradeOpenEvent/87564cab-b843-4a31-b3cf-1108c44896c4.(TradeOpenEvent:unitPrice)() in Root:4473028504 @4589534160 T=False>, nIn=0\n",
      "      <Node: /Global/TradeOpenEvent/87564cab-b843-4a31-b3cf-1108c44896c4.(_WorkItemEvent:book1)() in Root:4473028504 @4632150288 T=False>, nIn=0\n",
      "      <Node: /Global/TradeOpenEvent/87564cab-b843-4a31-b3cf-1108c44896c4.(_WorkItemEvent:book2)() in Root:4473028504 @4632150160 T=False>, nIn=0\n",
      "      <Node: /Global/TradeOpenEvent/87564cab-b843-4a31-b3cf-1108c44896c4.(_WorkItemEvent:item)() in Root:4473028504 @4632150224 T=False>, nIn=0\n",
      "      <Node: /Global/TradeOpenEvent/ad8592d3-53b4-4e5b-ad8f-e638a34bd93b.(Event:amends)() in Root:4473028504 @4695005328 T=False>, nIn=0\n",
      "      <Node: /Global/TradeOpenEvent/ad8592d3-53b4-4e5b-ad8f-e638a34bd93b.(TradeOpenEvent:action)() in Root:4473028504 @4568945552 T=False>, nIn=0\n",
      "      <Node: /Global/TradeOpenEvent/ad8592d3-53b4-4e5b-ad8f-e638a34bd93b.(TradeOpenEvent:premium)() in Root:4473028504 @4800263952 T=False>, nIn=0\n",
      "      <Node: /Global/TradeOpenEvent/ad8592d3-53b4-4e5b-ad8f-e638a34bd93b.(TradeOpenEvent:quantity)() in Root:4473028504 @4568945360 T=False>, nIn=0\n",
      "      <Node: /Global/TradeOpenEvent/ad8592d3-53b4-4e5b-ad8f-e638a34bd93b.(TradeOpenEvent:ticket)() in Root:4473028504 @4695006224 T=False>, nIn=0\n",
      "      <Node: /Global/TradeOpenEvent/ad8592d3-53b4-4e5b-ad8f-e638a34bd93b.(TradeOpenEvent:unitPrice)() in Root:4473028504 @4568944784 T=False>, nIn=0\n",
      "      <Node: /Global/TradeOpenEvent/ad8592d3-53b4-4e5b-ad8f-e638a34bd93b.(_WorkItemEvent:book1)() in Root:4473028504 @4695005840 T=False>, nIn=0\n",
      "      <Node: /Global/TradeOpenEvent/ad8592d3-53b4-4e5b-ad8f-e638a34bd93b.(_WorkItemEvent:book2)() in Root:4473028504 @4800266192 T=False>, nIn=0\n",
      "      <Node: /Global/TradeOpenEvent/ad8592d3-53b4-4e5b-ad8f-e638a34bd93b.(_WorkItemEvent:item)() in Root:4473028504 @4695005648 T=False>, nIn=0\n",
      "      <Node: /Global/TradeOpenEvent/af3805c5-5c49-48e1-9097-d0340a0755a4.(Event:amends)() in Root:4473028504 @4695005392 T=False>, nIn=0\n",
      "      <Node: /Global/TradeOpenEvent/af3805c5-5c49-48e1-9097-d0340a0755a4.(TradeOpenEvent:action)() in Root:4473028504 @4568948496 T=False>, nIn=0\n",
      "      <Node: /Global/TradeOpenEvent/af3805c5-5c49-48e1-9097-d0340a0755a4.(TradeOpenEvent:premium)() in Root:4473028504 @4568947536 T=False>, nIn=0\n",
      "      <Node: /Global/TradeOpenEvent/af3805c5-5c49-48e1-9097-d0340a0755a4.(TradeOpenEvent:quantity)() in Root:4473028504 @4589531216 T=False>, nIn=0\n",
      "      <Node: /Global/TradeOpenEvent/af3805c5-5c49-48e1-9097-d0340a0755a4.(TradeOpenEvent:ticket)() in Root:4473028504 @4589531344 T=False>, nIn=0\n",
      "      <Node: /Global/TradeOpenEvent/af3805c5-5c49-48e1-9097-d0340a0755a4.(TradeOpenEvent:unitPrice)() in Root:4473028504 @4568948624 T=False>, nIn=0\n",
      "      <Node: /Global/TradeOpenEvent/af3805c5-5c49-48e1-9097-d0340a0755a4.(_WorkItemEvent:book1)() in Root:4473028504 @4568945680 T=False>, nIn=0\n",
      "      <Node: /Global/TradeOpenEvent/af3805c5-5c49-48e1-9097-d0340a0755a4.(_WorkItemEvent:book2)() in Root:4473028504 @4568945040 T=False>, nIn=0\n",
      "      <Node: /Global/TradeOpenEvent/af3805c5-5c49-48e1-9097-d0340a0755a4.(_WorkItemEvent:item)() in Root:4473028504 @4568945936 T=False>, nIn=0\n",
      "      <Node: /Global/TradeOpenEvent/b7f14651-8238-45e8-910c-034288e9adb1.(Event:amends)() in Root:4473028504 @4695003600 T=False>, nIn=0\n",
      "      <Node: /Global/TradeOpenEvent/b7f14651-8238-45e8-910c-034288e9adb1.(TradeOpenEvent:action)() in Root:4473028504 @4695003664 T=False>, nIn=0\n",
      "      <Node: /Global/TradeOpenEvent/b7f14651-8238-45e8-910c-034288e9adb1.(TradeOpenEvent:premium)() in Root:4473028504 @4568945744 T=False>, nIn=0\n",
      "      <Node: /Global/TradeOpenEvent/b7f14651-8238-45e8-910c-034288e9adb1.(TradeOpenEvent:quantity)() in Root:4473028504 @4695003536 T=False>, nIn=0\n",
      "      <Node: /Global/TradeOpenEvent/b7f14651-8238-45e8-910c-034288e9adb1.(TradeOpenEvent:ticket)() in Root:4473028504 @4695005520 T=False>, nIn=0\n",
      "      <Node: /Global/TradeOpenEvent/b7f14651-8238-45e8-910c-034288e9adb1.(TradeOpenEvent:unitPrice)() in Root:4473028504 @4695003280 T=False>, nIn=0\n",
      "      <Node: /Global/TradeOpenEvent/b7f14651-8238-45e8-910c-034288e9adb1.(_WorkItemEvent:book1)() in Root:4473028504 @4568944848 T=False>, nIn=0\n",
      "      <Node: /Global/TradeOpenEvent/b7f14651-8238-45e8-910c-034288e9adb1.(_WorkItemEvent:book2)() in Root:4473028504 @4568944912 T=False>, nIn=0\n",
      "      <Node: /Global/TradeOpenEvent/b7f14651-8238-45e8-910c-034288e9adb1.(_WorkItemEvent:item)() in Root:4473028504 @4695006544 T=False>, nIn=0\n",
      "      <Node: /Global/TradeOpenEvent/dd55d353-7be1-410d-9b8a-cecc5e72a02b.(Event:amends)() in Root:4473028504 @4695003984 T=False>, nIn=0\n",
      "      <Node: /Global/TradeOpenEvent/dd55d353-7be1-410d-9b8a-cecc5e72a02b.(TradeOpenEvent:action)() in Root:4473028504 @4630213840 T=False>, nIn=0\n",
      "      <Node: /Global/TradeOpenEvent/dd55d353-7be1-410d-9b8a-cecc5e72a02b.(TradeOpenEvent:premium)() in Root:4473028504 @4589531536 T=False>, nIn=0\n",
      "      <Node: /Global/TradeOpenEvent/dd55d353-7be1-410d-9b8a-cecc5e72a02b.(TradeOpenEvent:quantity)() in Root:4473028504 @4630215376 T=False>, nIn=0\n",
      "      <Node: /Global/TradeOpenEvent/dd55d353-7be1-410d-9b8a-cecc5e72a02b.(TradeOpenEvent:ticket)() in Root:4473028504 @4630215824 T=False>, nIn=0\n",
      "      <Node: /Global/TradeOpenEvent/dd55d353-7be1-410d-9b8a-cecc5e72a02b.(TradeOpenEvent:unitPrice)() in Root:4473028504 @4630214928 T=False>, nIn=0\n",
      "      <Node: /Global/TradeOpenEvent/dd55d353-7be1-410d-9b8a-cecc5e72a02b.(_WorkItemEvent:book1)() in Root:4473028504 @4589531856 T=False>, nIn=0\n",
      "      <Node: /Global/TradeOpenEvent/dd55d353-7be1-410d-9b8a-cecc5e72a02b.(_WorkItemEvent:book2)() in Root:4473028504 @4589531600 T=False>, nIn=0\n",
      "      <Node: /Global/TradeOpenEvent/dd55d353-7be1-410d-9b8a-cecc5e72a02b.(_WorkItemEvent:item)() in Root:4473028504 @4589531472 T=False>, nIn=0\n",
      "      <Node: /Global/TradeOpenEvent/e05cdbb7-d91a-41f0-a1ce-3548eef2d5e0.(Event:amends)() in Root:4473028504 @4695004240 T=False>, nIn=0\n",
      "      <Node: /Global/TradeOpenEvent/e05cdbb7-d91a-41f0-a1ce-3548eef2d5e0.(TradeOpenEvent:action)() in Root:4473028504 @4589532240 T=False>, nIn=0\n",
      "      <Node: /Global/TradeOpenEvent/e05cdbb7-d91a-41f0-a1ce-3548eef2d5e0.(TradeOpenEvent:premium)() in Root:4473028504 @4589532816 T=False>, nIn=0\n",
      "      <Node: /Global/TradeOpenEvent/e05cdbb7-d91a-41f0-a1ce-3548eef2d5e0.(TradeOpenEvent:quantity)() in Root:4473028504 @4589532496 T=False>, nIn=0\n",
      "      <Node: /Global/TradeOpenEvent/e05cdbb7-d91a-41f0-a1ce-3548eef2d5e0.(TradeOpenEvent:ticket)() in Root:4473028504 @4589532624 T=False>, nIn=0\n",
      "      <Node: /Global/TradeOpenEvent/e05cdbb7-d91a-41f0-a1ce-3548eef2d5e0.(TradeOpenEvent:unitPrice)() in Root:4473028504 @4589532368 T=False>, nIn=0\n",
      "      <Node: /Global/TradeOpenEvent/e05cdbb7-d91a-41f0-a1ce-3548eef2d5e0.(_WorkItemEvent:book1)() in Root:4473028504 @4589533840 T=False>, nIn=0\n",
      "      <Node: /Global/TradeOpenEvent/e05cdbb7-d91a-41f0-a1ce-3548eef2d5e0.(_WorkItemEvent:book2)() in Root:4473028504 @4589533776 T=False>, nIn=0\n",
      "      <Node: /Global/TradeOpenEvent/e05cdbb7-d91a-41f0-a1ce-3548eef2d5e0.(_WorkItemEvent:item)() in Root:4473028504 @4589533648 T=False>, nIn=0\n",
      "      <Node: /Global/TradeOpenEvent/efcba1ac-52fb-4bf9-aa95-fa2dea7e1722.(Event:amends)() in Root:4473028504 @4695004368 T=False>, nIn=0\n",
      "      <Node: /Global/TradeOpenEvent/efcba1ac-52fb-4bf9-aa95-fa2dea7e1722.(TradeOpenEvent:action)() in Root:4473028504 @4568946832 T=False>, nIn=0\n",
      "      <Node: /Global/TradeOpenEvent/efcba1ac-52fb-4bf9-aa95-fa2dea7e1722.(TradeOpenEvent:premium)() in Root:4473028504 @4568947280 T=False>, nIn=0\n",
      "      <Node: /Global/TradeOpenEvent/efcba1ac-52fb-4bf9-aa95-fa2dea7e1722.(TradeOpenEvent:quantity)() in Root:4473028504 @4568946960 T=False>, nIn=0\n",
      "      <Node: /Global/TradeOpenEvent/efcba1ac-52fb-4bf9-aa95-fa2dea7e1722.(TradeOpenEvent:ticket)() in Root:4473028504 @4568946128 T=False>, nIn=0\n",
      "      <Node: /Global/TradeOpenEvent/efcba1ac-52fb-4bf9-aa95-fa2dea7e1722.(TradeOpenEvent:unitPrice)() in Root:4473028504 @4568947024 T=False>, nIn=0\n",
      "      <Node: /Global/TradeOpenEvent/efcba1ac-52fb-4bf9-aa95-fa2dea7e1722.(_WorkItemEvent:book1)() in Root:4473028504 @4568948304 T=False>, nIn=0\n",
      "      <Node: /Global/TradeOpenEvent/efcba1ac-52fb-4bf9-aa95-fa2dea7e1722.(_WorkItemEvent:book2)() in Root:4473028504 @4568948240 T=False>, nIn=0\n",
      "      <Node: /Global/TradeOpenEvent/efcba1ac-52fb-4bf9-aa95-fa2dea7e1722.(_WorkItemEvent:item)() in Root:4473028504 @4568948112 T=False>, nIn=0\n",
      "      <Node: /Global/TradeOpenEvent/f6b21886-3417-4d46-a39a-6f43ce38712c.(Event:amends)() in Root:4473028504 @4695004880 T=False>, nIn=0\n",
      "      <Node: /Global/TradeOpenEvent/f6b21886-3417-4d46-a39a-6f43ce38712c.(TradeOpenEvent:action)() in Root:4473028504 @4800263056 T=False>, nIn=0\n",
      "      <Node: /Global/TradeOpenEvent/f6b21886-3417-4d46-a39a-6f43ce38712c.(TradeOpenEvent:premium)() in Root:4473028504 @4561424720 T=False>, nIn=0\n",
      "      <Node: /Global/TradeOpenEvent/f6b21886-3417-4d46-a39a-6f43ce38712c.(TradeOpenEvent:quantity)() in Root:4473028504 @4497118352 T=False>, nIn=0\n",
      "      <Node: /Global/TradeOpenEvent/f6b21886-3417-4d46-a39a-6f43ce38712c.(TradeOpenEvent:ticket)() in Root:4473028504 @4503803600 T=False>, nIn=0\n",
      "      <Node: /Global/TradeOpenEvent/f6b21886-3417-4d46-a39a-6f43ce38712c.(TradeOpenEvent:unitPrice)() in Root:4473028504 @4800263184 T=False>, nIn=0\n",
      "      <Node: /Global/TradeOpenEvent/f6b21886-3417-4d46-a39a-6f43ce38712c.(_WorkItemEvent:book1)() in Root:4473028504 @4561426896 T=False>, nIn=0\n",
      "      <Node: /Global/TradeOpenEvent/f6b21886-3417-4d46-a39a-6f43ce38712c.(_WorkItemEvent:book2)() in Root:4473028504 @4561424528 T=False>, nIn=0\n",
      "      <Node: /Global/TradeOpenEvent/f6b21886-3417-4d46-a39a-6f43ce38712c.(_WorkItemEvent:item)() in Root:4473028504 @4561427536 T=False>, nIn=0\n",
      "      <Node: /Global/TradingBook/Rates0.(TradingBook:clock)() in Root:4473028504 @4630213328 T=False>, nIn=0\n"
     ]
    }
   ],
   "source": [
    "dba = db.copy()\n",
    "valuable = dba.get(b4.meta.path())\n",
    "\n",
    "clock = valuable.getObj(_tr.RootClock, 'Main')\n",
    "with SummaryMonitor():\n",
    "    with Context({clock.cutoffs: ts7}):\n",
    "        print valuable.NPV()\n",
    "        node = getNode(valuable.NPV)\n",
    "node.printInputGraph()"
   ]
  },
  {
   "cell_type": "markdown",
   "metadata": {
    "collapsed": true
   },
   "source": [
    "# Graph Simplification\n",
    "\n",
    "* Very simple input management simplifier: ignore inputs if they are leaves and not tweakable\n",
    "* Simple context simplification: just switch to a simple context for certain known methods"
   ]
  },
  {
   "cell_type": "code",
   "execution_count": 6,
   "metadata": {
    "collapsed": false,
    "scrolled": false
   },
   "outputs": [
    {
     "name": "stdout",
     "output_type": "stream",
     "text": [
      "new simp-ctx: Root:4473028504:4473028504 <Entity:/Global/Clock/Trading>\n",
      "new simp-ctx: Root:4473028504:4473028504 <Entity:/Global/Clock/MarketData>\n",
      "40.85\n",
      " <Node: /Global/TradingBook/Rates0.(TradingContainer:NPV)() in Root:4473028504 @4800109008 T=False> *not evaluated*\n",
      "   <Node: /Global/Clock/Trading.(Clock:cutoffs)() in Root:4473028504 @4799958480 T=True> *not evaluated*\n",
      "     <Node: /Global/Clock/Trading.(Clock:parent)() in Root:4473028504 @4800034640 T=False> *not evaluated*\n",
      "         <Node: /Global/RootClock/Main.(RootClock:cutoffs)() in Root:4473028504 @4800109456 T=True>, nIn=0\n",
      "     <Node: /Global/Clock/Workflow.(Clock:cutoffs)() in Root:4473028504 @4717219024 T=True> *not evaluated*\n",
      "       <Node: /Global/Clock/Workflow.(Clock:parent)() in Root:4473028504 @4717218896 T=False> *not evaluated*\n",
      "            <Node: /Global/RootClock/Main.(RootClock:cutoffs)() in Root:4473028504 @4800109456 T=True>, nIn=0\n",
      "         <Node: /Global/RootClock/Main.(RootClock:cutoffs)() in Root:4473028504 @4800109456 T=True>, nIn=0\n",
      "   <Node: /Global/Equity/a716a276-736b-4e5a-a96c-473d96a17c48.(Equity:NPV)() in Root:4473028504 @4568412496 T=False> *not evaluated*\n",
      "     <Node: /Global/MarketInterface/GOOG.(MarketInterface:spot)() in Root:4473028504 @4568413584 T=True> *not evaluated*\n",
      "       <Node: /Global/MarketDataSource/source1.GOOG.(ExternalRefData:state)() in Root:4473028504 @4568414864 T=False> *not evaluated*\n",
      "         <Node: /Global/Clock/MarketData.(Clock:cutoffs)() in Root:4473028504 @4568416144 T=True> *not evaluated*\n",
      "           <Node: /Global/Clock/MarketData.(Clock:parent)() in Root:4473028504 @4568415824 T=False> *not evaluated*\n",
      "                  <Node: /Global/RootClock/Main.(RootClock:cutoffs)() in Root:4473028504 @4800109456 T=True>, nIn=0\n",
      "           <Node: /Global/Clock/RefData.(Clock:cutoffs)() in Root:4473028504 @4780613008 T=True> *not evaluated*\n",
      "             <Node: /Global/Clock/RefData.(Clock:parent)() in Root:4473028504 @4780612560 T=False> *not evaluated*\n",
      "                     <Node: /Global/RootClock/Main.(RootClock:cutoffs)() in Root:4473028504 @4800109456 T=True>, nIn=0\n",
      "                  <Node: /Global/RootClock/Main.(RootClock:cutoffs)() in Root:4473028504 @4800109456 T=True>, nIn=0\n",
      "            <Node: /Global/MarketDataSource/source1.GOOG.(RefData:state)() in Root:4473028504:4473028504 @4738936144 T=False>, nIn=1\n",
      "               <Node: /Global/Clock/MarketData.(Clock:cutoffs)() in Root:4473028504:4473028504 @4738936400 T=True>, nIn=0\n",
      "   <Node: /Global/TradingBook/Rates0.(Workbook:items)() in Root:4473028504:4473028504 @4738933008 T=False>, nIn=1\n",
      "      <Node: /Global/Clock/Trading.(Clock:cutoffs)() in Root:4473028504:4473028504 @4738933328 T=True>, nIn=0\n"
     ]
    }
   ],
   "source": [
    "from mand.graph import DependencyManager, setDependencyManager\n",
    "from mand.core import Event\n",
    "\n",
    "class DM1(DependencyManager):\n",
    "    \n",
    "    def __init__(self):\n",
    "        self.contexts = {}\n",
    "        self.simpleClockMethods = ('Workbook:items', 'RefData:state', 'Portfolio:children', 'Portfolio:items')\n",
    "        super(DM1, self).__init__()\n",
    "        \n",
    "    def addDep(self, input, output):\n",
    "        if not input.key.tweakable:\n",
    "            if not input.inputs:\n",
    "                return\n",
    "        output.inputs.add(input)\n",
    "        input.outputs.add(output)\n",
    "\n",
    "\n",
    "    def calculated(self, node):\n",
    "        if not node.isSimplified:\n",
    "            return\n",
    "        ok = True\n",
    "        for input in node.tweakPoints():\n",
    "            if input not in node.ctx.tweaks:\n",
    "                print 'context simplification failure', '%s used %s' % (str(node), str(input))\n",
    "                addFootnote(text='context simplification failure', info='%s used %s' % (str(node.key), str(input.key)))\n",
    "                ok = False\n",
    "        return ok\n",
    "                  \n",
    "    def getCtx(self, clock):\n",
    "        ts = clock.cutoffs()\n",
    "        cKey = (clock, ts) # really want value-based comparison of ts, not object equality\n",
    "        if cKey not in self.contexts:\n",
    "            ctx = Context({clock.cutoffs: ts})\n",
    "            self.contexts[cKey] = ctx\n",
    "            print 'new simp-ctx:', ctx.name, clock\n",
    "        return self.contexts[cKey]\n",
    "            \n",
    "    def getNode(self, ctx, key):\n",
    "        n = ctx._get(key)\n",
    "        if n:\n",
    "            return n\n",
    "        if key.fullName() in self.simpleClockMethods:\n",
    "            obj = key.object()\n",
    "            ctx1 = self.getCtx(obj.clock())\n",
    "            ret = ctx1.get(key)\n",
    "            ret.isSimplified = True\n",
    "        else:\n",
    "            ret = super(DM1, self).getNode(ctx, key)\n",
    "            ret.isSimplified = False\n",
    "        return ret\n",
    "    \n",
    "setDependencyManager(DM1())\n",
    "\n",
    "db4 = db.copy()\n",
    "valuable = db4.get(b4.meta.path())\n",
    "\n",
    "clock = valuable.getObj(_tr.RootClock, 'Main')\n",
    "with Context({clock.cutoffs: ts7}):\n",
    "    print valuable.NPV()\n",
    "    node = getNode(valuable.NPV)\n",
    "    node.printInputGraph()"
   ]
  },
  {
   "cell_type": "code",
   "execution_count": 7,
   "metadata": {
    "collapsed": false,
    "scrolled": false
   },
   "outputs": [
    {
     "name": "stdout",
     "output_type": "stream",
     "text": [
      "new simp-ctx: Root:Clocks:4473028504 <Entity:/Global/Clock/Portfolio>\n",
      "new simp-ctx: Root:Clocks:4473028504:4473028504 <Entity:/Global/Clock/Trading>\n",
      "context simplification failure <Node: /Global/TradingPortfolio/Eq-Prop.(Portfolio:items)() in Root:Clocks:4473028504 @4530238480 T=False> used <Node: /Global/Clock/Trading.(Clock:cutoffs)() in Root:Clocks:4473028504 @4574484368 T=True>\n",
      "context simplification failure <Node: /Global/TradingPortfolio/Eq-Prop.(Portfolio:items)() in Root:Clocks:4473028504 @4530238480 T=False> used <Node: /Global/Clock/Trading.(Clock:cutoffs)() in Root:Clocks:4473028504:4473028504 @4568946320 T=True>\n",
      "context simplification failure <Node: /Global/TradingPortfolio/Eq-Inst.(Portfolio:items)() in Root:Clocks:4473028504 @4580334032 T=False> used <Node: /Global/Clock/Trading.(Clock:cutoffs)() in Root:Clocks:4473028504 @4574484368 T=True>\n",
      "context simplification failure <Node: /Global/TradingPortfolio/Eq-Inst.(Portfolio:items)() in Root:Clocks:4473028504 @4580334032 T=False> used <Node: /Global/Clock/Trading.(Clock:cutoffs)() in Root:Clocks:4473028504:4473028504 @4568946320 T=True>\n",
      "context simplification failure <Node: /Global/TradingPortfolio/FX.(Portfolio:items)() in Root:Clocks:4473028504 @4584070736 T=False> used <Node: /Global/Clock/Trading.(Clock:cutoffs)() in Root:Clocks:4473028504 @4574484368 T=True>\n",
      "context simplification failure <Node: /Global/TradingPortfolio/FX.(Portfolio:items)() in Root:Clocks:4473028504 @4584070736 T=False> used <Node: /Global/Clock/Trading.(Clock:cutoffs)() in Root:Clocks:4473028504:4473028504 @4568946320 T=True>\n",
      "context simplification failure <Node: /Global/TradingPortfolio/Rates.(Portfolio:items)() in Root:Clocks:4473028504 @4811985872 T=False> used <Node: /Global/Clock/Trading.(Clock:cutoffs)() in Root:Clocks:4473028504 @4574484368 T=True>\n",
      "context simplification failure <Node: /Global/TradingPortfolio/Rates.(Portfolio:items)() in Root:Clocks:4473028504 @4811985872 T=False> used <Node: /Global/Clock/Trading.(Clock:cutoffs)() in Root:Clocks:4473028504:4473028504 @4568946320 T=True>\n",
      "context simplification failure <Node: /Global/TradingPortfolio/Credit.(Portfolio:items)() in Root:Clocks:4473028504 @4812535120 T=False> used <Node: /Global/Clock/Trading.(Clock:cutoffs)() in Root:Clocks:4473028504 @4574484368 T=True>\n",
      "context simplification failure <Node: /Global/TradingPortfolio/Credit.(Portfolio:items)() in Root:Clocks:4473028504 @4812535120 T=False> used <Node: /Global/Clock/Trading.(Clock:cutoffs)() in Root:Clocks:4473028504:4473028504 @4568946320 T=True>\n",
      "context simplification failure <Node: /Global/TradingPortfolio/Delta1.(Portfolio:items)() in Root:Clocks:4473028504 @4812295760 T=False> used <Node: /Global/Clock/Trading.(Clock:cutoffs)() in Root:Clocks:4473028504 @4574484368 T=True>\n",
      "context simplification failure <Node: /Global/TradingPortfolio/Delta1.(Portfolio:items)() in Root:Clocks:4473028504 @4812295760 T=False> used <Node: /Global/Clock/Trading.(Clock:cutoffs)() in Root:Clocks:4473028504:4473028504 @4568946320 T=True>\n",
      "context simplification failure <Node: /Global/TradingPortfolio/Loans.(Portfolio:items)() in Root:Clocks:4473028504 @4812842768 T=False> used <Node: /Global/Clock/Trading.(Clock:cutoffs)() in Root:Clocks:4473028504 @4574484368 T=True>\n",
      "context simplification failure <Node: /Global/TradingPortfolio/Loans.(Portfolio:items)() in Root:Clocks:4473028504 @4812842768 T=False> used <Node: /Global/Clock/Trading.(Clock:cutoffs)() in Root:Clocks:4473028504:4473028504 @4568946320 T=True>\n",
      "context simplification failure <Node: /Global/TradingPortfolio/Commod.(Portfolio:items)() in Root:Clocks:4473028504 @4812940112 T=False> used <Node: /Global/Clock/Trading.(Clock:cutoffs)() in Root:Clocks:4473028504 @4574484368 T=True>\n",
      "context simplification failure <Node: /Global/TradingPortfolio/Commod.(Portfolio:items)() in Root:Clocks:4473028504 @4812940112 T=False> used <Node: /Global/Clock/Trading.(Clock:cutoffs)() in Root:Clocks:4473028504:4473028504 @4568946320 T=True>\n",
      "context simplification failure <Node: /Global/TradingPortfolio/ETFs.(Portfolio:items)() in Root:Clocks:4473028504 @4812983184 T=False> used <Node: /Global/Clock/Trading.(Clock:cutoffs)() in Root:Clocks:4473028504 @4574484368 T=True>\n",
      "context simplification failure <Node: /Global/TradingPortfolio/ETFs.(Portfolio:items)() in Root:Clocks:4473028504 @4812983184 T=False> used <Node: /Global/Clock/Trading.(Clock:cutoffs)() in Root:Clocks:4473028504:4473028504 @4568946320 T=True>\n",
      "context simplification failure <Node: /Global/TradingPortfolio/Mtge.(Portfolio:items)() in Root:Clocks:4473028504 @4813098640 T=False> used <Node: /Global/Clock/Trading.(Clock:cutoffs)() in Root:Clocks:4473028504 @4574484368 T=True>\n",
      "context simplification failure <Node: /Global/TradingPortfolio/Mtge.(Portfolio:items)() in Root:Clocks:4473028504 @4813098640 T=False> used <Node: /Global/Clock/Trading.(Clock:cutoffs)() in Root:Clocks:4473028504:4473028504 @4568946320 T=True>\n",
      "context simplification failure <Node: /Global/TradingPortfolio/TopOfTheHouse.(Portfolio:items)() in Root:Clocks:4473028504 @4675513424 T=False> used <Node: /Global/Clock/Trading.(Clock:cutoffs)() in Root:Clocks:4473028504:4473028504 @4568946320 T=True>\n",
      "context simplification failure <Node: /Global/TradingPortfolio/TopOfTheHouse.(Portfolio:items)() in Root:Clocks:4473028504 @4675513424 T=False> used <Node: /Global/Clock/Trading.(Clock:cutoffs)() in Root:Clocks:4473028504 @4574484368 T=True>\n",
      "new simp-ctx: Root:Clocks:4473028504 <Entity:/Global/Clock/MarketData>\n",
      "new simp-ctx: Root:Clocks:4473028504 <Entity:/Global/Clock/Portfolio>\n",
      "new simp-ctx: Root:Clocks:4473028504:4473028504 <Entity:/Global/Clock/Trading>\n",
      "context simplification failure <Node: /Global/TradingPortfolio/Eq-Prop.(Portfolio:items)() in Root:Clocks:4473028504 @4813388560 T=False> used <Node: /Global/Clock/Trading.(Clock:cutoffs)() in Root:Clocks:4473028504 @4813388240 T=True>\n",
      "context simplification failure <Node: /Global/TradingPortfolio/Eq-Prop.(Portfolio:items)() in Root:Clocks:4473028504 @4813388560 T=False> used <Node: /Global/Clock/Trading.(Clock:cutoffs)() in Root:Clocks:4473028504:4473028504 @4813313488 T=True>\n",
      "context simplification failure <Node: /Global/TradingPortfolio/Eq-Inst.(Portfolio:items)() in Root:Clocks:4473028504 @4813554000 T=False> used <Node: /Global/Clock/Trading.(Clock:cutoffs)() in Root:Clocks:4473028504 @4813388240 T=True>\n",
      "context simplification failure <Node: /Global/TradingPortfolio/Eq-Inst.(Portfolio:items)() in Root:Clocks:4473028504 @4813554000 T=False> used <Node: /Global/Clock/Trading.(Clock:cutoffs)() in Root:Clocks:4473028504:4473028504 @4813313488 T=True>\n",
      "context simplification failure <Node: /Global/TradingPortfolio/FX.(Portfolio:items)() in Root:Clocks:4473028504 @4813389136 T=False> used <Node: /Global/Clock/Trading.(Clock:cutoffs)() in Root:Clocks:4473028504 @4813388240 T=True>\n",
      "context simplification failure <Node: /Global/TradingPortfolio/FX.(Portfolio:items)() in Root:Clocks:4473028504 @4813389136 T=False> used <Node: /Global/Clock/Trading.(Clock:cutoffs)() in Root:Clocks:4473028504:4473028504 @4813313488 T=True>\n",
      "context simplification failure <Node: /Global/TradingPortfolio/Rates.(Portfolio:items)() in Root:Clocks:4473028504 @4589533456 T=False> used <Node: /Global/Clock/Trading.(Clock:cutoffs)() in Root:Clocks:4473028504 @4813388240 T=True>\n",
      "context simplification failure <Node: /Global/TradingPortfolio/Rates.(Portfolio:items)() in Root:Clocks:4473028504 @4589533456 T=False> used <Node: /Global/Clock/Trading.(Clock:cutoffs)() in Root:Clocks:4473028504:4473028504 @4813313488 T=True>\n",
      "context simplification failure <Node: /Global/TradingPortfolio/Credit.(Portfolio:items)() in Root:Clocks:4473028504 @4831421584 T=False> used <Node: /Global/Clock/Trading.(Clock:cutoffs)() in Root:Clocks:4473028504 @4813388240 T=True>\n",
      "context simplification failure <Node: /Global/TradingPortfolio/Credit.(Portfolio:items)() in Root:Clocks:4473028504 @4831421584 T=False> used <Node: /Global/Clock/Trading.(Clock:cutoffs)() in Root:Clocks:4473028504:4473028504 @4813313488 T=True>\n",
      "context simplification failure <Node: /Global/TradingPortfolio/Delta1.(Portfolio:items)() in Root:Clocks:4473028504 @4831546000 T=False> used <Node: /Global/Clock/Trading.(Clock:cutoffs)() in Root:Clocks:4473028504 @4813388240 T=True>\n",
      "context simplification failure <Node: /Global/TradingPortfolio/Delta1.(Portfolio:items)() in Root:Clocks:4473028504 @4831546000 T=False> used <Node: /Global/Clock/Trading.(Clock:cutoffs)() in Root:Clocks:4473028504:4473028504 @4813313488 T=True>\n",
      "context simplification failure <Node: /Global/TradingPortfolio/Loans.(Portfolio:items)() in Root:Clocks:4473028504 @4831623568 T=False> used <Node: /Global/Clock/Trading.(Clock:cutoffs)() in Root:Clocks:4473028504 @4813388240 T=True>\n",
      "context simplification failure <Node: /Global/TradingPortfolio/Loans.(Portfolio:items)() in Root:Clocks:4473028504 @4831623568 T=False> used <Node: /Global/Clock/Trading.(Clock:cutoffs)() in Root:Clocks:4473028504:4473028504 @4813313488 T=True>\n",
      "context simplification failure <Node: /Global/TradingPortfolio/Commod.(Portfolio:items)() in Root:Clocks:4473028504 @4828126864 T=False> used <Node: /Global/Clock/Trading.(Clock:cutoffs)() in Root:Clocks:4473028504 @4813388240 T=True>\n",
      "context simplification failure <Node: /Global/TradingPortfolio/Commod.(Portfolio:items)() in Root:Clocks:4473028504 @4828126864 T=False> used <Node: /Global/Clock/Trading.(Clock:cutoffs)() in Root:Clocks:4473028504:4473028504 @4813313488 T=True>\n",
      "context simplification failure <Node: /Global/TradingPortfolio/ETFs.(Portfolio:items)() in Root:Clocks:4473028504 @4828007120 T=False> used <Node: /Global/Clock/Trading.(Clock:cutoffs)() in Root:Clocks:4473028504 @4813388240 T=True>\n",
      "context simplification failure <Node: /Global/TradingPortfolio/ETFs.(Portfolio:items)() in Root:Clocks:4473028504 @4828007120 T=False> used <Node: /Global/Clock/Trading.(Clock:cutoffs)() in Root:Clocks:4473028504:4473028504 @4813313488 T=True>\n",
      "context simplification failure <Node: /Global/TradingPortfolio/Mtge.(Portfolio:items)() in Root:Clocks:4473028504 @4832115088 T=False> used <Node: /Global/Clock/Trading.(Clock:cutoffs)() in Root:Clocks:4473028504 @4813388240 T=True>\n",
      "context simplification failure <Node: /Global/TradingPortfolio/Mtge.(Portfolio:items)() in Root:Clocks:4473028504 @4832115088 T=False> used <Node: /Global/Clock/Trading.(Clock:cutoffs)() in Root:Clocks:4473028504:4473028504 @4813313488 T=True>\n",
      "context simplification failure <Node: /Global/TradingPortfolio/TopOfTheHouse.(Portfolio:items)() in Root:Clocks:4473028504 @4813474064 T=False> used <Node: /Global/Clock/Trading.(Clock:cutoffs)() in Root:Clocks:4473028504 @4813388240 T=True>\n",
      "context simplification failure <Node: /Global/TradingPortfolio/TopOfTheHouse.(Portfolio:items)() in Root:Clocks:4473028504 @4813474064 T=False> used <Node: /Global/Clock/Trading.(Clock:cutoffs)() in Root:Clocks:4473028504:4473028504 @4813313488 T=True>\n",
      "new simp-ctx: Root:Clocks:4473028504 <Entity:/Global/Clock/MarketData>\n",
      "context simplification failure <Node: /Global/TradingPortfolio/Eq-Prop.(Portfolio:items)() in Root:Clocks:4473028504 @4530238480 T=False> used <Node: /Global/Clock/Trading.(Clock:cutoffs)() in Root:Clocks:4473028504 @4574484368 T=True>\n",
      "context simplification failure <Node: /Global/TradingPortfolio/Eq-Prop.(Portfolio:items)() in Root:Clocks:4473028504 @4530238480 T=False> used <Node: /Global/Clock/Trading.(Clock:cutoffs)() in Root:Clocks:4473028504:4473028504 @4568946320 T=True>\n",
      "context simplification failure <Node: /Global/TradingPortfolio/Eq-Inst.(Portfolio:items)() in Root:Clocks:4473028504 @4580334032 T=False> used <Node: /Global/Clock/Trading.(Clock:cutoffs)() in Root:Clocks:4473028504 @4574484368 T=True>\n",
      "context simplification failure <Node: /Global/TradingPortfolio/Eq-Inst.(Portfolio:items)() in Root:Clocks:4473028504 @4580334032 T=False> used <Node: /Global/Clock/Trading.(Clock:cutoffs)() in Root:Clocks:4473028504:4473028504 @4568946320 T=True>\n",
      "context simplification failure <Node: /Global/TradingPortfolio/FX.(Portfolio:items)() in Root:Clocks:4473028504 @4584070736 T=False> used <Node: /Global/Clock/Trading.(Clock:cutoffs)() in Root:Clocks:4473028504 @4574484368 T=True>\n",
      "context simplification failure <Node: /Global/TradingPortfolio/FX.(Portfolio:items)() in Root:Clocks:4473028504 @4584070736 T=False> used <Node: /Global/Clock/Trading.(Clock:cutoffs)() in Root:Clocks:4473028504:4473028504 @4568946320 T=True>\n",
      "context simplification failure <Node: /Global/TradingPortfolio/Rates.(Portfolio:items)() in Root:Clocks:4473028504 @4811985872 T=False> used <Node: /Global/Clock/Trading.(Clock:cutoffs)() in Root:Clocks:4473028504 @4574484368 T=True>\n",
      "context simplification failure <Node: /Global/TradingPortfolio/Rates.(Portfolio:items)() in Root:Clocks:4473028504 @4811985872 T=False> used <Node: /Global/Clock/Trading.(Clock:cutoffs)() in Root:Clocks:4473028504:4473028504 @4568946320 T=True>\n",
      "context simplification failure <Node: /Global/TradingPortfolio/Credit.(Portfolio:items)() in Root:Clocks:4473028504 @4812535120 T=False> used <Node: /Global/Clock/Trading.(Clock:cutoffs)() in Root:Clocks:4473028504 @4574484368 T=True>\n",
      "context simplification failure <Node: /Global/TradingPortfolio/Credit.(Portfolio:items)() in Root:Clocks:4473028504 @4812535120 T=False> used <Node: /Global/Clock/Trading.(Clock:cutoffs)() in Root:Clocks:4473028504:4473028504 @4568946320 T=True>\n",
      "context simplification failure <Node: /Global/TradingPortfolio/Delta1.(Portfolio:items)() in Root:Clocks:4473028504 @4812295760 T=False> used <Node: /Global/Clock/Trading.(Clock:cutoffs)() in Root:Clocks:4473028504 @4574484368 T=True>\n",
      "context simplification failure <Node: /Global/TradingPortfolio/Delta1.(Portfolio:items)() in Root:Clocks:4473028504 @4812295760 T=False> used <Node: /Global/Clock/Trading.(Clock:cutoffs)() in Root:Clocks:4473028504:4473028504 @4568946320 T=True>\n",
      "context simplification failure <Node: /Global/TradingPortfolio/Loans.(Portfolio:items)() in Root:Clocks:4473028504 @4812842768 T=False> used <Node: /Global/Clock/Trading.(Clock:cutoffs)() in Root:Clocks:4473028504 @4574484368 T=True>\n",
      "context simplification failure <Node: /Global/TradingPortfolio/Loans.(Portfolio:items)() in Root:Clocks:4473028504 @4812842768 T=False> used <Node: /Global/Clock/Trading.(Clock:cutoffs)() in Root:Clocks:4473028504:4473028504 @4568946320 T=True>\n",
      "context simplification failure <Node: /Global/TradingPortfolio/Commod.(Portfolio:items)() in Root:Clocks:4473028504 @4812940112 T=False> used <Node: /Global/Clock/Trading.(Clock:cutoffs)() in Root:Clocks:4473028504 @4574484368 T=True>\n",
      "context simplification failure <Node: /Global/TradingPortfolio/Commod.(Portfolio:items)() in Root:Clocks:4473028504 @4812940112 T=False> used <Node: /Global/Clock/Trading.(Clock:cutoffs)() in Root:Clocks:4473028504:4473028504 @4568946320 T=True>\n",
      "context simplification failure <Node: /Global/TradingPortfolio/ETFs.(Portfolio:items)() in Root:Clocks:4473028504 @4812983184 T=False> used <Node: /Global/Clock/Trading.(Clock:cutoffs)() in Root:Clocks:4473028504 @4574484368 T=True>\n",
      "context simplification failure <Node: /Global/TradingPortfolio/ETFs.(Portfolio:items)() in Root:Clocks:4473028504 @4812983184 T=False> used <Node: /Global/Clock/Trading.(Clock:cutoffs)() in Root:Clocks:4473028504:4473028504 @4568946320 T=True>\n",
      "context simplification failure <Node: /Global/TradingPortfolio/Mtge.(Portfolio:items)() in Root:Clocks:4473028504 @4813098640 T=False> used <Node: /Global/Clock/Trading.(Clock:cutoffs)() in Root:Clocks:4473028504 @4574484368 T=True>\n",
      "context simplification failure <Node: /Global/TradingPortfolio/Mtge.(Portfolio:items)() in Root:Clocks:4473028504 @4813098640 T=False> used <Node: /Global/Clock/Trading.(Clock:cutoffs)() in Root:Clocks:4473028504:4473028504 @4568946320 T=True>\n",
      "context simplification failure <Node: /Global/TradingPortfolio/TopOfTheHouse.(Portfolio:items)() in Root:Clocks:4473028504 @4675513424 T=False> used <Node: /Global/Clock/Trading.(Clock:cutoffs)() in Root:Clocks:4473028504:4473028504 @4568946320 T=True>\n",
      "context simplification failure <Node: /Global/TradingPortfolio/TopOfTheHouse.(Portfolio:items)() in Root:Clocks:4473028504 @4675513424 T=False> used <Node: /Global/Clock/Trading.(Clock:cutoffs)() in Root:Clocks:4473028504 @4574484368 T=True>\n",
      "context simplification failure <Node: /Global/TradingPortfolio/Eq-Prop.(Portfolio:items)() in Root:Clocks:4473028504 @4530238480 T=False> used <Node: /Global/Clock/Trading.(Clock:cutoffs)() in Root:Clocks:4473028504 @4574484368 T=True>\n",
      "context simplification failure <Node: /Global/TradingPortfolio/Eq-Prop.(Portfolio:items)() in Root:Clocks:4473028504 @4530238480 T=False> used <Node: /Global/Clock/Trading.(Clock:cutoffs)() in Root:Clocks:4473028504:4473028504 @4568946320 T=True>\n",
      "context simplification failure <Node: /Global/TradingPortfolio/Eq-Inst.(Portfolio:items)() in Root:Clocks:4473028504 @4580334032 T=False> used <Node: /Global/Clock/Trading.(Clock:cutoffs)() in Root:Clocks:4473028504 @4574484368 T=True>\n",
      "context simplification failure <Node: /Global/TradingPortfolio/Eq-Inst.(Portfolio:items)() in Root:Clocks:4473028504 @4580334032 T=False> used <Node: /Global/Clock/Trading.(Clock:cutoffs)() in Root:Clocks:4473028504:4473028504 @4568946320 T=True>\n",
      "context simplification failure <Node: /Global/TradingPortfolio/FX.(Portfolio:items)() in Root:Clocks:4473028504 @4584070736 T=False> used <Node: /Global/Clock/Trading.(Clock:cutoffs)() in Root:Clocks:4473028504 @4574484368 T=True>\n",
      "context simplification failure <Node: /Global/TradingPortfolio/FX.(Portfolio:items)() in Root:Clocks:4473028504 @4584070736 T=False> used <Node: /Global/Clock/Trading.(Clock:cutoffs)() in Root:Clocks:4473028504:4473028504 @4568946320 T=True>\n",
      "context simplification failure <Node: /Global/TradingPortfolio/Rates.(Portfolio:items)() in Root:Clocks:4473028504 @4811985872 T=False> used <Node: /Global/Clock/Trading.(Clock:cutoffs)() in Root:Clocks:4473028504 @4574484368 T=True>\n",
      "context simplification failure <Node: /Global/TradingPortfolio/Rates.(Portfolio:items)() in Root:Clocks:4473028504 @4811985872 T=False> used <Node: /Global/Clock/Trading.(Clock:cutoffs)() in Root:Clocks:4473028504:4473028504 @4568946320 T=True>\n",
      "context simplification failure <Node: /Global/TradingPortfolio/Credit.(Portfolio:items)() in Root:Clocks:4473028504 @4812535120 T=False> used <Node: /Global/Clock/Trading.(Clock:cutoffs)() in Root:Clocks:4473028504 @4574484368 T=True>\n",
      "context simplification failure <Node: /Global/TradingPortfolio/Credit.(Portfolio:items)() in Root:Clocks:4473028504 @4812535120 T=False> used <Node: /Global/Clock/Trading.(Clock:cutoffs)() in Root:Clocks:4473028504:4473028504 @4568946320 T=True>\n",
      "context simplification failure <Node: /Global/TradingPortfolio/Delta1.(Portfolio:items)() in Root:Clocks:4473028504 @4812295760 T=False> used <Node: /Global/Clock/Trading.(Clock:cutoffs)() in Root:Clocks:4473028504 @4574484368 T=True>\n",
      "context simplification failure <Node: /Global/TradingPortfolio/Delta1.(Portfolio:items)() in Root:Clocks:4473028504 @4812295760 T=False> used <Node: /Global/Clock/Trading.(Clock:cutoffs)() in Root:Clocks:4473028504:4473028504 @4568946320 T=True>\n",
      "context simplification failure <Node: /Global/TradingPortfolio/Loans.(Portfolio:items)() in Root:Clocks:4473028504 @4812842768 T=False> used <Node: /Global/Clock/Trading.(Clock:cutoffs)() in Root:Clocks:4473028504 @4574484368 T=True>\n",
      "context simplification failure <Node: /Global/TradingPortfolio/Loans.(Portfolio:items)() in Root:Clocks:4473028504 @4812842768 T=False> used <Node: /Global/Clock/Trading.(Clock:cutoffs)() in Root:Clocks:4473028504:4473028504 @4568946320 T=True>\n",
      "context simplification failure <Node: /Global/TradingPortfolio/Commod.(Portfolio:items)() in Root:Clocks:4473028504 @4812940112 T=False> used <Node: /Global/Clock/Trading.(Clock:cutoffs)() in Root:Clocks:4473028504 @4574484368 T=True>\n",
      "context simplification failure <Node: /Global/TradingPortfolio/Commod.(Portfolio:items)() in Root:Clocks:4473028504 @4812940112 T=False> used <Node: /Global/Clock/Trading.(Clock:cutoffs)() in Root:Clocks:4473028504:4473028504 @4568946320 T=True>\n",
      "context simplification failure <Node: /Global/TradingPortfolio/ETFs.(Portfolio:items)() in Root:Clocks:4473028504 @4812983184 T=False> used <Node: /Global/Clock/Trading.(Clock:cutoffs)() in Root:Clocks:4473028504 @4574484368 T=True>\n",
      "context simplification failure <Node: /Global/TradingPortfolio/ETFs.(Portfolio:items)() in Root:Clocks:4473028504 @4812983184 T=False> used <Node: /Global/Clock/Trading.(Clock:cutoffs)() in Root:Clocks:4473028504:4473028504 @4568946320 T=True>\n",
      "context simplification failure <Node: /Global/TradingPortfolio/Mtge.(Portfolio:items)() in Root:Clocks:4473028504 @4813098640 T=False> used <Node: /Global/Clock/Trading.(Clock:cutoffs)() in Root:Clocks:4473028504 @4574484368 T=True>\n",
      "context simplification failure <Node: /Global/TradingPortfolio/Mtge.(Portfolio:items)() in Root:Clocks:4473028504 @4813098640 T=False> used <Node: /Global/Clock/Trading.(Clock:cutoffs)() in Root:Clocks:4473028504:4473028504 @4568946320 T=True>\n",
      "context simplification failure <Node: /Global/TradingPortfolio/TopOfTheHouse.(Portfolio:items)() in Root:Clocks:4473028504 @4675513424 T=False> used <Node: /Global/Clock/Trading.(Clock:cutoffs)() in Root:Clocks:4473028504:4473028504 @4568946320 T=True>\n",
      "context simplification failure <Node: /Global/TradingPortfolio/TopOfTheHouse.(Portfolio:items)() in Root:Clocks:4473028504 @4675513424 T=False> used <Node: /Global/Clock/Trading.(Clock:cutoffs)() in Root:Clocks:4473028504 @4574484368 T=True>\n",
      "context simplification failure <Node: /Global/TradingPortfolio/Eq-Prop.(Portfolio:items)() in Root:Clocks:4473028504 @4530238480 T=False> used <Node: /Global/Clock/Trading.(Clock:cutoffs)() in Root:Clocks:4473028504 @4574484368 T=True>\n",
      "context simplification failure <Node: /Global/TradingPortfolio/Eq-Prop.(Portfolio:items)() in Root:Clocks:4473028504 @4530238480 T=False> used <Node: /Global/Clock/Trading.(Clock:cutoffs)() in Root:Clocks:4473028504:4473028504 @4568946320 T=True>\n",
      "context simplification failure <Node: /Global/TradingPortfolio/Eq-Inst.(Portfolio:items)() in Root:Clocks:4473028504 @4580334032 T=False> used <Node: /Global/Clock/Trading.(Clock:cutoffs)() in Root:Clocks:4473028504 @4574484368 T=True>\n",
      "context simplification failure <Node: /Global/TradingPortfolio/Eq-Inst.(Portfolio:items)() in Root:Clocks:4473028504 @4580334032 T=False> used <Node: /Global/Clock/Trading.(Clock:cutoffs)() in Root:Clocks:4473028504:4473028504 @4568946320 T=True>\n",
      "context simplification failure <Node: /Global/TradingPortfolio/FX.(Portfolio:items)() in Root:Clocks:4473028504 @4584070736 T=False> used <Node: /Global/Clock/Trading.(Clock:cutoffs)() in Root:Clocks:4473028504 @4574484368 T=True>\n",
      "context simplification failure <Node: /Global/TradingPortfolio/FX.(Portfolio:items)() in Root:Clocks:4473028504 @4584070736 T=False> used <Node: /Global/Clock/Trading.(Clock:cutoffs)() in Root:Clocks:4473028504:4473028504 @4568946320 T=True>\n",
      "context simplification failure <Node: /Global/TradingPortfolio/Rates.(Portfolio:items)() in Root:Clocks:4473028504 @4811985872 T=False> used <Node: /Global/Clock/Trading.(Clock:cutoffs)() in Root:Clocks:4473028504 @4574484368 T=True>\n",
      "context simplification failure <Node: /Global/TradingPortfolio/Rates.(Portfolio:items)() in Root:Clocks:4473028504 @4811985872 T=False> used <Node: /Global/Clock/Trading.(Clock:cutoffs)() in Root:Clocks:4473028504:4473028504 @4568946320 T=True>\n",
      "context simplification failure <Node: /Global/TradingPortfolio/Credit.(Portfolio:items)() in Root:Clocks:4473028504 @4812535120 T=False> used <Node: /Global/Clock/Trading.(Clock:cutoffs)() in Root:Clocks:4473028504 @4574484368 T=True>\n",
      "context simplification failure <Node: /Global/TradingPortfolio/Credit.(Portfolio:items)() in Root:Clocks:4473028504 @4812535120 T=False> used <Node: /Global/Clock/Trading.(Clock:cutoffs)() in Root:Clocks:4473028504:4473028504 @4568946320 T=True>\n",
      "context simplification failure <Node: /Global/TradingPortfolio/Delta1.(Portfolio:items)() in Root:Clocks:4473028504 @4812295760 T=False> used <Node: /Global/Clock/Trading.(Clock:cutoffs)() in Root:Clocks:4473028504 @4574484368 T=True>\n",
      "context simplification failure <Node: /Global/TradingPortfolio/Delta1.(Portfolio:items)() in Root:Clocks:4473028504 @4812295760 T=False> used <Node: /Global/Clock/Trading.(Clock:cutoffs)() in Root:Clocks:4473028504:4473028504 @4568946320 T=True>\n",
      "context simplification failure <Node: /Global/TradingPortfolio/Loans.(Portfolio:items)() in Root:Clocks:4473028504 @4812842768 T=False> used <Node: /Global/Clock/Trading.(Clock:cutoffs)() in Root:Clocks:4473028504 @4574484368 T=True>\n",
      "context simplification failure <Node: /Global/TradingPortfolio/Loans.(Portfolio:items)() in Root:Clocks:4473028504 @4812842768 T=False> used <Node: /Global/Clock/Trading.(Clock:cutoffs)() in Root:Clocks:4473028504:4473028504 @4568946320 T=True>\n",
      "context simplification failure <Node: /Global/TradingPortfolio/Commod.(Portfolio:items)() in Root:Clocks:4473028504 @4812940112 T=False> used <Node: /Global/Clock/Trading.(Clock:cutoffs)() in Root:Clocks:4473028504 @4574484368 T=True>\n",
      "context simplification failure <Node: /Global/TradingPortfolio/Commod.(Portfolio:items)() in Root:Clocks:4473028504 @4812940112 T=False> used <Node: /Global/Clock/Trading.(Clock:cutoffs)() in Root:Clocks:4473028504:4473028504 @4568946320 T=True>\n",
      "context simplification failure <Node: /Global/TradingPortfolio/ETFs.(Portfolio:items)() in Root:Clocks:4473028504 @4812983184 T=False> used <Node: /Global/Clock/Trading.(Clock:cutoffs)() in Root:Clocks:4473028504 @4574484368 T=True>\n",
      "context simplification failure <Node: /Global/TradingPortfolio/ETFs.(Portfolio:items)() in Root:Clocks:4473028504 @4812983184 T=False> used <Node: /Global/Clock/Trading.(Clock:cutoffs)() in Root:Clocks:4473028504:4473028504 @4568946320 T=True>\n",
      "context simplification failure <Node: /Global/TradingPortfolio/Mtge.(Portfolio:items)() in Root:Clocks:4473028504 @4813098640 T=False> used <Node: /Global/Clock/Trading.(Clock:cutoffs)() in Root:Clocks:4473028504 @4574484368 T=True>\n",
      "context simplification failure <Node: /Global/TradingPortfolio/Mtge.(Portfolio:items)() in Root:Clocks:4473028504 @4813098640 T=False> used <Node: /Global/Clock/Trading.(Clock:cutoffs)() in Root:Clocks:4473028504:4473028504 @4568946320 T=True>\n",
      "context simplification failure <Node: /Global/TradingPortfolio/TopOfTheHouse.(Portfolio:items)() in Root:Clocks:4473028504 @4675513424 T=False> used <Node: /Global/Clock/Trading.(Clock:cutoffs)() in Root:Clocks:4473028504:4473028504 @4568946320 T=True>\n",
      "context simplification failure <Node: /Global/TradingPortfolio/TopOfTheHouse.(Portfolio:items)() in Root:Clocks:4473028504 @4675513424 T=False> used <Node: /Global/Clock/Trading.(Clock:cutoffs)() in Root:Clocks:4473028504 @4574484368 T=True>\n",
      "new simp-ctx: Root:Amend MarketData:4473028504 <Entity:/Global/Clock/MarketData>\n",
      "new simp-ctx: Root:Amend Portfolio:4473028504 <Entity:/Global/Clock/Portfolio>\n",
      "context simplification failure <Node: /Global/TradingPortfolio/Eq-Prop.(Portfolio:items)() in Root:Amend Portfolio:4473028504 @4832206672 T=False> used <Node: /Global/Clock/Trading.(Clock:cutoffs)() in Root:Amend Portfolio:4473028504 @4832293456 T=True>\n",
      "context simplification failure <Node: /Global/TradingPortfolio/Eq-Prop.(Portfolio:items)() in Root:Amend Portfolio:4473028504 @4832206672 T=False> used <Node: /Global/Clock/Trading.(Clock:cutoffs)() in Root:Clocks:4473028504:4473028504 @4568946320 T=True>\n",
      "context simplification failure <Node: /Global/TradingPortfolio/Eq-Inst.(Portfolio:items)() in Root:Amend Portfolio:4473028504 @4832405072 T=False> used <Node: /Global/Clock/Trading.(Clock:cutoffs)() in Root:Amend Portfolio:4473028504 @4832293456 T=True>\n",
      "context simplification failure <Node: /Global/TradingPortfolio/Eq-Inst.(Portfolio:items)() in Root:Amend Portfolio:4473028504 @4832405072 T=False> used <Node: /Global/Clock/Trading.(Clock:cutoffs)() in Root:Clocks:4473028504:4473028504 @4568946320 T=True>\n",
      "context simplification failure <Node: /Global/TradingPortfolio/FX.(Portfolio:items)() in Root:Amend Portfolio:4473028504 @4833466512 T=False> used <Node: /Global/Clock/Trading.(Clock:cutoffs)() in Root:Amend Portfolio:4473028504 @4832293456 T=True>\n",
      "context simplification failure <Node: /Global/TradingPortfolio/FX.(Portfolio:items)() in Root:Amend Portfolio:4473028504 @4833466512 T=False> used <Node: /Global/Clock/Trading.(Clock:cutoffs)() in Root:Clocks:4473028504:4473028504 @4568946320 T=True>\n",
      "context simplification failure <Node: /Global/TradingPortfolio/Rates.(Portfolio:items)() in Root:Amend Portfolio:4473028504 @4832407248 T=False> used <Node: /Global/Clock/Trading.(Clock:cutoffs)() in Root:Amend Portfolio:4473028504 @4832293456 T=True>\n",
      "context simplification failure <Node: /Global/TradingPortfolio/Rates.(Portfolio:items)() in Root:Amend Portfolio:4473028504 @4832407248 T=False> used <Node: /Global/Clock/Trading.(Clock:cutoffs)() in Root:Clocks:4473028504:4473028504 @4568946320 T=True>\n",
      "context simplification failure <Node: /Global/TradingPortfolio/Credit.(Portfolio:items)() in Root:Amend Portfolio:4473028504 @4833527824 T=False> used <Node: /Global/Clock/Trading.(Clock:cutoffs)() in Root:Amend Portfolio:4473028504 @4832293456 T=True>\n",
      "context simplification failure <Node: /Global/TradingPortfolio/Credit.(Portfolio:items)() in Root:Amend Portfolio:4473028504 @4833527824 T=False> used <Node: /Global/Clock/Trading.(Clock:cutoffs)() in Root:Clocks:4473028504:4473028504 @4568946320 T=True>\n",
      "context simplification failure <Node: /Global/TradingPortfolio/Delta1.(Portfolio:items)() in Root:Amend Portfolio:4473028504 @4833528784 T=False> used <Node: /Global/Clock/Trading.(Clock:cutoffs)() in Root:Amend Portfolio:4473028504 @4832293456 T=True>\n",
      "context simplification failure <Node: /Global/TradingPortfolio/Delta1.(Portfolio:items)() in Root:Amend Portfolio:4473028504 @4833528784 T=False> used <Node: /Global/Clock/Trading.(Clock:cutoffs)() in Root:Clocks:4473028504:4473028504 @4568946320 T=True>\n",
      "context simplification failure <Node: /Global/TradingPortfolio/Loans.(Portfolio:items)() in Root:Amend Portfolio:4473028504 @4832295312 T=False> used <Node: /Global/Clock/Trading.(Clock:cutoffs)() in Root:Amend Portfolio:4473028504 @4832293456 T=True>\n",
      "context simplification failure <Node: /Global/TradingPortfolio/Loans.(Portfolio:items)() in Root:Amend Portfolio:4473028504 @4832295312 T=False> used <Node: /Global/Clock/Trading.(Clock:cutoffs)() in Root:Clocks:4473028504:4473028504 @4568946320 T=True>\n",
      "context simplification failure <Node: /Global/TradingPortfolio/Commod.(Portfolio:items)() in Root:Amend Portfolio:4473028504 @4831779984 T=False> used <Node: /Global/Clock/Trading.(Clock:cutoffs)() in Root:Amend Portfolio:4473028504 @4832293456 T=True>\n",
      "context simplification failure <Node: /Global/TradingPortfolio/Commod.(Portfolio:items)() in Root:Amend Portfolio:4473028504 @4831779984 T=False> used <Node: /Global/Clock/Trading.(Clock:cutoffs)() in Root:Clocks:4473028504:4473028504 @4568946320 T=True>\n",
      "context simplification failure <Node: /Global/TradingPortfolio/ETFs.(Portfolio:items)() in Root:Amend Portfolio:4473028504 @4831780624 T=False> used <Node: /Global/Clock/Trading.(Clock:cutoffs)() in Root:Amend Portfolio:4473028504 @4832293456 T=True>\n",
      "context simplification failure <Node: /Global/TradingPortfolio/ETFs.(Portfolio:items)() in Root:Amend Portfolio:4473028504 @4831780624 T=False> used <Node: /Global/Clock/Trading.(Clock:cutoffs)() in Root:Clocks:4473028504:4473028504 @4568946320 T=True>\n",
      "context simplification failure <Node: /Global/TradingPortfolio/Mtge.(Portfolio:items)() in Root:Amend Portfolio:4473028504 @4833598480 T=False> used <Node: /Global/Clock/Trading.(Clock:cutoffs)() in Root:Amend Portfolio:4473028504 @4832293456 T=True>\n",
      "context simplification failure <Node: /Global/TradingPortfolio/Mtge.(Portfolio:items)() in Root:Amend Portfolio:4473028504 @4833598480 T=False> used <Node: /Global/Clock/Trading.(Clock:cutoffs)() in Root:Clocks:4473028504:4473028504 @4568946320 T=True>\n",
      "context simplification failure <Node: /Global/TradingPortfolio/TopOfTheHouse.(Portfolio:items)() in Root:Amend Portfolio:4473028504 @4832293264 T=False> used <Node: /Global/Clock/Trading.(Clock:cutoffs)() in Root:Amend Portfolio:4473028504 @4832293456 T=True>\n",
      "context simplification failure <Node: /Global/TradingPortfolio/TopOfTheHouse.(Portfolio:items)() in Root:Amend Portfolio:4473028504 @4832293264 T=False> used <Node: /Global/Clock/Trading.(Clock:cutoffs)() in Root:Clocks:4473028504:4473028504 @4568946320 T=True>\n",
      "context simplification failure <Node: /Global/TradingPortfolio/Eq-Prop.(Portfolio:items)() in Root:Amend Portfolio:4473028504 @4832206672 T=False> used <Node: /Global/Clock/Trading.(Clock:cutoffs)() in Root:Amend Portfolio:4473028504 @4832293456 T=True>\n",
      "context simplification failure <Node: /Global/TradingPortfolio/Eq-Prop.(Portfolio:items)() in Root:Amend Portfolio:4473028504 @4832206672 T=False> used <Node: /Global/Clock/Trading.(Clock:cutoffs)() in Root:Clocks:4473028504:4473028504 @4568946320 T=True>\n",
      "context simplification failure <Node: /Global/TradingPortfolio/Eq-Inst.(Portfolio:items)() in Root:Amend Portfolio:4473028504 @4832405072 T=False> used <Node: /Global/Clock/Trading.(Clock:cutoffs)() in Root:Amend Portfolio:4473028504 @4832293456 T=True>\n",
      "context simplification failure <Node: /Global/TradingPortfolio/Eq-Inst.(Portfolio:items)() in Root:Amend Portfolio:4473028504 @4832405072 T=False> used <Node: /Global/Clock/Trading.(Clock:cutoffs)() in Root:Clocks:4473028504:4473028504 @4568946320 T=True>\n",
      "context simplification failure <Node: /Global/TradingPortfolio/FX.(Portfolio:items)() in Root:Amend Portfolio:4473028504 @4833466512 T=False> used <Node: /Global/Clock/Trading.(Clock:cutoffs)() in Root:Amend Portfolio:4473028504 @4832293456 T=True>\n",
      "context simplification failure <Node: /Global/TradingPortfolio/FX.(Portfolio:items)() in Root:Amend Portfolio:4473028504 @4833466512 T=False> used <Node: /Global/Clock/Trading.(Clock:cutoffs)() in Root:Clocks:4473028504:4473028504 @4568946320 T=True>\n",
      "context simplification failure <Node: /Global/TradingPortfolio/Rates.(Portfolio:items)() in Root:Amend Portfolio:4473028504 @4832407248 T=False> used <Node: /Global/Clock/Trading.(Clock:cutoffs)() in Root:Amend Portfolio:4473028504 @4832293456 T=True>\n",
      "context simplification failure <Node: /Global/TradingPortfolio/Rates.(Portfolio:items)() in Root:Amend Portfolio:4473028504 @4832407248 T=False> used <Node: /Global/Clock/Trading.(Clock:cutoffs)() in Root:Clocks:4473028504:4473028504 @4568946320 T=True>\n",
      "context simplification failure <Node: /Global/TradingPortfolio/Credit.(Portfolio:items)() in Root:Amend Portfolio:4473028504 @4833527824 T=False> used <Node: /Global/Clock/Trading.(Clock:cutoffs)() in Root:Amend Portfolio:4473028504 @4832293456 T=True>\n",
      "context simplification failure <Node: /Global/TradingPortfolio/Credit.(Portfolio:items)() in Root:Amend Portfolio:4473028504 @4833527824 T=False> used <Node: /Global/Clock/Trading.(Clock:cutoffs)() in Root:Clocks:4473028504:4473028504 @4568946320 T=True>\n",
      "context simplification failure <Node: /Global/TradingPortfolio/Delta1.(Portfolio:items)() in Root:Amend Portfolio:4473028504 @4833528784 T=False> used <Node: /Global/Clock/Trading.(Clock:cutoffs)() in Root:Amend Portfolio:4473028504 @4832293456 T=True>\n",
      "context simplification failure <Node: /Global/TradingPortfolio/Delta1.(Portfolio:items)() in Root:Amend Portfolio:4473028504 @4833528784 T=False> used <Node: /Global/Clock/Trading.(Clock:cutoffs)() in Root:Clocks:4473028504:4473028504 @4568946320 T=True>\n",
      "context simplification failure <Node: /Global/TradingPortfolio/Loans.(Portfolio:items)() in Root:Amend Portfolio:4473028504 @4832295312 T=False> used <Node: /Global/Clock/Trading.(Clock:cutoffs)() in Root:Amend Portfolio:4473028504 @4832293456 T=True>\n",
      "context simplification failure <Node: /Global/TradingPortfolio/Loans.(Portfolio:items)() in Root:Amend Portfolio:4473028504 @4832295312 T=False> used <Node: /Global/Clock/Trading.(Clock:cutoffs)() in Root:Clocks:4473028504:4473028504 @4568946320 T=True>\n",
      "context simplification failure <Node: /Global/TradingPortfolio/Commod.(Portfolio:items)() in Root:Amend Portfolio:4473028504 @4831779984 T=False> used <Node: /Global/Clock/Trading.(Clock:cutoffs)() in Root:Amend Portfolio:4473028504 @4832293456 T=True>\n",
      "context simplification failure <Node: /Global/TradingPortfolio/Commod.(Portfolio:items)() in Root:Amend Portfolio:4473028504 @4831779984 T=False> used <Node: /Global/Clock/Trading.(Clock:cutoffs)() in Root:Clocks:4473028504:4473028504 @4568946320 T=True>\n",
      "context simplification failure <Node: /Global/TradingPortfolio/ETFs.(Portfolio:items)() in Root:Amend Portfolio:4473028504 @4831780624 T=False> used <Node: /Global/Clock/Trading.(Clock:cutoffs)() in Root:Amend Portfolio:4473028504 @4832293456 T=True>\n",
      "context simplification failure <Node: /Global/TradingPortfolio/ETFs.(Portfolio:items)() in Root:Amend Portfolio:4473028504 @4831780624 T=False> used <Node: /Global/Clock/Trading.(Clock:cutoffs)() in Root:Clocks:4473028504:4473028504 @4568946320 T=True>\n",
      "context simplification failure <Node: /Global/TradingPortfolio/Mtge.(Portfolio:items)() in Root:Amend Portfolio:4473028504 @4833598480 T=False> used <Node: /Global/Clock/Trading.(Clock:cutoffs)() in Root:Amend Portfolio:4473028504 @4832293456 T=True>\n",
      "context simplification failure <Node: /Global/TradingPortfolio/Mtge.(Portfolio:items)() in Root:Amend Portfolio:4473028504 @4833598480 T=False> used <Node: /Global/Clock/Trading.(Clock:cutoffs)() in Root:Clocks:4473028504:4473028504 @4568946320 T=True>\n",
      "context simplification failure <Node: /Global/TradingPortfolio/TopOfTheHouse.(Portfolio:items)() in Root:Amend Portfolio:4473028504 @4832293264 T=False> used <Node: /Global/Clock/Trading.(Clock:cutoffs)() in Root:Amend Portfolio:4473028504 @4832293456 T=True>\n",
      "context simplification failure <Node: /Global/TradingPortfolio/TopOfTheHouse.(Portfolio:items)() in Root:Amend Portfolio:4473028504 @4832293264 T=False> used <Node: /Global/Clock/Trading.(Clock:cutoffs)() in Root:Clocks:4473028504:4473028504 @4568946320 T=True>\n",
      "context simplification failure <Node: /Global/TradingPortfolio/Eq-Prop.(Portfolio:items)() in Root:Amend Portfolio:4473028504 @4832206672 T=False> used <Node: /Global/Clock/Trading.(Clock:cutoffs)() in Root:Amend Portfolio:4473028504 @4832293456 T=True>\n",
      "context simplification failure <Node: /Global/TradingPortfolio/Eq-Prop.(Portfolio:items)() in Root:Amend Portfolio:4473028504 @4832206672 T=False> used <Node: /Global/Clock/Trading.(Clock:cutoffs)() in Root:Clocks:4473028504:4473028504 @4568946320 T=True>\n",
      "context simplification failure <Node: /Global/TradingPortfolio/Eq-Inst.(Portfolio:items)() in Root:Amend Portfolio:4473028504 @4832405072 T=False> used <Node: /Global/Clock/Trading.(Clock:cutoffs)() in Root:Amend Portfolio:4473028504 @4832293456 T=True>\n",
      "context simplification failure <Node: /Global/TradingPortfolio/Eq-Inst.(Portfolio:items)() in Root:Amend Portfolio:4473028504 @4832405072 T=False> used <Node: /Global/Clock/Trading.(Clock:cutoffs)() in Root:Clocks:4473028504:4473028504 @4568946320 T=True>\n",
      "context simplification failure <Node: /Global/TradingPortfolio/FX.(Portfolio:items)() in Root:Amend Portfolio:4473028504 @4833466512 T=False> used <Node: /Global/Clock/Trading.(Clock:cutoffs)() in Root:Amend Portfolio:4473028504 @4832293456 T=True>\n",
      "context simplification failure <Node: /Global/TradingPortfolio/FX.(Portfolio:items)() in Root:Amend Portfolio:4473028504 @4833466512 T=False> used <Node: /Global/Clock/Trading.(Clock:cutoffs)() in Root:Clocks:4473028504:4473028504 @4568946320 T=True>\n",
      "context simplification failure <Node: /Global/TradingPortfolio/Rates.(Portfolio:items)() in Root:Amend Portfolio:4473028504 @4832407248 T=False> used <Node: /Global/Clock/Trading.(Clock:cutoffs)() in Root:Amend Portfolio:4473028504 @4832293456 T=True>\n",
      "context simplification failure <Node: /Global/TradingPortfolio/Rates.(Portfolio:items)() in Root:Amend Portfolio:4473028504 @4832407248 T=False> used <Node: /Global/Clock/Trading.(Clock:cutoffs)() in Root:Clocks:4473028504:4473028504 @4568946320 T=True>\n",
      "context simplification failure <Node: /Global/TradingPortfolio/Credit.(Portfolio:items)() in Root:Amend Portfolio:4473028504 @4833527824 T=False> used <Node: /Global/Clock/Trading.(Clock:cutoffs)() in Root:Amend Portfolio:4473028504 @4832293456 T=True>\n",
      "context simplification failure <Node: /Global/TradingPortfolio/Credit.(Portfolio:items)() in Root:Amend Portfolio:4473028504 @4833527824 T=False> used <Node: /Global/Clock/Trading.(Clock:cutoffs)() in Root:Clocks:4473028504:4473028504 @4568946320 T=True>\n",
      "context simplification failure <Node: /Global/TradingPortfolio/Delta1.(Portfolio:items)() in Root:Amend Portfolio:4473028504 @4833528784 T=False> used <Node: /Global/Clock/Trading.(Clock:cutoffs)() in Root:Amend Portfolio:4473028504 @4832293456 T=True>\n",
      "context simplification failure <Node: /Global/TradingPortfolio/Delta1.(Portfolio:items)() in Root:Amend Portfolio:4473028504 @4833528784 T=False> used <Node: /Global/Clock/Trading.(Clock:cutoffs)() in Root:Clocks:4473028504:4473028504 @4568946320 T=True>\n",
      "context simplification failure <Node: /Global/TradingPortfolio/Loans.(Portfolio:items)() in Root:Amend Portfolio:4473028504 @4832295312 T=False> used <Node: /Global/Clock/Trading.(Clock:cutoffs)() in Root:Amend Portfolio:4473028504 @4832293456 T=True>\n",
      "context simplification failure <Node: /Global/TradingPortfolio/Loans.(Portfolio:items)() in Root:Amend Portfolio:4473028504 @4832295312 T=False> used <Node: /Global/Clock/Trading.(Clock:cutoffs)() in Root:Clocks:4473028504:4473028504 @4568946320 T=True>\n",
      "context simplification failure <Node: /Global/TradingPortfolio/Commod.(Portfolio:items)() in Root:Amend Portfolio:4473028504 @4831779984 T=False> used <Node: /Global/Clock/Trading.(Clock:cutoffs)() in Root:Amend Portfolio:4473028504 @4832293456 T=True>\n",
      "context simplification failure <Node: /Global/TradingPortfolio/Commod.(Portfolio:items)() in Root:Amend Portfolio:4473028504 @4831779984 T=False> used <Node: /Global/Clock/Trading.(Clock:cutoffs)() in Root:Clocks:4473028504:4473028504 @4568946320 T=True>\n",
      "context simplification failure <Node: /Global/TradingPortfolio/ETFs.(Portfolio:items)() in Root:Amend Portfolio:4473028504 @4831780624 T=False> used <Node: /Global/Clock/Trading.(Clock:cutoffs)() in Root:Amend Portfolio:4473028504 @4832293456 T=True>\n",
      "context simplification failure <Node: /Global/TradingPortfolio/ETFs.(Portfolio:items)() in Root:Amend Portfolio:4473028504 @4831780624 T=False> used <Node: /Global/Clock/Trading.(Clock:cutoffs)() in Root:Clocks:4473028504:4473028504 @4568946320 T=True>\n",
      "context simplification failure <Node: /Global/TradingPortfolio/Mtge.(Portfolio:items)() in Root:Amend Portfolio:4473028504 @4833598480 T=False> used <Node: /Global/Clock/Trading.(Clock:cutoffs)() in Root:Amend Portfolio:4473028504 @4832293456 T=True>\n",
      "context simplification failure <Node: /Global/TradingPortfolio/Mtge.(Portfolio:items)() in Root:Amend Portfolio:4473028504 @4833598480 T=False> used <Node: /Global/Clock/Trading.(Clock:cutoffs)() in Root:Clocks:4473028504:4473028504 @4568946320 T=True>\n",
      "context simplification failure <Node: /Global/TradingPortfolio/TopOfTheHouse.(Portfolio:items)() in Root:Amend Portfolio:4473028504 @4832293264 T=False> used <Node: /Global/Clock/Trading.(Clock:cutoffs)() in Root:Amend Portfolio:4473028504 @4832293456 T=True>\n",
      "context simplification failure <Node: /Global/TradingPortfolio/TopOfTheHouse.(Portfolio:items)() in Root:Amend Portfolio:4473028504 @4832293264 T=False> used <Node: /Global/Clock/Trading.(Clock:cutoffs)() in Root:Clocks:4473028504:4473028504 @4568946320 T=True>\n",
      "context simplification failure <Node: /Global/TradingPortfolio/Eq-Prop.(Portfolio:items)() in Root:Clocks:4473028504 @4813388560 T=False> used <Node: /Global/Clock/Trading.(Clock:cutoffs)() in Root:Clocks:4473028504 @4813388240 T=True>\n",
      "context simplification failure <Node: /Global/TradingPortfolio/Eq-Prop.(Portfolio:items)() in Root:Clocks:4473028504 @4813388560 T=False> used <Node: /Global/Clock/Trading.(Clock:cutoffs)() in Root:Clocks:4473028504:4473028504 @4813313488 T=True>\n",
      "context simplification failure <Node: /Global/TradingPortfolio/Eq-Inst.(Portfolio:items)() in Root:Clocks:4473028504 @4813554000 T=False> used <Node: /Global/Clock/Trading.(Clock:cutoffs)() in Root:Clocks:4473028504 @4813388240 T=True>\n",
      "context simplification failure <Node: /Global/TradingPortfolio/Eq-Inst.(Portfolio:items)() in Root:Clocks:4473028504 @4813554000 T=False> used <Node: /Global/Clock/Trading.(Clock:cutoffs)() in Root:Clocks:4473028504:4473028504 @4813313488 T=True>\n",
      "context simplification failure <Node: /Global/TradingPortfolio/FX.(Portfolio:items)() in Root:Clocks:4473028504 @4813389136 T=False> used <Node: /Global/Clock/Trading.(Clock:cutoffs)() in Root:Clocks:4473028504 @4813388240 T=True>\n",
      "context simplification failure <Node: /Global/TradingPortfolio/FX.(Portfolio:items)() in Root:Clocks:4473028504 @4813389136 T=False> used <Node: /Global/Clock/Trading.(Clock:cutoffs)() in Root:Clocks:4473028504:4473028504 @4813313488 T=True>\n",
      "context simplification failure <Node: /Global/TradingPortfolio/Rates.(Portfolio:items)() in Root:Clocks:4473028504 @4589533456 T=False> used <Node: /Global/Clock/Trading.(Clock:cutoffs)() in Root:Clocks:4473028504 @4813388240 T=True>\n",
      "context simplification failure <Node: /Global/TradingPortfolio/Rates.(Portfolio:items)() in Root:Clocks:4473028504 @4589533456 T=False> used <Node: /Global/Clock/Trading.(Clock:cutoffs)() in Root:Clocks:4473028504:4473028504 @4813313488 T=True>\n",
      "context simplification failure <Node: /Global/TradingPortfolio/Credit.(Portfolio:items)() in Root:Clocks:4473028504 @4831421584 T=False> used <Node: /Global/Clock/Trading.(Clock:cutoffs)() in Root:Clocks:4473028504 @4813388240 T=True>\n",
      "context simplification failure <Node: /Global/TradingPortfolio/Credit.(Portfolio:items)() in Root:Clocks:4473028504 @4831421584 T=False> used <Node: /Global/Clock/Trading.(Clock:cutoffs)() in Root:Clocks:4473028504:4473028504 @4813313488 T=True>\n",
      "context simplification failure <Node: /Global/TradingPortfolio/Delta1.(Portfolio:items)() in Root:Clocks:4473028504 @4831546000 T=False> used <Node: /Global/Clock/Trading.(Clock:cutoffs)() in Root:Clocks:4473028504 @4813388240 T=True>\n",
      "context simplification failure <Node: /Global/TradingPortfolio/Delta1.(Portfolio:items)() in Root:Clocks:4473028504 @4831546000 T=False> used <Node: /Global/Clock/Trading.(Clock:cutoffs)() in Root:Clocks:4473028504:4473028504 @4813313488 T=True>\n",
      "context simplification failure <Node: /Global/TradingPortfolio/Loans.(Portfolio:items)() in Root:Clocks:4473028504 @4831623568 T=False> used <Node: /Global/Clock/Trading.(Clock:cutoffs)() in Root:Clocks:4473028504 @4813388240 T=True>\n",
      "context simplification failure <Node: /Global/TradingPortfolio/Loans.(Portfolio:items)() in Root:Clocks:4473028504 @4831623568 T=False> used <Node: /Global/Clock/Trading.(Clock:cutoffs)() in Root:Clocks:4473028504:4473028504 @4813313488 T=True>\n",
      "context simplification failure <Node: /Global/TradingPortfolio/Commod.(Portfolio:items)() in Root:Clocks:4473028504 @4828126864 T=False> used <Node: /Global/Clock/Trading.(Clock:cutoffs)() in Root:Clocks:4473028504 @4813388240 T=True>\n",
      "context simplification failure <Node: /Global/TradingPortfolio/Commod.(Portfolio:items)() in Root:Clocks:4473028504 @4828126864 T=False> used <Node: /Global/Clock/Trading.(Clock:cutoffs)() in Root:Clocks:4473028504:4473028504 @4813313488 T=True>\n",
      "context simplification failure <Node: /Global/TradingPortfolio/ETFs.(Portfolio:items)() in Root:Clocks:4473028504 @4828007120 T=False> used <Node: /Global/Clock/Trading.(Clock:cutoffs)() in Root:Clocks:4473028504 @4813388240 T=True>\n",
      "context simplification failure <Node: /Global/TradingPortfolio/ETFs.(Portfolio:items)() in Root:Clocks:4473028504 @4828007120 T=False> used <Node: /Global/Clock/Trading.(Clock:cutoffs)() in Root:Clocks:4473028504:4473028504 @4813313488 T=True>\n",
      "context simplification failure <Node: /Global/TradingPortfolio/Mtge.(Portfolio:items)() in Root:Clocks:4473028504 @4832115088 T=False> used <Node: /Global/Clock/Trading.(Clock:cutoffs)() in Root:Clocks:4473028504 @4813388240 T=True>\n",
      "context simplification failure <Node: /Global/TradingPortfolio/Mtge.(Portfolio:items)() in Root:Clocks:4473028504 @4832115088 T=False> used <Node: /Global/Clock/Trading.(Clock:cutoffs)() in Root:Clocks:4473028504:4473028504 @4813313488 T=True>\n",
      "context simplification failure <Node: /Global/TradingPortfolio/TopOfTheHouse.(Portfolio:items)() in Root:Clocks:4473028504 @4813474064 T=False> used <Node: /Global/Clock/Trading.(Clock:cutoffs)() in Root:Clocks:4473028504 @4813388240 T=True>\n",
      "context simplification failure <Node: /Global/TradingPortfolio/TopOfTheHouse.(Portfolio:items)() in Root:Clocks:4473028504 @4813474064 T=False> used <Node: /Global/Clock/Trading.(Clock:cutoffs)() in Root:Clocks:4473028504:4473028504 @4813313488 T=True>\n",
      "context simplification failure <Node: /Global/TradingPortfolio/Eq-Prop.(Portfolio:items)() in Root:Clocks:4473028504 @4813388560 T=False> used <Node: /Global/Clock/Trading.(Clock:cutoffs)() in Root:Clocks:4473028504 @4813388240 T=True>\n",
      "context simplification failure <Node: /Global/TradingPortfolio/Eq-Prop.(Portfolio:items)() in Root:Clocks:4473028504 @4813388560 T=False> used <Node: /Global/Clock/Trading.(Clock:cutoffs)() in Root:Clocks:4473028504:4473028504 @4813313488 T=True>\n",
      "context simplification failure <Node: /Global/TradingPortfolio/Eq-Inst.(Portfolio:items)() in Root:Clocks:4473028504 @4813554000 T=False> used <Node: /Global/Clock/Trading.(Clock:cutoffs)() in Root:Clocks:4473028504 @4813388240 T=True>\n",
      "context simplification failure <Node: /Global/TradingPortfolio/Eq-Inst.(Portfolio:items)() in Root:Clocks:4473028504 @4813554000 T=False> used <Node: /Global/Clock/Trading.(Clock:cutoffs)() in Root:Clocks:4473028504:4473028504 @4813313488 T=True>\n",
      "context simplification failure <Node: /Global/TradingPortfolio/FX.(Portfolio:items)() in Root:Clocks:4473028504 @4813389136 T=False> used <Node: /Global/Clock/Trading.(Clock:cutoffs)() in Root:Clocks:4473028504 @4813388240 T=True>\n",
      "context simplification failure <Node: /Global/TradingPortfolio/FX.(Portfolio:items)() in Root:Clocks:4473028504 @4813389136 T=False> used <Node: /Global/Clock/Trading.(Clock:cutoffs)() in Root:Clocks:4473028504:4473028504 @4813313488 T=True>\n",
      "context simplification failure <Node: /Global/TradingPortfolio/Rates.(Portfolio:items)() in Root:Clocks:4473028504 @4589533456 T=False> used <Node: /Global/Clock/Trading.(Clock:cutoffs)() in Root:Clocks:4473028504 @4813388240 T=True>\n",
      "context simplification failure <Node: /Global/TradingPortfolio/Rates.(Portfolio:items)() in Root:Clocks:4473028504 @4589533456 T=False> used <Node: /Global/Clock/Trading.(Clock:cutoffs)() in Root:Clocks:4473028504:4473028504 @4813313488 T=True>\n",
      "context simplification failure <Node: /Global/TradingPortfolio/Credit.(Portfolio:items)() in Root:Clocks:4473028504 @4831421584 T=False> used <Node: /Global/Clock/Trading.(Clock:cutoffs)() in Root:Clocks:4473028504 @4813388240 T=True>\n",
      "context simplification failure <Node: /Global/TradingPortfolio/Credit.(Portfolio:items)() in Root:Clocks:4473028504 @4831421584 T=False> used <Node: /Global/Clock/Trading.(Clock:cutoffs)() in Root:Clocks:4473028504:4473028504 @4813313488 T=True>\n",
      "context simplification failure <Node: /Global/TradingPortfolio/Delta1.(Portfolio:items)() in Root:Clocks:4473028504 @4831546000 T=False> used <Node: /Global/Clock/Trading.(Clock:cutoffs)() in Root:Clocks:4473028504 @4813388240 T=True>\n",
      "context simplification failure <Node: /Global/TradingPortfolio/Delta1.(Portfolio:items)() in Root:Clocks:4473028504 @4831546000 T=False> used <Node: /Global/Clock/Trading.(Clock:cutoffs)() in Root:Clocks:4473028504:4473028504 @4813313488 T=True>\n",
      "context simplification failure <Node: /Global/TradingPortfolio/Loans.(Portfolio:items)() in Root:Clocks:4473028504 @4831623568 T=False> used <Node: /Global/Clock/Trading.(Clock:cutoffs)() in Root:Clocks:4473028504 @4813388240 T=True>\n",
      "context simplification failure <Node: /Global/TradingPortfolio/Loans.(Portfolio:items)() in Root:Clocks:4473028504 @4831623568 T=False> used <Node: /Global/Clock/Trading.(Clock:cutoffs)() in Root:Clocks:4473028504:4473028504 @4813313488 T=True>\n",
      "context simplification failure <Node: /Global/TradingPortfolio/Commod.(Portfolio:items)() in Root:Clocks:4473028504 @4828126864 T=False> used <Node: /Global/Clock/Trading.(Clock:cutoffs)() in Root:Clocks:4473028504 @4813388240 T=True>\n",
      "context simplification failure <Node: /Global/TradingPortfolio/Commod.(Portfolio:items)() in Root:Clocks:4473028504 @4828126864 T=False> used <Node: /Global/Clock/Trading.(Clock:cutoffs)() in Root:Clocks:4473028504:4473028504 @4813313488 T=True>\n",
      "context simplification failure <Node: /Global/TradingPortfolio/ETFs.(Portfolio:items)() in Root:Clocks:4473028504 @4828007120 T=False> used <Node: /Global/Clock/Trading.(Clock:cutoffs)() in Root:Clocks:4473028504 @4813388240 T=True>\n",
      "context simplification failure <Node: /Global/TradingPortfolio/ETFs.(Portfolio:items)() in Root:Clocks:4473028504 @4828007120 T=False> used <Node: /Global/Clock/Trading.(Clock:cutoffs)() in Root:Clocks:4473028504:4473028504 @4813313488 T=True>\n",
      "context simplification failure <Node: /Global/TradingPortfolio/Mtge.(Portfolio:items)() in Root:Clocks:4473028504 @4832115088 T=False> used <Node: /Global/Clock/Trading.(Clock:cutoffs)() in Root:Clocks:4473028504 @4813388240 T=True>\n",
      "context simplification failure <Node: /Global/TradingPortfolio/Mtge.(Portfolio:items)() in Root:Clocks:4473028504 @4832115088 T=False> used <Node: /Global/Clock/Trading.(Clock:cutoffs)() in Root:Clocks:4473028504:4473028504 @4813313488 T=True>\n",
      "context simplification failure <Node: /Global/TradingPortfolio/TopOfTheHouse.(Portfolio:items)() in Root:Clocks:4473028504 @4813474064 T=False> used <Node: /Global/Clock/Trading.(Clock:cutoffs)() in Root:Clocks:4473028504 @4813388240 T=True>\n",
      "context simplification failure <Node: /Global/TradingPortfolio/TopOfTheHouse.(Portfolio:items)() in Root:Clocks:4473028504 @4813474064 T=False> used <Node: /Global/Clock/Trading.(Clock:cutoffs)() in Root:Clocks:4473028504:4473028504 @4813313488 T=True>\n",
      "context simplification failure <Node: /Global/TradingPortfolio/Eq-Prop.(Portfolio:items)() in Root:Clocks:4473028504 @4813388560 T=False> used <Node: /Global/Clock/Trading.(Clock:cutoffs)() in Root:Clocks:4473028504 @4813388240 T=True>\n",
      "context simplification failure <Node: /Global/TradingPortfolio/Eq-Prop.(Portfolio:items)() in Root:Clocks:4473028504 @4813388560 T=False> used <Node: /Global/Clock/Trading.(Clock:cutoffs)() in Root:Clocks:4473028504:4473028504 @4813313488 T=True>\n",
      "context simplification failure <Node: /Global/TradingPortfolio/Eq-Inst.(Portfolio:items)() in Root:Clocks:4473028504 @4813554000 T=False> used <Node: /Global/Clock/Trading.(Clock:cutoffs)() in Root:Clocks:4473028504 @4813388240 T=True>\n",
      "context simplification failure <Node: /Global/TradingPortfolio/Eq-Inst.(Portfolio:items)() in Root:Clocks:4473028504 @4813554000 T=False> used <Node: /Global/Clock/Trading.(Clock:cutoffs)() in Root:Clocks:4473028504:4473028504 @4813313488 T=True>\n",
      "context simplification failure <Node: /Global/TradingPortfolio/FX.(Portfolio:items)() in Root:Clocks:4473028504 @4813389136 T=False> used <Node: /Global/Clock/Trading.(Clock:cutoffs)() in Root:Clocks:4473028504 @4813388240 T=True>\n",
      "context simplification failure <Node: /Global/TradingPortfolio/FX.(Portfolio:items)() in Root:Clocks:4473028504 @4813389136 T=False> used <Node: /Global/Clock/Trading.(Clock:cutoffs)() in Root:Clocks:4473028504:4473028504 @4813313488 T=True>\n",
      "context simplification failure <Node: /Global/TradingPortfolio/Rates.(Portfolio:items)() in Root:Clocks:4473028504 @4589533456 T=False> used <Node: /Global/Clock/Trading.(Clock:cutoffs)() in Root:Clocks:4473028504 @4813388240 T=True>\n",
      "context simplification failure <Node: /Global/TradingPortfolio/Rates.(Portfolio:items)() in Root:Clocks:4473028504 @4589533456 T=False> used <Node: /Global/Clock/Trading.(Clock:cutoffs)() in Root:Clocks:4473028504:4473028504 @4813313488 T=True>\n",
      "context simplification failure <Node: /Global/TradingPortfolio/Credit.(Portfolio:items)() in Root:Clocks:4473028504 @4831421584 T=False> used <Node: /Global/Clock/Trading.(Clock:cutoffs)() in Root:Clocks:4473028504 @4813388240 T=True>\n",
      "context simplification failure <Node: /Global/TradingPortfolio/Credit.(Portfolio:items)() in Root:Clocks:4473028504 @4831421584 T=False> used <Node: /Global/Clock/Trading.(Clock:cutoffs)() in Root:Clocks:4473028504:4473028504 @4813313488 T=True>\n",
      "context simplification failure <Node: /Global/TradingPortfolio/Delta1.(Portfolio:items)() in Root:Clocks:4473028504 @4831546000 T=False> used <Node: /Global/Clock/Trading.(Clock:cutoffs)() in Root:Clocks:4473028504 @4813388240 T=True>\n",
      "context simplification failure <Node: /Global/TradingPortfolio/Delta1.(Portfolio:items)() in Root:Clocks:4473028504 @4831546000 T=False> used <Node: /Global/Clock/Trading.(Clock:cutoffs)() in Root:Clocks:4473028504:4473028504 @4813313488 T=True>\n",
      "context simplification failure <Node: /Global/TradingPortfolio/Loans.(Portfolio:items)() in Root:Clocks:4473028504 @4831623568 T=False> used <Node: /Global/Clock/Trading.(Clock:cutoffs)() in Root:Clocks:4473028504 @4813388240 T=True>\n",
      "context simplification failure <Node: /Global/TradingPortfolio/Loans.(Portfolio:items)() in Root:Clocks:4473028504 @4831623568 T=False> used <Node: /Global/Clock/Trading.(Clock:cutoffs)() in Root:Clocks:4473028504:4473028504 @4813313488 T=True>\n",
      "context simplification failure <Node: /Global/TradingPortfolio/Commod.(Portfolio:items)() in Root:Clocks:4473028504 @4828126864 T=False> used <Node: /Global/Clock/Trading.(Clock:cutoffs)() in Root:Clocks:4473028504 @4813388240 T=True>\n",
      "context simplification failure <Node: /Global/TradingPortfolio/Commod.(Portfolio:items)() in Root:Clocks:4473028504 @4828126864 T=False> used <Node: /Global/Clock/Trading.(Clock:cutoffs)() in Root:Clocks:4473028504:4473028504 @4813313488 T=True>\n",
      "context simplification failure <Node: /Global/TradingPortfolio/ETFs.(Portfolio:items)() in Root:Clocks:4473028504 @4828007120 T=False> used <Node: /Global/Clock/Trading.(Clock:cutoffs)() in Root:Clocks:4473028504 @4813388240 T=True>\n",
      "context simplification failure <Node: /Global/TradingPortfolio/ETFs.(Portfolio:items)() in Root:Clocks:4473028504 @4828007120 T=False> used <Node: /Global/Clock/Trading.(Clock:cutoffs)() in Root:Clocks:4473028504:4473028504 @4813313488 T=True>\n",
      "context simplification failure <Node: /Global/TradingPortfolio/Mtge.(Portfolio:items)() in Root:Clocks:4473028504 @4832115088 T=False> used <Node: /Global/Clock/Trading.(Clock:cutoffs)() in Root:Clocks:4473028504 @4813388240 T=True>\n",
      "context simplification failure <Node: /Global/TradingPortfolio/Mtge.(Portfolio:items)() in Root:Clocks:4473028504 @4832115088 T=False> used <Node: /Global/Clock/Trading.(Clock:cutoffs)() in Root:Clocks:4473028504:4473028504 @4813313488 T=True>\n",
      "context simplification failure <Node: /Global/TradingPortfolio/TopOfTheHouse.(Portfolio:items)() in Root:Clocks:4473028504 @4813474064 T=False> used <Node: /Global/Clock/Trading.(Clock:cutoffs)() in Root:Clocks:4473028504 @4813388240 T=True>\n",
      "context simplification failure <Node: /Global/TradingPortfolio/TopOfTheHouse.(Portfolio:items)() in Root:Clocks:4473028504 @4813474064 T=False> used <Node: /Global/Clock/Trading.(Clock:cutoffs)() in Root:Clocks:4473028504:4473028504 @4813313488 T=True>\n"
     ]
    },
    {
     "data": {
      "text/markdown": [
       "# PnL explain for TopOfTheHouse: 6256.00"
      ],
      "text/plain": [
       "<IPython.core.display.Markdown object>"
      ]
     },
     "metadata": {},
     "output_type": "display_data"
    },
    {
     "data": {
      "text/markdown": [
       "**Caveat: this report encountered problems. See footnotes at bottom.**"
      ],
      "text/plain": [
       "<IPython.core.display.Markdown object>"
      ]
     },
     "metadata": {},
     "output_type": "display_data"
    },
    {
     "data": {
      "text/markdown": [
       "|Activity|PnL|\n",
       "|-|-|\n",
       "|Starting balance breaks|0.00\n",
       "|prior day amends: MarketData|0.00\n",
       "|prior day amends: Portfolio|0.00\n",
       "|prior day amends: Trading|0.00\n",
       "|activity: MarketData|5240.00\n",
       "|activity: Portfolio|1016.00\n",
       "|activity: Trading|0.00\n",
       "|Ending balance breaks|0.00"
      ],
      "text/plain": [
       "<IPython.core.display.Markdown object>"
      ]
     },
     "metadata": {},
     "output_type": "display_data"
    },
    {
     "data": {
      "text/markdown": [
       "1. context simplification failure\n",
       "  * <NodeKey:<Entity:/Global/TradingPortfolio/Commod>.(Portfolio:items) ()> used <NodeKey:<Entity:/Global/Clock/Trading>.(Clock:cutoffs) ()>\n",
       "  * <NodeKey:<Entity:/Global/TradingPortfolio/Credit>.(Portfolio:items) ()> used <NodeKey:<Entity:/Global/Clock/Trading>.(Clock:cutoffs) ()>\n",
       "  * <NodeKey:<Entity:/Global/TradingPortfolio/Delta1>.(Portfolio:items) ()> used <NodeKey:<Entity:/Global/Clock/Trading>.(Clock:cutoffs) ()>\n",
       "  * <NodeKey:<Entity:/Global/TradingPortfolio/ETFs>.(Portfolio:items) ()> used <NodeKey:<Entity:/Global/Clock/Trading>.(Clock:cutoffs) ()>\n",
       "  * <NodeKey:<Entity:/Global/TradingPortfolio/Eq-Inst>.(Portfolio:items) ()> used <NodeKey:<Entity:/Global/Clock/Trading>.(Clock:cutoffs) ()>\n",
       "  * <NodeKey:<Entity:/Global/TradingPortfolio/Eq-Prop>.(Portfolio:items) ()> used <NodeKey:<Entity:/Global/Clock/Trading>.(Clock:cutoffs) ()>\n",
       "  * <NodeKey:<Entity:/Global/TradingPortfolio/FX>.(Portfolio:items) ()> used <NodeKey:<Entity:/Global/Clock/Trading>.(Clock:cutoffs) ()>\n",
       "  * <NodeKey:<Entity:/Global/TradingPortfolio/Loans>.(Portfolio:items) ()> used <NodeKey:<Entity:/Global/Clock/Trading>.(Clock:cutoffs) ()>\n",
       "  * <NodeKey:<Entity:/Global/TradingPortfolio/Mtge>.(Portfolio:items) ()> used <NodeKey:<Entity:/Global/Clock/Trading>.(Clock:cutoffs) ()>\n",
       "  * <NodeKey:<Entity:/Global/TradingPortfolio/Rates>.(Portfolio:items) ()> used <NodeKey:<Entity:/Global/Clock/Trading>.(Clock:cutoffs) ()>\n",
       "  * <NodeKey:<Entity:/Global/TradingPortfolio/TopOfTheHouse>.(Portfolio:items) ()> used <NodeKey:<Entity:/Global/Clock/Trading>.(Clock:cutoffs) ()>\n",
       "1. Inadequate cash discounting model used\n",
       "1. Book appears multiple times\n",
       "  * /Global/TradingBook/Eq-Inst0"
      ],
      "text/plain": [
       "<IPython.core.display.Markdown object>"
      ]
     },
     "metadata": {},
     "output_type": "display_data"
    },
    {
     "data": {
      "text/markdown": [
       "# Compute activity summary (15.47 seconds of wall clock time)"
      ],
      "text/plain": [
       "<IPython.core.display.Markdown object>"
      ]
     },
     "metadata": {},
     "output_type": "display_data"
    },
    {
     "data": {
      "text/markdown": [
       "|key|value|\n",
       "|-|-|\n",
       "|Context|19\n",
       "|Db.Get|2176\n",
       "|GetValue|43096\n",
       "|GetValue/Calc|8869"
      ],
      "text/plain": [
       "<IPython.core.display.Markdown object>"
      ]
     },
     "metadata": {},
     "output_type": "display_data"
    },
    {
     "data": {
      "text/markdown": [
       "\n",
       "### Profile by nodes.\n",
       "* times are in microseconds\n",
       "* cumT is total time spent in funtion\n",
       "* calcT is time spent in function, but not in a child node"
      ],
      "text/plain": [
       "<IPython.core.display.Markdown object>"
      ]
     },
     "metadata": {},
     "output_type": "display_data"
    },
    {
     "data": {
      "text/markdown": [
       "|fn|n|cumT|calcT|cumT/call|sys|\n",
       "|-|-|-|-|-|-|\n",
       "|PnLExplainReport:data|1|15,465,648|17|15,465,648|GetValue\n",
       "|PnLExplainReport:data|1|15,465,631|605|15,465,631|GetValue/Calc\n",
       "|TradingContainer:NPV|11|15,458,139|150|1,405,285|GetValue\n",
       "|TradingContainer:NPV|11|15,457,989|116|1,405,271|GetValue/Calc\n",
       "|Portfolio:items|121|15,316,508|49,000|126,582|GetValue\n",
       "|Portfolio:items|121|15,311,249|1,086|126,539|GetValue/Calc\n",
       "|Root:Clocks:4473028504|7,609|15,259,752|5,598,401|2,005|Context\n",
       "|PnLExplainReport:cutoffs|1|11,074,004|14|11,074,004|GetValue\n",
       "|PnLExplainReport:cutoffs|1|11,073,990|136|11,073,990|GetValue/Calc\n",
       "|Root:Clocks|61|11,073,736|32,751|181,536|Context\n",
       "|Workbook:items|1,104|9,043,198|6,278|8,191|GetValue\n",
       "|Workbook:items|200|9,036,920|1,630|45,184|GetValue/Calc\n",
       "|Root:Clocks:4473028504:4473028504|600|9,035,289|1,874,874|15,058|Context\n",
       "|Clock:cutoffs|2,477|5,658,936|18,053|2,284|GetValue\n",
       "|Clock:cutoffs|1,624|5,648,282|11,392|3,478|GetValue/Calc\n",
       "|Clock:parent|1,624|5,583,270|14,758|3,437|GetValue\n",
       "|Clock:parent|1,624|5,568,511|11,748|3,428|GetValue/Calc\n",
       "|TradeOpenEvent|1,014|3,711,814|3,711,814|3,660|Db.Get\n",
       "|TradeOpenEvent:ticket|4,052|3,292,103|30,427|812|GetValue\n",
       "|TradingTicket|1,014|3,261,676|3,261,676|3,216|Db.Get\n",
       "|Root:Activity Portfolio|18|739,541|773|41,085|Context\n",
       "|Root:Start|23|718,598|13,625|31,243|Context\n",
       "|Root:Start breaks|11|717,371|605|65,215|Context\n",
       "|Root:End|38|714,059|17,377|18,791|Context\n",
       "|Root:Amend MarketData|11|702,010|850|63,819|Context\n",
       "|Root:Activity Trading|18|697,157|989|38,730|Context\n",
       "|Portfolio:children|352|512,293|1,889|1,455|GetValue\n",
       "|Portfolio:children|33|510,403|269|15,466|GetValue/Calc\n",
       "|PortfolioUpdateEvent:children|33|340,728|1,356|10,325|GetValue\n",
       "|TradingBook|102|315,047|315,047|3,088|Db.Get\n",
       "|Equity:NPV|15|117,361|222|7,824|GetValue\n",
       "|Equity:NPV|15|117,139|121|7,809|GetValue/Calc\n",
       "|MarketInterface:spot|15|109,011|167|7,267|GetValue\n",
       "|MarketInterface:spot|15|108,844|124|7,256|GetValue/Calc\n",
       "|Entity:clock|3,248|104,728|40,067|32|GetValue\n",
       "|ExternalRefData:state|15|101,119|174|6,741|GetValue\n",
       "|ExternalRefData:state|15|100,944|128|6,729|GetValue/Calc\n",
       "|Root:Amend Portfolio:4473028504|450|94,356|67,027|209|Context\n",
       "|Entity:clock|3,248|64,661|28,252|19|GetValue/Calc\n",
       "|Root:Amend Portfolio|11|60,443|845|5,494|Context\n",
       "|TradingBook:clock|1,504|50,714|17,667|33|GetValue\n",
       "|RefData:state|15|46,913|98|3,127|GetValue\n",
       "|RefData:state|4|46,814|32|11,703|GetValue/Calc\n",
       "|PortfolioUpdateEvent|12|44,022|44,022|3,668|Db.Get\n",
       "|TradingBook:clock|1,504|33,047|12,323|21|GetValue/Calc\n",
       "|RefDataUpdateEvent|9|31,813|31,813|3,534|Db.Get\n",
       "|TradingPortfolio|10|30,790|30,790|3,079|Db.Get\n",
       "|_WorkItemEvent:book2|4,052|27,190|20,724|6|GetValue\n",
       "|_WorkItemEvent:item|2,026|23,477|17,664|11|GetValue\n",
       "|_WorkItemEvent:book1|4,052|22,261|22,261|5|GetValue\n",
       "|Root:Amend Trading|11|20,558|609|1,868|Context\n",
       "|TradeOpenEvent:quantity|4,052|19,615|19,615|4|GetValue\n",
       "|Root:Activity MarketData|11|17,589|559|1,599|Context\n",
       "|TradeOpenEvent:premium|2,026|16,663|13,688|8|GetValue\n",
       "|RootClock:cutoffs|4,063|15,653|15,560|3|GetValue\n",
       "|Portfolio:books|231|15,207|2,909|65|GetValue\n",
       "|Clock|5|14,925|14,925|2,985|Db.Get\n",
       "|TradeOpenEvent:action|2,026|14,804|14,804|7|GetValue\n",
       "|Event:amends|2,887|14,095|14,095|4|GetValue\n",
       "|Portfolio:books|231|13,707|1,921|59|GetValue/Calc\n",
       "|TradeOpenEvent:unitPrice|2,026|11,827|11,827|5|GetValue\n",
       "|ClockEvent:parent|810|9,070|3,332|11|GetValue\n",
       "|Portfolio:clock|140|8,548|1,898|61|GetValue\n",
       "|Equity:refdata|15|7,074|193|471|GetValue\n",
       "|Equity:refdata|15|6,881|137|458|GetValue/Calc\n",
       "|MarketInterface:source|15|6,841|165|456|GetValue\n",
       "|MarketInterface:source|15|6,675|117|445|GetValue/Calc\n",
       "|Portfolio:clock|140|6,649|1,271|47|GetValue/Calc\n",
       "|ClockEvent|2|6,546|6,546|3,273|Db.Get\n",
       "|MarketInterface|2|5,971|5,971|2,985|Db.Get\n",
       "|Equity|2|5,813|5,813|2,906|Db.Get\n",
       "|MarketDataSource|2|5,604|5,604|2,802|Db.Get\n",
       "|Root:Amend MarketData:4473028504|3|3,823|3,742|1,274|Context\n",
       "|RootClock|1|3,669|3,669|3,669|Db.Get\n",
       "|MarketDataSource:clock|23|3,528|246|153|GetValue\n",
       "|MarketDataSource:clock|23|3,282|184|142|GetValue/Calc\n",
       "|ForwardCashflow|1|2,974|2,974|2,974|Db.Get\n",
       "|ForwardCashflow:NPV|11|504|242|45|GetValue\n",
       "|MarketInterface:sourceName|15|395|180|26|GetValue\n",
       "|ForwardCashflow:NPV|11|261|127|23|GetValue/Calc\n",
       "|MarketInterface:sourceName|15|215|129|14|GetValue/Calc\n",
       "|Equity:assetName|15|129|129|8|GetValue\n",
       "|RootClock:cutoffs|1|92|46|92|GetValue/Calc\n",
       "|RefDataUpdateEvent:data|15|72|72|4|GetValue\n",
       "|CosmicAll:dbState|1|27|22|27|GetValue\n",
       "|RootClock:cosmicAll|1|18|10|18|GetValue\n",
       "|PnLExplainReport:valuable|2|14|14|7|GetValue\n",
       "|PnLExplainReport:ts1|2|11|11|5|GetValue\n",
       "|PnLExplainReport:ts2|2|10|10|5|GetValue\n",
       "|RootClock:cosmicAll|1|8|8|8|GetValue/Calc\n",
       "|CosmicAll:dbState|1|5|5|5|GetValue/Calc"
      ],
      "text/plain": [
       "<IPython.core.display.Markdown object>"
      ]
     },
     "metadata": {},
     "output_type": "display_data"
    }
   ],
   "source": [
    "db4 = db.copy()\n",
    "valuable = db4.get(pAll.meta.path())\n",
    "\n",
    "r = PnLExplainReport(valuable=valuable, ts1=eod, ts2=ts7)\n",
    "with ProfileMonitor():\n",
    "    with SummaryMonitor():\n",
    "        r.run()"
   ]
  }
 ],
 "metadata": {
  "kernelspec": {
   "display_name": "Python 2",
   "language": "python",
   "name": "python2"
  },
  "language_info": {
   "codemirror_mode": {
    "name": "ipython",
    "version": 2
   },
   "file_extension": ".py",
   "mimetype": "text/x-python",
   "name": "python",
   "nbconvert_exporter": "python",
   "pygments_lexer": "ipython2",
   "version": "2.7.13"
  }
 },
 "nbformat": 4,
 "nbformat_minor": 2
}
