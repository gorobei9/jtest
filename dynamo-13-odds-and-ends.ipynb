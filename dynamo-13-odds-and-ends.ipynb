{
 "cells": [
  {
   "cell_type": "code",
   "execution_count": 1,
   "metadata": {
    "collapsed": false,
    "scrolled": false
   },
   "outputs": [],
   "source": [
    "from mand.core import Entity, node, getNode\n",
    "from mand.core import ObjectDb, Timestamp, Context, _tr\n",
    "from mand.core import ProfileMonitor, SummaryMonitor, PrintMonitor\n",
    "from mand.core import find, addFootnote, setDependencyManager, displayMarkdown\n",
    "from mand.demos.trading import makeWorld, bookSomeTrades, PnLExplainReport\n",
    "from mand.lib.dbsetup import setUpDb\n",
    "from mand.demos.trading import MarketDataSource\n",
    "\n",
    "db = ObjectDb()\n",
    "setUpDb(db)"
   ]
  },
  {
   "cell_type": "code",
   "execution_count": 2,
   "metadata": {
    "collapsed": false
   },
   "outputs": [
    {
     "data": {
      "text/markdown": [
       "1. a was called\n",
       "1. b called\n",
       "  * 1\n",
       "  * 2\n",
       "1. c called\n",
       "  * 2"
      ],
      "text/plain": [
       "<IPython.core.display.Markdown object>"
      ]
     },
     "metadata": {},
     "output_type": "display_data"
    }
   ],
   "source": [
    "class A(Entity):\n",
    "\n",
    "    @node\n",
    "    def a(self):\n",
    "        addFootnote('a was called')\n",
    "        return 0\n",
    "    \n",
    "    @node\n",
    "    def b(self):\n",
    "        addFootnote('b called', '1')\n",
    "        self.a()\n",
    "        addFootnote('b called', '2')\n",
    "        \n",
    "    @node\n",
    "    def c(self):\n",
    "        addFootnote('c called')\n",
    "        self.b()\n",
    "        addFootnote('c called', '2')\n",
    "        \n",
    "a = A()\n",
    "a.c()\n",
    "n = getNode(a.c)\n",
    "n.footnotes\n",
    "\n",
    "from mand.core import displayMarkdown\n",
    "displayMarkdown(n.footnoteMarkdown())"
   ]
  },
  {
   "cell_type": "code",
   "execution_count": 3,
   "metadata": {
    "collapsed": false,
    "scrolled": false
   },
   "outputs": [],
   "source": [
    "class C(Entity):\n",
    "    \n",
    "    @node\n",
    "    def fib(self, n):\n",
    "        if n < 2:\n",
    "            return n\n",
    "        return self.fib(n-1) + self.fib(n-2)\n"
   ]
  },
  {
   "cell_type": "code",
   "execution_count": 4,
   "metadata": {
    "collapsed": false
   },
   "outputs": [
    {
     "name": "stdout",
     "output_type": "stream",
     "text": [
      "done\n"
     ]
    }
   ],
   "source": [
    "#hangs on rerun?\n",
    "c = C()\n",
    "print 'done'"
   ]
  },
  {
   "cell_type": "code",
   "execution_count": 5,
   "metadata": {
    "collapsed": false,
    "scrolled": false
   },
   "outputs": [
    {
     "data": {
      "text/markdown": [
       "# Compute activity summary (0.00 seconds of wall clock time)"
      ],
      "text/plain": [
       "<IPython.core.display.Markdown object>"
      ]
     },
     "metadata": {},
     "output_type": "display_data"
    },
    {
     "data": {
      "text/markdown": [
       "|key|value|\n",
       "|-|-|\n",
       "|GetValue|19\n",
       "|GetValue/Calc|11"
      ],
      "text/plain": [
       "<IPython.core.display.Markdown object>"
      ]
     },
     "metadata": {},
     "output_type": "display_data"
    },
    {
     "name": "stdout",
     "output_type": "stream",
     "text": [
      "55\n"
     ]
    },
    {
     "data": {
      "text/markdown": [
       "# Compute activity summary (0.00 seconds of wall clock time)"
      ],
      "text/plain": [
       "<IPython.core.display.Markdown object>"
      ]
     },
     "metadata": {},
     "output_type": "display_data"
    },
    {
     "data": {
      "text/markdown": [
       "|key|value|\n",
       "|-|-|\n",
       "|GetValue|61\n",
       "|GetValue/Calc|30"
      ],
      "text/plain": [
       "<IPython.core.display.Markdown object>"
      ]
     },
     "metadata": {},
     "output_type": "display_data"
    },
    {
     "name": "stdout",
     "output_type": "stream",
     "text": [
      "102334155\n"
     ]
    }
   ],
   "source": [
    "with SummaryMonitor():\n",
    "    v = c.fib(10)\n",
    "print v\n",
    "\n",
    "with SummaryMonitor():\n",
    "    v = c.fib(40)\n",
    "print v"
   ]
  },
  {
   "cell_type": "code",
   "execution_count": 6,
   "metadata": {
    "collapsed": false
   },
   "outputs": [
    {
     "name": "stdout",
     "output_type": "stream",
     "text": [
      "Expect 30: 30\n",
      "Expect 40: 40\n",
      "Expect 30: 30\n",
      "Expect 60: 60\n"
     ]
    }
   ],
   "source": [
    "class D(Entity):\n",
    "    \n",
    "    @node(tweakable=True)\n",
    "    def v(self): \n",
    "        return 10\n",
    "        \n",
    "class E(D):\n",
    "    \n",
    "    @node(tweakable=True)\n",
    "    def v(self): \n",
    "        return super(E, self).v() + 20\n",
    "    \n",
    "e = E()\n",
    "\n",
    "print 'Expect 30:', e.v()\n",
    "assert e.v() == 30\n",
    "\n",
    "with Context({e.v: 40}):\n",
    "    print 'Expect 40:', e.v()\n",
    "    assert e.v() == 40\n",
    "        \n",
    "print 'Expect 30:', e.v()\n",
    "assert e.v() == 30\n",
    "\n",
    "with Context({super(E, e).v: 40}):\n",
    "    print 'Expect 60:', e.v()\n",
    "    assert e.v() == 60"
   ]
  },
  {
   "cell_type": "code",
   "execution_count": 7,
   "metadata": {
    "collapsed": false,
    "scrolled": false
   },
   "outputs": [
    {
     "name": "stdout",
     "output_type": "stream",
     "text": [
      "175.61\n",
      "180\n",
      "175.61\n"
     ]
    }
   ],
   "source": [
    "class MarketInterface1(Entity):\n",
    "    \n",
    "    @node(tweakable=True)\n",
    "    def sourceName(self):\n",
    "        return 'source1'\n",
    "    \n",
    "    @node\n",
    "    def source(self):\n",
    "        return self.getObj(_tr.MarketDataSource, '%s.%s' % (self.sourceName(), self.meta.name()))\n",
    "    \n",
    "    @node # (tweakable=True)\n",
    "    def spot(self):\n",
    "        return self.source().last()\n",
    "      \n",
    "_tr.add(MarketInterface1)\n",
    "\n",
    "with db:\n",
    "    s1_ibm  = MarketDataSource('source1.IBM')\n",
    "    s1_ibm.update(last=175.61)\n",
    "\n",
    "    s2_ibm  = MarketDataSource('user_marks.IBM')\n",
    "    s2_ibm.update(last=180)\n",
    "    \n",
    "    ibm  = MarketInterface1('IBM').write()\n",
    "    \n",
    "print ibm.spot()\n",
    "with Context({ibm.sourceName: 'user_marks'}):\n",
    "    print ibm.spot()\n",
    "print ibm.spot()"
   ]
  },
  {
   "cell_type": "code",
   "execution_count": 8,
   "metadata": {
    "collapsed": false,
    "scrolled": false
   },
   "outputs": [
    {
     "data": {
      "text/markdown": [
       "# Compute activity summary (0.03 seconds of wall clock time)"
      ],
      "text/plain": [
       "<IPython.core.display.Markdown object>"
      ]
     },
     "metadata": {},
     "output_type": "display_data"
    },
    {
     "data": {
      "text/markdown": [
       "|key|value|\n",
       "|-|-|\n",
       "|Context|1\n",
       "|Db.Get|6\n",
       "|GetValue|32\n",
       "|GetValue/Calc|16"
      ],
      "text/plain": [
       "<IPython.core.display.Markdown object>"
      ]
     },
     "metadata": {},
     "output_type": "display_data"
    },
    {
     "name": "stdout",
     "output_type": "stream",
     "text": [
      "180\n",
      "<Node: /Global/MarketInterface1/IBM.(MarketInterface1:spot)() in Root:user:simp @4431282384 T=False>, nIn=2\n",
      "   <Node: /Global/MarketDataSource/user_marks.IBM.(ExternalRefData:state)() in Root:user:simp @4431279696 T=False>, nIn=1\n",
      "      <Node: /Global/MarketDataSource/user_marks.IBM.(RefData:state)() in Root:user:simp @4431281808 T=False>, nIn=4\n",
      "         <Node: /Global/Clock/MarketData.(Clock:cutoffs)() in Root:user:simp @4431282320 T=True>, nIn=0\n",
      "         <Node: /Global/MarketDataSource/user_marks.IBM.(MarketDataSource:clock)() in Root:user:simp @4431357392 T=False>, nIn=0\n",
      "         <Node: /Global/RefDataUpdateEvent/96f648d8-e2eb-48c8-93c2-ee1fdd92b0aa.(Event:amends)() in Root:user:simp @4431357072 T=False>, nIn=0\n",
      "         <Node: /Global/RefDataUpdateEvent/96f648d8-e2eb-48c8-93c2-ee1fdd92b0aa.(RefDataUpdateEvent:data)() in Root:user:simp @4431357520 T=False>, nIn=0\n",
      "   <Node: /Global/MarketInterface1/IBM.(MarketInterface1:source)() in Root:user:simp @4431281360 T=False>, nIn=1\n",
      "      <Node: /Global/MarketInterface1/IBM.(MarketInterface1:sourceName)() in Root:user:simp @4431283216 T=True>, nIn=0\n"
     ]
    },
    {
     "data": {
      "text/markdown": [],
      "text/plain": [
       "<IPython.core.display.Markdown object>"
      ]
     },
     "metadata": {},
     "output_type": "display_data"
    },
    {
     "name": "stdout",
     "output_type": "stream",
     "text": [
      "175.61\n"
     ]
    }
   ],
   "source": [
    "from mand.demos.depmanager import DM1\n",
    "\n",
    "class DM2(DM1):\n",
    "    \n",
    "    def __init__(self):\n",
    "        super(DM2, self).__init__()\n",
    "    \n",
    "    def simplify(self, key):\n",
    "        if key.fullName() == 'MarketInterface1:spot':\n",
    "            obj = key.object()\n",
    "            \n",
    "            dep1 = obj.sourceName\n",
    "            dep2 = obj.source().clock().cutoffs\n",
    "            \n",
    "            return (dep1, dep2)\n",
    "            \n",
    "    def XXXgetNode(self, ctx, key):\n",
    "        n = ctx._get(key)\n",
    "        if n:\n",
    "            return n\n",
    "        s = self.simplify(key)\n",
    "        if s: \n",
    "            nodes = [ getNode(bm) for bm in s ]\n",
    "            values = [ bm() for bm in s ]\n",
    "            k = [ (n.object(), n.key.fullName, v) for n, v in zip(nodes, values) ]\n",
    "            cKey = tuple(k)\n",
    "            \n",
    "            if cKey not in self.contexts:\n",
    "                tweaks = dict( [ (bm, v) for bm, v in zip(s, values)])\n",
    "                ctx1 = Context(tweaks, 'simp')\n",
    "                self.contexts[cKey] = ctx1\n",
    "            ctx1 = self.contexts[cKey]\n",
    "            ret = ctx1.get(key)\n",
    "            ret.isSimplified = True\n",
    "        else:\n",
    "            ret = super(DM1, self).getNode(ctx, key)\n",
    "            ret.isSimplified = False\n",
    "        return ret\n",
    "    \n",
    "\n",
    "    \n",
    "dm = DM2()\n",
    "setDependencyManager(dm)\n",
    "\n",
    "db4 = db.copy()   \n",
    "ibm2 = db4.get(ibm.meta.path())\n",
    "\n",
    "ts = Timestamp()\n",
    "\n",
    "\n",
    "with Context({ibm2.sourceName: 'user_marks'}, 'user'):\n",
    "    with SummaryMonitor():\n",
    "        v = ibm2.spot()\n",
    "    print v\n",
    "    n = getNode(ibm2.spot)\n",
    "    n.printInputGraph()\n",
    "\n",
    "    displayMarkdown(n.footnoteMarkdown())\n",
    "    \n",
    "print ibm2.spot()\n"
   ]
  }
 ],
 "metadata": {
  "kernelspec": {
   "display_name": "Python 2",
   "language": "python",
   "name": "python2"
  },
  "language_info": {
   "codemirror_mode": {
    "name": "ipython",
    "version": 2
   },
   "file_extension": ".py",
   "mimetype": "text/x-python",
   "name": "python",
   "nbconvert_exporter": "python",
   "pygments_lexer": "ipython2",
   "version": "2.7.13"
  }
 },
 "nbformat": 4,
 "nbformat_minor": 2
}
