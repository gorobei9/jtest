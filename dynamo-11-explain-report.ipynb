{
 "cells": [
  {
   "cell_type": "markdown",
   "metadata": {},
   "source": [
    "# An Explain Report\n",
    "\n",
    "This is a POC for an explain report: given a number at time T1 and time T2, introspect the clocks involved to produce a simple linear breakdown\n",
    "of what changed on various timelines to account for the change in the number between T1 and T2.\n",
    "\n",
    "The report is an ordered sequence of clock changes: the sum of changes should equal to the total change. The order of application is important: change the\n",
    "ordering, and the resultant values may change. It's not a Jacobian-type report with T1 deltas and no ordering.\n",
    "\n",
    "The real reason for this workbook is to start working on the node class optimizations and metadata management."
   ]
  },
  {
   "cell_type": "markdown",
   "metadata": {},
   "source": [
    "## Footnotes\n",
    "\n",
    "Footnotes are one of the simplest types of metadata:\n",
    "* Any computation (even a simple read of a constant value) may declare it has footnotes\n",
    "* Every computation gets the footnote of all its inputs\n",
    "\n",
    "Footnoting is based on a number of observations about large software systems (say, 1M LOC or more):\n",
    "* Any complex report (i.e. computation output) will generally be somewhat wrong, misleading, or out of date.\n",
    "* If you want 100% correctness and truth, your report will raise an exception every time you run it.\n",
    "* If you just want it to run, you'll get a result, but some log file on some machine in some compute farm will have a message explaining why your result is wrong.\n",
    "* And you won't see that message.\n",
    "* And that message may have leaked information that bad actors can read.\n",
    "* And you won't trust this system, so your own developers will copy the underlying data and write their own version of the report with all the same issues.\n",
    "* Now you don't have a problem, but your company now has two problems.\n",
    "\n",
    "Footnotes summary:\n",
    "* Are the documentation of problems from the producer's point of view\n",
    "* Make no claim about usability of results, etc, for a specific consumer\n",
    "* May be programmatically removed/condensed/replaced at controlled code points\n"
   ]
  },
  {
   "cell_type": "code",
   "execution_count": 1,
   "metadata": {
    "collapsed": false
   },
   "outputs": [
    {
     "name": "stdout",
     "output_type": "stream",
     "text": [
      "<mand.db.ObjectDb object at 0x105d3e510>: 23, mem=True, ro=False: entities=9, map=2\n"
     ]
    }
   ],
   "source": [
    "from mand.core import Entity, node, Context\n",
    "from mand.core import ObjectDb, Timestamp, getNode, _tr\n",
    "from mand.core import ProfileMonitor\n",
    "from mand.core import displayDict, displayMarkdown, displayListOfDicts, displayHeader\n",
    "from mand.core import find\n",
    "from mand.demos.trading import makeWorld, bookSomeTrades\n",
    "\n",
    "db = ObjectDb()\n",
    "\n",
    "from mand.lib.dbsetup import setUpDb\n",
    "setUpDb(db)\n",
    "db.describe()"
   ]
  },
  {
   "cell_type": "code",
   "execution_count": 2,
   "metadata": {
    "collapsed": false
   },
   "outputs": [
    {
     "name": "stdout",
     "output_type": "stream",
     "text": [
      "makeWorld, TopOfTheHouse is: <Entity:/Global/TradingPortfolio/TopOfTheHouse>\n",
      "    # books: 100\n",
      "    # children: 10\n"
     ]
    }
   ],
   "source": [
    "with db:\n",
    "    pWorld = makeWorld()\n",
    "    \n",
    "pAll, bExt, bExt2 = pWorld.children()\n",
    "p1 = pAll.children()[0]\n",
    "p2 = pAll.children()[1]\n",
    "p4 = pAll.children()[3]\n",
    "\n",
    "b2 = p2.children()[0]\n",
    "b4 = p4.children()[0]"
   ]
  },
  {
   "cell_type": "markdown",
   "metadata": {},
   "source": [
    "# Book some trades\n",
    "\n",
    "This time, we throw a few thousand in..."
   ]
  },
  {
   "cell_type": "code",
   "execution_count": 3,
   "metadata": {
    "collapsed": false
   },
   "outputs": [],
   "source": [
    "ts0, ts1, ts2, ts3, ts4, ts5, eod, ts6 = bookSomeTrades(pWorld)"
   ]
  },
  {
   "cell_type": "markdown",
   "metadata": {},
   "source": [
    "# An Explain Report\n",
    "\n",
    "This is a mix of abstractions at the Core, DBA, and BA, and User levels. But, it does the job for now..."
   ]
  },
  {
   "cell_type": "code",
   "execution_count": 4,
   "metadata": {
    "collapsed": false,
    "scrolled": false
   },
   "outputs": [
    {
     "data": {
      "text/markdown": [
       "# PnL explain for TopOfTheHouse: 5236.00"
      ],
      "text/plain": [
       "<IPython.core.display.Markdown object>"
      ]
     },
     "metadata": {},
     "output_type": "display_data"
    },
    {
     "data": {
      "text/markdown": [
       "**Caveat: this report encountered problems. See footnotes at bottom.**"
      ],
      "text/plain": [
       "<IPython.core.display.Markdown object>"
      ]
     },
     "metadata": {},
     "output_type": "display_data"
    },
    {
     "data": {
      "text/markdown": [
       "|Activity|PnL|\n",
       "|-|-|\n",
       "|Starting balance breaks|0.00\n",
       "|prior day amends: MarketData|0.00\n",
       "|prior day amends: Portfolio|0.00\n",
       "|prior day amends: Trading|-4.00\n",
       "|activity: MarketData|5240.00\n",
       "|activity: Portfolio|0.00\n",
       "|activity: Trading|0.00\n",
       "|Ending balance breaks|0.00"
      ],
      "text/plain": [
       "<IPython.core.display.Markdown object>"
      ]
     },
     "metadata": {},
     "output_type": "display_data"
    },
    {
     "data": {
      "text/markdown": [
       "## Footnotes:"
      ],
      "text/plain": [
       "<IPython.core.display.Markdown object>"
      ]
     },
     "metadata": {},
     "output_type": "display_data"
    },
    {
     "data": {
      "text/markdown": [
       "1. Inadequate cash discounting model used"
      ],
      "text/plain": [
       "<IPython.core.display.Markdown object>"
      ]
     },
     "metadata": {},
     "output_type": "display_data"
    }
   ],
   "source": [
    "class Report(Entity):\n",
    "    @node(stored=True)\n",
    "    def valuable(self):\n",
    "        return None\n",
    "    \n",
    "    @node(stored=True)\n",
    "    def ts1(self):\n",
    "        return None\n",
    "    \n",
    "    @node(stored=True)\n",
    "    def ts2(self):\n",
    "        return None\n",
    "    \n",
    "    @node\n",
    "    def cutoffs(self):\n",
    "        valuable = self.valuable()\n",
    "        ts1 = self.ts1()\n",
    "        ts2 = self.ts2()\n",
    "        \n",
    "        clock = valuable.getObj(_tr.RootClock, 'Main')\n",
    "        \n",
    "        def cuts(ts):\n",
    "            def fn(node):\n",
    "                obj = node.key.object()\n",
    "                m = node.key.shortName()\n",
    "                if isinstance(obj, _tr.Clock) and m == 'cutoffs':\n",
    "                    return True\n",
    "            with Context({clock.cutoffs: ts}, 'Clocks'):\n",
    "                nodes = find(valuable.NPV, fn)\n",
    "                return nodes\n",
    "\n",
    "        ret = {}\n",
    "        for n in cuts(ts1):\n",
    "            ret[n.key._key] = n\n",
    "        for n in cuts(ts2):\n",
    "            ret[n.key._key] = n\n",
    "        return ret.values()\n",
    "    \n",
    "    @node\n",
    "    def data(self):\n",
    "        valuable = self.valuable()\n",
    "        ts1 = self.ts1()\n",
    "        ts2 = self.ts2()\n",
    "        clock = valuable.getObj(_tr.RootClock, 'Main')\n",
    "    \n",
    "        nodes = self.cutoffs()\n",
    "    \n",
    "        # IRL, we'd sort these according to some business req...\n",
    "        # And our clocks might be arranged in an N-level tree...\n",
    "        nodes = sorted(nodes, key = lambda node: node.object().meta.name())\n",
    "    \n",
    "        data = []\n",
    "        curr = [0]\n",
    "        def add(title, npv):\n",
    "            pnl = npv - curr[0]\n",
    "            curr[0] = npv\n",
    "            data.append( {'Activity': title, 'PnL': pnl } )\n",
    "\n",
    "        with Context({clock.cutoffs: ts1}, 'Start'):\n",
    "            curr = [ valuable.NPV() ] # Starting balance\n",
    "    \n",
    "        tweaks = {}\n",
    "        for n in nodes:\n",
    "            tweaks[n] = ts1\n",
    "        with Context(tweaks, name='Start breaks'):\n",
    "            start = valuable.NPV()\n",
    "            add('Starting balance breaks', start)\n",
    "\n",
    "        tsAmend = Timestamp(t=ts2.transactionTime, v=ts1.validTime)\n",
    "        # XXX - modifying tweaks in place is a bit evil\n",
    "        # This is only safe because I know Context() effectively copies, so this works\n",
    "        # for now.\n",
    "        for n in nodes:\n",
    "            tweaks[n] = tsAmend\n",
    "            name = n.object().meta.name()\n",
    "            with Context(tweaks, name='Amend %s' % name):\n",
    "                add('prior day amends: %s' % name, valuable.NPV())\n",
    "        for n in nodes:\n",
    "            tweaks[n] = ts2\n",
    "            name = n.object().meta.name()\n",
    "            with Context(tweaks, name='Activity %s' % name):\n",
    "                add('activity: %s' % name, valuable.NPV())\n",
    "    \n",
    "        with Context({clock.cutoffs: ts2}, name='End'):\n",
    "            end = valuable.NPV()\n",
    "            add('Ending balance breaks', end)\n",
    "\n",
    "        title = 'PnL explain for %s: %s' % (valuable.meta.name(), end-start)\n",
    "        return data, title\n",
    "\n",
    "    def run(self):\n",
    "        data, title = self.data()\n",
    "        node = getNode(self.data)\n",
    "        footnotes = node.footnotes.values()\n",
    "        displayHeader('%s' % title)\n",
    "        if footnotes:\n",
    "            displayMarkdown('**Caveat: this report encountered problems. See footnotes at bottom.**')\n",
    "        displayListOfDicts(data, names=['Activity', 'PnL'] )\n",
    "        if footnotes:\n",
    "            displayMarkdown('## Footnotes:')\n",
    "            displayMarkdown(node.footnoteMarkdown())\n",
    "    \n",
    "r = Report(valuable=pAll, ts1=eod, ts2=ts6)\n",
    "r.run()"
   ]
  },
  {
   "cell_type": "markdown",
   "metadata": {},
   "source": [
    "## Add some inconsistent data [Test]\n",
    "\n",
    "Book b2 should appear multiple times in some portfolio trees and be flagged accordingly..."
   ]
  },
  {
   "cell_type": "code",
   "execution_count": 5,
   "metadata": {
    "collapsed": false
   },
   "outputs": [],
   "source": [
    "with db:\n",
    "    p1.setChildren(p1.children() + [b2])\n",
    "\n",
    "ts7 = Timestamp()"
   ]
  },
  {
   "cell_type": "markdown",
   "metadata": {},
   "source": [
    "# Footnotes\n",
    "\n",
    "Note the report calculation has run, but attached appropriate caveats to the output:"
   ]
  },
  {
   "cell_type": "code",
   "execution_count": 6,
   "metadata": {
    "collapsed": false,
    "scrolled": false
   },
   "outputs": [
    {
     "data": {
      "text/markdown": [
       "# PnL explain for TopOfTheHouse: 6256.00"
      ],
      "text/plain": [
       "<IPython.core.display.Markdown object>"
      ]
     },
     "metadata": {},
     "output_type": "display_data"
    },
    {
     "data": {
      "text/markdown": [
       "**Caveat: this report encountered problems. See footnotes at bottom.**"
      ],
      "text/plain": [
       "<IPython.core.display.Markdown object>"
      ]
     },
     "metadata": {},
     "output_type": "display_data"
    },
    {
     "data": {
      "text/markdown": [
       "|Activity|PnL|\n",
       "|-|-|\n",
       "|Starting balance breaks|0.00\n",
       "|prior day amends: MarketData|0.00\n",
       "|prior day amends: Portfolio|0.00\n",
       "|prior day amends: Trading|-4.00\n",
       "|activity: MarketData|5240.00\n",
       "|activity: Portfolio|1020.00\n",
       "|activity: Trading|0.00\n",
       "|Ending balance breaks|0.00"
      ],
      "text/plain": [
       "<IPython.core.display.Markdown object>"
      ]
     },
     "metadata": {},
     "output_type": "display_data"
    },
    {
     "data": {
      "text/markdown": [
       "## Footnotes:"
      ],
      "text/plain": [
       "<IPython.core.display.Markdown object>"
      ]
     },
     "metadata": {},
     "output_type": "display_data"
    },
    {
     "data": {
      "text/markdown": [
       "1. Inadequate cash discounting model used\n",
       "1. Book appears multiple times\n",
       "  * /Global/TradingBook/Eq-Inst0"
      ],
      "text/plain": [
       "<IPython.core.display.Markdown object>"
      ]
     },
     "metadata": {},
     "output_type": "display_data"
    },
    {
     "data": {
      "text/markdown": [
       "\n",
       "### Profile by nodes.\n",
       "* times are in microseconds\n",
       "* cumT is total time spent in funtion\n",
       "* calcT is time spent in function, but not in a child node"
      ],
      "text/plain": [
       "<IPython.core.display.Markdown object>"
      ]
     },
     "metadata": {},
     "output_type": "display_data"
    },
    {
     "data": {
      "text/markdown": [
       "|fn|n|cumT|calcT|cumT/call|sys|\n",
       "|-|-|-|-|-|-|\n",
       "|Report:data|1|20,064,079|17|20,064,079|GetValue\n",
       "|Report:data|1|20,064,062|423|20,064,062|GetValue/Calc\n",
       "|TradingContainer:NPV|11|19,999,269|134|1,818,115|GetValue\n",
       "|TradingContainer:NPV|11|19,999,135|81|1,818,103|GetValue/Calc\n",
       "|Portfolio:items|121|19,825,515|1,100|163,847|GetValue\n",
       "|Portfolio:items|121|19,825,425|784|163,846|GetValue/Calc\n",
       "|Workbook:items|1,104|18,797,960|10,949|17,027|GetValue\n",
       "|Workbook:items|1,100|18,787,011|7,786|17,079|GetValue/Calc\n",
       "|Report:cutoffs|1|11,397,364|19|11,397,364|GetValue\n",
       "|Report:cutoffs|1|11,397,345|138|11,397,345|GetValue/Calc\n",
       "|Root:Clocks|548|11,397,192|1,839,108|20,797|Context\n",
       "|TradeOpenEvent:ticket|22,286|4,510,472|110,753|202|GetValue\n",
       "|TradeOpenEvent|1,014|4,428,549|4,428,549|4,367|Db.Get\n",
       "|TradingTicket|1,014|4,399,719|4,399,719|4,338|Db.Get\n",
       "|Root:Activity MarketData|255|1,286,013|1,218,617|5,043|Context\n",
       "|Root:Start breaks|255|1,199,103|1,129,683|4,702|Context\n",
       "|Portfolio:children|242|987,752|1,494|4,081|GetValue\n",
       "|Portfolio:children|121|986,258|931|8,150|GetValue/Calc\n",
       "|Root:Activity Trading|263|920,603|845,114|3,500|Context\n",
       "|Root:End|278|894,429|825,813|3,217|Context\n",
       "|Root:Start|270|891,669|824,703|3,302|Context\n",
       "|Root:Amend MarketData|255|873,615|806,117|3,425|Context\n",
       "|Root:Amend Portfolio|255|869,740|803,157|3,410|Context\n",
       "|Root:Activity Portfolio|263|864,579|797,646|3,287|Context\n",
       "|Root:Amend Trading|255|861,473|794,311|3,378|Context\n",
       "|PortfolioUpdateEvent:children|121|410,147|2,831|3,389|GetValue\n",
       "|TradingBook|102|377,114|377,114|3,697|Db.Get\n",
       "|Equity:NPV|15|171,396|162|11,426|GetValue\n",
       "|Equity:NPV|15|171,233|101|11,415|GetValue/Calc\n",
       "|MarketInterface:spot|15|162,660|149|10,844|GetValue\n",
       "|MarketInterface:spot|15|162,510|95|10,834|GetValue/Calc\n",
       "|ExternalRefData:state|15|152,832|125|10,188|GetValue\n",
       "|ExternalRefData:state|15|152,706|100|10,180|GetValue/Calc\n",
       "|RefData:state|15|151,825|134|10,121|GetValue\n",
       "|RefData:state|15|151,691|101|10,112|GetValue/Calc\n",
       "|_WorkItemEvent:book2|22,286|107,613|101,067|4|GetValue\n",
       "|Clock:cutoffs|2,480|103,119|8,506|41|GetValue\n",
       "|_WorkItemEvent:book1|22,286|99,025|99,025|4|GetValue\n",
       "|Clock:cutoffs|20|94,683|126|4,734|GetValue/Calc\n",
       "|Clock:parent|20|93,746|185|4,687|GetValue\n",
       "|Clock:parent|20|93,560|147|4,678|GetValue/Calc\n",
       "|TradeOpenEvent:quantity|22,286|86,948|86,948|3|GetValue\n",
       "|_WorkItemEvent:item|11,143|75,723|68,906|6|GetValue\n",
       "|TradeOpenEvent:action|11,143|68,691|68,691|6|GetValue\n",
       "|TradeOpenEvent:premium|11,143|67,142|62,621|6|GetValue\n",
       "|PortfolioUpdateEvent|12|57,295|57,295|4,774|Db.Get\n",
       "|TradingBook:clock|2,200|56,292|20,102|25|GetValue\n",
       "|Event:amends|11,340|55,978|55,978|4|GetValue\n",
       "|TradeOpenEvent:unitPrice|11,143|55,681|55,681|4|GetValue\n",
       "|RefDataUpdateEvent|9|37,975|37,975|4,219|Db.Get\n",
       "|TradingPortfolio|10|36,746|36,746|3,674|Db.Get\n",
       "|TradingBook:clock|1,100|36,189|10,735|32|GetValue/Calc\n",
       "|Clock|5|17,665|17,665|3,533|Db.Get\n",
       "|Portfolio:clock|242|9,122|2,129|37|GetValue\n",
       "|MarketInterface:source|15|9,020|117|601|GetValue\n",
       "|MarketInterface:source|15|8,902|94|593|GetValue/Calc\n",
       "|ClockEvent|2|8,147|8,147|4,073|Db.Get\n",
       "|MarketDataSource|2|8,081|8,081|4,040|Db.Get\n",
       "|Equity:refdata|15|7,829|165|521|GetValue\n",
       "|Portfolio:books|231|7,825|1,512|33|GetValue\n",
       "|Equity:refdata|15|7,663|100|510|GetValue/Calc\n",
       "|Portfolio:clock|121|6,993|1,121|57|GetValue/Calc\n",
       "|MarketInterface|2|6,929|6,929|3,464|Db.Get\n",
       "|ClockEvent:parent|8|6,818|75|852|GetValue\n",
       "|Equity|2|6,817|6,817|3,408|Db.Get\n",
       "|Portfolio:books|121|6,632|773|54|GetValue/Calc\n",
       "|RootClock|1|5,031|5,031|5,031|Db.Get\n",
       "|ForwardCashflow|1|4,521|4,521|4,521|Db.Get\n",
       "|MarketDataSource:clock|30|4,493|258|149|GetValue\n",
       "|MarketDataSource:clock|15|4,235|155|282|GetValue/Calc\n",
       "|Entity:clock|40|929|377|23|GetValue\n",
       "|Entity:clock|20|551|202|27|GetValue/Calc\n",
       "|ForwardCashflow:NPV|11|310|120|28|GetValue\n",
       "|MarketInterface:sourceName|15|299|125|19|GetValue\n",
       "|RefDataUpdateEvent:data|58|245|245|4|GetValue\n",
       "|ForwardCashflow:NPV|11|190|73|17|GetValue/Calc\n",
       "|RootClock:cutoffs|52|180|180|3|GetValue\n",
       "|MarketInterface:sourceName|15|174|104|11|GetValue/Calc\n",
       "|Equity:assetName|15|106|106|7|GetValue\n",
       "|Report:valuable|2|12|12|6|GetValue\n",
       "|Report:ts2|2|7|7|3|GetValue\n",
       "|Report:ts1|2|7|7|3|GetValue"
      ],
      "text/plain": [
       "<IPython.core.display.Markdown object>"
      ]
     },
     "metadata": {},
     "output_type": "display_data"
    }
   ],
   "source": [
    "db3 = db.copy()\n",
    "p = db3._get(pAll.meta.path())\n",
    "\n",
    "with ProfileMonitor(mode='sum'): \n",
    "    r = Report(valuable=p, ts1=eod, ts2=ts7)\n",
    "    r.run()"
   ]
  }
 ],
 "metadata": {
  "kernelspec": {
   "display_name": "Python 2",
   "language": "python",
   "name": "python2"
  },
  "language_info": {
   "codemirror_mode": {
    "name": "ipython",
    "version": 2
   },
   "file_extension": ".py",
   "mimetype": "text/x-python",
   "name": "python",
   "nbconvert_exporter": "python",
   "pygments_lexer": "ipython2",
   "version": "2.7.13"
  }
 },
 "nbformat": 4,
 "nbformat_minor": 2
}
