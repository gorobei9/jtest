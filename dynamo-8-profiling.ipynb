{
 "cells": [
  {
   "cell_type": "markdown",
   "metadata": {},
   "source": [
    "# A simple profiler\n",
    "\n",
    "This is the first cut at a simple time-spent profiler for nodes. \n",
    "\n",
    "The code to profile is just the previously defined FRED code.\n",
    "\n",
    "Although primitive, the profiler output does show a few things:\n",
    "1. The bulk of the time is spent in fetching data pages.\n",
    "2. The ExternalRefData.state method is a mess:\n",
    " * It should load data pages lazily, not deeply in the EncDec mechanics\n",
    " * The low-level ObjMeta/dataField code hides some stuff we would like to expose at the node level\n",
    "3. Wow, this code is quite slow. Especially when my laptop is overheating:\n",
    " * Refactored FredSeries so that it doesn't load/persist release data by default\n",
    " * We'll fix the rest of the slowness later"
   ]
  },
  {
   "cell_type": "code",
   "execution_count": 1,
   "metadata": {
    "collapsed": false
   },
   "outputs": [],
   "source": [
    "import mand.core\n",
    "\n",
    "from mand.core import Entity, node, Context, _tr, ObjectDb, _DBO, EncDec\n",
    "from mand.core import displayDict, displayListOfDicts, displayMarkdown\n",
    "from mand.core import Monitor, PrintMonitor, SummaryMonitor\n",
    "from mand.lib.extrefdata import ExternalRefData, dataField\n",
    "\n",
    "from mand.user.refdata.FRED import FredManager, FredSeries, FredCategory\n",
    "\n",
    "db = ObjectDb(name='production-1', inMem=False, ro=True)\n",
    "\n",
    "%matplotlib inline\n"
   ]
  },
  {
   "cell_type": "code",
   "execution_count": 2,
   "metadata": {
    "collapsed": false
   },
   "outputs": [],
   "source": [
    "import time\n",
    "\n",
    "class ProfileMonitor(Monitor):\n",
    "\n",
    "    def __init__(self, mode=None):\n",
    "        self.stack = []\n",
    "        self.result = []\n",
    "        self.mode = mode\n",
    "        \n",
    "    def message(self, sys, depthInc, action, **kw):\n",
    "        if depthInc == 1:\n",
    "            v = [kw, time.clock(), 0]\n",
    "            self.stack.append(v)\n",
    "            \n",
    "        if depthInc == -1:\n",
    "            kw, start, tSub = self.stack.pop()\n",
    "            t = time.clock() - start\n",
    "            tFn = t - tSub\n",
    "            if self.stack:\n",
    "                self.stack[-1][-1] += t\n",
    "            \n",
    "            self.result.append((tFn, t, sys, kw))\n",
    "             \n",
    "    def dumpRaw(self):\n",
    "        for tFn, t, sys, kw in self.result:\n",
    "            key = self.kwToStr(kw)\n",
    "            print '%8.4f %8.4f %-16s: %s' % (tFn, t, sys, key)\n",
    "            \n",
    "    def displaySum(self):\n",
    "        if not self.result:\n",
    "            displayMarkdown('No profile info was recorded.')\n",
    "        n = {}\n",
    "        cumT = {}\n",
    "        cumTCalc = {}\n",
    "        tScale = 1e6\n",
    "        for tFn, t, sys, kw in self.result:\n",
    "            if 'path'in kw:\n",
    "                fn = kw.get('path', '//').split('/')[2]\n",
    "            else:\n",
    "                fn = kw.get('key', (None, ''))[1]\n",
    "            key = (sys, fn)\n",
    "            cumT[key] = cumT.get(key, 0) + t * tScale\n",
    "            cumTCalc[key] = cumTCalc.get(key, 0) + tFn * tScale\n",
    "            n[key] = n.get(key, 0) + 1\n",
    "        res = []\n",
    "        def f(d):\n",
    "            return format(int(d), ',d')\n",
    "        for key in n:\n",
    "            line = { 'n':         f(n[key]), \n",
    "                     'cumT':      f(cumT[key]),\n",
    "                     'cumT/call': f(cumT[key]/n[key]),\n",
    "                     'calcT':     f(cumTCalc[key]),\n",
    "                     'sys':       key[0],\n",
    "                     'fn':        key[1],\n",
    "                     'key':       cumT[key],\n",
    "                     }\n",
    "            res.append(line)\n",
    "        res = sorted(res, key=lambda d: -d['key'])\n",
    "        print 'Total times are in microseconds'\n",
    "        print '  cumT is total time spent in funtion'\n",
    "        print '  calcT is time spent in function, but not in a child node'\n",
    "        displayListOfDicts(res, names=['fn', 'n', 'cumT', 'calcT', 'cumT/call', 'sys'])\n",
    "    def onExit(self):\n",
    "        mode = self.mode\n",
    "        if mode is None:\n",
    "            self.dumpRaw()\n",
    "        elif mode == 'sum':\n",
    "            self.displaySum()\n",
    "        else:\n",
    "            assert False, 'unknown profiler mode: %s' % mode"
   ]
  },
  {
   "cell_type": "code",
   "execution_count": 3,
   "metadata": {
    "collapsed": false,
    "scrolled": false
   },
   "outputs": [
    {
     "name": "stdout",
     "output_type": "stream",
     "text": [
      "Total times are in microseconds\n",
      "  cumT is total time spent in funtion\n",
      "  calcT is time spent in function, but not in a child node\n"
     ]
    },
    {
     "data": {
      "text/markdown": [
       "|fn|n|cumT|calcT|cumT/call|sys|\n",
       "|-|-|-|-|-|-|\n",
       "|Test:info|1|180,494|21|180,494|GetValue\n",
       "|Test:info|1|180,473|433|180,473|GetValue/Calc\n",
       "|ExternalRefData:state|28|132,168|286|4,720|GetValue\n",
       "|ExternalRefData:state|27|131,881|450|4,884|GetValue/Calc\n",
       "|RefData:state|27|131,431|274|4,867|GetValue\n",
       "|RefData:state|27|131,156|52,980|4,857|GetValue/Calc\n",
       "|RefDataUpdateEvent|29|73,293|73,293|2,527|Db.Get\n",
       "|FredCategory:series|1|44,761|14|44,761|GetValue\n",
       "|FredCategory:series|1|44,747|460|44,747|GetValue/Calc\n",
       "|FredSeries|26|44,282|44,282|1,703|Db.Get\n",
       "|FredCategory|1|3,113|3,113|3,113|Db.Get\n",
       "|RefData:clock|54|2,538|495|47|GetValue\n",
       "|RefData:clock|27|2,042|354|75|GetValue/Calc\n",
       "|Clock:cutoffs|54|2,003|209|37|GetValue\n",
       "|Clock:cutoffs|1|1,793|27|1,793|GetValue/Calc\n",
       "|Clock:parent|1|1,762|8|1,762|GetValue\n",
       "|Clock:parent|1|1,754|1,645|1,754|GetValue/Calc\n",
       "|Clock|1|1,687|1,687|1,687|Db.Get\n",
       "|Event:amends|29|191|191|6|GetValue\n",
       "|RefDataUpdateEvent:data|29|149|149|5|GetValue\n",
       "|RootClock:cutoffs|3|75|17|25|GetValue\n",
       "|RootClock:cutoffs|1|58|25|58|GetValue/Calc\n",
       "|Entity:clock|2|36|23|18|GetValue\n",
       "|RootClock:cosmicAll|1|18|10|18|GetValue\n",
       "|CosmicAll:dbState|1|13|8|13|GetValue\n",
       "|Entity:clock|1|13|13|13|GetValue/Calc\n",
       "|RootClock:cosmicAll|1|8|8|8|GetValue/Calc\n",
       "|CosmicAll:dbState|1|5|5|5|GetValue/Calc"
      ],
      "text/plain": [
       "<IPython.core.display.Markdown object>"
      ]
     },
     "metadata": {},
     "output_type": "display_data"
    },
    {
     "name": "stdout",
     "output_type": "stream",
     "text": [
      "count is: 26\n"
     ]
    },
    {
     "data": {
      "text/markdown": [
       "|id|title|\n",
       "|-|-|\n",
       "|DEXBZUS|Brazil / U.S. Foreign Exchange Rate\n",
       "|DEXCAUS|Canada / U.S. Foreign Exchange Rate\n",
       "|DEXCHUS|China / U.S. Foreign Exchange Rate\n",
       "|DEXDNUS|Denmark / U.S. Foreign Exchange Rate\n",
       "|DEXHKUS|Hong Kong / U.S. Foreign Exchange Rate\n",
       "|DEXINUS|India / U.S. Foreign Exchange Rate\n",
       "|DEXJPUS|Japan / U.S. Foreign Exchange Rate\n",
       "|DEXKOUS|South Korea / U.S. Foreign Exchange Rate\n",
       "|DEXMAUS|Malaysia / U.S. Foreign Exchange Rate\n",
       "|DEXMXUS|Mexico / U.S. Foreign Exchange Rate\n",
       "|DEXNOUS|Norway / U.S. Foreign Exchange Rate\n",
       "|DEXSDUS|Sweden / U.S. Foreign Exchange Rate\n",
       "|DEXSFUS|South Africa / U.S. Foreign Exchange Rate\n",
       "|DEXSIUS|Singapore / U.S. Foreign Exchange Rate\n",
       "|DEXSLUS|Sri Lanka / U.S. Foreign Exchange Rate\n",
       "|DEXSZUS|Switzerland / U.S. Foreign Exchange Rate\n",
       "|DEXTAUS|Taiwan / U.S. Foreign Exchange Rate\n",
       "|DEXTHUS|Thailand / U.S. Foreign Exchange Rate\n",
       "|DEXUSAL|U.S. / Australia Foreign Exchange Rate\n",
       "|DEXUSEU|U.S. / Euro Foreign Exchange Rate\n",
       "|DEXUSNZ|U.S. / New Zealand Foreign Exchange Rate\n",
       "|DEXUSUK|U.S. / U.K. Foreign Exchange Rate\n",
       "|DEXVZUS|Venezuela / U.S. Foreign Exchange Rate\n",
       "|DTWEXB|Trade Weighted U.S. Dollar Index: Broad\n",
       "|DTWEXM|Trade Weighted U.S. Dollar Index: Major Currencies\n",
       "|DTWEXO|Trade Weighted U.S. Dollar Index: Other Important Trading..."
      ],
      "text/plain": [
       "<IPython.core.display.Markdown object>"
      ]
     },
     "metadata": {},
     "output_type": "display_data"
    }
   ],
   "source": [
    "class Test(_DBO):\n",
    "    @node\n",
    "    def info(self):\n",
    "        fc = FredCategory.get('94', self.meta.db, create=True)\n",
    "        info = []\n",
    "        if fc.seriesNames():\n",
    "            for s in fc.series():\n",
    "                seriesInfo = s.info()\n",
    "                info.append(dict([ (k, seriesInfo[k]) for k in ['id', 'title'] ]) )\n",
    "        return info\n",
    "        \n",
    "with ProfileMonitor(mode='sum'):\n",
    "    with PrintMonitor(include='Web'):\n",
    "        t = Test('Test', db=db)\n",
    "        info = t.info()\n",
    "        \n",
    "print 'count is:', len(info)\n",
    "displayListOfDicts(info)"
   ]
  },
  {
   "cell_type": "code",
   "execution_count": 4,
   "metadata": {
    "collapsed": false
   },
   "outputs": [
    {
     "name": "stdout",
     "output_type": "stream",
     "text": [
      "Swiss Francs to One U.S. Dollar\n"
     ]
    },
    {
     "data": {
      "image/png": "[encoded data removed]",
      "text/plain": [
       "<matplotlib.figure.Figure at 0x10c3b0d10>"
      ]
     },
     "metadata": {},
     "output_type": "display_data"
    },
    {
     "name": "stdout",
     "output_type": "stream",
     "text": [
      "U.S. Dollars to One British Pound\n"
     ]
    },
    {
     "data": {
      "image/png": "[encoded data removed]",
      "text/plain": [
       "<matplotlib.figure.Figure at 0x118021190>"
      ]
     },
     "metadata": {},
     "output_type": "display_data"
    }
   ],
   "source": [
    "chf = FredSeries.get('DEXSZUS', db, create=True)\n",
    "print chf.info()['units']\n",
    "chf.plot()\n",
    "\n",
    "gbp = FredSeries.get('DEXUSUK', db, create=True)\n",
    "print gbp.info()['units']\n",
    "gbp.plot()"
   ]
  },
  {
   "cell_type": "markdown",
   "metadata": {},
   "source": [
    "# Check things have a reasonable default display() method [Test]"
   ]
  },
  {
   "cell_type": "code",
   "execution_count": 5,
   "metadata": {
    "collapsed": false
   },
   "outputs": [
    {
     "data": {
      "text/markdown": [
       "# DEXUSEU"
      ],
      "text/plain": [
       "<IPython.core.display.Markdown object>"
      ]
     },
     "metadata": {},
     "output_type": "display_data"
    },
    {
     "data": {
      "text/markdown": [
       "|key|value|\n",
       "|-|-|\n",
       "|frequency|Daily\n",
       "|frequency_short|D\n",
       "|id|DEXUSEU\n",
       "|last_updated|2017-03-13 16:14:01-05\n",
       "|notes|Noon buying rates in New York City for cable transfers pa...\n",
       "|observation_end|2017-03-10\n",
       "|observation_start|1999-01-04\n",
       "|popularity|77\n",
       "|realtime_end|2017-03-18\n",
       "|realtime_start|2017-03-18\n",
       "|seasonal_adjustment|Not Seasonally Adjusted\n",
       "|seasonal_adjustment_short|NSA\n",
       "|title|U.S. / Euro Foreign Exchange Rate\n",
       "|units|U.S. Dollars to One Euro\n",
       "|units_short|U.S. $ to  1 Euro"
      ],
      "text/plain": [
       "<IPython.core.display.Markdown object>"
      ]
     },
     "metadata": {},
     "output_type": "display_data"
    },
    {
     "data": {
      "image/png": "[encoded data removed]",
      "text/plain": [
       "<matplotlib.figure.Figure at 0x1141c9f10>"
      ]
     },
     "metadata": {},
     "output_type": "display_data"
    },
    {
     "name": "stdout",
     "output_type": "stream",
     "text": [
      "Total times are in microseconds\n",
      "  cumT is total time spent in funtion\n",
      "  calcT is time spent in function, but not in a child node\n"
     ]
    },
    {
     "data": {
      "text/markdown": [
       "|fn|n|cumT|calcT|cumT/call|sys|\n",
       "|-|-|-|-|-|-|\n",
       "|FredSeries:data|1|486,966|20|486,966|GetValue\n",
       "|FredSeries:data|1|486,946|49|486,946|GetValue/Calc\n",
       "|FredReleases:data|1|483,277|29|483,277|GetValue\n",
       "|FredReleases:data|1|483,247|129,480|483,247|GetValue/Calc\n",
       "|FredReleases:allObservations|1|353,736|22|353,736|GetValue\n",
       "|FredReleases:allObservations|1|353,714|9,516|353,714|GetValue/Calc\n",
       "|ExternalRefData:state|3|344,180|55|114,726|GetValue\n",
       "|ExternalRefData:state|1|344,124|102|344,124|GetValue/Calc\n",
       "|ExternalDataPage|5|339,352|339,352|67,870|Db.Get\n",
       "|RefData:state|1|4,669|11|4,669|GetValue\n",
       "|RefData:state|1|4,658|2,253|4,658|GetValue/Calc\n",
       "|FredSeries:releases|1|3,620|55|3,620|GetValue\n",
       "|FredSeries:releases|1|3,565|60|3,565|GetValue/Calc\n",
       "|FredReleases|1|3,499|3,499|3,499|Db.Get\n",
       "|RefDataUpdateEvent|1|2,348|2,348|2,348|Db.Get\n",
       "|ExternalDataPage:data|5|55|55|11|GetValue\n",
       "|FredSeries:name|2|49|41|24|GetValue\n",
       "|RefData:clock|2|32|19|16|GetValue\n",
       "|FredReleases:fredClock|1|27|11|27|GetValue\n",
       "|FredReleases:fredClock|1|15|15|15|GetValue/Calc\n",
       "|RefData:clock|1|13|13|13|GetValue/Calc\n",
       "|Clock:cutoffs|2|9|9|4|GetValue\n",
       "|FredSeries:name|1|8|8|8|GetValue/Calc\n",
       "|RefDataUpdateEvent:data|1|7|7|7|GetValue\n",
       "|Event:amends|1|7|7|7|GetValue\n",
       "|FredClock:cutoffs|1|3|3|3|GetValue"
      ],
      "text/plain": [
       "<IPython.core.display.Markdown object>"
      ]
     },
     "metadata": {},
     "output_type": "display_data"
    }
   ],
   "source": [
    "with ProfileMonitor(mode='sum'):\n",
    "    with PrintMonitor(include='Web'):\n",
    "        eur = FredSeries.get('DEXUSEU', db, create=True)\n",
    "        eur.display()"
   ]
  },
  {
   "cell_type": "markdown",
   "metadata": {},
   "source": [
    "# Using a read-only db [Test]\n",
    "\n",
    "Even with a read-only db, we should still be able to do something useful. We just don't try to\n",
    "persist newly created objects:"
   ]
  },
  {
   "cell_type": "code",
   "execution_count": 6,
   "metadata": {
    "collapsed": false,
    "scrolled": false
   },
   "outputs": [
    {
     "data": {
      "text/markdown": [
       "# Income Distribution"
      ],
      "text/plain": [
       "<IPython.core.display.Markdown object>"
      ]
     },
     "metadata": {},
     "output_type": "display_data"
    },
    {
     "data": {
      "text/markdown": [
       "* 0 sub-categories\n",
       "* 65 series"
      ],
      "text/plain": [
       "<IPython.core.display.Markdown object>"
      ]
     },
     "metadata": {},
     "output_type": "display_data"
    },
    {
     "data": {
      "text/markdown": [
       "|id|title|popularity|frequency|units|\n",
       "|-|-|-|-|-|\n",
       "|MEHOINUSA672N|Real Median Household Income in the United States|91|Annual|2015 CPI-U-RS Adjusted Dollars\n",
       "|MEPAINUSA672N|Real Median Personal Income in the United States|71|Annual|2015 CPI-U-RS Adjusted Dollars\n",
       "|MEFAINUSA672N|Real Median Family Income in the United States|65|Annual|2015 CPI-U-RS Adjusted Dollars\n",
       "|MEHOINUSA646N|Median Household Income in the United States|61|Annual|Current Dollars\n",
       "|GINIALLRH|Income Gini Ratio for Households by Race of Householder, ...|54|Annual|Ratio\n",
       "|GINIALLRF|Income Gini Ratio of Families by Race of Householder, All...|50|Annual|Ratio\n",
       "|MEFAINUSA646N|Median Family Income in the United States|43|Annual|Current Dollars\n",
       "|MAFAINUSA646N|Mean Family Income in the United States|42|Annual|Current Dollars\n",
       "|MAPAINUSA672N|Real Mean Personal Income in the United States|41|Annual|2015 CPI-U-RS Adjusted Dollars\n",
       "|GINIBAOICH|Income Gini Ratio for Households by Race of Householder, ...|38|Annual|Ratio\n",
       "|MAFAINUSA672N|Real Mean Family Income in the United States|37|Annual|2015 CPI-U-RS Adjusted Dollars\n",
       "|MEPAINUSA646N|Median Personal Income in the United States|34|Annual|Current Dollars\n",
       "|MAPAINUSA646N|Mean Personal Income in the United States|33|Annual|Current Dollars\n",
       "|GINIWAF|Income Gini Ratio of Families by Race of Householder, Whi...|31|Annual|Ratio\n",
       "|MEFAINUSNEA672N|Real Median Family Income in Northeast Census Region|28|Annual|2015 CPI-U-RS Adjusted Dollars\n",
       "|GINIAAF|Income Gini Ratio of Families by Race of Householder, Asi...|27|Annual|Ratio\n",
       "|MEFAINUSMWA672N|Real Median Family Income in Midwest Census Region|27|Annual|2015 CPI-U-RS Adjusted Dollars\n",
       "|MEFAINUSWEA672N|Real Median Family Income in West Census Region|27|Annual|2015 CPI-U-RS Adjusted Dollars\n",
       "|GINIBAF|Income Gini Ratio of Families by Race of Householder, Bla...|26|Annual|Ratio\n",
       "|MEFAINUSSOA672N|Real Median Family Income in South Census Region|24|Annual|2015 CPI-U-RS Adjusted Dollars\n",
       "|MEPAINUSMWA672N|Real Median Personal Income in Midwest Census Region|20|Annual|2015 CPI-U-RS Adjusted Dollars\n",
       "|MAFAINUSMWA672N|Real Mean Family Income in Midwest Census Region|19|Annual|2015 CPI-U-RS Adjusted Dollars\n",
       "|MEPAINUSMWA646N|Median Personal Income in Midwest Census Region|16|Annual|Current Dollars\n",
       "|GINIWANHF|Income Gini Ratio of Families by Race of Householder, Whi...|14|Annual|Ratio\n",
       "|MEPAINUSSOA672N|Real Median Personal Income in South Census Region|14|Annual|2015 CPI-U-RS Adjusted Dollars\n",
       "|GINIHARH|Income Gini Ratio for Households by Race of Householder, ...|11|Annual|Ratio\n",
       "|GINIWAH|Income Gini Ratio for Households by Race of Householder, ...|11|Annual|Ratio\n",
       "|MEFAINUSMWA646N|Median Family Income in Midwest Census Region|11|Annual|Current Dollars\n",
       "|MEFAINUSNEA646N|Median Family Income in Northeast Census Region|11|Annual|Current Dollars\n",
       "|MAPAINUSMWA672N|Real Mean Personal Income in Midwest Census Region|11|Annual|2015 CPI-U-RS Adjusted Dollars\n",
       "|MEPAINUSNEA672N|Real Median Personal Income in Northeast Census Region|11|Annual|2015 CPI-U-RS Adjusted Dollars\n",
       "|MEPAINUSWEA672N|Real Median Personal Income in West Census Region|11|Annual|2015 CPI-U-RS Adjusted Dollars\n",
       "|GINIBAH|Income Gini Ratio for Households by Race of Householder, ...|7|Annual|Ratio\n",
       "|GINIWH|Income Gini Ratio for Households by Race of Householder, ...|7|Annual|Ratio\n",
       "|MEPAINUSNEA646N|Median Personal Income in Northeast Census Region|7|Annual|Current Dollars\n",
       "|MAFAINUSSOA672N|Real Mean Family Income in South Census Region|7|Annual|2015 CPI-U-RS Adjusted Dollars\n",
       "|MAPAINUSSOA672N|Real Mean Personal Income in South Census Region|7|Annual|2015 CPI-U-RS Adjusted Dollars\n",
       "|MAPAINUSWEA672N|Real Mean Personal Income in West Census Region|7|Annual|2015 CPI-U-RS Adjusted Dollars\n",
       "|GINIAAH|Income Gini Ratio for Households by Race of Householder, ...|0|Annual|Ratio\n",
       "|GINIAAOICH|Income Gini Ratio for Households by Race of Householder, ...|0|Annual|Ratio\n",
       "|GINIBH|Income Gini Ratio for Households by Race of Householder, ...|0|Annual|Ratio\n",
       "|GINIWANHH|Income Gini Ratio for Households by Race of Householder, ...|0|Annual|Ratio\n",
       "|GINIWAOICH|Income Gini Ratio for Households by Race of Householder, ...|0|Annual|Ratio\n",
       "|GINIWNHH|Income Gini Ratio for Households by Race of Householder, ...|0|Annual|Ratio\n",
       "|GINIAAOICF|Income Gini Ratio of Families by Race of Householder, Asi...|0|Annual|Ratio\n",
       "|GINIBF|Income Gini Ratio of Families by Race of Householder, Bla...|0|Annual|Ratio\n",
       "|GINIBAOICF|Income Gini Ratio of Families by Race of Householder, Bla...|0|Annual|Ratio\n",
       "|GINIHARF|Income Gini Ratio of Families by Race of Householder, His...|0|Annual|Ratio\n",
       "|GINIWF|Income Gini Ratio of Families by Race of Householder, Whi...|0|Annual|Ratio\n",
       "|GINIWNHF|Income Gini Ratio of Families by Race of Householder, Whi...|0|Annual|Ratio\n",
       "|MAFAINUSMWA646N|Mean Family Income in Midwest Census Region|0|Annual|Current Dollars\n",
       "|MAFAINUSNEA646N|Mean Family Income in Northeast Census Region|0|Annual|Current Dollars\n",
       "|MAFAINUSSOA646N|Mean Family Income in South Census Region|0|Annual|Current Dollars\n",
       "|MAFAINUSWEA646N|Mean Family Income in West Census Region|0|Annual|Current Dollars\n",
       "|MAPAINUSMWA646N|Mean Personal Income in Midwest Census Region|0|Annual|Current Dollars\n",
       "|MAPAINUSNEA646N|Mean Personal Income in Northeast Census Region|0|Annual|Current Dollars\n",
       "|MAPAINUSSOA646N|Mean Personal Income in South Census Region|0|Annual|Current Dollars\n",
       "|MAPAINUSWEA646N|Mean Personal Income in West Census Region|0|Annual|Current Dollars\n",
       "|MEFAINUSSOA646N|Median Family Income in South Census Region|0|Annual|Current Dollars\n",
       "|MEFAINUSWEA646N|Median Family Income in West Census Region|0|Annual|Current Dollars\n",
       "|MEPAINUSSOA646N|Median Personal Income in South Census Region|0|Annual|Current Dollars\n",
       "|MEPAINUSWEA646N|Median Personal Income in West Census Region|0|Annual|Current Dollars\n",
       "|MAFAINUSNEA672N|Real Mean Family Income in Northeast Census Region|0|Annual|2015 CPI-U-RS Adjusted Dollars\n",
       "|MAFAINUSWEA672N|Real Mean Family Income in West Census Region|0|Annual|2015 CPI-U-RS Adjusted Dollars\n",
       "|MAPAINUSNEA672N|Real Mean Personal Income in Northeast Census Region|0|Annual|2015 CPI-U-RS Adjusted Dollars"
      ],
      "text/plain": [
       "<IPython.core.display.Markdown object>"
      ]
     },
     "metadata": {},
     "output_type": "display_data"
    }
   ],
   "source": [
    "fc = FredCategory.get('33001', db=db, create=True)\n",
    "fc.display()"
   ]
  },
  {
   "cell_type": "code",
   "execution_count": 7,
   "metadata": {
    "collapsed": false
   },
   "outputs": [
    {
     "data": {
      "text/markdown": [
       "# Production & Business Activity"
      ],
      "text/plain": [
       "<IPython.core.display.Markdown object>"
      ]
     },
     "metadata": {},
     "output_type": "display_data"
    },
    {
     "data": {
      "text/markdown": [
       "* 12 sub-categories\n",
       "* 10 series"
      ],
      "text/plain": [
       "<IPython.core.display.Markdown object>"
      ]
     },
     "metadata": {},
     "output_type": "display_data"
    },
    {
     "data": {
      "text/markdown": [
       "|id|name|parent_id|\n",
       "|-|-|-|\n",
       "|32262|Business Cycle Expansions & Contractions|1\n",
       "|32436|Construction|1\n",
       "|33490|Finance Companies|1\n",
       "|32216|Health Insurance|1\n",
       "|97|Housing|1\n",
       "|3|Industrial Production & Capacity Utilization|1\n",
       "|32429|Manufacturing|1\n",
       "|6|Retail Trade|1\n",
       "|33441|Services|1\n",
       "|33492|Technology|1\n",
       "|33202|Transportation|1\n",
       "|33203|Wholesale Trade|1"
      ],
      "text/plain": [
       "<IPython.core.display.Markdown object>"
      ]
     },
     "metadata": {},
     "output_type": "display_data"
    },
    {
     "data": {
      "text/markdown": [
       "|id|title|popularity|frequency|units|\n",
       "|-|-|-|-|-|\n",
       "|ISRATIO|Total Business: Inventories to Sales Ratio|67|Monthly|Ratio\n",
       "|TOTBUSSMSA|Total Business Sales|59|Monthly|Millions of Dollars\n",
       "|BUSINV|Total Business Inventories|53|Monthly, End of Period|Millions of Dollars, End of Period\n",
       "|TOTBUSMPCSMSA|Total Business Sales|37|Monthly|Percent Change\n",
       "|TOTBUSIRNSA|Total Business: Inventories to Sales Ratio|37|Monthly|Ratio\n",
       "|TOTBUSSMNSA|Total Business Sales|34|Monthly|Millions of Dollars\n",
       "|TOTBUSMPCIMSA|Total Business Inventories|31|Monthly|Percent Change\n",
       "|TOTBUSIMNSA|Total Business Inventories|23|Monthly|Millions of Dollars\n",
       "|TOTBUSMPCIMNSA|Total Business Inventories|19|Monthly|Percent Change\n",
       "|TOTBUSMPCSMNSA|Total Business Sales|18|Monthly|Percent Change"
      ],
      "text/plain": [
       "<IPython.core.display.Markdown object>"
      ]
     },
     "metadata": {},
     "output_type": "display_data"
    },
    {
     "name": "stdout",
     "output_type": "stream",
     "text": [
      "Total times are in microseconds\n",
      "  cumT is total time spent in funtion\n",
      "  calcT is time spent in function, but not in a child node\n"
     ]
    },
    {
     "data": {
      "text/markdown": [
       "|fn|n|cumT|calcT|cumT/call|sys|\n",
       "|-|-|-|-|-|-|\n",
       "|ExternalRefData:state|16|75,547|200|4,721|GetValue\n",
       "|ExternalRefData:state|11|75,347|232|6,849|GetValue/Calc\n",
       "|RefData:state|11|75,114|127|6,828|GetValue\n",
       "|RefData:state|11|74,987|28,516|6,817|GetValue/Calc\n",
       "|RefDataUpdateEvent|13|45,779|45,779|3,521|Db.Get\n",
       "|FredCategory:series|2|25,171|29|12,585|GetValue\n",
       "|FredCategory:series|1|25,141|253|25,141|GetValue/Calc\n",
       "|FredSeries|10|24,883|24,883|2,488|Db.Get\n",
       "|FredCategory:name|1|16,452|13|16,452|GetValue\n",
       "|FredCategory:name|1|16,439|20|16,439|GetValue/Calc\n",
       "|FredCategory|1|4,552|4,552|4,552|Db.Get\n",
       "|RefData:clock|22|405|217|18|GetValue\n",
       "|RefData:clock|11|188|188|17|GetValue/Calc\n",
       "|RefDataUpdateEvent:data|13|103|103|7|GetValue\n",
       "|Event:amends|13|96|96|7|GetValue\n",
       "|Clock:cutoffs|22|84|84|3|GetValue"
      ],
      "text/plain": [
       "<IPython.core.display.Markdown object>"
      ]
     },
     "metadata": {},
     "output_type": "display_data"
    }
   ],
   "source": [
    "with ProfileMonitor(mode='sum'):\n",
    "    fc = FredCategory.get('1', db=db, create=True)\n",
    "    fc.display()"
   ]
  },
  {
   "cell_type": "code",
   "execution_count": 8,
   "metadata": {
    "collapsed": false,
    "scrolled": false
   },
   "outputs": [
    {
     "data": {
      "text/markdown": [
       "# Construction"
      ],
      "text/plain": [
       "<IPython.core.display.Markdown object>"
      ]
     },
     "metadata": {},
     "output_type": "display_data"
    },
    {
     "data": {
      "text/markdown": [
       "* 0 sub-categories\n",
       "* 96 series"
      ],
      "text/plain": [
       "<IPython.core.display.Markdown object>"
      ]
     },
     "metadata": {},
     "output_type": "display_data"
    },
    {
     "data": {
      "text/markdown": [
       "|id|title|popularity|frequency|units|\n",
       "|-|-|-|-|-|\n",
       "|TTLCONS|Total Construction Spending|63|Monthly|Millions of Dollars\n",
       "|TLNRESCONS|Total Construction Spending: Nonresidential|57|Monthly|Millions of Dollars\n",
       "|TLPBLCONS|Total Public Construction Spending|49|Monthly|Millions of Dollars\n",
       "|TLRESCONS|Total Construction Spending: Residential|46|Monthly|Millions of Dollars\n",
       "|PRRESCONS|Total Private Construction Spending: Residential|46|Monthly|Millions of Dollars\n",
       "|TLHWYCONS|Total Construction Spending: Highway and street|44|Monthly|Millions of Dollars\n",
       "|TLCOMCONS|Total Construction Spending: Commercial|41|Monthly|Millions of Dollars\n",
       "|PNRESCON|Total Private Construction Spending: Nonresidential|40|Monthly|Millions of Dollars\n",
       "|TTLCON|Total Construction Spending|38|Monthly|Millions of Dollars\n",
       "|TLPRVCONS|Total Private Construction Spending|38|Monthly|Millions of Dollars\n",
       "|PRCMUCON|Total Private Construction Spending: Communication|36|Monthly|Millions of Dollars\n",
       "|PNRESCONS|Total Private Construction Spending: Nonresidential|36|Monthly|Millions of Dollars\n",
       "|TLHLTHCONS|Total Construction Spending: Health Care|32|Monthly|Millions of Dollars\n",
       "|TLOFCONS|Total Construction Spending: Office|32|Monthly|Millions of Dollars\n",
       "|TLPBLCON|Total Public Construction Spending|30|Monthly|Millions of Dollars\n",
       "|TLNRESCON|Total Construction Spending: Nonresidential|29|Monthly|Millions of Dollars\n",
       "|TLWSCON|Total Construction Spending: Water Supply|29|Monthly|Millions of Dollars\n",
       "|PRCOMCONS|Total Private Construction Spending: Commercial|29|Monthly|Millions of Dollars\n",
       "|PBNRESCONS|Total Public Construction Spending: Nonresidential|28|Monthly|Millions of Dollars\n",
       "|TLCOMCON|Total Construction Spending: Commercial|27|Monthly|Millions of Dollars\n",
       "|TLRESCON|Total Construction Spending: Residential|27|Monthly|Millions of Dollars\n",
       "|TLMFGCON|Total Construction Spending: Manufacturing|26|Monthly|Millions of Dollars\n",
       "|PBHWYCONS|Total Public Construction Spending: Highway and street|25|Monthly|Millions of Dollars\n",
       "|TLWSCONS|Total Construction Spending: Water Supply|24|Monthly|Millions of Dollars\n",
       "|PROFCONS|Total Private Construction Spending: Office|24|Monthly|Millions of Dollars\n",
       "|TLEDUCONS|Total Construction Spending: Educational|23|Monthly|Millions of Dollars\n",
       "|TLHWYCON|Total Construction Spending: Highway and street|23|Monthly|Millions of Dollars\n",
       "|TLRELCON|Total Construction Spending: Religious|23|Monthly|Millions of Dollars\n",
       "|PRMFGCONS|Total Private Construction Spending: Manufacturing|23|Monthly|Millions of Dollars\n",
       "|PRRESCON|Total Private Construction Spending: Residential|23|Monthly|Millions of Dollars\n",
       "|PBWSCON|Total Public Construction Spending: Water Supply|23|Monthly|Millions of Dollars\n",
       "|TLSWDCON|Total Construction Spending: Sewage and waste disposal|20|Monthly|Millions of Dollars\n",
       "|PBTRANSCONS|Total Public Construction Spending: Transportation|20|Monthly|Millions of Dollars\n",
       "|TLPWRCON|Total Construction Spending: Power|19|Monthly|Millions of Dollars\n",
       "|TLSWDCONS|Total Construction Spending: Sewage and waste disposal|19|Monthly|Millions of Dollars\n",
       "|PRCOMCON|Total Private Construction Spending: Commercial|19|Monthly|Millions of Dollars\n",
       "|PLODGCONS|Total Private Construction Spending: Lodging|19|Monthly|Millions of Dollars\n",
       "|PBRESCON|Total Public Construction Spending: Residential|19|Monthly|Millions of Dollars\n",
       "|PBWSCONS|Total Public Construction Spending: Water Supply|19|Monthly|Millions of Dollars\n",
       "|TLLODGCONS|Total Construction Spending: Lodging|18|Monthly|Millions of Dollars\n",
       "|TLMFGCONS|Total Construction Spending: Manufacturing|18|Monthly|Millions of Dollars\n",
       "|TLPWRCONS|Total Construction Spending: Power|16|Monthly|Millions of Dollars\n",
       "|TLRELCONS|Total Construction Spending: Religious|16|Monthly|Millions of Dollars\n",
       "|PRHLTHCONS|Total Private Construction Spending: Health Care|16|Monthly|Millions of Dollars\n",
       "|PBSWGCON|Total Public Construction Spending: Sewage and waste disp...|16|Monthly|Millions of Dollars\n",
       "|TLEDUCON|Total Construction Spending: Educational|14|Monthly|Millions of Dollars\n",
       "|TLOFCON|Total Construction Spending: Office|14|Monthly|Millions of Dollars\n",
       "|TLPSCON|Total Construction Spending: Public Safety|14|Monthly|Millions of Dollars\n",
       "|TLTRANSCONS|Total Construction Spending: Transportation|14|Monthly|Millions of Dollars\n",
       "|PRCMUCONS|Total Private Construction Spending: Communication|14|Monthly|Millions of Dollars\n",
       "|TLAMUSCONS|Total Construction Spending: Amusement and recreation|11|Monthly|Millions of Dollars\n",
       "|TLCMUCON|Total Construction Spending: Communication|11|Monthly|Millions of Dollars\n",
       "|PRAMUSCONS|Total Private Construction Spending: Amusement and recrea...|11|Monthly|Millions of Dollars\n",
       "|PREDUCONS|Total Private Construction Spending: Educational|11|Monthly|Millions of Dollars\n",
       "|PRRELCONS|Total Private Construction Spending: Religious|11|Monthly|Millions of Dollars\n",
       "|PRTRANSCONS|Total Private Construction Spending: Transportation|11|Monthly|Millions of Dollars\n",
       "|PBEDUCONS|Total Public Construction Spending: Educational|11|Monthly|Millions of Dollars\n",
       "|TLCMUCONS|Total Construction Spending: Communication|7|Monthly|Millions of Dollars\n",
       "|TLHLTHCON|Total Construction Spending: Health Care|7|Monthly|Millions of Dollars\n",
       "|TLPRVCON|Total Private Construction Spending|7|Monthly|Millions of Dollars\n",
       "|PRMFGCON|Total Private Construction Spending: Manufacturing|7|Monthly|Millions of Dollars\n",
       "|PRPWRCONS|Total Private Construction Spending: Power|7|Monthly|Millions of Dollars\n",
       "|PBEDUCON|Total Public Construction Spending: Educational|7|Monthly|Millions of Dollars\n",
       "|PBRESCONS|Total Public Construction Spending: Residential|7|Monthly|Millions of Dollars\n",
       "|TLAMUSCON|Total Construction Spending: Amusement and recreation|0|Monthly|Millions of Dollars\n",
       "|TLCADCON|Total Construction Spending: Conservation and development|0|Monthly|Millions of Dollars\n",
       "|TLCADCONS|Total Construction Spending: Conservation and development|0|Monthly|Millions of Dollars\n",
       "|TLLODGCON|Total Construction Spending: Lodging|0|Monthly|Millions of Dollars\n",
       "|TLPSCONS|Total Construction Spending: Public Safety|0|Monthly|Millions of Dollars\n",
       "|TLTRANSCON|Total Construction Spending: Transportation|0|Monthly|Millions of Dollars\n",
       "|PRAMUSCON|Total Private Construction Spending: Amusement and recrea...|0|Monthly|Millions of Dollars\n",
       "|PREDUCON|Total Private Construction Spending: Educational|0|Monthly|Millions of Dollars\n",
       "|PRHLTHCON|Total Private Construction Spending: Health Care|0|Monthly|Millions of Dollars\n",
       "|PLODGCON|Total Private Construction Spending: Lodging|0|Monthly|Millions of Dollars\n",
       "|PROFCON|Total Private Construction Spending: Office|0|Monthly|Millions of Dollars\n",
       "|PRPWRCON|Total Private Construction Spending: Power|0|Monthly|Millions of Dollars\n",
       "|PRRELCON|Total Private Construction Spending: Religious|0|Monthly|Millions of Dollars\n",
       "|PRTRANSCON|Total Private Construction Spending: Transportation|0|Monthly|Millions of Dollars\n",
       "|PBAMUSCON|Total Public Construction Spending: Amusement and recreation|0|Monthly|Millions of Dollars\n",
       "|PBAMUSCONS|Total Public Construction Spending: Amusement and recreation|0|Monthly|Millions of Dollars\n",
       "|PBCOMCON|Total Public Construction Spending: Commercial|0|Monthly|Millions of Dollars\n",
       "|PBCOMCONS|Total Public Construction Spending: Commercial|0|Monthly|Millions of Dollars\n",
       "|PBCADCON|Total Public Construction Spending: Conservation and deve...|0|Monthly|Millions of Dollars\n",
       "|PBCADCONS|Total Public Construction Spending: Conservation and deve...|0|Monthly|Millions of Dollars\n",
       "|PBHLTHCON|Total Public Construction Spending: Health Care|0|Monthly|Millions of Dollars\n",
       "|PBHLTHCONS|Total Public Construction Spending: Health Care|0|Monthly|Millions of Dollars\n",
       "|PBHWYCON|Total Public Construction Spending: Highway and street|0|Monthly|Millions of Dollars\n",
       "|PBNRESCON|Total Public Construction Spending: Nonresidential|0|Monthly|Millions of Dollars\n",
       "|PBOFCON|Total Public Construction Spending: Office|0|Monthly|Millions of Dollars\n",
       "|PBOFCONS|Total Public Construction Spending: Office|0|Monthly|Millions of Dollars\n",
       "|PBPWRCON|Total Public Construction Spending: Power|0|Monthly|Millions of Dollars\n",
       "|PBPWRCONS|Total Public Construction Spending: Power|0|Monthly|Millions of Dollars\n",
       "|PBPSCON|Total Public Construction Spending: Public Safety|0|Monthly|Millions of Dollars\n",
       "|PBPSCONS|Total Public Construction Spending: Public Safety|0|Monthly|Millions of Dollars\n",
       "|PBSWGCONS|Total Public Construction Spending: Sewage and waste disp...|0|Monthly|Millions of Dollars\n",
       "|PBTRANSCON|Total Public Construction Spending: Transportation|0|Monthly|Millions of Dollars"
      ],
      "text/plain": [
       "<IPython.core.display.Markdown object>"
      ]
     },
     "metadata": {},
     "output_type": "display_data"
    }
   ],
   "source": [
    "with PrintMonitor(include='Web'):\n",
    "    fc = FredCategory.get('32436', db=db, create=True)\n",
    "    fc.display()"
   ]
  }
 ],
 "metadata": {
  "kernelspec": {
   "display_name": "Python 2",
   "language": "python",
   "name": "python2"
  },
  "language_info": {
   "codemirror_mode": {
    "name": "ipython",
    "version": 2
   },
   "file_extension": ".py",
   "mimetype": "text/x-python",
   "name": "python",
   "nbconvert_exporter": "python",
   "pygments_lexer": "ipython2",
   "version": "2.7.13"
  }
 },
 "nbformat": 4,
 "nbformat_minor": 2
}
