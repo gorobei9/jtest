{
 "cells": [
  {
   "cell_type": "code",
   "execution_count": 1,
   "metadata": {
    "collapsed": false
   },
   "outputs": [
    {
     "name": "stdout",
     "output_type": "stream",
     "text": [
      "<mand.db.ObjectDb object at 0x10c820c10>: 130, mem=True, ro=False: entities=9, map=2\n"
     ]
    }
   ],
   "source": [
    "import mand.core\n",
    "\n",
    "from mand.core import Entity, node, Context\n",
    "\n",
    "from mand.core import ObjectDb, _tr, Timestamp, Context, getNode\n",
    "from mand.core import ProfileMonitor, PrintMonitor\n",
    "from mand.lib.extrefdata import ExternalRefData, dataField\n",
    "from mand.lib.workflow import Workbook, WorkItemOpenEvent, WorkItem\n",
    "from mand.lib.portfolio import Portfolio\n",
    "from mand.core import displayDict, displayMarkdown, displayListOfDicts, displayHeader\n",
    "from mand.core import num, find\n",
    "import datetime\n",
    "from mand.lib.dbsetup import setUpDb\n",
    "\n",
    "from mand.demos.trading import TradingBook, TradingPortfolio, MarketDataSource, MarketInterface\n",
    "\n",
    "db = ObjectDb()\n",
    "setUpDb(db)\n",
    "db.describe()"
   ]
  },
  {
   "cell_type": "code",
   "execution_count": 2,
   "metadata": {
    "collapsed": false
   },
   "outputs": [
    {
     "name": "stdout",
     "output_type": "stream",
     "text": [
      "<mand.demos.trading.TradingPortfolio object at 0x10c93f590>\n",
      "# books: 100\n",
      "# children: 10\n"
     ]
    }
   ],
   "source": [
    "def makeTree(names):\n",
    "    ret = []\n",
    "    for name in names:\n",
    "        subs = [ TradingBook(name+str(i)) for i in range(10) ]\n",
    "        p = TradingPortfolio(name).write()\n",
    "        p.setChildren(subs)\n",
    "        ret.append(p)\n",
    "    return ret\n",
    "\n",
    "with db:\n",
    "    pAll = TradingPortfolio('TopOfTheHouse').write()\n",
    "    subs = makeTree(['Eq-Prop', 'Eq-Inst', 'FX', 'Rates', 'Credit', 'Delta1', 'Loans', 'Commod', 'ETFs', 'Mtge'])\n",
    "    pAll.setChildren(subs)\n",
    "    \n",
    "print pAll\n",
    "print '# books:', len(pAll.books())\n",
    "print '# children:', len(pAll.children())"
   ]
  },
  {
   "cell_type": "code",
   "execution_count": 3,
   "metadata": {
    "collapsed": false
   },
   "outputs": [
    {
     "name": "stdout",
     "output_type": "stream",
     "text": [
      "Customer1\n",
      "Eq-Prop0\n",
      "Eq-Inst0\n"
     ]
    }
   ],
   "source": [
    "with db:\n",
    "    bExt  = _tr.TradingBook('Customer1')\n",
    "    bExt2 = _tr.TradingBook('Customer2')\n",
    "    \n",
    "p1 = pAll.children()[0]\n",
    "p2 = pAll.children()[1]\n",
    "\n",
    "b1 = p1.children()[0]\n",
    "b2 = p2.children()[0]\n",
    "\n",
    "print bExt.meta.name()\n",
    "print b1.meta.name()\n",
    "print b2.meta.name()"
   ]
  },
  {
   "cell_type": "code",
   "execution_count": 4,
   "metadata": {
    "collapsed": false,
    "scrolled": false
   },
   "outputs": [],
   "source": [
    "with db:\n",
    "    s1_ibm  = MarketDataSource('source1.IBM')\n",
    "    s1_goog = MarketDataSource('source1.GOOG')\n",
    "\n",
    "s1_ibm.update(last=175.61)\n",
    "s1_goog.update(last=852.12)"
   ]
  },
  {
   "cell_type": "code",
   "execution_count": 5,
   "metadata": {
    "collapsed": false
   },
   "outputs": [],
   "source": [
    "with db:\n",
    "    ibm  = MarketInterface('IBM')\n",
    "    goog = MarketInterface('GOOG')"
   ]
  },
  {
   "cell_type": "code",
   "execution_count": 6,
   "metadata": {
    "collapsed": false
   },
   "outputs": [],
   "source": [
    "with db:\n",
    "    TradeOpenEvent = _tr.TradeOpenEvent\n",
    "    cf1 = _tr.ForwardCashflow()\n",
    "    ins1 = _tr.Equity()\n",
    "    ins2 = _tr.Equity(assetName='GOOG.Eq.1')\n",
    "    \n",
    "    ts1 = Timestamp()\n",
    "    \n",
    "    ev1 = TradeOpenEvent(action='Buy',\n",
    "                         item=ins1,\n",
    "                         quantity=100,\n",
    "                         premium=cf1,\n",
    "                         unitPrice=175.65,\n",
    "                         book1=b1,\n",
    "                         book2=bExt).write()\n",
    "    \n",
    "    ts2 = Timestamp()\n",
    "    \n",
    "    s1_ibm.update(last=175.64)\n",
    "    \n",
    "    ts3 = Timestamp()\n",
    "    \n",
    "    ev2 = TradeOpenEvent(action='Buy',\n",
    "                         item=ins2,\n",
    "                         quantity=300,\n",
    "                         premium=cf1,\n",
    "                         unitPrice=852.12,\n",
    "                         book1=b2,\n",
    "                         book2=bExt).write()\n",
    "    \n",
    "    ev3 = TradeOpenEvent(action='Sell',\n",
    "                         item=ins1,\n",
    "                         quantity=100,\n",
    "                         premium=cf1,\n",
    "                         unitPrice=175.85,\n",
    "                         book1=b2,\n",
    "                         book2=bExt2).write()\n",
    "    \n",
    "    ts4 = Timestamp()\n",
    "    \n",
    "    s1_ibm.update(last=175.70)\n",
    "    s1_goog.update(last=852.11)\n",
    "    \n",
    "    ts5 = Timestamp()\n",
    "    \n",
    "    s1_ibm.update(last=175.68)\n",
    "    s1_goog.update(last=852.13)\n",
    "    \n",
    "    eod = Timestamp()\n",
    "    \n",
    "    ev4 = TradeOpenEvent(action='Buy',\n",
    "                         item=ins1,\n",
    "                         quantity=100,\n",
    "                         premium=cf1,\n",
    "                         unitPrice=175.69,\n",
    "                         book1=b1,\n",
    "                         book2=bExt,\n",
    "                         amends=ev1,\n",
    "                         message='Sorry, the broker says you actually paid 69. signed: the middle office'\n",
    "                        ).write(validTime=ev1.meta._timestamp.validTime)\n",
    "    \n",
    "    s1_ibm.update(last=177.68)\n",
    "    s1_goog.update(last=856.13)\n",
    "    \n",
    "    ts6 = Timestamp()\n",
    "    "
   ]
  },
  {
   "cell_type": "code",
   "execution_count": 7,
   "metadata": {
    "collapsed": false,
    "scrolled": false
   },
   "outputs": [
    {
     "data": {
      "text/markdown": [
       "# PnL explain for TopOfTheHouse: 1196.00"
      ],
      "text/plain": [
       "<IPython.core.display.Markdown object>"
      ]
     },
     "metadata": {},
     "output_type": "display_data"
    },
    {
     "data": {
      "text/markdown": [
       "|Activity|PnL|\n",
       "|-|-|\n",
       "|Starting balance breaks|0.00\n",
       "|prior day amends: MarketData|0.00\n",
       "|prior day amends: Portfolio|0.00\n",
       "|prior day amends: Trading|-4.00\n",
       "|activity: MarketData|1200.00\n",
       "|activity: Portfolio|0.00\n",
       "|activity: Trading|0.00\n",
       "|Ending balance breaks|0.00"
      ],
      "text/plain": [
       "<IPython.core.display.Markdown object>"
      ]
     },
     "metadata": {},
     "output_type": "display_data"
    }
   ],
   "source": [
    "class Report(Entity):\n",
    "    @node(stored=True)\n",
    "    def valuable(self):\n",
    "        return None\n",
    "    \n",
    "    @node(stored=True)\n",
    "    def ts1(self):\n",
    "        return None\n",
    "    \n",
    "    @node(stored=True)\n",
    "    def ts2(self):\n",
    "        return None\n",
    "    \n",
    "    @node\n",
    "    def data(self):\n",
    "        valuable = self.valuable()\n",
    "        ts1 = self.ts1()\n",
    "        ts2 = self.ts2()\n",
    "        clock = valuable.getObj(_tr.RootClock, 'Main')\n",
    "    \n",
    "        def clocks(ts):\n",
    "            def fn(node):\n",
    "                obj = node.key[0]\n",
    "                m = node.key[1].split(':')[-1]\n",
    "                if isinstance(obj, _tr.Clock) and m == 'cutoffs':\n",
    "                    return True\n",
    "            with Context({clock.cutoffs: ts}, 'Clocks'):\n",
    "                nodes = find(valuable.NPV, fn)\n",
    "                return dict( [ (node.tweakPoint, node) for node in nodes ] )\n",
    "    \n",
    "        allNodes = clocks(ts1)\n",
    "    \n",
    "        allNodes.update(clocks(ts2))\n",
    "        nodes = allNodes.values() \n",
    "    \n",
    "        # IRL, we'd sort these according to some business req...\n",
    "        # And our clocks might be arranged in an N-level tree...\n",
    "        nodes = sorted(nodes, key = lambda node: node.key[0].meta.name())\n",
    "    \n",
    "        data = []\n",
    "        curr = [0]\n",
    "        def add(title, npv):\n",
    "            pnl = npv - curr[0]\n",
    "            curr[0] = npv\n",
    "            data.append( {'Activity': title, 'PnL': pnl } )\n",
    "\n",
    "        with Context({clock.cutoffs: ts1}, 'Start'):\n",
    "            curr = [ valuable.NPV() ] # Starting balance\n",
    "    \n",
    "        tweaks = {}\n",
    "        for n in nodes:\n",
    "            tweaks[n.tweakPoint] = ts1\n",
    "        with Context(tweaks, name='Start breaks'):\n",
    "            start = valuable.NPV()\n",
    "            add('Starting balance breaks', start)\n",
    "\n",
    "        tsAmend = Timestamp(t=ts2.transactionTime, v=ts1.validTime)\n",
    "        for n in nodes:\n",
    "            tweaks[n.tweakPoint] = tsAmend\n",
    "            name = n.key[0].meta.name()\n",
    "            with Context(tweaks, name='Amend %s' % name):\n",
    "                add('prior day amends: %s' % name, valuable.NPV())\n",
    "        for n in nodes:\n",
    "            tweaks[n.tweakPoint] = ts2\n",
    "            name = n.key[0].meta.name()\n",
    "            with Context(tweaks, name='Activity %s' % name):\n",
    "                add('activity: %s' % name, valuable.NPV())\n",
    "    \n",
    "        with Context({clock.cutoffs: ts2}, name='End'):\n",
    "            end = valuable.NPV()\n",
    "            add('Ending balance breaks', end)\n",
    "\n",
    "        title = 'PnL explain for %s: %s' % (valuable.meta.name(), end-start)\n",
    "        return data, title\n",
    "\n",
    "    def run(self):\n",
    "        data, title = self.data()\n",
    "        node = getNode(self.data)\n",
    "        footnotes = node.footnotes.values()\n",
    "        displayHeader('%s' % title)\n",
    "        if footnotes:\n",
    "            displayMarkdown('**Caveat: this report encountered problems. See footnotes at bottom.**')\n",
    "        displayListOfDicts(data, names=['Activity', 'PnL'] )\n",
    "        if footnotes:\n",
    "            displayMarkdown('## Footnotes:')\n",
    "            for f in footnotes:\n",
    "                displayMarkdown('1. %s' % f)\n",
    "    \n",
    "r = Report(valuable=pAll, ts1=eod, ts2=ts6)\n",
    "r.run()"
   ]
  },
  {
   "cell_type": "markdown",
   "metadata": {},
   "source": [
    "## Add some inconsistent data [Test]\n",
    "\n",
    "Book b2 should appear multiple times in some portfolio trees and be flagged accordingly..."
   ]
  },
  {
   "cell_type": "code",
   "execution_count": 8,
   "metadata": {
    "collapsed": false
   },
   "outputs": [],
   "source": [
    "with db:\n",
    "    p1.setChildren(p1.children() + [b2])\n",
    "\n",
    "ts7 = Timestamp()"
   ]
  },
  {
   "cell_type": "code",
   "execution_count": 9,
   "metadata": {
    "collapsed": false,
    "scrolled": false
   },
   "outputs": [
    {
     "data": {
      "text/markdown": [
       "# PnL explain for TopOfTheHouse: 2216.00"
      ],
      "text/plain": [
       "<IPython.core.display.Markdown object>"
      ]
     },
     "metadata": {},
     "output_type": "display_data"
    },
    {
     "data": {
      "text/markdown": [
       "**Caveat: this report encountered problems. See footnotes at bottom.**"
      ],
      "text/plain": [
       "<IPython.core.display.Markdown object>"
      ]
     },
     "metadata": {},
     "output_type": "display_data"
    },
    {
     "data": {
      "text/markdown": [
       "|Activity|PnL|\n",
       "|-|-|\n",
       "|Starting balance breaks|0.00\n",
       "|prior day amends: MarketData|0.00\n",
       "|prior day amends: Portfolio|0.00\n",
       "|prior day amends: Trading|-4.00\n",
       "|activity: MarketData|1200.00\n",
       "|activity: Portfolio|1020.00\n",
       "|activity: Trading|0.00\n",
       "|Ending balance breaks|0.00"
      ],
      "text/plain": [
       "<IPython.core.display.Markdown object>"
      ]
     },
     "metadata": {},
     "output_type": "display_data"
    },
    {
     "data": {
      "text/markdown": [
       "## Footnotes:"
      ],
      "text/plain": [
       "<IPython.core.display.Markdown object>"
      ]
     },
     "metadata": {},
     "output_type": "display_data"
    },
    {
     "data": {
      "text/markdown": [
       "1. Book appears multiple times: /Global/TradingBook/Eq-Inst0"
      ],
      "text/plain": [
       "<IPython.core.display.Markdown object>"
      ]
     },
     "metadata": {},
     "output_type": "display_data"
    },
    {
     "data": {
      "text/markdown": [
       "\n",
       "### Profile by nodes.\n",
       "* times are in microseconds\n",
       "* cumT is total time spent in funtion\n",
       "* calcT is time spent in function, but not in a child node"
      ],
      "text/plain": [
       "<IPython.core.display.Markdown object>"
      ]
     },
     "metadata": {},
     "output_type": "display_data"
    },
    {
     "data": {
      "text/markdown": [
       "|fn|n|cumT|calcT|cumT/call|sys|\n",
       "|-|-|-|-|-|-|\n",
       "|Portfolio:items|121|11,055,961|852|91,371|GetValue\n",
       "|Portfolio:items|121|11,055,109|18,563|91,364|GetValue/Calc\n",
       "|Report:data|1|5,766,710|11|5,766,710|GetValue\n",
       "|Report:data|1|5,766,698|411|5,766,698|GetValue/Calc\n",
       "|TradingContainer:NPV|11|5,759,618|103|523,601|GetValue\n",
       "|TradingContainer:NPV|11|5,759,514|1,605|523,592|GetValue/Calc\n",
       "|Workbook:items|1,104|4,533,762|7,912|4,106|GetValue\n",
       "|Workbook:items|1,100|4,525,849|4,395,035|4,114|GetValue/Calc\n",
       "|Root:Clocks|2|1,594,384|2,624|797,192|Context\n",
       "|Portfolio:children|242|1,028,084|1,069|4,248|GetValue\n",
       "|Portfolio:children|121|1,027,015|514,928|8,487|GetValue/Calc\n",
       "|Root:End|1|480,982|45|480,982|Context\n",
       "|Root:Start|1|472,190|16|472,190|Context\n",
       "|Root:Amend MarketData|1|462,615|35|462,615|Context\n",
       "|Root:Activity Portfolio|1|462,519|40|462,519|Context\n",
       "|Root:Activity Trading|1|462,214|38|462,214|Context\n",
       "|Root:Amend Trading|1|460,434|39|460,434|Context\n",
       "|Root:Activity MarketData|1|457,784|41|457,784|Context\n",
       "|Root:Amend Portfolio|1|455,196|33|455,196|Context\n",
       "|Root:Start breaks|1|454,246|35|454,246|Context\n",
       "|PortfolioUpdateEvent:children|121|433,524|2,213|3,582|GetValue\n",
       "|TradingBook|102|400,235|400,235|3,923|Db.Get\n",
       "|Equity:NPV|15|171,478|149|11,431|GetValue\n",
       "|Equity:NPV|15|171,329|358|11,421|GetValue/Calc\n",
       "|MarketInterface:spot|15|159,068|98|10,604|GetValue\n",
       "|MarketInterface:spot|15|158,969|383|10,597|GetValue/Calc\n",
       "|ExternalRefData:state|15|151,038|87|10,069|GetValue\n",
       "|ExternalRefData:state|15|150,951|251|10,063|GetValue/Calc\n",
       "|RefData:state|15|150,700|95|10,046|GetValue\n",
       "|RefData:state|15|150,604|64,049|10,040|GetValue/Calc\n",
       "|Clock:cutoffs|2,480|135,632|5,577|54|GetValue\n",
       "|Clock:cutoffs|20|130,054|366|6,502|GetValue/Calc\n",
       "|Clock:parent|20|97,338|117|4,866|GetValue\n",
       "|Clock:parent|20|97,220|81,261|4,861|GetValue/Calc\n",
       "|PortfolioUpdateEvent|12|54,673|54,673|4,556|Db.Get\n",
       "|RefDataUpdateEvent|9|41,104|41,104|4,567|Db.Get\n",
       "|TradingPortfolio|10|38,458|38,458|3,845|Db.Get\n",
       "|TradingBook:clock|2,200|32,261|14,377|14|GetValue\n",
       "|Clock|5|19,204|19,204|3,840|Db.Get\n",
       "|TradingBook:clock|1,100|17,884|13,768|16|GetValue/Calc\n",
       "|TradeOpenEvent|4|17,218|17,218|4,304|Db.Get\n",
       "|TradeOpenEvent:ticket|66|14,912|465|225|GetValue\n",
       "|TradingTicket|4|14,446|14,446|3,611|Db.Get\n",
       "|Equity:refdata|15|11,902|163|793|GetValue\n",
       "|Equity:refdata|15|11,739|361|782|GetValue/Calc\n",
       "|_WorkItemEvent:item|33|7,895|185|239|GetValue\n",
       "|ClockEvent|2|7,824|7,824|3,912|Db.Get\n",
       "|Equity|2|7,710|7,710|3,855|Db.Get\n",
       "|_WorkItemEvent:book2|66|7,627|243|115|GetValue\n",
       "|ClockEvent:parent|8|7,574|60|946|GetValue\n",
       "|MarketInterface:source|15|7,547|281|503|GetValue\n",
       "|MarketInterface|2|7,337|7,337|3,668|Db.Get\n",
       "|MarketInterface:source|15|7,265|319|484|GetValue/Calc\n",
       "|Portfolio:clock|242|7,183|1,722|29|GetValue\n",
       "|MarketDataSource|2|6,811|6,811|3,405|Db.Get\n",
       "|Portfolio:books|231|5,526|1,451|23|GetValue\n",
       "|Portfolio:clock|121|5,460|1,485|45|GetValue/Calc\n",
       "|Portfolio:books|121|4,075|3,579|33|GetValue/Calc\n",
       "|MarketDataSource:clock|30|3,979|201|132|GetValue\n",
       "|MarketInterface|1|3,968|3,968|3,968|Db.Put\n",
       "|MarketDataSource:clock|15|3,777|178|251|GetValue/Calc\n",
       "|TradeOpenEvent:premium|33|3,745|170|113|GetValue\n",
       "|RootClock|1|3,707|3,707|3,707|Db.Get\n",
       "|ForwardCashflow|1|3,575|3,575|3,575|Db.Get\n",
       "|Event:amends|230|1,176|1,176|5|GetValue\n",
       "|Entity:clock|40|426|256|10|GetValue\n",
       "|_WorkItemEvent:book1|66|244|244|3|GetValue\n",
       "|TradeOpenEvent:quantity|66|202|202|3|GetValue\n",
       "|RefDataUpdateEvent:data|58|195|195|3|GetValue\n",
       "|Entity:clock|20|169|169|8|GetValue/Calc\n",
       "|ForwardCashflow:NPV|11|136|108|12|GetValue\n",
       "|MarketInterface:sourceName|15|134|98|8|GetValue\n",
       "|TradeOpenEvent:action|33|129|129|3|GetValue\n",
       "|TradeOpenEvent:unitPrice|33|119|119|3|GetValue\n",
       "|RootClock:cutoffs|52|109|109|2|GetValue\n",
       "|Equity:assetName|15|72|72|4|GetValue\n",
       "|MarketInterface:sourceName|15|36|36|2|GetValue/Calc\n",
       "|ForwardCashflow:NPV|11|27|27|2|GetValue/Calc\n",
       "|Report:valuable|1|4|4|4|GetValue\n",
       "|Report:ts2|1|2|2|2|GetValue\n",
       "|Report:ts1|1|2|2|2|GetValue"
      ],
      "text/plain": [
       "<IPython.core.display.Markdown object>"
      ]
     },
     "metadata": {},
     "output_type": "display_data"
    }
   ],
   "source": [
    "db3 = db.copy()\n",
    "p = db3._get(pAll.meta.path())\n",
    "    \n",
    "# Note misleading cum times below due to recursion...\n",
    "\n",
    "with ProfileMonitor(mode='sum'): \n",
    "    r = Report(valuable=p, ts1=eod, ts2=ts7)\n",
    "    r.run()"
   ]
  }
 ],
 "metadata": {
  "kernelspec": {
   "display_name": "Python 2",
   "language": "python",
   "name": "python2"
  },
  "language_info": {
   "codemirror_mode": {
    "name": "ipython",
    "version": 2
   },
   "file_extension": ".py",
   "mimetype": "text/x-python",
   "name": "python",
   "nbconvert_exporter": "python",
   "pygments_lexer": "ipython2",
   "version": "2.7.13"
  }
 },
 "nbformat": 4,
 "nbformat_minor": 2
}
