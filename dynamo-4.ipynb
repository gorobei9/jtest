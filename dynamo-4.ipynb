{
 "cells": [
  {
   "cell_type": "markdown",
   "metadata": {},
   "source": [
    "# RefData and Workflow demos.\n",
    "\n",
    "This is just the dynamo-3 notebook with the core classes refactoring into the mand library."
   ]
  },
  {
   "cell_type": "code",
   "execution_count": 1,
   "metadata": {
    "collapsed": false,
    "scrolled": false
   },
   "outputs": [],
   "source": [
    "import mand.core\n",
    "\n",
    "from mand.core import ObjectDb, DynamoDbDriver, ddb, _tr\n",
    "\n",
    "db = ObjectDb()"
   ]
  },
  {
   "cell_type": "code",
   "execution_count": 2,
   "metadata": {
    "collapsed": false,
    "scrolled": false
   },
   "outputs": [
    {
     "name": "stdout",
     "output_type": "stream",
     "text": [
      "<mand.demos.refdata.CustomerRefData object at 0x103d02ad0> activeEvents:\n"
     ]
    },
    {
     "data": {
      "text/markdown": [
       "|_validTime|fullName|address|company|_entityName|\n",
       "|-|-|-|-|-|\n",
       "|2017-03-14T17:53:38.640261|Eliza Smith|10 Main St|Frobozz Magic Avocado Company|Customer123\n",
       "|2017-03-14T17:53:38.857653|None|None|Frobozz Magic Fruit Company|Customer123\n",
       "|2017-03-14T17:53:38.936929|Eliza James|None|None|Customer123\n"
      ],
      "text/plain": [
       "<IPython.core.display.Markdown object>"
      ]
     },
     "metadata": {},
     "output_type": "display_data"
    },
    {
     "name": "stdout",
     "output_type": "stream",
     "text": [
      "Clock is at: None\n",
      "data: Eliza James works for Frobozz Magic Fruit Company, located at 10 Main St\n",
      "\n",
      "<mand.demos.refdata.CustomerRefData object at 0x103d02ad0> _visibleEvents:\n"
     ]
    },
    {
     "data": {
      "text/markdown": [
       "|_validTime|fullName|address|company|_entityName|\n",
       "|-|-|-|-|-|\n",
       "|2017-03-14T17:53:38.640261|Eliza Smith|10 Main St|Frobozz Magic Avocado Company|Customer123\n",
       "|2017-03-14T17:53:38.788800|None|None|Frobozz Magic Friut Company|Customer123\n",
       "|2017-03-14T17:53:38.857653|None|None|Frobozz Magic Fruit Company|Customer123\n",
       "|2017-03-14T17:53:38.936929|Eliza James|None|None|Customer123\n"
      ],
      "text/plain": [
       "<IPython.core.display.Markdown object>"
      ]
     },
     "metadata": {},
     "output_type": "display_data"
    },
    {
     "name": "stdout",
     "output_type": "stream",
     "text": [
      "<mand.demos.refdata.CustomerRefData object at 0x103d02ad0> activeEvents:\n"
     ]
    },
    {
     "data": {
      "text/markdown": [
       "|_validTime|fullName|address|company|_entityName|\n",
       "|-|-|-|-|-|\n",
       "|2017-03-14T17:53:38.640261|Eliza Smith|10 Main St|Frobozz Magic Avocado Company|Customer123\n",
       "|2017-03-14T17:53:38.857653|None|None|Frobozz Magic Fruit Company|Customer123\n",
       "|2017-03-14T17:53:38.936929|Eliza James|None|None|Customer123\n"
      ],
      "text/plain": [
       "<IPython.core.display.Markdown object>"
      ]
     },
     "metadata": {},
     "output_type": "display_data"
    },
    {
     "name": "stdout",
     "output_type": "stream",
     "text": [
      "\n",
      "\n",
      "Clock is at: <TS:t=2017-03-14T17:53:38.788460,v=2017-03-14T17:53:38.788448>\n",
      "data: Eliza Smith works for Frobozz Magic Avocado Company, located at 10 Main St\n",
      "\n",
      "<mand.demos.refdata.CustomerRefData object at 0x103d02ad0> _visibleEvents:\n"
     ]
    },
    {
     "data": {
      "text/markdown": [
       "|_validTime|fullName|address|company|_entityName|\n",
       "|-|-|-|-|-|\n",
       "|2017-03-14T17:53:38.640261|Eliza Smith|10 Main St|Frobozz Magic Avocado Company|Customer123\n"
      ],
      "text/plain": [
       "<IPython.core.display.Markdown object>"
      ]
     },
     "metadata": {},
     "output_type": "display_data"
    },
    {
     "name": "stdout",
     "output_type": "stream",
     "text": [
      "<mand.demos.refdata.CustomerRefData object at 0x103d02ad0> activeEvents:\n"
     ]
    },
    {
     "data": {
      "text/markdown": [
       "|_validTime|fullName|address|company|_entityName|\n",
       "|-|-|-|-|-|\n",
       "|2017-03-14T17:53:38.640261|Eliza Smith|10 Main St|Frobozz Magic Avocado Company|Customer123\n"
      ],
      "text/plain": [
       "<IPython.core.display.Markdown object>"
      ]
     },
     "metadata": {},
     "output_type": "display_data"
    },
    {
     "name": "stdout",
     "output_type": "stream",
     "text": [
      "\n",
      "\n",
      "original db  : <mand.db.ObjectDb object at 0x1049e5710>: 30, mem=True, ro=False: entities=8, map=4\n",
      "new client db: <mand.db.ObjectDb object at 0x105baae90>: 30, mem=True, ro=False: entities=8, map=4\n",
      "\n",
      "current: Eliza James\n",
      "at ts1 : Eliza Smith\n",
      "\n",
      "Prod db: <mand.db.ObjectDb object at 0x1049e5710>: 30, mem=True, ro=False: entities=8, map=4\n",
      "\n",
      "in production:\n",
      "data: Eliza James works for Frobozz Magic Fruit Company, located at 10 Main St\n",
      "deleting union event: <mand.demos.refdata.CustomerRefDataUpdateEvent object at 0x105be3790> (O31:O30)\n",
      "\n",
      "in union:\n",
      "data: Eliza Smith works for Frobozz Magic Fruit Company, located at 10 Main St\n",
      "in production:\n",
      "data: Eliza James works for Frobozz Magic Fruit Company, located at 10 Main St\n",
      "Prod db: <mand.db.ObjectDb object at 0x1049e5710>: 30, mem=True, ro=False: entities=8, map=4\n",
      "New db: <mand.db.ObjectDb object at 0x105be35d0>: 31, mem=True, ro=False: entities=3, map=1\n",
      "Union db: (<mand.db.ObjectDb object at 0x105be35d0>: 31, mem=True, ro=False: entities=3, map=1 <mand.db.ObjectDb object at 0x1049e5710>: 30, mem=True, ro=False: entities=8, map=4)\n",
      "Line item end of day:\n",
      "data: Joe James works for Frobozz Magic Lamp Company, located at 235 W 76\n",
      "Line item end of day (rerun):\n",
      "data: Joe James works for Frobozz Magic Lamp Company, located at 235 W 76\n",
      "\n",
      "Line item generated from corrected end of day report:\n",
      "data: Joe James works for Frobozz Magic Lamp Company, located at 1 First Ave\n",
      "\n",
      "Current line item:\n",
      "data: Joe James works for Frobozz Magic Illumination Company, located at 1 First Ave\n"
     ]
    }
   ],
   "source": [
    "import mand.demos.refdata\n",
    "\n",
    "mand.demos.refdata.main(db)"
   ]
  },
  {
   "cell_type": "code",
   "execution_count": 3,
   "metadata": {
    "collapsed": false,
    "scrolled": false
   },
   "outputs": [
    {
     "name": "stdout",
     "output_type": "stream",
     "text": [
      "Status:\n",
      "    Workbook Customer123:\n",
      "\n",
      "    Workbook Customer.joe:\n",
      "\n",
      "    Workbook Helpdesk:\n",
      "\n",
      "    Workbook Fire Department:\n",
      "\n",
      "Status:\n",
      "    Workbook Customer123:\n",
      "        Ticket 05.10011, , waiting on Helpdesk (1 events, 1 active)\n",
      "           New, 05.10012: raised with: Helpdesk, msg: Help, I forgot my password\n",
      "\n",
      "    Workbook Customer.joe:\n",
      "        Ticket 05.10014, , waiting on Helpdesk (1 events, 1 active)\n",
      "           New, 05.10015: raised with: Helpdesk, msg: Help! My computer is smoking\n",
      "\n",
      "    Workbook Helpdesk:\n",
      "        Ticket 05.10011, , raised by Customer123 (1 events, 1 active)\n",
      "           New, 05.10012: raised by: Customer123, msg: Help, I forgot my password\n",
      "        Ticket 05.10014, , raised by Customer.joe (1 events, 1 active)\n",
      "           New, 05.10015: raised by: Customer.joe, msg: Help! My computer is smoking\n",
      "\n",
      "    Workbook Fire Department:\n",
      "\n",
      "Status:\n",
      "    Workbook Customer123:\n",
      "        Ticket 05.10011, , waiting on Helpdesk (1 events, 1 active)\n",
      "           New, 05.10012: raised with: Helpdesk, msg: Help, I forgot my password\n",
      "        Ticket 05.10019, , waiting on Helpdesk (1 events, 1 active)\n",
      "           New, 05.10020: raised with: Helpdesk, msg: My mouse is broken\n",
      "\n",
      "    Workbook Customer.joe:\n",
      "        Ticket 05.10014, , waiting on Helpdesk (2 events, 1 active)\n",
      "           New, 05.10017: raised with: Helpdesk, msg: Help! My computer is on fire!\n",
      "\n",
      "    Workbook Helpdesk:\n",
      "        Ticket 05.10011, , raised by Customer123 (1 events, 1 active)\n",
      "           New, 05.10012: raised by: Customer123, msg: Help, I forgot my password\n",
      "        Ticket 05.10019, , raised by Customer123 (1 events, 1 active)\n",
      "           New, 05.10020: raised by: Customer123, msg: My mouse is broken\n",
      "        Ticket 05.10014, , raised by Customer.joe (2 events, 1 active)\n",
      "           New, 05.10017: raised by: Customer.joe, msg: Help! My computer is on fire!\n",
      "\n",
      "    Workbook Fire Department:\n",
      "\n",
      "Status:\n",
      "    Workbook Customer123:\n",
      "        Ticket 05.10011, , waiting on Helpdesk (1 events, 1 active)\n",
      "           New, 05.10012: raised with: Helpdesk, msg: Help, I forgot my password\n",
      "        Ticket 05.10019, , waiting on Helpdesk (2 events, 2 active)\n",
      "           New, 05.10020: raised with: Helpdesk, msg: My mouse is broken\n",
      "           Message: Actually, only the right mouse button is bad, so just rep...\n",
      "\n",
      "    Workbook Customer.joe:\n",
      "        Ticket 05.10014, , waiting on Fire Department (4 events, 3 active)\n",
      "           New, 05.10017: raised with: Helpdesk, msg: Help! My computer is on fire!\n",
      "           Transfer, 05.10022: Helpdesk -> Fire Department\n",
      "           Message: Um, the smoke is making it hard to see my desk.\n",
      "\n",
      "    Workbook Helpdesk:\n",
      "        Ticket 05.10011, , raised by Customer123 (1 events, 1 active)\n",
      "           New, 05.10012: raised by: Customer123, msg: Help, I forgot my password\n",
      "        Ticket 05.10019, , raised by Customer123 (2 events, 2 active)\n",
      "           New, 05.10020: raised by: Customer123, msg: My mouse is broken\n",
      "           Message: Actually, only the right mouse button is bad, so just rep...\n",
      "\n",
      "    Workbook Fire Department:\n",
      "        Ticket 05.10014, , raised by Customer.joe (4 events, 3 active)\n",
      "           New, 05.10017: ???, msg: Help! My computer is on fire!\n",
      "           Transfer, 05.10022: Helpdesk -> Fire Department\n",
      "           Message: Um, the smoke is making it hard to see my desk.\n",
      "\n",
      "Status:\n",
      "    Workbook Customer123:\n",
      "        Ticket 05.10019, , waiting on Helpdesk (2 events, 2 active)\n",
      "           New, 05.10020: raised with: Helpdesk, msg: My mouse is broken\n",
      "           Message: Actually, only the right mouse button is bad, so just rep...\n",
      "\n",
      "    Workbook Customer.joe:\n",
      "        Ticket 05.10014, , waiting on Fire Department (4 events, 3 active)\n",
      "           New, 05.10017: raised with: Helpdesk, msg: Help! My computer is on fire!\n",
      "           Transfer, 05.10022: Helpdesk -> Fire Department\n",
      "           Message: Um, the smoke is making it hard to see my desk.\n",
      "\n",
      "    Workbook Helpdesk:\n",
      "        Ticket 05.10019, , raised by Customer123 (2 events, 2 active)\n",
      "           New, 05.10020: raised by: Customer123, msg: My mouse is broken\n",
      "           Message: Actually, only the right mouse button is bad, so just rep...\n",
      "\n",
      "    Workbook Fire Department:\n",
      "        Ticket 05.10014, , raised by Customer.joe (4 events, 3 active)\n",
      "           New, 05.10017: ???, msg: Help! My computer is on fire!\n",
      "           Transfer, 05.10022: Helpdesk -> Fire Department\n",
      "           Message: Um, the smoke is making it hard to see my desk.\n",
      "\n"
     ]
    },
    {
     "data": {
      "text/markdown": [
       "|action|book1|book2|message|\n",
       "|-|-|-|-|\n",
       "|open|Workbook: Customer.joe|Workbook: Helpdesk|Help! My computer is smoking\n",
       "|open|Workbook: Customer.joe|Workbook: Helpdesk|Help! My computer is on fire!\n",
       "|escalate|Workbook: Helpdesk|Workbook: Fire Department| \n",
       "|message| | |Um, the smoke is making it hard to see my desk.\n"
      ],
      "text/plain": [
       "<IPython.core.display.Markdown object>"
      ]
     },
     "metadata": {},
     "output_type": "display_data"
    },
    {
     "name": "stdout",
     "output_type": "stream",
     "text": [
      "\n"
     ]
    },
    {
     "data": {
      "text/markdown": [
       "|action|book1|book2|message|\n",
       "|-|-|-|-|\n",
       "|open|Workbook: Customer.joe|Workbook: Helpdesk|Help! My computer is on fire!\n",
       "|escalate|Workbook: Helpdesk|Workbook: Fire Department| \n",
       "|message| | |Um, the smoke is making it hard to see my desk.\n"
      ],
      "text/plain": [
       "<IPython.core.display.Markdown object>"
      ]
     },
     "metadata": {},
     "output_type": "display_data"
    },
    {
     "name": "stdout",
     "output_type": "stream",
     "text": [
      "<mand.demos.refdata.CustomerRefData object at 0x105cdec90>\n",
      "<Clock: /Global/Clock/Workflow:/Global/RootClock/Main>\n",
      "<Clock: /Global/Clock/RefData:/Global/RootClock/Main>\n"
     ]
    }
   ],
   "source": [
    "import mand.demos.workflow\n",
    "\n",
    "mand.demos.workflow.main(db)"
   ]
  }
 ],
 "metadata": {
  "kernelspec": {
   "display_name": "Python 2",
   "language": "python",
   "name": "python2"
  },
  "language_info": {
   "codemirror_mode": {
    "name": "ipython",
    "version": 2
   },
   "file_extension": ".py",
   "mimetype": "text/x-python",
   "name": "python",
   "nbconvert_exporter": "python",
   "pygments_lexer": "ipython2",
   "version": "2.7.13"
  }
 },
 "nbformat": 4,
 "nbformat_minor": 2
}
