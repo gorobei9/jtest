{
 "cells": [
  {
   "cell_type": "markdown",
   "metadata": {},
   "source": [
    "# A simple profiler\n",
    "\n",
    "This is the first cut at a simple time-spent profiler for nodes. \n",
    "\n",
    "The code to profile is just the previously defined FRED code.\n",
    "\n",
    "Although primitive, the profiler output does show a few things:\n",
    "1. The bulk of the time is spent in fetching data pages.\n",
    "2. The ExternalRefData.state method is a mess:\n",
    " * It should load data pages lazily, not deeply in the EncDec mechanics\n",
    " * The low-level ObjMeta/dataField code hides some stuff we would like to expose at the node level\n",
    "3. Wow, this code is quite slow. Especially when my laptop is overheating:\n",
    " * Refactored FredSeries so that it doesn't load/persist release data by default\n",
    " * We'll fix the rest of the slowness later"
   ]
  },
  {
   "cell_type": "code",
   "execution_count": 1,
   "metadata": {
    "collapsed": false
   },
   "outputs": [],
   "source": [
    "import mand.core\n",
    "\n",
    "from mand.core import Entity, node, Context, _tr, ObjectDb, _DBO, EncDec\n",
    "from mand.core import displayDict, displayListOfDicts, displayMarkdown\n",
    "from mand.core import Monitor, PrintMonitor, SummaryMonitor\n",
    "from mand.lib.extrefdata import ExternalRefData, dataField\n",
    "\n",
    "from mand.user.refdata.FRED import FredManager, FredSeries, FredCategory\n",
    "\n",
    "db = ObjectDb(name='production-1', inMem=False, ro=True)\n",
    "\n",
    "%matplotlib inline\n"
   ]
  },
  {
   "cell_type": "code",
   "execution_count": 2,
   "metadata": {
    "collapsed": false
   },
   "outputs": [],
   "source": [
    "import time\n",
    "\n",
    "class ProfileMonitor(Monitor):\n",
    "\n",
    "    def __init__(self, mode=None):\n",
    "        self.stack = []\n",
    "        self.result = []\n",
    "        self.mode = mode\n",
    "        \n",
    "    def message(self, sys, depthInc, action, **kw):\n",
    "        if depthInc == 1:\n",
    "            v = [kw, time.clock(), 0]\n",
    "            self.stack.append(v)\n",
    "            \n",
    "        if depthInc == -1:\n",
    "            kw, start, tSub = self.stack.pop()\n",
    "            t = time.clock() - start\n",
    "            tFn = t - tSub\n",
    "            if self.stack:\n",
    "                self.stack[-1][-1] += t\n",
    "            \n",
    "            self.result.append((tFn, t, sys, kw))\n",
    "             \n",
    "    def dumpRaw(self):\n",
    "        for tFn, t, sys, kw in self.result:\n",
    "            key = self.kwToStr(kw)\n",
    "            print('%8.4f %8.4f %-16s: %s' % (tFn, t, sys, key))\n",
    "            \n",
    "    def displaySum(self):\n",
    "        if not self.result:\n",
    "            displayMarkdown('No profile info was recorded.')\n",
    "        n = {}\n",
    "        cumT = {}\n",
    "        cumTCalc = {}\n",
    "        tScale = 1e6\n",
    "        for tFn, t, sys, kw in self.result:\n",
    "            if 'path'in kw:\n",
    "                fn = kw.get('path', '//').split('/')[2]\n",
    "            else:\n",
    "                fn = kw.get('key').fullName()\n",
    "            key = (sys, fn)\n",
    "            cumT[key] = cumT.get(key, 0) + t * tScale\n",
    "            cumTCalc[key] = cumTCalc.get(key, 0) + tFn * tScale\n",
    "            n[key] = n.get(key, 0) + 1\n",
    "        res = []\n",
    "        def f(d):\n",
    "            return format(int(d), ',d')\n",
    "        for key in n:\n",
    "            line = { 'n':         f(n[key]), \n",
    "                     'cumT':      f(cumT[key]),\n",
    "                     'cumT/call': f(cumT[key]/n[key]),\n",
    "                     'calcT':     f(cumTCalc[key]),\n",
    "                     'sys':       key[0],\n",
    "                     'fn':        key[1],\n",
    "                     'key':       cumT[key],\n",
    "                     }\n",
    "            res.append(line)\n",
    "        res = sorted(res, key=lambda d: -d['key'])\n",
    "        txt = \"\"\"### Profile by nodes. \n",
    "* times are in microseconds\n",
    "* cumT is total time spent in funtion\n",
    "* calcT is time spent in function, but not in a child node\"\"\"\n",
    "        displayMarkdown(txt)\n",
    "        displayListOfDicts(res, names=['fn', 'n', 'cumT', 'calcT', 'cumT/call', 'sys'])\n",
    "        \n",
    "    def onExit(self):\n",
    "        mode = self.mode\n",
    "        if mode is None:\n",
    "            self.dumpRaw()\n",
    "        elif mode == 'sum':\n",
    "            self.displaySum()\n",
    "        else:\n",
    "            assert False, 'unknown profiler mode: %s' % mode"
   ]
  },
  {
   "cell_type": "code",
   "execution_count": 3,
   "metadata": {
    "collapsed": false,
    "scrolled": false
   },
   "outputs": [
    {
     "data": {
      "text/markdown": [
       "### Profile by nodes. \n",
       "* times are in microseconds\n",
       "* cumT is total time spent in funtion\n",
       "* calcT is time spent in function, but not in a child node"
      ],
      "text/plain": [
       "<IPython.core.display.Markdown object>"
      ]
     },
     "metadata": {},
     "output_type": "display_data"
    },
    {
     "data": {
      "text/markdown": [
       "|fn|n|cumT|calcT|cumT/call|sys|\n",
       "|-|-|-|-|-|-|\n",
       "|Test:info|1|11,801,842|17|11,801,842|GetValue\n",
       "|Test:info|1|11,801,825|1,104|11,801,825|GetValue/Calc\n",
       "|ExternalRefData:state|28|11,750,109|457|419,646|GetValue\n",
       "|ExternalRefData:state|27|11,749,651|4,756|435,172|GetValue/Calc\n",
       "|ExternalDataPage|313|11,631,046|11,631,046|37,159|Db.Get\n",
       "|RefData:state|27|113,848|273|4,216|GetValue\n",
       "|RefData:state|27|113,575|49,021|4,206|GetValue/Calc\n",
       "|RefDataUpdateEvent|27|56,770|56,770|2,102|Db.Get\n",
       "|FredCategory:series|1|47,134|15|47,134|GetValue\n",
       "|FredCategory:series|1|47,119|485|47,119|GetValue/Calc\n",
       "|FredSeries|26|46,630|46,630|1,793|Db.Get\n",
       "|Clock:cutoffs|54|4,747|206|87|GetValue\n",
       "|Clock:cutoffs|1|4,540|41|4,540|GetValue/Calc\n",
       "|Clock:parent|1|4,494|13|4,494|GetValue\n",
       "|Clock:parent|1|4,481|2,262|4,481|GetValue/Calc\n",
       "|FredCategory|1|3,479|3,479|3,479|Db.Get\n",
       "|RefData:clock|54|2,740|537|50|GetValue\n",
       "|RefData:clock|27|2,203|471|81|GetValue/Calc\n",
       "|Entity:clock|2|2,111|31|1,055|GetValue\n",
       "|Entity:clock|1|2,079|28|2,079|GetValue/Calc\n",
       "|RootClock|1|2,051|2,051|2,051|Db.Get\n",
       "|Clock|1|1,732|1,732|1,732|Db.Get\n",
       "|Event:amends|27|160|160|5|GetValue\n",
       "|RefDataUpdateEvent:data|27|135|135|5|GetValue\n",
       "|RootClock:cutoffs|3|112|20|37|GetValue\n",
       "|RootClock:cutoffs|1|91|47|91|GetValue/Calc\n",
       "|RootClock:cosmicAll|1|22|11|22|GetValue\n",
       "|CosmicAll:dbState|1|21|16|21|GetValue\n",
       "|RootClock:cosmicAll|1|10|10|10|GetValue/Calc\n",
       "|CosmicAll:dbState|1|5|5|5|GetValue/Calc"
      ],
      "text/plain": [
       "<IPython.core.display.Markdown object>"
      ]
     },
     "metadata": {},
     "output_type": "display_data"
    },
    {
     "name": "stdout",
     "output_type": "stream",
     "text": [
      "count is: 26\n"
     ]
    },
    {
     "data": {
      "text/markdown": [
       "|id|title|\n",
       "|-|-|\n",
       "|DEXBZUS|Brazil / U.S. Foreign Exchange Rate\n",
       "|DEXCAUS|Canada / U.S. Foreign Exchange Rate\n",
       "|DEXCHUS|China / U.S. Foreign Exchange Rate\n",
       "|DEXDNUS|Denmark / U.S. Foreign Exchange Rate\n",
       "|DEXHKUS|Hong Kong / U.S. Foreign Exchange Rate\n",
       "|DEXINUS|India / U.S. Foreign Exchange Rate\n",
       "|DEXJPUS|Japan / U.S. Foreign Exchange Rate\n",
       "|DEXKOUS|South Korea / U.S. Foreign Exchange Rate\n",
       "|DEXMAUS|Malaysia / U.S. Foreign Exchange Rate\n",
       "|DEXMXUS|Mexico / U.S. Foreign Exchange Rate\n",
       "|DEXNOUS|Norway / U.S. Foreign Exchange Rate\n",
       "|DEXSDUS|Sweden / U.S. Foreign Exchange Rate\n",
       "|DEXSFUS|South Africa / U.S. Foreign Exchange Rate\n",
       "|DEXSIUS|Singapore / U.S. Foreign Exchange Rate\n",
       "|DEXSLUS|Sri Lanka / U.S. Foreign Exchange Rate\n",
       "|DEXSZUS|Switzerland / U.S. Foreign Exchange Rate\n",
       "|DEXTAUS|Taiwan / U.S. Foreign Exchange Rate\n",
       "|DEXTHUS|Thailand / U.S. Foreign Exchange Rate\n",
       "|DEXUSAL|U.S. / Australia Foreign Exchange Rate\n",
       "|DEXUSEU|U.S. / Euro Foreign Exchange Rate\n",
       "|DEXUSNZ|U.S. / New Zealand Foreign Exchange Rate\n",
       "|DEXUSUK|U.S. / U.K. Foreign Exchange Rate\n",
       "|DEXVZUS|Venezuela / U.S. Foreign Exchange Rate\n",
       "|DTWEXB|Trade Weighted U.S. Dollar Index: Broad\n",
       "|DTWEXM|Trade Weighted U.S. Dollar Index: Major Currencies\n",
       "|DTWEXO|Trade Weighted U.S. Dollar Index: Other Important Trading..."
      ],
      "text/plain": [
       "<IPython.core.display.Markdown object>"
      ]
     },
     "metadata": {},
     "output_type": "display_data"
    }
   ],
   "source": [
    "class Test(_DBO):\n",
    "    @node\n",
    "    def info(self):\n",
    "        fc = FredCategory.get('94', self.meta.db, create=True)\n",
    "        info = []\n",
    "        if fc.seriesNames():\n",
    "            for s in fc.series():\n",
    "                seriesInfo = s.info()\n",
    "                info.append(dict([ (k, seriesInfo[k]) for k in ['id', 'title'] ]) )\n",
    "        return info\n",
    "        \n",
    "with ProfileMonitor(mode='sum'):\n",
    "    with PrintMonitor(include='Web'):\n",
    "        t = Test('Test', db=db)\n",
    "        info = t.info()\n",
    "        \n",
    "print('count is:', len(info))\n",
    "displayListOfDicts(info)"
   ]
  },
  {
   "cell_type": "code",
   "execution_count": 4,
   "metadata": {
    "collapsed": false,
    "scrolled": false
   },
   "outputs": [
    {
     "name": "stdout",
     "output_type": "stream",
     "text": [
      "Swiss Francs to One U.S. Dollar\n"
     ]
    },
    {
     "data": {
      "image/png": "[encoded data removed]",
      "text/plain": [
       "<matplotlib.figure.Figure at 0x1127fbdd8>"
      ]
     },
     "metadata": {},
     "output_type": "display_data"
    },
    {
     "name": "stdout",
     "output_type": "stream",
     "text": [
      "U.S. Dollars to One British Pound\n"
     ]
    },
    {
     "data": {
      "image/png": "[encoded data removed]",
      "text/plain": [
       "<matplotlib.figure.Figure at 0x112707978>"
      ]
     },
     "metadata": {},
     "output_type": "display_data"
    }
   ],
   "source": [
    "chf = FredSeries.get('DEXSZUS', db, create=True)\n",
    "print(chf.info()['units'])\n",
    "chf.plot()\n",
    "\n",
    "gbp = FredSeries.get('DEXUSUK', db, create=True)\n",
    "print(gbp.info()['units'])\n",
    "gbp.plot()"
   ]
  },
  {
   "cell_type": "markdown",
   "metadata": {},
   "source": [
    "# Check things have a reasonable default display() method [Test]"
   ]
  },
  {
   "cell_type": "code",
   "execution_count": 5,
   "metadata": {
    "collapsed": false
   },
   "outputs": [
    {
     "data": {
      "text/markdown": [
       "# DEXUSEU"
      ],
      "text/plain": [
       "<IPython.core.display.Markdown object>"
      ]
     },
     "metadata": {},
     "output_type": "display_data"
    },
    {
     "data": {
      "text/markdown": [
       "|key|value|\n",
       "|-|-|\n",
       "|frequency|Daily\n",
       "|frequency_short|D\n",
       "|id|DEXUSEU\n",
       "|last_updated|2017-03-20 15:51:31-05\n",
       "|notes|Noon buying rates in New York City for cable transfers pa...\n",
       "|observation_end|2017-03-17\n",
       "|observation_start|1999-01-04\n",
       "|popularity|77\n",
       "|realtime_end|2017-03-27\n",
       "|realtime_start|2017-03-27\n",
       "|seasonal_adjustment|Not Seasonally Adjusted\n",
       "|seasonal_adjustment_short|NSA\n",
       "|title|U.S. / Euro Foreign Exchange Rate\n",
       "|units|U.S. Dollars to One Euro\n",
       "|units_short|U.S. $ to  1 Euro"
      ],
      "text/plain": [
       "<IPython.core.display.Markdown object>"
      ]
     },
     "metadata": {},
     "output_type": "display_data"
    },
    {
     "name": "stdout",
     "output_type": "stream",
     "text": [
      "                 Web urlopen url: https://api.stlouisfed.org/fred/series/observations?series_id=DEXUSEU&realtim...\n"
     ]
    },
    {
     "data": {
      "image/png": "[encoded data removed]",
      "text/plain": [
       "<matplotlib.figure.Figure at 0x11256b438>"
      ]
     },
     "metadata": {},
     "output_type": "display_data"
    },
    {
     "data": {
      "text/markdown": [
       "### Profile by nodes. \n",
       "* times are in microseconds\n",
       "* cumT is total time spent in funtion\n",
       "* calcT is time spent in function, but not in a child node"
      ],
      "text/plain": [
       "<IPython.core.display.Markdown object>"
      ]
     },
     "metadata": {},
     "output_type": "display_data"
    },
    {
     "data": {
      "text/markdown": [
       "|fn|n|cumT|calcT|cumT/call|sys|\n",
       "|-|-|-|-|-|-|\n",
       "|FredSeries:data|1|179,642|62|179,642|GetValue\n",
       "|FredSeries:data|1|179,579|107|179,579|GetValue/Calc\n",
       "|FredReleases:data|1|176,199|28|176,199|GetValue\n",
       "|FredReleases:data|1|176,171|107,699|176,171|GetValue/Calc\n",
       "|FredReleases:allObservations|1|68,440|21|68,440|GetValue\n",
       "|FredReleases:allObservations|1|68,419|10,418|68,419|GetValue/Calc\n",
       "|ExternalRefData:state|3|57,961|49|19,320|GetValue\n",
       "|ExternalRefData:state|1|57,911|55,517|57,911|GetValue/Calc\n",
       "|FredSeries:releases|1|3,273|16|3,273|GetValue\n",
       "|FredSeries:releases|1|3,256|72|3,256|GetValue/Calc\n",
       "|FredReleases|1|3,178|3,178|3,178|Db.Get\n",
       "|RefData:state|1|2,340|14|2,340|GetValue\n",
       "|RefData:state|1|2,326|2,267|2,326|GetValue/Calc\n",
       "|ExternalDataPage:data|5|61|61|12|GetValue\n",
       "|RefData:clock|2|51|26|25|GetValue\n",
       "|FredSeries:name|2|35|27|17|GetValue\n",
       "|FredReleases:fredManager|1|27|12|27|GetValue\n",
       "|FredReleases:fredClock|1|26|11|26|GetValue\n",
       "|RefData:clock|1|24|24|24|GetValue/Calc\n",
       "|FredReleases:name|1|16|10|16|GetValue\n",
       "|FredReleases:fredClock|1|15|15|15|GetValue/Calc\n",
       "|FredReleases:fredManager|1|14|14|14|GetValue/Calc\n",
       "|FredSeries:name|1|8|8|8|GetValue/Calc\n",
       "|Clock:cutoffs|2|7|7|3|GetValue\n",
       "|FredReleases:name|1|6|6|6|GetValue/Calc\n",
       "|FredManager:rootUrl|1|4|4|4|GetValue\n",
       "|FredClock:cutoffs|1|4|4|4|GetValue\n",
       "|FredManager:apiKey|1|4|4|4|GetValue"
      ],
      "text/plain": [
       "<IPython.core.display.Markdown object>"
      ]
     },
     "metadata": {},
     "output_type": "display_data"
    }
   ],
   "source": [
    "with ProfileMonitor(mode='sum'):\n",
    "    with PrintMonitor(include='Web'):\n",
    "        eur = FredSeries.get('DEXUSEU', db, create=True)\n",
    "        eur.display()"
   ]
  },
  {
   "cell_type": "markdown",
   "metadata": {},
   "source": [
    "# Using a read-only db [Test]\n",
    "\n",
    "Even with a read-only db, we should still be able to do something useful. We just don't try to\n",
    "persist newly created objects:"
   ]
  },
  {
   "cell_type": "code",
   "execution_count": 6,
   "metadata": {
    "collapsed": false,
    "scrolled": false
   },
   "outputs": [
    {
     "data": {
      "text/markdown": [
       "# Income Distribution"
      ],
      "text/plain": [
       "<IPython.core.display.Markdown object>"
      ]
     },
     "metadata": {},
     "output_type": "display_data"
    },
    {
     "data": {
      "text/markdown": [
       "* 0 sub-categories\n",
       "* 65 series"
      ],
      "text/plain": [
       "<IPython.core.display.Markdown object>"
      ]
     },
     "metadata": {},
     "output_type": "display_data"
    },
    {
     "data": {
      "text/markdown": [
       "|id|title|popularity|frequency|units|\n",
       "|-|-|-|-|-|\n",
       "|MEHOINUSA672N|Real Median Household Income in the United States|87|Annual|2015 CPI-U-RS Adjusted Dollars\n",
       "|MEPAINUSA672N|Real Median Personal Income in the United States|71|Annual|2015 CPI-U-RS Adjusted Dollars\n",
       "|MEHOINUSA646N|Median Household Income in the United States|63|Annual|Current Dollars\n",
       "|MEFAINUSA672N|Real Median Family Income in the United States|58|Annual|2015 CPI-U-RS Adjusted Dollars\n",
       "|GINIALLRH|Income Gini Ratio for Households by Race of Householder, ...|57|Annual|Ratio\n",
       "|MAFAINUSA646N|Mean Family Income in the United States|49|Annual|Current Dollars\n",
       "|MEFAINUSA646N|Median Family Income in the United States|49|Annual|Current Dollars\n",
       "|GINIALLRF|Income Gini Ratio of Families by Race of Householder, All...|43|Annual|Ratio\n",
       "|MAPAINUSA672N|Real Mean Personal Income in the United States|42|Annual|2015 CPI-U-RS Adjusted Dollars\n",
       "|GINIWAF|Income Gini Ratio of Families by Race of Householder, Whi...|36|Annual|Ratio\n",
       "|MAPAINUSA646N|Mean Personal Income in the United States|36|Annual|Current Dollars\n",
       "|MAFAINUSA672N|Real Mean Family Income in the United States|36|Annual|2015 CPI-U-RS Adjusted Dollars\n",
       "|MEPAINUSA646N|Median Personal Income in the United States|35|Annual|Current Dollars\n",
       "|GINIBAOICH|Income Gini Ratio for Households by Race of Householder, ...|32|Annual|Ratio\n",
       "|GINIAAF|Income Gini Ratio of Families by Race of Householder, Asi...|25|Annual|Ratio\n",
       "|GINIBAF|Income Gini Ratio of Families by Race of Householder, Bla...|25|Annual|Ratio\n",
       "|MEFAINUSWEA672N|Real Median Family Income in West Census Region|24|Annual|2015 CPI-U-RS Adjusted Dollars\n",
       "|MEFAINUSMWA672N|Real Median Family Income in Midwest Census Region|23|Annual|2015 CPI-U-RS Adjusted Dollars\n",
       "|GINIHARH|Income Gini Ratio for Households by Race of Householder, ...|22|Annual|Ratio\n",
       "|GINIBAH|Income Gini Ratio for Households by Race of Householder, ...|19|Annual|Ratio\n",
       "|MEFAINUSSOA672N|Real Median Family Income in South Census Region|18|Annual|2015 CPI-U-RS Adjusted Dollars\n",
       "|GINIAAH|Income Gini Ratio for Households by Race of Householder, ...|16|Annual|Ratio\n",
       "|MEFAINUSNEA672N|Real Median Family Income in Northeast Census Region|16|Annual|2015 CPI-U-RS Adjusted Dollars\n",
       "|MEFAINUSWEA646N|Median Family Income in West Census Region|14|Annual|Current Dollars\n",
       "|GINIBAOICF|Income Gini Ratio of Families by Race of Householder, Bla...|11|Annual|Ratio\n",
       "|GINIWANHF|Income Gini Ratio of Families by Race of Householder, Whi...|11|Annual|Ratio\n",
       "|MAFAINUSNEA646N|Mean Family Income in Northeast Census Region|11|Annual|Current Dollars\n",
       "|MAPAINUSNEA646N|Mean Personal Income in Northeast Census Region|11|Annual|Current Dollars\n",
       "|MAFAINUSMWA672N|Real Mean Family Income in Midwest Census Region|11|Annual|2015 CPI-U-RS Adjusted Dollars\n",
       "|MEPAINUSSOA672N|Real Median Personal Income in South Census Region|11|Annual|2015 CPI-U-RS Adjusted Dollars\n",
       "|MEPAINUSWEA672N|Real Median Personal Income in West Census Region|11|Annual|2015 CPI-U-RS Adjusted Dollars\n",
       "|GINIWAH|Income Gini Ratio for Households by Race of Householder, ...|7|Annual|Ratio\n",
       "|MAFAINUSMWA646N|Mean Family Income in Midwest Census Region|7|Annual|Current Dollars\n",
       "|MAPAINUSSOA646N|Mean Personal Income in South Census Region|7|Annual|Current Dollars\n",
       "|MEPAINUSMWA646N|Median Personal Income in Midwest Census Region|7|Annual|Current Dollars\n",
       "|MEPAINUSWEA646N|Median Personal Income in West Census Region|7|Annual|Current Dollars\n",
       "|MAPAINUSNEA672N|Real Mean Personal Income in Northeast Census Region|7|Annual|2015 CPI-U-RS Adjusted Dollars\n",
       "|GINIAAOICH|Income Gini Ratio for Households by Race of Householder, ...|0|Annual|Ratio\n",
       "|GINIBH|Income Gini Ratio for Households by Race of Householder, ...|0|Annual|Ratio\n",
       "|GINIWH|Income Gini Ratio for Households by Race of Householder, ...|0|Annual|Ratio\n",
       "|GINIWANHH|Income Gini Ratio for Households by Race of Householder, ...|0|Annual|Ratio\n",
       "|GINIWAOICH|Income Gini Ratio for Households by Race of Householder, ...|0|Annual|Ratio\n",
       "|GINIWNHH|Income Gini Ratio for Households by Race of Householder, ...|0|Annual|Ratio\n",
       "|GINIAAOICF|Income Gini Ratio of Families by Race of Householder, Asi...|0|Annual|Ratio\n",
       "|GINIBF|Income Gini Ratio of Families by Race of Householder, Bla...|0|Annual|Ratio\n",
       "|GINIHARF|Income Gini Ratio of Families by Race of Householder, His...|0|Annual|Ratio\n",
       "|GINIWF|Income Gini Ratio of Families by Race of Householder, Whi...|0|Annual|Ratio\n",
       "|GINIWNHF|Income Gini Ratio of Families by Race of Householder, Whi...|0|Annual|Ratio\n",
       "|MAFAINUSSOA646N|Mean Family Income in South Census Region|0|Annual|Current Dollars\n",
       "|MAFAINUSWEA646N|Mean Family Income in West Census Region|0|Annual|Current Dollars\n",
       "|MAPAINUSMWA646N|Mean Personal Income in Midwest Census Region|0|Annual|Current Dollars\n",
       "|MAPAINUSWEA646N|Mean Personal Income in West Census Region|0|Annual|Current Dollars\n",
       "|MEFAINUSMWA646N|Median Family Income in Midwest Census Region|0|Annual|Current Dollars\n",
       "|MEFAINUSNEA646N|Median Family Income in Northeast Census Region|0|Annual|Current Dollars\n",
       "|MEFAINUSSOA646N|Median Family Income in South Census Region|0|Annual|Current Dollars\n",
       "|MEPAINUSNEA646N|Median Personal Income in Northeast Census Region|0|Annual|Current Dollars\n",
       "|MEPAINUSSOA646N|Median Personal Income in South Census Region|0|Annual|Current Dollars\n",
       "|MAFAINUSNEA672N|Real Mean Family Income in Northeast Census Region|0|Annual|2015 CPI-U-RS Adjusted Dollars\n",
       "|MAFAINUSSOA672N|Real Mean Family Income in South Census Region|0|Annual|2015 CPI-U-RS Adjusted Dollars\n",
       "|MAFAINUSWEA672N|Real Mean Family Income in West Census Region|0|Annual|2015 CPI-U-RS Adjusted Dollars\n",
       "|MAPAINUSMWA672N|Real Mean Personal Income in Midwest Census Region|0|Annual|2015 CPI-U-RS Adjusted Dollars\n",
       "|MAPAINUSSOA672N|Real Mean Personal Income in South Census Region|0|Annual|2015 CPI-U-RS Adjusted Dollars\n",
       "|MAPAINUSWEA672N|Real Mean Personal Income in West Census Region|0|Annual|2015 CPI-U-RS Adjusted Dollars\n",
       "|MEPAINUSMWA672N|Real Median Personal Income in Midwest Census Region|0|Annual|2015 CPI-U-RS Adjusted Dollars\n",
       "|MEPAINUSNEA672N|Real Median Personal Income in Northeast Census Region|0|Annual|2015 CPI-U-RS Adjusted Dollars"
      ],
      "text/plain": [
       "<IPython.core.display.Markdown object>"
      ]
     },
     "metadata": {},
     "output_type": "display_data"
    }
   ],
   "source": [
    "fc = FredCategory.get('33001', db=db, create=True)\n",
    "fc.display()"
   ]
  },
  {
   "cell_type": "code",
   "execution_count": 7,
   "metadata": {
    "collapsed": false
   },
   "outputs": [
    {
     "data": {
      "text/markdown": [
       "# Production & Business Activity"
      ],
      "text/plain": [
       "<IPython.core.display.Markdown object>"
      ]
     },
     "metadata": {},
     "output_type": "display_data"
    },
    {
     "data": {
      "text/markdown": [
       "* 12 sub-categories\n",
       "* 10 series"
      ],
      "text/plain": [
       "<IPython.core.display.Markdown object>"
      ]
     },
     "metadata": {},
     "output_type": "display_data"
    },
    {
     "data": {
      "text/markdown": [
       "|id|name|parent_id|\n",
       "|-|-|-|\n",
       "|32262|Business Cycle Expansions & Contractions|1\n",
       "|32436|Construction|1\n",
       "|33490|Finance Companies|1\n",
       "|32216|Health Insurance|1\n",
       "|97|Housing|1\n",
       "|3|Industrial Production & Capacity Utilization|1\n",
       "|32429|Manufacturing|1\n",
       "|6|Retail Trade|1\n",
       "|33441|Services|1\n",
       "|33492|Technology|1\n",
       "|33202|Transportation|1\n",
       "|33203|Wholesale Trade|1"
      ],
      "text/plain": [
       "<IPython.core.display.Markdown object>"
      ]
     },
     "metadata": {},
     "output_type": "display_data"
    },
    {
     "data": {
      "text/markdown": [
       "|id|title|popularity|frequency|units|\n",
       "|-|-|-|-|-|\n",
       "|ISRATIO|Total Business: Inventories to Sales Ratio|68|Monthly|Ratio\n",
       "|BUSINV|Total Business Inventories|55|Monthly, End of Period|Millions of Dollars, End of Period\n",
       "|TOTBUSSMSA|Total Business Sales|52|Monthly|Millions of Dollars\n",
       "|TOTBUSIRNSA|Total Business: Inventories to Sales Ratio|33|Monthly|Ratio\n",
       "|TOTBUSMPCIMSA|Total Business Inventories|32|Monthly|Percent Change\n",
       "|TOTBUSSMNSA|Total Business Sales|30|Monthly|Millions of Dollars\n",
       "|TOTBUSIMNSA|Total Business Inventories|27|Monthly|Millions of Dollars\n",
       "|TOTBUSMPCIMNSA|Total Business Inventories|24|Monthly|Percent Change\n",
       "|TOTBUSMPCSMSA|Total Business Sales|21|Monthly|Percent Change\n",
       "|TOTBUSMPCSMNSA|Total Business Sales|16|Monthly|Percent Change"
      ],
      "text/plain": [
       "<IPython.core.display.Markdown object>"
      ]
     },
     "metadata": {},
     "output_type": "display_data"
    },
    {
     "data": {
      "text/markdown": [
       "### Profile by nodes. \n",
       "* times are in microseconds\n",
       "* cumT is total time spent in funtion\n",
       "* calcT is time spent in function, but not in a child node"
      ],
      "text/plain": [
       "<IPython.core.display.Markdown object>"
      ]
     },
     "metadata": {},
     "output_type": "display_data"
    },
    {
     "data": {
      "text/markdown": [
       "|fn|n|cumT|calcT|cumT/call|sys|\n",
       "|-|-|-|-|-|-|\n",
       "|ExternalRefData:state|16|246,058|326|15,378|GetValue\n",
       "|ExternalRefData:state|11|245,731|221,765|22,339|GetValue/Calc\n",
       "|FredCategory:name|1|51,216|21|51,216|GetValue\n",
       "|FredCategory:name|1|51,194|66|51,194|GetValue/Calc\n",
       "|RefData:state|11|23,417|122|2,128|GetValue\n",
       "|RefData:state|11|23,295|22,737|2,117|GetValue/Calc\n",
       "|FredCategory:series|2|21,930|28|10,965|GetValue\n",
       "|FredCategory:series|1|21,902|472|21,902|GetValue/Calc\n",
       "|FredSeries|10|21,426|21,426|2,142|Db.Get\n",
       "|FredCategory|1|2,879|2,879|2,879|Db.Get\n",
       "|RefData:clock|22|486|258|22|GetValue\n",
       "|RefData:clock|11|228|228|20|GetValue/Calc\n",
       "|FredSeries:fredManager|10|226|99|22|GetValue\n",
       "|FredSeries:name|10|151|92|15|GetValue\n",
       "|FredSeries:fredManager|10|126|126|12|GetValue/Calc\n",
       "|Clock:cutoffs|22|70|70|3|GetValue\n",
       "|FredManager:rootUrl|13|61|61|4|GetValue\n",
       "|FredSeries:name|10|58|58|5|GetValue/Calc\n",
       "|FredCategory:fredManager|3|43|30|14|GetValue\n",
       "|FredManager:apiKey|13|40|40|3|GetValue\n",
       "|FredCategory:id|3|25|20|8|GetValue\n",
       "|FredCategory:fredManager|1|12|12|12|GetValue/Calc\n",
       "|FredCategory:id|1|4|4|4|GetValue/Calc"
      ],
      "text/plain": [
       "<IPython.core.display.Markdown object>"
      ]
     },
     "metadata": {},
     "output_type": "display_data"
    }
   ],
   "source": [
    "with ProfileMonitor(mode='sum'):\n",
    "    fc = FredCategory.get('1', db=db, create=True)\n",
    "    fc.display()"
   ]
  },
  {
   "cell_type": "code",
   "execution_count": 8,
   "metadata": {
    "collapsed": false,
    "scrolled": false
   },
   "outputs": [
    {
     "name": "stdout",
     "output_type": "stream",
     "text": [
      "         Web urlopen/json url: https://api.stlouisfed.org/fred/category?category_id=32436&\n",
      "         Web urlopen/json url: https://api.stlouisfed.org/fred/category/children?category_id=32436&\n",
      "         Web urlopen url: https://api.stlouisfed.org/fred/category/series?category_id=32436&\n"
     ]
    },
    {
     "data": {
      "text/markdown": [
       "# Construction"
      ],
      "text/plain": [
       "<IPython.core.display.Markdown object>"
      ]
     },
     "metadata": {},
     "output_type": "display_data"
    },
    {
     "data": {
      "text/markdown": [
       "* 0 sub-categories\n",
       "* 96 series"
      ],
      "text/plain": [
       "<IPython.core.display.Markdown object>"
      ]
     },
     "metadata": {},
     "output_type": "display_data"
    },
    {
     "name": "stdout",
     "output_type": "stream",
     "text": [
      "     Web urlopen url: https://api.stlouisfed.org/fred/series?series_id=PBAMUSCON\n",
      "     Web urlopen url: https://api.stlouisfed.org/fred/series?series_id=PBAMUSCONS\n",
      "     Web urlopen url: https://api.stlouisfed.org/fred/series?series_id=PBCADCON\n",
      "     Web urlopen url: https://api.stlouisfed.org/fred/series?series_id=PBCADCONS\n",
      "     Web urlopen url: https://api.stlouisfed.org/fred/series?series_id=PBCOMCON\n",
      "     Web urlopen url: https://api.stlouisfed.org/fred/series?series_id=PBCOMCONS\n",
      "     Web urlopen url: https://api.stlouisfed.org/fred/series?series_id=PBEDUCON\n",
      "     Web urlopen url: https://api.stlouisfed.org/fred/series?series_id=PBEDUCONS\n",
      "     Web urlopen url: https://api.stlouisfed.org/fred/series?series_id=PBHLTHCON\n",
      "     Web urlopen url: https://api.stlouisfed.org/fred/series?series_id=PBHLTHCONS\n",
      "     Web urlopen url: https://api.stlouisfed.org/fred/series?series_id=PBHWYCON\n",
      "     Web urlopen url: https://api.stlouisfed.org/fred/series?series_id=PBHWYCONS\n",
      "     Web urlopen url: https://api.stlouisfed.org/fred/series?series_id=PBNRESCON\n",
      "     Web urlopen url: https://api.stlouisfed.org/fred/series?series_id=PBNRESCONS\n",
      "     Web urlopen url: https://api.stlouisfed.org/fred/series?series_id=PBOFCON\n",
      "     Web urlopen url: https://api.stlouisfed.org/fred/series?series_id=PBOFCONS\n",
      "     Web urlopen url: https://api.stlouisfed.org/fred/series?series_id=PBPSCON\n",
      "     Web urlopen url: https://api.stlouisfed.org/fred/series?series_id=PBPSCONS\n",
      "     Web urlopen url: https://api.stlouisfed.org/fred/series?series_id=PBPWRCON\n",
      "     Web urlopen url: https://api.stlouisfed.org/fred/series?series_id=PBPWRCONS\n",
      "     Web urlopen url: https://api.stlouisfed.org/fred/series?series_id=PBRESCON\n",
      "     Web urlopen url: https://api.stlouisfed.org/fred/series?series_id=PBRESCONS\n",
      "     Web urlopen url: https://api.stlouisfed.org/fred/series?series_id=PBSWGCON\n",
      "     Web urlopen url: https://api.stlouisfed.org/fred/series?series_id=PBSWGCONS\n",
      "     Web urlopen url: https://api.stlouisfed.org/fred/series?series_id=PBTRANSCON\n",
      "     Web urlopen url: https://api.stlouisfed.org/fred/series?series_id=PBTRANSCONS\n",
      "     Web urlopen url: https://api.stlouisfed.org/fred/series?series_id=PBWSCON\n",
      "     Web urlopen url: https://api.stlouisfed.org/fred/series?series_id=PBWSCONS\n",
      "     Web urlopen url: https://api.stlouisfed.org/fred/series?series_id=PLODGCON\n",
      "     Web urlopen url: https://api.stlouisfed.org/fred/series?series_id=PLODGCONS\n",
      "     Web urlopen url: https://api.stlouisfed.org/fred/series?series_id=PNRESCON\n",
      "     Web urlopen url: https://api.stlouisfed.org/fred/series?series_id=PNRESCONS\n",
      "     Web urlopen url: https://api.stlouisfed.org/fred/series?series_id=PRAMUSCON\n",
      "     Web urlopen url: https://api.stlouisfed.org/fred/series?series_id=PRAMUSCONS\n",
      "     Web urlopen url: https://api.stlouisfed.org/fred/series?series_id=PRCMUCON\n",
      "     Web urlopen url: https://api.stlouisfed.org/fred/series?series_id=PRCMUCONS\n",
      "     Web urlopen url: https://api.stlouisfed.org/fred/series?series_id=PRCOMCON\n",
      "     Web urlopen url: https://api.stlouisfed.org/fred/series?series_id=PRCOMCONS\n",
      "     Web urlopen url: https://api.stlouisfed.org/fred/series?series_id=PREDUCON\n",
      "     Web urlopen url: https://api.stlouisfed.org/fred/series?series_id=PREDUCONS\n",
      "     Web urlopen url: https://api.stlouisfed.org/fred/series?series_id=PRHLTHCON\n",
      "     Web urlopen url: https://api.stlouisfed.org/fred/series?series_id=PRHLTHCONS\n",
      "     Web urlopen url: https://api.stlouisfed.org/fred/series?series_id=PRMFGCON\n",
      "     Web urlopen url: https://api.stlouisfed.org/fred/series?series_id=PRMFGCONS\n",
      "     Web urlopen url: https://api.stlouisfed.org/fred/series?series_id=PROFCON\n",
      "     Web urlopen url: https://api.stlouisfed.org/fred/series?series_id=PROFCONS\n",
      "     Web urlopen url: https://api.stlouisfed.org/fred/series?series_id=PRPWRCON\n",
      "     Web urlopen url: https://api.stlouisfed.org/fred/series?series_id=PRPWRCONS\n",
      "     Web urlopen url: https://api.stlouisfed.org/fred/series?series_id=PRRELCON\n",
      "     Web urlopen url: https://api.stlouisfed.org/fred/series?series_id=PRRELCONS\n",
      "     Web urlopen url: https://api.stlouisfed.org/fred/series?series_id=PRRESCON\n",
      "     Web urlopen url: https://api.stlouisfed.org/fred/series?series_id=PRRESCONS\n",
      "     Web urlopen url: https://api.stlouisfed.org/fred/series?series_id=PRTRANSCON\n",
      "     Web urlopen url: https://api.stlouisfed.org/fred/series?series_id=PRTRANSCONS\n",
      "     Web urlopen url: https://api.stlouisfed.org/fred/series?series_id=TLAMUSCON\n",
      "     Web urlopen url: https://api.stlouisfed.org/fred/series?series_id=TLAMUSCONS\n",
      "     Web urlopen url: https://api.stlouisfed.org/fred/series?series_id=TLCADCON\n",
      "     Web urlopen url: https://api.stlouisfed.org/fred/series?series_id=TLCADCONS\n",
      "     Web urlopen url: https://api.stlouisfed.org/fred/series?series_id=TLCMUCON\n",
      "     Web urlopen url: https://api.stlouisfed.org/fred/series?series_id=TLCMUCONS\n",
      "     Web urlopen url: https://api.stlouisfed.org/fred/series?series_id=TLCOMCON\n",
      "     Web urlopen url: https://api.stlouisfed.org/fred/series?series_id=TLCOMCONS\n",
      "     Web urlopen url: https://api.stlouisfed.org/fred/series?series_id=TLEDUCON\n",
      "     Web urlopen url: https://api.stlouisfed.org/fred/series?series_id=TLEDUCONS\n",
      "     Web urlopen url: https://api.stlouisfed.org/fred/series?series_id=TLHLTHCON\n",
      "     Web urlopen url: https://api.stlouisfed.org/fred/series?series_id=TLHLTHCONS\n",
      "     Web urlopen url: https://api.stlouisfed.org/fred/series?series_id=TLHWYCON\n",
      "     Web urlopen url: https://api.stlouisfed.org/fred/series?series_id=TLHWYCONS\n",
      "     Web urlopen url: https://api.stlouisfed.org/fred/series?series_id=TLLODGCON\n",
      "     Web urlopen url: https://api.stlouisfed.org/fred/series?series_id=TLLODGCONS\n",
      "     Web urlopen url: https://api.stlouisfed.org/fred/series?series_id=TLMFGCON\n",
      "     Web urlopen url: https://api.stlouisfed.org/fred/series?series_id=TLMFGCONS\n",
      "     Web urlopen url: https://api.stlouisfed.org/fred/series?series_id=TLNRESCON\n",
      "     Web urlopen url: https://api.stlouisfed.org/fred/series?series_id=TLNRESCONS\n",
      "     Web urlopen url: https://api.stlouisfed.org/fred/series?series_id=TLOFCON\n",
      "     Web urlopen url: https://api.stlouisfed.org/fred/series?series_id=TLOFCONS\n",
      "     Web urlopen url: https://api.stlouisfed.org/fred/series?series_id=TLPBLCON\n",
      "     Web urlopen url: https://api.stlouisfed.org/fred/series?series_id=TLPBLCONS\n",
      "     Web urlopen url: https://api.stlouisfed.org/fred/series?series_id=TLPRVCON\n",
      "     Web urlopen url: https://api.stlouisfed.org/fred/series?series_id=TLPRVCONS\n",
      "     Web urlopen url: https://api.stlouisfed.org/fred/series?series_id=TLPSCON\n",
      "     Web urlopen url: https://api.stlouisfed.org/fred/series?series_id=TLPSCONS\n",
      "     Web urlopen url: https://api.stlouisfed.org/fred/series?series_id=TLPWRCON\n",
      "     Web urlopen url: https://api.stlouisfed.org/fred/series?series_id=TLPWRCONS\n",
      "     Web urlopen url: https://api.stlouisfed.org/fred/series?series_id=TLRELCON\n",
      "     Web urlopen url: https://api.stlouisfed.org/fred/series?series_id=TLRELCONS\n",
      "     Web urlopen url: https://api.stlouisfed.org/fred/series?series_id=TLRESCON\n",
      "     Web urlopen url: https://api.stlouisfed.org/fred/series?series_id=TLRESCONS\n",
      "     Web urlopen url: https://api.stlouisfed.org/fred/series?series_id=TLSWDCON\n",
      "     Web urlopen url: https://api.stlouisfed.org/fred/series?series_id=TLSWDCONS\n",
      "     Web urlopen url: https://api.stlouisfed.org/fred/series?series_id=TLTRANSCON\n",
      "     Web urlopen url: https://api.stlouisfed.org/fred/series?series_id=TLTRANSCONS\n",
      "     Web urlopen url: https://api.stlouisfed.org/fred/series?series_id=TLWSCON\n",
      "     Web urlopen url: https://api.stlouisfed.org/fred/series?series_id=TLWSCONS\n",
      "     Web urlopen url: https://api.stlouisfed.org/fred/series?series_id=TTLCON\n",
      "     Web urlopen url: https://api.stlouisfed.org/fred/series?series_id=TTLCONS\n"
     ]
    },
    {
     "data": {
      "text/markdown": [
       "|id|title|popularity|frequency|units|\n",
       "|-|-|-|-|-|\n",
       "|TTLCONS|Total Construction Spending|64|Monthly|Millions of Dollars\n",
       "|TLNRESCONS|Total Construction Spending: Nonresidential|60|Monthly|Millions of Dollars\n",
       "|TLRESCONS|Total Construction Spending: Residential|51|Monthly|Millions of Dollars\n",
       "|TLPBLCONS|Total Public Construction Spending|49|Monthly|Millions of Dollars\n",
       "|PRRESCONS|Total Private Construction Spending: Residential|46|Monthly|Millions of Dollars\n",
       "|PNRESCON|Total Private Construction Spending: Nonresidential|45|Monthly|Millions of Dollars\n",
       "|TLHWYCONS|Total Construction Spending: Highway and street|42|Monthly|Millions of Dollars\n",
       "|PNRESCONS|Total Private Construction Spending: Nonresidential|40|Monthly|Millions of Dollars\n",
       "|TLCOMCONS|Total Construction Spending: Commercial|39|Monthly|Millions of Dollars\n",
       "|TTLCON|Total Construction Spending|37|Monthly|Millions of Dollars\n",
       "|TLPRVCONS|Total Private Construction Spending|35|Monthly|Millions of Dollars\n",
       "|TLNRESCON|Total Construction Spending: Nonresidential|34|Monthly|Millions of Dollars\n",
       "|TLHLTHCONS|Total Construction Spending: Health Care|32|Monthly|Millions of Dollars\n",
       "|TLOFCONS|Total Construction Spending: Office|32|Monthly|Millions of Dollars\n",
       "|TLSWDCONS|Total Construction Spending: Sewage and waste disposal|29|Monthly|Millions of Dollars\n",
       "|TLWSCON|Total Construction Spending: Water Supply|29|Monthly|Millions of Dollars\n",
       "|PRCOMCONS|Total Private Construction Spending: Commercial|29|Monthly|Millions of Dollars\n",
       "|TLPBLCON|Total Public Construction Spending|29|Monthly|Millions of Dollars\n",
       "|TLRESCON|Total Construction Spending: Residential|28|Monthly|Millions of Dollars\n",
       "|TLRELCONS|Total Construction Spending: Religious|27|Monthly|Millions of Dollars\n",
       "|TLWSCONS|Total Construction Spending: Water Supply|27|Monthly|Millions of Dollars\n",
       "|PBNRESCONS|Total Public Construction Spending: Nonresidential|27|Monthly|Millions of Dollars\n",
       "|PRMFGCONS|Total Private Construction Spending: Manufacturing|26|Monthly|Millions of Dollars\n",
       "|TLCOMCON|Total Construction Spending: Commercial|25|Monthly|Millions of Dollars\n",
       "|TLEDUCONS|Total Construction Spending: Educational|25|Monthly|Millions of Dollars\n",
       "|PBWSCON|Total Public Construction Spending: Water Supply|25|Monthly|Millions of Dollars\n",
       "|TLCMUCONS|Total Construction Spending: Communication|24|Monthly|Millions of Dollars\n",
       "|TLSWDCON|Total Construction Spending: Sewage and waste disposal|24|Monthly|Millions of Dollars\n",
       "|PLODGCONS|Total Private Construction Spending: Lodging|23|Monthly|Millions of Dollars\n",
       "|PBTRANSCONS|Total Public Construction Spending: Transportation|23|Monthly|Millions of Dollars\n",
       "|PROFCONS|Total Private Construction Spending: Office|22|Monthly|Millions of Dollars\n",
       "|PRRESCON|Total Private Construction Spending: Residential|22|Monthly|Millions of Dollars\n",
       "|TLHWYCON|Total Construction Spending: Highway and street|19|Monthly|Millions of Dollars\n",
       "|PRTRANSCONS|Total Private Construction Spending: Transportation|19|Monthly|Millions of Dollars\n",
       "|PBRESCONS|Total Public Construction Spending: Residential|19|Monthly|Millions of Dollars\n",
       "|TLLODGCON|Total Construction Spending: Lodging|18|Monthly|Millions of Dollars\n",
       "|PRCOMCON|Total Private Construction Spending: Commercial|18|Monthly|Millions of Dollars\n",
       "|PRHLTHCONS|Total Private Construction Spending: Health Care|18|Monthly|Millions of Dollars\n",
       "|TLAMUSCON|Total Construction Spending: Amusement and recreation|16|Monthly|Millions of Dollars\n",
       "|TLOFCON|Total Construction Spending: Office|16|Monthly|Millions of Dollars\n",
       "|TLPWRCONS|Total Construction Spending: Power|16|Monthly|Millions of Dollars\n",
       "|TLTRANSCONS|Total Construction Spending: Transportation|16|Monthly|Millions of Dollars\n",
       "|PRAMUSCONS|Total Private Construction Spending: Amusement and recrea...|16|Monthly|Millions of Dollars\n",
       "|PRCMUCONS|Total Private Construction Spending: Communication|16|Monthly|Millions of Dollars\n",
       "|PBEDUCON|Total Public Construction Spending: Educational|16|Monthly|Millions of Dollars\n",
       "|PBHWYCONS|Total Public Construction Spending: Highway and street|16|Monthly|Millions of Dollars\n",
       "|PBWSCONS|Total Public Construction Spending: Water Supply|16|Monthly|Millions of Dollars\n",
       "|TLAMUSCONS|Total Construction Spending: Amusement and recreation|14|Monthly|Millions of Dollars\n",
       "|TLPRVCON|Total Private Construction Spending|14|Monthly|Millions of Dollars\n",
       "|PREDUCONS|Total Private Construction Spending: Educational|14|Monthly|Millions of Dollars\n",
       "|PRPWRCONS|Total Private Construction Spending: Power|14|Monthly|Millions of Dollars\n",
       "|PRRELCONS|Total Private Construction Spending: Religious|14|Monthly|Millions of Dollars\n",
       "|PBSWGCONS|Total Public Construction Spending: Sewage and waste disp...|14|Monthly|Millions of Dollars\n",
       "|TLCADCONS|Total Construction Spending: Conservation and development|11|Monthly|Millions of Dollars\n",
       "|TLHLTHCON|Total Construction Spending: Health Care|11|Monthly|Millions of Dollars\n",
       "|TLMFGCON|Total Construction Spending: Manufacturing|11|Monthly|Millions of Dollars\n",
       "|TLMFGCONS|Total Construction Spending: Manufacturing|11|Monthly|Millions of Dollars\n",
       "|PRMFGCON|Total Private Construction Spending: Manufacturing|11|Monthly|Millions of Dollars\n",
       "|PBCOMCON|Total Public Construction Spending: Commercial|11|Monthly|Millions of Dollars\n",
       "|PBNRESCON|Total Public Construction Spending: Nonresidential|11|Monthly|Millions of Dollars\n",
       "|PBRESCON|Total Public Construction Spending: Residential|11|Monthly|Millions of Dollars\n",
       "|PBTRANSCON|Total Public Construction Spending: Transportation|11|Monthly|Millions of Dollars\n",
       "|TLCADCON|Total Construction Spending: Conservation and development|7|Monthly|Millions of Dollars\n",
       "|TLEDUCON|Total Construction Spending: Educational|7|Monthly|Millions of Dollars\n",
       "|TLPWRCON|Total Construction Spending: Power|7|Monthly|Millions of Dollars\n",
       "|TLPSCON|Total Construction Spending: Public Safety|7|Monthly|Millions of Dollars\n",
       "|TLPSCONS|Total Construction Spending: Public Safety|7|Monthly|Millions of Dollars\n",
       "|TLTRANSCON|Total Construction Spending: Transportation|7|Monthly|Millions of Dollars\n",
       "|PRHLTHCON|Total Private Construction Spending: Health Care|7|Monthly|Millions of Dollars\n",
       "|PLODGCON|Total Private Construction Spending: Lodging|7|Monthly|Millions of Dollars\n",
       "|PBCADCON|Total Public Construction Spending: Conservation and deve...|7|Monthly|Millions of Dollars\n",
       "|TLCMUCON|Total Construction Spending: Communication|0|Monthly|Millions of Dollars\n",
       "|TLLODGCONS|Total Construction Spending: Lodging|0|Monthly|Millions of Dollars\n",
       "|TLRELCON|Total Construction Spending: Religious|0|Monthly|Millions of Dollars\n",
       "|PRAMUSCON|Total Private Construction Spending: Amusement and recrea...|0|Monthly|Millions of Dollars\n",
       "|PRCMUCON|Total Private Construction Spending: Communication|0|Monthly|Millions of Dollars\n",
       "|PREDUCON|Total Private Construction Spending: Educational|0|Monthly|Millions of Dollars\n",
       "|PROFCON|Total Private Construction Spending: Office|0|Monthly|Millions of Dollars\n",
       "|PRPWRCON|Total Private Construction Spending: Power|0|Monthly|Millions of Dollars\n",
       "|PRRELCON|Total Private Construction Spending: Religious|0|Monthly|Millions of Dollars\n",
       "|PRTRANSCON|Total Private Construction Spending: Transportation|0|Monthly|Millions of Dollars\n",
       "|PBAMUSCON|Total Public Construction Spending: Amusement and recreation|0|Monthly|Millions of Dollars\n",
       "|PBAMUSCONS|Total Public Construction Spending: Amusement and recreation|0|Monthly|Millions of Dollars\n",
       "|PBCOMCONS|Total Public Construction Spending: Commercial|0|Monthly|Millions of Dollars\n",
       "|PBCADCONS|Total Public Construction Spending: Conservation and deve...|0|Monthly|Millions of Dollars\n",
       "|PBEDUCONS|Total Public Construction Spending: Educational|0|Monthly|Millions of Dollars\n",
       "|PBHLTHCON|Total Public Construction Spending: Health Care|0|Monthly|Millions of Dollars\n",
       "|PBHLTHCONS|Total Public Construction Spending: Health Care|0|Monthly|Millions of Dollars\n",
       "|PBHWYCON|Total Public Construction Spending: Highway and street|0|Monthly|Millions of Dollars\n",
       "|PBOFCON|Total Public Construction Spending: Office|0|Monthly|Millions of Dollars\n",
       "|PBOFCONS|Total Public Construction Spending: Office|0|Monthly|Millions of Dollars\n",
       "|PBPWRCON|Total Public Construction Spending: Power|0|Monthly|Millions of Dollars\n",
       "|PBPWRCONS|Total Public Construction Spending: Power|0|Monthly|Millions of Dollars\n",
       "|PBPSCON|Total Public Construction Spending: Public Safety|0|Monthly|Millions of Dollars\n",
       "|PBPSCONS|Total Public Construction Spending: Public Safety|0|Monthly|Millions of Dollars\n",
       "|PBSWGCON|Total Public Construction Spending: Sewage and waste disp...|0|Monthly|Millions of Dollars"
      ],
      "text/plain": [
       "<IPython.core.display.Markdown object>"
      ]
     },
     "metadata": {},
     "output_type": "display_data"
    }
   ],
   "source": [
    "with PrintMonitor(include='Web'):\n",
    "    fc = FredCategory.get('32436', db=db, create=True)\n",
    "    fc.display()"
   ]
  }
 ],
 "metadata": {
  "kernelspec": {
   "display_name": "Python 3",
   "language": "python",
   "name": "python3"
  },
  "language_info": {
   "codemirror_mode": {
    "name": "ipython",
    "version": 3
   },
   "file_extension": ".py",
   "mimetype": "text/x-python",
   "name": "python",
   "nbconvert_exporter": "python",
   "pygments_lexer": "ipython3",
   "version": "3.6.1"
  }
 },
 "nbformat": 4,
 "nbformat_minor": 2
}
