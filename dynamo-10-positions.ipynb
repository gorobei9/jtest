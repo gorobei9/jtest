{
 "cells": [
  {
   "cell_type": "markdown",
   "metadata": {},
   "source": [
    "# A Toy Trading System [Test]\n",
    "\n",
    "I wanted to work on the node class, but that's hard without having an application/demo that is meaty enough to\n",
    "work with.\n",
    "\n",
    "So, here's a toy front-office position management, pricing, and risk system:"
   ]
  },
  {
   "cell_type": "code",
   "execution_count": 1,
   "metadata": {
    "collapsed": false
   },
   "outputs": [],
   "source": [
    "import mand.core\n",
    "\n",
    "from mand.core import Entity, node, Context\n",
    "\n",
    "from mand.core import ObjectDb, _tr, Timestamp, Context\n",
    "from mand.core import ProfileMonitor\n",
    "from mand.lib.extrefdata import ExternalRefData, dataField\n",
    "from mand.lib.workflow import Workbook, WorkItemOpenEvent, WorkItem\n",
    "from mand.lib.portfolio import Portfolio\n",
    "from mand.core import displayDict, displayMarkdown\n",
    "from mand.core import num, find\n",
    "from mand.lib.dbsetup import setUpDb\n",
    "import datetime\n",
    "\n",
    "db = ObjectDb()\n",
    "setUpDb(db)"
   ]
  },
  {
   "cell_type": "markdown",
   "metadata": {},
   "source": [
    "## Books and Portfolios [BA]\n",
    "\n",
    "These are just workflow entities that support a net present value function. As long as items in books are valuable\n",
    "(in the sense of implementing NPV) then everything just works."
   ]
  },
  {
   "cell_type": "code",
   "execution_count": 2,
   "metadata": {
    "collapsed": false
   },
   "outputs": [],
   "source": [
    "class TradingBook(Workbook):\n",
    "    @node\n",
    "    def NPV(self):\n",
    "        ret = 0\n",
    "        for i, q in self.items().items():\n",
    "            ret += i.NPV() * q\n",
    "        return ret\n",
    "\n",
    "class TradingPortfolio(Portfolio):\n",
    "    @node\n",
    "    def NPV(self):\n",
    "        ret = 0\n",
    "        for i, q in self.items().items():\n",
    "            ret += i.NPV() * q\n",
    "        return ret\n",
    "    \n",
    "_tr.add(TradingBook)\n",
    "_tr.add(TradingPortfolio)"
   ]
  },
  {
   "cell_type": "markdown",
   "metadata": {},
   "source": [
    "## Building a tree of bank-side accounts [User]\n",
    "\n",
    "Here, we build a tree of 100 books, grouped under 10 sub-portfolios, rooted in one top-level portfolio.\n",
    "\n",
    "In a real bank, we might have hundreds of thousands of books, grouped 10 levels deep. in multiple different trees. \n",
    "Plus millions of customer books grouped in various portfolio trees."
   ]
  },
  {
   "cell_type": "code",
   "execution_count": 3,
   "metadata": {
    "collapsed": false,
    "scrolled": false
   },
   "outputs": [
    {
     "name": "stdout",
     "output_type": "stream",
     "text": [
      "<Entity:/Global/TradingPortfolio/TopOfTheHouse>\n",
      "# books: 100\n",
      "# children: 10\n"
     ]
    }
   ],
   "source": [
    "def makeTree(names):\n",
    "    ret = []\n",
    "    for name in names:\n",
    "        subs = [ TradingBook(name+str(i)) for i in range(10) ]\n",
    "        p = TradingPortfolio(name).write()\n",
    "        p.setChildren(subs)\n",
    "        ret.append(p)\n",
    "    return ret\n",
    "\n",
    "with db:\n",
    "    pAll = TradingPortfolio('TopOfTheHouse').write()\n",
    "    subs = makeTree(['FX', 'Rates', 'Credit', 'Eq-Prop', 'Delta1', 'Eq-Inst', 'Loans', 'Commod', 'ETFs', 'Mtge'])\n",
    "    pAll.setChildren(subs)\n",
    "    \n",
    "print(pAll)\n",
    "print('# books:', len(pAll.books()))\n",
    "print('# children:', len(pAll.children()))"
   ]
  },
  {
   "cell_type": "markdown",
   "metadata": {},
   "source": [
    "## Checking execution counts [Test]\n",
    "\n",
    "We have 11 portfolios, 100 books. We should get node calculation counts that reflect this..."
   ]
  },
  {
   "cell_type": "code",
   "execution_count": 4,
   "metadata": {
    "collapsed": false,
    "scrolled": false
   },
   "outputs": [
    {
     "name": "stdout",
     "output_type": "stream",
     "text": [
      "100\n"
     ]
    },
    {
     "data": {
      "text/markdown": [
       "\n",
       "### Profile by nodes.\n",
       "* times are in microseconds\n",
       "* cumT is total time spent in function\n",
       "* calcT is time spent in function, but not in a child node"
      ],
      "text/plain": [
       "<IPython.core.display.Markdown object>"
      ]
     },
     "metadata": {},
     "output_type": "display_data"
    },
    {
     "data": {
      "text/markdown": [
       "|fn|n|cumT|calcT|cumT/call|sys|\n",
       "|-|-|-|-|-|-|\n",
       "|Portfolio:books|11|483,949|118|43,995|GetValue\n",
       "|Portfolio:books|11|483,938|639|43,994|GetValue/Calc\n",
       "|Portfolio:children|11|483,192|118|43,926|GetValue\n",
       "|Portfolio:children|11|483,073|43,599|43,915|GetValue/Calc\n",
       "|PortfolioUpdateEvent:children|11|382,781|952|34,798|GetValue\n",
       "|TradingBook|100|344,715|344,715|3,447|Db.Get\n",
       "|PortfolioUpdateEvent|11|43,489|43,489|3,953|Db.Get\n",
       "|TradingPortfolio|10|37,114|37,114|3,711|Db.Get\n",
       "|Clock:cutoffs|22|8,333|72|378|GetValue\n",
       "|Clock:cutoffs|1|8,261|36|8,261|GetValue/Calc\n",
       "|Clock:parent|1|8,220|8|8,220|GetValue\n",
       "|Clock:parent|1|8,212|4,415|8,212|GetValue/Calc\n",
       "|CosmicAll|1|5,649|5,649|5,649|Db.Get\n",
       "|Portfolio:clock|22|4,809|182|218|GetValue\n",
       "|Portfolio:clock|11|4,626|191|420|GetValue/Calc\n",
       "|Clock|1|4,435|4,435|4,435|Db.Get\n",
       "|Entity:clock|2|3,703|19|1,851|GetValue\n",
       "|Entity:clock|1|3,683|23|3,683|GetValue/Calc\n",
       "|RootClock|1|3,660|3,660|3,660|Db.Get\n",
       "|RootClock:cutoffs|3|97|15|32|GetValue\n",
       "|RootClock:cutoffs|1|81|48|81|GetValue/Calc\n",
       "|Event:amends|11|59|59|5|GetValue\n",
       "|RootClock:cosmicAll|1|17|9|17|GetValue\n",
       "|CosmicAll:dbState|1|14|8|14|GetValue\n",
       "|RootClock:cosmicAll|1|8|8|8|GetValue/Calc\n",
       "|CosmicAll:dbState|1|6|6|6|GetValue/Calc"
      ],
      "text/plain": [
       "<IPython.core.display.Markdown object>"
      ]
     },
     "metadata": {},
     "output_type": "display_data"
    }
   ],
   "source": [
    "with ProfileMonitor(mode='sum'):\n",
    "    db2 = db.copy()\n",
    "    p = db2._get(pAll.meta.path())\n",
    "    print(len(p.books()))"
   ]
  },
  {
   "cell_type": "markdown",
   "metadata": {},
   "source": [
    "## A few books [Test]\n",
    "\n",
    "We also create two customers' books.\n",
    "\n",
    "Pretend *p1* is one of our trading desks, *p2* is another. "
   ]
  },
  {
   "cell_type": "code",
   "execution_count": 5,
   "metadata": {
    "collapsed": false
   },
   "outputs": [
    {
     "name": "stdout",
     "output_type": "stream",
     "text": [
      "Customer1\n",
      "Eq-Prop4\n",
      "Eq-Inst7\n"
     ]
    }
   ],
   "source": [
    "with db:\n",
    "    bExt  = _tr.TradingBook('Customer1')\n",
    "    bExt2 = _tr.TradingBook('Customer2')\n",
    "    \n",
    "p1 = pAll.children()[3]\n",
    "p2 = pAll.children()[5]\n",
    "\n",
    "b1 = p1.children()[4]\n",
    "b2 = p2.children()[7]\n",
    "\n",
    "print(bExt.meta.name())\n",
    "print(b1.meta.name())\n",
    "print(b2.meta.name())"
   ]
  },
  {
   "cell_type": "markdown",
   "metadata": {},
   "source": [
    "## Tracking Market Data [DBA]\n",
    "\n",
    "For now, just save incoming market observations as reference data. \n",
    "\n",
    "In reality, we'd have billions of observations per day on millions of data sources."
   ]
  },
  {
   "cell_type": "code",
   "execution_count": 6,
   "metadata": {
    "collapsed": false
   },
   "outputs": [],
   "source": [
    "class MarketDataSource(ExternalRefData):\n",
    "    @dataField\n",
    "    def last(self):\n",
    "        return None\n",
    "    \n",
    "_tr.add(MarketDataSource)"
   ]
  },
  {
   "cell_type": "markdown",
   "metadata": {},
   "source": [
    "## Making some data sources [Test]\n",
    "\n",
    "Two pretend data sources: IBM and Google last trade prices."
   ]
  },
  {
   "cell_type": "code",
   "execution_count": 7,
   "metadata": {
    "collapsed": false,
    "scrolled": false
   },
   "outputs": [
    {
     "name": "stdout",
     "output_type": "stream",
     "text": [
      "175.61\n",
      "852.12\n"
     ]
    }
   ],
   "source": [
    "with db:\n",
    "    s1_ibm  = MarketDataSource('source1.IBM')\n",
    "    s1_goog = MarketDataSource('source1.GOOG')\n",
    "\n",
    "s1_ibm.update(last=175.61)\n",
    "s1_goog.update(last=852.12)\n",
    "\n",
    "print(s1_ibm.last())\n",
    "print(s1_goog.last())"
   ]
  },
  {
   "cell_type": "markdown",
   "metadata": {},
   "source": [
    "## Market Interface [DBA]\n",
    "\n",
    "How user code accesses market data. \n",
    "\n",
    "In reality, market interfaces would be choosing amongst raw data sources,\n",
    "providing bootstrapped curves, vol surfaces, etc."
   ]
  },
  {
   "cell_type": "code",
   "execution_count": 8,
   "metadata": {
    "collapsed": false
   },
   "outputs": [],
   "source": [
    "class MarketInterface(Entity):\n",
    "    \n",
    "    @node\n",
    "    def sourceName(self):\n",
    "        return 'source1'\n",
    "    \n",
    "    @node\n",
    "    def source(self):\n",
    "        return self.getObj(_tr.MarketDataSource, '%s.%s' % (self.sourceName(), self.meta.name()))\n",
    "    \n",
    "    @node(tweakable=True)\n",
    "    def spot(self):\n",
    "        return self.source().last()\n",
    "                           \n",
    "    \n",
    "_tr.add(MarketInterface)\n"
   ]
  },
  {
   "cell_type": "markdown",
   "metadata": {},
   "source": [
    "## Making some market interfaces [Test]"
   ]
  },
  {
   "cell_type": "code",
   "execution_count": 9,
   "metadata": {
    "collapsed": false
   },
   "outputs": [
    {
     "name": "stdout",
     "output_type": "stream",
     "text": [
      "175.61 <class 'decimal.Decimal'>\n",
      "852.12 <class 'decimal.Decimal'>\n"
     ]
    }
   ],
   "source": [
    "with db:\n",
    "    ibm  = MarketInterface('IBM')\n",
    "    goog = MarketInterface('GOOG')\n",
    "\n",
    "print(ibm.spot(), type(ibm.spot()))\n",
    "print(goog.spot(), type(goog.spot()))"
   ]
  },
  {
   "cell_type": "markdown",
   "metadata": {},
   "source": [
    "## Instruments [BA]\n",
    "\n",
    "Things we can own/have contracted. Instruments have an NPV.\n",
    "\n",
    "We implement two classes of instrument:\n",
    "* ForwardCashflow: money that will arrive at some future time\n",
    "* Equity: a share of common stock in a company\n",
    "    \n",
    "Both implementations are toys."
   ]
  },
  {
   "cell_type": "code",
   "execution_count": 10,
   "metadata": {
    "collapsed": false
   },
   "outputs": [],
   "source": [
    "class Instrument(WorkItem):\n",
    "    \"\"\"A thing that can be owned, an asset, or legal obligation\"\"\"\n",
    "    \n",
    "class ForwardCashflow(Instrument):\n",
    "    \n",
    "    @node(stored=True)\n",
    "    def currency(self):\n",
    "        return 'USD'\n",
    "    \n",
    "    @node(stored=True)\n",
    "    def settlementDatetime(self):\n",
    "        d = datetime.datetime.utcnow() + datetime.timedelta(2)\n",
    "        return d\n",
    "    \n",
    "    @node\n",
    "    def NPV(self):\n",
    "        # XXX - would really get the currency discount curve here, and discount according to \n",
    "        # current time/settlement time\n",
    "        # XXX - and do a conversion to our native currency\n",
    "        return 1\n",
    "    \n",
    "    @node\n",
    "    def name(self):\n",
    "        return 'Cash %s/%s' % (self.currency(), self.settlementDatetime())\n",
    "    \n",
    "class Equity(Instrument):\n",
    "    \n",
    "    @node(stored=True)\n",
    "    def assetName(self):\n",
    "        return 'IBM.Eq.1'\n",
    "    \n",
    "    @node\n",
    "    def NPV(self):\n",
    "        return self.refdata().spot()\n",
    "    \n",
    "    @node\n",
    "    def refdata(self):\n",
    "        return self.getObj(_tr.MarketInterface, self.assetName().split('.')[0])\n",
    "\n",
    "    @node\n",
    "    def name(self):\n",
    "        return 'Stock: %s' % self.assetName()\n",
    "    \n",
    "_tr.add(ForwardCashflow)\n",
    "_tr.add(Equity)"
   ]
  },
  {
   "cell_type": "markdown",
   "metadata": {},
   "source": [
    "## TradeOpenEvent [BA]\n",
    "\n",
    "An event/observation that represents buying or selling something.\n",
    "\n",
    "Someone gets *quantity* of *item*, and pays *unitPrice* of *premium* for each *item*.\n",
    "\n",
    "Note that *premium* is typically a *ForwardCashflow*, so the money settles T+2. From a risk/PnL point\n",
    "of view, we get the asset immediately. This is a gross over-simplification."
   ]
  },
  {
   "cell_type": "code",
   "execution_count": 11,
   "metadata": {
    "collapsed": false
   },
   "outputs": [],
   "source": [
    "class TradeOpenEvent(WorkItemOpenEvent):\n",
    "    @node(stored=True)\n",
    "    def action(self):\n",
    "        return 'Buy'\n",
    "    @node(stored=True)\n",
    "    def quantity(self):\n",
    "        return 1.\n",
    "    @node(stored=True)\n",
    "    def premium(self):\n",
    "        return None\n",
    "    @node(stored=True)\n",
    "    def unitPrice(self):\n",
    "        return 0.\n",
    "    \n",
    "    def _items(self):\n",
    "        bs = 1 if self.action() == 'Buy' else -1\n",
    "        pq = -bs * self.unitPrice() * self.quantity()\n",
    "        return [ [ self.ticket(), self.item(),    bs*self.quantity(), self.book1(), self.book2() ],\n",
    "                 [ self.ticket(), self.premium(), pq,                 self.book1(), self.book2() ]\n",
    "               ] \n",
    "\n",
    "_tr.add(TradeOpenEvent)"
   ]
  },
  {
   "cell_type": "markdown",
   "metadata": {},
   "source": [
    "## Let's book some trades [Test]"
   ]
  },
  {
   "cell_type": "code",
   "execution_count": 12,
   "metadata": {
    "collapsed": false
   },
   "outputs": [],
   "source": [
    "with db:\n",
    "    cf1 = ForwardCashflow()\n",
    "    ins1 = Equity()\n",
    "    ins2 = Equity(assetName='GOOG.Eq.1')\n",
    "    \n",
    "    ts1 = Timestamp()\n",
    "    \n",
    "    ev1 = TradeOpenEvent(action='Buy',\n",
    "                         item=ins1,\n",
    "                         quantity=100,\n",
    "                         premium=cf1,\n",
    "                         unitPrice=175.65,\n",
    "                         book1=b1,\n",
    "                         book2=bExt).write()\n",
    "    \n",
    "    ts2 = Timestamp()\n",
    "    \n",
    "    s1_ibm.update(last=175.64)\n",
    "    \n",
    "    ts3 = Timestamp()\n",
    "    \n",
    "    ev2 = TradeOpenEvent(action='Buy',\n",
    "                         item=ins2,\n",
    "                         quantity=300,\n",
    "                         premium=cf1,\n",
    "                         unitPrice=852.12,\n",
    "                         book1=b2,\n",
    "                         book2=bExt).write()\n",
    "    \n",
    "    ev3 = TradeOpenEvent(action='Sell',\n",
    "                         item=ins1,\n",
    "                         quantity=100,\n",
    "                         premium=cf1,\n",
    "                         unitPrice=175.85,\n",
    "                         book1=b2,\n",
    "                         book2=bExt2).write()\n",
    "    \n",
    "    ts4 = Timestamp()\n",
    "    \n",
    "    s1_ibm.update(last=175.70)\n",
    "    s1_goog.update(last=852.11)\n",
    "    \n",
    "    ts5 = Timestamp()\n",
    "    \n",
    "    s1_ibm.update(last=175.68)\n",
    "    s1_goog.update(last=852.13)\n",
    "    \n",
    "    eod = Timestamp()\n",
    "    \n",
    "    ev4 = TradeOpenEvent(action='Buy',\n",
    "                         item=ins1,\n",
    "                         quantity=100,\n",
    "                         premium=cf1,\n",
    "                         unitPrice=175.69,\n",
    "                         book1=b1,\n",
    "                         book2=bExt,\n",
    "                         amends=ev1,\n",
    "                         message='Sorry, the broker says you actually paid 69. signed: the middle office'\n",
    "                        ).write(validTime=ev1.meta._timestamp.validTime)\n",
    "    \n",
    "    s1_ibm.update(last=177.68)\n",
    "    s1_goog.update(last=856.13)\n",
    "    \n",
    "    ts6 = Timestamp()\n",
    "    "
   ]
  },
  {
   "cell_type": "markdown",
   "metadata": {},
   "source": [
    "# Reporting [User]\n",
    "\n",
    "Reporting is the whole point of the Abstract Nonsense Db.\n",
    "\n",
    "We ignore all the standard report infrastructure goop (aggregation, GUIs, pivot-tables, drill-down, etc) and\n",
    "just focus on extracting the underlying data.\n",
    "\n",
    "For the following examples, we mostly care about NPV (the present values of what we own,) \n",
    "PnL (how much money we made or lost,) and risk (what happens to our NPV if underlying conditions change.)\n",
    "\n",
    "Note that even in the trivial case of our three trades, one amendment, and several market data updates, trying to write\n",
    "code to attribute profit, or even trying to figure it by hand, would require assumptions and be error-prone. \n",
    "\n",
    "In general, the less a report knows about the underlying data, the better it is."
   ]
  },
  {
   "cell_type": "markdown",
   "metadata": {},
   "source": [
    "## Report: PnL [User]\n",
    "\n",
    "How much money did we (i.e. our portfolio) gain or lose between two times?\n",
    "\n",
    "For example, if time1 was yesterday's close, and time2 is today's close, this report tells us how much we made or lost\n",
    "today. Will we be drinking champagne or straight vodka this evening?\n",
    "\n",
    "Note: it's worth understanding how the cash entries are working in this example. The reason our open and closed out\n",
    "positions are pricing rationally is because we are modelling cash approximately correctly, not because the instruments\n",
    "are carrying around a notion of price-paid!"
   ]
  },
  {
   "cell_type": "code",
   "execution_count": 13,
   "metadata": {
    "collapsed": false
   },
   "outputs": [],
   "source": [
    "def reportPnL(valuable, ts1, ts2):\n",
    "    clock = valuable.getObj(_tr.RootClock, 'Main')\n",
    "    with Context({clock.cutoffs: ts1}):\n",
    "        npv1 = valuable.NPV()\n",
    "    with Context({clock.cutoffs: ts2}):\n",
    "        npv2 = valuable.NPV()\n",
    "    displayMarkdown('#### PnL for %s: %s' % (valuable.meta.name(), npv2-npv1))"
   ]
  },
  {
   "cell_type": "markdown",
   "metadata": {},
   "source": [
    "### Example: top-of-the-house intraday PnL\n",
    "\n",
    "Hmm, one of our desks bought 100 shares of IBM, and the last trade price is already down 1 cent. The bank is down \n",
    "100 times $.01 or one dollar:"
   ]
  },
  {
   "cell_type": "code",
   "execution_count": 14,
   "metadata": {
    "collapsed": false
   },
   "outputs": [
    {
     "data": {
      "text/markdown": [
       "#### PnL for TopOfTheHouse: -1.00"
      ],
      "text/plain": [
       "<IPython.core.display.Markdown object>"
      ]
     },
     "metadata": {},
     "output_type": "display_data"
    }
   ],
   "source": [
    "# 100 shares bought at $175.65\n",
    "# current price is $175.64:\n",
    "reportPnL(pAll, ts1, ts3)"
   ]
  },
  {
   "cell_type": "markdown",
   "metadata": {},
   "source": [
    "### Example: top-of-the-house daily PnL\n",
    "\n",
    "By end of day, the bank as a whole has closed out the IBM trade for a profit, and bought some GOOG. Closing refdata\n",
    "prices have been entered. We should have a total profit for the day of $23:"
   ]
  },
  {
   "cell_type": "code",
   "execution_count": 15,
   "metadata": {
    "collapsed": false,
    "scrolled": false
   },
   "outputs": [
    {
     "data": {
      "text/markdown": [
       "#### PnL for TopOfTheHouse: 23.00"
      ],
      "text/plain": [
       "<IPython.core.display.Markdown object>"
      ]
     },
     "metadata": {},
     "output_type": "display_data"
    }
   ],
   "source": [
    "# 100 * ($175.85 - $175.65) =  $20\n",
    "# 300 * ($852.13 - $852.12) =  $ 3\n",
    "#                              ----\n",
    "#                              $23\n",
    "reportPnL(pAll, ts1, eod)"
   ]
  },
  {
   "cell_type": "markdown",
   "metadata": {},
   "source": [
    "### Example: trading desk daily PnL\n",
    "\n",
    "Desk *p1* bought IBM at $175.65\n",
    "\n",
    "It still owns IBM, which closed at $175.68\n",
    "\n",
    "So, it should be up $3:"
   ]
  },
  {
   "cell_type": "code",
   "execution_count": 16,
   "metadata": {
    "collapsed": false
   },
   "outputs": [
    {
     "data": {
      "text/markdown": [
       "#### PnL for Eq-Prop: 3.00"
      ],
      "text/plain": [
       "<IPython.core.display.Markdown object>"
      ]
     },
     "metadata": {},
     "output_type": "display_data"
    }
   ],
   "source": [
    "# 100 * ($175.68 - $175.65) =   $3\n",
    "reportPnL(p1, ts1, eod)"
   ]
  },
  {
   "cell_type": "markdown",
   "metadata": {},
   "source": [
    "## Report: Market Risk [DBA]\n",
    "\n",
    "So, how much does our value change if market data values change?\n",
    "\n",
    "Note: review the greeks workbook if this is unclear."
   ]
  },
  {
   "cell_type": "code",
   "execution_count": 17,
   "metadata": {
    "collapsed": false,
    "scrolled": false
   },
   "outputs": [],
   "source": [
    "def reportMarketRisk(valuable):\n",
    "    def fn(node):\n",
    "        obj = node.key.object()\n",
    "        m = node.key.shortName()\n",
    "        if isinstance(obj, MarketInterface) and m == 'spot':\n",
    "            return True\n",
    "    nodes = find(valuable.NPV, fn)\n",
    "    r = {}\n",
    "    npv = valuable.NPV()\n",
    "    for n in nodes:\n",
    "        v = n.value * num(1.01)\n",
    "        with Context({n: v}):\n",
    "            obj = n.key.object()\n",
    "            npv2 = valuable.NPV()\n",
    "            r[obj.meta.name()] = npv2-npv\n",
    "    displayMarkdown('### %s: NPV change under a 1%% move' % valuable.meta.name())\n",
    "    displayDict(r)"
   ]
  },
  {
   "cell_type": "code",
   "execution_count": 18,
   "metadata": {
    "collapsed": false
   },
   "outputs": [
    {
     "data": {
      "text/markdown": [
       "### TopOfTheHouse: NPV change under a 1% move"
      ],
      "text/plain": [
       "<IPython.core.display.Markdown object>"
      ]
     },
     "metadata": {},
     "output_type": "display_data"
    },
    {
     "data": {
      "text/markdown": [
       "|key|value|\n",
       "|-|-|\n",
       "|GOOG|2568.3900"
      ],
      "text/plain": [
       "<IPython.core.display.Markdown object>"
      ]
     },
     "metadata": {},
     "output_type": "display_data"
    },
    {
     "data": {
      "text/markdown": [
       "### Eq-Prop: NPV change under a 1% move"
      ],
      "text/plain": [
       "<IPython.core.display.Markdown object>"
      ]
     },
     "metadata": {},
     "output_type": "display_data"
    },
    {
     "data": {
      "text/markdown": [
       "|key|value|\n",
       "|-|-|\n",
       "|IBM|177.6800"
      ],
      "text/plain": [
       "<IPython.core.display.Markdown object>"
      ]
     },
     "metadata": {},
     "output_type": "display_data"
    },
    {
     "data": {
      "text/markdown": [
       "### Eq-Inst: NPV change under a 1% move"
      ],
      "text/plain": [
       "<IPython.core.display.Markdown object>"
      ]
     },
     "metadata": {},
     "output_type": "display_data"
    },
    {
     "data": {
      "text/markdown": [
       "|key|value|\n",
       "|-|-|\n",
       "|GOOG|2568.3900\n",
       "|IBM|-177.6800"
      ],
      "text/plain": [
       "<IPython.core.display.Markdown object>"
      ]
     },
     "metadata": {},
     "output_type": "display_data"
    }
   ],
   "source": [
    "reportMarketRisk(pAll)\n",
    "reportMarketRisk(p1)\n",
    "reportMarketRisk(p2)"
   ]
  },
  {
   "cell_type": "markdown",
   "metadata": {},
   "source": [
    "## Report: Prior Day Amends [User]\n",
    "\n",
    "So, someone reported a number on day T. How would that number change if we reran the report based on corrected data?\n",
    "\n",
    "There are a lot of ways to handle prior day amends:\n",
    "* Have them entered, but have no systemic way to track them.\n",
    " * This is a time-honoured approach. Usually, someone goes to jail when the auditors eventually notice that some trader\n",
    "declaring profits each day is just amending the trades the next day and actually losing money.\n",
    "* Make a policy that there are no prior day amends.\n",
    " * Well, now at least you can see the PnL.\n",
    " * On the downside, you don't get much explanatory power. It's a bit like switching to cash accounting because your\n",
    "internal business units are gaming accrual accounting to the point you can't even manage the budget.\n",
    " * Oh, and you still get fined/go to jail: if the number is your position size, and you exceeded the legal limit on\n",
    "day T, you can't just pretend you didn't and book your day T over-limit trade on day T+1. External reality does not\n",
    "change just because you have a bad operational policy.\n",
    "* Just do it right.\n",
    " * This is the approach we take."
   ]
  },
  {
   "cell_type": "code",
   "execution_count": 19,
   "metadata": {
    "collapsed": false
   },
   "outputs": [],
   "source": [
    "def reportRestates(valuable, ts1, ts2):\n",
    "    clock = valuable.getObj(_tr.RootClock, 'Main')\n",
    "    with Context({clock.cutoffs: ts1}):\n",
    "        npv1 = valuable.NPV()\n",
    "    print\n",
    "    ts1r = Timestamp(t=ts2.transactionTime, v=ts1.validTime)\n",
    "    with Context({clock.cutoffs: ts1r}):\n",
    "        npv2 = valuable.NPV()\n",
    "    if npv2-npv1:\n",
    "        displayMarkdown('#### AUDIT-ITEM. %s: NPV change due to prior day amends is %s' % \n",
    "                        (valuable.meta.name(), npv2-npv1))"
   ]
  },
  {
   "cell_type": "code",
   "execution_count": 20,
   "metadata": {
    "collapsed": false
   },
   "outputs": [
    {
     "data": {
      "text/markdown": [
       "#### AUDIT-ITEM. Eq-Prop: NPV change due to prior day amends is -4.00"
      ],
      "text/plain": [
       "<IPython.core.display.Markdown object>"
      ]
     },
     "metadata": {},
     "output_type": "display_data"
    },
    {
     "name": "stdout",
     "output_type": "stream",
     "text": [
      "\n",
      "Note that we are only looking at amended numbers, not all activity:\n"
     ]
    },
    {
     "data": {
      "text/markdown": [
       "#### PnL for Eq-Prop: 196.00"
      ],
      "text/plain": [
       "<IPython.core.display.Markdown object>"
      ]
     },
     "metadata": {},
     "output_type": "display_data"
    }
   ],
   "source": [
    "reportRestates(p1, eod, ts6)\n",
    "\n",
    "print()\n",
    "print('Note that we are only looking at amended numbers, not all activity:')\n",
    "reportPnL(p1, eod, ts6)"
   ]
  },
  {
   "cell_type": "markdown",
   "metadata": {},
   "source": [
    "# Let's see what is going on when we run a report [Core]"
   ]
  },
  {
   "cell_type": "code",
   "execution_count": 21,
   "metadata": {
    "collapsed": false,
    "scrolled": false
   },
   "outputs": [
    {
     "data": {
      "text/markdown": [
       "#### PnL for TopOfTheHouse: 1219.00"
      ],
      "text/plain": [
       "<IPython.core.display.Markdown object>"
      ]
     },
     "metadata": {},
     "output_type": "display_data"
    },
    {
     "data": {
      "text/markdown": [
       "\n",
       "### Profile by nodes.\n",
       "* times are in microseconds\n",
       "* cumT is total time spent in function\n",
       "* calcT is time spent in function, but not in a child node"
      ],
      "text/plain": [
       "<IPython.core.display.Markdown object>"
      ]
     },
     "metadata": {},
     "output_type": "display_data"
    },
    {
     "data": {
      "text/markdown": [
       "|fn|n|cumT|calcT|cumT/call|sys|\n",
       "|-|-|-|-|-|-|\n",
       "|Root:4561119144|516|1,263,848|783,220|2,449|Context\n",
       "|TradingPortfolio:NPV|2|1,263,805|19|631,902|GetValue\n",
       "|TradingPortfolio:NPV|2|1,263,785|10|631,892|GetValue/Calc\n",
       "|Portfolio:items|22|1,233,065|195|56,048|GetValue\n",
       "|Portfolio:items|22|1,233,049|136|56,047|GetValue/Calc\n",
       "|Workbook:items|200|733,304|1,875|3,666|GetValue\n",
       "|Workbook:items|200|731,428|1,276|3,657|GetValue/Calc\n",
       "|Portfolio:children|44|493,799|272|11,222|GetValue\n",
       "|Portfolio:children|22|493,527|142|22,433|GetValue/Calc\n",
       "|PortfolioUpdateEvent:children|22|360,922|1,029|16,405|GetValue\n",
       "|TradingBook|102|332,490|332,490|3,259|Db.Get\n",
       "|PortfolioUpdateEvent|11|39,889|39,889|3,626|Db.Get\n",
       "|TradingPortfolio|10|33,376|33,376|3,337|Db.Get\n",
       "|Equity:NPV|1|30,606|10|30,606|GetValue\n",
       "|Equity:NPV|1|30,596|5|30,596|GetValue/Calc\n",
       "|MarketInterface:spot|1|27,521|10|27,521|GetValue\n",
       "|MarketInterface:spot|1|27,510|5|27,510|GetValue/Calc\n",
       "|ExternalRefData:state|1|24,534|7|24,534|GetValue\n",
       "|ExternalRefData:state|1|24,527|6|24,527|GetValue/Calc\n",
       "|RefData:state|1|24,495|9|24,495|GetValue\n",
       "|RefData:state|1|24,486|5|24,486|GetValue/Calc\n",
       "|Clock:cutoffs|446|18,244|1,416|40|GetValue\n",
       "|Clock:cutoffs|5|16,827|30|3,365|GetValue/Calc\n",
       "|Clock:parent|5|16,623|38|3,324|GetValue\n",
       "|Clock:parent|5|16,585|29|3,317|GetValue/Calc\n",
       "|TradeOpenEvent|4|14,161|14,161|3,540|Db.Get\n",
       "|RefDataUpdateEvent|4|13,677|13,677|3,419|Db.Get\n",
       "|Workbook:clock|400|11,323|3,325|28|GetValue\n",
       "|Clock|3|10,402|10,402|3,467|Db.Get\n",
       "|_WorkItemEvent:ticket|6|8,733|45|1,455|GetValue\n",
       "|WorkTicket|3|8,688|8,688|2,896|Db.Get\n",
       "|Workbook:clock|200|7,998|1,693|39|GetValue/Calc\n",
       "|_WorkItemEvent:item|3|6,057|36|2,019|GetValue\n",
       "|Equity|2|6,021|6,021|3,010|Db.Get\n",
       "|_WorkItemEvent:book2|6|6,014|39|1,002|GetValue\n",
       "|Portfolio:clock|44|5,256|416|119|GetValue\n",
       "|Portfolio:clock|22|4,839|166|219|GetValue/Calc\n",
       "|RootClock|1|4,473|4,473|4,473|Db.Get\n",
       "|CosmicAll|1|3,921|3,921|3,921|Db.Get\n",
       "|Equity:refdata|1|3,030|10|3,030|GetValue\n",
       "|Equity:refdata|1|3,020|8|3,020|GetValue/Calc\n",
       "|MarketInterface|1|2,974|2,974|2,974|Db.Get\n",
       "|RefData:clock|2|2,933|14|1,466|GetValue\n",
       "|TradeOpenEvent:premium|3|2,932|26|977|GetValue\n",
       "|MarketInterface:source|1|2,926|10|2,926|GetValue\n",
       "|RefData:clock|1|2,918|9|2,918|GetValue/Calc\n",
       "|MarketInterface:source|1|2,915|5|2,915|GetValue/Calc\n",
       "|ForwardCashflow|1|2,905|2,905|2,905|Db.Get\n",
       "|MarketDataSource|1|2,858|2,858|2,858|Db.Get\n",
       "|Portfolio:books|42|1,268|267|30|GetValue\n",
       "|Portfolio:books|22|1,053|134|47|GetValue/Calc\n",
       "|Entity:clock|10|181|76|18|GetValue\n",
       "|Event:amends|29|151|151|5|GetValue\n",
       "|Entity:clock|5|104|39|20|GetValue/Calc\n",
       "|RootClock:cutoffs|15|42|42|2|GetValue\n",
       "|_WorkItemEvent:book1|6|31|31|5|GetValue\n",
       "|TradeOpenEvent:quantity|6|22|22|3|GetValue\n",
       "|ForwardCashflow:NPV|1|22|12|22|GetValue\n",
       "|MarketInterface:sourceName|1|17|8|17|GetValue\n",
       "|RefDataUpdateEvent:data|4|12|12|3|GetValue\n",
       "|TradeOpenEvent:action|3|12|12|4|GetValue\n",
       "|TradeOpenEvent:unitPrice|3|10|10|3|GetValue\n",
       "|ForwardCashflow:NPV|1|10|5|10|GetValue/Calc\n",
       "|MarketInterface:sourceName|1|9|5|9|GetValue/Calc\n",
       "|Equity:assetName|1|4|4|4|GetValue"
      ],
      "text/plain": [
       "<IPython.core.display.Markdown object>"
      ]
     },
     "metadata": {},
     "output_type": "display_data"
    }
   ],
   "source": [
    "with ProfileMonitor(mode='sum'):\n",
    "    db3 = db.copy()\n",
    "    p = db3._get(pAll.meta.path())\n",
    "    reportPnL(p, ts1, ts6)"
   ]
  }
 ],
 "metadata": {
  "kernelspec": {
   "display_name": "Python 3",
   "language": "python",
   "name": "python3"
  },
  "language_info": {
   "codemirror_mode": {
    "name": "ipython",
    "version": 3
   },
   "file_extension": ".py",
   "mimetype": "text/x-python",
   "name": "python",
   "nbconvert_exporter": "python",
   "pygments_lexer": "ipython3",
   "version": "3.6.1"
  }
 },
 "nbformat": 4,
 "nbformat_minor": 2
}
