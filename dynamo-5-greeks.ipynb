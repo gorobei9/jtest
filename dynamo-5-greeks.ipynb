{
 "cells": [
  {
   "cell_type": "markdown",
   "metadata": {},
   "source": [
    "# Simple demo of contexts, monitors, and dependencies\n",
    "\n",
    "The basic class is just a function from X to Y.\n",
    "The class provides some numerical derivatives:\n",
    "* delta() - dY/dX\n",
    "* gamma() - dDelta/dX\n",
    "\n",
    "\n",
    "1. **Contexts** are used to provide values when X has been shifted by some epsilon amount. In earlier demos, these were\n",
    "only used to hold timestamps for database views, but they are quite general.\n",
    "1. **Monitors** provide some logging/summarization of what is being done under the covers.\n",
    "1. **Dependencies** are the map from computations to their inputs.  \n",
    "\n",
    "Note that there is some caching behind the scenes now that the system understands dependencies."
   ]
  },
  {
   "cell_type": "code",
   "execution_count": 1,
   "metadata": {
    "collapsed": false,
    "scrolled": false
   },
   "outputs": [],
   "source": [
    "import mand.core\n",
    "\n",
    "from mand.core import Entity, node, Context\n",
    "from mand.core import PrintMonitor, SummaryMonitor"
   ]
  },
  {
   "cell_type": "markdown",
   "metadata": {},
   "source": [
    "## A simple function [User]\n",
    "\n",
    "This class just computes Y = X*X*X.\n",
    "\n",
    "Note the greeks (derivatives) are singled-sided, so this has some bias/inaccuracy, but it's simplier to understand."
   ]
  },
  {
   "cell_type": "code",
   "execution_count": 2,
   "metadata": {
    "collapsed": false
   },
   "outputs": [],
   "source": [
    "class O(Entity):\n",
    "\n",
    "    @node\n",
    "    def X(self):\n",
    "        return 10\n",
    "    \n",
    "    @node\n",
    "    def Y(self):\n",
    "        return self.X()**3\n",
    "    \n",
    "    @node\n",
    "    def eps(self):\n",
    "        return 1e-4\n",
    "    \n",
    "    @node \n",
    "    def delta(self):\n",
    "        # bad: single-sided delta\n",
    "        eps = self.eps()\n",
    "        y = self.Y()\n",
    "        x_bump = self.X() + self.eps()\n",
    "        c = Context({self.X: x_bump}, name='delta-up')\n",
    "        with c:\n",
    "            y_bump = self.Y()\n",
    "        return (y_bump-y)/eps\n",
    "    \n",
    "    @node \n",
    "    def gamma(self):\n",
    "        eps = self.eps()\n",
    "        d = self.delta()\n",
    "        x_bump = self.X() + self.eps()\n",
    "        c = Context({self.X: x_bump}, name='gamma-up')\n",
    "        with c:\n",
    "            d_bump = self.delta()\n",
    "        return (d_bump-d)/eps"
   ]
  },
  {
   "cell_type": "code",
   "execution_count": 3,
   "metadata": {
    "collapsed": false,
    "scrolled": false
   },
   "outputs": [
    {
     "name": "stdout",
     "output_type": "stream",
     "text": [
      " GetValue begin ctx: Root, key: O@108357290/O:delta\n",
      "   GetValue/Calc begin ctx: Root, key: O@108357290/O:delta\n",
      "     GetValue begin ctx: Root, key: O@108357290/O:eps\n",
      "       GetValue/Calc begin ctx: Root, key: O@108357290/O:eps\n",
      "         GetValue/Calc end ctx: Root, key: O@108357290/O:eps\n",
      "       GetValue end value: 0.0001, ctx: Root, key: O@108357290/O:eps\n",
      "     GetValue begin ctx: Root, key: O@108357290/O:Y\n",
      "       GetValue/Calc begin ctx: Root, key: O@108357290/O:Y\n",
      "         GetValue begin ctx: Root, key: O@108357290/O:X\n",
      "           GetValue/Calc begin ctx: Root, key: O@108357290/O:X\n",
      "             GetValue/Calc end ctx: Root, key: O@108357290/O:X\n",
      "           GetValue end value: 10, ctx: Root, key: O@108357290/O:X\n",
      "         GetValue/Calc end ctx: Root, key: O@108357290/O:Y\n",
      "       GetValue end value: 1000, ctx: Root, key: O@108357290/O:Y\n",
      "     GetValue begin ctx: Root, key: O@108357290/O:X\n",
      "       GetValue from ctx value: 10, ctx: Root, key: O@108357290/O:X\n",
      "     GetValue begin ctx: Root, key: O@108357290/O:eps\n",
      "       GetValue from ctx value: 0.0001, ctx: Root, key: O@108357290/O:eps\n",
      "     Context create ctx: Root:delta-up\n",
      "     Context set value: 10.0001, ctx: Root:delta-up, key: O@108357290/O:X\n",
      "     Context enter ctx: Root:delta-up\n",
      "       GetValue begin ctx: Root:delta-up, key: O@108357290/O:Y\n",
      "         GetValue/Calc begin ctx: Root:delta-up, key: O@108357290/O:Y\n",
      "           GetValue begin ctx: Root:delta-up, key: O@108357290/O:X\n",
      "             GetValue from ctx value: 10.0001, ctx: Root:delta-up, key: O@108357290/O:X\n",
      "           GetValue/Calc end ctx: Root:delta-up, key: O@108357290/O:Y\n",
      "         GetValue end value: 1000.0300003, ctx: Root:delta-up, key: O@108357290/O:Y\n",
      "     GetValue/Calc end ctx: Root, key: O@108357290/O:delta\n",
      "   GetValue end value: 300.003000009, ctx: Root, key: O@108357290/O:delta\n",
      "delta: 300.003000009\n"
     ]
    }
   ],
   "source": [
    "with PrintMonitor():\n",
    "    o = O()\n",
    "    d = o.delta()\n",
    "    print 'delta:', d"
   ]
  },
  {
   "cell_type": "code",
   "execution_count": 4,
   "metadata": {
    "collapsed": false,
    "scrolled": false
   },
   "outputs": [
    {
     "name": "stdout",
     "output_type": "stream",
     "text": [
      "delta: 300.003000009\n",
      "gamma: 60.0006046625\n"
     ]
    }
   ],
   "source": [
    "d = o.delta()\n",
    "print 'delta:', d\n",
    "g = o.gamma()\n",
    "print 'gamma:', g"
   ]
  },
  {
   "cell_type": "markdown",
   "metadata": {},
   "source": [
    "## Showing captured dependencies\n",
    "\n",
    "Note the nested context for delta inside the gamma context."
   ]
  },
  {
   "cell_type": "code",
   "execution_count": 5,
   "metadata": {
    "collapsed": false
   },
   "outputs": [
    {
     "name": "stdout",
     "output_type": "stream",
     "text": [
      " <O@108357290/O:gamma in Root>\n",
      "   <O@108357290/O:eps in Root>\n",
      "   <O@108357290/O:delta in Root:gamma-up>\n",
      "     <O@108357290/O:eps in Root:gamma-up>\n",
      "     <O@108357290/O:Y in Root:gamma-up:delta-up>\n",
      "       <O@108357290/O:X in Root:gamma-up:delta-up>\n",
      "     <O@108357290/O:X in Root:gamma-up>\n",
      "     <O@108357290/O:Y in Root:gamma-up>\n",
      "       <O@108357290/O:X in Root:gamma-up>\n",
      "   <O@108357290/O:delta in Root>\n",
      "     <O@108357290/O:eps in Root>\n",
      "     <O@108357290/O:Y in Root:delta-up>\n",
      "       <O@108357290/O:X in Root:delta-up>\n",
      "     <O@108357290/O:X in Root>\n",
      "     <O@108357290/O:Y in Root>\n",
      "       <O@108357290/O:X in Root>\n",
      "   <O@108357290/O:X in Root>\n"
     ]
    }
   ],
   "source": [
    "c = Context.current()\n",
    "cbm = o.gamma\n",
    "n = c.getCBM(cbm)\n",
    "n.printInputGraph()"
   ]
  },
  {
   "cell_type": "markdown",
   "metadata": {},
   "source": [
    "## O2 - the two-sided derivative version of O. [User]\n",
    "\n",
    "More version of the O class: we now bump X up and down, taking the average of the dependent variable changes."
   ]
  },
  {
   "cell_type": "code",
   "execution_count": 6,
   "metadata": {
    "collapsed": false,
    "scrolled": false
   },
   "outputs": [
    {
     "name": "stdout",
     "output_type": "stream",
     "text": [
      " GetValue begin ctx: Root, key: O2@10837c110/O2:delta\n",
      "   GetValue/Calc begin ctx: Root, key: O2@10837c110/O2:delta\n",
      "     GetValue begin ctx: Root, key: O2@10837c110/O2:eps\n",
      "       GetValue/Calc begin ctx: Root, key: O2@10837c110/O2:eps\n",
      "         GetValue/Calc end ctx: Root, key: O2@10837c110/O2:eps\n",
      "       GetValue end value: 0.0001, ctx: Root, key: O2@10837c110/O2:eps\n",
      "     GetValue begin ctx: Root, key: O2@10837c110/O2:upCtx\n",
      "       GetValue/Calc begin ctx: Root, key: O2@10837c110/O2:upCtx\n",
      "         GetValue begin ctx: Root, key: O2@10837c110/O2:X\n",
      "           GetValue/Calc begin ctx: Root, key: O2@10837c110/O2:X\n",
      "             GetValue/Calc end ctx: Root, key: O2@10837c110/O2:X\n",
      "           GetValue end value: 10, ctx: Root, key: O2@10837c110/O2:X\n",
      "         GetValue begin ctx: Root, key: O2@10837c110/O2:eps\n",
      "           GetValue from ctx value: 0.0001, ctx: Root, key: O2@10837c110/O2:eps\n",
      "         Context create ctx: Root:X-up\n",
      "         Context set value: 10.0001, ctx: Root:X-up, key: O2@10837c110/O2:X\n",
      "         GetValue/Calc end ctx: Root, key: O2@10837c110/O2:upCtx\n",
      "       GetValue end value: <mand.context.Con..., ctx: Root, key: O2@10837c110/O2:upCtx\n",
      "     Context enter ctx: Root:X-up\n",
      "       GetValue begin ctx: Root:X-up, key: O2@10837c110/O2:Y\n",
      "         GetValue/Calc begin ctx: Root:X-up, key: O2@10837c110/O2:Y\n",
      "           GetValue begin ctx: Root:X-up, key: O2@10837c110/O2:X\n",
      "             GetValue from ctx value: 10.0001, ctx: Root:X-up, key: O2@10837c110/O2:X\n",
      "           GetValue/Calc end ctx: Root:X-up, key: O2@10837c110/O2:Y\n",
      "         GetValue end value: 1000.0300003, ctx: Root:X-up, key: O2@10837c110/O2:Y\n",
      "     GetValue begin ctx: Root, key: O2@10837c110/O2:downCtx\n",
      "       GetValue/Calc begin ctx: Root, key: O2@10837c110/O2:downCtx\n",
      "         GetValue begin ctx: Root, key: O2@10837c110/O2:X\n",
      "           GetValue from ctx value: 10, ctx: Root, key: O2@10837c110/O2:X\n",
      "         GetValue begin ctx: Root, key: O2@10837c110/O2:eps\n",
      "           GetValue from ctx value: 0.0001, ctx: Root, key: O2@10837c110/O2:eps\n",
      "         Context create ctx: Root:X-down\n",
      "         Context set value: 9.9999, ctx: Root:X-down, key: O2@10837c110/O2:X\n",
      "         GetValue/Calc end ctx: Root, key: O2@10837c110/O2:downCtx\n",
      "       GetValue end value: <mand.context.Con..., ctx: Root, key: O2@10837c110/O2:downCtx\n",
      "     Context enter ctx: Root:X-down\n",
      "       GetValue begin ctx: Root:X-down, key: O2@10837c110/O2:Y\n",
      "         GetValue/Calc begin ctx: Root:X-down, key: O2@10837c110/O2:Y\n",
      "           GetValue begin ctx: Root:X-down, key: O2@10837c110/O2:X\n",
      "             GetValue from ctx value: 9.9999, ctx: Root:X-down, key: O2@10837c110/O2:X\n",
      "           GetValue/Calc end ctx: Root:X-down, key: O2@10837c110/O2:Y\n",
      "         GetValue end value: 999.9700003, ctx: Root:X-down, key: O2@10837c110/O2:Y\n",
      "     GetValue/Calc end ctx: Root, key: O2@10837c110/O2:delta\n",
      "   GetValue end value: 300.000000009, ctx: Root, key: O2@10837c110/O2:delta\n",
      "delta: 300.000000009\n",
      " GetValue begin ctx: Root, key: O2@10837c110/O2:gamma\n",
      "   GetValue/Calc begin ctx: Root, key: O2@10837c110/O2:gamma\n",
      "     GetValue begin ctx: Root, key: O2@10837c110/O2:eps\n",
      "       GetValue from ctx value: 0.0001, ctx: Root, key: O2@10837c110/O2:eps\n",
      "     GetValue begin ctx: Root, key: O2@10837c110/O2:upCtx\n",
      "       GetValue from ctx value: <mand.context.Con..., ctx: Root, key: O2@10837c110/O2:upCtx\n",
      "     Context enter ctx: Root:X-up\n",
      "       GetValue begin ctx: Root:X-up, key: O2@10837c110/O2:delta\n",
      "         GetValue/Calc begin ctx: Root:X-up, key: O2@10837c110/O2:delta\n",
      "           GetValue begin ctx: Root:X-up, key: O2@10837c110/O2:eps\n",
      "             GetValue/Calc begin ctx: Root:X-up, key: O2@10837c110/O2:eps\n",
      "               GetValue/Calc end ctx: Root:X-up, key: O2@10837c110/O2:eps\n",
      "             GetValue end value: 0.0001, ctx: Root:X-up, key: O2@10837c110/O2:eps\n",
      "           GetValue begin ctx: Root:X-up, key: O2@10837c110/O2:upCtx\n",
      "             GetValue/Calc begin ctx: Root:X-up, key: O2@10837c110/O2:upCtx\n",
      "               GetValue begin ctx: Root:X-up, key: O2@10837c110/O2:X\n",
      "                 GetValue from ctx value: 10.0001, ctx: Root:X-up, key: O2@10837c110/O2:X\n",
      "               GetValue begin ctx: Root:X-up, key: O2@10837c110/O2:eps\n",
      "                 GetValue from ctx value: 0.0001, ctx: Root:X-up, key: O2@10837c110/O2:eps\n",
      "               Context create ctx: Root:X-up:X-up\n",
      "               Context set value: 10.0002, ctx: Root:X-up:X-up, key: O2@10837c110/O2:X\n",
      "               GetValue/Calc end ctx: Root:X-up, key: O2@10837c110/O2:upCtx\n",
      "             GetValue end value: <mand.context.Con..., ctx: Root:X-up, key: O2@10837c110/O2:upCtx\n",
      "           Context enter ctx: Root:X-up:X-up\n",
      "             GetValue begin ctx: Root:X-up:X-up, key: O2@10837c110/O2:Y\n",
      "               GetValue/Calc begin ctx: Root:X-up:X-up, key: O2@10837c110/O2:Y\n",
      "                 GetValue begin ctx: Root:X-up:X-up, key: O2@10837c110/O2:X\n",
      "                   GetValue from ctx value: 10.0002, ctx: Root:X-up:X-up, key: O2@10837c110/O2:X\n",
      "                 GetValue/Calc end ctx: Root:X-up:X-up, key: O2@10837c110/O2:Y\n",
      "               GetValue end value: 1000.0600012, ctx: Root:X-up:X-up, key: O2@10837c110/O2:Y\n",
      "           GetValue begin ctx: Root:X-up, key: O2@10837c110/O2:downCtx\n",
      "             GetValue/Calc begin ctx: Root:X-up, key: O2@10837c110/O2:downCtx\n",
      "               GetValue begin ctx: Root:X-up, key: O2@10837c110/O2:X\n",
      "                 GetValue from ctx value: 10.0001, ctx: Root:X-up, key: O2@10837c110/O2:X\n",
      "               GetValue begin ctx: Root:X-up, key: O2@10837c110/O2:eps\n",
      "                 GetValue from ctx value: 0.0001, ctx: Root:X-up, key: O2@10837c110/O2:eps\n",
      "               Context create ctx: Root:X-up:X-down\n",
      "               Context set value: 10.0, ctx: Root:X-up:X-down, key: O2@10837c110/O2:X\n",
      "               GetValue/Calc end ctx: Root:X-up, key: O2@10837c110/O2:downCtx\n",
      "             GetValue end value: <mand.context.Con..., ctx: Root:X-up, key: O2@10837c110/O2:downCtx\n",
      "           Context enter ctx: Root:X-up:X-down\n",
      "             GetValue begin ctx: Root:X-up:X-down, key: O2@10837c110/O2:Y\n",
      "               GetValue/Calc begin ctx: Root:X-up:X-down, key: O2@10837c110/O2:Y\n",
      "                 GetValue begin ctx: Root:X-up:X-down, key: O2@10837c110/O2:X\n",
      "                   GetValue from ctx value: 10.0, ctx: Root:X-up:X-down, key: O2@10837c110/O2:X\n",
      "                 GetValue/Calc end ctx: Root:X-up:X-down, key: O2@10837c110/O2:Y\n",
      "               GetValue end value: 1000.0, ctx: Root:X-up:X-down, key: O2@10837c110/O2:Y\n",
      "           GetValue/Calc end ctx: Root:X-up, key: O2@10837c110/O2:delta\n",
      "         GetValue end value: 300.006000039, ctx: Root:X-up, key: O2@10837c110/O2:delta\n",
      "     GetValue begin ctx: Root, key: O2@10837c110/O2:downCtx\n",
      "       GetValue from ctx value: <mand.context.Con..., ctx: Root, key: O2@10837c110/O2:downCtx\n",
      "     Context enter ctx: Root:X-down\n",
      "       GetValue begin ctx: Root:X-down, key: O2@10837c110/O2:delta\n",
      "         GetValue/Calc begin ctx: Root:X-down, key: O2@10837c110/O2:delta\n",
      "           GetValue begin ctx: Root:X-down, key: O2@10837c110/O2:eps\n",
      "             GetValue/Calc begin ctx: Root:X-down, key: O2@10837c110/O2:eps\n",
      "               GetValue/Calc end ctx: Root:X-down, key: O2@10837c110/O2:eps\n",
      "             GetValue end value: 0.0001, ctx: Root:X-down, key: O2@10837c110/O2:eps\n",
      "           GetValue begin ctx: Root:X-down, key: O2@10837c110/O2:upCtx\n",
      "             GetValue/Calc begin ctx: Root:X-down, key: O2@10837c110/O2:upCtx\n",
      "               GetValue begin ctx: Root:X-down, key: O2@10837c110/O2:X\n",
      "                 GetValue from ctx value: 9.9999, ctx: Root:X-down, key: O2@10837c110/O2:X\n",
      "               GetValue begin ctx: Root:X-down, key: O2@10837c110/O2:eps\n",
      "                 GetValue from ctx value: 0.0001, ctx: Root:X-down, key: O2@10837c110/O2:eps\n",
      "               Context create ctx: Root:X-down:X-up\n",
      "               Context set value: 10.0, ctx: Root:X-down:X-up, key: O2@10837c110/O2:X\n",
      "               GetValue/Calc end ctx: Root:X-down, key: O2@10837c110/O2:upCtx\n",
      "             GetValue end value: <mand.context.Con..., ctx: Root:X-down, key: O2@10837c110/O2:upCtx\n",
      "           Context enter ctx: Root:X-down:X-up\n",
      "             GetValue begin ctx: Root:X-down:X-up, key: O2@10837c110/O2:Y\n",
      "               GetValue/Calc begin ctx: Root:X-down:X-up, key: O2@10837c110/O2:Y\n",
      "                 GetValue begin ctx: Root:X-down:X-up, key: O2@10837c110/O2:X\n",
      "                   GetValue from ctx value: 10.0, ctx: Root:X-down:X-up, key: O2@10837c110/O2:X\n",
      "                 GetValue/Calc end ctx: Root:X-down:X-up, key: O2@10837c110/O2:Y\n",
      "               GetValue end value: 1000.0, ctx: Root:X-down:X-up, key: O2@10837c110/O2:Y\n",
      "           GetValue begin ctx: Root:X-down, key: O2@10837c110/O2:downCtx\n",
      "             GetValue/Calc begin ctx: Root:X-down, key: O2@10837c110/O2:downCtx\n",
      "               GetValue begin ctx: Root:X-down, key: O2@10837c110/O2:X\n",
      "                 GetValue from ctx value: 9.9999, ctx: Root:X-down, key: O2@10837c110/O2:X\n",
      "               GetValue begin ctx: Root:X-down, key: O2@10837c110/O2:eps\n",
      "                 GetValue from ctx value: 0.0001, ctx: Root:X-down, key: O2@10837c110/O2:eps\n",
      "               Context create ctx: Root:X-down:X-down\n",
      "               Context set value: 9.9998, ctx: Root:X-down:X-down, key: O2@10837c110/O2:X\n",
      "               GetValue/Calc end ctx: Root:X-down, key: O2@10837c110/O2:downCtx\n",
      "             GetValue end value: <mand.context.Con..., ctx: Root:X-down, key: O2@10837c110/O2:downCtx\n",
      "           Context enter ctx: Root:X-down:X-down\n",
      "             GetValue begin ctx: Root:X-down:X-down, key: O2@10837c110/O2:Y\n",
      "               GetValue/Calc begin ctx: Root:X-down:X-down, key: O2@10837c110/O2:Y\n",
      "                 GetValue begin ctx: Root:X-down:X-down, key: O2@10837c110/O2:X\n",
      "                   GetValue from ctx value: 9.9998, ctx: Root:X-down:X-down, key: O2@10837c110/O2:X\n",
      "                 GetValue/Calc end ctx: Root:X-down:X-down, key: O2@10837c110/O2:Y\n",
      "               GetValue end value: 999.9400012, ctx: Root:X-down:X-down, key: O2@10837c110/O2:Y\n",
      "           GetValue/Calc end ctx: Root:X-down, key: O2@10837c110/O2:delta\n",
      "         GetValue end value: 299.994000039, ctx: Root:X-down, key: O2@10837c110/O2:delta\n",
      "     GetValue/Calc end ctx: Root, key: O2@10837c110/O2:gamma\n",
      "   GetValue end value: 59.9999992801, ctx: Root, key: O2@10837c110/O2:gamma\n",
      "gamma: 59.9999992801\n"
     ]
    }
   ],
   "source": [
    "class O2(Entity):\n",
    "\n",
    "    @node\n",
    "    def X(self):\n",
    "        return 10\n",
    "    \n",
    "    @node\n",
    "    def Y(self):\n",
    "        return self.X()**3\n",
    "    \n",
    "    @node\n",
    "    def eps(self):\n",
    "        return 1e-4\n",
    "    \n",
    "    @node\n",
    "    def upCtx(self):\n",
    "        x_bump = self.X() + self.eps()\n",
    "        c = Context({self.X: x_bump}, name='X-up')\n",
    "        return c\n",
    "    \n",
    "    @node\n",
    "    def downCtx(self):\n",
    "        x_bump = self.X() - self.eps()\n",
    "        c = Context({self.X: x_bump}, name='X-down')\n",
    "        return c\n",
    "    \n",
    "    @node \n",
    "    def delta(self):\n",
    "        eps = self.eps()\n",
    "        with self.upCtx():\n",
    "            y_up = self.Y()\n",
    "        with self.downCtx():\n",
    "            y_down = self.Y()\n",
    "        return (y_up-y_down)/eps/2\n",
    "    \n",
    "    @node \n",
    "    def gamma(self):\n",
    "        eps = self.eps()\n",
    "        with self.upCtx():\n",
    "            delta_up = self.delta()\n",
    "        with self.downCtx():\n",
    "            delta_down = self.delta()\n",
    "        return (delta_up-delta_down)/eps/2\n",
    "    \n",
    "with PrintMonitor():\n",
    "    o2 = O2()\n",
    "    d = o2.delta()\n",
    "    print 'delta:', d\n",
    "    g = o2.gamma()\n",
    "    print 'gamma:', g"
   ]
  },
  {
   "cell_type": "markdown",
   "metadata": {},
   "source": [
    "## Summary Monitor [Test]\n",
    "\n",
    "This monitor just prints basic summary information about a computation.\n",
    "\n",
    "Note that 6 contexts were created: 2 for the gamma up/down, and then two nested contexts for delta within those gamma\n",
    "contexts."
   ]
  },
  {
   "cell_type": "code",
   "execution_count": 7,
   "metadata": {
    "collapsed": false
   },
   "outputs": [
    {
     "name": "stdout",
     "output_type": "stream",
     "text": [
      "delta: 300.000000009\n",
      "gamma: 59.9999992801\n",
      "Compute activity:\n",
      "               Context:     6\n",
      "              GetValue:    40\n",
      "         GetValue/Calc:    20\n"
     ]
    }
   ],
   "source": [
    "with SummaryMonitor():\n",
    "    o2a = O2()\n",
    "    d = o2a.delta()\n",
    "    print 'delta:', d\n",
    "    g = o2a.gamma()\n",
    "    print 'gamma:', g"
   ]
  }
 ],
 "metadata": {
  "kernelspec": {
   "display_name": "Python 2",
   "language": "python",
   "name": "python2"
  },
  "language_info": {
   "codemirror_mode": {
    "name": "ipython",
    "version": 2
   },
   "file_extension": ".py",
   "mimetype": "text/x-python",
   "name": "python",
   "nbconvert_exporter": "python",
   "pygments_lexer": "ipython2",
   "version": "2.7.13"
  }
 },
 "nbformat": 4,
 "nbformat_minor": 2
}
