{
 "cells": [
  {
   "cell_type": "code",
   "execution_count": 1,
   "metadata": {
    "collapsed": false
   },
   "outputs": [],
   "source": [
    "from mand.core import Entity, node, getNode\n",
    "from mand.core import ObjectDb, Timestamp, Context, SimplificationContext, _tr\n",
    "from mand.core import ProfileMonitor, SummaryMonitor\n",
    "from mand.core import find, addFootnote\n",
    "from mand.core import DependencyManager, setDependencyManager\n",
    "from mand.demos.trading import makeWorld, bookSomeTrades, PnLExplainReport\n",
    "from mand.lib.dbsetup import setUpDb\n",
    "\n",
    "db = ObjectDb()\n",
    "setUpDb(db)"
   ]
  },
  {
   "cell_type": "code",
   "execution_count": 2,
   "metadata": {
    "collapsed": false,
    "scrolled": false
   },
   "outputs": [
    {
     "name": "stdout",
     "output_type": "stream",
     "text": [
      "makeWorld, TopOfTheHouse is: <Entity:/Global/TradingPortfolio/TopOfTheHouse>\n",
      "    # books: 100\n",
      "    # children: 10\n"
     ]
    }
   ],
   "source": [
    "small = False\n",
    "\n",
    "with db:\n",
    "    pWorld = makeWorld(small=small)\n",
    "    \n",
    "pAll, bExt, bExt2 = pWorld.children()\n",
    "p1 = pAll.children()[0]\n",
    "p2 = pAll.children()[1]\n",
    "p4 = pAll.children()[3]\n",
    "\n",
    "b2 = p2.children()[0]\n",
    "b4 = p4.children()[0]"
   ]
  },
  {
   "cell_type": "code",
   "execution_count": 3,
   "metadata": {
    "collapsed": false
   },
   "outputs": [],
   "source": [
    "ts0, ts1, ts2, ts3, ts4, ts5, eod, ts6 = bookSomeTrades(pWorld, small=small)\n",
    "\n",
    "p1.setChildren(p1.children() + [b2])\n",
    "ts7 = Timestamp()"
   ]
  },
  {
   "cell_type": "markdown",
   "metadata": {},
   "source": [
    "# Sanity check of a computation we might want to optimize [Test]\n",
    "\n",
    "The PnL report is a good test, but at 152K getValues, it's a bit too big to immediately use:"
   ]
  },
  {
   "cell_type": "code",
   "execution_count": 4,
   "metadata": {
    "collapsed": false,
    "scrolled": false
   },
   "outputs": [
    {
     "data": {
      "text/markdown": [
       "1. Inadequate cash discounting model used\n",
       "1. Book appears multiple times\n",
       "  * /Global/TradingBook/Eq-Inst0"
      ],
      "text/plain": [
       "<IPython.core.display.Markdown object>"
      ]
     },
     "metadata": {},
     "output_type": "display_data"
    },
    {
     "data": {
      "text/markdown": [
       "# PnL explain for TopOfTheHouse: 6256.00"
      ],
      "text/plain": [
       "<IPython.core.display.Markdown object>"
      ]
     },
     "metadata": {},
     "output_type": "display_data"
    },
    {
     "data": {
      "text/markdown": [
       "**Caveat: this report encountered problems. See footnotes at bottom.**"
      ],
      "text/plain": [
       "<IPython.core.display.Markdown object>"
      ]
     },
     "metadata": {},
     "output_type": "display_data"
    },
    {
     "data": {
      "text/markdown": [
       "|Activity|PnL|\n",
       "|-|-|\n",
       "|Starting balance breaks|0.00\n",
       "|prior day amends: MarketData|0.00\n",
       "|prior day amends: Portfolio|0.00\n",
       "|prior day amends: Trading|-4.00\n",
       "|activity: MarketData|5240.00\n",
       "|activity: Portfolio|1020.00\n",
       "|activity: Trading|0.00\n",
       "|Ending balance breaks|0.00"
      ],
      "text/plain": [
       "<IPython.core.display.Markdown object>"
      ]
     },
     "metadata": {},
     "output_type": "display_data"
    },
    {
     "data": {
      "text/markdown": [
       "1. Inadequate cash discounting model used\n",
       "1. Book appears multiple times\n",
       "  * /Global/TradingBook/Eq-Inst0"
      ],
      "text/plain": [
       "<IPython.core.display.Markdown object>"
      ]
     },
     "metadata": {},
     "output_type": "display_data"
    },
    {
     "data": {
      "text/markdown": [
       "### Compute activity summary (20.16 seconds of wall clock time)"
      ],
      "text/plain": [
       "<IPython.core.display.Markdown object>"
      ]
     },
     "metadata": {},
     "output_type": "display_data"
    },
    {
     "data": {
      "text/markdown": [
       "|key|value|\n",
       "|-|-|\n",
       "|Context|11\n",
       "|Db.Get|2176\n",
       "|GetValue|152158\n",
       "|GetValue/Calc|2891"
      ],
      "text/plain": [
       "<IPython.core.display.Markdown object>"
      ]
     },
     "metadata": {},
     "output_type": "display_data"
    },
    {
     "data": {
      "text/markdown": [
       "\n",
       "### Profile by nodes.\n",
       "* times are in microseconds\n",
       "* cumT is total time spent in funtion\n",
       "* calcT is time spent in function, but not in a child node"
      ],
      "text/plain": [
       "<IPython.core.display.Markdown object>"
      ]
     },
     "metadata": {},
     "output_type": "display_data"
    },
    {
     "data": {
      "text/markdown": [
       "|fn|n|cumT|calcT|cumT/call|sys|\n",
       "|-|-|-|-|-|-|\n",
       "|PnLExplainReport:data|1|20,151,838|21|20,151,838|GetValue\n",
       "|PnLExplainReport:data|1|20,151,816|728|20,151,816|GetValue/Calc\n",
       "|TradingContainer:NPV|11|20,085,814|208|1,825,983|GetValue\n",
       "|TradingContainer:NPV|11|20,085,605|151|1,825,964|GetValue/Calc\n",
       "|Portfolio:items|121|19,913,772|1,382|164,576|GetValue\n",
       "|Portfolio:items|121|19,913,644|1,012|164,575|GetValue/Calc\n",
       "|Workbook:items|1,104|18,917,734|12,959|17,135|GetValue\n",
       "|Workbook:items|1,100|18,904,774|9,966|17,186|GetValue/Calc\n",
       "|PnLExplainReport:cutoffs|1|10,784,425|20|10,784,425|GetValue\n",
       "|PnLExplainReport:cutoffs|1|10,784,404|200|10,784,404|GetValue/Calc\n",
       "|Root:Clocks|548|10,784,109|2,112,904|19,679|Context\n",
       "|TradeOpenEvent|1,014|4,093,029|4,093,029|4,036|Db.Get\n",
       "|TradeOpenEvent:ticket|22,286|3,974,565|134,843|178|GetValue\n",
       "|TradingTicket|1,014|3,839,721|3,839,721|3,786|Db.Get\n",
       "|Root:End|278|1,215,543|1,133,540|4,372|Context\n",
       "|Root:Activity MarketData|255|1,191,975|1,105,004|4,674|Context\n",
       "|Root:Amend Portfolio|255|1,111,562|1,027,677|4,359|Context\n",
       "|Root:Start|270|1,076,786|992,139|3,988|Context\n",
       "|Root:Amend MarketData|255|1,059,138|977,405|4,153|Context\n",
       "|Root:Amend Trading|255|966,240|876,109|3,789|Context\n",
       "|Portfolio:children|242|949,971|1,927|3,925|GetValue\n",
       "|Portfolio:children|121|948,044|1,049|7,835|GetValue/Calc\n",
       "|Root:Activity Portfolio|263|938,414|856,912|3,568|Context\n",
       "|Root:Activity Trading|263|909,926|829,678|3,459|Context\n",
       "|Root:Start breaks|255|892,534|812,054|3,500|Context\n",
       "|PortfolioUpdateEvent:children|121|395,459|3,069|3,268|GetValue\n",
       "|TradingBook|102|368,525|368,525|3,612|Db.Get\n",
       "|Equity:NPV|15|169,267|196|11,284|GetValue\n",
       "|Equity:NPV|15|169,070|119|11,271|GetValue/Calc\n",
       "|MarketInterface:spot|15|159,765|163|10,651|GetValue\n",
       "|MarketInterface:spot|15|159,602|123|10,640|GetValue/Calc\n",
       "|ExternalRefData:state|15|149,026|166|9,935|GetValue\n",
       "|ExternalRefData:state|15|148,860|122|9,924|GetValue/Calc\n",
       "|RefData:state|15|148,287|159|9,885|GetValue\n",
       "|RefData:state|15|148,127|121|9,875|GetValue/Calc\n",
       "|_WorkItemEvent:book1|22,286|123,626|123,626|5|GetValue\n",
       "|_WorkItemEvent:book2|22,286|122,241|114,883|5|GetValue\n",
       "|TradeOpenEvent:quantity|22,286|111,307|111,307|4|GetValue\n",
       "|Clock:cutoffs|2,480|108,248|10,731|43|GetValue\n",
       "|Clock:cutoffs|20|97,615|160|4,880|GetValue/Calc\n",
       "|Clock:parent|20|96,516|201|4,825|GetValue\n",
       "|Clock:parent|20|96,314|193|4,815|GetValue/Calc\n",
       "|_WorkItemEvent:item|11,143|88,830|82,556|7|GetValue\n",
       "|TradeOpenEvent:action|11,143|84,484|84,484|7|GetValue\n",
       "|TradeOpenEvent:premium|11,143|78,810|75,463|7|GetValue\n",
       "|TradeOpenEvent:unitPrice|11,143|67,862|67,862|6|GetValue\n",
       "|Event:amends|11,340|62,973|62,973|5|GetValue\n",
       "|TradingBook:clock|2,200|61,308|23,142|27|GetValue\n",
       "|PortfolioUpdateEvent|12|51,658|51,658|4,304|Db.Get\n",
       "|RefDataUpdateEvent|9|40,671|40,671|4,519|Db.Get\n",
       "|TradingBook:clock|1,100|38,165|13,248|34|GetValue/Calc\n",
       "|TradingPortfolio|10|31,222|31,222|3,122|Db.Get\n",
       "|Clock|5|16,873|16,873|3,374|Db.Get\n",
       "|MarketInterface:source|15|9,629|144|641|GetValue\n",
       "|Portfolio:clock|242|9,544|2,474|39|GetValue\n",
       "|Portfolio:books|231|9,510|2,005|41|GetValue\n",
       "|MarketInterface:source|15|9,484|138|632|GetValue/Calc\n",
       "|Equity:refdata|15|8,510|180|567|GetValue\n",
       "|Equity:refdata|15|8,330|129|555|GetValue/Calc\n",
       "|MarketDataSource|2|8,010|8,010|4,005|Db.Get\n",
       "|Portfolio:books|121|7,968|1,005|65|GetValue/Calc\n",
       "|ClockEvent|2|7,534|7,534|3,767|Db.Get\n",
       "|MarketInterface|2|7,493|7,493|3,746|Db.Get\n",
       "|Portfolio:clock|121|7,069|1,377|58|GetValue/Calc\n",
       "|ClockEvent:parent|8|6,706|118|838|GetValue\n",
       "|Equity|2|6,273|6,273|3,136|Db.Get\n",
       "|MarketDataSource:clock|30|4,621|281|154|GetValue\n",
       "|RootClock|1|4,525|4,525|4,525|Db.Get\n",
       "|MarketDataSource:clock|15|4,339|172|289|GetValue/Calc\n",
       "|ForwardCashflow|1|3,346|3,346|3,346|Db.Get\n",
       "|Entity:clock|40|965|404|24|GetValue\n",
       "|Entity:clock|20|561|232|28|GetValue/Calc\n",
       "|MarketInterface:sourceName|15|429|180|28|GetValue\n",
       "|ForwardCashflow:NPV|11|363|139|33|GetValue\n",
       "|RefDataUpdateEvent:data|58|316|316|5|GetValue\n",
       "|RootClock:cutoffs|53|287|216|5|GetValue\n",
       "|MarketInterface:sourceName|15|248|142|16|GetValue/Calc\n",
       "|ForwardCashflow:NPV|11|223|92|20|GetValue/Calc\n",
       "|Equity:assetName|15|119|119|7|GetValue\n",
       "|RootClock:cutoffs|1|71|38|71|GetValue/Calc\n",
       "|RootClock:cosmicAll|1|18|10|18|GetValue\n",
       "|CosmicAll:dbState|1|14|9|14|GetValue\n",
       "|PnLExplainReport:valuable|2|10|10|5|GetValue\n",
       "|PnLExplainReport:ts2|2|8|8|4|GetValue\n",
       "|PnLExplainReport:ts1|2|8|8|4|GetValue\n",
       "|RootClock:cosmicAll|1|7|7|7|GetValue/Calc\n",
       "|CosmicAll:dbState|1|5|5|5|GetValue/Calc"
      ],
      "text/plain": [
       "<IPython.core.display.Markdown object>"
      ]
     },
     "metadata": {},
     "output_type": "display_data"
    }
   ],
   "source": [
    "db3 = db.copy()\n",
    "p = db3._get(pAll.meta.path())\n",
    "\n",
    "r = PnLExplainReport(valuable=p, ts1=eod, ts2=ts7)\n",
    "\n",
    "with ProfileMonitor():\n",
    "    with SummaryMonitor():\n",
    "        r.run()"
   ]
  },
  {
   "cell_type": "markdown",
   "metadata": {},
   "source": [
    "# Caching/Reusing results\n",
    "\n",
    "Until now, we have just checked to see if the current context contains a value for a node we are asking for, and if so, reuse that.\n",
    "\n",
    "A better approach to caching bound *fn* on *object* in *context0* is:\n",
    "    \n",
    "1. Has fn been tweaked in context0? If so, return that\n",
    "2. Is fn sufficiently trivial that we can avoid managing it as a node?\n",
    "  * If trivial, just treat it as a pure python function and call it\n",
    "  * Meta-data (inputs, outputs, etc) will be given to its caller and callees as appropriate\n",
    "3. Ask object for context1\n",
    "  * *context1* is a simplified version of *context0*\n",
    "  * The default case is just to return *context0*\n",
    "  * IRL, this could actually be a list of contexts or a pattern to match contexts against\n",
    "4. Is fn cached in *context1*? If so, use that\n",
    "5. Compute *fn* in *context1*\n",
    "6. Construct *context2* from the inputs of the computed value\n",
    "7. If *context2* is a subset of *context1*, cache *fn* in *context1*\n",
    "8. Something odd happened\n",
    "  * Footnote the problem as part of computation notes on the node's metadata\n",
    "  * Maybe cache the node anyway in *context2*\n",
    "    * Perhaps *object* will return *context2* as a simplification for future computations?\n",
    "9. Return the value\n",
    "\n",
    "Notes:\n",
    "* Parallel compute of nodes not considered yet\n",
    "* Context simplification (step 3) and input simplification (step 9) are probably intimately related\n",
    "* The split between calculation and caching is nice:\n",
    "  * BAs can write business logic\n",
    "  * Computer scientists can add caching logic where needed\n",
    "* We can use a profiler type object to gather runtime compute cost infomation\n",
    "  * The resulting trace can be used as input to drive step 2 and step 3\n",
    "    "
   ]
  },
  {
   "cell_type": "markdown",
   "metadata": {
    "collapsed": true
   },
   "source": [
    "# Graph Simplification\n",
    "\n",
    "* Very simple input management simplifier: ignore inputs if they are leaves and not tweakable\n",
    "* Simple context simplification: just switch to a simple context for certain known methods"
   ]
  },
  {
   "cell_type": "code",
   "execution_count": 5,
   "metadata": {
    "collapsed": false,
    "scrolled": false
   },
   "outputs": [],
   "source": [
    "class DM1(DependencyManager):\n",
    "    \n",
    "    def __init__(self):\n",
    "        self.contexts = {}\n",
    "        super(DM1, self).__init__()\n",
    "        \n",
    "    def addDep(self, input, output):\n",
    "        if not input.key.tweakable:\n",
    "            if not input.inputs:\n",
    "                return\n",
    "        output.inputs.add(input)\n",
    "        input.outputs.add(output)\n",
    "\n",
    "    def calculated(self, node):\n",
    "        if not node.isSimplified:\n",
    "            return True\n",
    "        ok = True\n",
    "        for input in node.floatingTweakPoints():\n",
    "            addFootnote(text='context simplification failure', info='%s in %s on %s in %s' % (str(node.key), node.ctx.name, str(input.key), input.ctx.name))\n",
    "            ok = False\n",
    "        return ok\n",
    "\n",
    "    def simplify(self, key):\n",
    "        if key.fullName() == 'RefData:state':\n",
    "            obj = key.object()\n",
    "            return (obj.clock().cutoffs,)\n",
    "        if key.fullName() == 'Portfolio:items':\n",
    "            obj = key.object()\n",
    "            obj2 = obj.getObj(_tr.Clock, 'Trading')\n",
    "            return (obj.clock().cutoffs, obj2.cutoffs)\n",
    "        if key.fullName() == 'Workbook:items':\n",
    "            obj = key.object()\n",
    "            return (obj.clock().cutoffs,)\n",
    "        \n",
    "    def getNode(self, ctx, key):\n",
    "        n = ctx._get(key)\n",
    "        if n:\n",
    "            return n\n",
    "        s = self.simplify(key)\n",
    "        if s is not None: \n",
    "            nodes = [ getNode(bm) for bm in s ]\n",
    "            values = [ bm() for bm in s ]\n",
    "            k = [ (n.object(), n.key.fullName(), v) for n, v in zip(nodes, values) ]\n",
    "            cKey = tuple(k)\n",
    "            \n",
    "            if cKey not in self.contexts:\n",
    "                tweaks = dict( [ (bm, v) for bm, v in zip(s, values)])\n",
    "                name = 'simp-%s' % len(self.contexts)\n",
    "                ctx1 = SimplificationContext(tweaks, name)\n",
    "                self.contexts[cKey] = ctx1\n",
    "            ctx1 = self.contexts[cKey]\n",
    "            ret = ctx1.get(key)\n",
    "            ret.isSimplified = True\n",
    "        else:\n",
    "            ret = super(DM1, self).getNode(ctx, key)\n",
    "            ret.isSimplified = False\n",
    "        return ret\n",
    "    \n",
    "dm = DM1()\n",
    "setDependencyManager(dm)\n"
   ]
  },
  {
   "cell_type": "code",
   "execution_count": 6,
   "metadata": {
    "collapsed": false,
    "scrolled": false
   },
   "outputs": [
    {
     "data": {
      "text/markdown": [
       "1. Inadequate cash discounting model used\n",
       "1. Book appears multiple times\n",
       "  * /Global/TradingBook/Eq-Inst0"
      ],
      "text/plain": [
       "<IPython.core.display.Markdown object>"
      ]
     },
     "metadata": {},
     "output_type": "display_data"
    },
    {
     "data": {
      "text/markdown": [
       "# PnL explain for TopOfTheHouse: 6256.00"
      ],
      "text/plain": [
       "<IPython.core.display.Markdown object>"
      ]
     },
     "metadata": {},
     "output_type": "display_data"
    },
    {
     "data": {
      "text/markdown": [
       "**Caveat: this report encountered problems. See footnotes at bottom.**"
      ],
      "text/plain": [
       "<IPython.core.display.Markdown object>"
      ]
     },
     "metadata": {},
     "output_type": "display_data"
    },
    {
     "data": {
      "text/markdown": [
       "|Activity|PnL|\n",
       "|-|-|\n",
       "|Starting balance breaks|0.00\n",
       "|prior day amends: MarketData|0.00\n",
       "|prior day amends: Portfolio|0.00\n",
       "|prior day amends: Trading|-4.00\n",
       "|activity: MarketData|5240.00\n",
       "|activity: Portfolio|1020.00\n",
       "|activity: Trading|0.00\n",
       "|Ending balance breaks|0.00"
      ],
      "text/plain": [
       "<IPython.core.display.Markdown object>"
      ]
     },
     "metadata": {},
     "output_type": "display_data"
    },
    {
     "data": {
      "text/markdown": [
       "1. Inadequate cash discounting model used\n",
       "1. Book appears multiple times\n",
       "  * /Global/TradingBook/Eq-Inst0"
      ],
      "text/plain": [
       "<IPython.core.display.Markdown object>"
      ]
     },
     "metadata": {},
     "output_type": "display_data"
    },
    {
     "data": {
      "text/markdown": [
       "### Compute activity summary (11.85 seconds of wall clock time)"
      ],
      "text/plain": [
       "<IPython.core.display.Markdown object>"
      ]
     },
     "metadata": {},
     "output_type": "display_data"
    },
    {
     "data": {
      "text/markdown": [
       "|key|value|\n",
       "|-|-|\n",
       "|Context|22\n",
       "|Db.Get|2176\n",
       "|GetValue|43372\n",
       "|GetValue/Calc|1531"
      ],
      "text/plain": [
       "<IPython.core.display.Markdown object>"
      ]
     },
     "metadata": {},
     "output_type": "display_data"
    },
    {
     "data": {
      "text/markdown": [
       "\n",
       "### Profile by nodes.\n",
       "* times are in microseconds\n",
       "* cumT is total time spent in funtion\n",
       "* calcT is time spent in function, but not in a child node"
      ],
      "text/plain": [
       "<IPython.core.display.Markdown object>"
      ]
     },
     "metadata": {},
     "output_type": "display_data"
    },
    {
     "data": {
      "text/markdown": [
       "|fn|n|cumT|calcT|cumT/call|sys|\n",
       "|-|-|-|-|-|-|\n",
       "|PnLExplainReport:data|1|11,846,695|14|11,846,695|GetValue\n",
       "|PnLExplainReport:data|1|11,846,681|791|11,846,681|GetValue/Calc\n",
       "|TradingContainer:NPV|11|11,839,647|147|1,076,331|GetValue\n",
       "|TradingContainer:NPV|11|11,839,499|96|1,076,318|GetValue/Calc\n",
       "|Portfolio:items|61|11,658,648|706|191,125|GetValue\n",
       "|Portfolio:items|55|11,658,558|435|211,973|GetValue/Calc\n",
       "|Workbook:items|502|10,935,181|4,531|21,783|GetValue\n",
       "|Workbook:items|300|10,930,649|2,587|36,435|GetValue/Calc\n",
       "|PnLExplainReport:cutoffs|1|10,355,025|15|10,355,025|GetValue\n",
       "|PnLExplainReport:cutoffs|1|10,355,010|239|10,355,010|GetValue/Calc\n",
       "|Root:Clocks|59|10,354,674|40,621|175,502|Context\n",
       "|simp-0|144|9,283,442|53,203|64,468|Context\n",
       "|simp-1|200|8,788,960|870,760|43,944|Context\n",
       "|TradeOpenEvent|1,014|4,262,358|4,262,358|4,203|Db.Get\n",
       "|TradeOpenEvent:ticket|6,078|3,587,952|43,784|590|GetValue\n",
       "|TradingTicket|1,014|3,544,168|3,544,168|3,495|Db.Get\n",
       "|Root:Amend Trading|11|1,323,709|662|120,337|Context\n",
       "|simp-8|144|1,322,815|53,334|9,186|Context\n",
       "|simp-9|200|1,263,390|1,184,268|6,316|Context\n",
       "|simp-3|144|939,297|57,411|6,522|Context\n",
       "|simp-4|200|875,711|794,002|4,378|Context\n",
       "|Portfolio:children|110|654,912|978|5,953|GetValue\n",
       "|Portfolio:children|55|653,933|490|11,889|GetValue/Calc\n",
       "|PortfolioUpdateEvent:children|55|386,851|2,119|7,033|GetValue\n",
       "|TradingBook|102|356,624|356,624|3,496|Db.Get\n",
       "|Equity:NPV|15|114,489|185|7,632|GetValue\n",
       "|Equity:NPV|15|114,304|115|7,620|GetValue/Calc\n",
       "|MarketInterface:spot|15|105,030|156|7,002|GetValue\n",
       "|MarketInterface:spot|15|104,873|122|6,991|GetValue/Calc\n",
       "|Clock:cutoffs|1,365|96,450|5,630|70|GetValue\n",
       "|ExternalRefData:state|15|95,462|160|6,364|GetValue\n",
       "|ExternalRefData:state|15|95,301|123|6,353|GetValue/Calc\n",
       "|Clock:cutoffs|20|90,895|155|4,544|GetValue/Calc\n",
       "|Clock:parent|20|89,791|215|4,489|GetValue\n",
       "|Clock:parent|20|89,576|176|4,478|GetValue/Calc\n",
       "|Root:Activity Portfolio|18|57,476|824|3,193|Context\n",
       "|Root:Amend Portfolio|11|57,438|597|5,221|Context\n",
       "|simp-7|144|56,633|52,619|393|Context\n",
       "|simp-10|144|56,323|51,754|391|Context\n",
       "|RefData:state|15|52,411|108|3,494|GetValue\n",
       "|RefData:state|4|52,302|30|13,075|GetValue/Calc\n",
       "|PortfolioUpdateEvent|12|49,154|49,154|4,096|Db.Get\n",
       "|_WorkItemEvent:book2|6,078|38,256|31,552|6|GetValue\n",
       "|RefDataUpdateEvent|9|36,016|36,016|4,001|Db.Get\n",
       "|TradingPortfolio|10|34,811|34,811|3,481|Db.Get\n",
       "|_WorkItemEvent:book1|6,078|34,079|34,079|5|GetValue\n",
       "|_WorkItemEvent:item|3,039|32,578|25,226|10|GetValue\n",
       "|TradingBook:clock|1,102|31,169|12,233|28|GetValue\n",
       "|TradeOpenEvent:quantity|6,078|29,858|29,858|4|GetValue\n",
       "|simp-5|4|26,767|7,587|6,691|Context\n",
       "|TradeOpenEvent:premium|3,039|24,013|20,832|7|GetValue\n",
       "|TradeOpenEvent:action|3,039|22,924|22,924|7|GetValue\n",
       "|simp-2|2|21,348|4,215|10,674|Context\n",
       "|Root:End|33|20,628|19,659|625|Context\n",
       "|Root:Start|26|20,039|19,367|770|Context\n",
       "|TradingBook:clock|800|18,936|7,360|23|GetValue/Calc\n",
       "|TradeOpenEvent:unitPrice|3,039|18,420|18,420|6|GetValue\n",
       "|Clock|5|18,377|18,377|3,675|Db.Get\n",
       "|Event:amends|3,122|17,261|17,261|5|GetValue\n",
       "|ClockEvent|2|9,022|9,022|4,511|Db.Get\n",
       "|MarketInterface:source|15|8,389|149|559|GetValue\n",
       "|Equity:refdata|15|8,242|190|549|GetValue\n",
       "|MarketInterface:source|15|8,239|115|549|GetValue/Calc\n",
       "|Equity:refdata|15|8,051|123|536|GetValue/Calc\n",
       "|Equity|2|7,351|7,351|3,675|Db.Get\n",
       "|MarketInterface|2|7,228|7,228|3,614|Db.Get\n",
       "|MarketDataSource|2|6,993|6,993|3,496|Db.Get\n",
       "|ClockEvent:parent|8|6,688|86|836|GetValue\n",
       "|Portfolio:clock|171|6,396|1,407|37|GetValue\n",
       "|Root:Amend MarketData|11|5,120|698|465|Context\n",
       "|Portfolio:clock|66|4,989|556|75|GetValue/Calc\n",
       "|simp-6|2|4,155|4,082|2,077|Context\n",
       "|MarketDataSource:clock|23|4,130|226|179|GetValue\n",
       "|Portfolio:books|105|3,943|909|37|GetValue\n",
       "|MarketDataSource:clock|19|3,903|163|205|GetValue/Calc\n",
       "|RootClock|1|3,488|3,488|3,488|Db.Get\n",
       "|Portfolio:books|55|3,214|527|58|GetValue/Calc\n",
       "|ForwardCashflow|1|3,181|3,181|3,181|Db.Get\n",
       "|Root:Activity Trading|18|1,038|725|57|Context\n",
       "|Root:Activity MarketData|11|955|729|86|Context\n",
       "|Root:Start breaks|11|955|663|86|Context\n",
       "|Entity:clock|40|938|399|23|GetValue\n",
       "|Entity:clock|20|539|226|26|GetValue/Calc\n",
       "|MarketInterface:sourceName|15|512|190|34|GetValue\n",
       "|ForwardCashflow:NPV|11|357|146|32|GetValue\n",
       "|MarketInterface:sourceName|15|321|241|21|GetValue/Calc\n",
       "|RootClock:cutoffs|53|287|212|5|GetValue\n",
       "|ForwardCashflow:NPV|11|211|86|19|GetValue/Calc\n",
       "|Equity:assetName|15|115|115|7|GetValue\n",
       "|RefDataUpdateEvent:data|15|80|80|5|GetValue\n",
       "|RootClock:cutoffs|1|75|41|75|GetValue/Calc\n",
       "|RootClock:cosmicAll|1|19|10|19|GetValue\n",
       "|CosmicAll:dbState|1|15|11|15|GetValue\n",
       "|PnLExplainReport:valuable|2|10|10|5|GetValue\n",
       "|RootClock:cosmicAll|1|9|9|9|GetValue/Calc\n",
       "|PnLExplainReport:ts2|2|9|9|4|GetValue\n",
       "|PnLExplainReport:ts1|2|7|7|3|GetValue\n",
       "|CosmicAll:dbState|1|3|3|3|GetValue/Calc"
      ],
      "text/plain": [
       "<IPython.core.display.Markdown object>"
      ]
     },
     "metadata": {},
     "output_type": "display_data"
    }
   ],
   "source": [
    "db4 = db.copy()\n",
    "valuable = db4.get(pAll.meta.path())\n",
    "\n",
    "r = PnLExplainReport(valuable=valuable, ts1=eod, ts2=ts7)\n",
    "with ProfileMonitor():\n",
    "    with SummaryMonitor():\n",
    "        r.run()"
   ]
  },
  {
   "cell_type": "code",
   "execution_count": 7,
   "metadata": {
    "collapsed": false,
    "scrolled": false
   },
   "outputs": [
    {
     "name": "stdout",
     "output_type": "stream",
     "text": [
      "\n",
      "simp-0\n",
      "     (<Entity:/Global/Clock/Portfolio>, 'Clock:cutoffs', <TS:t=2017-03-30T09:18:37.409089,v=2017-03-30T09:18:37.409086>)\n",
      "     (<Entity:/Global/Clock/Trading>, 'Clock:cutoffs', <TS:t=2017-03-30T09:18:37.409089,v=2017-03-30T09:18:37.409086>)\n",
      "         <Node: /Global/Clock/Portfolio.(Clock:cutoffs)() in simp-0 @4657025296>\n",
      "         <Node: /Global/Clock/Trading.(Clock:cutoffs)() in simp-0 @4657026576>\n",
      "\n",
      "simp-1\n",
      "     (<Entity:/Global/Clock/Trading>, 'Clock:cutoffs', <TS:t=2017-03-30T09:18:37.409089,v=2017-03-30T09:18:37.409086>)\n",
      "         <Node: /Global/Clock/Trading.(Clock:cutoffs)() in simp-1 @4657028752>\n",
      "\n",
      "simp-10\n",
      "     (<Entity:/Global/Clock/Portfolio>, 'Clock:cutoffs', <TS:t=2017-03-30T09:18:37.466466,v=2017-03-30T09:18:37.466464>)\n",
      "     (<Entity:/Global/Clock/Trading>, 'Clock:cutoffs', <TS:t=2017-03-30T09:18:37.466466,v=2017-03-30T09:18:37.409086>)\n",
      "         <Node: /Global/Clock/Trading.(Clock:cutoffs)() in simp-10 @4920306960>\n",
      "         <Node: /Global/Clock/Portfolio.(Clock:cutoffs)() in simp-10 @4920307024>\n",
      "\n",
      "simp-2\n",
      "     (<Entity:/Global/Clock/MarketData>, 'Clock:cutoffs', <TS:t=2017-03-30T09:18:37.409089,v=2017-03-30T09:18:37.409086>)\n",
      "         <Node: /Global/Clock/MarketData.(Clock:cutoffs)() in simp-2 @4882340624>\n",
      "\n",
      "simp-3\n",
      "     (<Entity:/Global/Clock/Portfolio>, 'Clock:cutoffs', <TS:t=2017-03-30T09:18:37.466466,v=2017-03-30T09:18:37.466464>)\n",
      "     (<Entity:/Global/Clock/Trading>, 'Clock:cutoffs', <TS:t=2017-03-30T09:18:37.466466,v=2017-03-30T09:18:37.466464>)\n",
      "         <Node: /Global/Clock/Portfolio.(Clock:cutoffs)() in simp-3 @4882449552>\n",
      "         <Node: /Global/Clock/Trading.(Clock:cutoffs)() in simp-3 @4882449296>\n",
      "\n",
      "simp-4\n",
      "     (<Entity:/Global/Clock/Trading>, 'Clock:cutoffs', <TS:t=2017-03-30T09:18:37.466466,v=2017-03-30T09:18:37.466464>)\n",
      "         <Node: /Global/Clock/Trading.(Clock:cutoffs)() in simp-4 @4882397264>\n",
      "\n",
      "simp-5\n",
      "     (<Entity:/Global/Clock/MarketData>, 'Clock:cutoffs', <TS:t=2017-03-30T09:18:37.466466,v=2017-03-30T09:18:37.466464>)\n",
      "         <Node: /Global/Clock/MarketData.(Clock:cutoffs)() in simp-5 @4901012496>\n",
      "\n",
      "simp-6\n",
      "     (<Entity:/Global/Clock/MarketData>, 'Clock:cutoffs', <TS:t=2017-03-30T09:18:37.466466,v=2017-03-30T09:18:37.409086>)\n",
      "         <Node: /Global/Clock/MarketData.(Clock:cutoffs)() in simp-6 @4901634640>\n",
      "\n",
      "simp-7\n",
      "     (<Entity:/Global/Clock/Portfolio>, 'Clock:cutoffs', <TS:t=2017-03-30T09:18:37.466466,v=2017-03-30T09:18:37.409086>)\n",
      "     (<Entity:/Global/Clock/Trading>, 'Clock:cutoffs', <TS:t=2017-03-30T09:18:37.409089,v=2017-03-30T09:18:37.409086>)\n",
      "         <Node: /Global/Clock/Portfolio.(Clock:cutoffs)() in simp-7 @4901637200>\n",
      "         <Node: /Global/Clock/Trading.(Clock:cutoffs)() in simp-7 @4901637328>\n",
      "\n",
      "simp-8\n",
      "     (<Entity:/Global/Clock/Portfolio>, 'Clock:cutoffs', <TS:t=2017-03-30T09:18:37.466466,v=2017-03-30T09:18:37.409086>)\n",
      "     (<Entity:/Global/Clock/Trading>, 'Clock:cutoffs', <TS:t=2017-03-30T09:18:37.466466,v=2017-03-30T09:18:37.409086>)\n",
      "         <Node: /Global/Clock/Portfolio.(Clock:cutoffs)() in simp-8 @4901924624>\n",
      "         <Node: /Global/Clock/Trading.(Clock:cutoffs)() in simp-8 @4901924752>\n",
      "\n",
      "simp-9\n",
      "     (<Entity:/Global/Clock/Trading>, 'Clock:cutoffs', <TS:t=2017-03-30T09:18:37.466466,v=2017-03-30T09:18:37.409086>)\n",
      "         <Node: /Global/Clock/Trading.(Clock:cutoffs)() in simp-9 @4901989392>\n"
     ]
    }
   ],
   "source": [
    "for k, ctx in sorted(dm.contexts.items(), key=lambda x: x[1].name):\n",
    "    print\n",
    "    print ctx.name\n",
    "    for t in k:\n",
    "        print '    ', t\n",
    "    for t in ctx.tweaks:\n",
    "        print '        ', t"
   ]
  }
 ],
 "metadata": {
  "kernelspec": {
   "display_name": "Python 2",
   "language": "python",
   "name": "python2"
  },
  "language_info": {
   "codemirror_mode": {
    "name": "ipython",
    "version": 2
   },
   "file_extension": ".py",
   "mimetype": "text/x-python",
   "name": "python",
   "nbconvert_exporter": "python",
   "pygments_lexer": "ipython2",
   "version": "2.7.13"
  }
 },
 "nbformat": 4,
 "nbformat_minor": 2
}
