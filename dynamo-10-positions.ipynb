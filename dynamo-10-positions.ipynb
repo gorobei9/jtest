{
 "cells": [
  {
   "cell_type": "markdown",
   "metadata": {},
   "source": [
    "# A Toy Trading System [Test]\n",
    "\n",
    "I wanted to work on the node class, but that's hard without having an application/demo that is meaty enough to\n",
    "work with.\n",
    "\n",
    "So, here's a toy front-office position management, pricing, and risk system:"
   ]
  },
  {
   "cell_type": "code",
   "execution_count": 1,
   "metadata": {
    "collapsed": false
   },
   "outputs": [],
   "source": [
    "import mand.core\n",
    "\n",
    "from mand.core import Entity, node, Context\n",
    "\n",
    "from mand.core import ObjectDb, DynamoDbDriver, ddb, _tr, Timestamp, Context, _DBO\n",
    "from mand.core import PrintMonitor, SummaryMonitor, ProfileMonitor\n",
    "from mand.lib.refdata import RefData, RefDataUpdateEvent\n",
    "from mand.lib.extrefdata import ExternalRefData, dataField\n",
    "from mand.lib.workflow import Workbook, WorkItemOpenEvent, WorkItem\n",
    "from mand.lib.portfolio import Portfolio\n",
    "from mand.core import displayTable, displayDict, displayMarkdown, num, find\n",
    "import datetime\n",
    "\n",
    "db = ObjectDb()"
   ]
  },
  {
   "cell_type": "markdown",
   "metadata": {},
   "source": [
    "## Books and Portfolios [BA]\n",
    "\n",
    "These are just workflow entities that support a net present value function. As long as items in books are valuable\n",
    "(in the sense of implementing NPV) then everything just works."
   ]
  },
  {
   "cell_type": "code",
   "execution_count": 2,
   "metadata": {
    "collapsed": false
   },
   "outputs": [],
   "source": [
    "class TradingBook(Workbook):\n",
    "    @node\n",
    "    def NPV(self):\n",
    "        ret = 0\n",
    "        for i, q in self.items().items():\n",
    "            #print i, i.name(), i.NPV(), q, i.NPV()*q\n",
    "            ### XXX - why is market risk report seeing q as a float?\n",
    "            ret += i.NPV() * num(q)\n",
    "        return ret\n",
    "\n",
    "class TradingPortfolio(Portfolio):\n",
    "    @node\n",
    "    def NPV(self):\n",
    "        ret = 0\n",
    "        for i, q in self.items().items():\n",
    "            ret += i.NPV() * num(q)\n",
    "        return ret\n",
    "    \n",
    "_tr.add(TradingBook)\n",
    "_tr.add(TradingPortfolio)"
   ]
  },
  {
   "cell_type": "markdown",
   "metadata": {},
   "source": [
    "## Building a tree of bank-side accounts [User]\n",
    "\n",
    "Here, we build a tree of 100 books, grouped under 10 sub-portfolios, rooted in one top-level portfolio.\n",
    "\n",
    "In a real bank, we might have hundreds of thousands of books, grouped 10 levels deep. in multiple different trees. \n",
    "Plus millions of customer books grouped in various portfolio trees."
   ]
  },
  {
   "cell_type": "code",
   "execution_count": 3,
   "metadata": {
    "collapsed": false
   },
   "outputs": [
    {
     "name": "stdout",
     "output_type": "stream",
     "text": [
      "<__main__.TradingPortfolio object at 0x10a96ddd0>\n",
      "# books: 100\n",
      "# children: 10\n"
     ]
    }
   ],
   "source": [
    "def makeTree(names):\n",
    "    ret = []\n",
    "    for name in names:\n",
    "        subs = [ TradingBook(name+str(i)) for i in range(10) ]\n",
    "        p = TradingPortfolio(name).write()\n",
    "        p.setChildren(subs)\n",
    "        ret.append(p)\n",
    "    return ret\n",
    "\n",
    "with db:\n",
    "    pAll = TradingPortfolio('TopOfTheHouse').write()\n",
    "    subs = makeTree(['FX', 'Rates', 'Credit', 'Eq-Prop', 'Delta1', 'Eq-Inst', 'Loans', 'Commod', 'ETFs', 'Mtge'])\n",
    "    pAll.setChildren(subs)\n",
    "    \n",
    "print pAll\n",
    "print '# books:', len(pAll.books())\n",
    "print '# children:', len(pAll.children())"
   ]
  },
  {
   "cell_type": "markdown",
   "metadata": {},
   "source": [
    "## Checking execution counts [Test]\n",
    "\n",
    "We have 11 portfolios, 100 books. We should get node calculation counts that reflect this..."
   ]
  },
  {
   "cell_type": "code",
   "execution_count": 4,
   "metadata": {
    "collapsed": false,
    "scrolled": false
   },
   "outputs": [
    {
     "name": "stdout",
     "output_type": "stream",
     "text": [
      "100\n"
     ]
    },
    {
     "data": {
      "text/markdown": [
       "Profile by nodes.\n",
       "* times are in microseconds\n",
       "* cumT is total time spent in funtion\n",
       "* calcT is time spent in function, but not in a child node"
      ],
      "text/plain": [
       "<IPython.core.display.Markdown object>"
      ]
     },
     "metadata": {},
     "output_type": "display_data"
    },
    {
     "data": {
      "text/markdown": [
       "|fn|n|cumT|calcT|cumT/call|sys|\n",
       "|-|-|-|-|-|-|\n",
       "|Portfolio:books|11|435,639|102|39,603|GetValue\n",
       "|Portfolio:books|11|435,536|503|39,594|GetValue/Calc\n",
       "|Portfolio:children|11|230,722|114|20,974|GetValue\n",
       "|Portfolio:children|11|230,607|19,666|20,964|GetValue/Calc\n",
       "|PortfolioUpdateEvent:children|11|180,107|978|16,373|GetValue\n",
       "|TradingBook|100|162,189|162,189|1,621|Db.Get\n",
       "|PortfolioUpdateEvent|11|26,485|26,485|2,407|Db.Get\n",
       "|TradingPortfolio|10|16,939|16,939|1,693|Db.Get\n",
       "|RootClock|1|4,159|4,159|4,159|Db.Get\n",
       "|Clock:cutoffs|22|2,145|76|97|GetValue\n",
       "|Portfolio:clock|22|2,133|168|96|GetValue\n",
       "|Clock:cutoffs|1|2,069|18|2,069|GetValue/Calc\n",
       "|Clock:parent|1|2,048|8|2,048|GetValue\n",
       "|Clock:parent|1|2,040|1,960|2,040|GetValue/Calc\n",
       "|Portfolio:clock|11|1,965|161|178|GetValue/Calc\n",
       "|Clock|1|1,804|1,804|1,804|Db.Get\n",
       "|CosmicAll|1|1,786|1,786|1,786|Db.Get\n",
       "|Event:amends|11|71|71|6|GetValue\n",
       "|RootClock:cutoffs|3|57|11|19|GetValue\n",
       "|RootClock:cutoffs|1|45|22|45|GetValue/Calc\n",
       "|Entity:clock|2|25|15|12|GetValue\n",
       "|RootClock:cosmicAll|1|14|8|14|GetValue\n",
       "|Entity:clock|1|9|9|9|GetValue/Calc\n",
       "|CosmicAll:dbState|1|8|5|8|GetValue\n",
       "|RootClock:cosmicAll|1|5|5|5|GetValue/Calc\n",
       "|CosmicAll:dbState|1|2|2|2|GetValue/Calc"
      ],
      "text/plain": [
       "<IPython.core.display.Markdown object>"
      ]
     },
     "metadata": {},
     "output_type": "display_data"
    }
   ],
   "source": [
    "with ProfileMonitor(mode='sum'):\n",
    "    db2 = db.copy()\n",
    "    p = db2._get(pAll.meta.path())\n",
    "    print len(p.books())"
   ]
  },
  {
   "cell_type": "markdown",
   "metadata": {},
   "source": [
    "## A few books [Test]\n",
    "\n",
    "We also create two customers' books.\n",
    "\n",
    "Pretend *p1* is one of our trading desks, *p2* is another. "
   ]
  },
  {
   "cell_type": "code",
   "execution_count": 5,
   "metadata": {
    "collapsed": false
   },
   "outputs": [
    {
     "name": "stdout",
     "output_type": "stream",
     "text": [
      "Customer1\n",
      "Eq-Prop4\n",
      "Eq-Inst7\n"
     ]
    }
   ],
   "source": [
    "with db:\n",
    "    bExt = _tr.TradingBook('Customer1')\n",
    "    bExt2 = _tr.TradingBook('Customer2')\n",
    "    \n",
    "p1 = pAll.children()[3]\n",
    "p2 = pAll.children()[5]\n",
    "\n",
    "b1 = p1.children()[4]\n",
    "b2 = p2.children()[7]\n",
    "\n",
    "print bExt.meta.name()\n",
    "print b1.meta.name()\n",
    "print b2.meta.name()\n",
    "\n"
   ]
  },
  {
   "cell_type": "markdown",
   "metadata": {},
   "source": [
    "## Tracking Market Data [DBA]\n",
    "\n",
    "For now, just save incoming market observations as reference data. \n",
    "\n",
    "In reality, we'd have billions of observations per day on millions of data sources."
   ]
  },
  {
   "cell_type": "code",
   "execution_count": 6,
   "metadata": {
    "collapsed": false
   },
   "outputs": [],
   "source": [
    "class MarketDataSource(ExternalRefData):\n",
    "    @dataField\n",
    "    def last(self):\n",
    "        return None\n",
    "    \n",
    "_tr.add(MarketDataSource)"
   ]
  },
  {
   "cell_type": "markdown",
   "metadata": {},
   "source": [
    "## Making some data sources [Test]\n",
    "\n",
    "Two pretend data sources: IBM and Google last trade prices."
   ]
  },
  {
   "cell_type": "code",
   "execution_count": 7,
   "metadata": {
    "collapsed": false
   },
   "outputs": [
    {
     "name": "stdout",
     "output_type": "stream",
     "text": [
      "175.61\n",
      "852.12\n"
     ]
    }
   ],
   "source": [
    "with db:\n",
    "    s1_ibm  = MarketDataSource('source1.IBM')\n",
    "    s1_goog = MarketDataSource('source1.GOOG')\n",
    "\n",
    "s1_ibm.update(last=175.61)\n",
    "s1_goog.update(last=852.12)\n",
    "\n",
    "print s1_ibm.last()\n",
    "print s1_goog.last()"
   ]
  },
  {
   "cell_type": "markdown",
   "metadata": {},
   "source": [
    "## Market Interface [DBA]\n",
    "\n",
    "How user code accesses market data. \n",
    "\n",
    "In reality, market interfaces would be choosing amongst raw data sources,\n",
    "providing bootstrapped curves, vol surfaces, etc."
   ]
  },
  {
   "cell_type": "code",
   "execution_count": 8,
   "metadata": {
    "collapsed": false
   },
   "outputs": [],
   "source": [
    "class MarketInterface(Entity):\n",
    "    \n",
    "    @node\n",
    "    def sourceName(self):\n",
    "        return 'source1'\n",
    "    \n",
    "    @node\n",
    "    def source(self):\n",
    "        return self.getObj(_tr.MarketDataSource, '%s.%s' % (self.sourceName(), self.meta.name()))\n",
    "    \n",
    "    @node\n",
    "    def spot(self):\n",
    "        return self.source().last()\n",
    "                           \n",
    "    \n",
    "_tr.add(MarketInterface)\n"
   ]
  },
  {
   "cell_type": "markdown",
   "metadata": {},
   "source": [
    "## Making some market interfaces [Test]"
   ]
  },
  {
   "cell_type": "code",
   "execution_count": 9,
   "metadata": {
    "collapsed": false
   },
   "outputs": [
    {
     "name": "stdout",
     "output_type": "stream",
     "text": [
      "175.61 <class 'decimal.Decimal'>\n",
      "852.12 <class 'decimal.Decimal'>\n"
     ]
    }
   ],
   "source": [
    "with db:\n",
    "    ibm  = MarketInterface('IBM')\n",
    "    goog = MarketInterface('GOOG')\n",
    "\n",
    "print ibm.spot(), type(ibm.spot())\n",
    "print goog.spot(), type(goog.spot())"
   ]
  },
  {
   "cell_type": "markdown",
   "metadata": {},
   "source": [
    "## Instruments [BA]\n",
    "\n",
    "Things we can own/have contracted. Instruments have an NPV.\n",
    "\n",
    "We implement two classes of instrument:\n",
    "* ForwardCashflow: money that will arrive at some future time\n",
    "* Equity: a share of common stock in a company\n",
    "    \n",
    "Both implementations are toys."
   ]
  },
  {
   "cell_type": "code",
   "execution_count": 10,
   "metadata": {
    "collapsed": false
   },
   "outputs": [],
   "source": [
    "class Instrument(WorkItem):\n",
    "    \"\"\"A thing that can be owned, an asset, or legal obligation\"\"\"\n",
    "    \n",
    "class ForwardCashflow(Instrument):\n",
    "    \n",
    "    @node(stored=True)\n",
    "    def currency(self):\n",
    "        return 'USD'\n",
    "    \n",
    "    @node(stored=True)\n",
    "    def settlementDatetime(self):\n",
    "        d = datetime.datetime.utcnow() + datetime.timedelta(2)\n",
    "        return d\n",
    "    \n",
    "    @node\n",
    "    def NPV(self):\n",
    "        # XXX - would really get the currency discount curve here, and discount according to \n",
    "        # current time/settlement time\n",
    "        # XXX - and do a conversion to our native currency\n",
    "        return 1\n",
    "    \n",
    "    @node\n",
    "    def name(self):\n",
    "        return 'Cash %s/%s' % (self.currency(), self.settlementDatetime())\n",
    "    \n",
    "class Equity(Instrument):\n",
    "    \n",
    "    @node(stored=True)\n",
    "    def assetName(self):\n",
    "        return 'IBM.Eq.1'\n",
    "    \n",
    "    @node\n",
    "    def NPV(self):\n",
    "        return self.refdata().spot()\n",
    "    \n",
    "    @node\n",
    "    def refdata(self):\n",
    "        return self.getObj(_tr.MarketInterface, self.assetName().split('.')[0])\n",
    "\n",
    "    @node\n",
    "    def name(self):\n",
    "        return 'Stock: %s' % self.assetName()\n",
    "    \n",
    "_tr.add(ForwardCashflow)\n",
    "_tr.add(Equity)"
   ]
  },
  {
   "cell_type": "markdown",
   "metadata": {},
   "source": [
    "## TradeOpenEvent [BA]\n",
    "\n",
    "An event/observation that represents buying or selling something.\n",
    "\n",
    "Someone gets *quantity* of *item*, and pays *unitPrice* of *premium* for each *item*.\n",
    "\n",
    "Note that *premium* is typically a *ForwardCashflow*, so the money settles T+2. From a risk/PnL point\n",
    "of view, we get the asset immediately. This is a gross over-simplification."
   ]
  },
  {
   "cell_type": "code",
   "execution_count": 11,
   "metadata": {
    "collapsed": false
   },
   "outputs": [],
   "source": [
    "class TradeOpenEvent(WorkItemOpenEvent):\n",
    "    @node(stored=True)\n",
    "    def action(self):\n",
    "        return 'Buy'\n",
    "    @node(stored=True)\n",
    "    def quantity(self):\n",
    "        return 1.\n",
    "    @node(stored=True)\n",
    "    def premium(self):\n",
    "        return None\n",
    "    @node(stored=True)\n",
    "    def unitPrice(self):\n",
    "        return 0.\n",
    "    \n",
    "    def _items(self):\n",
    "        bs = 1 if self.action() == 'Buy' else -1\n",
    "        pq = -bs * self.unitPrice() * self.quantity()\n",
    "        return [ [ self.ticket(), self.item(),    bs*self.quantity(), self.book1(), self.book2() ],\n",
    "                 [ self.ticket(), self.premium(), pq,                 self.book1(), self.book2() ]\n",
    "               ] \n",
    "\n",
    "_tr.add(TradeOpenEvent)"
   ]
  },
  {
   "cell_type": "markdown",
   "metadata": {},
   "source": [
    "## Let's book some trades [Test]"
   ]
  },
  {
   "cell_type": "code",
   "execution_count": 12,
   "metadata": {
    "collapsed": true
   },
   "outputs": [],
   "source": [
    "with db:\n",
    "    cf1 = ForwardCashflow()\n",
    "    ins1 = Equity()\n",
    "    ins2 = Equity(assetName='GOOG.Eq.1')\n",
    "    \n",
    "    ts1 = Timestamp()\n",
    "    \n",
    "    ev1 = TradeOpenEvent(action='Buy',\n",
    "                         item=ins1,\n",
    "                         quantity=100,\n",
    "                         premium=cf1,\n",
    "                         unitPrice=175.65,\n",
    "                         book1=b1,\n",
    "                         book2=bExt).write()\n",
    "    \n",
    "    ts2 = Timestamp()\n",
    "    \n",
    "    s1_ibm.update(last=175.64)\n",
    "    \n",
    "    ts3 = Timestamp()\n",
    "    \n",
    "    ev2 = TradeOpenEvent(action='Buy',\n",
    "                         item=ins2,\n",
    "                         quantity=300,\n",
    "                         premium=cf1,\n",
    "                         unitPrice=852.12,\n",
    "                         book1=b2,\n",
    "                         book2=bExt).write()\n",
    "    \n",
    "    ev3 = TradeOpenEvent(action='Sell',\n",
    "                         item=ins1,\n",
    "                         quantity=100,\n",
    "                         premium=cf1,\n",
    "                         unitPrice=175.85,\n",
    "                         book1=b2,\n",
    "                         book2=bExt2).write()\n",
    "    \n",
    "    ts4 = Timestamp()\n",
    "    \n",
    "    s1_ibm.update(last=175.70)\n",
    "    s1_goog.update(last=852.11)\n",
    "    \n",
    "    ts5 = Timestamp()\n",
    "    \n",
    "    s1_ibm.update(last=175.68)\n",
    "    s1_goog.update(last=852.13)\n",
    "    \n",
    "    eod = Timestamp()\n",
    "    \n",
    "    ev4 = TradeOpenEvent(action='Buy',\n",
    "                         item=ins1,\n",
    "                         quantity=100,\n",
    "                         premium=cf1,\n",
    "                         unitPrice=175.69,\n",
    "                         book1=b1,\n",
    "                         book2=bExt,\n",
    "                         amends=ev1,\n",
    "                         message='Sorry, the broker says you actually paid 69. signed: the middle office'\n",
    "                        ).write(validTime=ev1.meta._timestamp.validTime)\n",
    "    \n",
    "    s1_ibm.update(last=177.68)\n",
    "    s1_goog.update(last=856.13)\n",
    "    \n",
    "    ts6 = Timestamp()\n",
    "    "
   ]
  },
  {
   "cell_type": "markdown",
   "metadata": {},
   "source": [
    "# Reporting [User]\n",
    "\n",
    "Reporting is the whole point of the Abstract Nonsense Db.\n",
    "\n",
    "We ignore all the standard report infrastructure goop (aggregation, GUIs, pivot-tables, drill-down, etc) and\n",
    "just focus on extracting the underlying data.\n",
    "\n",
    "For the following examples, we mostly care about NPV (the present values of what we own,) \n",
    "PnL (how much money we made or lost,) and risk (what happens to our NPV if underlying conditions change.)\n",
    "\n",
    "Note that even in the trivial case of our three trades, one amendment, and several market data updates, trying to write\n",
    "code to attribute profit, or even trying to figure it by hand, would require assumptions and be error-prone. \n",
    "\n",
    "In general, the less a report knows about the underlying data, the better it is."
   ]
  },
  {
   "cell_type": "markdown",
   "metadata": {},
   "source": [
    "## Report: PnL [User]\n",
    "\n",
    "How much money did we (i.e. our portfolio) gain or lose between two times?\n",
    "\n",
    "For example, if time1 was yesterday's close, and time2 is today's close, this report tells us how much we made or lost\n",
    "today. Will we be drinking champagne or straight vodka this evening?\n",
    "\n",
    "Note: it's worth understanding how the cash entries are working in this example. The reason our open and closed out\n",
    "positions are pricing rationally is because we are modelling cash approximately correctly, not because the instruments\n",
    "are carrying around a notion of price-paid!"
   ]
  },
  {
   "cell_type": "code",
   "execution_count": 13,
   "metadata": {
    "collapsed": true
   },
   "outputs": [],
   "source": [
    "def reportPnL(valuable, ts1, ts2):\n",
    "    clock = valuable.getObj(_tr.RootClock, 'Main')\n",
    "    with Context({clock.cutoffs: ts1}):\n",
    "        npv1 = valuable.NPV()\n",
    "    with Context({clock.cutoffs: ts2}):\n",
    "        npv2 = valuable.NPV()\n",
    "    print 'PnL:', npv2-npv1"
   ]
  },
  {
   "cell_type": "markdown",
   "metadata": {},
   "source": [
    "### Example: top-of-the-house intraday PnL\n",
    "\n",
    "Hmm, one of our desks bought 100 shares of IBM, and the last trade price is already down 1 cent. The bank is down \n",
    "100 times $.01 or one dollar:"
   ]
  },
  {
   "cell_type": "code",
   "execution_count": 14,
   "metadata": {
    "collapsed": false
   },
   "outputs": [
    {
     "name": "stdout",
     "output_type": "stream",
     "text": [
      "PnL: -1.00\n"
     ]
    }
   ],
   "source": [
    "# 100 shares bought at $175.65\n",
    "# current price is $175.64:\n",
    "reportPnL(pAll, ts1, ts3)"
   ]
  },
  {
   "cell_type": "markdown",
   "metadata": {},
   "source": [
    "### Example: top-of-the-house daily PnL\n",
    "\n",
    "By end of day, the bank as a whole has closed out the IBM trade for a profit, and bought some GOOG. Closing refdata\n",
    "prices have been entered. We should have a total profit for the day of $23:"
   ]
  },
  {
   "cell_type": "code",
   "execution_count": 15,
   "metadata": {
    "collapsed": false,
    "scrolled": false
   },
   "outputs": [
    {
     "name": "stdout",
     "output_type": "stream",
     "text": [
      "PnL: 23.00\n"
     ]
    }
   ],
   "source": [
    "# 100 * ($175.85 - $175.65) =  $20\n",
    "# 300 * ($852.13 - $852.12) =  $ 3\n",
    "#                              ----\n",
    "#                              $23\n",
    "reportPnL(pAll, ts1, eod)"
   ]
  },
  {
   "cell_type": "markdown",
   "metadata": {},
   "source": [
    "### Example: trading desk daily PnL\n",
    "\n",
    "Desk *p1* bought IBM at $175.65\n",
    "\n",
    "It still owns IBM, which closed at $175.68\n",
    "\n",
    "So, it should be up $3:"
   ]
  },
  {
   "cell_type": "code",
   "execution_count": 16,
   "metadata": {
    "collapsed": false
   },
   "outputs": [
    {
     "name": "stdout",
     "output_type": "stream",
     "text": [
      "PnL: 3.00\n"
     ]
    }
   ],
   "source": [
    "# 100 * ($175.68 - $175.65) =   $3\n",
    "reportPnL(p1, ts1, eod)"
   ]
  },
  {
   "cell_type": "markdown",
   "metadata": {},
   "source": [
    "## Report: Market Risk\n",
    "\n",
    "So, how much does our value change if market data values change?\n",
    "\n",
    "Note: review the greeks workbook if this is unclear."
   ]
  },
  {
   "cell_type": "code",
   "execution_count": 17,
   "metadata": {
    "collapsed": false,
    "scrolled": false
   },
   "outputs": [],
   "source": [
    "def reportMarketRisk(valuable):\n",
    "    def fn(node):\n",
    "        obj = node.key[0]\n",
    "        m = node.key[1].split(':')[-1]\n",
    "        if isinstance(obj, MarketInterface) and m == 'spot':\n",
    "            return True\n",
    "    nodes = find(valuable.NPV, fn)\n",
    "    r = {}\n",
    "    npv = valuable.NPV()\n",
    "    for n in nodes:\n",
    "        v = n.value * num(1.01)\n",
    "        key = n.tweakPoint\n",
    "        with Context({key: v}):\n",
    "            obj = n.key[0]\n",
    "            npv2 = valuable.NPV()\n",
    "            r[obj.meta.name()] = npv2-npv\n",
    "    displayMarkdown('### %s: NPV change under a 1%% shift' % valuable.meta.name())\n",
    "    displayDict(r)"
   ]
  },
  {
   "cell_type": "code",
   "execution_count": 18,
   "metadata": {
    "collapsed": false
   },
   "outputs": [
    {
     "data": {
      "text/markdown": [
       "### TopOfTheHouse: NPV change under a 1% shift"
      ],
      "text/plain": [
       "<IPython.core.display.Markdown object>"
      ]
     },
     "metadata": {},
     "output_type": "display_data"
    },
    {
     "data": {
      "text/markdown": [
       "|key|value|\n",
       "|-|-|\n",
       "|GOOG|2568.3900"
      ],
      "text/plain": [
       "<IPython.core.display.Markdown object>"
      ]
     },
     "metadata": {},
     "output_type": "display_data"
    },
    {
     "data": {
      "text/markdown": [
       "### Eq-Prop: NPV change under a 1% shift"
      ],
      "text/plain": [
       "<IPython.core.display.Markdown object>"
      ]
     },
     "metadata": {},
     "output_type": "display_data"
    },
    {
     "data": {
      "text/markdown": [
       "|key|value|\n",
       "|-|-|\n",
       "|IBM|177.6800"
      ],
      "text/plain": [
       "<IPython.core.display.Markdown object>"
      ]
     },
     "metadata": {},
     "output_type": "display_data"
    },
    {
     "data": {
      "text/markdown": [
       "### Eq-Inst: NPV change under a 1% shift"
      ],
      "text/plain": [
       "<IPython.core.display.Markdown object>"
      ]
     },
     "metadata": {},
     "output_type": "display_data"
    },
    {
     "data": {
      "text/markdown": [
       "|key|value|\n",
       "|-|-|\n",
       "|GOOG|2568.3900\n",
       "|IBM|-177.6800"
      ],
      "text/plain": [
       "<IPython.core.display.Markdown object>"
      ]
     },
     "metadata": {},
     "output_type": "display_data"
    }
   ],
   "source": [
    "reportMarketRisk(pAll)\n",
    "reportMarketRisk(p1)\n",
    "reportMarketRisk(p2)"
   ]
  },
  {
   "cell_type": "markdown",
   "metadata": {},
   "source": [
    "## Report: Prior Day Amends[ User]\n",
    "\n",
    "So, someone reported a number on day T. How would that number change if we reran the report based on corrected data?\n",
    "\n",
    "There are a lot of ways to handle prior day amends:\n",
    "* Have them entered, but have no systemic way to track them.\n",
    " * This is a time-honoured approach. Usually, someone goes to jail when the auditors eventually notice that some trader\n",
    "declaring profits each day is just amending the trades the next day and actually losing money.\n",
    "* Make a policy that there are no prior day amends.\n",
    " * Well, now at least you can see the PnL.\n",
    " * On the downside, you don't get much explanatory power. It's a bit like switching to cash accounting because your\n",
    "internal business units are gaming accrual accounting to the point you can't even manage the budget.\n",
    " * Oh, and you still get fined/go to jail: if the number is your position size, and you exceeded the legal limit on\n",
    "day T, you can't just pretend you didn't and book your day T over-limit trade on day T+1. External reality does not\n",
    "change just because you have a bad operational policy.\n",
    "* Just do it right.\n",
    " * This is the approach we take."
   ]
  },
  {
   "cell_type": "code",
   "execution_count": 19,
   "metadata": {
    "collapsed": true
   },
   "outputs": [],
   "source": [
    "def reportRestates(valuable, ts1, ts2):\n",
    "    clock = valuable.getObj(_tr.RootClock, 'Main')\n",
    "    with Context({clock.cutoffs: ts1}):\n",
    "        npv1 = valuable.NPV()\n",
    "    print\n",
    "    ts1r = Timestamp(t=ts2.transactionTime, v=ts1.validTime)\n",
    "    with Context({clock.cutoffs: ts1r}):\n",
    "        npv2 = valuable.NPV()\n",
    "    print 'AUDIT-ITEM, change due to prior day amends:', npv2-npv1"
   ]
  },
  {
   "cell_type": "code",
   "execution_count": 20,
   "metadata": {
    "collapsed": false
   },
   "outputs": [
    {
     "name": "stdout",
     "output_type": "stream",
     "text": [
      "\n",
      "AUDIT-ITEM, change due to prior day amends: -4.00\n",
      "\n",
      "Note that we are only looking at amended numbers, not all activity:\n",
      "PnL: 196.00\n"
     ]
    }
   ],
   "source": [
    "reportRestates(p1, eod, ts6)\n",
    "\n",
    "print\n",
    "print 'Note that we are only looking at amended numbers, not all activity:'\n",
    "reportPnL(p1, eod, ts6)"
   ]
  },
  {
   "cell_type": "markdown",
   "metadata": {},
   "source": [
    "# Let's see what is going on when we run a report [Core]"
   ]
  },
  {
   "cell_type": "code",
   "execution_count": 21,
   "metadata": {
    "collapsed": false,
    "scrolled": false
   },
   "outputs": [
    {
     "name": "stdout",
     "output_type": "stream",
     "text": [
      "PnL: 1219.00\n"
     ]
    },
    {
     "data": {
      "text/markdown": [
       "Profile by nodes.\n",
       "* times are in microseconds\n",
       "* cumT is total time spent in funtion\n",
       "* calcT is time spent in function, but not in a child node"
      ],
      "text/plain": [
       "<IPython.core.display.Markdown object>"
      ]
     },
     "metadata": {},
     "output_type": "display_data"
    },
    {
     "data": {
      "text/markdown": [
       "|fn|n|cumT|calcT|cumT/call|sys|\n",
       "|-|-|-|-|-|-|\n",
       "|Portfolio:items|22|1,242,113|224|56,459|GetValue\n",
       "|Portfolio:items|22|1,241,889|2,930|56,449|GetValue/Calc\n",
       "||2|652,312|36|326,156|Context\n",
       "|TradingPortfolio:NPV|2|652,275|20|326,137|GetValue\n",
       "|TradingPortfolio:NPV|2|652,255|161|326,127|GetValue/Calc\n",
       "|Workbook:items|200|364,169|1,747|1,820|GetValue\n",
       "|Workbook:items|200|362,421|327,744|1,812|GetValue/Calc\n",
       "|Portfolio:children|22|267,732|205|12,169|GetValue\n",
       "|Portfolio:children|22|267,526|38,734|12,160|GetValue/Calc\n",
       "|PortfolioUpdateEvent:children|22|198,911|1,113|9,041|GetValue\n",
       "|TradingBook|102|184,843|184,843|1,812|Db.Get\n",
       "|PortfolioUpdateEvent|11|24,074|24,074|2,188|Db.Get\n",
       "|Equity:NPV|1|17,024|9|17,024|GetValue\n",
       "|Equity:NPV|1|17,014|24|17,014|GetValue/Calc\n",
       "|TradingPortfolio|10|16,034|16,034|1,603|Db.Get\n",
       "|MarketInterface:spot|1|15,395|10|15,395|GetValue\n",
       "|MarketInterface:spot|1|15,385|27|15,385|GetValue/Calc\n",
       "|ExternalRefData:state|1|13,749|7|13,749|GetValue\n",
       "|ExternalRefData:state|1|13,742|16|13,742|GetValue/Calc\n",
       "|RefData:state|1|13,726|7|13,726|GetValue\n",
       "|RefData:state|1|13,719|1,917|13,719|GetValue/Calc\n",
       "|Clock:cutoffs|446|9,510|1,368|21|GetValue\n",
       "|TradeOpenEvent|4|8,874|8,874|2,218|Db.Get\n",
       "|RefDataUpdateEvent|4|8,652|8,652|2,163|Db.Get\n",
       "|Clock:cutoffs|5|8,141|96|1,628|GetValue/Calc\n",
       "|Clock:parent|5|8,030|39|1,606|GetValue\n",
       "|Clock:parent|5|7,991|7,811|1,598|GetValue/Calc\n",
       "|Workbook:clock|400|7,802|3,565|19|GetValue\n",
       "|_WorkItemEvent:ticket|6|4,912|53|818|GetValue\n",
       "|WorkTicket|3|4,859|4,859|1,619|Db.Get\n",
       "|Clock|3|4,539|4,539|1,513|Db.Get\n",
       "|Workbook:clock|200|4,236|2,722|21|GetValue/Calc\n",
       "|_WorkItemEvent:item|3|3,807|41|1,269|GetValue\n",
       "|Equity|2|3,765|3,765|1,882|Db.Get\n",
       "|RootClock|1|3,600|3,600|3,600|Db.Get\n",
       "|_WorkItemEvent:book2|6|3,117|36|519|GetValue\n",
       "|CosmicAll|1|2,369|2,369|2,369|Db.Get\n",
       "|Portfolio:clock|44|2,184|345|49|GetValue\n",
       "|Portfolio:clock|22|1,838|277|83|GetValue/Calc\n",
       "|TradeOpenEvent:premium|3|1,634|29|544|GetValue\n",
       "|MarketInterface:source|1|1,608|10|1,608|GetValue\n",
       "|ForwardCashflow|1|1,605|1,605|1,605|Db.Get\n",
       "|MarketInterface:source|1|1,597|26|1,597|GetValue/Calc\n",
       "|Equity:refdata|1|1,593|10|1,593|GetValue\n",
       "|Equity:refdata|1|1,583|27|1,583|GetValue/Calc\n",
       "|MarketDataSource|1|1,560|1,560|1,560|Db.Get\n",
       "|MarketInterface|1|1,549|1,549|1,549|Db.Get\n",
       "|RefData:clock|2|1,495|14|747|GetValue\n",
       "|RefData:clock|1|1,481|17|1,481|GetValue/Calc\n",
       "|Event:amends|29|185|185|6|GetValue\n",
       "|Entity:clock|10|146|100|14|GetValue\n",
       "|RootClock:cutoffs|15|47|47|3|GetValue\n",
       "|Entity:clock|5|45|45|9|GetValue/Calc\n",
       "|TradeOpenEvent:quantity|6|30|30|5|GetValue\n",
       "|_WorkItemEvent:book1|6|29|29|4|GetValue\n",
       "|TradeOpenEvent:unitPrice|3|17|17|5|GetValue\n",
       "|TradeOpenEvent:action|3|17|17|5|GetValue\n",
       "|RefDataUpdateEvent:data|4|15|15|3|GetValue\n",
       "|ForwardCashflow:NPV|1|14|11|14|GetValue\n",
       "|MarketInterface:sourceName|1|11|8|11|GetValue\n",
       "|Equity:assetName|1|5|5|5|GetValue\n",
       "|ForwardCashflow:NPV|1|2|2|2|GetValue/Calc\n",
       "|MarketInterface:sourceName|1|2|2|2|GetValue/Calc"
      ],
      "text/plain": [
       "<IPython.core.display.Markdown object>"
      ]
     },
     "metadata": {},
     "output_type": "display_data"
    }
   ],
   "source": [
    "with ProfileMonitor(mode='sum'):\n",
    "    db3 = db.copy()\n",
    "    p = db3._get(pAll.meta.path())\n",
    "    reportPnL(p, ts1, ts6)"
   ]
  }
 ],
 "metadata": {
  "kernelspec": {
   "display_name": "Python 2",
   "language": "python",
   "name": "python2"
  },
  "language_info": {
   "codemirror_mode": {
    "name": "ipython",
    "version": 2
   },
   "file_extension": ".py",
   "mimetype": "text/x-python",
   "name": "python",
   "nbconvert_exporter": "python",
   "pygments_lexer": "ipython2",
   "version": "2.7.13"
  }
 },
 "nbformat": 4,
 "nbformat_minor": 2
}
