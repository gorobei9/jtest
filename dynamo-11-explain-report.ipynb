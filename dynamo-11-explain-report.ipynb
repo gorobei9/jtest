{
 "cells": [
  {
   "cell_type": "markdown",
   "metadata": {},
   "source": [
    "# An Explain Report\n",
    "\n",
    "This is a POC for an explain report: given a number at time T1 and time T2, introspect the clocks involved to produce a simple linear breakdown\n",
    "of what changed on various timelines to account for the change in the number between T1 and T2.\n",
    "\n",
    "The report is an ordered sequence of clock changes: the sum of changes should equal to the total change. The order of application is important: change the\n",
    "ordering, and the resultant values may change. It's not a Jacobian-type report with T1 deltas and no ordering.\n",
    "\n",
    "The real reason for this workbook is to start working on the node class optimizations and metadata management."
   ]
  },
  {
   "cell_type": "markdown",
   "metadata": {},
   "source": [
    "## Footnotes\n",
    "\n",
    "Footnotes are one of the simplest types of metadata:\n",
    "* Any computation (even a simple read of a constant value) may declare it has footnotes\n",
    "* Every computation gets the footnote of all its inputs\n",
    "\n",
    "Footnoting is based on a number of observations about large software systems (say, 1M LOC or more):\n",
    "* Any complex report (i.e. computation output) will generally be somewhat wrong, misleading, or out of date.\n",
    "* If you want 100% correctness and truth, your report will raise an exception every time you run it.\n",
    "* If you just want it to run, you'll get a result, but some log file on some machine in some compute farm will have a message explaining why your result is wrong.\n",
    "* And you won't see that message.\n",
    "* And that message may have leaked information that bad actors can read.\n",
    "* And you won't trust this system, so your own developers will copy the underlying data and write their own version of the report with all the same issues.\n",
    "* Now you don't have a problem, but your company now has two problems.\n",
    "\n",
    "Footnotes summary:\n",
    "* Are the documentation of problems from the producer's point of view\n",
    "* Make no claim about usability of results, etc, for a specific consumer\n",
    "* May be programmatically removed/condensed/replaced at controlled code points\n"
   ]
  },
  {
   "cell_type": "code",
   "execution_count": 1,
   "metadata": {
    "collapsed": false
   },
   "outputs": [
    {
     "name": "stdout",
     "output_type": "stream",
     "text": [
      "<mand.db.ObjectDb object at 0x108203d50>: 289, mem=True, ro=False: entities=9, map=2\n"
     ]
    }
   ],
   "source": [
    "from mand.core import Entity, node, Context\n",
    "from mand.core import ObjectDb, Timestamp, getNode, _tr\n",
    "from mand.core import ProfileMonitor\n",
    "from mand.core import displayDict, displayMarkdown, displayListOfDicts, displayHeader\n",
    "from mand.core import find\n",
    "from mand.demos.trading import makeWorld, bookSomeTrades\n",
    "\n",
    "db = ObjectDb()\n",
    "\n",
    "from mand.lib.dbsetup import setUpDb\n",
    "setUpDb(db)\n",
    "db.describe()"
   ]
  },
  {
   "cell_type": "code",
   "execution_count": 2,
   "metadata": {
    "collapsed": false
   },
   "outputs": [
    {
     "name": "stdout",
     "output_type": "stream",
     "text": [
      "makeWorld, TopOfTheHouse is: <Entity:/Global/TradingPortfolio/TopOfTheHouse>\n",
      "    # books: 100\n",
      "    # children: 10\n"
     ]
    }
   ],
   "source": [
    "with db:\n",
    "    pWorld = makeWorld()\n",
    "    \n",
    "pAll, bExt, bExt2 = pWorld.children()\n",
    "p1 = pAll.children()[0]\n",
    "p2 = pAll.children()[1]\n",
    "p4 = pAll.children()[3]\n",
    "\n",
    "b2 = p2.children()[0]\n",
    "b4 = p4.children()[0]"
   ]
  },
  {
   "cell_type": "markdown",
   "metadata": {},
   "source": [
    "# Book some trades\n",
    "\n",
    "This time, we throw a few thousand in..."
   ]
  },
  {
   "cell_type": "code",
   "execution_count": 3,
   "metadata": {
    "collapsed": false
   },
   "outputs": [],
   "source": [
    "ts0, ts1, ts2, ts3, ts4, ts5, eod, ts6 = bookSomeTrades(pWorld)"
   ]
  },
  {
   "cell_type": "markdown",
   "metadata": {},
   "source": [
    "# An Explain Report\n",
    "\n",
    "This is a mix of abstractions at the Core, DBA, and BA, and User levels. But, it does the job for now..."
   ]
  },
  {
   "cell_type": "code",
   "execution_count": 4,
   "metadata": {
    "collapsed": false,
    "scrolled": false
   },
   "outputs": [
    {
     "data": {
      "text/markdown": [
       "# PnL explain for TopOfTheHouse: 5236.00"
      ],
      "text/plain": [
       "<IPython.core.display.Markdown object>"
      ]
     },
     "metadata": {},
     "output_type": "display_data"
    },
    {
     "data": {
      "text/markdown": [
       "**Caveat: this report encountered problems. See footnotes at bottom.**"
      ],
      "text/plain": [
       "<IPython.core.display.Markdown object>"
      ]
     },
     "metadata": {},
     "output_type": "display_data"
    },
    {
     "data": {
      "text/markdown": [
       "|Activity|PnL|\n",
       "|-|-|\n",
       "|Starting balance breaks|0.00\n",
       "|prior day amends: MarketData|0.00\n",
       "|prior day amends: Portfolio|0.00\n",
       "|prior day amends: Trading|-4.00\n",
       "|activity: MarketData|5240.00\n",
       "|activity: Portfolio|0.00\n",
       "|activity: Trading|0.00\n",
       "|Ending balance breaks|0.00"
      ],
      "text/plain": [
       "<IPython.core.display.Markdown object>"
      ]
     },
     "metadata": {},
     "output_type": "display_data"
    },
    {
     "data": {
      "text/markdown": [
       "## Footnotes:"
      ],
      "text/plain": [
       "<IPython.core.display.Markdown object>"
      ]
     },
     "metadata": {},
     "output_type": "display_data"
    },
    {
     "data": {
      "text/markdown": [
       "1. Inadequate cash discounting model used"
      ],
      "text/plain": [
       "<IPython.core.display.Markdown object>"
      ]
     },
     "metadata": {},
     "output_type": "display_data"
    }
   ],
   "source": [
    "class Report(Entity):\n",
    "    @node(stored=True)\n",
    "    def valuable(self):\n",
    "        return None\n",
    "    \n",
    "    @node(stored=True)\n",
    "    def ts1(self):\n",
    "        return None\n",
    "    \n",
    "    @node(stored=True)\n",
    "    def ts2(self):\n",
    "        return None\n",
    "    \n",
    "    @node\n",
    "    def data(self):\n",
    "        valuable = self.valuable()\n",
    "        ts1 = self.ts1()\n",
    "        ts2 = self.ts2()\n",
    "        clock = valuable.getObj(_tr.RootClock, 'Main')\n",
    "    \n",
    "        def clocks(ts):\n",
    "            def fn(node):\n",
    "                obj = node.key[0]\n",
    "                m = node.key[1].split(':')[-1]\n",
    "                if isinstance(obj, _tr.Clock) and m == 'cutoffs':\n",
    "                    return True\n",
    "            with Context({clock.cutoffs: ts}, 'Clocks'):\n",
    "                nodes = find(valuable.NPV, fn)\n",
    "                return dict( [ (node.tweakPoint, node) for node in nodes ] )\n",
    "    \n",
    "        allNodes = clocks(ts1)\n",
    "    \n",
    "        allNodes.update(clocks(ts2))\n",
    "        nodes = allNodes.values() \n",
    "    \n",
    "        # IRL, we'd sort these according to some business req...\n",
    "        # And our clocks might be arranged in an N-level tree...\n",
    "        nodes = sorted(nodes, key = lambda node: node.key[0].meta.name())\n",
    "    \n",
    "        data = []\n",
    "        curr = [0]\n",
    "        def add(title, npv):\n",
    "            pnl = npv - curr[0]\n",
    "            curr[0] = npv\n",
    "            data.append( {'Activity': title, 'PnL': pnl } )\n",
    "\n",
    "        with Context({clock.cutoffs: ts1}, 'Start'):\n",
    "            curr = [ valuable.NPV() ] # Starting balance\n",
    "    \n",
    "        tweaks = {}\n",
    "        for n in nodes:\n",
    "            tweaks[n.tweakPoint] = ts1\n",
    "        with Context(tweaks, name='Start breaks'):\n",
    "            start = valuable.NPV()\n",
    "            add('Starting balance breaks', start)\n",
    "\n",
    "        tsAmend = Timestamp(t=ts2.transactionTime, v=ts1.validTime)\n",
    "        # XXX - modifying tweaks in place is a bit evil\n",
    "        # This is only safe because I know Context() effectively copies, so this works\n",
    "        # for now.\n",
    "        for n in nodes:\n",
    "            tweaks[n.tweakPoint] = tsAmend\n",
    "            name = n.key[0].meta.name()\n",
    "            with Context(tweaks, name='Amend %s' % name):\n",
    "                add('prior day amends: %s' % name, valuable.NPV())\n",
    "        for n in nodes:\n",
    "            tweaks[n.tweakPoint] = ts2\n",
    "            name = n.key[0].meta.name()\n",
    "            with Context(tweaks, name='Activity %s' % name):\n",
    "                add('activity: %s' % name, valuable.NPV())\n",
    "    \n",
    "        with Context({clock.cutoffs: ts2}, name='End'):\n",
    "            end = valuable.NPV()\n",
    "            add('Ending balance breaks', end)\n",
    "\n",
    "        title = 'PnL explain for %s: %s' % (valuable.meta.name(), end-start)\n",
    "        return data, title\n",
    "\n",
    "    def run(self):\n",
    "        data, title = self.data()\n",
    "        node = getNode(self.data)\n",
    "        footnotes = node.footnotes.values()\n",
    "        displayHeader('%s' % title)\n",
    "        if footnotes:\n",
    "            displayMarkdown('**Caveat: this report encountered problems. See footnotes at bottom.**')\n",
    "        displayListOfDicts(data, names=['Activity', 'PnL'] )\n",
    "        if footnotes:\n",
    "            displayMarkdown('## Footnotes:')\n",
    "            txt = '\\n'.join( [ '1. %s' % f for f in footnotes])\n",
    "            displayMarkdown(txt)\n",
    "    \n",
    "r = Report(valuable=pAll, ts1=eod, ts2=ts6)\n",
    "r.run()"
   ]
  },
  {
   "cell_type": "markdown",
   "metadata": {},
   "source": [
    "## Add some inconsistent data [Test]\n",
    "\n",
    "Book b2 should appear multiple times in some portfolio trees and be flagged accordingly..."
   ]
  },
  {
   "cell_type": "code",
   "execution_count": 5,
   "metadata": {
    "collapsed": false
   },
   "outputs": [],
   "source": [
    "with db:\n",
    "    p1.setChildren(p1.children() + [b2])\n",
    "\n",
    "ts7 = Timestamp()"
   ]
  },
  {
   "cell_type": "markdown",
   "metadata": {},
   "source": [
    "# Footnotes\n",
    "\n",
    "Note the report calculation has run, but attached appropriate caveats to the output:"
   ]
  },
  {
   "cell_type": "code",
   "execution_count": 6,
   "metadata": {
    "collapsed": false,
    "scrolled": false
   },
   "outputs": [
    {
     "data": {
      "text/markdown": [
       "# PnL explain for TopOfTheHouse: 6256.00"
      ],
      "text/plain": [
       "<IPython.core.display.Markdown object>"
      ]
     },
     "metadata": {},
     "output_type": "display_data"
    },
    {
     "data": {
      "text/markdown": [
       "**Caveat: this report encountered problems. See footnotes at bottom.**"
      ],
      "text/plain": [
       "<IPython.core.display.Markdown object>"
      ]
     },
     "metadata": {},
     "output_type": "display_data"
    },
    {
     "data": {
      "text/markdown": [
       "|Activity|PnL|\n",
       "|-|-|\n",
       "|Starting balance breaks|0.00\n",
       "|prior day amends: MarketData|0.00\n",
       "|prior day amends: Portfolio|0.00\n",
       "|prior day amends: Trading|-4.00\n",
       "|activity: MarketData|5240.00\n",
       "|activity: Portfolio|1020.00\n",
       "|activity: Trading|0.00\n",
       "|Ending balance breaks|0.00"
      ],
      "text/plain": [
       "<IPython.core.display.Markdown object>"
      ]
     },
     "metadata": {},
     "output_type": "display_data"
    },
    {
     "data": {
      "text/markdown": [
       "## Footnotes:"
      ],
      "text/plain": [
       "<IPython.core.display.Markdown object>"
      ]
     },
     "metadata": {},
     "output_type": "display_data"
    },
    {
     "data": {
      "text/markdown": [
       "1. Inadequate cash discounting model used\n",
       "1. Book appears multiple times: /Global/TradingBook/Eq-Inst0"
      ],
      "text/plain": [
       "<IPython.core.display.Markdown object>"
      ]
     },
     "metadata": {},
     "output_type": "display_data"
    },
    {
     "data": {
      "text/markdown": [
       "\n",
       "### Profile by nodes.\n",
       "* times are in microseconds\n",
       "* cumT is total time spent in funtion\n",
       "* calcT is time spent in function, but not in a child node"
      ],
      "text/plain": [
       "<IPython.core.display.Markdown object>"
      ]
     },
     "metadata": {},
     "output_type": "display_data"
    },
    {
     "data": {
      "text/markdown": [
       "|fn|n|cumT|calcT|cumT/call|sys|\n",
       "|-|-|-|-|-|-|\n",
       "|Report:data|1|258,823,125|62|258,823,125|GetValue\n",
       "|Report:data|1|258,823,062|2,557|258,823,062|GetValue/Calc\n",
       "|TradingContainer:NPV|11|258,248,354|575|23,477,123|GetValue\n",
       "|TradingContainer:NPV|11|258,247,779|26,570|23,477,070|GetValue/Calc\n",
       "|Portfolio:items|121|256,438,134|25,923|2,119,323|GetValue\n",
       "|Portfolio:items|121|256,426,929|346,052|2,119,230|GetValue/Calc\n",
       "|Workbook:items|1,104|242,784,600|136,756|219,913|GetValue\n",
       "|Workbook:items|1,100|242,647,844|95,756,482|220,588|GetValue/Calc\n",
       "|Root:Clocks|2|175,330,229|520,442|87,665,114|Context\n",
       "|TradeOpenEvent|1,014|72,290,138|72,290,138|71,292|Db.Get\n",
       "|TradeOpenEvent:ticket|22,286|65,732,509|1,492,849|2,949|GetValue\n",
       "|TradingTicket|1,014|64,239,660|64,239,660|63,352|Db.Get\n",
       "|Root:Start breaks|1|14,187,670|320|14,187,670|Context\n",
       "|Root:Start|1|13,826,335|144|13,826,335|Context\n",
       "|Portfolio:children|242|13,216,193|27,865|54,612|GetValue\n",
       "|Portfolio:children|121|13,188,327|4,904,972|108,994|GetValue/Calc\n",
       "|Root:Amend MarketData|1|9,506,510|168|9,506,510|Context\n",
       "|Root:Activity Portfolio|1|8,971,668|184|8,971,668|Context\n",
       "|Root:Amend Portfolio|1|7,581,150|157|7,581,150|Context\n",
       "|Root:Activity Trading|1|7,430,976|174|7,430,976|Context\n",
       "|Root:Amend Trading|1|7,326,753|160|7,326,753|Context\n",
       "|Root:End|1|7,317,962|175|7,317,962|Context\n",
       "|Root:Activity MarketData|1|7,291,185|160|7,291,185|Context\n",
       "|PortfolioUpdateEvent:children|121|7,098,628|26,449|58,666|GetValue\n",
       "|TradingBook|102|6,623,943|6,623,943|64,940|Db.Get\n",
       "|Equity:NPV|15|1,771,323|745|118,088|GetValue\n",
       "|Equity:NPV|15|1,770,578|4,334|118,038|GetValue/Calc\n",
       "|MarketInterface:spot|15|1,670,260|531|111,350|GetValue\n",
       "|MarketInterface:spot|15|1,669,728|16,104|111,315|GetValue/Calc\n",
       "|ExternalRefData:state|15|1,574,965|589|104,997|GetValue\n",
       "|ExternalRefData:state|15|1,574,376|3,693|104,958|GetValue/Calc\n",
       "|RefData:state|15|1,570,682|10,930|104,712|GetValue\n",
       "|RefData:state|15|1,559,752|601,718|103,983|GetValue/Calc\n",
       "|_WorkItemEvent:book2|22,286|1,333,023|1,231,566|59|GetValue\n",
       "|_WorkItemEvent:book1|22,286|1,215,919|1,215,919|54|GetValue\n",
       "|Clock:cutoffs|2,480|1,184,062|135,618|477|GetValue\n",
       "|TradeOpenEvent:quantity|22,286|1,166,521|1,166,521|52|GetValue\n",
       "|Clock:cutoffs|20|1,048,849|12,542|52,442|GetValue/Calc\n",
       "|Clock:parent|20|1,035,760|766|51,788|GetValue\n",
       "|Clock:parent|20|1,034,994|800,178|51,749|GetValue/Calc\n",
       "|_WorkItemEvent:item|11,143|1,001,304|904,778|89|GetValue\n",
       "|PortfolioUpdateEvent|12|926,732|926,732|77,227|Db.Get\n",
       "|TradeOpenEvent:action|11,143|923,117|923,117|82|GetValue\n",
       "|TradeOpenEvent:premium|11,143|784,259|734,864|70|GetValue\n",
       "|TradeOpenEvent:unitPrice|11,143|748,270|748,270|67|GetValue\n",
       "|Event:amends|11,340|615,581|615,581|54|GetValue\n",
       "|TradingPortfolio|10|549,691|549,691|54,969|Db.Get\n",
       "|TradingBook:clock|2,200|508,054|222,547|230|GetValue\n",
       "|RefDataUpdateEvent|9|469,370|469,370|52,152|Db.Get\n",
       "|TradingBook:clock|1,100|285,507|228,758|259|GetValue/Calc\n",
       "|Clock|5|265,661|265,661|53,132|Db.Get\n",
       "|ClockEvent|2|117,113|117,113|58,556|Db.Get\n",
       "|ClockEvent:parent|8|112,828|7,268|14,103|GetValue\n",
       "|Equity|2|96,526|96,526|48,263|Db.Get\n",
       "|Equity:refdata|15|95,983|645|6,398|GetValue\n",
       "|Equity:refdata|15|95,337|12,143|6,355|GetValue/Calc\n",
       "|Portfolio:clock|242|85,493|10,966|353|GetValue\n",
       "|MarketInterface|2|82,792|82,792|41,396|Db.Get\n",
       "|MarketInterface:source|15|78,659|540|5,243|GetValue\n",
       "|MarketInterface:source|15|78,119|8,013|5,207|GetValue/Calc\n",
       "|Portfolio:clock|121|74,526|7,675|615|GetValue/Calc\n",
       "|MarketDataSource|2|69,344|69,344|34,672|Db.Get\n",
       "|Portfolio:books|231|67,068|6,811|290|GetValue\n",
       "|Portfolio:books|121|61,597|58,552|509|GetValue/Calc\n",
       "|RootClock|1|49,996|49,996|49,996|Db.Get\n",
       "|ForwardCashflow|1|49,395|49,395|49,395|Db.Get\n",
       "|MarketDataSource:clock|30|48,918|11,511|1,630|GetValue\n",
       "|MarketDataSource:clock|15|37,407|905|2,493|GetValue/Calc\n",
       "|ForwardCashflow:NPV|11|11,750|719|1,068|GetValue\n",
       "|ForwardCashflow:NPV|11|11,031|11,031|1,002|GetValue/Calc\n",
       "|Entity:clock|40|4,124|1,625|103|GetValue\n",
       "|Entity:clock|20|2,499|2,499|124|GetValue/Calc\n",
       "|RefDataUpdateEvent:data|58|1,062|1,062|18|GetValue\n",
       "|MarketInterface:sourceName|15|761|532|50|GetValue\n",
       "|RootClock:cutoffs|52|669|669|12|GetValue\n",
       "|Equity:assetName|15|401|401|26|GetValue\n",
       "|MarketInterface:sourceName|15|228|228|15|GetValue/Calc\n",
       "|Report:valuable|1|32|32|32|GetValue\n",
       "|Report:ts1|1|16|16|16|GetValue\n",
       "|Report:ts2|1|15|15|15|GetValue"
      ],
      "text/plain": [
       "<IPython.core.display.Markdown object>"
      ]
     },
     "metadata": {},
     "output_type": "display_data"
    }
   ],
   "source": [
    "db3 = db.copy()\n",
    "p = db3._get(pAll.meta.path())\n",
    "\n",
    "with ProfileMonitor(mode='sum'): \n",
    "    r = Report(valuable=p, ts1=eod, ts2=ts7)\n",
    "    r.run()"
   ]
  }
 ],
 "metadata": {
  "kernelspec": {
   "display_name": "Python 2",
   "language": "python",
   "name": "python2"
  },
  "language_info": {
   "codemirror_mode": {
    "name": "ipython",
    "version": 2
   },
   "file_extension": ".py",
   "mimetype": "text/x-python",
   "name": "python",
   "nbconvert_exporter": "python",
   "pygments_lexer": "ipython2",
   "version": "2.7.13"
  }
 },
 "nbformat": 4,
 "nbformat_minor": 2
}
