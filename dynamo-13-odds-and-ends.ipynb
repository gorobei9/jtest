{
 "cells": [
  {
   "cell_type": "code",
   "execution_count": 1,
   "metadata": {
    "collapsed": false,
    "scrolled": false
   },
   "outputs": [],
   "source": [
    "from mand.core import Entity, node, getNode\n",
    "from mand.core import ObjectDb, Timestamp, Context, _tr\n",
    "from mand.core import ProfileMonitor, SummaryMonitor, PrintMonitor\n",
    "from mand.core import find, addFootnote\n",
    "from mand.demos.trading import makeWorld, bookSomeTrades, PnLExplainReport\n",
    "from mand.lib.dbsetup import setUpDb\n",
    "\n",
    "db = ObjectDb()\n",
    "setUpDb(db)"
   ]
  },
  {
   "cell_type": "code",
   "execution_count": 2,
   "metadata": {
    "collapsed": false,
    "scrolled": false
   },
   "outputs": [],
   "source": [
    "class C(Entity):\n",
    "    \n",
    "    @node\n",
    "    def fib(self, n):\n",
    "        if n < 2:\n",
    "            return n\n",
    "        return self.fib(n-1) + self.fib(n-2)\n"
   ]
  },
  {
   "cell_type": "code",
   "execution_count": 3,
   "metadata": {
    "collapsed": true
   },
   "outputs": [],
   "source": [
    "c = C()"
   ]
  },
  {
   "cell_type": "code",
   "execution_count": 4,
   "metadata": {
    "collapsed": false,
    "scrolled": false
   },
   "outputs": [
    {
     "data": {
      "text/markdown": [
       "# Compute activity summary (0.00 seconds of wall clock time)"
      ],
      "text/plain": [
       "<IPython.core.display.Markdown object>"
      ]
     },
     "metadata": {},
     "output_type": "display_data"
    },
    {
     "data": {
      "text/markdown": [
       "|key|value|\n",
       "|-|-|\n",
       "|GetValue|19\n",
       "|GetValue/Calc|11"
      ],
      "text/plain": [
       "<IPython.core.display.Markdown object>"
      ]
     },
     "metadata": {},
     "output_type": "display_data"
    },
    {
     "name": "stdout",
     "output_type": "stream",
     "text": [
      "55\n"
     ]
    },
    {
     "data": {
      "text/markdown": [
       "# Compute activity summary (0.01 seconds of wall clock time)"
      ],
      "text/plain": [
       "<IPython.core.display.Markdown object>"
      ]
     },
     "metadata": {},
     "output_type": "display_data"
    },
    {
     "data": {
      "text/markdown": [
       "|key|value|\n",
       "|-|-|\n",
       "|GetValue|61\n",
       "|GetValue/Calc|30"
      ],
      "text/plain": [
       "<IPython.core.display.Markdown object>"
      ]
     },
     "metadata": {},
     "output_type": "display_data"
    },
    {
     "name": "stdout",
     "output_type": "stream",
     "text": [
      "102334155\n"
     ]
    }
   ],
   "source": [
    "with SummaryMonitor():\n",
    "    v = c.fib(10)\n",
    "print v\n",
    "\n",
    "with SummaryMonitor():\n",
    "    v = c.fib(40)\n",
    "print v"
   ]
  },
  {
   "cell_type": "code",
   "execution_count": 5,
   "metadata": {
    "collapsed": false
   },
   "outputs": [
    {
     "name": "stdout",
     "output_type": "stream",
     "text": [
      "Expect 30: 30\n",
      "Expect 40: 40\n",
      "Expect 30: 30\n",
      "Expect 60: 60\n"
     ]
    }
   ],
   "source": [
    "class D(Entity):\n",
    "    \n",
    "    @node(tweakable=True)\n",
    "    def v(self): \n",
    "        return 10\n",
    "        \n",
    "class E(D):\n",
    "    \n",
    "    @node(tweakable=True)\n",
    "    def v(self): \n",
    "        return super(E, self).v() + 20\n",
    "    \n",
    "e = E()\n",
    "\n",
    "print 'Expect 30:', e.v()\n",
    "assert e.v() == 30\n",
    "\n",
    "with Context({e.v: 40}):\n",
    "    print 'Expect 40:', e.v()\n",
    "    assert e.v() == 40\n",
    "        \n",
    "print 'Expect 30:', e.v()\n",
    "assert e.v() == 30\n",
    "\n",
    "with Context({super(E, e).v: 40}):\n",
    "    print 'Expect 60:', e.v()\n",
    "    assert e.v() == 60"
   ]
  },
  {
   "cell_type": "code",
   "execution_count": 6,
   "metadata": {
    "collapsed": false
   },
   "outputs": [
    {
     "name": "stdout",
     "output_type": "stream",
     "text": [
      "[<Node: /Global/RootClock/Main.(RootClock:cutoffs)() in Root @4555679056 T=True>]\n",
      "<Node: /Global/RootClock/Main.(RootClock:cutoffs)() in Root @4555679056 T=True> True\n",
      "<Node: /Global/RootClock/Main.(RootClock:cutoffs)() in Root:4477767576 @4556482256 T=True> True\n",
      "<Node: /Global/RootClock/Main.(RootClock:cutoffs)() in Root:4477767576 @4556483728 T=True> True\n"
     ]
    }
   ],
   "source": [
    "class R(Entity):\n",
    "\n",
    "    @node\n",
    "    def clocks(self):\n",
    "        clock = self.getObj(_tr.RootClock, 'Main')\n",
    "    \n",
    "        def fn(node):\n",
    "            return True\n",
    "        \n",
    "        nodes = find(clock.cutoffs, fn)\n",
    "        return nodes\n",
    "       \n",
    "    @node \n",
    "    def clocks2(self):\n",
    "        with Context({}):\n",
    "            return self.clocks()\n",
    "        \n",
    "with db:\n",
    "    r = R()\n",
    "print r.clocks()\n",
    "for c in r.clocks():\n",
    "    print c, c.tweakable\n",
    "\n",
    "for c in r.clocks2():\n",
    "    print c, c.tweakable\n",
    "\n",
    "    \n",
    "with Context({}):\n",
    "    for c in r.clocks():\n",
    "        print c, c.tweakable"
   ]
  }
 ],
 "metadata": {
  "kernelspec": {
   "display_name": "Python 2",
   "language": "python",
   "name": "python2"
  },
  "language_info": {
   "codemirror_mode": {
    "name": "ipython",
    "version": 2
   },
   "file_extension": ".py",
   "mimetype": "text/x-python",
   "name": "python",
   "nbconvert_exporter": "python",
   "pygments_lexer": "ipython2",
   "version": "2.7.13"
  }
 },
 "nbformat": 4,
 "nbformat_minor": 2
}
