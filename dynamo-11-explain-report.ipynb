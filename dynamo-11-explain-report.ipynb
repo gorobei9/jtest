{
 "cells": [
  {
   "cell_type": "code",
   "execution_count": 1,
   "metadata": {
    "collapsed": false
   },
   "outputs": [
    {
     "name": "stdout",
     "output_type": "stream",
     "text": [
      "<mand.db.ObjectDb object at 0x10b51aad0>: 105, mem=True, ro=False: entities=9, map=2\n"
     ]
    }
   ],
   "source": [
    "import mand.core\n",
    "\n",
    "from mand.core import Entity, node, Context\n",
    "\n",
    "from mand.core import ObjectDb, _tr, Timestamp, Context\n",
    "from mand.core import ProfileMonitor, PrintMonitor\n",
    "from mand.lib.extrefdata import ExternalRefData, dataField\n",
    "from mand.lib.workflow import Workbook, WorkItemOpenEvent, WorkItem\n",
    "from mand.lib.portfolio import Portfolio\n",
    "from mand.core import displayDict, displayMarkdown, displayListOfDicts, displayHeader\n",
    "from mand.core import num, find\n",
    "import datetime\n",
    "from mand.lib.dbsetup import setUpDb\n",
    "\n",
    "from mand.demos.trading import TradingBook, TradingPortfolio, MarketDataSource, MarketInterface\n",
    "\n",
    "db = ObjectDb()\n",
    "setUpDb(db)\n",
    "db.describe()"
   ]
  },
  {
   "cell_type": "code",
   "execution_count": 2,
   "metadata": {
    "collapsed": false
   },
   "outputs": [
    {
     "name": "stdout",
     "output_type": "stream",
     "text": [
      "<mand.demos.trading.TradingPortfolio object at 0x10b559c10>\n",
      "# books: 20\n",
      "# children: 2\n"
     ]
    }
   ],
   "source": [
    "def makeTree(names):\n",
    "    ret = []\n",
    "    for name in names:\n",
    "        subs = [ TradingBook(name+str(i)) for i in range(10) ]\n",
    "        p = TradingPortfolio(name).write()\n",
    "        p.setChildren(subs)\n",
    "        ret.append(p)\n",
    "    return ret\n",
    "\n",
    "with db:\n",
    "    pAll = TradingPortfolio('TopOfTheHouse').write()\n",
    "    subs = makeTree(['Eq-Prop', 'Eq-Inst', ])# 'FX', 'Rates', 'Credit', 'Delta1', 'Loans', 'Commod', 'ETFs', 'Mtge'])\n",
    "    pAll.setChildren(subs)\n",
    "    \n",
    "print pAll\n",
    "print '# books:', len(pAll.books())\n",
    "print '# children:', len(pAll.children())"
   ]
  },
  {
   "cell_type": "code",
   "execution_count": 3,
   "metadata": {
    "collapsed": false
   },
   "outputs": [
    {
     "name": "stdout",
     "output_type": "stream",
     "text": [
      "Customer1\n",
      "Eq-Prop0\n",
      "Eq-Inst0\n"
     ]
    }
   ],
   "source": [
    "with db:\n",
    "    bExt  = _tr.TradingBook('Customer1')\n",
    "    bExt2 = _tr.TradingBook('Customer2')\n",
    "    \n",
    "p1 = pAll.children()[0]\n",
    "p2 = pAll.children()[1]\n",
    "\n",
    "b1 = p1.children()[0]\n",
    "b2 = p2.children()[0]\n",
    "\n",
    "print bExt.meta.name()\n",
    "print b1.meta.name()\n",
    "print b2.meta.name()"
   ]
  },
  {
   "cell_type": "code",
   "execution_count": 4,
   "metadata": {
    "collapsed": false,
    "scrolled": false
   },
   "outputs": [],
   "source": [
    "with db:\n",
    "    s1_ibm  = MarketDataSource('source1.IBM')\n",
    "    s1_goog = MarketDataSource('source1.GOOG')\n",
    "\n",
    "s1_ibm.update(last=175.61)\n",
    "s1_goog.update(last=852.12)"
   ]
  },
  {
   "cell_type": "code",
   "execution_count": 5,
   "metadata": {
    "collapsed": false
   },
   "outputs": [],
   "source": [
    "with db:\n",
    "    ibm  = MarketInterface('IBM')\n",
    "    goog = MarketInterface('GOOG')"
   ]
  },
  {
   "cell_type": "code",
   "execution_count": 6,
   "metadata": {
    "collapsed": false
   },
   "outputs": [],
   "source": [
    "with db:\n",
    "    TradeOpenEvent = _tr.TradeOpenEvent\n",
    "    cf1 = _tr.ForwardCashflow()\n",
    "    ins1 = _tr.Equity()\n",
    "    ins2 = _tr.Equity(assetName='GOOG.Eq.1')\n",
    "    \n",
    "    ts1 = Timestamp()\n",
    "    \n",
    "    ev1 = TradeOpenEvent(action='Buy',\n",
    "                         item=ins1,\n",
    "                         quantity=100,\n",
    "                         premium=cf1,\n",
    "                         unitPrice=175.65,\n",
    "                         book1=b1,\n",
    "                         book2=bExt).write()\n",
    "    \n",
    "    ts2 = Timestamp()\n",
    "    \n",
    "    s1_ibm.update(last=175.64)\n",
    "    \n",
    "    ts3 = Timestamp()\n",
    "    \n",
    "    ev2 = TradeOpenEvent(action='Buy',\n",
    "                         item=ins2,\n",
    "                         quantity=300,\n",
    "                         premium=cf1,\n",
    "                         unitPrice=852.12,\n",
    "                         book1=b2,\n",
    "                         book2=bExt).write()\n",
    "    \n",
    "    ev3 = TradeOpenEvent(action='Sell',\n",
    "                         item=ins1,\n",
    "                         quantity=100,\n",
    "                         premium=cf1,\n",
    "                         unitPrice=175.85,\n",
    "                         book1=b2,\n",
    "                         book2=bExt2).write()\n",
    "    \n",
    "    ts4 = Timestamp()\n",
    "    \n",
    "    s1_ibm.update(last=175.70)\n",
    "    s1_goog.update(last=852.11)\n",
    "    \n",
    "    ts5 = Timestamp()\n",
    "    \n",
    "    s1_ibm.update(last=175.68)\n",
    "    s1_goog.update(last=852.13)\n",
    "    \n",
    "    eod = Timestamp()\n",
    "    \n",
    "    ev4 = TradeOpenEvent(action='Buy',\n",
    "                         item=ins1,\n",
    "                         quantity=100,\n",
    "                         premium=cf1,\n",
    "                         unitPrice=175.69,\n",
    "                         book1=b1,\n",
    "                         book2=bExt,\n",
    "                         amends=ev1,\n",
    "                         message='Sorry, the broker says you actually paid 69. signed: the middle office'\n",
    "                        ).write(validTime=ev1.meta._timestamp.validTime)\n",
    "    \n",
    "    s1_ibm.update(last=177.68)\n",
    "    s1_goog.update(last=856.13)\n",
    "    \n",
    "    ts6 = Timestamp()\n",
    "    "
   ]
  },
  {
   "cell_type": "code",
   "execution_count": 7,
   "metadata": {
    "collapsed": false,
    "scrolled": false
   },
   "outputs": [
    {
     "data": {
      "text/markdown": [
       "# PnL explain for TopOfTheHouse: $1196.00"
      ],
      "text/plain": [
       "<IPython.core.display.Markdown object>"
      ]
     },
     "metadata": {},
     "output_type": "display_data"
    },
    {
     "data": {
      "text/markdown": [
       "|Activity|PnL|\n",
       "|-|-|\n",
       "|Starting Balance|23.00\n",
       "|Starting balance breaks|0.00\n",
       "|prior day amends: MarketData|0.00\n",
       "|prior day amends: Portfolio|0.00\n",
       "|prior day amends: Trading|-4.00\n",
       "|activity: MarketData|1200.00\n",
       "|activity: Portfolio|0.00\n",
       "|activity: Trading|0.00\n",
       "|Ending balance breaks|0.00"
      ],
      "text/plain": [
       "<IPython.core.display.Markdown object>"
      ]
     },
     "metadata": {},
     "output_type": "display_data"
    }
   ],
   "source": [
    "pm = None\n",
    "\n",
    "class Report(Entity):\n",
    "    @node(stored=True)\n",
    "    def valuable(self):\n",
    "        return None\n",
    "    \n",
    "    @node(stored=True)\n",
    "    def ts1(self):\n",
    "        return None\n",
    "    \n",
    "    @node(stored=True)\n",
    "    def ts2(self):\n",
    "        return None\n",
    "    \n",
    "    @node\n",
    "    def data(self):\n",
    "        valuable = self.valuable()\n",
    "        ts1 = self.ts1()\n",
    "        ts2 = self.ts2()\n",
    "        clock = valuable.getObj(_tr.RootClock, 'Main')\n",
    "    \n",
    "        def clocks(ts):\n",
    "            def fn(node):\n",
    "                obj = node.key[0]\n",
    "                m = node.key[1].split(':')[-1]\n",
    "                if isinstance(obj, _tr.Clock) and m == 'cutoffs':\n",
    "                    return True\n",
    "            with Context({clock.cutoffs: ts}, 'Clocks'):\n",
    "                nodes = find(valuable.NPV, fn)\n",
    "                return dict( [ (node.tweakPoint, node) for node in nodes ] )\n",
    "    \n",
    "        allNodes = clocks(ts1)\n",
    "    \n",
    "        allNodes.update(clocks(ts2))\n",
    "        nodes = allNodes.values() \n",
    "    \n",
    "        # IRL, we'd sort these according to some business req...\n",
    "        nodes = sorted(nodes, key = lambda node: node.key[0].meta.name())\n",
    "    \n",
    "        data = []\n",
    "        curr = [0]\n",
    "        def add(title, npv):\n",
    "            pnl = npv - curr[0]\n",
    "            curr[0] = npv\n",
    "            data.append( {'Activity': title, 'PnL': pnl } )\n",
    "\n",
    "        with Context({clock.cutoffs: ts1}, 'Start'):\n",
    "            add('Starting Balance', valuable.NPV())\n",
    "    \n",
    "        tweaks = {}\n",
    "        for n in nodes:\n",
    "            tweaks[n.tweakPoint] = ts1\n",
    "        with Context(tweaks, name='Start breaks'):\n",
    "            start = valuable.NPV()\n",
    "            add('Starting balance breaks', start)\n",
    "\n",
    "        tsAmend = Timestamp(t=ts2.transactionTime, v=ts1.validTime)\n",
    "        for n in nodes:\n",
    "            tweaks[n.tweakPoint] = tsAmend\n",
    "            name = n.key[0].meta.name()\n",
    "            with Context(tweaks, name='Amend %s' % name):\n",
    "                add('prior day amends: %s' % name, valuable.NPV())\n",
    "        for n in nodes:\n",
    "            tweaks[n.tweakPoint] = ts2\n",
    "            name = n.key[0].meta.name()\n",
    "            with Context(tweaks, name='Activity %s' % name):\n",
    "                add('activity: %s' % name, valuable.NPV())\n",
    "    \n",
    "        with Context({clock.cutoffs: ts2}, name='End'):\n",
    "            end = valuable.NPV()\n",
    "            add('Ending balance breaks', end)\n",
    "\n",
    "        title = 'PnL explain for %s: $%s' % (valuable.meta.name(), end-start)\n",
    "        return data, title\n",
    "\n",
    "    def run(self):\n",
    "        data, title = self.data()\n",
    "        displayHeader('%s' % title)\n",
    "        displayListOfDicts(data, names=['Activity', 'PnL'] )\n",
    "    \n",
    "r = Report(valuable=pAll, ts1=eod, ts2=ts6)\n",
    "r.run()"
   ]
  },
  {
   "cell_type": "code",
   "execution_count": 8,
   "metadata": {
    "collapsed": false
   },
   "outputs": [],
   "source": [
    "with db:\n",
    "    p1.setChildren(p1.children() + [b2])\n",
    "\n",
    "ts7 = Timestamp()"
   ]
  },
  {
   "cell_type": "code",
   "execution_count": 9,
   "metadata": {
    "collapsed": false,
    "scrolled": false
   },
   "outputs": [
    {
     "name": "stdout",
     "output_type": "stream",
     "text": [
      "LogMessage: Oops, book appears multiple times\n",
      "LogMessage: Oops, book appears multiple times\n",
      "LogMessage: Oops, book appears multiple times\n",
      "LogMessage: Oops, book appears multiple times\n"
     ]
    },
    {
     "data": {
      "text/markdown": [
       "# PnL explain for TopOfTheHouse: $2216.00"
      ],
      "text/plain": [
       "<IPython.core.display.Markdown object>"
      ]
     },
     "metadata": {},
     "output_type": "display_data"
    },
    {
     "data": {
      "text/markdown": [
       "|Activity|PnL|\n",
       "|-|-|\n",
       "|Starting Balance|23.00\n",
       "|Starting balance breaks|0.00\n",
       "|prior day amends: MarketData|0.00\n",
       "|prior day amends: Portfolio|0.00\n",
       "|prior day amends: Trading|-4.00\n",
       "|activity: MarketData|1200.00\n",
       "|activity: Portfolio|1020.00\n",
       "|activity: Trading|0.00\n",
       "|Ending balance breaks|0.00"
      ],
      "text/plain": [
       "<IPython.core.display.Markdown object>"
      ]
     },
     "metadata": {},
     "output_type": "display_data"
    },
    {
     "data": {
      "text/markdown": [
       "\n",
       "### Profile by nodes.\n",
       "* times are in microseconds\n",
       "* cumT is total time spent in funtion\n",
       "* calcT is time spent in function, but not in a child node"
      ],
      "text/plain": [
       "<IPython.core.display.Markdown object>"
      ]
     },
     "metadata": {},
     "output_type": "display_data"
    },
    {
     "data": {
      "text/markdown": [
       "|fn|n|cumT|calcT|cumT/call|sys|\n",
       "|-|-|-|-|-|-|\n",
       "|Portfolio:items|33|2,493,550|284|75,562|GetValue\n",
       "|Portfolio:items|33|2,493,266|5,277|75,553|GetValue/Calc\n",
       "|Report:data|1|1,473,689|13|1,473,689|GetValue\n",
       "|Report:data|1|1,473,675|354|1,473,675|GetValue/Calc\n",
       "|TradingContainer:NPV|11|1,468,446|118|133,495|GetValue\n",
       "|TradingContainer:NPV|11|1,468,327|1,505|133,484|GetValue/Calc\n",
       "|Workbook:items|224|1,010,766|1,940|4,512|GetValue\n",
       "|Workbook:items|220|1,008,826|895,231|4,585|GetValue/Calc\n",
       "|Root:Clocks|2|497,830|835|248,915|Context\n",
       "|Portfolio:children|66|269,493|430|4,083|GetValue\n",
       "|Portfolio:children|33|269,062|144,005|8,153|GetValue/Calc\n",
       "|Equity:NPV|15|179,282|162|11,952|GetValue\n",
       "|Equity:NPV|15|179,119|343|11,941|GetValue/Calc\n",
       "|MarketInterface:spot|15|165,453|125|11,030|GetValue\n",
       "|MarketInterface:spot|15|165,327|392|11,021|GetValue/Calc\n",
       "|ExternalRefData:state|15|156,818|121|10,454|GetValue\n",
       "|ExternalRefData:state|15|156,696|455|10,446|GetValue/Calc\n",
       "|RefData:state|15|156,241|145|10,416|GetValue\n",
       "|RefData:state|15|156,095|70,501|10,406|GetValue/Calc\n",
       "|Clock:cutoffs|544|131,490|2,003|241|GetValue\n",
       "|Clock:cutoffs|20|129,486|404|6,474|GetValue/Calc\n",
       "|Root:End|1|127,113|37|127,113|Context\n",
       "|Root:Start|1|120,468|34|120,468|Context\n",
       "|Root:Activity Portfolio|1|107,919|41|107,919|Context\n",
       "|Root:Activity Trading|1|106,992|36|106,992|Context\n",
       "|Root:Amend Trading|1|104,916|34|104,916|Context\n",
       "|Root:Amend Portfolio|1|101,994|32|101,994|Context\n",
       "|Root:Start breaks|1|101,799|35|101,799|Context\n",
       "|Root:Activity MarketData|1|100,353|45|100,353|Context\n",
       "|Root:Amend MarketData|1|100,223|34|100,223|Context\n",
       "|Clock:parent|20|97,020|147|4,851|GetValue\n",
       "|Clock:parent|20|96,873|78,885|4,843|GetValue/Calc\n",
       "|TradingBook|22|87,234|87,234|3,965|Db.Get\n",
       "|PortfolioUpdateEvent:children|33|85,546|530|2,592|GetValue\n",
       "|RefDataUpdateEvent|9|39,015|39,015|4,335|Db.Get\n",
       "|Clock|5|20,947|20,947|4,189|Db.Get\n",
       "|TradeOpenEvent|4|18,976|18,976|4,744|Db.Get\n",
       "|PortfolioUpdateEvent|4|18,719|18,719|4,679|Db.Get\n",
       "|TradeOpenEvent:ticket|66|17,799|355|269|GetValue\n",
       "|TradingTicket|4|17,443|17,443|4,360|Db.Get\n",
       "|Equity:refdata|15|13,322|144|888|GetValue\n",
       "|Equity:refdata|15|13,177|432|878|GetValue/Calc\n",
       "|TradingBook:clock|440|11,414|3,956|25|GetValue\n",
       "|_WorkItemEvent:book2|66|9,660|441|146|GetValue\n",
       "|ClockEvent|2|9,588|9,588|4,794|Db.Get\n",
       "|MarketInterface|2|8,504|8,504|4,252|Db.Get\n",
       "|MarketInterface:source|15|8,116|112|541|GetValue\n",
       "|MarketInterface:source|15|8,003|362|533|GetValue/Calc\n",
       "|ClockEvent:parent|8|7,651|72|956|GetValue\n",
       "|TradingBook:clock|220|7,457|3,255|33|GetValue/Calc\n",
       "|MarketDataSource|2|7,447|7,447|3,723|Db.Get\n",
       "|_WorkItemEvent:item|33|7,336|214|222|GetValue\n",
       "|Equity|2|7,122|7,122|3,561|Db.Get\n",
       "|TradingPortfolio|2|6,999|6,999|3,499|Db.Get\n",
       "|MarketDataSource:clock|30|6,171|235|205|GetValue\n",
       "|MarketDataSource:clock|15|5,935|203|395|GetValue/Calc\n",
       "|Portfolio:clock|66|4,512|596|68|GetValue\n",
       "|MarketInterface|1|4,137|4,137|4,137|Db.Put\n",
       "|Portfolio:clock|33|3,915|481|118|GetValue/Calc\n",
       "|RootClock|1|3,695|3,695|3,695|Db.Get\n",
       "|TradeOpenEvent:premium|33|3,635|192|110|GetValue\n",
       "|ForwardCashflow|1|3,443|3,443|3,443|Db.Get\n",
       "|Portfolio:books|55|1,666|399|30|GetValue\n",
       "|Portfolio:books|33|1,266|1,077|38|GetValue/Calc\n",
       "|Event:amends|142|857|857|6|GetValue\n",
       "|Entity:clock|40|552|345|13|GetValue\n",
       "|_WorkItemEvent:book1|66|300|300|4|GetValue\n",
       "|TradeOpenEvent:quantity|66|286|286|4|GetValue\n",
       "|RefDataUpdateEvent:data|58|269|269|4|GetValue\n",
       "|ForwardCashflow:NPV|11|240|188|21|GetValue\n",
       "|Entity:clock|20|206|206|10|GetValue/Calc\n",
       "|MarketInterface:sourceName|15|192|128|12|GetValue\n",
       "|RootClock:cutoffs|52|181|181|3|GetValue\n",
       "|TradeOpenEvent:action|33|173|173|5|GetValue\n",
       "|TradeOpenEvent:unitPrice|33|158|158|4|GetValue\n",
       "|Equity:assetName|15|103|103|6|GetValue\n",
       "|MarketInterface:sourceName|15|64|64|4|GetValue/Calc\n",
       "|ForwardCashflow:NPV|11|51|51|4|GetValue/Calc\n",
       "|Report:valuable|1|6|6|6|GetValue\n",
       "|Report:ts2|1|4|4|4|GetValue\n",
       "|Report:ts1|1|3|3|3|GetValue"
      ],
      "text/plain": [
       "<IPython.core.display.Markdown object>"
      ]
     },
     "metadata": {},
     "output_type": "display_data"
    }
   ],
   "source": [
    "db3 = db.copy()\n",
    "p = db3._get(pAll.meta.path())\n",
    "    \n",
    "# Note misleading cum times below due to recursion...\n",
    "\n",
    "with ProfileMonitor(mode='sum'): \n",
    "    r = Report(valuable=p, ts1=eod, ts2=ts7)\n",
    "    r.run()"
   ]
  }
 ],
 "metadata": {
  "kernelspec": {
   "display_name": "Python 2",
   "language": "python",
   "name": "python2"
  },
  "language_info": {
   "codemirror_mode": {
    "name": "ipython",
    "version": 2
   },
   "file_extension": ".py",
   "mimetype": "text/x-python",
   "name": "python",
   "nbconvert_exporter": "python",
   "pygments_lexer": "ipython2",
   "version": "2.7.13"
  }
 },
 "nbformat": 4,
 "nbformat_minor": 2
}
