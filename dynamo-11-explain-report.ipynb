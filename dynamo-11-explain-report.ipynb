{
 "cells": [
  {
   "cell_type": "code",
   "execution_count": 1,
   "metadata": {
    "collapsed": false
   },
   "outputs": [
    {
     "name": "stdout",
     "output_type": "stream",
     "text": [
      "<mand.db.ObjectDb object at 0x111b1bc50>: 137, mem=True, ro=False: entities=9, map=2\n"
     ]
    }
   ],
   "source": [
    "import mand.core\n",
    "\n",
    "from mand.core import Entity, node, Context\n",
    "\n",
    "from mand.core import ObjectDb, _tr, Timestamp, Context, getNode\n",
    "from mand.core import ProfileMonitor, PrintMonitor\n",
    "from mand.lib.extrefdata import ExternalRefData, dataField\n",
    "from mand.lib.workflow import Workbook, WorkItemOpenEvent, WorkItem\n",
    "from mand.lib.portfolio import Portfolio\n",
    "from mand.core import displayDict, displayMarkdown, displayListOfDicts, displayHeader\n",
    "from mand.core import num, find\n",
    "import datetime\n",
    "from mand.lib.dbsetup import setUpDb\n",
    "\n",
    "from mand.demos.trading import TradingBook, TradingPortfolio, MarketDataSource, MarketInterface\n",
    "\n",
    "db = ObjectDb()\n",
    "setUpDb(db)\n",
    "db.describe()"
   ]
  },
  {
   "cell_type": "code",
   "execution_count": 2,
   "metadata": {
    "collapsed": false
   },
   "outputs": [
    {
     "name": "stdout",
     "output_type": "stream",
     "text": [
      "<mand.demos.trading.TradingPortfolio object at 0x111c38250>\n",
      "# books: 100\n",
      "# children: 10\n"
     ]
    }
   ],
   "source": [
    "def makeTree(names):\n",
    "    ret = []\n",
    "    for name in names:\n",
    "        subs = [ TradingBook(name+str(i)) for i in range(10) ]\n",
    "        p = TradingPortfolio(name).write()\n",
    "        p.setChildren(subs)\n",
    "        ret.append(p)\n",
    "    return ret\n",
    "\n",
    "with db:\n",
    "    pAll = TradingPortfolio('TopOfTheHouse').write()\n",
    "    subs = makeTree(['Eq-Prop', 'Eq-Inst', 'FX', 'Rates', 'Credit', 'Delta1', 'Loans', 'Commod', 'ETFs', 'Mtge'])\n",
    "    pAll.setChildren(subs)\n",
    "    \n",
    "print pAll\n",
    "print '# books:', len(pAll.books())\n",
    "print '# children:', len(pAll.children())"
   ]
  },
  {
   "cell_type": "code",
   "execution_count": 3,
   "metadata": {
    "collapsed": false
   },
   "outputs": [
    {
     "name": "stdout",
     "output_type": "stream",
     "text": [
      "Customer1\n",
      "Eq-Prop0\n",
      "Eq-Inst0\n"
     ]
    }
   ],
   "source": [
    "with db:\n",
    "    bExt  = _tr.TradingBook('Customer1')\n",
    "    bExt2 = _tr.TradingBook('Customer2')\n",
    "    \n",
    "p1 = pAll.children()[0]\n",
    "p2 = pAll.children()[1]\n",
    "\n",
    "b1 = p1.children()[0]\n",
    "b2 = p2.children()[0]\n",
    "\n",
    "print bExt.meta.name()\n",
    "print b1.meta.name()\n",
    "print b2.meta.name()"
   ]
  },
  {
   "cell_type": "code",
   "execution_count": 4,
   "metadata": {
    "collapsed": false,
    "scrolled": false
   },
   "outputs": [],
   "source": [
    "with db:\n",
    "    s1_ibm  = MarketDataSource('source1.IBM')\n",
    "    s1_goog = MarketDataSource('source1.GOOG')\n",
    "\n",
    "s1_ibm.update(last=175.61)\n",
    "s1_goog.update(last=852.12)"
   ]
  },
  {
   "cell_type": "code",
   "execution_count": 5,
   "metadata": {
    "collapsed": false
   },
   "outputs": [],
   "source": [
    "with db:\n",
    "    ibm  = MarketInterface('IBM')\n",
    "    goog = MarketInterface('GOOG')"
   ]
  },
  {
   "cell_type": "code",
   "execution_count": 6,
   "metadata": {
    "collapsed": false
   },
   "outputs": [],
   "source": [
    "with db:\n",
    "    TradeOpenEvent = _tr.TradeOpenEvent\n",
    "    cf1 = _tr.ForwardCashflow()\n",
    "    ins1 = _tr.Equity()\n",
    "    ins2 = _tr.Equity(assetName='GOOG.Eq.1')\n",
    "    \n",
    "    ts1 = Timestamp()\n",
    "    \n",
    "    ev1 = TradeOpenEvent(action='Buy',\n",
    "                         item=ins1,\n",
    "                         quantity=100,\n",
    "                         premium=cf1,\n",
    "                         unitPrice=175.65,\n",
    "                         book1=b1,\n",
    "                         book2=bExt).write()\n",
    "    \n",
    "    ts2 = Timestamp()\n",
    "    \n",
    "    s1_ibm.update(last=175.64)\n",
    "    \n",
    "    ts3 = Timestamp()\n",
    "    \n",
    "    ev2 = TradeOpenEvent(action='Buy',\n",
    "                         item=ins2,\n",
    "                         quantity=300,\n",
    "                         premium=cf1,\n",
    "                         unitPrice=852.12,\n",
    "                         book1=b2,\n",
    "                         book2=bExt).write()\n",
    "    \n",
    "    ev3 = TradeOpenEvent(action='Sell',\n",
    "                         item=ins1,\n",
    "                         quantity=100,\n",
    "                         premium=cf1,\n",
    "                         unitPrice=175.85,\n",
    "                         book1=b2,\n",
    "                         book2=bExt2).write()\n",
    "    \n",
    "    ts4 = Timestamp()\n",
    "    \n",
    "    s1_ibm.update(last=175.70)\n",
    "    s1_goog.update(last=852.11)\n",
    "    \n",
    "    ts5 = Timestamp()\n",
    "    \n",
    "    s1_ibm.update(last=175.68)\n",
    "    s1_goog.update(last=852.13)\n",
    "    \n",
    "    eod = Timestamp()\n",
    "    \n",
    "    ev4 = TradeOpenEvent(action='Buy',\n",
    "                         item=ins1,\n",
    "                         quantity=100,\n",
    "                         premium=cf1,\n",
    "                         unitPrice=175.69,\n",
    "                         book1=b1,\n",
    "                         book2=bExt,\n",
    "                         amends=ev1,\n",
    "                         message='Sorry, the broker says you actually paid 69. signed: the middle office'\n",
    "                        ).write(validTime=ev1.meta._timestamp.validTime)\n",
    "    \n",
    "    s1_ibm.update(last=177.68)\n",
    "    s1_goog.update(last=856.13)\n",
    "    \n",
    "    ts6 = Timestamp()\n",
    "    "
   ]
  },
  {
   "cell_type": "code",
   "execution_count": 7,
   "metadata": {
    "collapsed": false,
    "scrolled": false
   },
   "outputs": [
    {
     "data": {
      "text/markdown": [
       "# PnL explain for TopOfTheHouse: 1196.00"
      ],
      "text/plain": [
       "<IPython.core.display.Markdown object>"
      ]
     },
     "metadata": {},
     "output_type": "display_data"
    },
    {
     "data": {
      "text/markdown": [
       "|Activity|PnL|\n",
       "|-|-|\n",
       "|Starting balance breaks|0.00\n",
       "|prior day amends: MarketData|0.00\n",
       "|prior day amends: Portfolio|0.00\n",
       "|prior day amends: Trading|-4.00\n",
       "|activity: MarketData|1200.00\n",
       "|activity: Portfolio|0.00\n",
       "|activity: Trading|0.00\n",
       "|Ending balance breaks|0.00"
      ],
      "text/plain": [
       "<IPython.core.display.Markdown object>"
      ]
     },
     "metadata": {},
     "output_type": "display_data"
    }
   ],
   "source": [
    "class Report(Entity):\n",
    "    @node(stored=True)\n",
    "    def valuable(self):\n",
    "        return None\n",
    "    \n",
    "    @node(stored=True)\n",
    "    def ts1(self):\n",
    "        return None\n",
    "    \n",
    "    @node(stored=True)\n",
    "    def ts2(self):\n",
    "        return None\n",
    "    \n",
    "    @node\n",
    "    def data(self):\n",
    "        valuable = self.valuable()\n",
    "        ts1 = self.ts1()\n",
    "        ts2 = self.ts2()\n",
    "        clock = valuable.getObj(_tr.RootClock, 'Main')\n",
    "    \n",
    "        def clocks(ts):\n",
    "            def fn(node):\n",
    "                obj = node.key[0]\n",
    "                m = node.key[1].split(':')[-1]\n",
    "                if isinstance(obj, _tr.Clock) and m == 'cutoffs':\n",
    "                    return True\n",
    "            with Context({clock.cutoffs: ts}, 'Clocks'):\n",
    "                nodes = find(valuable.NPV, fn)\n",
    "                return dict( [ (node.tweakPoint, node) for node in nodes ] )\n",
    "    \n",
    "        allNodes = clocks(ts1)\n",
    "    \n",
    "        allNodes.update(clocks(ts2))\n",
    "        nodes = allNodes.values() \n",
    "    \n",
    "        # IRL, we'd sort these according to some business req...\n",
    "        # And our clocks might be arranged in an N-level tree...\n",
    "        nodes = sorted(nodes, key = lambda node: node.key[0].meta.name())\n",
    "    \n",
    "        data = []\n",
    "        curr = [0]\n",
    "        def add(title, npv):\n",
    "            pnl = npv - curr[0]\n",
    "            curr[0] = npv\n",
    "            data.append( {'Activity': title, 'PnL': pnl } )\n",
    "\n",
    "        with Context({clock.cutoffs: ts1}, 'Start'):\n",
    "            curr = [ valuable.NPV() ] # Starting balance\n",
    "    \n",
    "        tweaks = {}\n",
    "        for n in nodes:\n",
    "            tweaks[n.tweakPoint] = ts1\n",
    "        with Context(tweaks, name='Start breaks'):\n",
    "            start = valuable.NPV()\n",
    "            add('Starting balance breaks', start)\n",
    "\n",
    "        tsAmend = Timestamp(t=ts2.transactionTime, v=ts1.validTime)\n",
    "        for n in nodes:\n",
    "            tweaks[n.tweakPoint] = tsAmend\n",
    "            name = n.key[0].meta.name()\n",
    "            with Context(tweaks, name='Amend %s' % name):\n",
    "                add('prior day amends: %s' % name, valuable.NPV())\n",
    "        for n in nodes:\n",
    "            tweaks[n.tweakPoint] = ts2\n",
    "            name = n.key[0].meta.name()\n",
    "            with Context(tweaks, name='Activity %s' % name):\n",
    "                add('activity: %s' % name, valuable.NPV())\n",
    "    \n",
    "        with Context({clock.cutoffs: ts2}, name='End'):\n",
    "            end = valuable.NPV()\n",
    "            add('Ending balance breaks', end)\n",
    "\n",
    "        title = 'PnL explain for %s: %s' % (valuable.meta.name(), end-start)\n",
    "        return data, title\n",
    "\n",
    "    def run(self):\n",
    "        data, title = self.data()\n",
    "        node = getNode(self.data)\n",
    "        footnotes = node.footnotes.values()\n",
    "        displayHeader('%s' % title)\n",
    "        if footnotes:\n",
    "            displayMarkdown('**Caveat: this report encountered problems. See footnotes at bottom.**')\n",
    "        displayListOfDicts(data, names=['Activity', 'PnL'] )\n",
    "        if footnotes:\n",
    "            displayMarkdown('## Footnotes:')\n",
    "            for f in footnotes:\n",
    "                displayMarkdown('1. %s' % f)\n",
    "    \n",
    "r = Report(valuable=pAll, ts1=eod, ts2=ts6)\n",
    "r.run()"
   ]
  },
  {
   "cell_type": "markdown",
   "metadata": {},
   "source": [
    "## Add some inconsistent data [Test]\n",
    "\n",
    "Book b2 should appear multiple times in some portfolio trees and be flagged accordingly..."
   ]
  },
  {
   "cell_type": "code",
   "execution_count": 8,
   "metadata": {
    "collapsed": false
   },
   "outputs": [],
   "source": [
    "with db:\n",
    "    p1.setChildren(p1.children() + [b2])\n",
    "\n",
    "ts7 = Timestamp()"
   ]
  },
  {
   "cell_type": "code",
   "execution_count": 9,
   "metadata": {
    "collapsed": false,
    "scrolled": false
   },
   "outputs": [
    {
     "data": {
      "text/markdown": [
       "# PnL explain for TopOfTheHouse: 2216.00"
      ],
      "text/plain": [
       "<IPython.core.display.Markdown object>"
      ]
     },
     "metadata": {},
     "output_type": "display_data"
    },
    {
     "data": {
      "text/markdown": [
       "**Caveat: this report encountered problems. See footnotes at bottom.**"
      ],
      "text/plain": [
       "<IPython.core.display.Markdown object>"
      ]
     },
     "metadata": {},
     "output_type": "display_data"
    },
    {
     "data": {
      "text/markdown": [
       "|Activity|PnL|\n",
       "|-|-|\n",
       "|Starting balance breaks|0.00\n",
       "|prior day amends: MarketData|0.00\n",
       "|prior day amends: Portfolio|0.00\n",
       "|prior day amends: Trading|-4.00\n",
       "|activity: MarketData|1200.00\n",
       "|activity: Portfolio|1020.00\n",
       "|activity: Trading|0.00\n",
       "|Ending balance breaks|0.00"
      ],
      "text/plain": [
       "<IPython.core.display.Markdown object>"
      ]
     },
     "metadata": {},
     "output_type": "display_data"
    },
    {
     "data": {
      "text/markdown": [
       "## Footnotes:"
      ],
      "text/plain": [
       "<IPython.core.display.Markdown object>"
      ]
     },
     "metadata": {},
     "output_type": "display_data"
    },
    {
     "data": {
      "text/markdown": [
       "1. Book appears multiple times: /Global/TradingBook/Eq-Inst0"
      ],
      "text/plain": [
       "<IPython.core.display.Markdown object>"
      ]
     },
     "metadata": {},
     "output_type": "display_data"
    },
    {
     "data": {
      "text/markdown": [
       "\n",
       "### Profile by nodes.\n",
       "* times are in microseconds\n",
       "* cumT is total time spent in funtion\n",
       "* calcT is time spent in function, but not in a child node"
      ],
      "text/plain": [
       "<IPython.core.display.Markdown object>"
      ]
     },
     "metadata": {},
     "output_type": "display_data"
    },
    {
     "data": {
      "text/markdown": [
       "|fn|n|cumT|calcT|cumT/call|sys|\n",
       "|-|-|-|-|-|-|\n",
       "|Report:data|1|6,014,764|14|6,014,764|GetValue\n",
       "|Report:data|1|6,014,750|444|6,014,750|GetValue/Calc\n",
       "|TradingContainer:NPV|11|6,007,300|140|546,118|GetValue\n",
       "|TradingContainer:NPV|11|6,007,159|1,818|546,105|GetValue/Calc\n",
       "|Portfolio:items|121|5,817,749|1,375|48,080|GetValue\n",
       "|Portfolio:items|121|5,817,666|19,321|48,079|GetValue/Calc\n",
       "|Workbook:items|1,104|4,739,099|9,542|4,292|GetValue\n",
       "|Workbook:items|1,100|4,729,557|4,584,030|4,299|GetValue/Calc\n",
       "|Root:Clocks|2|1,643,125|2,601|821,562|Context\n",
       "|Portfolio:children|242|1,052,678|1,397|4,349|GetValue\n",
       "|Portfolio:children|121|1,051,280|528,497|8,688|GetValue/Calc\n",
       "|Root:Start|1|501,363|18|501,363|Context\n",
       "|Root:End|1|498,018|48|498,018|Context\n",
       "|Root:Activity Portfolio|1|488,688|58|488,688|Context\n",
       "|Root:Start breaks|1|487,349|40|487,349|Context\n",
       "|Root:Activity Trading|1|483,737|46|483,737|Context\n",
       "|Root:Amend Trading|1|480,942|40|480,942|Context\n",
       "|Root:Activity MarketData|1|480,307|37|480,307|Context\n",
       "|Root:Amend Portfolio|1|473,881|39|473,881|Context\n",
       "|Root:Amend MarketData|1|472,851|39|472,851|Context\n",
       "|PortfolioUpdateEvent:children|121|438,947|2,607|3,627|GetValue\n",
       "|TradingBook|102|404,337|404,337|3,964|Db.Get\n",
       "|Equity:NPV|15|187,420|164|12,494|GetValue\n",
       "|Equity:NPV|15|187,255|435|12,483|GetValue/Calc\n",
       "|MarketInterface:spot|15|174,128|129|11,608|GetValue\n",
       "|MarketInterface:spot|15|173,998|414|11,599|GetValue/Calc\n",
       "|ExternalRefData:state|15|164,396|146|10,959|GetValue\n",
       "|ExternalRefData:state|15|164,249|295|10,949|GetValue/Calc\n",
       "|RefData:state|15|163,954|287|10,930|GetValue\n",
       "|RefData:state|15|163,666|71,311|10,911|GetValue/Calc\n",
       "|Clock:cutoffs|2,480|111,144|7,488|44|GetValue\n",
       "|Clock:cutoffs|20|103,720|429|5,186|GetValue/Calc\n",
       "|Clock:parent|20|103,176|151|5,158|GetValue\n",
       "|Clock:parent|20|103,024|83,078|5,151|GetValue/Calc\n",
       "|PortfolioUpdateEvent|12|58,020|58,020|4,835|Db.Get\n",
       "|RefDataUpdateEvent|9|43,515|43,515|4,835|Db.Get\n",
       "|TradingPortfolio|10|40,395|40,395|4,039|Db.Get\n",
       "|TradingBook:clock|2,200|37,398|18,328|16|GetValue\n",
       "|Clock|5|20,774|20,774|4,154|Db.Get\n",
       "|TradingBook:clock|1,100|19,069|15,197|17|GetValue/Calc\n",
       "|TradeOpenEvent|4|18,644|18,644|4,661|Db.Get\n",
       "|TradeOpenEvent:ticket|66|17,666|350|267|GetValue\n",
       "|TradingTicket|4|17,315|17,315|4,328|Db.Get\n",
       "|Equity:refdata|15|12,691|142|846|GetValue\n",
       "|Equity:refdata|15|12,549|654|836|GetValue/Calc\n",
       "|ClockEvent|2|10,210|10,210|5,105|Db.Get\n",
       "|MarketInterface:source|15|9,187|108|612|GetValue\n",
       "|MarketInterface:source|15|9,078|371|605|GetValue/Calc\n",
       "|ClockEvent:parent|8|9,070|67|1,133|GetValue\n",
       "|_WorkItemEvent:book2|66|8,685|293|131|GetValue\n",
       "|MarketDataSource|2|8,540|8,540|4,270|Db.Get\n",
       "|_WorkItemEvent:item|33|7,965|243|241|GetValue\n",
       "|MarketInterface|2|7,768|7,768|3,884|Db.Get\n",
       "|Equity|2|7,721|7,721|3,860|Db.Get\n",
       "|Portfolio:clock|242|7,511|2,098|31|GetValue\n",
       "|Portfolio:books|231|5,635|1,530|24|GetValue\n",
       "|Portfolio:clock|121|5,413|1,629|44|GetValue/Calc\n",
       "|MarketDataSource:clock|30|4,559|238|151|GetValue\n",
       "|Portfolio:books|121|4,404|3,744|36|GetValue/Calc\n",
       "|MarketDataSource:clock|15|4,321|206|288|GetValue/Calc\n",
       "|TradeOpenEvent:premium|33|4,059|204|123|GetValue\n",
       "|MarketInterface|1|4,034|4,034|4,034|Db.Put\n",
       "|RootClock|1|4,025|4,025|4,025|Db.Get\n",
       "|ForwardCashflow|1|3,854|3,854|3,854|Db.Get\n",
       "|Event:amends|230|1,474|1,474|6|GetValue\n",
       "|Entity:clock|40|483|301|12|GetValue\n",
       "|_WorkItemEvent:book1|66|293|293|4|GetValue\n",
       "|TradeOpenEvent:quantity|66|246|246|3|GetValue\n",
       "|RefDataUpdateEvent:data|58|244|244|4|GetValue\n",
       "|RootClock:cutoffs|52|186|186|3|GetValue\n",
       "|Entity:clock|20|181|181|9|GetValue/Calc\n",
       "|TradeOpenEvent:action|33|174|174|5|GetValue\n",
       "|ForwardCashflow:NPV|11|171|127|15|GetValue\n",
       "|MarketInterface:sourceName|15|166|118|11|GetValue\n",
       "|TradeOpenEvent:unitPrice|33|156|156|4|GetValue\n",
       "|Equity:assetName|15|91|91|6|GetValue\n",
       "|MarketInterface:sourceName|15|47|47|3|GetValue/Calc\n",
       "|ForwardCashflow:NPV|11|44|44|4|GetValue/Calc\n",
       "|Report:valuable|1|3|3|3|GetValue\n",
       "|Report:ts1|1|3|3|3|GetValue\n",
       "|Report:ts2|1|2|2|2|GetValue"
      ],
      "text/plain": [
       "<IPython.core.display.Markdown object>"
      ]
     },
     "metadata": {},
     "output_type": "display_data"
    }
   ],
   "source": [
    "db3 = db.copy()\n",
    "p = db3._get(pAll.meta.path())\n",
    "\n",
    "with ProfileMonitor(mode='sum'): \n",
    "    r = Report(valuable=p, ts1=eod, ts2=ts7)\n",
    "    r.run()"
   ]
  }
 ],
 "metadata": {
  "kernelspec": {
   "display_name": "Python 2",
   "language": "python",
   "name": "python2"
  },
  "language_info": {
   "codemirror_mode": {
    "name": "ipython",
    "version": 2
   },
   "file_extension": ".py",
   "mimetype": "text/x-python",
   "name": "python",
   "nbconvert_exporter": "python",
   "pygments_lexer": "ipython2",
   "version": "2.7.13"
  }
 },
 "nbformat": 4,
 "nbformat_minor": 2
}
