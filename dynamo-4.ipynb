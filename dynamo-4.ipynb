{
 "cells": [
  {
   "cell_type": "markdown",
   "metadata": {},
   "source": [
    "# RefData and Workflow demos.\n",
    "\n",
    "This is just the dynamo-3 notebook with the core classes refactoring into the mand library."
   ]
  },
  {
   "cell_type": "code",
   "execution_count": 1,
   "metadata": {
    "collapsed": false,
    "scrolled": false
   },
   "outputs": [],
   "source": [
    "import mand.core\n",
    "\n",
    "from mand.core import ObjectDb, DynamoDbDriver, ddb, _tr\n",
    "\n",
    "rawdb = DynamoDbDriver(ddb)\n",
    "db = ObjectDb(rawdb)"
   ]
  },
  {
   "cell_type": "code",
   "execution_count": 2,
   "metadata": {
    "collapsed": false,
    "scrolled": false
   },
   "outputs": [
    {
     "name": "stdout",
     "output_type": "stream",
     "text": [
      "<mand.demos.refdata.CustomerRefData object at 0x113abef90> activeEvents:\n"
     ]
    },
    {
     "data": {
      "text/markdown": [
       "|_validTime|fullName|address|company|_entityName|\n",
       "|-|-|-|-|-|\n",
       "|2017-03-13T13:56:44.799873|Eliza Smith|10 Main St|Frobozz Magic Avocado Company|Customer123\n",
       "|2017-03-13T13:56:44.839692|None|None|Frobozz Magic Fruit Company|Customer123\n",
       "|2017-03-13T13:56:44.854108|Eliza James|None|None|Customer123\n"
      ],
      "text/plain": [
       "<IPython.core.display.Markdown object>"
      ]
     },
     "metadata": {},
     "output_type": "display_data"
    },
    {
     "name": "stdout",
     "output_type": "stream",
     "text": [
      "Clock is at: None\n",
      "data: Eliza James works for Frobozz Magic Fruit Company, located at 10 Main St\n",
      "\n",
      "<mand.demos.refdata.CustomerRefData object at 0x113abef90> _visibleEvents:\n"
     ]
    },
    {
     "data": {
      "text/markdown": [
       "|_validTime|fullName|address|company|_entityName|\n",
       "|-|-|-|-|-|\n",
       "|2017-03-13T13:56:44.799873|Eliza Smith|10 Main St|Frobozz Magic Avocado Company|Customer123\n",
       "|2017-03-13T13:56:44.824500|None|None|Frobozz Magic Friut Company|Customer123\n",
       "|2017-03-13T13:56:44.839692|None|None|Frobozz Magic Fruit Company|Customer123\n",
       "|2017-03-13T13:56:44.854108|Eliza James|None|None|Customer123\n"
      ],
      "text/plain": [
       "<IPython.core.display.Markdown object>"
      ]
     },
     "metadata": {},
     "output_type": "display_data"
    },
    {
     "name": "stdout",
     "output_type": "stream",
     "text": [
      "<mand.demos.refdata.CustomerRefData object at 0x113abef90> activeEvents:\n"
     ]
    },
    {
     "data": {
      "text/markdown": [
       "|_validTime|fullName|address|company|_entityName|\n",
       "|-|-|-|-|-|\n",
       "|2017-03-13T13:56:44.799873|Eliza Smith|10 Main St|Frobozz Magic Avocado Company|Customer123\n",
       "|2017-03-13T13:56:44.839692|None|None|Frobozz Magic Fruit Company|Customer123\n",
       "|2017-03-13T13:56:44.854108|Eliza James|None|None|Customer123\n"
      ],
      "text/plain": [
       "<IPython.core.display.Markdown object>"
      ]
     },
     "metadata": {},
     "output_type": "display_data"
    },
    {
     "name": "stdout",
     "output_type": "stream",
     "text": [
      "\n",
      "\n",
      "Clock is at: <TS:t=2017-03-13T13:56:44.824348,v=2017-03-13T13:56:44.824343>\n",
      "data: Eliza Smith works for Frobozz Magic Avocado Company, located at 10 Main St\n",
      "\n",
      "<mand.demos.refdata.CustomerRefData object at 0x113abef90> _visibleEvents:\n"
     ]
    },
    {
     "data": {
      "text/markdown": [
       "|_validTime|fullName|address|company|_entityName|\n",
       "|-|-|-|-|-|\n",
       "|2017-03-13T13:56:44.799873|Eliza Smith|10 Main St|Frobozz Magic Avocado Company|Customer123\n"
      ],
      "text/plain": [
       "<IPython.core.display.Markdown object>"
      ]
     },
     "metadata": {},
     "output_type": "display_data"
    },
    {
     "name": "stdout",
     "output_type": "stream",
     "text": [
      "<mand.demos.refdata.CustomerRefData object at 0x113abef90> activeEvents:\n"
     ]
    },
    {
     "data": {
      "text/markdown": [
       "|_validTime|fullName|address|company|_entityName|\n",
       "|-|-|-|-|-|\n",
       "|2017-03-13T13:56:44.799873|Eliza Smith|10 Main St|Frobozz Magic Avocado Company|Customer123\n"
      ],
      "text/plain": [
       "<IPython.core.display.Markdown object>"
      ]
     },
     "metadata": {},
     "output_type": "display_data"
    },
    {
     "name": "stdout",
     "output_type": "stream",
     "text": [
      "\n",
      "\n",
      "original db  : <mand.db.ObjectDb object at 0x111c95b10>: DDB-MEM-1: entities=8, map=4\n",
      "new client db: <mand.db.ObjectDb object at 0x113a4f490>: DDB-MEM-1: entities=8, map=4\n",
      "\n",
      "current: Eliza James\n",
      "at ts1 : Eliza Smith\n",
      "\n",
      "Prod db: <mand.db.ObjectDb object at 0x111c95b10>: DDB-MEM-1: entities=8, map=4\n",
      "\n",
      "in production:\n",
      "data: Eliza James works for Frobozz Magic Fruit Company, located at 10 Main St\n",
      "deleting union event: <mand.demos.refdata.CustomerRefDataUpdateEvent object at 0x113b5f210> (ODDB-MEM-4:ODDB-MEM-1)\n",
      "\n",
      "in union:\n",
      "data: Eliza Smith works for Frobozz Magic Fruit Company, located at 10 Main St\n",
      "in production:\n",
      "data: Eliza James works for Frobozz Magic Fruit Company, located at 10 Main St\n",
      "Prod db: <mand.db.ObjectDb object at 0x111c95b10>: DDB-MEM-1: entities=8, map=4\n",
      "New db: <mand.db.ObjectDb object at 0x113a5cd90>: DDB-MEM-4: entities=3, map=1\n",
      "Union db: (<mand.db.ObjectDb object at 0x113a5cd90>: DDB-MEM-4: entities=3, map=1 <mand.db.ObjectDb object at 0x111c95b10>: DDB-MEM-1: entities=8, map=4)\n",
      "Line item end of day:\n",
      "data: Joe James works for Frobozz Magic Lamp Company, located at 235 W 76\n",
      "Line item end of day (rerun):\n",
      "data: Joe James works for Frobozz Magic Lamp Company, located at 235 W 76\n",
      "\n",
      "Line item generated from corrected end of day report:\n",
      "data: Joe James works for Frobozz Magic Lamp Company, located at 1 First Ave\n",
      "\n",
      "Current line item:\n",
      "data: Joe James works for Frobozz Magic Illumination Company, located at 1 First Ave\n"
     ]
    }
   ],
   "source": [
    "import mand.demos.refdata\n",
    "\n",
    "mand.demos.refdata.main(db)"
   ]
  },
  {
   "cell_type": "code",
   "execution_count": 3,
   "metadata": {
    "collapsed": false,
    "scrolled": false
   },
   "outputs": [
    {
     "ename": "KeyError",
     "evalue": "'Workbook'",
     "output_type": "error",
     "traceback": [
      "\u001b[0;31m---------------------------------------------------------------------------\u001b[0m",
      "\u001b[0;31mKeyError\u001b[0m                                  Traceback (most recent call last)",
      "\u001b[0;32m<ipython-input-3-5e06783412c3>\u001b[0m in \u001b[0;36m<module>\u001b[0;34m()\u001b[0m\n\u001b[0;32m----> 1\u001b[0;31m \u001b[0;32mimport\u001b[0m \u001b[0mmand\u001b[0m\u001b[0;34m.\u001b[0m\u001b[0mdemos\u001b[0m\u001b[0;34m.\u001b[0m\u001b[0mworkflow\u001b[0m\u001b[0;34m\u001b[0m\u001b[0m\n\u001b[0m\u001b[1;32m      2\u001b[0m \u001b[0;34m\u001b[0m\u001b[0m\n\u001b[1;32m      3\u001b[0m \u001b[0mmand\u001b[0m\u001b[0;34m.\u001b[0m\u001b[0mdemos\u001b[0m\u001b[0;34m.\u001b[0m\u001b[0mworkflow\u001b[0m\u001b[0;34m.\u001b[0m\u001b[0mmain\u001b[0m\u001b[0;34m(\u001b[0m\u001b[0mdb\u001b[0m\u001b[0;34m)\u001b[0m\u001b[0;34m\u001b[0m\u001b[0m\n",
      "\u001b[0;32m/Users/michaelnaunton/ipython/mand/demos/workflow.py\u001b[0m in \u001b[0;36m<module>\u001b[0;34m()\u001b[0m\n\u001b[1;32m      7\u001b[0m \u001b[0mClock\u001b[0m \u001b[0;34m=\u001b[0m \u001b[0m_tr\u001b[0m\u001b[0;34m.\u001b[0m\u001b[0mClock\u001b[0m\u001b[0;34m\u001b[0m\u001b[0m\n\u001b[1;32m      8\u001b[0m \u001b[0mRootClock\u001b[0m \u001b[0;34m=\u001b[0m \u001b[0m_tr\u001b[0m\u001b[0;34m.\u001b[0m\u001b[0mRootClock\u001b[0m\u001b[0;34m\u001b[0m\u001b[0m\n\u001b[0;32m----> 9\u001b[0;31m \u001b[0mWorkbook\u001b[0m \u001b[0;34m=\u001b[0m \u001b[0m_tr\u001b[0m\u001b[0;34m.\u001b[0m\u001b[0mWorkbook\u001b[0m\u001b[0;34m\u001b[0m\u001b[0m\n\u001b[0m\u001b[1;32m     10\u001b[0m \u001b[0mWorkItemOpenEvent\u001b[0m \u001b[0;34m=\u001b[0m \u001b[0m_tr\u001b[0m\u001b[0;34m.\u001b[0m\u001b[0mWorkItemOpenEvent\u001b[0m\u001b[0;34m\u001b[0m\u001b[0m\n\u001b[1;32m     11\u001b[0m \u001b[0;34m\u001b[0m\u001b[0m\n",
      "\u001b[0;32m/Users/michaelnaunton/ipython/mand/type_registry.pyc\u001b[0m in \u001b[0;36m__getattr__\u001b[0;34m(self, name)\u001b[0m\n\u001b[1;32m     17\u001b[0m             \u001b[0;32mreturn\u001b[0m \u001b[0;34m'anon:%s'\u001b[0m \u001b[0;34m%\u001b[0m \u001b[0mcls\u001b[0m\u001b[0;34m.\u001b[0m\u001b[0m__name__\u001b[0m\u001b[0;34m\u001b[0m\u001b[0m\n\u001b[1;32m     18\u001b[0m     \u001b[0;32mdef\u001b[0m \u001b[0m__getattr__\u001b[0m\u001b[0;34m(\u001b[0m\u001b[0mself\u001b[0m\u001b[0;34m,\u001b[0m \u001b[0mname\u001b[0m\u001b[0;34m)\u001b[0m\u001b[0;34m:\u001b[0m\u001b[0;34m\u001b[0m\u001b[0m\n\u001b[0;32m---> 19\u001b[0;31m         \u001b[0;32mreturn\u001b[0m \u001b[0mself\u001b[0m\u001b[0;34m.\u001b[0m\u001b[0mcls\u001b[0m\u001b[0;34m(\u001b[0m\u001b[0mname\u001b[0m\u001b[0;34m)\u001b[0m\u001b[0;34m\u001b[0m\u001b[0m\n\u001b[0m\u001b[1;32m     20\u001b[0m \u001b[0;34m\u001b[0m\u001b[0m\n\u001b[1;32m     21\u001b[0m \u001b[0m_tr\u001b[0m \u001b[0;34m=\u001b[0m \u001b[0mTypeRegistry\u001b[0m\u001b[0;34m(\u001b[0m\u001b[0;34m)\u001b[0m\u001b[0;34m\u001b[0m\u001b[0m\n",
      "\u001b[0;32m/Users/michaelnaunton/ipython/mand/type_registry.pyc\u001b[0m in \u001b[0;36mcls\u001b[0;34m(self, name)\u001b[0m\n\u001b[1;32m     10\u001b[0m         \u001b[0mself\u001b[0m\u001b[0;34m.\u001b[0m\u001b[0mnameToCls\u001b[0m\u001b[0;34m[\u001b[0m\u001b[0mname\u001b[0m\u001b[0;34m]\u001b[0m \u001b[0;34m=\u001b[0m \u001b[0mcls\u001b[0m\u001b[0;34m\u001b[0m\u001b[0m\n\u001b[1;32m     11\u001b[0m     \u001b[0;32mdef\u001b[0m \u001b[0mcls\u001b[0m\u001b[0;34m(\u001b[0m\u001b[0mself\u001b[0m\u001b[0;34m,\u001b[0m \u001b[0mname\u001b[0m\u001b[0;34m)\u001b[0m\u001b[0;34m:\u001b[0m\u001b[0;34m\u001b[0m\u001b[0m\n\u001b[0;32m---> 12\u001b[0;31m         \u001b[0;32mreturn\u001b[0m \u001b[0mself\u001b[0m\u001b[0;34m.\u001b[0m\u001b[0mnameToCls\u001b[0m\u001b[0;34m[\u001b[0m\u001b[0mname\u001b[0m\u001b[0;34m]\u001b[0m\u001b[0;34m\u001b[0m\u001b[0m\n\u001b[0m\u001b[1;32m     13\u001b[0m     \u001b[0;32mdef\u001b[0m \u001b[0mname\u001b[0m\u001b[0;34m(\u001b[0m\u001b[0mself\u001b[0m\u001b[0;34m,\u001b[0m \u001b[0mcls\u001b[0m\u001b[0;34m)\u001b[0m\u001b[0;34m:\u001b[0m\u001b[0;34m\u001b[0m\u001b[0m\n\u001b[1;32m     14\u001b[0m         \u001b[0;32mif\u001b[0m \u001b[0mcls\u001b[0m \u001b[0;32min\u001b[0m \u001b[0mself\u001b[0m\u001b[0;34m.\u001b[0m\u001b[0mclsToName\u001b[0m\u001b[0;34m:\u001b[0m\u001b[0;34m\u001b[0m\u001b[0m\n",
      "\u001b[0;31mKeyError\u001b[0m: 'Workbook'"
     ]
    }
   ],
   "source": [
    "import mand.demos.workflow\n",
    "\n",
    "mand.demos.workflow.main(db)"
   ]
  }
 ],
 "metadata": {
  "kernelspec": {
   "display_name": "Python 2",
   "language": "python",
   "name": "python2"
  },
  "language_info": {
   "codemirror_mode": {
    "name": "ipython",
    "version": 2
   },
   "file_extension": ".py",
   "mimetype": "text/x-python",
   "name": "python",
   "nbconvert_exporter": "python",
   "pygments_lexer": "ipython2",
   "version": "2.7.13"
  }
 },
 "nbformat": 4,
 "nbformat_minor": 2
}
