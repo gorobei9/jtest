{
 "cells": [
  {
   "cell_type": "markdown",
   "metadata": {},
   "source": [
    "# An Explain Report\n",
    "\n",
    "This is a POC for an explain report: given a number at time T1 and time T2, introspect the clocks involved to produce a simple linear breakdown\n",
    "of what changed on various timelines to account for the change in the number between T1 and T2.\n",
    "\n",
    "The report is an ordered sequence of clock changes: the sum of changes should equal to the total change. The order of application is important: change the\n",
    "ordering, and the resultant values may change. It's not a Jacobian-type report with T1 deltas and no ordering.\n",
    "\n",
    "The real reason for this workbook is to start working on the node class optimizations and metadata management."
   ]
  },
  {
   "cell_type": "markdown",
   "metadata": {},
   "source": [
    "## Footnotes\n",
    "\n",
    "Footnotes are one of the simplest types of metadata:\n",
    "* Any computation (even a simple read of a constant value) may declare it has footnotes\n",
    "* Every computation gets the footnote of all its inputs\n",
    "\n",
    "Footnoting is based on a number of observations about large software systems (say, 1M LOC or more):\n",
    "* Any complex report (i.e. computation output) will generally be somewhat wrong, misleading, or out of date.\n",
    "* If you want 100% correctness and truth, your report will raise an exception every time you run it.\n",
    "* If you just want it to run, you'll get a result, but some log file on some machine in some compute farm will have a message explaining why your result is wrong.\n",
    "* And you won't see that message.\n",
    "* And that message may have leaked information that bad actors can read.\n",
    "* And you won't trust this system, so your own developers will copy the underlying data and write their own version of the report with all the same issues.\n",
    "* Now you don't have a problem, but your company now has two problems.\n",
    "\n",
    "Footnotes summary:\n",
    "* Are the documentation of problems from the producer's point of view\n",
    "* Make no claim about usability of results, etc, for a specific consumer\n",
    "* May be programmatically removed/condensed/replaced at controlled code points\n"
   ]
  },
  {
   "cell_type": "code",
   "execution_count": 1,
   "metadata": {
    "collapsed": false
   },
   "outputs": [
    {
     "name": "stdout",
     "output_type": "stream",
     "text": [
      "<mand.db.ObjectDb object at 0x10797ed90>: 241, mem=True, ro=False: entities=9, map=2\n"
     ]
    }
   ],
   "source": [
    "from mand.core import Entity, node, Context\n",
    "from mand.core import ObjectDb, Timestamp, getNode, _tr\n",
    "from mand.core import ProfileMonitor\n",
    "from mand.core import displayDict, displayMarkdown, displayListOfDicts, displayHeader\n",
    "from mand.core import find\n",
    "from mand.demos.trading import makeWorld, bookSomeTrades\n",
    "\n",
    "db = ObjectDb()\n",
    "\n",
    "from mand.lib.dbsetup import setUpDb\n",
    "setUpDb(db)\n",
    "db.describe()"
   ]
  },
  {
   "cell_type": "code",
   "execution_count": 2,
   "metadata": {
    "collapsed": false
   },
   "outputs": [
    {
     "name": "stdout",
     "output_type": "stream",
     "text": [
      "makeWorld, TopOfTheHouse is: <Entity:/Global/TradingPortfolio/TopOfTheHouse>\n",
      "    # books: 100\n",
      "    # children: 10\n"
     ]
    }
   ],
   "source": [
    "with db:\n",
    "    pWorld = makeWorld()\n",
    "    \n",
    "pAll, bExt, bExt2 = pWorld.children()\n",
    "p1 = pAll.children()[0]\n",
    "p2 = pAll.children()[1]\n",
    "p4 = pAll.children()[3]\n",
    "\n",
    "b2 = p2.children()[0]\n",
    "b4 = p4.children()[0]"
   ]
  },
  {
   "cell_type": "markdown",
   "metadata": {},
   "source": [
    "# Book some trades\n",
    "\n",
    "This time, we throw a few thousand in..."
   ]
  },
  {
   "cell_type": "code",
   "execution_count": 3,
   "metadata": {
    "collapsed": false
   },
   "outputs": [],
   "source": [
    "ts0, ts1, ts2, ts3, ts4, ts5, eod, ts6 = bookSomeTrades(pWorld)"
   ]
  },
  {
   "cell_type": "markdown",
   "metadata": {},
   "source": [
    "# An Explain Report\n",
    "\n",
    "This is a mix of abstractions at the Core, DBA, and BA, and User levels. But, it does the job for now..."
   ]
  },
  {
   "cell_type": "code",
   "execution_count": 4,
   "metadata": {
    "collapsed": false,
    "scrolled": false
   },
   "outputs": [
    {
     "data": {
      "text/markdown": [
       "# PnL explain for TopOfTheHouse: 5236.00"
      ],
      "text/plain": [
       "<IPython.core.display.Markdown object>"
      ]
     },
     "metadata": {},
     "output_type": "display_data"
    },
    {
     "data": {
      "text/markdown": [
       "**Caveat: this report encountered problems. See footnotes at bottom.**"
      ],
      "text/plain": [
       "<IPython.core.display.Markdown object>"
      ]
     },
     "metadata": {},
     "output_type": "display_data"
    },
    {
     "data": {
      "text/markdown": [
       "|Activity|PnL|\n",
       "|-|-|\n",
       "|Starting balance breaks|0.00\n",
       "|prior day amends: MarketData|0.00\n",
       "|prior day amends: Portfolio|0.00\n",
       "|prior day amends: Trading|-4.00\n",
       "|activity: MarketData|5240.00\n",
       "|activity: Portfolio|0.00\n",
       "|activity: Trading|0.00\n",
       "|Ending balance breaks|0.00"
      ],
      "text/plain": [
       "<IPython.core.display.Markdown object>"
      ]
     },
     "metadata": {},
     "output_type": "display_data"
    },
    {
     "data": {
      "text/markdown": [
       "## Footnotes:"
      ],
      "text/plain": [
       "<IPython.core.display.Markdown object>"
      ]
     },
     "metadata": {},
     "output_type": "display_data"
    },
    {
     "data": {
      "text/markdown": [
       "1. Inadequate cash discounting model used"
      ],
      "text/plain": [
       "<IPython.core.display.Markdown object>"
      ]
     },
     "metadata": {},
     "output_type": "display_data"
    }
   ],
   "source": [
    "class Report(Entity):\n",
    "    @node(stored=True)\n",
    "    def valuable(self):\n",
    "        return None\n",
    "    \n",
    "    @node(stored=True)\n",
    "    def ts1(self):\n",
    "        return None\n",
    "    \n",
    "    @node(stored=True)\n",
    "    def ts2(self):\n",
    "        return None\n",
    "    \n",
    "    @node\n",
    "    def data(self):\n",
    "        valuable = self.valuable()\n",
    "        ts1 = self.ts1()\n",
    "        ts2 = self.ts2()\n",
    "        clock = valuable.getObj(_tr.RootClock, 'Main')\n",
    "    \n",
    "        def clocks(ts):\n",
    "            def fn(node):\n",
    "                obj = node.key[0]\n",
    "                m = node.key[1].split(':')[-1]\n",
    "                if isinstance(obj, _tr.Clock) and m == 'cutoffs':\n",
    "                    return True\n",
    "            with Context({clock.cutoffs: ts}, 'Clocks'):\n",
    "                nodes = find(valuable.NPV, fn)\n",
    "                return dict( [ (node.tweakPoint, node) for node in nodes ] )\n",
    "    \n",
    "        allNodes = clocks(ts1)\n",
    "    \n",
    "        allNodes.update(clocks(ts2))\n",
    "        nodes = allNodes.values() \n",
    "    \n",
    "        # IRL, we'd sort these according to some business req...\n",
    "        # And our clocks might be arranged in an N-level tree...\n",
    "        nodes = sorted(nodes, key = lambda node: node.key[0].meta.name())\n",
    "    \n",
    "        data = []\n",
    "        curr = [0]\n",
    "        def add(title, npv):\n",
    "            pnl = npv - curr[0]\n",
    "            curr[0] = npv\n",
    "            data.append( {'Activity': title, 'PnL': pnl } )\n",
    "\n",
    "        with Context({clock.cutoffs: ts1}, 'Start'):\n",
    "            curr = [ valuable.NPV() ] # Starting balance\n",
    "    \n",
    "        tweaks = {}\n",
    "        for n in nodes:\n",
    "            tweaks[n.tweakPoint] = ts1\n",
    "        with Context(tweaks, name='Start breaks'):\n",
    "            start = valuable.NPV()\n",
    "            add('Starting balance breaks', start)\n",
    "\n",
    "        tsAmend = Timestamp(t=ts2.transactionTime, v=ts1.validTime)\n",
    "        # XXX - modifying tweaks in place is a bit evil\n",
    "        # This is only safe because I know Context() effectively copies, so this works\n",
    "        # for now.\n",
    "        for n in nodes:\n",
    "            tweaks[n.tweakPoint] = tsAmend\n",
    "            name = n.key[0].meta.name()\n",
    "            with Context(tweaks, name='Amend %s' % name):\n",
    "                add('prior day amends: %s' % name, valuable.NPV())\n",
    "        for n in nodes:\n",
    "            tweaks[n.tweakPoint] = ts2\n",
    "            name = n.key[0].meta.name()\n",
    "            with Context(tweaks, name='Activity %s' % name):\n",
    "                add('activity: %s' % name, valuable.NPV())\n",
    "    \n",
    "        with Context({clock.cutoffs: ts2}, name='End'):\n",
    "            end = valuable.NPV()\n",
    "            add('Ending balance breaks', end)\n",
    "\n",
    "        title = 'PnL explain for %s: %s' % (valuable.meta.name(), end-start)\n",
    "        return data, title\n",
    "\n",
    "    def run(self):\n",
    "        data, title = self.data()\n",
    "        node = getNode(self.data)\n",
    "        footnotes = node.footnotes.values()\n",
    "        displayHeader('%s' % title)\n",
    "        if footnotes:\n",
    "            displayMarkdown('**Caveat: this report encountered problems. See footnotes at bottom.**')\n",
    "        displayListOfDicts(data, names=['Activity', 'PnL'] )\n",
    "        if footnotes:\n",
    "            displayMarkdown('## Footnotes:')\n",
    "            txt = '\\n'.join( [ '1. %s' % f for f in footnotes])\n",
    "            displayMarkdown(txt)\n",
    "    \n",
    "r = Report(valuable=pAll, ts1=eod, ts2=ts6)\n",
    "r.run()"
   ]
  },
  {
   "cell_type": "markdown",
   "metadata": {},
   "source": [
    "## Add some inconsistent data [Test]\n",
    "\n",
    "Book b2 should appear multiple times in some portfolio trees and be flagged accordingly..."
   ]
  },
  {
   "cell_type": "code",
   "execution_count": 5,
   "metadata": {
    "collapsed": false
   },
   "outputs": [],
   "source": [
    "with db:\n",
    "    p1.setChildren(p1.children() + [b2])\n",
    "\n",
    "ts7 = Timestamp()"
   ]
  },
  {
   "cell_type": "markdown",
   "metadata": {},
   "source": [
    "# Footnotes\n",
    "\n",
    "Note the report calculation has run, but attached appropriate caveats to the output:"
   ]
  },
  {
   "cell_type": "code",
   "execution_count": 6,
   "metadata": {
    "collapsed": false,
    "scrolled": false
   },
   "outputs": [
    {
     "data": {
      "text/markdown": [
       "# PnL explain for TopOfTheHouse: 6256.00"
      ],
      "text/plain": [
       "<IPython.core.display.Markdown object>"
      ]
     },
     "metadata": {},
     "output_type": "display_data"
    },
    {
     "data": {
      "text/markdown": [
       "**Caveat: this report encountered problems. See footnotes at bottom.**"
      ],
      "text/plain": [
       "<IPython.core.display.Markdown object>"
      ]
     },
     "metadata": {},
     "output_type": "display_data"
    },
    {
     "data": {
      "text/markdown": [
       "|Activity|PnL|\n",
       "|-|-|\n",
       "|Starting balance breaks|0.00\n",
       "|prior day amends: MarketData|0.00\n",
       "|prior day amends: Portfolio|0.00\n",
       "|prior day amends: Trading|-4.00\n",
       "|activity: MarketData|5240.00\n",
       "|activity: Portfolio|1020.00\n",
       "|activity: Trading|0.00\n",
       "|Ending balance breaks|0.00"
      ],
      "text/plain": [
       "<IPython.core.display.Markdown object>"
      ]
     },
     "metadata": {},
     "output_type": "display_data"
    },
    {
     "data": {
      "text/markdown": [
       "## Footnotes:"
      ],
      "text/plain": [
       "<IPython.core.display.Markdown object>"
      ]
     },
     "metadata": {},
     "output_type": "display_data"
    },
    {
     "data": {
      "text/markdown": [
       "1. Inadequate cash discounting model used\n",
       "1. Book appears multiple times: /Global/TradingBook/Eq-Inst0"
      ],
      "text/plain": [
       "<IPython.core.display.Markdown object>"
      ]
     },
     "metadata": {},
     "output_type": "display_data"
    },
    {
     "data": {
      "text/markdown": [
       "\n",
       "### Profile by nodes.\n",
       "* times are in microseconds\n",
       "* cumT is total time spent in funtion\n",
       "* calcT is time spent in function, but not in a child node"
      ],
      "text/plain": [
       "<IPython.core.display.Markdown object>"
      ]
     },
     "metadata": {},
     "output_type": "display_data"
    },
    {
     "data": {
      "text/markdown": [
       "|fn|n|cumT|calcT|cumT/call|sys|\n",
       "|-|-|-|-|-|-|\n",
       "|Report:data|1|18,655,118|14|18,655,118|GetValue\n",
       "|Report:data|1|18,655,104|467|18,655,104|GetValue/Calc\n",
       "|TradingContainer:NPV|11|18,590,540|115|1,690,049|GetValue\n",
       "|TradingContainer:NPV|11|18,590,424|1,857|1,690,038|GetValue/Calc\n",
       "|Portfolio:items|121|18,419,767|1,010|152,229|GetValue\n",
       "|Portfolio:items|121|18,419,690|20,151|152,228|GetValue/Calc\n",
       "|Workbook:items|1,104|17,402,680|8,963|15,763|GetValue\n",
       "|Workbook:items|1,100|17,393,717|8,120,139|15,812|GetValue/Calc\n",
       "|Root:Clocks|2|10,914,302|60,257|5,457,151|Context\n",
       "|TradeOpenEvent|1,014|4,534,263|4,534,263|4,471|Db.Get\n",
       "|TradeOpenEvent:ticket|22,286|4,126,852|93,194|185|GetValue\n",
       "|TradingTicket|1,014|4,033,658|4,033,658|3,977|Db.Get\n",
       "|Root:Activity Portfolio|1|1,133,769|40|1,133,769|Context\n",
       "|Root:Amend MarketData|1|1,079,775|40|1,079,775|Context\n",
       "|Portfolio:children|242|991,023|1,510|4,095|GetValue\n",
       "|Portfolio:children|121|989,513|489,945|8,177|GetValue/Calc\n",
       "|Root:End|1|808,483|38|808,483|Context\n",
       "|Root:Start|1|803,009|20|803,009|Context\n",
       "|Root:Activity Trading|1|787,055|45|787,055|Context\n",
       "|Root:Amend Portfolio|1|783,949|37|783,949|Context\n",
       "|Root:Start breaks|1|783,776|37|783,776|Context\n",
       "|Root:Amend Trading|1|781,308|43|781,308|Context\n",
       "|Root:Activity MarketData|1|775,712|41|775,712|Context\n",
       "|PortfolioUpdateEvent:children|121|417,450|2,457|3,450|GetValue\n",
       "|TradingBook|102|384,067|384,067|3,765|Db.Get\n",
       "|Equity:NPV|15|168,613|146|11,240|GetValue\n",
       "|Equity:NPV|15|168,467|372|11,231|GetValue/Calc\n",
       "|MarketInterface:spot|15|158,855|118|10,590|GetValue\n",
       "|MarketInterface:spot|15|158,736|377|10,582|GetValue/Calc\n",
       "|ExternalRefData:state|15|150,708|106|10,047|GetValue\n",
       "|ExternalRefData:state|15|150,602|250|10,040|GetValue/Calc\n",
       "|RefData:state|15|150,352|114|10,023|GetValue\n",
       "|RefData:state|15|150,238|63,977|10,015|GetValue/Calc\n",
       "|Clock:cutoffs|2,480|102,696|7,012|41|GetValue\n",
       "|Clock:cutoffs|20|95,742|432|4,787|GetValue/Calc\n",
       "|Clock:parent|20|95,218|133|4,760|GetValue\n",
       "|Clock:parent|20|95,084|78,669|4,754|GetValue/Calc\n",
       "|_WorkItemEvent:book2|22,286|88,494|80,610|3|GetValue\n",
       "|_WorkItemEvent:book1|22,286|84,500|84,500|3|GetValue\n",
       "|TradeOpenEvent:quantity|22,286|74,809|74,809|3|GetValue\n",
       "|_WorkItemEvent:item|11,143|67,434|59,829|6|GetValue\n",
       "|TradeOpenEvent:premium|11,143|59,942|55,364|5|GetValue\n",
       "|TradeOpenEvent:action|11,143|58,427|58,427|5|GetValue\n",
       "|PortfolioUpdateEvent|12|58,239|58,239|4,853|Db.Get\n",
       "|Event:amends|11,340|48,326|48,326|4|GetValue\n",
       "|TradeOpenEvent:unitPrice|11,143|48,140|48,140|4|GetValue\n",
       "|RefDataUpdateEvent|9|42,770|42,770|4,752|Db.Get\n",
       "|TradingPortfolio|10|38,809|38,809|3,880|Db.Get\n",
       "|TradingBook:clock|2,200|35,401|17,012|16|GetValue\n",
       "|Clock|5|19,570|19,570|3,914|Db.Get\n",
       "|TradingBook:clock|1,100|18,389|14,590|16|GetValue/Calc\n",
       "|Equity:refdata|15|9,238|129|615|GetValue\n",
       "|Equity:refdata|15|9,109|509|607|GetValue/Calc\n",
       "|MarketInterface|2|8,512|8,512|4,256|Db.Get\n",
       "|ClockEvent:parent|8|8,234|68|1,029|GetValue\n",
       "|Portfolio:clock|242|7,753|1,946|32|GetValue\n",
       "|MarketInterface:source|15|7,650|96|510|GetValue\n",
       "|Equity|2|7,604|7,604|3,802|Db.Get\n",
       "|MarketInterface:source|15|7,554|320|503|GetValue/Calc\n",
       "|ClockEvent|2|7,551|7,551|3,775|Db.Get\n",
       "|MarketDataSource|2|7,077|7,077|3,538|Db.Get\n",
       "|Portfolio:clock|121|5,807|1,522|47|GetValue/Calc\n",
       "|Portfolio:books|231|5,233|1,403|22|GetValue\n",
       "|ForwardCashflow|1|4,577|4,577|4,577|Db.Get\n",
       "|Portfolio:books|121|4,106|3,498|33|GetValue/Calc\n",
       "|MarketDataSource:clock|30|3,731|226|124|GetValue\n",
       "|MarketDataSource:clock|15|3,504|184|233|GetValue/Calc\n",
       "|RootClock|1|3,479|3,479|3,479|Db.Get\n",
       "|Entity:clock|40|474|294|11|GetValue\n",
       "|RefDataUpdateEvent:data|58|220|220|3|GetValue\n",
       "|ForwardCashflow:NPV|11|186|111|16|GetValue\n",
       "|Entity:clock|20|180|180|9|GetValue/Calc\n",
       "|MarketInterface:sourceName|15|155|114|10|GetValue\n",
       "|RootClock:cutoffs|52|139|139|2|GetValue\n",
       "|Equity:assetName|15|87|87|5|GetValue\n",
       "|ForwardCashflow:NPV|11|74|74|6|GetValue/Calc\n",
       "|MarketInterface:sourceName|15|41|41|2|GetValue/Calc\n",
       "|Report:valuable|1|5|5|5|GetValue\n",
       "|Report:ts2|1|3|3|3|GetValue\n",
       "|Report:ts1|1|3|3|3|GetValue"
      ],
      "text/plain": [
       "<IPython.core.display.Markdown object>"
      ]
     },
     "metadata": {},
     "output_type": "display_data"
    }
   ],
   "source": [
    "db3 = db.copy()\n",
    "p = db3._get(pAll.meta.path())\n",
    "\n",
    "with ProfileMonitor(mode='sum'): \n",
    "    r = Report(valuable=p, ts1=eod, ts2=ts7)\n",
    "    r.run()"
   ]
  }
 ],
 "metadata": {
  "kernelspec": {
   "display_name": "Python 2",
   "language": "python",
   "name": "python2"
  },
  "language_info": {
   "codemirror_mode": {
    "name": "ipython",
    "version": 2
   },
   "file_extension": ".py",
   "mimetype": "text/x-python",
   "name": "python",
   "nbconvert_exporter": "python",
   "pygments_lexer": "ipython2",
   "version": "2.7.13"
  }
 },
 "nbformat": 4,
 "nbformat_minor": 2
}
