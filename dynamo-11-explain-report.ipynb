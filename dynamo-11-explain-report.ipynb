{
 "cells": [
  {
   "cell_type": "markdown",
   "metadata": {},
   "source": [
    "# An Explain Report\n",
    "\n",
    "This is a POC for an explain report: given a number at time T1 and time T2, introspect the clocks involved to produce a simple linear breakdown\n",
    "of what changed on various timelines to account for the change in the number between T1 and T2.\n",
    "\n",
    "The report is an ordered sequence of clock changes: the sum of changes should equal to the total change. The order of application is important: change the\n",
    "ordering, and the resultant values may change. It's not a Jacobian-type report with T1 deltas and no ordering.\n",
    "\n",
    "The real reason for this workbook is to start working on the node class optimizations and metadata management."
   ]
  },
  {
   "cell_type": "markdown",
   "metadata": {},
   "source": [
    "## Footnotes\n",
    "\n",
    "Footnotes are one of the simplest types of metadata:\n",
    "* Any computation (even a simple read of a constant value) may declare it has footnotes\n",
    "* Every computation gets the footnote of all its inputs\n",
    "\n",
    "Footnoting is based on a number of observations about large software systems (say, 1M LOC or more):\n",
    "* Any complex report (i.e. computation output) will generally be somewhat wrong, misleading, or out of date.\n",
    "* If you want 100% correctness and truth, your report will raise an exception every time you run it.\n",
    "* If you just want it to run, you'll get a result, but some log file on some machine in some compute farm will have a message explaining why your result is wrong.\n",
    "* And you won't see that message.\n",
    "* And that message may have leaked information that bad actors can read.\n",
    "* And you won't trust this system, so your own developers will copy the underlying data and write their own version of the report with all the same issues.\n",
    "* Now you don't have a problem, but your company now has two problems.\n",
    "\n",
    "Footnotes summary:\n",
    "* Are the documentation of problems from the producer's point of view\n",
    "* Make no claim about usability of results, etc, for a specific consumer\n",
    "* May be programmatically removed/condensed/replaced at controlled code points\n"
   ]
  },
  {
   "cell_type": "code",
   "execution_count": 9,
   "metadata": {
    "collapsed": false
   },
   "outputs": [
    {
     "name": "stdout",
     "output_type": "stream",
     "text": [
      "<mand.db.ObjectDb object at 0x10ee2ca10>: 51, mem=True, ro=False: entities=9, map=2\n"
     ]
    }
   ],
   "source": [
    "from mand.core import Entity, node, Context\n",
    "from mand.core import ObjectDb, Timestamp, getNode, _tr\n",
    "from mand.core import ProfileMonitor\n",
    "from mand.core import displayDict, displayMarkdown, displayListOfDicts, displayHeader\n",
    "from mand.core import find\n",
    "from mand.demos.trading import makeWorld, bookSomeTrades\n",
    "\n",
    "db = ObjectDb()\n",
    "\n",
    "from mand.lib.dbsetup import setUpDb\n",
    "setUpDb(db)\n",
    "db.describe()"
   ]
  },
  {
   "cell_type": "code",
   "execution_count": 10,
   "metadata": {
    "collapsed": false
   },
   "outputs": [
    {
     "name": "stdout",
     "output_type": "stream",
     "text": [
      "makeWorld, TopOfTheHouse is: <Entity:/Global/TradingPortfolio/TopOfTheHouse>\n",
      "    # books: 100\n",
      "    # children: 10\n"
     ]
    }
   ],
   "source": [
    "with db:\n",
    "    pWorld = makeWorld()\n",
    "    \n",
    "pAll, bExt, bExt2 = pWorld.children()\n",
    "p1 = pAll.children()[0]\n",
    "p2 = pAll.children()[1]\n",
    "p4 = pAll.children()[3]\n",
    "\n",
    "b2 = p2.children()[0]\n",
    "b4 = p4.children()[0]"
   ]
  },
  {
   "cell_type": "markdown",
   "metadata": {},
   "source": [
    "# Book some trades\n",
    "\n",
    "This time, we throw a few thousand in..."
   ]
  },
  {
   "cell_type": "code",
   "execution_count": 11,
   "metadata": {
    "collapsed": false
   },
   "outputs": [],
   "source": [
    "ts0, ts1, ts2, ts3, ts4, ts5, eod, ts6 = bookSomeTrades(pWorld)"
   ]
  },
  {
   "cell_type": "markdown",
   "metadata": {},
   "source": [
    "# An Explain Report\n",
    "\n",
    "This is a mix of abstractions at the Core, DBA, and BA, and User levels. But, it does the job for now..."
   ]
  },
  {
   "cell_type": "code",
   "execution_count": 12,
   "metadata": {
    "collapsed": false,
    "scrolled": false
   },
   "outputs": [
    {
     "data": {
      "text/markdown": [
       "# PnL explain for TopOfTheHouse: 5236.00"
      ],
      "text/plain": [
       "<IPython.core.display.Markdown object>"
      ]
     },
     "metadata": {},
     "output_type": "display_data"
    },
    {
     "data": {
      "text/markdown": [
       "**Caveat: this report encountered problems. See footnotes at bottom.**"
      ],
      "text/plain": [
       "<IPython.core.display.Markdown object>"
      ]
     },
     "metadata": {},
     "output_type": "display_data"
    },
    {
     "data": {
      "text/markdown": [
       "|Activity|PnL|\n",
       "|-|-|\n",
       "|Starting balance breaks|0.00\n",
       "|prior day amends: MarketData|0.00\n",
       "|prior day amends: Portfolio|0.00\n",
       "|prior day amends: Trading|-4.00\n",
       "|activity: MarketData|5240.00\n",
       "|activity: Portfolio|0.00\n",
       "|activity: Trading|0.00\n",
       "|Ending balance breaks|0.00"
      ],
      "text/plain": [
       "<IPython.core.display.Markdown object>"
      ]
     },
     "metadata": {},
     "output_type": "display_data"
    },
    {
     "data": {
      "text/markdown": [
       "## Footnotes:"
      ],
      "text/plain": [
       "<IPython.core.display.Markdown object>"
      ]
     },
     "metadata": {},
     "output_type": "display_data"
    },
    {
     "data": {
      "text/markdown": [
       "1. Inadequate cash discounting model used"
      ],
      "text/plain": [
       "<IPython.core.display.Markdown object>"
      ]
     },
     "metadata": {},
     "output_type": "display_data"
    }
   ],
   "source": [
    "class Report(Entity):\n",
    "    @node(stored=True)\n",
    "    def valuable(self):\n",
    "        return None\n",
    "    \n",
    "    @node(stored=True)\n",
    "    def ts1(self):\n",
    "        return None\n",
    "    \n",
    "    @node(stored=True)\n",
    "    def ts2(self):\n",
    "        return None\n",
    "    \n",
    "    @node\n",
    "    def cutoffs(self):\n",
    "        valuable = self.valuable()\n",
    "        ts1 = self.ts1()\n",
    "        ts2 = self.ts2()\n",
    "        \n",
    "        clock = valuable.getObj(_tr.RootClock, 'Main')\n",
    "        \n",
    "        def cuts(ts):\n",
    "            def fn(node):\n",
    "                obj = node.key.object()\n",
    "                m = node.key.shortName()\n",
    "                if isinstance(obj, _tr.Clock) and m == 'cutoffs':\n",
    "                    return True\n",
    "            with Context({clock.cutoffs: ts}, 'Clocks'):\n",
    "                nodes = find(valuable.NPV, fn)\n",
    "                return nodes\n",
    "\n",
    "        ret = {}\n",
    "        for n in cuts(ts1):\n",
    "            ret[n.key._key] = n\n",
    "        for n in cuts(ts2):\n",
    "            ret[n.key._key] = n\n",
    "        return ret.values()\n",
    "    \n",
    "    @node\n",
    "    def data(self):\n",
    "        valuable = self.valuable()\n",
    "        ts1 = self.ts1()\n",
    "        ts2 = self.ts2()\n",
    "        clock = valuable.getObj(_tr.RootClock, 'Main')\n",
    "    \n",
    "        nodes = self.cutoffs()\n",
    "    \n",
    "        # IRL, we'd sort these according to some business req...\n",
    "        # And our clocks might be arranged in an N-level tree...\n",
    "        nodes = sorted(nodes, key = lambda node: node.object().meta.name())\n",
    "    \n",
    "        data = []\n",
    "        curr = [0]\n",
    "        def add(title, npv):\n",
    "            pnl = npv - curr[0]\n",
    "            curr[0] = npv\n",
    "            data.append( {'Activity': title, 'PnL': pnl } )\n",
    "\n",
    "        with Context({clock.cutoffs: ts1}, 'Start'):\n",
    "            curr = [ valuable.NPV() ] # Starting balance\n",
    "    \n",
    "        tweaks = {}\n",
    "        for n in nodes:\n",
    "            tweaks[n] = ts1\n",
    "        with Context(tweaks, name='Start breaks'):\n",
    "            start = valuable.NPV()\n",
    "            add('Starting balance breaks', start)\n",
    "\n",
    "        tsAmend = Timestamp(t=ts2.transactionTime, v=ts1.validTime)\n",
    "        # XXX - modifying tweaks in place is a bit evil\n",
    "        # This is only safe because I know Context() effectively copies, so this works\n",
    "        # for now.\n",
    "        for n in nodes:\n",
    "            tweaks[n] = tsAmend\n",
    "            name = n.object().meta.name()\n",
    "            with Context(tweaks, name='Amend %s' % name):\n",
    "                add('prior day amends: %s' % name, valuable.NPV())\n",
    "        for n in nodes:\n",
    "            tweaks[n] = ts2\n",
    "            name = n.object().meta.name()\n",
    "            with Context(tweaks, name='Activity %s' % name):\n",
    "                add('activity: %s' % name, valuable.NPV())\n",
    "    \n",
    "        with Context({clock.cutoffs: ts2}, name='End'):\n",
    "            end = valuable.NPV()\n",
    "            add('Ending balance breaks', end)\n",
    "\n",
    "        title = 'PnL explain for %s: %s' % (valuable.meta.name(), end-start)\n",
    "        return data, title\n",
    "\n",
    "    def run(self):\n",
    "        data, title = self.data()\n",
    "        node = getNode(self.data)\n",
    "        footnotes = node.footnotes.values()\n",
    "        displayHeader('%s' % title)\n",
    "        if footnotes:\n",
    "            displayMarkdown('**Caveat: this report encountered problems. See footnotes at bottom.**')\n",
    "        displayListOfDicts(data, names=['Activity', 'PnL'] )\n",
    "        if footnotes:\n",
    "            displayMarkdown('## Footnotes:')\n",
    "            txt = '\\n'.join( [ '1. %s' % f for f in footnotes])\n",
    "            displayMarkdown(txt)\n",
    "    \n",
    "r = Report(valuable=pAll, ts1=eod, ts2=ts6)\n",
    "r.run()"
   ]
  },
  {
   "cell_type": "markdown",
   "metadata": {},
   "source": [
    "## Add some inconsistent data [Test]\n",
    "\n",
    "Book b2 should appear multiple times in some portfolio trees and be flagged accordingly..."
   ]
  },
  {
   "cell_type": "code",
   "execution_count": 13,
   "metadata": {
    "collapsed": false
   },
   "outputs": [],
   "source": [
    "with db:\n",
    "    p1.setChildren(p1.children() + [b2])\n",
    "\n",
    "ts7 = Timestamp()"
   ]
  },
  {
   "cell_type": "markdown",
   "metadata": {},
   "source": [
    "# Footnotes\n",
    "\n",
    "Note the report calculation has run, but attached appropriate caveats to the output:"
   ]
  },
  {
   "cell_type": "code",
   "execution_count": 14,
   "metadata": {
    "collapsed": false,
    "scrolled": false
   },
   "outputs": [
    {
     "data": {
      "text/markdown": [
       "# PnL explain for TopOfTheHouse: 6256.00"
      ],
      "text/plain": [
       "<IPython.core.display.Markdown object>"
      ]
     },
     "metadata": {},
     "output_type": "display_data"
    },
    {
     "data": {
      "text/markdown": [
       "**Caveat: this report encountered problems. See footnotes at bottom.**"
      ],
      "text/plain": [
       "<IPython.core.display.Markdown object>"
      ]
     },
     "metadata": {},
     "output_type": "display_data"
    },
    {
     "data": {
      "text/markdown": [
       "|Activity|PnL|\n",
       "|-|-|\n",
       "|Starting balance breaks|0.00\n",
       "|prior day amends: MarketData|0.00\n",
       "|prior day amends: Portfolio|0.00\n",
       "|prior day amends: Trading|-4.00\n",
       "|activity: MarketData|5240.00\n",
       "|activity: Portfolio|1020.00\n",
       "|activity: Trading|0.00\n",
       "|Ending balance breaks|0.00"
      ],
      "text/plain": [
       "<IPython.core.display.Markdown object>"
      ]
     },
     "metadata": {},
     "output_type": "display_data"
    },
    {
     "data": {
      "text/markdown": [
       "## Footnotes:"
      ],
      "text/plain": [
       "<IPython.core.display.Markdown object>"
      ]
     },
     "metadata": {},
     "output_type": "display_data"
    },
    {
     "data": {
      "text/markdown": [
       "1. Inadequate cash discounting model used\n",
       "1. Book appears multiple times: /Global/TradingBook/Eq-Inst0"
      ],
      "text/plain": [
       "<IPython.core.display.Markdown object>"
      ]
     },
     "metadata": {},
     "output_type": "display_data"
    },
    {
     "data": {
      "text/markdown": [
       "\n",
       "### Profile by nodes.\n",
       "* times are in microseconds\n",
       "* cumT is total time spent in funtion\n",
       "* calcT is time spent in function, but not in a child node"
      ],
      "text/plain": [
       "<IPython.core.display.Markdown object>"
      ]
     },
     "metadata": {},
     "output_type": "display_data"
    },
    {
     "data": {
      "text/markdown": [
       "|fn|n|cumT|calcT|cumT/call|sys|\n",
       "|-|-|-|-|-|-|\n",
       "|Report:data|1|42,279,742|25|42,279,742|GetValue\n",
       "|Report:data|1|42,279,716|806|42,279,716|GetValue/Calc\n",
       "|TradingContainer:NPV|11|42,095,721|303|3,826,883|GetValue\n",
       "|TradingContainer:NPV|11|42,095,417|179|3,826,856|GetValue/Calc\n",
       "|Portfolio:items|121|41,674,997|2,671|344,421|GetValue\n",
       "|Portfolio:items|121|41,674,775|1,929|344,419|GetValue/Calc\n",
       "|Workbook:items|1,104|39,357,133|25,921|35,649|GetValue\n",
       "|Workbook:items|1,100|39,331,211|19,546|35,755|GetValue/Calc\n",
       "|Report:cutoffs|1|22,082,609|39|22,082,609|GetValue\n",
       "|Report:cutoffs|1|22,082,569|231|22,082,569|GetValue/Calc\n",
       "|Root:Clocks|548|22,082,325|4,822,060|40,296|Context\n",
       "|TradeOpenEvent:ticket|22,286|9,328,718|274,531|418|GetValue\n",
       "|TradingTicket|1,014|9,054,186|9,054,186|8,929|Db.Get\n",
       "|TradeOpenEvent|1,014|6,480,418|6,480,418|6,390|Db.Get\n",
       "|Root:Start breaks|255|3,009,663|2,836,187|11,802|Context\n",
       "|Root:End|278|2,784,824|2,646,094|10,017|Context\n",
       "|Root:Start|270|2,315,956|2,134,096|8,577|Context\n",
       "|Root:Amend Portfolio|255|2,247,560|2,052,510|8,813|Context\n",
       "|Portfolio:children|242|2,222,458|4,118|9,183|GetValue\n",
       "|Portfolio:children|121|2,218,340|2,207|18,333|GetValue/Calc\n",
       "|Root:Activity Portfolio|263|2,020,722|1,855,903|7,683|Context\n",
       "|Root:Amend MarketData|255|2,006,752|1,845,448|7,869|Context\n",
       "|Root:Amend Trading|255|1,986,149|1,826,340|7,788|Context\n",
       "|Root:Activity MarketData|255|1,968,687|1,809,652|7,720|Context\n",
       "|Root:Activity Trading|263|1,850,812|1,702,378|7,037|Context\n",
       "|PortfolioUpdateEvent:children|121|940,343|6,092|7,771|GetValue\n",
       "|TradingBook|102|892,916|892,916|8,754|Db.Get\n",
       "|Equity:NPV|15|415,194|370|27,679|GetValue\n",
       "|Equity:NPV|15|414,823|231|27,654|GetValue/Calc\n",
       "|MarketInterface:spot|15|388,960|329|25,930|GetValue\n",
       "|MarketInterface:spot|15|388,630|228|25,908|GetValue/Calc\n",
       "|ExternalRefData:state|15|362,682|361|24,178|GetValue\n",
       "|ExternalRefData:state|15|362,321|240|24,154|GetValue/Calc\n",
       "|RefData:state|15|361,135|312|24,075|GetValue\n",
       "|RefData:state|15|360,823|256|24,054|GetValue/Calc\n",
       "|_WorkItemEvent:book2|22,286|254,153|244,675|11|GetValue\n",
       "|_WorkItemEvent:book1|22,286|251,940|251,940|11|GetValue\n",
       "|Clock:cutoffs|2,480|234,429|19,643|94|GetValue\n",
       "|TradeOpenEvent:quantity|22,286|216,655|216,655|9|GetValue\n",
       "|Clock:cutoffs|20|214,957|337|10,747|GetValue/Calc\n",
       "|Clock:parent|20|212,737|436|10,636|GetValue\n",
       "|Clock:parent|20|212,301|344|10,615|GetValue/Calc\n",
       "|_WorkItemEvent:item|11,143|181,590|172,489|16|GetValue\n",
       "|TradeOpenEvent:action|11,143|165,801|165,801|14|GetValue\n",
       "|TradeOpenEvent:premium|11,143|163,984|159,101|14|GetValue\n",
       "|TradeOpenEvent:unitPrice|11,143|137,709|137,709|12|GetValue\n",
       "|PortfolioUpdateEvent|12|124,960|124,960|10,413|Db.Get\n",
       "|TradingBook:clock|2,200|124,289|47,461|56|GetValue\n",
       "|Event:amends|11,340|122,378|122,378|10|GetValue\n",
       "|RefDataUpdateEvent|9|104,832|104,832|11,648|Db.Get\n",
       "|TradingBook:clock|1,100|76,828|26,671|69|GetValue/Calc\n",
       "|TradingPortfolio|10|50,812|50,812|5,081|Db.Get\n",
       "|Clock|5|35,202|35,202|7,040|Db.Get\n",
       "|Equity:refdata|15|24,339|353|1,622|GetValue\n",
       "|Equity:refdata|15|23,985|236|1,599|GetValue/Calc\n",
       "|MarketInterface|2|22,414|22,414|11,207|Db.Get\n",
       "|MarketInterface:source|15|22,147|285|1,476|GetValue\n",
       "|MarketInterface:source|15|21,862|573|1,457|GetValue/Calc\n",
       "|MarketDataSource|2|19,524|19,524|9,762|Db.Get\n",
       "|ClockEvent|2|18,318|18,318|9,159|Db.Get\n",
       "|Portfolio:books|231|18,194|3,791|78|GetValue\n",
       "|Portfolio:clock|242|18,187|5,094|75|GetValue\n",
       "|Portfolio:books|121|15,170|1,943|125|GetValue/Calc\n",
       "|ClockEvent:parent|8|14,719|170|1,839|GetValue\n",
       "|Portfolio:clock|121|13,093|2,786|108|GetValue/Calc\n",
       "|MarketDataSource:clock|30|12,287|652|409|GetValue\n",
       "|MarketDataSource:clock|15|11,635|334|775|GetValue/Calc\n",
       "|Equity|2|9,100|9,100|4,550|Db.Get\n",
       "|RootClock|1|5,156|5,156|5,156|Db.Get\n",
       "|ForwardCashflow|1|4,882|4,882|4,882|Db.Get\n",
       "|Entity:clock|40|1,929|786|48|GetValue\n",
       "|Entity:clock|20|1,143|473|57|GetValue/Calc\n",
       "|ForwardCashflow:NPV|11|859|293|78|GetValue\n",
       "|MarketInterface:sourceName|15|713|311|47|GetValue\n",
       "|RefDataUpdateEvent:data|58|588|588|10|GetValue\n",
       "|ForwardCashflow:NPV|11|566|185|51|GetValue/Calc\n",
       "|MarketInterface:sourceName|15|402|233|26|GetValue/Calc\n",
       "|RootClock:cutoffs|52|396|396|7|GetValue\n",
       "|Equity:assetName|15|240|240|16|GetValue\n",
       "|Report:valuable|2|13|13|6|GetValue\n",
       "|Report:ts1|2|9|9|4|GetValue\n",
       "|Report:ts2|2|7|7|3|GetValue"
      ],
      "text/plain": [
       "<IPython.core.display.Markdown object>"
      ]
     },
     "metadata": {},
     "output_type": "display_data"
    }
   ],
   "source": [
    "db3 = db.copy()\n",
    "p = db3._get(pAll.meta.path())\n",
    "\n",
    "with ProfileMonitor(mode='sum'): \n",
    "    r = Report(valuable=p, ts1=eod, ts2=ts7)\n",
    "    r.run()"
   ]
  }
 ],
 "metadata": {
  "kernelspec": {
   "display_name": "Python 2",
   "language": "python",
   "name": "python2"
  },
  "language_info": {
   "codemirror_mode": {
    "name": "ipython",
    "version": 2
   },
   "file_extension": ".py",
   "mimetype": "text/x-python",
   "name": "python",
   "nbconvert_exporter": "python",
   "pygments_lexer": "ipython2",
   "version": "2.7.13"
  }
 },
 "nbformat": 4,
 "nbformat_minor": 2
}
