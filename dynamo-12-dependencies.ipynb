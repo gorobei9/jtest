{
 "cells": [
  {
   "cell_type": "code",
   "execution_count": 1,
   "metadata": {
    "collapsed": false
   },
   "outputs": [],
   "source": [
    "from mand.core import Entity, node, getNode\n",
    "from mand.core import ObjectDb, Timestamp, Context, SimplificationContext, _tr\n",
    "from mand.core import ProfileMonitor, SummaryMonitor\n",
    "from mand.core import find, addFootnote\n",
    "from mand.core import DependencyManager, setDependencyManager\n",
    "from mand.demos.trading import makeWorld, bookSomeTrades, PnLExplainReport\n",
    "from mand.lib.dbsetup import setUpDb\n",
    "\n",
    "db = ObjectDb()\n",
    "setUpDb(db)"
   ]
  },
  {
   "cell_type": "code",
   "execution_count": 2,
   "metadata": {
    "collapsed": false,
    "scrolled": false
   },
   "outputs": [
    {
     "name": "stdout",
     "output_type": "stream",
     "text": [
      "makeWorld, TopOfTheHouse is: <Entity:/Global/TradingPortfolio/TopOfTheHouse>\n",
      "    # books: 100\n",
      "    # children: 10\n"
     ]
    }
   ],
   "source": [
    "small = False\n",
    "\n",
    "with db:\n",
    "    pWorld = makeWorld(small=small)\n",
    "    \n",
    "pAll, bExt, bExt2 = pWorld.children()\n",
    "p1 = pAll.children()[0]\n",
    "p2 = pAll.children()[1]\n",
    "p4 = pAll.children()[3]\n",
    "\n",
    "b2 = p2.children()[0]\n",
    "b4 = p4.children()[0]"
   ]
  },
  {
   "cell_type": "code",
   "execution_count": 3,
   "metadata": {
    "collapsed": false
   },
   "outputs": [],
   "source": [
    "ts0, ts1, ts2, ts3, ts4, ts5, eod, ts6 = bookSomeTrades(pWorld, small=small)\n",
    "\n",
    "p1.setChildren(p1.children() + [b2])\n",
    "ts7 = Timestamp()"
   ]
  },
  {
   "cell_type": "markdown",
   "metadata": {},
   "source": [
    "# Sanity check of a computation we might want to optimize [Test]\n",
    "\n",
    "The PnL report is a good test, but at 152K getValues, it's a bit too big to immediately use:"
   ]
  },
  {
   "cell_type": "code",
   "execution_count": 4,
   "metadata": {
    "collapsed": false,
    "scrolled": false
   },
   "outputs": [
    {
     "data": {
      "text/markdown": [
       "1. Inadequate cash discounting model used\n",
       "1. Book appears multiple times\n",
       "  * /Global/TradingBook/Eq-Inst0"
      ],
      "text/plain": [
       "<IPython.core.display.Markdown object>"
      ]
     },
     "metadata": {},
     "output_type": "display_data"
    },
    {
     "data": {
      "text/markdown": [
       "# PnL explain for TopOfTheHouse: 6256.00"
      ],
      "text/plain": [
       "<IPython.core.display.Markdown object>"
      ]
     },
     "metadata": {},
     "output_type": "display_data"
    },
    {
     "data": {
      "text/markdown": [
       "**Caveat: this report encountered problems. See footnotes at bottom.**"
      ],
      "text/plain": [
       "<IPython.core.display.Markdown object>"
      ]
     },
     "metadata": {},
     "output_type": "display_data"
    },
    {
     "data": {
      "text/markdown": [
       "|Activity|PnL|\n",
       "|-|-|\n",
       "|Starting balance breaks|0.00\n",
       "|prior day amends: MarketData|0.00\n",
       "|prior day amends: Portfolio|0.00\n",
       "|prior day amends: Trading|-4.00\n",
       "|activity: MarketData|5240.00\n",
       "|activity: Portfolio|1020.00\n",
       "|activity: Trading|0.00\n",
       "|Ending balance breaks|0.00"
      ],
      "text/plain": [
       "<IPython.core.display.Markdown object>"
      ]
     },
     "metadata": {},
     "output_type": "display_data"
    },
    {
     "data": {
      "text/markdown": [
       "1. Inadequate cash discounting model used\n",
       "1. Book appears multiple times\n",
       "  * /Global/TradingBook/Eq-Inst0"
      ],
      "text/plain": [
       "<IPython.core.display.Markdown object>"
      ]
     },
     "metadata": {},
     "output_type": "display_data"
    },
    {
     "data": {
      "text/markdown": [
       "### Compute activity summary (15.50 seconds of wall clock time)"
      ],
      "text/plain": [
       "<IPython.core.display.Markdown object>"
      ]
     },
     "metadata": {},
     "output_type": "display_data"
    },
    {
     "data": {
      "text/markdown": [
       "|key|value|\n",
       "|-|-|\n",
       "|Context|11\n",
       "|Db.Get|2176\n",
       "|GetValue|152158\n",
       "|GetValue/Calc|2891"
      ],
      "text/plain": [
       "<IPython.core.display.Markdown object>"
      ]
     },
     "metadata": {},
     "output_type": "display_data"
    },
    {
     "data": {
      "text/markdown": [
       "\n",
       "### Profile by nodes.\n",
       "* times are in microseconds\n",
       "* cumT is total time spent in function\n",
       "* calcT is time spent in function, but not in a child node"
      ],
      "text/plain": [
       "<IPython.core.display.Markdown object>"
      ]
     },
     "metadata": {},
     "output_type": "display_data"
    },
    {
     "data": {
      "text/markdown": [
       "|fn|n|cumT|calcT|cumT/call|sys|\n",
       "|-|-|-|-|-|-|\n",
       "|PnLExplainReport:data|1|15,492,642|15|15,492,642|GetValue\n",
       "|PnLExplainReport:data|1|15,492,627|562|15,492,627|GetValue/Calc\n",
       "|TradingContainer:NPV|11|15,433,715|127|1,403,065|GetValue\n",
       "|TradingContainer:NPV|11|15,433,588|77|1,403,053|GetValue/Calc\n",
       "|Portfolio:items|121|15,290,261|1,220|126,365|GetValue\n",
       "|Portfolio:items|121|15,290,160|873|126,364|GetValue/Calc\n",
       "|Workbook:items|1,104|14,413,515|11,902|13,055|GetValue\n",
       "|Workbook:items|1,100|14,401,612|8,310|13,092|GetValue/Calc\n",
       "|PnLExplainReport:cutoffs|1|8,688,384|46|8,688,384|GetValue\n",
       "|PnLExplainReport:cutoffs|1|8,688,338|218|8,688,338|GetValue/Calc\n",
       "|Root:Clocks|548|8,688,009|1,401,969|15,854|Context\n",
       "|TradeOpenEvent:ticket|22,286|3,433,654|183,320|154|GetValue\n",
       "|TradeOpenEvent|1,014|3,321,260|3,321,260|3,275|Db.Get\n",
       "|TradingTicket|1,014|3,250,334|3,250,334|3,205|Db.Get\n",
       "|Root:End|278|946,514|870,219|3,404|Context\n",
       "|Portfolio:children|242|840,169|1,689|3,471|GetValue\n",
       "|Portfolio:children|121|838,479|883|6,929|GetValue/Calc\n",
       "|Root:Activity MarketData|255|802,445|731,050|3,146|Context\n",
       "|Root:Amend Portfolio|255|782,711|709,421|3,069|Context\n",
       "|Root:Start|270|771,393|699,526|2,857|Context\n",
       "|Root:Amend MarketData|255|760,772|689,758|2,983|Context\n",
       "|Root:Activity Trading|263|697,257|624,687|2,651|Context\n",
       "|Root:Amend Trading|255|685,992|614,175|2,690|Context\n",
       "|Root:Activity Portfolio|263|677,298|607,886|2,575|Context\n",
       "|Root:Start breaks|255|674,220|602,706|2,644|Context\n",
       "|PortfolioUpdateEvent:children|121|358,972|2,690|2,966|GetValue\n",
       "|TradingBook|102|333,460|333,460|3,269|Db.Get\n",
       "|Equity:NPV|15|142,142|160|9,476|GetValue\n",
       "|Equity:NPV|15|141,981|105|9,465|GetValue/Calc\n",
       "|MarketInterface:spot|15|133,897|155|8,926|GetValue\n",
       "|MarketInterface:spot|15|133,741|104|8,916|GetValue/Calc\n",
       "|ExternalRefData:state|15|125,730|149|8,382|GetValue\n",
       "|ExternalRefData:state|15|125,581|101|8,372|GetValue/Calc\n",
       "|RefData:state|15|125,104|143|8,340|GetValue\n",
       "|RefData:state|15|124,961|107|8,330|GetValue/Calc\n",
       "|_WorkItemEvent:book2|22,286|107,925|102,296|4|GetValue\n",
       "|_WorkItemEvent:book1|22,286|105,357|105,357|4|GetValue\n",
       "|TradeOpenEvent:quantity|22,286|100,941|100,941|4|GetValue\n",
       "|Clock:cutoffs|2,480|92,107|9,874|37|GetValue\n",
       "|Clock:cutoffs|20|82,317|144|4,115|GetValue/Calc\n",
       "|Clock:parent|20|81,303|208|4,065|GetValue\n",
       "|Clock:parent|20|81,095|144|4,054|GetValue/Calc\n",
       "|_WorkItemEvent:item|11,143|74,871|69,024|6|GetValue\n",
       "|TradeOpenEvent:premium|11,143|65,872|63,052|5|GetValue\n",
       "|TradeOpenEvent:action|11,143|63,059|63,059|5|GetValue\n",
       "|Event:amends|11,340|57,940|57,940|5|GetValue\n",
       "|TradeOpenEvent:unitPrice|11,143|55,802|55,802|5|GetValue\n",
       "|TradingBook:clock|2,200|52,425|20,691|23|GetValue\n",
       "|PortfolioUpdateEvent|12|45,277|45,277|3,773|Db.Get\n",
       "|RefDataUpdateEvent|9|32,420|32,420|3,602|Db.Get\n",
       "|TradingBook:clock|1,100|31,734|10,573|28|GetValue/Calc\n",
       "|TradingPortfolio|10|28,450|28,450|2,845|Db.Get\n",
       "|Clock|5|16,015|16,015|3,203|Db.Get\n",
       "|Portfolio:clock|242|8,482|2,278|35|GetValue\n",
       "|Portfolio:books|231|7,580|1,708|32|GetValue\n",
       "|Equity:refdata|15|7,376|148|491|GetValue\n",
       "|MarketInterface:source|15|7,249|134|483|GetValue\n",
       "|Equity:refdata|15|7,228|105|481|GetValue/Calc\n",
       "|MarketInterface:source|15|7,114|98|474|GetValue/Calc\n",
       "|ClockEvent|2|6,777|6,777|3,388|Db.Get\n",
       "|MarketInterface|2|6,441|6,441|3,220|Db.Get\n",
       "|ClockEvent:parent|8|6,391|76|798|GetValue\n",
       "|MarketDataSource|2|6,268|6,268|3,134|Db.Get\n",
       "|Portfolio:books|121|6,258|887|51|GetValue/Calc\n",
       "|Portfolio:clock|121|6,204|1,142|51|GetValue/Calc\n",
       "|Equity|2|5,846|5,846|2,923|Db.Get\n",
       "|RootClock|1|5,060|5,060|5,060|Db.Get\n",
       "|MarketDataSource:clock|30|4,252|280|141|GetValue\n",
       "|MarketDataSource:clock|15|3,971|149|264|GetValue/Calc\n",
       "|ForwardCashflow|1|2,820|2,820|2,820|Db.Get\n",
       "|Entity:clock|40|837|361|20|GetValue\n",
       "|Entity:clock|20|475|188|23|GetValue/Calc\n",
       "|ForwardCashflow:NPV|11|324|142|29|GetValue\n",
       "|RootClock:cutoffs|53|308|222|5|GetValue\n",
       "|MarketInterface:sourceName|15|308|135|20|GetValue\n",
       "|RefDataUpdateEvent:data|58|277|277|4|GetValue\n",
       "|ForwardCashflow:NPV|11|182|77|16|GetValue/Calc\n",
       "|MarketInterface:sourceName|15|172|104|11|GetValue/Calc\n",
       "|Equity:assetName|15|92|92|6|GetValue\n",
       "|RootClock:cutoffs|1|85|43|85|GetValue/Calc\n",
       "|RootClock:cosmicAll|1|25|12|25|GetValue\n",
       "|CosmicAll:dbState|1|16|10|16|GetValue\n",
       "|RootClock:cosmicAll|1|13|13|13|GetValue/Calc\n",
       "|PnLExplainReport:valuable|2|9|9|4|GetValue\n",
       "|PnLExplainReport:ts2|2|9|9|4|GetValue\n",
       "|PnLExplainReport:ts1|2|7|7|3|GetValue\n",
       "|CosmicAll:dbState|1|5|5|5|GetValue/Calc"
      ],
      "text/plain": [
       "<IPython.core.display.Markdown object>"
      ]
     },
     "metadata": {},
     "output_type": "display_data"
    }
   ],
   "source": [
    "db3 = db.copy()\n",
    "p = db3._get(pAll.meta.path())\n",
    "\n",
    "r = PnLExplainReport(valuable=p, ts1=eod, ts2=ts7)\n",
    "\n",
    "with ProfileMonitor():\n",
    "    with SummaryMonitor():\n",
    "        r.run()"
   ]
  },
  {
   "cell_type": "markdown",
   "metadata": {},
   "source": [
    "# Caching/Reusing results\n",
    "\n",
    "Until now, we have just checked to see if the current context contains a value for a node we are asking for, and if so, reuse that.\n",
    "\n",
    "A better approach to caching bound *fn* on *object* in *context0* is:\n",
    "    \n",
    "1. Has fn been tweaked in context0? If so, return that\n",
    "2. Is fn sufficiently trivial that we can avoid managing it as a node?\n",
    "  * If trivial, just treat it as a pure python function and call it\n",
    "  * Meta-data (inputs, outputs, etc) will be given to its caller and callees as appropriate\n",
    "3. Ask object for context1\n",
    "  * *context1* is a simplified version of *context0*\n",
    "  * The default case is just to return *context0*\n",
    "  * IRL, this could actually be a list of contexts or a pattern to match contexts against\n",
    "4. Is fn cached in *context1*? If so, use that\n",
    "5. Compute *fn* in *context1*\n",
    "6. Construct *context2* from the inputs of the computed value\n",
    "7. If *context2* is a subset of *context1*, cache *fn* in *context1*\n",
    "8. Something odd happened\n",
    "  * Footnote the problem as part of computation notes on the node's metadata\n",
    "  * Maybe cache the node anyway in *context2*\n",
    "    * Perhaps *object* will return *context2* as a simplification for future computations?\n",
    "9. Return the value\n",
    "\n",
    "Notes:\n",
    "* Parallel compute of nodes not considered yet\n",
    "* Context simplification (step 3) and input simplification (step 9) are probably intimately related\n",
    "* The split between calculation and caching is nice:\n",
    "  * BAs can write business logic\n",
    "  * Computer scientists can add caching logic where needed\n",
    "* We can use a profiler type object to gather runtime compute cost infomation\n",
    "  * The resulting trace can be used as input to drive step 2 and step 3\n",
    "    "
   ]
  },
  {
   "cell_type": "markdown",
   "metadata": {
    "collapsed": true
   },
   "source": [
    "# Graph Simplification\n",
    "\n",
    "* Very simple input management simplifier: ignore inputs if they are leaves and not tweakable\n",
    "* Simple context simplification: just switch to a simple context for certain known methods"
   ]
  },
  {
   "cell_type": "code",
   "execution_count": 5,
   "metadata": {
    "collapsed": false,
    "scrolled": false
   },
   "outputs": [],
   "source": [
    "class DM1(DependencyManager):\n",
    "    \n",
    "    def __init__(self):\n",
    "        self.contexts = {}\n",
    "        super(DM1, self).__init__()\n",
    "        \n",
    "    def addDep(self, input, output):\n",
    "        if not input.key.tweakable:\n",
    "            if not input.inputs:\n",
    "                return\n",
    "        output.inputs.add(input)\n",
    "        input.outputs.add(output)\n",
    "\n",
    "    def calculated(self, node):\n",
    "        if not node.isSimplified:\n",
    "            return True\n",
    "        ok = True\n",
    "        for input in node.floatingTweakPoints():\n",
    "            addFootnote(text='context simplification failure', info='%s in %s on %s in %s' % (str(node.key), node.ctx.name, str(input.key), input.ctx.name))\n",
    "            ok = False\n",
    "        return ok\n",
    "\n",
    "    def simplify(self, key):\n",
    "        if key.fullName() == 'RefData:state':\n",
    "            obj = key.object()\n",
    "            return (obj.clock().cutoffs,)\n",
    "        if key.fullName() == 'Portfolio:items':\n",
    "            obj = key.object()\n",
    "            obj2 = obj.getObj(_tr.Clock, 'Trading')\n",
    "            return (obj.clock().cutoffs, obj2.cutoffs)\n",
    "        if key.fullName() == 'Workbook:items':\n",
    "            obj = key.object()\n",
    "            return (obj.clock().cutoffs,)\n",
    "        \n",
    "    def getNode(self, ctx, key):\n",
    "        n = ctx._get(key)\n",
    "        if n:\n",
    "            return n\n",
    "        s = self.simplify(key)\n",
    "        if s is not None: \n",
    "            nodes = [ getNode(bm) for bm in s ]\n",
    "            values = [ bm() for bm in s ]\n",
    "            k = [ (n.object(), n.key.fullName(), v) for n, v in zip(nodes, values) ]\n",
    "            cKey = tuple(k)\n",
    "            \n",
    "            if cKey not in self.contexts:\n",
    "                tweaks = dict( [ (bm, v) for bm, v in zip(s, values)])\n",
    "                name = 'simp-%s' % len(self.contexts)\n",
    "                ctx1 = SimplificationContext(tweaks, name)\n",
    "                self.contexts[cKey] = ctx1\n",
    "            ctx1 = self.contexts[cKey]\n",
    "            ret = ctx1.get(key)\n",
    "            ret.isSimplified = True\n",
    "        else:\n",
    "            ret = super(DM1, self).getNode(ctx, key)\n",
    "            ret.isSimplified = False\n",
    "        return ret\n",
    "    \n",
    "dm = DM1()\n",
    "setDependencyManager(dm)\n"
   ]
  },
  {
   "cell_type": "code",
   "execution_count": 6,
   "metadata": {
    "collapsed": false,
    "scrolled": false
   },
   "outputs": [
    {
     "data": {
      "text/markdown": [
       "1. Inadequate cash discounting model used\n",
       "1. Book appears multiple times\n",
       "  * /Global/TradingBook/Eq-Inst0"
      ],
      "text/plain": [
       "<IPython.core.display.Markdown object>"
      ]
     },
     "metadata": {},
     "output_type": "display_data"
    },
    {
     "data": {
      "text/markdown": [
       "# PnL explain for TopOfTheHouse: 6256.00"
      ],
      "text/plain": [
       "<IPython.core.display.Markdown object>"
      ]
     },
     "metadata": {},
     "output_type": "display_data"
    },
    {
     "data": {
      "text/markdown": [
       "**Caveat: this report encountered problems. See footnotes at bottom.**"
      ],
      "text/plain": [
       "<IPython.core.display.Markdown object>"
      ]
     },
     "metadata": {},
     "output_type": "display_data"
    },
    {
     "data": {
      "text/markdown": [
       "|Activity|PnL|\n",
       "|-|-|\n",
       "|Starting balance breaks|0.00\n",
       "|prior day amends: MarketData|0.00\n",
       "|prior day amends: Portfolio|0.00\n",
       "|prior day amends: Trading|-4.00\n",
       "|activity: MarketData|5240.00\n",
       "|activity: Portfolio|1020.00\n",
       "|activity: Trading|0.00\n",
       "|Ending balance breaks|0.00"
      ],
      "text/plain": [
       "<IPython.core.display.Markdown object>"
      ]
     },
     "metadata": {},
     "output_type": "display_data"
    },
    {
     "data": {
      "text/markdown": [
       "1. Inadequate cash discounting model used\n",
       "1. Book appears multiple times\n",
       "  * /Global/TradingBook/Eq-Inst0"
      ],
      "text/plain": [
       "<IPython.core.display.Markdown object>"
      ]
     },
     "metadata": {},
     "output_type": "display_data"
    },
    {
     "data": {
      "text/markdown": [
       "### Compute activity summary (10.99 seconds of wall clock time)"
      ],
      "text/plain": [
       "<IPython.core.display.Markdown object>"
      ]
     },
     "metadata": {},
     "output_type": "display_data"
    },
    {
     "data": {
      "text/markdown": [
       "|key|value|\n",
       "|-|-|\n",
       "|Context|22\n",
       "|Db.Get|2176\n",
       "|GetValue|43372\n",
       "|GetValue/Calc|1531"
      ],
      "text/plain": [
       "<IPython.core.display.Markdown object>"
      ]
     },
     "metadata": {},
     "output_type": "display_data"
    },
    {
     "data": {
      "text/markdown": [
       "\n",
       "### Profile by nodes.\n",
       "* times are in microseconds\n",
       "* cumT is total time spent in function\n",
       "* calcT is time spent in function, but not in a child node"
      ],
      "text/plain": [
       "<IPython.core.display.Markdown object>"
      ]
     },
     "metadata": {},
     "output_type": "display_data"
    },
    {
     "data": {
      "text/markdown": [
       "|fn|n|cumT|calcT|cumT/call|sys|\n",
       "|-|-|-|-|-|-|\n",
       "|PnLExplainReport:data|1|10,982,651|15|10,982,651|GetValue\n",
       "|PnLExplainReport:data|1|10,982,636|561|10,982,636|GetValue/Calc\n",
       "|TradingContainer:NPV|11|10,976,183|128|997,834|GetValue\n",
       "|TradingContainer:NPV|11|10,976,054|83|997,823|GetValue/Calc\n",
       "|Portfolio:items|61|10,799,427|659|177,039|GetValue\n",
       "|Portfolio:items|55|10,799,340|425|196,351|GetValue/Calc\n",
       "|Workbook:items|502|10,104,226|4,602|20,127|GetValue\n",
       "|Workbook:items|300|10,099,623|2,455|33,665|GetValue/Calc\n",
       "|PnLExplainReport:cutoffs|1|9,772,989|15|9,772,989|GetValue\n",
       "|PnLExplainReport:cutoffs|1|9,772,974|342|9,772,974|GetValue/Calc\n",
       "|Root:Clocks|59|9,772,521|40,978|165,635|Context\n",
       "|simp-0|144|8,816,101|53,903|61,222|Context\n",
       "|simp-1|200|8,346,103|714,519|41,730|Context\n",
       "|TradeOpenEvent|1,014|3,788,760|3,788,760|3,736|Db.Get\n",
       "|TradeOpenEvent:ticket|6,078|3,776,288|44,909|621|GetValue\n",
       "|TradingTicket|1,014|3,731,379|3,731,379|3,679|Db.Get\n",
       "|Root:Amend Trading|11|1,045,138|501|95,012|Context\n",
       "|simp-8|144|1,044,401|51,777|7,252|Context\n",
       "|simp-9|200|986,709|910,071|4,933|Context\n",
       "|simp-3|144|825,889|55,148|5,735|Context\n",
       "|simp-4|200|764,355|681,051|3,821|Context\n",
       "|Portfolio:children|110|626,362|958|5,694|GetValue\n",
       "|Portfolio:children|55|625,404|509|11,370|GetValue/Calc\n",
       "|PortfolioUpdateEvent:children|55|364,999|1,932|6,636|GetValue\n",
       "|TradingBook|102|334,408|334,408|3,278|Db.Get\n",
       "|Equity:NPV|15|115,542|172|7,702|GetValue\n",
       "|Equity:NPV|15|115,370|116|7,691|GetValue/Calc\n",
       "|MarketInterface:spot|15|107,023|159|7,134|GetValue\n",
       "|MarketInterface:spot|15|106,863|130|7,124|GetValue/Calc\n",
       "|ExternalRefData:state|15|98,786|158|6,585|GetValue\n",
       "|ExternalRefData:state|15|98,628|113|6,575|GetValue/Calc\n",
       "|Clock:cutoffs|1,365|95,939|5,931|70|GetValue\n",
       "|Clock:cutoffs|20|90,094|158|4,504|GetValue/Calc\n",
       "|Clock:parent|20|88,967|205|4,448|GetValue\n",
       "|Clock:parent|20|88,761|161|4,438|GetValue/Calc\n",
       "|Root:Activity Portfolio|18|58,790|814|3,266|Context\n",
       "|simp-10|144|57,585|53,062|399|Context\n",
       "|Root:Amend Portfolio|11|56,021|476|5,092|Context\n",
       "|simp-7|144|55,322|51,192|384|Context\n",
       "|RefData:state|15|54,904|102|3,660|GetValue\n",
       "|RefData:state|4|54,802|32|13,700|GetValue/Calc\n",
       "|PortfolioUpdateEvent|12|46,118|46,118|3,843|Db.Get\n",
       "|RefDataUpdateEvent|9|38,830|38,830|4,314|Db.Get\n",
       "|_WorkItemEvent:book2|6,078|37,783|31,541|6|GetValue\n",
       "|TradingPortfolio|10|34,900|34,900|3,490|Db.Get\n",
       "|_WorkItemEvent:book1|6,078|33,499|33,499|5|GetValue\n",
       "|_WorkItemEvent:item|3,039|32,705|25,965|10|GetValue\n",
       "|TradeOpenEvent:quantity|6,078|31,691|31,691|5|GetValue\n",
       "|TradingBook:clock|1,102|31,553|12,179|28|GetValue\n",
       "|simp-5|4|27,891|7,244|6,972|Context\n",
       "|simp-2|2|23,055|4,621|11,527|Context\n",
       "|TradeOpenEvent:premium|3,039|22,968|20,001|7|GetValue\n",
       "|TradeOpenEvent:action|3,039|20,788|20,788|6|GetValue\n",
       "|Root:End|33|20,390|19,604|617|Context\n",
       "|TradingBook:clock|800|19,373|7,268|24|GetValue/Calc\n",
       "|Root:Start|26|18,905|18,288|727|Context\n",
       "|Event:amends|3,122|18,006|18,006|5|GetValue\n",
       "|TradeOpenEvent:unitPrice|3,039|17,590|17,590|5|GetValue\n",
       "|Clock|5|16,890|16,890|3,378|Db.Get\n",
       "|Equity:refdata|15|7,476|167|498|GetValue\n",
       "|ClockEvent|2|7,372|7,372|3,686|Db.Get\n",
       "|Equity:refdata|15|7,308|258|487|GetValue/Calc\n",
       "|MarketInterface:source|15|7,253|154|483|GetValue\n",
       "|ClockEvent:parent|8|7,143|82|892|GetValue\n",
       "|MarketInterface:source|15|7,098|109|473|GetValue/Calc\n",
       "|Equity|2|6,739|6,739|3,369|Db.Get\n",
       "|MarketInterface|2|6,448|6,448|3,224|Db.Get\n",
       "|MarketDataSource|2|6,170|6,170|3,085|Db.Get\n",
       "|Portfolio:clock|171|5,953|1,425|34|GetValue\n",
       "|Portfolio:clock|66|4,528|517|68|GetValue/Calc\n",
       "|Root:Amend MarketData|11|4,462|423|405|Context\n",
       "|MarketDataSource:clock|23|4,212|233|183|GetValue\n",
       "|MarketDataSource:clock|19|3,978|163|209|GetValue/Calc\n",
       "|simp-6|2|3,822|3,748|1,911|Context\n",
       "|Portfolio:books|105|3,721|855|35|GetValue\n",
       "|RootClock|1|3,107|3,107|3,107|Db.Get\n",
       "|Portfolio:books|55|3,060|447|55|GetValue/Calc\n",
       "|ForwardCashflow|1|2,966|2,966|2,966|Db.Get\n",
       "|Root:Activity Trading|18|995|649|55|Context\n",
       "|Entity:clock|40|947|412|23|GetValue\n",
       "|Root:Start breaks|11|632|424|57|Context\n",
       "|Root:Activity MarketData|11|628|416|57|Context\n",
       "|Entity:clock|20|535|216|26|GetValue/Calc\n",
       "|ForwardCashflow:NPV|11|344|149|31|GetValue\n",
       "|MarketInterface:sourceName|15|338|156|22|GetValue\n",
       "|RootClock:cutoffs|53|315|226|5|GetValue\n",
       "|ForwardCashflow:NPV|11|195|88|17|GetValue/Calc\n",
       "|MarketInterface:sourceName|15|181|109|12|GetValue/Calc\n",
       "|Equity:assetName|15|93|93|6|GetValue\n",
       "|RootClock:cutoffs|1|89|49|89|GetValue/Calc\n",
       "|RefDataUpdateEvent:data|15|77|77|5|GetValue\n",
       "|RootClock:cosmicAll|1|23|14|23|GetValue\n",
       "|CosmicAll:dbState|1|16|10|16|GetValue\n",
       "|PnLExplainReport:valuable|2|8|8|4|GetValue\n",
       "|RootClock:cosmicAll|1|8|8|8|GetValue/Calc\n",
       "|PnLExplainReport:ts1|2|8|8|4|GetValue\n",
       "|PnLExplainReport:ts2|2|6|6|3|GetValue\n",
       "|CosmicAll:dbState|1|6|6|6|GetValue/Calc"
      ],
      "text/plain": [
       "<IPython.core.display.Markdown object>"
      ]
     },
     "metadata": {},
     "output_type": "display_data"
    }
   ],
   "source": [
    "db4 = db.copy()\n",
    "valuable = db4.get(pAll.meta.path())\n",
    "\n",
    "r = PnLExplainReport(valuable=valuable, ts1=eod, ts2=ts7)\n",
    "with ProfileMonitor():\n",
    "    with SummaryMonitor():\n",
    "        r.run()"
   ]
  },
  {
   "cell_type": "code",
   "execution_count": 7,
   "metadata": {
    "collapsed": false,
    "scrolled": false
   },
   "outputs": [
    {
     "name": "stdout",
     "output_type": "stream",
     "text": [
      "\n",
      "simp-0\n",
      "     (<Entity:/Global/Clock/Portfolio>, 'Clock:cutoffs', <TS:t=2017-05-31T11:16:37.458351,v=2017-05-31T11:16:37.458350>)\n",
      "     (<Entity:/Global/Clock/Trading>, 'Clock:cutoffs', <TS:t=2017-05-31T11:16:37.458351,v=2017-05-31T11:16:37.458350>)\n",
      "         <Node: /Global/Clock/Portfolio.(Clock:cutoffs)() in simp-0 @4571832728>\n",
      "         <Node: /Global/Clock/Trading.(Clock:cutoffs)() in simp-0 @4571832784>\n",
      "\n",
      "simp-1\n",
      "     (<Entity:/Global/Clock/Trading>, 'Clock:cutoffs', <TS:t=2017-05-31T11:16:37.458351,v=2017-05-31T11:16:37.458350>)\n",
      "         <Node: /Global/Clock/Trading.(Clock:cutoffs)() in simp-1 @4399401672>\n",
      "\n",
      "simp-10\n",
      "     (<Entity:/Global/Clock/Portfolio>, 'Clock:cutoffs', <TS:t=2017-05-31T11:16:37.512334,v=2017-05-31T11:16:37.512333>)\n",
      "     (<Entity:/Global/Clock/Trading>, 'Clock:cutoffs', <TS:t=2017-05-31T11:16:37.512334,v=2017-05-31T11:16:37.458350>)\n",
      "         <Node: /Global/Clock/Trading.(Clock:cutoffs)() in simp-10 @4611482120>\n",
      "         <Node: /Global/Clock/Portfolio.(Clock:cutoffs)() in simp-10 @4611484696>\n",
      "\n",
      "simp-2\n",
      "     (<Entity:/Global/Clock/MarketData>, 'Clock:cutoffs', <TS:t=2017-05-31T11:16:37.458351,v=2017-05-31T11:16:37.458350>)\n",
      "         <Node: /Global/Clock/MarketData.(Clock:cutoffs)() in simp-2 @4564662480>\n",
      "\n",
      "simp-3\n",
      "     (<Entity:/Global/Clock/Portfolio>, 'Clock:cutoffs', <TS:t=2017-05-31T11:16:37.512334,v=2017-05-31T11:16:37.512333>)\n",
      "     (<Entity:/Global/Clock/Trading>, 'Clock:cutoffs', <TS:t=2017-05-31T11:16:37.512334,v=2017-05-31T11:16:37.512333>)\n",
      "         <Node: /Global/Clock/Trading.(Clock:cutoffs)() in simp-3 @4564661696>\n",
      "         <Node: /Global/Clock/Portfolio.(Clock:cutoffs)() in simp-3 @4561895376>\n",
      "\n",
      "simp-4\n",
      "     (<Entity:/Global/Clock/Trading>, 'Clock:cutoffs', <TS:t=2017-05-31T11:16:37.512334,v=2017-05-31T11:16:37.512333>)\n",
      "         <Node: /Global/Clock/Trading.(Clock:cutoffs)() in simp-4 @4565996208>\n",
      "\n",
      "simp-5\n",
      "     (<Entity:/Global/Clock/MarketData>, 'Clock:cutoffs', <TS:t=2017-05-31T11:16:37.512334,v=2017-05-31T11:16:37.512333>)\n",
      "         <Node: /Global/Clock/MarketData.(Clock:cutoffs)() in simp-5 @4597096632>\n",
      "\n",
      "simp-6\n",
      "     (<Entity:/Global/Clock/MarketData>, 'Clock:cutoffs', <TS:t=2017-05-31T11:16:37.512334,v=2017-05-31T11:16:37.458350>)\n",
      "         <Node: /Global/Clock/MarketData.(Clock:cutoffs)() in simp-6 @4597611712>\n",
      "\n",
      "simp-7\n",
      "     (<Entity:/Global/Clock/Portfolio>, 'Clock:cutoffs', <TS:t=2017-05-31T11:16:37.512334,v=2017-05-31T11:16:37.458350>)\n",
      "     (<Entity:/Global/Clock/Trading>, 'Clock:cutoffs', <TS:t=2017-05-31T11:16:37.458351,v=2017-05-31T11:16:37.458350>)\n",
      "         <Node: /Global/Clock/Trading.(Clock:cutoffs)() in simp-7 @4597675736>\n",
      "         <Node: /Global/Clock/Portfolio.(Clock:cutoffs)() in simp-7 @4597675624>\n",
      "\n",
      "simp-8\n",
      "     (<Entity:/Global/Clock/Portfolio>, 'Clock:cutoffs', <TS:t=2017-05-31T11:16:37.512334,v=2017-05-31T11:16:37.458350>)\n",
      "     (<Entity:/Global/Clock/Trading>, 'Clock:cutoffs', <TS:t=2017-05-31T11:16:37.512334,v=2017-05-31T11:16:37.458350>)\n",
      "         <Node: /Global/Clock/Trading.(Clock:cutoffs)() in simp-8 @4597965208>\n",
      "         <Node: /Global/Clock/Portfolio.(Clock:cutoffs)() in simp-8 @4597965096>\n",
      "\n",
      "simp-9\n",
      "     (<Entity:/Global/Clock/Trading>, 'Clock:cutoffs', <TS:t=2017-05-31T11:16:37.512334,v=2017-05-31T11:16:37.458350>)\n",
      "         <Node: /Global/Clock/Trading.(Clock:cutoffs)() in simp-9 @4597906568>\n"
     ]
    }
   ],
   "source": [
    "for k, ctx in sorted(dm.contexts.items(), key=lambda x: x[1].name):\n",
    "    print()\n",
    "    print(ctx.name)\n",
    "    for t in k:\n",
    "        print('    ', t)\n",
    "    for t in ctx.tweaks:\n",
    "        print('        ', t)"
   ]
  }
 ],
 "metadata": {
  "kernelspec": {
   "display_name": "Python 3",
   "language": "python",
   "name": "python3"
  },
  "language_info": {
   "codemirror_mode": {
    "name": "ipython",
    "version": 3
   },
   "file_extension": ".py",
   "mimetype": "text/x-python",
   "name": "python",
   "nbconvert_exporter": "python",
   "pygments_lexer": "ipython3",
   "version": "3.6.1"
  }
 },
 "nbformat": 4,
 "nbformat_minor": 2
}
