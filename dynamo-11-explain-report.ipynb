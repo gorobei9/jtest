{
 "cells": [
  {
   "cell_type": "markdown",
   "metadata": {},
   "source": [
    "# An Explain Report\n",
    "\n",
    "This is a POC for an explain report: given a number at time T1 and time T2, introspect the clocks involved to produce a simple linear breakdown\n",
    "of what changed on various timelines to account for the change in the number between T1 and T2.\n",
    "\n",
    "The report is an ordered sequence of clock changes: the sum of changes should equal to the total change. The order of application is important: change the\n",
    "ordering, and the resultant values may change. It's not a Jacobian-type report with T1 deltas and no ordering.\n",
    "\n",
    "The real reason for this workbook is to start working on the node class optimizations and metadata management."
   ]
  },
  {
   "cell_type": "markdown",
   "metadata": {},
   "source": [
    "## Footnotes\n",
    "\n",
    "Footnotes are one of the simplest types of metadata:\n",
    "* Any computation (even a simple read of a constant value) may declare it has footnotes\n",
    "* Every computation gets the footnote of all its inputs\n",
    "\n",
    "Footnoting is based on a number of observations about large software systems (say, 1M LOC or more):\n",
    "* Any complex report (i.e. computation output) will generally be somewhat wrong, misleading, or out of date.\n",
    "* If you want 100% correctness and truth, your report will raise an exception every time you run it.\n",
    "* If you just want it to run, you'll get a result, but some log file on some machine in some compute farm will have a message explaining why your result is wrong.\n",
    "* And you won't see that message.\n",
    "* And that message may have leaked information that bad actors can read.\n",
    "* And you won't trust this system, so your own developers will copy the underlying data and write their own version of the report with all the same issues.\n",
    "* Now you don't have a problem, but your company now has two problems.\n",
    "\n",
    "Footnotes summary:\n",
    "* Are the documentation of problems from the producer's point of view\n",
    "* Make no claim about usability of results, etc, for a specific consumer\n",
    "* May be programmatically removed/condensed/replaced at controlled code points\n"
   ]
  },
  {
   "cell_type": "code",
   "execution_count": 1,
   "metadata": {
    "collapsed": false
   },
   "outputs": [
    {
     "name": "stdout",
     "output_type": "stream",
     "text": [
      "<mand.db.ObjectDb object at 0x110fb2410>: 71, mem=True, ro=False: entities=9, map=2\n"
     ]
    }
   ],
   "source": [
    "from mand.core import Entity, node, Context\n",
    "from mand.core import ObjectDb, Timestamp, getNode, _tr\n",
    "from mand.core import ProfileMonitor\n",
    "from mand.core import displayDict, displayMarkdown, displayListOfDicts, displayHeader\n",
    "from mand.core import find\n",
    "from mand.demos.trading import makeWorld, bookSomeTrades\n",
    "\n",
    "db = ObjectDb()\n",
    "\n",
    "from mand.lib.dbsetup import setUpDb\n",
    "setUpDb(db)\n",
    "db.describe()"
   ]
  },
  {
   "cell_type": "code",
   "execution_count": 2,
   "metadata": {
    "collapsed": false
   },
   "outputs": [
    {
     "name": "stdout",
     "output_type": "stream",
     "text": [
      "makeWorld, TopOfTheHouse is: <Entity:/Global/TradingPortfolio/TopOfTheHouse>\n",
      "    # books: 100\n",
      "    # children: 10\n"
     ]
    }
   ],
   "source": [
    "with db:\n",
    "    pWorld = makeWorld()\n",
    "    \n",
    "pAll, bExt, bExt2 = pWorld.children()\n",
    "p1 = pAll.children()[0]\n",
    "p2 = pAll.children()[1]\n",
    "p4 = pAll.children()[3]\n",
    "\n",
    "b2 = p2.children()[0]\n",
    "b4 = p4.children()[0]"
   ]
  },
  {
   "cell_type": "markdown",
   "metadata": {},
   "source": [
    "# Book some trades\n",
    "\n",
    "This time, we throw a few thousand in..."
   ]
  },
  {
   "cell_type": "code",
   "execution_count": 3,
   "metadata": {
    "collapsed": false
   },
   "outputs": [],
   "source": [
    "ts0, ts1, ts2, ts3, ts4, ts5, eod, ts6 = bookSomeTrades(pWorld)"
   ]
  },
  {
   "cell_type": "markdown",
   "metadata": {},
   "source": [
    "# An Explain Report\n",
    "\n",
    "This is a mix of abstractions at the Core, DBA, and BA, and User levels. But, it does the job for now..."
   ]
  },
  {
   "cell_type": "code",
   "execution_count": 4,
   "metadata": {
    "collapsed": false,
    "scrolled": false
   },
   "outputs": [
    {
     "data": {
      "text/markdown": [
       "# PnL explain for TopOfTheHouse: 5236.00"
      ],
      "text/plain": [
       "<IPython.core.display.Markdown object>"
      ]
     },
     "metadata": {},
     "output_type": "display_data"
    },
    {
     "data": {
      "text/markdown": [
       "**Caveat: this report encountered problems. See footnotes at bottom.**"
      ],
      "text/plain": [
       "<IPython.core.display.Markdown object>"
      ]
     },
     "metadata": {},
     "output_type": "display_data"
    },
    {
     "data": {
      "text/markdown": [
       "|Activity|PnL|\n",
       "|-|-|\n",
       "|Starting balance breaks|0.00\n",
       "|prior day amends: MarketData|0.00\n",
       "|prior day amends: Portfolio|0.00\n",
       "|prior day amends: Trading|-4.00\n",
       "|activity: MarketData|5240.00\n",
       "|activity: Portfolio|0.00\n",
       "|activity: Trading|0.00\n",
       "|Ending balance breaks|0.00"
      ],
      "text/plain": [
       "<IPython.core.display.Markdown object>"
      ]
     },
     "metadata": {},
     "output_type": "display_data"
    },
    {
     "data": {
      "text/markdown": [
       "## Footnotes:"
      ],
      "text/plain": [
       "<IPython.core.display.Markdown object>"
      ]
     },
     "metadata": {},
     "output_type": "display_data"
    },
    {
     "data": {
      "text/markdown": [
       "1. Inadequate cash discounting model used"
      ],
      "text/plain": [
       "<IPython.core.display.Markdown object>"
      ]
     },
     "metadata": {},
     "output_type": "display_data"
    }
   ],
   "source": [
    "class Report(Entity):\n",
    "    @node(stored=True)\n",
    "    def valuable(self):\n",
    "        return None\n",
    "    \n",
    "    @node(stored=True)\n",
    "    def ts1(self):\n",
    "        return None\n",
    "    \n",
    "    @node(stored=True)\n",
    "    def ts2(self):\n",
    "        return None\n",
    "    \n",
    "    @node\n",
    "    def cutoffs(self):\n",
    "        valuable = self.valuable()\n",
    "        ts1 = self.ts1()\n",
    "        ts2 = self.ts2()\n",
    "        \n",
    "        clock = valuable.getObj(_tr.RootClock, 'Main')\n",
    "        \n",
    "        def cuts(ts):\n",
    "            def fn(node):\n",
    "                obj = node.key.object()\n",
    "                m = node.key.shortName()\n",
    "                if isinstance(obj, _tr.Clock) and m == 'cutoffs':\n",
    "                    return True\n",
    "            with Context({clock.cutoffs: ts}, 'Clocks'):\n",
    "                nodes = find(valuable.NPV, fn)\n",
    "                return nodes\n",
    "\n",
    "        ret = {}\n",
    "        for n in cuts(ts1):\n",
    "            ret[n.key._key] = n\n",
    "        for n in cuts(ts2):\n",
    "            ret[n.key._key] = n\n",
    "        return ret.values()\n",
    "    \n",
    "    @node\n",
    "    def data(self):\n",
    "        valuable = self.valuable()\n",
    "        ts1 = self.ts1()\n",
    "        ts2 = self.ts2()\n",
    "        clock = valuable.getObj(_tr.RootClock, 'Main')\n",
    "    \n",
    "        nodes = self.cutoffs()\n",
    "    \n",
    "        # IRL, we'd sort these according to some business req...\n",
    "        # And our clocks might be arranged in an N-level tree...\n",
    "        nodes = sorted(nodes, key = lambda node: node.object().meta.name())\n",
    "    \n",
    "        data = []\n",
    "        curr = [0]\n",
    "        def add(title, npv):\n",
    "            pnl = npv - curr[0]\n",
    "            curr[0] = npv\n",
    "            data.append( {'Activity': title, 'PnL': pnl } )\n",
    "\n",
    "        with Context({clock.cutoffs: ts1}, 'Start'):\n",
    "            curr = [ valuable.NPV() ] # Starting balance\n",
    "    \n",
    "        tweaks = {}\n",
    "        for n in nodes:\n",
    "            tweaks[n] = ts1\n",
    "        with Context(tweaks, name='Start breaks'):\n",
    "            start = valuable.NPV()\n",
    "            add('Starting balance breaks', start)\n",
    "\n",
    "        tsAmend = Timestamp(t=ts2.transactionTime, v=ts1.validTime)\n",
    "        # XXX - modifying tweaks in place is a bit evil\n",
    "        # This is only safe because I know Context() effectively copies, so this works\n",
    "        # for now.\n",
    "        for n in nodes:\n",
    "            tweaks[n] = tsAmend\n",
    "            name = n.object().meta.name()\n",
    "            with Context(tweaks, name='Amend %s' % name):\n",
    "                add('prior day amends: %s' % name, valuable.NPV())\n",
    "        for n in nodes:\n",
    "            tweaks[n] = ts2\n",
    "            name = n.object().meta.name()\n",
    "            with Context(tweaks, name='Activity %s' % name):\n",
    "                add('activity: %s' % name, valuable.NPV())\n",
    "    \n",
    "        with Context({clock.cutoffs: ts2}, name='End'):\n",
    "            end = valuable.NPV()\n",
    "            add('Ending balance breaks', end)\n",
    "\n",
    "        title = 'PnL explain for %s: %s' % (valuable.meta.name(), end-start)\n",
    "        return data, title\n",
    "\n",
    "    def run(self):\n",
    "        data, title = self.data()\n",
    "        node = getNode(self.data)\n",
    "        footnotes = node.footnotes.values()\n",
    "        displayHeader('%s' % title)\n",
    "        if footnotes:\n",
    "            displayMarkdown('**Caveat: this report encountered problems. See footnotes at bottom.**')\n",
    "        displayListOfDicts(data, names=['Activity', 'PnL'] )\n",
    "        if footnotes:\n",
    "            displayMarkdown('## Footnotes:')\n",
    "            displayMarkdown(node.footnoteMarkdown())\n",
    "    \n",
    "r = Report(valuable=pAll, ts1=eod, ts2=ts6)\n",
    "r.run()"
   ]
  },
  {
   "cell_type": "markdown",
   "metadata": {},
   "source": [
    "## Add some inconsistent data [Test]\n",
    "\n",
    "Book b2 should appear multiple times in some portfolio trees and be flagged accordingly..."
   ]
  },
  {
   "cell_type": "code",
   "execution_count": 5,
   "metadata": {
    "collapsed": false
   },
   "outputs": [],
   "source": [
    "with db:\n",
    "    p1.setChildren(p1.children() + [b2])\n",
    "\n",
    "ts7 = Timestamp()"
   ]
  },
  {
   "cell_type": "markdown",
   "metadata": {},
   "source": [
    "# Footnotes\n",
    "\n",
    "Note the report calculation has run, but attached appropriate caveats to the output:"
   ]
  },
  {
   "cell_type": "code",
   "execution_count": 6,
   "metadata": {
    "collapsed": false,
    "scrolled": false
   },
   "outputs": [
    {
     "data": {
      "text/markdown": [
       "# PnL explain for TopOfTheHouse: 6256.00"
      ],
      "text/plain": [
       "<IPython.core.display.Markdown object>"
      ]
     },
     "metadata": {},
     "output_type": "display_data"
    },
    {
     "data": {
      "text/markdown": [
       "**Caveat: this report encountered problems. See footnotes at bottom.**"
      ],
      "text/plain": [
       "<IPython.core.display.Markdown object>"
      ]
     },
     "metadata": {},
     "output_type": "display_data"
    },
    {
     "data": {
      "text/markdown": [
       "|Activity|PnL|\n",
       "|-|-|\n",
       "|Starting balance breaks|0.00\n",
       "|prior day amends: MarketData|0.00\n",
       "|prior day amends: Portfolio|0.00\n",
       "|prior day amends: Trading|-4.00\n",
       "|activity: MarketData|5240.00\n",
       "|activity: Portfolio|1020.00\n",
       "|activity: Trading|0.00\n",
       "|Ending balance breaks|0.00"
      ],
      "text/plain": [
       "<IPython.core.display.Markdown object>"
      ]
     },
     "metadata": {},
     "output_type": "display_data"
    },
    {
     "data": {
      "text/markdown": [
       "## Footnotes:"
      ],
      "text/plain": [
       "<IPython.core.display.Markdown object>"
      ]
     },
     "metadata": {},
     "output_type": "display_data"
    },
    {
     "data": {
      "text/markdown": [
       "1. Inadequate cash discounting model used\n",
       "1. Book appears multiple times\n",
       "  * /Global/TradingBook/Eq-Inst0"
      ],
      "text/plain": [
       "<IPython.core.display.Markdown object>"
      ]
     },
     "metadata": {},
     "output_type": "display_data"
    },
    {
     "data": {
      "text/markdown": [
       "\n",
       "### Profile by nodes.\n",
       "* times are in microseconds\n",
       "* cumT is total time spent in funtion\n",
       "* calcT is time spent in function, but not in a child node"
      ],
      "text/plain": [
       "<IPython.core.display.Markdown object>"
      ]
     },
     "metadata": {},
     "output_type": "display_data"
    },
    {
     "data": {
      "text/markdown": [
       "|fn|n|cumT|calcT|cumT/call|sys|\n",
       "|-|-|-|-|-|-|\n",
       "|Report:data|1|50,744,643|27|50,744,643|GetValue\n",
       "|Report:data|1|50,744,616|953|50,744,616|GetValue/Calc\n",
       "|TradingContainer:NPV|11|50,556,085|298|4,596,007|GetValue\n",
       "|TradingContainer:NPV|11|50,555,787|199|4,595,980|GetValue/Calc\n",
       "|Portfolio:items|121|50,087,675|2,846|413,947|GetValue\n",
       "|Portfolio:items|121|50,087,440|2,069|413,945|GetValue/Calc\n",
       "|Workbook:items|1,104|47,437,208|28,316|42,968|GetValue\n",
       "|Workbook:items|1,100|47,408,891|21,136|43,098|GetValue/Calc\n",
       "|Report:cutoffs|1|28,582,694|72|28,582,694|GetValue\n",
       "|Report:cutoffs|1|28,582,622|340|28,582,622|GetValue/Calc\n",
       "|Root:Clocks|548|28,582,255|5,712,073|52,157|Context\n",
       "|TradeOpenEvent:ticket|22,286|10,649,654|297,679|477|GetValue\n",
       "|TradeOpenEvent|1,014|10,547,915|10,547,915|10,402|Db.Get\n",
       "|TradingTicket|1,014|10,351,974|10,351,974|10,209|Db.Get\n",
       "|Root:Activity MarketData|255|3,229,382|3,032,419|12,664|Context\n",
       "|Root:Start breaks|255|3,141,568|2,936,372|12,319|Context\n",
       "|Portfolio:children|242|2,551,326|4,130|10,542|GetValue\n",
       "|Portfolio:children|121|2,547,196|2,270|21,051|GetValue/Calc\n",
       "|Root:Start|270|2,515,304|2,320,146|9,315|Context\n",
       "|Root:Amend MarketData|255|2,386,819|2,194,872|9,360|Context\n",
       "|Root:Amend Trading|255|2,356,265|2,168,909|9,240|Context\n",
       "|Root:Amend Portfolio|255|2,337,683|2,154,236|9,167|Context\n",
       "|Root:Activity Portfolio|263|2,239,673|2,061,495|8,515|Context\n",
       "|Root:Activity Trading|263|2,051,831|1,902,002|7,801|Context\n",
       "|Root:End|278|1,892,604|1,751,597|6,807|Context\n",
       "|PortfolioUpdateEvent:children|121|1,038,053|6,733|8,578|GetValue\n",
       "|TradingBook|102|967,511|967,511|9,485|Db.Get\n",
       "|Equity:NPV|15|462,953|398|30,863|GetValue\n",
       "|Equity:NPV|15|462,554|602|30,836|GetValue/Calc\n",
       "|MarketInterface:spot|15|434,324|397|28,954|GetValue\n",
       "|MarketInterface:spot|15|433,926|268|28,928|GetValue/Calc\n",
       "|ExternalRefData:state|15|402,714|300|26,847|GetValue\n",
       "|ExternalRefData:state|15|402,413|606|26,827|GetValue/Calc\n",
       "|RefData:state|15|400,969|329|26,731|GetValue\n",
       "|RefData:state|15|400,640|248|26,709|GetValue/Calc\n",
       "|_WorkItemEvent:book2|22,286|294,265|273,330|13|GetValue\n",
       "|Clock:cutoffs|2,480|288,732|22,926|116|GetValue\n",
       "|_WorkItemEvent:book1|22,286|278,650|278,650|12|GetValue\n",
       "|Clock:cutoffs|20|266,022|419|13,301|GetValue/Calc\n",
       "|Clock:parent|20|263,195|587|13,159|GetValue\n",
       "|Clock:parent|20|262,607|508|13,130|GetValue/Calc\n",
       "|TradeOpenEvent:quantity|22,286|238,604|238,604|10|GetValue\n",
       "|_WorkItemEvent:item|11,143|206,393|188,894|18|GetValue\n",
       "|TradeOpenEvent:premium|11,143|179,734|173,275|16|GetValue\n",
       "|TradeOpenEvent:action|11,143|179,609|179,609|16|GetValue\n",
       "|PortfolioUpdateEvent|12|157,345|157,345|13,112|Db.Get\n",
       "|TradeOpenEvent:unitPrice|11,143|151,273|151,273|13|GetValue\n",
       "|TradingBook:clock|2,200|144,096|52,984|65|GetValue\n",
       "|Event:amends|11,340|134,104|134,104|11|GetValue\n",
       "|RefDataUpdateEvent|9|117,933|117,933|13,103|Db.Get\n",
       "|TradingBook:clock|1,100|91,112|29,624|82|GetValue/Calc\n",
       "|TradingPortfolio|10|84,743|84,743|8,474|Db.Get\n",
       "|Clock|5|57,230|57,230|11,446|Db.Get\n",
       "|MarketInterface:source|15|29,182|337|1,945|GetValue\n",
       "|MarketInterface:source|15|28,844|246|1,922|GetValue/Calc\n",
       "|MarketDataSource|2|26,328|26,328|13,164|Db.Get\n",
       "|Equity:refdata|15|26,041|390|1,736|GetValue\n",
       "|Equity:refdata|15|25,650|284|1,710|GetValue/Calc\n",
       "|ClockEvent|2|25,286|25,286|12,643|Db.Get\n",
       "|MarketInterface|2|23,890|23,890|11,945|Db.Get\n",
       "|ClockEvent:parent|8|23,503|342|2,937|GetValue\n",
       "|Portfolio:clock|242|22,364|5,815|92|GetValue\n",
       "|Portfolio:books|231|18,700|3,892|80|GetValue\n",
       "|Equity|2|17,499|17,499|8,749|Db.Get\n",
       "|Portfolio:clock|121|16,549|3,109|136|GetValue/Calc\n",
       "|MarketDataSource:clock|30|16,105|596|536|GetValue\n",
       "|Portfolio:books|121|15,581|2,041|128|GetValue/Calc\n",
       "|MarketDataSource:clock|15|15,509|344|1,033|GetValue/Calc\n",
       "|RootClock|1|9,798|9,798|9,798|Db.Get\n",
       "|ForwardCashflow|1|6,458|6,458|6,458|Db.Get\n",
       "|Entity:clock|40|2,507|998|62|GetValue\n",
       "|Entity:clock|20|1,509|641|75|GetValue/Calc\n",
       "|MarketInterface:sourceName|15|900|425|60|GetValue\n",
       "|ForwardCashflow:NPV|11|746|280|67|GetValue\n",
       "|RefDataUpdateEvent:data|58|601|601|10|GetValue\n",
       "|MarketInterface:sourceName|15|475|275|31|GetValue/Calc\n",
       "|RootClock:cutoffs|52|468|468|9|GetValue\n",
       "|ForwardCashflow:NPV|11|465|175|42|GetValue/Calc\n",
       "|Equity:assetName|15|250|250|16|GetValue\n",
       "|Report:valuable|2|30|30|15|GetValue\n",
       "|Report:ts1|2|16|16|8|GetValue\n",
       "|Report:ts2|2|13|13|6|GetValue"
      ],
      "text/plain": [
       "<IPython.core.display.Markdown object>"
      ]
     },
     "metadata": {},
     "output_type": "display_data"
    }
   ],
   "source": [
    "db3 = db.copy()\n",
    "p = db3._get(pAll.meta.path())\n",
    "\n",
    "with ProfileMonitor(mode='sum'): \n",
    "    r = Report(valuable=p, ts1=eod, ts2=ts7)\n",
    "    r.run()"
   ]
  }
 ],
 "metadata": {
  "kernelspec": {
   "display_name": "Python 2",
   "language": "python",
   "name": "python2"
  },
  "language_info": {
   "codemirror_mode": {
    "name": "ipython",
    "version": 2
   },
   "file_extension": ".py",
   "mimetype": "text/x-python",
   "name": "python",
   "nbconvert_exporter": "python",
   "pygments_lexer": "ipython2",
   "version": "2.7.13"
  }
 },
 "nbformat": 4,
 "nbformat_minor": 2
}
