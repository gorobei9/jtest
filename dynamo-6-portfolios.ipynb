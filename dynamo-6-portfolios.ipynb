{
 "cells": [
  {
   "cell_type": "markdown",
   "metadata": {},
   "source": [
    "# Aggregating entities\n",
    "\n",
    "This notebook is a proof of concept of portfolios, which are just collections of workbooks. Basically:\n",
    "    \n",
    "* Portfolios are a tree structure: a portfolio can contain multiple books or other portfolios.\n",
    "* A portfolio should have the same API as a single book, specifically: the tickets in a book are the set of tickets in\n",
    "the underlying books, the workItems in a portfolio are the net of the workItems in the underlying books.\n",
    "* Books can appear in multiple portfolios: the books hold activity, each portfolio is a view useful to somebody \n",
    "(e.g. a manager.)\n",
    "\n",
    "\n",
    "An real-world example might be a helpdesk with a group of workbooks, for example:\n",
    "* US-L1 support\n",
    "* US-L2 support\n",
    "* US-hardware-group\n",
    "* HongKong-L1 support\n",
    "* HongKong-L2 support\n",
    "* HongKong-hardware-group\n",
    "* Singapore-L1 support\n",
    "* Singapore-L2 support\n",
    "* Singapore-hardware-group\n",
    "* Global-support\n",
    "\n",
    "In addition to the people monitoring the individual workflows, various managers, auditors, etc, might want to\n",
    "monitor aggregations, e.g:\n",
    "* HongKong-all: all HongKong books\n",
    "* Asia-all: all HongKong and Singapore books\n",
    "* Hardware-global: all the regional hardware books\n",
    "* Global-help: all L1 and all L2 and all hardware and global support\n",
    "        \n",
    "Note that there is not a single tree of aggregations: depending of use-case, people may want to aggregate workbooks\n",
    "in different ways. \n",
    "    \n",
    "*This notebook also introduces a few implementation concepts, so check for [Core] or [Test] in the below code.*"
   ]
  },
  {
   "cell_type": "markdown",
   "metadata": {},
   "source": [
    "## Multiple timelines [DBA]\n",
    "\n",
    "This workbook is about managing the trees of portfolios rather than implementing the mechanics of workItem\n",
    "aggregation.\n",
    "\n",
    "In any event, the shape of the portfolio trees should be on a different timeline from the items contained within\n",
    "the portfolios themselves: that way we can rearrange our portfolio aggregations without worrying about messing up\n",
    "our ability to regenerate old reports.\n",
    "\n",
    "This is a key idea. While I hate to introduce accounting systems (yes, we will build one soon,) we are trying to\n",
    "head off two problems by implementing multiple trees and multiple timelines. Here are the problems (and proposed\n",
    "solutions) from an accounting website that is explaining the idea of a chart of accounts:\n",
    "    \n",
    "* *Consistency. It is of some importance to initially create a chart of accounts that is unlikely to change for \n",
    "several years, so that you can compare the results in the same account over a multi-year period.\n",
    "If you start with a small number of accounts and then gradually expand the number of accounts over time, \n",
    "it becomes increasingly difficult to obtain comparable financial information for more than the past year.*\n",
    "* *Lock down. Do not allow subsidiaries to change the standard chart of accounts without a very good reason, \n",
    "since having many versions in use makes it more difficult to consolidate the results of the business.*\n",
    "\n",
    "That seems like two hacks. We fix the first with multiple timelines, and we fix the second with multiple portfolio\n",
    "trees."
   ]
  },
  {
   "cell_type": "code",
   "execution_count": 1,
   "metadata": {
    "collapsed": false,
    "scrolled": false
   },
   "outputs": [],
   "source": [
    "import mand.core\n",
    "\n",
    "from mand.core import Entity, node, Context\n",
    "\n",
    "from mand.core import ObjectDb, DynamoDbDriver, ddb, _tr, Timestamp, Context\n",
    "from mand.core import RefData, RefDataUpdateEvent, Workbook, PrintMonitor, SummaryMonitor\n",
    "\n",
    "rawdb = DynamoDbDriver(ddb)\n",
    "db = ObjectDb(rawdb)\n",
    "\n",
    "pClock = _tr.Clock('Portfolio', db=db).write()"
   ]
  },
  {
   "cell_type": "markdown",
   "metadata": {},
   "source": [
    "## Implementing trees in an OO-database [BA]\n",
    "\n",
    "Trees of objects are easy to implement in object databases. These would be a struggle in a relational database.\n",
    "But, do note, that a naive implementation (and this is naive one)  results in a lot of small round-trip messages\n",
    "to the underlying database."
   ]
  },
  {
   "cell_type": "code",
   "execution_count": 2,
   "metadata": {
    "collapsed": false
   },
   "outputs": [],
   "source": [
    "class Book(Workbook):\n",
    "    \n",
    "    def books(self):\n",
    "        return [self]\n",
    "\n",
    "    def prn(self, depth=0):\n",
    "        print '  '*depth, self.meta.name()\n",
    "            \n",
    "class PortfolioUpdateEvent(RefDataUpdateEvent):\n",
    "\n",
    "    @node(stored=True)\n",
    "    def children(self):\n",
    "        return []\n",
    "    \n",
    "class Portfolio(RefData):\n",
    "\n",
    "    evCls = PortfolioUpdateEvent\n",
    "    \n",
    "    @node\n",
    "    def clock(self):\n",
    "        return _tr.Clock.get('Portfolio', db=self.meta.db)\n",
    "    \n",
    "    @node\n",
    "    def children(self):\n",
    "        evs = self.activeEvents()\n",
    "        if evs:\n",
    "            return evs[-1].children()\n",
    "        else:\n",
    "            return []\n",
    "        \n",
    "    def setChildren(self, children, validTime=None, amends=[]):\n",
    "        ev = self.evCls(entity=self, amends=amends, children=children, db=self.meta.db)\n",
    "        ev.write(validTime=validTime)\n",
    "        return ev\n",
    "    \n",
    "    @node\n",
    "    def books(self):\n",
    "        books = set()\n",
    "        for c in self.children():\n",
    "            for b in c.books():\n",
    "                if b in books:\n",
    "                    print 'LogMessage: Oops, book appears multiple times'\n",
    "                books.add(b)\n",
    "        return list(books)\n",
    "\n",
    "    def prn(self, depth=0):\n",
    "        print '  '*depth, self.meta.name()\n",
    "        for c in self.children():\n",
    "            c.prn(depth+1)\n",
    "            \n",
    "_tr.add(Book)\n",
    "_tr.add(Portfolio)\n",
    "_tr.add(PortfolioUpdateEvent)"
   ]
  },
  {
   "cell_type": "markdown",
   "metadata": {},
   "source": [
    "## Example: creating some books and portfolios [User]\n",
    "\n",
    "Just a set of accounts that an upper-middle class family might use to manage its finances."
   ]
  },
  {
   "cell_type": "code",
   "execution_count": 3,
   "metadata": {
    "collapsed": false
   },
   "outputs": [],
   "source": [
    "with db:\n",
    "    checking = Book('checking').write()\n",
    "    savings = Book('savings').write()\n",
    "    brokerage = Book('brokerage').write()\n",
    "    misc = Book('misc').write()\n",
    "    margin = Book('margin').write()\n",
    "    retirement = Book('401K').write()\n",
    "    kid1Trust = Book('trust1').write()\n",
    "    kid2Trust = Book('trust2').write()\n",
    "\n",
    "    pAll = Portfolio('Family').write()\n",
    "    pKids = Portfolio('Kids').write()\n",
    "    pBanking = Portfolio('Banking').write()\n",
    "    pTrading = Portfolio('Trading').write()\n",
    "    pDerivs = Portfolio('Derivs').write()\n",
    "\n",
    "def info():\n",
    "    c = [ o.meta.name() for o in pAll.children() ]\n",
    "    b = [ o.meta.name() for o in pAll.books() ]\n",
    "    print 'All children:', c\n",
    "    print 'All books   :', b"
   ]
  },
  {
   "cell_type": "markdown",
   "metadata": {},
   "source": [
    "### The top account (Family) should have nothing in it yet [User]"
   ]
  },
  {
   "cell_type": "code",
   "execution_count": 4,
   "metadata": {
    "collapsed": false,
    "scrolled": false
   },
   "outputs": [
    {
     "name": "stdout",
     "output_type": "stream",
     "text": [
      "All children: []\n",
      "All books   : []\n"
     ]
    }
   ],
   "source": [
    "info()"
   ]
  },
  {
   "cell_type": "markdown",
   "metadata": {},
   "source": [
    "### Looking at the family account in a diffent context [Test]\n",
    "\n",
    "This should return empty trees as well.\n",
    "\n",
    "This is here as a test: if we start mutating our portfolio tree, we would expect the tree in *ctx2* to respect\n",
    "the changes."
   ]
  },
  {
   "cell_type": "code",
   "execution_count": 5,
   "metadata": {
    "collapsed": false
   },
   "outputs": [
    {
     "name": "stdout",
     "output_type": "stream",
     "text": [
      "All children: []\n",
      "All books   : []\n"
     ]
    }
   ],
   "source": [
    "ctx2 = Context({})\n",
    "with ctx2:\n",
    "    info()"
   ]
  },
  {
   "cell_type": "markdown",
   "metadata": {},
   "source": [
    "### Making a tree of accounts [User]\n",
    "\n",
    "Just adds some events to establish a simple chart of accounts..."
   ]
  },
  {
   "cell_type": "code",
   "execution_count": 6,
   "metadata": {
    "collapsed": false,
    "scrolled": false
   },
   "outputs": [
    {
     "data": {
      "text/plain": [
       "<__main__.PortfolioUpdateEvent at 0x107f0ad90>"
      ]
     },
     "execution_count": 6,
     "metadata": {},
     "output_type": "execute_result"
    }
   ],
   "source": [
    "pKids.setChildren([kid1Trust, kid2Trust])\n",
    "pBanking.setChildren([checking, savings])\n",
    "pTrading.setChildren([brokerage, margin, retirement])\n",
    "pDerivs.setChildren([pTrading])\n",
    "pAll.setChildren([pBanking, pDerivs, pKids, misc])"
   ]
  },
  {
   "cell_type": "markdown",
   "metadata": {},
   "source": [
    "### Everything is lazy [Test]\n",
    "\n",
    "We have set up the tree, but we haven't evaluated what our books are yet, so we don't yet have our dependencies:"
   ]
  },
  {
   "cell_type": "code",
   "execution_count": 7,
   "metadata": {
    "collapsed": false
   },
   "outputs": [
    {
     "name": "stdout",
     "output_type": "stream",
     "text": [
      " <Portfolio@107f15c10/Portfolio:books in Root> *not evaluated*\n"
     ]
    }
   ],
   "source": [
    "n = Context.current().getCBM(pAll.books)\n",
    "n.printInputGraph()"
   ]
  },
  {
   "cell_type": "markdown",
   "metadata": {},
   "source": [
    "### Showing information about the top portfolio [Test]"
   ]
  },
  {
   "cell_type": "code",
   "execution_count": 8,
   "metadata": {
    "collapsed": false
   },
   "outputs": [
    {
     "name": "stdout",
     "output_type": "stream",
     "text": [
      " Family\n",
      "   Banking\n",
      "     checking\n",
      "     savings\n",
      "   Derivs\n",
      "     Trading\n",
      "       brokerage\n",
      "       margin\n",
      "       401K\n",
      "   Kids\n",
      "     trust1\n",
      "     trust2\n",
      "   misc\n",
      "\n",
      "All children: ['Banking', 'Derivs', 'Kids', 'misc']\n",
      "All books   : ['misc', 'trust2', 'brokerage', 'checking', '401K', 'trust1', 'savings', 'margin']\n",
      "\n"
     ]
    }
   ],
   "source": [
    "pAll.prn()\n",
    "print\n",
    "\n",
    "info()\n",
    "print"
   ]
  },
  {
   "cell_type": "markdown",
   "metadata": {},
   "source": [
    "# Current time vs bounded time state [Core]\n",
    "\n",
    "The current system has the nice property that querying the head state of the datastore is similar to querying\n",
    "a historical version of the datsatore: the only difference is that a historical query is executed within a \n",
    "context that has dynamically established cutoffs in time, thus fixing database object visibility.\n",
    "\n",
    "Because we may cache the results of computations, a naive implementation could result in our current state being\n",
    "cached and thus out-of-date as the database has received new updates. That seems counter-intuitive when our own\n",
    "process is doing something reasonable such as creating portfolio trees.\n",
    "\n",
    "Alternatively, we could avoid caching any computation results that relied upon database state. That might\n",
    "cause a lot of unneeded, if conservative, recomputation.\n",
    "\n",
    "We could also try to make events be aware of the compute cache, and let them invalidate calculations as appropriate\n",
    "when they are written to the database. That seems good in terms of keeping the local process reasonable and \n",
    "consistent, but it sounds like an ugly implementation.\n",
    "\n",
    "A reasonable design for current state would seem to be:\n",
    "* what you read or compute is what you get. And it gets cached.\n",
    "* if our process writes to the underlying database, values that depended on the db state will become invalid and \n",
    "need recompute, values that didn't remain unaffected.\n",
    "* if you want to recalculate everything based on the current db state, there should be an easy way to describe that.\n",
    "\n",
    "The design is provisionally implemented with a special object, *cosmicAll*: time-unbounded reads depend on it,\n",
    "bounded-time reads don't. Note the dependencies below: the first one is on line 5 or so..."
   ]
  },
  {
   "cell_type": "code",
   "execution_count": 9,
   "metadata": {
    "collapsed": false,
    "scrolled": false
   },
   "outputs": [
    {
     "name": "stdout",
     "output_type": "stream",
     "text": [
      " <Portfolio@107f15c10/Portfolio:books in Root>\n",
      "   <Portfolio@107f15c10/Portfolio:children in Root>\n",
      "     <Clock@107e2c450/Clock:cutoffs in Root>\n",
      "       <Clock@107e2c450/Clock:parent in Root>\n",
      "         <RootClock@107e2c210/RootClock:cutoffs in Root>\n",
      "           <RootClock@107e2c210/RootClock:cosmicAll in Root>\n",
      "           <CosmicAll@107df4350/CosmicAll:dbState in Root>\n",
      "         <Clock@107e2c450/Entity:clock in Root>\n",
      "       <RootClock@107e2c210/RootClock:cutoffs in Root>\n",
      "         <RootClock@107e2c210/RootClock:cosmicAll in Root>\n",
      "         <CosmicAll@107df4350/CosmicAll:dbState in Root>\n",
      "     <PortfolioUpdateEvent@107f0ad90/PortfolioUpdateEvent:children in Root>\n",
      "     <Portfolio@107f15c10/Portfolio:clock in Root>\n",
      "     <PortfolioUpdateEvent@107f0ad90/Event:amends in Root>\n",
      "   <Portfolio@107f15790/Portfolio:books in Root>\n",
      "     <Portfolio@107f15790/Portfolio:children in Root>\n",
      "       <Clock@107e2c450/Clock:cutoffs in Root>\n",
      "         <Clock@107e2c450/Clock:parent in Root>\n",
      "           <RootClock@107e2c210/RootClock:cutoffs in Root>\n",
      "             <RootClock@107e2c210/RootClock:cosmicAll in Root>\n",
      "             <CosmicAll@107df4350/CosmicAll:dbState in Root>\n",
      "           <Clock@107e2c450/Entity:clock in Root>\n",
      "         <RootClock@107e2c210/RootClock:cutoffs in Root>\n",
      "           <RootClock@107e2c210/RootClock:cosmicAll in Root>\n",
      "           <CosmicAll@107df4350/CosmicAll:dbState in Root>\n",
      "       <PortfolioUpdateEvent@107e2cd50/PortfolioUpdateEvent:children in Root>\n",
      "       <Portfolio@107f15790/Portfolio:clock in Root>\n",
      "       <PortfolioUpdateEvent@107e2cd50/Event:amends in Root>\n",
      "     <Portfolio@107f0a590/Portfolio:books in Root>\n",
      "       <Portfolio@107f0a590/Portfolio:children in Root>\n",
      "         <PortfolioUpdateEvent@107f48e90/Event:amends in Root>\n",
      "         <Portfolio@107f0a590/Portfolio:clock in Root>\n",
      "         <PortfolioUpdateEvent@107f48e90/PortfolioUpdateEvent:children in Root>\n",
      "         <Clock@107e2c450/Clock:cutoffs in Root>\n",
      "           <Clock@107e2c450/Clock:parent in Root>\n",
      "             <RootClock@107e2c210/RootClock:cutoffs in Root>\n",
      "               <RootClock@107e2c210/RootClock:cosmicAll in Root>\n",
      "               <CosmicAll@107df4350/CosmicAll:dbState in Root>\n",
      "             <Clock@107e2c450/Entity:clock in Root>\n",
      "           <RootClock@107e2c210/RootClock:cutoffs in Root>\n",
      "             <RootClock@107e2c210/RootClock:cosmicAll in Root>\n",
      "             <CosmicAll@107df4350/CosmicAll:dbState in Root>\n",
      "   <Portfolio@107f15fd0/Portfolio:books in Root>\n",
      "     <Portfolio@107f15fd0/Portfolio:children in Root>\n",
      "       <PortfolioUpdateEvent@107f48f90/PortfolioUpdateEvent:children in Root>\n",
      "       <Portfolio@107f15fd0/Portfolio:clock in Root>\n",
      "       <PortfolioUpdateEvent@107f48f90/Event:amends in Root>\n",
      "       <Clock@107e2c450/Clock:cutoffs in Root>\n",
      "         <Clock@107e2c450/Clock:parent in Root>\n",
      "           <RootClock@107e2c210/RootClock:cutoffs in Root>\n",
      "             <RootClock@107e2c210/RootClock:cosmicAll in Root>\n",
      "             <CosmicAll@107df4350/CosmicAll:dbState in Root>\n",
      "           <Clock@107e2c450/Entity:clock in Root>\n",
      "         <RootClock@107e2c210/RootClock:cutoffs in Root>\n",
      "           <RootClock@107e2c210/RootClock:cosmicAll in Root>\n",
      "           <CosmicAll@107df4350/CosmicAll:dbState in Root>\n",
      "   <Portfolio@107f0a490/Portfolio:books in Root>\n",
      "     <Portfolio@107f0a490/Portfolio:children in Root>\n",
      "       <PortfolioUpdateEvent@107e2c950/Event:amends in Root>\n",
      "       <Portfolio@107f0a490/Portfolio:clock in Root>\n",
      "       <PortfolioUpdateEvent@107e2c950/PortfolioUpdateEvent:children in Root>\n",
      "       <Clock@107e2c450/Clock:cutoffs in Root>\n",
      "         <Clock@107e2c450/Clock:parent in Root>\n",
      "           <RootClock@107e2c210/RootClock:cutoffs in Root>\n",
      "             <RootClock@107e2c210/RootClock:cosmicAll in Root>\n",
      "             <CosmicAll@107df4350/CosmicAll:dbState in Root>\n",
      "           <Clock@107e2c450/Entity:clock in Root>\n",
      "         <RootClock@107e2c210/RootClock:cutoffs in Root>\n",
      "           <RootClock@107e2c210/RootClock:cosmicAll in Root>\n",
      "           <CosmicAll@107df4350/CosmicAll:dbState in Root>\n"
     ]
    }
   ],
   "source": [
    "n.printInputGraph()"
   ]
  },
  {
   "cell_type": "markdown",
   "metadata": {},
   "source": [
    "## Bounded-time read [Test]\n",
    "\n",
    "Like above, but now we should not be depending on the cosmic all."
   ]
  },
  {
   "cell_type": "code",
   "execution_count": 10,
   "metadata": {
    "collapsed": false,
    "scrolled": false
   },
   "outputs": [
    {
     "name": "stdout",
     "output_type": "stream",
     "text": [
      "\n",
      "\n",
      " <Portfolio@107f15c10/Portfolio:books in Root:4350922648>\n",
      "   <Portfolio@107f15c10/Portfolio:children in Root:4350922648>\n",
      "     <PortfolioUpdateEvent@107f0ad90/PortfolioUpdateEvent:children in Root:4350922648>\n",
      "     <Portfolio@107f15c10/Portfolio:clock in Root:4350922648>\n",
      "     <PortfolioUpdateEvent@107f0ad90/Event:amends in Root:4350922648>\n",
      "     <Clock@107e2c450/Clock:cutoffs in Root:4350922648>\n",
      "   <Portfolio@107f15790/Portfolio:books in Root:4350922648>\n",
      "     <Portfolio@107f15790/Portfolio:children in Root:4350922648>\n",
      "       <PortfolioUpdateEvent@107e2cd50/PortfolioUpdateEvent:children in Root:4350922648>\n",
      "       <Portfolio@107f15790/Portfolio:clock in Root:4350922648>\n",
      "       <PortfolioUpdateEvent@107e2cd50/Event:amends in Root:4350922648>\n",
      "       <Clock@107e2c450/Clock:cutoffs in Root:4350922648>\n",
      "     <Portfolio@107f0a590/Portfolio:books in Root:4350922648>\n",
      "       <Portfolio@107f0a590/Portfolio:children in Root:4350922648>\n",
      "         <PortfolioUpdateEvent@107f48e90/PortfolioUpdateEvent:children in Root:4350922648>\n",
      "         <Portfolio@107f0a590/Portfolio:clock in Root:4350922648>\n",
      "         <PortfolioUpdateEvent@107f48e90/Event:amends in Root:4350922648>\n",
      "         <Clock@107e2c450/Clock:cutoffs in Root:4350922648>\n",
      "   <Portfolio@107f15fd0/Portfolio:books in Root:4350922648>\n",
      "     <Portfolio@107f15fd0/Portfolio:children in Root:4350922648>\n",
      "       <PortfolioUpdateEvent@107f48f90/PortfolioUpdateEvent:children in Root:4350922648>\n",
      "       <PortfolioUpdateEvent@107f48f90/Event:amends in Root:4350922648>\n",
      "       <Portfolio@107f15fd0/Portfolio:clock in Root:4350922648>\n",
      "       <Clock@107e2c450/Clock:cutoffs in Root:4350922648>\n",
      "   <Portfolio@107f0a490/Portfolio:books in Root:4350922648>\n",
      "     <Portfolio@107f0a490/Portfolio:children in Root:4350922648>\n",
      "       <PortfolioUpdateEvent@107e2c950/PortfolioUpdateEvent:children in Root:4350922648>\n",
      "       <PortfolioUpdateEvent@107e2c950/Event:amends in Root:4350922648>\n",
      "       <Portfolio@107f0a490/Portfolio:clock in Root:4350922648>\n",
      "       <Clock@107e2c450/Clock:cutoffs in Root:4350922648>\n",
      "All children: ['Banking', 'Derivs', 'Kids', 'misc']\n",
      "All books   : ['misc', 'trust2', 'brokerage', 'checking', '401K', 'trust1', 'savings', 'margin']\n"
     ]
    }
   ],
   "source": [
    "ts = Timestamp()\n",
    "with Context({pClock.cutoffs: ts}):\n",
    "    b = pAll.books()\n",
    "    print\n",
    "    print\n",
    "    n = Context.current().getCBM(pAll.books)\n",
    "    n.printInputGraph()\n",
    "    info()"
   ]
  },
  {
   "cell_type": "markdown",
   "metadata": {},
   "source": [
    "### CosmicAll [Core]\n",
    "\n",
    "CosmicAll is an out-of-context solution. Haha. \n",
    "\n",
    "Basically, it lives in all contexts so that any invalidation on one of its nodes (e.g. writing an object) affects\n",
    "all contexts that used it in a computation."
   ]
  },
  {
   "cell_type": "code",
   "execution_count": 11,
   "metadata": {
    "collapsed": false,
    "scrolled": false
   },
   "outputs": [
    {
     "name": "stdout",
     "output_type": "stream",
     "text": [
      "All children: ['Banking', 'Derivs', 'Kids', 'misc']\n",
      "All books   : ['misc', 'trust2', 'brokerage', 'checking', '401K', 'trust1', 'savings', 'margin']\n",
      "Compute activity:\n",
      "              GetValue:    49\n",
      "         GetValue/Calc:    17\n"
     ]
    }
   ],
   "source": [
    "# ctx2 has open time cutoffs, so it should depend on the dbState, thus this should recompute...\n",
    "with SummaryMonitor():\n",
    "    with ctx2:\n",
    "        info()"
   ]
  },
  {
   "cell_type": "code",
   "execution_count": 12,
   "metadata": {
    "collapsed": false
   },
   "outputs": [
    {
     "name": "stdout",
     "output_type": "stream",
     "text": [
      " Context enter ctx: Root:4350922648\n",
      "   GetValue begin ctx: Root:4350922648, key: Portfolio@107f15c10/Portfolio:children\n",
      "     GetValue from ctx value: [<__main__.Portfo..., ctx: Root:4350922648, key: Portfolio@107f15c10/Portfolio:children\n",
      "   GetValue begin ctx: Root:4350922648, key: Portfolio@107f15c10/Portfolio:books\n",
      "     GetValue from ctx value: [<__main__.Book o..., ctx: Root:4350922648, key: Portfolio@107f15c10/Portfolio:books\n",
      "All children: ['Banking', 'Derivs', 'Kids', 'misc']\n",
      "All books   : ['misc', 'trust2', 'brokerage', 'checking', '401K', 'trust1', 'savings', 'margin']\n"
     ]
    }
   ],
   "source": [
    "# and now be cached...\n",
    "with PrintMonitor():\n",
    "    with ctx2:\n",
    "        info()"
   ]
  },
  {
   "cell_type": "markdown",
   "metadata": {},
   "source": [
    "### Quick recap:"
   ]
  },
  {
   "cell_type": "code",
   "execution_count": 13,
   "metadata": {
    "collapsed": false,
    "scrolled": false
   },
   "outputs": [
    {
     "name": "stdout",
     "output_type": "stream",
     "text": [
      " Family\n",
      "   Banking\n",
      "     checking\n",
      "     savings\n",
      "   Derivs\n",
      "     Trading\n",
      "       brokerage\n",
      "       margin\n",
      "       401K\n",
      "   Kids\n",
      "     trust1\n",
      "     trust2\n",
      "   misc\n"
     ]
    }
   ],
   "source": [
    "pAll.prn()"
   ]
  },
  {
   "cell_type": "markdown",
   "metadata": {},
   "source": [
    "## A problem [Core]\n",
    "\n",
    "So, what do we do when a user writes data that causes a consistency problem?\n",
    "\n",
    "Here, we want a tree of books, but the user has caused the book *misc* to be included twice in the Family portfolio. \n",
    "It's not fatal, but it does mean that expected reasonable constraints \n",
    "(e.g. Family.fact() == aggregate(Family.books().fact())) will be violated.\n",
    "\n",
    "The scope of the problem, and the solution, will be presented in later workbooks."
   ]
  },
  {
   "cell_type": "code",
   "execution_count": 14,
   "metadata": {
    "collapsed": false
   },
   "outputs": [
    {
     "name": "stdout",
     "output_type": "stream",
     "text": [
      "LogMessage: Oops, book appears multiple times\n",
      "All children: ['Banking', 'Derivs', 'Kids', 'misc']\n",
      "All books   : ['misc', 'trust2', 'brokerage', 'checking', '401K', 'trust1', 'savings', 'margin']\n",
      " Family\n",
      "   Banking\n",
      "     checking\n",
      "     savings\n",
      "   Derivs\n",
      "     Trading\n",
      "       brokerage\n",
      "       margin\n",
      "       401K\n",
      "     misc\n",
      "   Kids\n",
      "     trust1\n",
      "     trust2\n",
      "   misc\n"
     ]
    }
   ],
   "source": [
    "pDerivs.setChildren([pTrading, misc])     \n",
    "info()\n",
    "pAll.prn()"
   ]
  }
 ],
 "metadata": {
  "kernelspec": {
   "display_name": "Python 2",
   "language": "python",
   "name": "python2"
  },
  "language_info": {
   "codemirror_mode": {
    "name": "ipython",
    "version": 2
   },
   "file_extension": ".py",
   "mimetype": "text/x-python",
   "name": "python",
   "nbconvert_exporter": "python",
   "pygments_lexer": "ipython2",
   "version": "2.7.13"
  }
 },
 "nbformat": 4,
 "nbformat_minor": 2
}
