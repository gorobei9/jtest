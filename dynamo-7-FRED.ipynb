{
 "cells": [
  {
   "cell_type": "markdown",
   "metadata": {},
   "source": [
    "# Practical: building an economic statistics database\n",
    "\n",
    "The goal here is to have a bi-temporal database of interesting economic statistics (e.g. gross domestic product,\n",
    "consumer price index, U-6 employment rate.) With that, we can build models of the economy, interesting\n",
    "visualizations, etc.\n",
    "\n",
    "The source of the data with be FRED/ALFRED: the Federal Reserve of St. Louis's online db. This is the best\n",
    "government data resource I have ever seen: \n",
    "* their data is useful.\n",
    "* their APIs don't suck.\n",
    "* you send them mail, they respond with a useful answer (and sometimes, it is \"we will fix that.\")\n",
    "* every serious economics blog uses their charting, there is huge social benefit from the network effect.\n",
    "\n",
    "\n",
    "The plan is to query ALFRED for web data as needed, then store in our database in form that works nicely \n",
    "within our framework. I almost feel bad doing this because the source is so nice and so close to being bi-temporal\n",
    "that it would be almost reasonable to declare ALFRED a system-of-record in whatever we are building: making copies\n",
    "of the data seems to show somewhat of a lack of trust. But...\n",
    "\n",
    "1. I want my apps to run even if the internet is down.\n",
    "2. I want 100% report reproducibility even if ALFRED breaks a bi-temporal promise (by accident,\n",
    "funding constraints, a legal mandate, etc.)\n",
    "3. ALFRED timeseries data is bi-temporal, but the meta-data (e.g. categories) does not seem to be.\n",
    "4. Our bi-temporality is at the UTC microsecond level, ALFRED seems at the daily, naked date level. It's\n",
    "unclear how to even map between the two.\n",
    "5. It wouldn't be polite to hammer the Fed db with thousands of requests per second \n",
    "if we were running on a compute farm.\n",
    "\n",
    "\n",
    "So, in our space, bi-temporal time is just:\n",
    "* transaction - when we record our copy of some ALFRED data.\n",
    "* valid - either just a copy of physical, but maybe the ALFRED update time if we can understand and trust that.\n",
    "\n",
    "We may also add an additional time-line ('ALFRED') that supports transaction/valid dates in the ALFRED world.\n",
    "That way, for example, calls such as *consumerPriceIndex.value()* would behave in a FRED time-aware fashion."
   ]
  },
  {
   "cell_type": "code",
   "execution_count": 1,
   "metadata": {
    "collapsed": false
   },
   "outputs": [
    {
     "name": "stdout",
     "output_type": "stream",
     "text": [
      "<mand.db.ObjectDb object at 0x107c15690>: production-1, mem=False, ro=False: entities=10, map=2\n"
     ]
    }
   ],
   "source": [
    "import mand.core\n",
    "\n",
    "from mand.core import Entity, node, Context, _tr, ObjectDb, _DBO, EncDec\n",
    "from mand.core import displayDict, displayListOfDicts\n",
    "from mand.core import Monitor, PrintMonitor, SummaryMonitor\n",
    "from mand.lib.refdata import RefData\n",
    "\n",
    "db = ObjectDb(name='production-1', inMem=False, ro=False)\n",
    "\n",
    "from mand.lib.dbsetup import setUpDb\n",
    "setUpDb(db)\n",
    "\n",
    "pClock = _tr.Clock('RefData', db=db).write()\n",
    "\n",
    "db.describe()\n",
    "\n",
    "%matplotlib inline\n"
   ]
  },
  {
   "cell_type": "markdown",
   "metadata": {},
   "source": [
    "# Imports for calling out to the FRED web-service.\n",
    "\n",
    "For those playing at home in the enterprise space, note that this notebook would now be auto-flagged as a data\n",
    "exfiltration risk point. But, mainly because the security meta-data system doesn't exist yet, \n",
    "just ignore this for now: a later workbook will cover this."
   ]
  },
  {
   "cell_type": "code",
   "execution_count": 2,
   "metadata": {
    "collapsed": true
   },
   "outputs": [],
   "source": [
    "import os\n",
    "import sys\n",
    "import json\n",
    "import xml.etree.ElementTree as ET\n",
    "if sys.version_info[0] >= 3:\n",
    "    import urllib.request as url_request\n",
    "    import urllib.parse as url_parse\n",
    "    import urllib.error as url_error\n",
    "else:\n",
    "    import urllib2 as url_request\n",
    "    import urllib as url_parse\n",
    "    import urllib2 as url_error\n",
    "\n",
    "urlopen = url_request.urlopen\n",
    "quote_plus = url_parse.quote_plus\n",
    "urlencode = url_parse.urlencode\n",
    "HTTPError = url_error.HTTPError"
   ]
  },
  {
   "cell_type": "markdown",
   "metadata": {},
   "source": [
    "## A utility object for fetching FRED data [BA]"
   ]
  },
  {
   "cell_type": "code",
   "execution_count": 3,
   "metadata": {
    "collapsed": false
   },
   "outputs": [
    {
     "data": {
      "text/plain": [
       "<__main__.FredManager at 0x10f934790>"
      ]
     },
     "execution_count": 3,
     "metadata": {},
     "output_type": "execute_result"
    }
   ],
   "source": [
    "class FredManager(Entity):\n",
    "    # a hacked version of somebody (github:mortada?) else's code.\n",
    "    \n",
    "    max_results_per_request = 1000\n",
    "    \n",
    "    @node\n",
    "    def rootUrl(self):\n",
    "         return 'https://api.stlouisfed.org/fred'\n",
    "        \n",
    "    @node\n",
    "    def apiKeyFileName(self):\n",
    "        return '../fred/.api_key'\n",
    "    \n",
    "    @node\n",
    "    def apiKey(self):\n",
    "        key = os.environ.get('FRED_API_KEY')\n",
    "        if key:\n",
    "            return key\n",
    "        \n",
    "        api_key_file = self.apiKeyFileName()\n",
    "        f = open(api_key_file, 'r')\n",
    "        ret = f.readline().strip()\n",
    "        return ret\n",
    "    \n",
    "    def __fetch_data(self, url):\n",
    "        _url = url + '&api_key=' + self.apiKey()\n",
    "        try:\n",
    "            Monitor.msg('Web', 0, 'urlopen', url=url)\n",
    "            response = urlopen(_url)\n",
    "            root = ET.fromstring(response.read())\n",
    "        except HTTPError as exc:\n",
    "            root = ET.fromstring(exc.read())\n",
    "            raise ValueError(root.get('message'))\n",
    "        return root\n",
    "    \n",
    "    def __fetch_data_json(self, url):\n",
    "        _url = url\n",
    "        _url += '&api_key=' + self.apiKey()\n",
    "        _url += '&file_type=json'\n",
    "        try:\n",
    "            Monitor.msg('Web', 0, 'urlopen/json', url=url)\n",
    "            response = urlopen(_url)\n",
    "            r = response.read()\n",
    "        except HTTPError as exc:\n",
    "            root = ET.fromstring(exc.read())\n",
    "            raise ValueError(root.get('message'))\n",
    "        ret = json.loads(r)\n",
    "        return ret\n",
    "\n",
    "    \n",
    "    def get_series_info(self, series_id):\n",
    "        url = \"%s/series?series_id=%s\" % (self.rootUrl(), series_id)\n",
    "        root = self.__fetch_data(url)\n",
    "        info = root[0].attrib\n",
    "        return info\n",
    "    \n",
    "    def get_series_all_releases(self, series_id):\n",
    "        earliest_realtime_start = '1776-07-04'\n",
    "        latest_realtime_end = '9999-12-31'\n",
    "        f = \"%s/series/observations?series_id=%s&realtime_start=%s&realtime_end=%s\"\n",
    "        url =  f % (self.rootUrl(),\n",
    "                    series_id,\n",
    "                    earliest_realtime_start,\n",
    "                    latest_realtime_end)\n",
    "                                                                                        \n",
    "        root = self.__fetch_data(url)\n",
    "        data = [ child.attrib for child in root ]\n",
    "        return data\n",
    "\n",
    "    def search_category(self, category_id=0):\n",
    "        url = \"%s/category?category_id=%s&\" % (self.rootUrl(), category_id)\n",
    "        return self.__fetch_data_json(url)\n",
    "        \n",
    "    def search_category_children(self, category_id=0):\n",
    "        url = \"%s/category/children?category_id=%s&\" % (self.rootUrl(), category_id)\n",
    "        return self.__fetch_data_json(url)\n",
    "        \n",
    "    def __do_series_search(self, url):\n",
    "        root = self.__fetch_data(url)\n",
    "        num_results_total = int(root.get('count'))  # total number of results,\n",
    "                                                    # this can be larger than number of results returned\n",
    "        series_ids = [ child.get('id') for child in root ]\n",
    "        return series_ids, num_results_total\n",
    "    \n",
    "    def __get_search_results(self, url):\n",
    "        data, num_results_total = self.__do_series_search(url)\n",
    "        if data is None:\n",
    "            return data\n",
    "        max_results_needed = num_results_total\n",
    "        if max_results_needed > self.max_results_per_request:\n",
    "            for i in range(1, max_results_needed // self.max_results_per_request + 1):\n",
    "                offset = i * self.max_results_per_request\n",
    "                next_data, _ = self.__do_series_search(url + '&offset=' + str(offset))\n",
    "                data.append(next_data)\n",
    "        return data\n",
    "    \n",
    "    def search_by_category(self, category_id):\n",
    "        url = \"%s/category/series?category_id=%s&\" % (self.rootUrl(), category_id)\n",
    "        info = self.__get_search_results(url)\n",
    "        if info is None:\n",
    "            raise ValueError('No series exists for category id: ' + str(category_id))\n",
    "        return info\n",
    "    \n",
    "_tr.add(FredManager)\n",
    "_tr.FredManager('Main', db=db).write()"
   ]
  },
  {
   "cell_type": "markdown",
   "metadata": {},
   "source": [
    "## ExternalRefData [Core]\n",
    "\n",
    "A simple reference data class.\n",
    "\n",
    "The **dataField** decorator does the real work:\n",
    "* It implements a standard bi-temporal stored node\n",
    "* Its method body implements the underlying fetching behavior (e.g. calling out to a website)\n",
    "\n",
    "The **ExternalDataPage** stuff is, for now, a cheap hack so we can persist objects larger than DynamoDb's 400K\n",
    "limit."
   ]
  },
  {
   "cell_type": "code",
   "execution_count": 4,
   "metadata": {
    "collapsed": false
   },
   "outputs": [],
   "source": [
    "from mand.core import DBOMetaClass\n",
    "\n",
    "def listOfDict_compress(l):\n",
    "    keys = set()\n",
    "    for e in l:\n",
    "        keys.update(e.keys())\n",
    "    keys = list(keys)\n",
    "    data = []\n",
    "    for e in l:\n",
    "        data.append( [ e.get(k) for k in keys] )\n",
    "    return [keys, data]\n",
    "        \n",
    "def listOfDict_decompress(d):\n",
    "    keys, data = d\n",
    "    ret = []\n",
    "    for e in data:\n",
    "        ret.append( dict( [ (k, e[i]) for i, k in enumerate(keys) if e[i] is not None ] ) )\n",
    "    return ret\n",
    "\n",
    "def dataField(f):\n",
    "    def fn(self):\n",
    "        return self.state().get(f.func_name)\n",
    "    fn._fetcher = f\n",
    "    fn.func_name = f.func_name\n",
    "    return fn # node(f)\n",
    "\n",
    "class ExternalRefDataMetaClass(DBOMetaClass):\n",
    "    def __new__(cls, name, parents, attrs):\n",
    "        ret = super(ExternalRefDataMetaClass, cls).__new__(cls, name, parents, attrs)\n",
    "        dataFields = []\n",
    "        for attrname, attrvalue in attrs.iteritems():\n",
    "            if getattr(attrvalue, '_fetcher', None):\n",
    "                dataFields.append(attrname)\n",
    "        ret._dataFields = dataFields\n",
    "        return ret\n",
    "\n",
    "class ExternalRefData(RefData):\n",
    "    __metaclass__ = ExternalRefDataMetaClass\n",
    "    \n",
    "    @node\n",
    "    def state(self):\n",
    "        ret = super(ExternalRefData, self).state()\n",
    "        # do something sensible for now if this is a new object:\n",
    "        if ret:\n",
    "            data = {}\n",
    "            for k, v in ret.items():\n",
    "                t, value = v\n",
    "                data[k] = EncDec.decode(t, value, self.meta)\n",
    "            return data\n",
    "        else:\n",
    "            ret = self._fetchData()\n",
    "            return ret\n",
    "    \n",
    "    def _fetchData(self):\n",
    "        data = {}\n",
    "        for name in self._dataFields:\n",
    "            data[name] = getattr(self, name)._fetcher(self)\n",
    "        return data\n",
    "    \n",
    "    def update(self):\n",
    "        rawData = self._fetchData()\n",
    "        data = {}\n",
    "        for k, v in rawData.items():\n",
    "            data[k] = list(EncDec.encode(v))\n",
    "        super(ExternalRefData, self).update(**data)\n",
    "        \n",
    "    def _splitLargeData(self, obs, n=1000):\n",
    "        i = 0\n",
    "        ret = []\n",
    "        while i<len(obs):\n",
    "            data = obs[i:i+n]\n",
    "            data = listOfDict_compress(data)\n",
    "            ret.append(ExternalDataPage(db=self.meta.db, data=data))\n",
    "            i += n\n",
    "        return ret\n",
    "    \n",
    "    def _joinLargeData(self, pages):\n",
    "        ret = []\n",
    "        for p in pages:\n",
    "            ret.extend(listOfDict_decompress(p.data()))\n",
    "        return ret\n",
    "    \n",
    "class ExternalDataPage(_DBO):\n",
    "    \n",
    "    @node(stored=True)\n",
    "    def data(self):\n",
    "        return []\n",
    "    \n",
    "_tr.add(ExternalDataPage)"
   ]
  },
  {
   "cell_type": "markdown",
   "metadata": {},
   "source": [
    "## FredSeries [BA]\n",
    "\n",
    "An object that corresponds to a FRED time series. \n",
    "\n",
    "Note there is an implicit design pattern here: we store our copy of the external data with as little transformation\n",
    "as possible:\n",
    "* We don't try to parse dates\n",
    "* We don't try to parse floats\n",
    "* We don't check for missing values\n",
    "* We don't guess at what attributes to expect\n",
    "\n",
    "Our access routines will be reponsible for transforming the raw data into form useful to our consumers, because:\n",
    "* We have a better audit/debug world if we can look at the unmangled input data\n",
    "* We will have bugs in our transform logic, and it's much easier to fix code than to fix code and then re-import\n",
    "years of external data\n",
    "* We can always come back and write a cleverer importer once things are working. Except we never will, because this\n",
    "just isn't going to be a real system bottleneck"
   ]
  },
  {
   "cell_type": "code",
   "execution_count": 5,
   "metadata": {
    "collapsed": false
   },
   "outputs": [],
   "source": [
    "class FredSeries(ExternalRefData):\n",
    "    @node \n",
    "    def fredManager(self):\n",
    "        return self.getObj(_tr.FredManager, 'Main')\n",
    "    \n",
    "    @node\n",
    "    def name(self):\n",
    "        return self.meta.name()\n",
    "    \n",
    "    @dataField\n",
    "    def info(self):\n",
    "        fm = self.fredManager()\n",
    "        return fm.get_series_info(self.name())\n",
    "    \n",
    "    @dataField\n",
    "    def allReleases(self):\n",
    "        fm = self.fredManager()\n",
    "        obs = fm.get_series_all_releases(self.name())\n",
    "        return self._splitLargeData(obs, 1000)\n",
    "        \n",
    "    @node \n",
    "    def allObservations(self):\n",
    "        pages = self.allReleases()\n",
    "        return self._joinLargeData(pages)\n",
    "    \n",
    "    @node\n",
    "    def data(self):\n",
    "        # In real life, we would depend on a custom date/date timestamp for observation visibility\n",
    "        import datetime\n",
    "        def parseDate(str):\n",
    "            return datetime.datetime.strptime(str, '%Y-%m-%d')\n",
    "        vis = {}\n",
    "        updated = {}\n",
    "        for record in self.allObservations():\n",
    "            value = record['value']\n",
    "            if value == '.':\n",
    "                continue\n",
    "            observationDate = parseDate(record['date'])\n",
    "            updateDate = parseDate(record['realtime_start'])\n",
    "            value = float(value)\n",
    "            if observationDate not in vis or updated[observationDate] < updateDate:\n",
    "                vis[observationDate] = value\n",
    "                updated[observationDate] = updateDate\n",
    "        return sorted(vis.items()) # that's so conservative it's virtually paranoid. \n",
    "                                   # I bet series is always in order.\n",
    "            \n",
    "    def plot(self):\n",
    "        import matplotlib.pyplot as plt\n",
    "        d = self.data()\n",
    "        days, obs = zip(*d)\n",
    "        plt.plot_date(x=days, y=obs)\n",
    "        plt.title(self.info()['title'])\n",
    "        plt.show()\n",
    "        \n",
    "    \"\"\"\n",
    "    ['observation_end', 'last_updated', 'observation_start', 'title', 'seasonal_adjustment_short', \n",
    "     'seasonal_adjustment', 'notes', 'popularity', 'realtime_end', 'frequency', 'units_short', \n",
    "     'units', 'realtime_start', 'id', 'frequency_short']\n",
    "    \"\"\"\n",
    "\n",
    "_tr.add(FredSeries)"
   ]
  },
  {
   "cell_type": "markdown",
   "metadata": {},
   "source": [
    "## FredCategory [BA]\n",
    "\n",
    "A tree of refdata to manage the categorization of FRED timeseries.\n",
    "\n",
    "Note that, as always, we evaluate lazily: we won't fetch a part of the tree until someone asks for it."
   ]
  },
  {
   "cell_type": "code",
   "execution_count": 6,
   "metadata": {
    "collapsed": true
   },
   "outputs": [],
   "source": [
    "class FredCategory(ExternalRefData):\n",
    "    @node \n",
    "    def fredManager(self):\n",
    "        return self.getObj(_tr.FredManager, 'Main')\n",
    "    \n",
    "    @node\n",
    "    def id(self):\n",
    "        return self.meta.name()\n",
    "    \n",
    "    @dataField\n",
    "    def info(self):\n",
    "        fm = self.fredManager()\n",
    "        return fm.search_category(self.id())\n",
    "    \n",
    "    @dataField\n",
    "    def childCategoryInfo(self):\n",
    "        fm = self.fredManager()\n",
    "        ret = fm.search_category_children(self.id())\n",
    "        return ret.get('categories')\n",
    "      \n",
    "    @dataField\n",
    "    def seriesNames(self):\n",
    "        fm = self.fredManager()\n",
    "        return fm.search_by_category(self.id())\n",
    "    \n",
    "    @node\n",
    "    def name(self):\n",
    "        info = self.info()\n",
    "        return info['categories'][0]['name']\n",
    "    \n",
    "    @node\n",
    "    def childCategoryNames(self):\n",
    "       return [ c['id'] for c in self.childCategoryInfo() ] \n",
    "\n",
    "    @node\n",
    "    def children(self):\n",
    "       return self.getObjs(_tr.FredCategory, self.childCategoryNames())\n",
    "    \n",
    "    @node\n",
    "    def series(self):\n",
    "        return self.getObjs(_tr.FredSeries, self.seriesNames())\n",
    "    \n",
    "_tr.add(FredCategory)"
   ]
  },
  {
   "cell_type": "markdown",
   "metadata": {},
   "source": [
    "## Let's get some data! [Test]\n",
    "\n",
    "Note that, if for some bizarre reason, you are actually trying to run this code at home, you will need to get\n",
    "an API key from the Fed. They are free, just apply at the FRED website."
   ]
  },
  {
   "cell_type": "code",
   "execution_count": 7,
   "metadata": {
    "collapsed": false,
    "scrolled": false
   },
   "outputs": [
    {
     "name": "stdout",
     "output_type": "stream",
     "text": [
      "     Web urlopen url: https://api.stlouisfed.org/fred/series?series_id=CPIAUCSL\n",
      "     Web urlopen url: https://api.stlouisfed.org/fred/series/observations?series_id=CPIAUCSL&realti...\n"
     ]
    },
    {
     "data": {
      "text/markdown": [
       "|key|value|\n",
       "|-|-|\n",
       "|frequency|Monthly\n",
       "|frequency_short|M\n",
       "|id|CPIAUCSL\n",
       "|last_updated|2017-03-15 07:41:15-05\n",
       "|notes|The Consumer Price Index for All Urban Consumers: All Ite...\n",
       "|observation_end|2017-02-01\n",
       "|observation_start|1947-01-01\n",
       "|popularity|100\n",
       "|realtime_end|2017-03-23\n",
       "|realtime_start|2017-03-23\n",
       "|seasonal_adjustment|Seasonally Adjusted\n",
       "|seasonal_adjustment_short|SA\n",
       "|title|Consumer Price Index for All Urban Consumers: All Items\n",
       "|units|Index 1982-1984=100\n",
       "|units_short|Index 1982-1984=100"
      ],
      "text/plain": [
       "<IPython.core.display.Markdown object>"
      ]
     },
     "metadata": {},
     "output_type": "display_data"
    }
   ],
   "source": [
    "with PrintMonitor(include='Web'):\n",
    "    with db:\n",
    "        cpi = FredSeries('CPIAUCSL')\n",
    "    \n",
    "    displayDict( cpi.info())"
   ]
  },
  {
   "cell_type": "markdown",
   "metadata": {},
   "source": [
    "### Sanity check... [Test]\n",
    "\n",
    "Once our data is cached in our local db, we shouldn't see any calls to the FRED website."
   ]
  },
  {
   "cell_type": "code",
   "execution_count": 8,
   "metadata": {
    "collapsed": false,
    "scrolled": false
   },
   "outputs": [
    {
     "name": "stdout",
     "output_type": "stream",
     "text": [
      " Web urlopen url: https://api.stlouisfed.org/fred/series?series_id=GDP\n",
      " Web urlopen url: https://api.stlouisfed.org/fred/series/observations?series_id=GDP&realtime_st...\n"
     ]
    },
    {
     "data": {
      "text/markdown": [
       "|key|value|\n",
       "|-|-|\n",
       "|frequency|Quarterly\n",
       "|frequency_short|Q\n",
       "|id|GDP\n",
       "|last_updated|2017-02-28 07:51:17-06\n",
       "|notes|BEA Account Code: A191RC1  Gross domestic product (GDP), ...\n",
       "|observation_end|2016-10-01\n",
       "|observation_start|1947-01-01\n",
       "|popularity|89\n",
       "|realtime_end|2017-03-23\n",
       "|realtime_start|2017-03-23\n",
       "|seasonal_adjustment|Seasonally Adjusted Annual Rate\n",
       "|seasonal_adjustment_short|SAAR\n",
       "|title|Gross Domestic Product\n",
       "|units|Billions of Dollars\n",
       "|units_short|Bil. of $"
      ],
      "text/plain": [
       "<IPython.core.display.Markdown object>"
      ]
     },
     "metadata": {},
     "output_type": "display_data"
    }
   ],
   "source": [
    "with PrintMonitor(include='Web'):\n",
    "    gdp = FredSeries.get('GDP', db, create=True)\n",
    "    if not gdp.activeEvents():\n",
    "        gdp.update()\n",
    "    displayDict(gdp.info())"
   ]
  },
  {
   "cell_type": "code",
   "execution_count": 9,
   "metadata": {
    "collapsed": false,
    "scrolled": false
   },
   "outputs": [
    {
     "name": "stdout",
     "output_type": "stream",
     "text": [
      "# items: 2303\n"
     ]
    },
    {
     "data": {
      "text/markdown": [
       "|date|realtime_end|realtime_start|value|\n",
       "|-|-|-|-|\n",
       "|1979-04-01|1997-05-06|1996-01-19|2522.4\n",
       "|1979-04-01|1999-10-27|1997-05-07|2522.3\n",
       "|1979-04-01|1999-10-28|1999-10-28|.\n",
       "|1979-04-01|2003-12-09|1999-10-29|2529.3\n",
       "|1979-04-01|2009-07-30|2003-12-10|2527.6\n",
       "|1979-04-01|2013-07-30|2009-07-31|2526.4\n",
       "|1979-04-01|9999-12-31|2013-07-31|2595.9\n",
       "|1979-07-01|1996-01-18|1991-12-04|2523.3\n",
       "|1979-07-01|1997-05-06|1996-01-19|2592.6\n",
       "|1979-07-01|1999-10-27|1997-05-07|2592.8"
      ],
      "text/plain": [
       "<IPython.core.display.Markdown object>"
      ]
     },
     "metadata": {},
     "output_type": "display_data"
    },
    {
     "data": {
      "image/png": "[encoded data removed]",
      "text/plain": [
       "<matplotlib.figure.Figure at 0x10ff81990>"
      ]
     },
     "metadata": {},
     "output_type": "display_data"
    }
   ],
   "source": [
    "r = gdp.allObservations()\n",
    "print '# items:', len(r)\n",
    "displayListOfDicts(r[1000:1010])\n",
    "\n",
    "gdp.plot()"
   ]
  },
  {
   "cell_type": "code",
   "execution_count": 10,
   "metadata": {
    "collapsed": false
   },
   "outputs": [
    {
     "data": {
      "text/markdown": [
       "|date|realtime_end|realtime_start|value|\n",
       "|-|-|-|-|\n",
       "|2013-10-01|2014-02-27|2014-01-30|17102.5\n",
       "|2013-10-01|2014-03-26|2014-02-28|17080.7\n",
       "|2013-10-01|2014-07-29|2014-03-27|17089.6\n",
       "|2013-10-01|2015-07-29|2014-07-30|17078.3\n",
       "|2013-10-01|2016-07-28|2015-07-30|16957.6\n",
       "|2013-10-01|9999-12-31|2016-07-29|16999.9"
      ],
      "text/plain": [
       "<IPython.core.display.Markdown object>"
      ]
     },
     "metadata": {},
     "output_type": "display_data"
    }
   ],
   "source": [
    "\"\"\"\n",
    "This seems true, if a little out of date:\n",
    "\n",
    "Get all data for a Fred series id including first releases and all revisions. \n",
    "This returns a DataFrame with three columns: 'date', 'realtime_start', and 'value'. \n",
    "For instance, the US GDP for Q4 2013 was first released to be 17102.5 on 2014-01-30, \n",
    "and then revised to 17080.7 on 2014-02-28, \n",
    "and then revised to 17089.6 on 2014-03-27. \n",
    "You will therefore get three rows with the same 'date' (observation date) of 2013-10-01 but three\n",
    "different 'realtime_start' of 2014-01-30, 2014-02-28, and 2014-03-27 \n",
    "with corresponding 'value' of 17102.5, 17080.7 and 17089.6\n",
    "\"\"\"\n",
    "\n",
    "d = '2013-10-01'\n",
    "t = [ i for i in r if i['date'] == d]\n",
    "displayListOfDicts(t)"
   ]
  },
  {
   "cell_type": "code",
   "execution_count": 11,
   "metadata": {
    "collapsed": false,
    "scrolled": false
   },
   "outputs": [
    {
     "name": "stdout",
     "output_type": "stream",
     "text": [
      "\n",
      "Categories\n"
     ]
    },
    {
     "data": {
      "text/markdown": [
       "|id|name|parent_id|\n",
       "|-|-|-|\n",
       "|32991|Money, Banking, & Finance|0\n",
       "|10|Population, Employment, & Labor Markets|0\n",
       "|32992|National Accounts|0\n",
       "|1|Production & Business Activity|0\n",
       "|32455|Prices|0\n",
       "|32263|International Data|0\n",
       "|3008|U.S. Regional Data|0\n",
       "|33060|Academic Data|0"
      ],
      "text/plain": [
       "<IPython.core.display.Markdown object>"
      ]
     },
     "metadata": {},
     "output_type": "display_data"
    },
    {
     "name": "stdout",
     "output_type": "stream",
     "text": [
      "\n",
      "Money, Banking, & Finance\n"
     ]
    },
    {
     "data": {
      "text/markdown": [
       "|id|name|notes|parent_id|\n",
       "|-|-|-|-|\n",
       "|22|Interest Rates|None|32991\n",
       "|15|Exchange Rates|None|32991\n",
       "|24|Monetary Data|None|32991\n",
       "|46|Financial Indicators|None|32991\n",
       "|23|Banking|None|32991\n",
       "|32360|Business Lending|None|32991\n",
       "|32145|Foreign Exchange Intervention|In addition to the listed daily intervention series, intr...|32991"
      ],
      "text/plain": [
       "<IPython.core.display.Markdown object>"
      ]
     },
     "metadata": {},
     "output_type": "display_data"
    },
    {
     "name": "stdout",
     "output_type": "stream",
     "text": [
      "\n",
      "Interest Rates\n"
     ]
    },
    {
     "data": {
      "text/markdown": [
       "|id|name|parent_id|\n",
       "|-|-|-|\n",
       "|33058|Automobile Loan Rates|22\n",
       "|51|Bankers Acceptance Rate|22\n",
       "|121|Certificates of Deposit|22\n",
       "|120|Commercial Paper|22\n",
       "|32348|Corporate Bonds|22\n",
       "|33059|Credit Card Loan Rates|22\n",
       "|32298|Eurodollar Deposits|22\n",
       "|118|FRB Rates - discount, fed funds, primary credit|22\n",
       "|33056|Interest Checking Accounts|22\n",
       "|33446|Interest Rate Spreads|22\n",
       "|32299|Interest Rate Swaps|22\n",
       "|33003|LIBOR Rates|22\n",
       "|32995|Long-Term Securities|22\n",
       "|33055|Money Market Accounts|22\n",
       "|114|Mortgage Rates|22\n",
       "|33057|Personal Loan Rates|22\n",
       "|117|Prime Bank Loan Rate|22\n",
       "|33491|Saving Accounts|22\n",
       "|116|Treasury Bills|22\n",
       "|115|Treasury Constant Maturity|22\n",
       "|82|Treasury Inflation-Indexed Securities|22"
      ],
      "text/plain": [
       "<IPython.core.display.Markdown object>"
      ]
     },
     "metadata": {},
     "output_type": "display_data"
    },
    {
     "name": "stdout",
     "output_type": "stream",
     "text": [
      "\n",
      "Automobile Loan Rates\n"
     ]
    }
   ],
   "source": [
    "with db:\n",
    "    fc = FredCategory('0')\n",
    "\n",
    "while True:\n",
    "    print\n",
    "    print fc.name()\n",
    "    if not fc.children():\n",
    "        break\n",
    "    displayListOfDicts(fc.childCategoryInfo())\n",
    "    fc = fc.children()[0]"
   ]
  },
  {
   "cell_type": "code",
   "execution_count": 12,
   "metadata": {
    "collapsed": false
   },
   "outputs": [
    {
     "data": {
      "text/markdown": [
       "|key|value|\n",
       "|-|-|\n",
       "|frequency|Monthly\n",
       "|frequency_short|M\n",
       "|id|TERMAFCNCNSA\n",
       "|last_updated|2012-06-26 12:01:23-05\n",
       "|notes|For further information, please refer to the Board of Gov...\n",
       "|observation_end|2011-01-01\n",
       "|observation_start|1971-06-01\n",
       "|popularity|45\n",
       "|realtime_end|2017-03-23\n",
       "|realtime_start|2017-03-23\n",
       "|seasonal_adjustment|Not Seasonally Adjusted\n",
       "|seasonal_adjustment_short|NSA\n",
       "|title|New Car Average Finance Rate at Auto Finance Companies (D...\n",
       "|units|Percent\n",
       "|units_short|%"
      ],
      "text/plain": [
       "<IPython.core.display.Markdown object>"
      ]
     },
     "metadata": {},
     "output_type": "display_data"
    },
    {
     "name": "stdout",
     "output_type": "stream",
     "text": [
      "\n",
      "\n"
     ]
    },
    {
     "data": {
      "text/markdown": [
       "|key|value|\n",
       "|-|-|\n",
       "|frequency|Monthly\n",
       "|frequency_short|M\n",
       "|id|TERMCBAUTO48NS\n",
       "|last_updated|2017-01-09 14:16:21-06\n",
       "|notes|For further information, please refer to the Board of Gov...\n",
       "|observation_end|2016-11-01\n",
       "|observation_start|1972-02-01\n",
       "|popularity|61\n",
       "|realtime_end|2017-03-23\n",
       "|realtime_start|2017-03-23\n",
       "|seasonal_adjustment|Not Seasonally Adjusted\n",
       "|seasonal_adjustment_short|NSA\n",
       "|title|Finance Rate on Consumer Installment Loans at Commercial ...\n",
       "|units|Percent\n",
       "|units_short|%"
      ],
      "text/plain": [
       "<IPython.core.display.Markdown object>"
      ]
     },
     "metadata": {},
     "output_type": "display_data"
    },
    {
     "name": "stdout",
     "output_type": "stream",
     "text": [
      "\n",
      "\n"
     ]
    }
   ],
   "source": [
    "if fc.seriesNames():\n",
    "    for s in fc.series()[:5]:\n",
    "        displayDict( s.info())\n",
    "        print\n",
    "        print"
   ]
  },
  {
   "cell_type": "code",
   "execution_count": 13,
   "metadata": {
    "collapsed": false,
    "scrolled": false
   },
   "outputs": [
    {
     "name": "stdout",
     "output_type": "stream",
     "text": [
      " Web urlopen/json url: https://api.stlouisfed.org/fred/category?category_id=15&\n",
      " Web urlopen url: https://api.stlouisfed.org/fred/category/series?category_id=15&\n",
      " Web urlopen/json url: https://api.stlouisfed.org/fred/category/children?category_id=15&\n",
      "\n",
      "Exchange Rates\n"
     ]
    },
    {
     "data": {
      "text/markdown": [
       "|id|name|notes|parent_id|\n",
       "|-|-|-|-|\n",
       "|94|Daily Rates|Effective January 1, 2009, the Federal Reserve Board disc...|15\n",
       "|95|Monthly Rates|None|15\n",
       "|32219|Annual Rates|None|15\n",
       "|105|Trade-Weighted Indexes|None|15\n",
       "|158|By Country|None|15"
      ],
      "text/plain": [
       "<IPython.core.display.Markdown object>"
      ]
     },
     "metadata": {},
     "output_type": "display_data"
    },
    {
     "name": "stdout",
     "output_type": "stream",
     "text": [
      " Web urlopen/json url: https://api.stlouisfed.org/fred/category?category_id=94&\n",
      " Web urlopen url: https://api.stlouisfed.org/fred/category/series?category_id=94&\n",
      " Web urlopen/json url: https://api.stlouisfed.org/fred/category/children?category_id=94&\n",
      "\n",
      "Daily Rates\n",
      " Web urlopen url: https://api.stlouisfed.org/fred/series?series_id=DEXBZUS\n",
      " Web urlopen url: https://api.stlouisfed.org/fred/series/observations?series_id=DEXBZUS&realtim...\n",
      " Web urlopen url: https://api.stlouisfed.org/fred/series?series_id=DEXCAUS\n",
      " Web urlopen url: https://api.stlouisfed.org/fred/series/observations?series_id=DEXCAUS&realtim...\n",
      " Web urlopen url: https://api.stlouisfed.org/fred/series?series_id=DEXCHUS\n",
      " Web urlopen url: https://api.stlouisfed.org/fred/series/observations?series_id=DEXCHUS&realtim...\n",
      " Web urlopen url: https://api.stlouisfed.org/fred/series?series_id=DEXDNUS\n",
      " Web urlopen url: https://api.stlouisfed.org/fred/series/observations?series_id=DEXDNUS&realtim...\n",
      " Web urlopen url: https://api.stlouisfed.org/fred/series?series_id=DEXHKUS\n",
      " Web urlopen url: https://api.stlouisfed.org/fred/series/observations?series_id=DEXHKUS&realtim...\n",
      " Web urlopen url: https://api.stlouisfed.org/fred/series?series_id=DEXINUS\n",
      " Web urlopen url: https://api.stlouisfed.org/fred/series/observations?series_id=DEXINUS&realtim...\n",
      " Web urlopen url: https://api.stlouisfed.org/fred/series?series_id=DEXJPUS\n",
      " Web urlopen url: https://api.stlouisfed.org/fred/series/observations?series_id=DEXJPUS&realtim...\n",
      " Web urlopen url: https://api.stlouisfed.org/fred/series?series_id=DEXKOUS\n",
      " Web urlopen url: https://api.stlouisfed.org/fred/series/observations?series_id=DEXKOUS&realtim...\n",
      " Web urlopen url: https://api.stlouisfed.org/fred/series?series_id=DEXMAUS\n",
      " Web urlopen url: https://api.stlouisfed.org/fred/series/observations?series_id=DEXMAUS&realtim...\n",
      " Web urlopen url: https://api.stlouisfed.org/fred/series?series_id=DEXMXUS\n",
      " Web urlopen url: https://api.stlouisfed.org/fred/series/observations?series_id=DEXMXUS&realtim...\n",
      " Web urlopen url: https://api.stlouisfed.org/fred/series?series_id=DEXNOUS\n",
      " Web urlopen url: https://api.stlouisfed.org/fred/series/observations?series_id=DEXNOUS&realtim...\n",
      " Web urlopen url: https://api.stlouisfed.org/fred/series?series_id=DEXSDUS\n",
      " Web urlopen url: https://api.stlouisfed.org/fred/series/observations?series_id=DEXSDUS&realtim...\n",
      " Web urlopen url: https://api.stlouisfed.org/fred/series?series_id=DEXSFUS\n",
      " Web urlopen url: https://api.stlouisfed.org/fred/series/observations?series_id=DEXSFUS&realtim...\n",
      " Web urlopen url: https://api.stlouisfed.org/fred/series?series_id=DEXSIUS\n",
      " Web urlopen url: https://api.stlouisfed.org/fred/series/observations?series_id=DEXSIUS&realtim...\n",
      " Web urlopen url: https://api.stlouisfed.org/fred/series?series_id=DEXSLUS\n",
      " Web urlopen url: https://api.stlouisfed.org/fred/series/observations?series_id=DEXSLUS&realtim...\n",
      " Web urlopen url: https://api.stlouisfed.org/fred/series?series_id=DEXSZUS\n",
      " Web urlopen url: https://api.stlouisfed.org/fred/series/observations?series_id=DEXSZUS&realtim...\n",
      " Web urlopen url: https://api.stlouisfed.org/fred/series?series_id=DEXTAUS\n",
      " Web urlopen url: https://api.stlouisfed.org/fred/series/observations?series_id=DEXTAUS&realtim...\n",
      " Web urlopen url: https://api.stlouisfed.org/fred/series?series_id=DEXTHUS\n",
      " Web urlopen url: https://api.stlouisfed.org/fred/series/observations?series_id=DEXTHUS&realtim...\n",
      " Web urlopen url: https://api.stlouisfed.org/fred/series?series_id=DEXUSAL\n",
      " Web urlopen url: https://api.stlouisfed.org/fred/series/observations?series_id=DEXUSAL&realtim...\n",
      " Web urlopen url: https://api.stlouisfed.org/fred/series?series_id=DEXUSEU\n",
      " Web urlopen url: https://api.stlouisfed.org/fred/series/observations?series_id=DEXUSEU&realtim...\n",
      " Web urlopen url: https://api.stlouisfed.org/fred/series?series_id=DEXUSNZ\n",
      " Web urlopen url: https://api.stlouisfed.org/fred/series/observations?series_id=DEXUSNZ&realtim...\n",
      " Web urlopen url: https://api.stlouisfed.org/fred/series?series_id=DEXUSUK\n",
      " Web urlopen url: https://api.stlouisfed.org/fred/series/observations?series_id=DEXUSUK&realtim...\n",
      " Web urlopen url: https://api.stlouisfed.org/fred/series?series_id=DEXVZUS\n",
      " Web urlopen url: https://api.stlouisfed.org/fred/series/observations?series_id=DEXVZUS&realtim...\n",
      " Web urlopen url: https://api.stlouisfed.org/fred/series?series_id=DTWEXB\n",
      " Web urlopen url: https://api.stlouisfed.org/fred/series/observations?series_id=DTWEXB&realtime...\n",
      " Web urlopen url: https://api.stlouisfed.org/fred/series?series_id=DTWEXM\n",
      " Web urlopen url: https://api.stlouisfed.org/fred/series/observations?series_id=DTWEXM&realtime...\n",
      " Web urlopen url: https://api.stlouisfed.org/fred/series?series_id=DTWEXO\n",
      " Web urlopen url: https://api.stlouisfed.org/fred/series/observations?series_id=DTWEXO&realtime...\n"
     ]
    },
    {
     "data": {
      "text/markdown": [
       "|id|title|\n",
       "|-|-|\n",
       "|DEXBZUS|Brazil / U.S. Foreign Exchange Rate\n",
       "|DEXCAUS|Canada / U.S. Foreign Exchange Rate\n",
       "|DEXCHUS|China / U.S. Foreign Exchange Rate\n",
       "|DEXDNUS|Denmark / U.S. Foreign Exchange Rate\n",
       "|DEXHKUS|Hong Kong / U.S. Foreign Exchange Rate\n",
       "|DEXINUS|India / U.S. Foreign Exchange Rate\n",
       "|DEXJPUS|Japan / U.S. Foreign Exchange Rate\n",
       "|DEXKOUS|South Korea / U.S. Foreign Exchange Rate\n",
       "|DEXMAUS|Malaysia / U.S. Foreign Exchange Rate\n",
       "|DEXMXUS|Mexico / U.S. Foreign Exchange Rate\n",
       "|DEXNOUS|Norway / U.S. Foreign Exchange Rate\n",
       "|DEXSDUS|Sweden / U.S. Foreign Exchange Rate\n",
       "|DEXSFUS|South Africa / U.S. Foreign Exchange Rate\n",
       "|DEXSIUS|Singapore / U.S. Foreign Exchange Rate\n",
       "|DEXSLUS|Sri Lanka / U.S. Foreign Exchange Rate\n",
       "|DEXSZUS|Switzerland / U.S. Foreign Exchange Rate\n",
       "|DEXTAUS|Taiwan / U.S. Foreign Exchange Rate\n",
       "|DEXTHUS|Thailand / U.S. Foreign Exchange Rate\n",
       "|DEXUSAL|U.S. / Australia Foreign Exchange Rate\n",
       "|DEXUSEU|U.S. / Euro Foreign Exchange Rate\n",
       "|DEXUSNZ|U.S. / New Zealand Foreign Exchange Rate\n",
       "|DEXUSUK|U.S. / U.K. Foreign Exchange Rate\n",
       "|DEXVZUS|Venezuela / U.S. Foreign Exchange Rate\n",
       "|DTWEXB|Trade Weighted U.S. Dollar Index: Broad\n",
       "|DTWEXM|Trade Weighted U.S. Dollar Index: Major Currencies\n",
       "|DTWEXO|Trade Weighted U.S. Dollar Index: Other Important Trading..."
      ],
      "text/plain": [
       "<IPython.core.display.Markdown object>"
      ]
     },
     "metadata": {},
     "output_type": "display_data"
    },
    {
     "data": {
      "text/markdown": [
       "|key|value|\n",
       "|-|-|\n",
       "|frequency|Daily\n",
       "|frequency_short|D\n",
       "|id|DTWEXO\n",
       "|last_updated|2017-03-20 15:51:38-05\n",
       "|notes|A weighted average of the foreign exchange value of the U...\n",
       "|observation_end|2017-03-17\n",
       "|observation_start|1995-01-04\n",
       "|popularity|50\n",
       "|realtime_end|2017-03-23\n",
       "|realtime_start|2017-03-23\n",
       "|seasonal_adjustment|Not Seasonally Adjusted\n",
       "|seasonal_adjustment_short|NSA\n",
       "|title|Trade Weighted U.S. Dollar Index: Other Important Trading...\n",
       "|units|Index Jan 1997=100\n",
       "|units_short|Index Jan 1997=100"
      ],
      "text/plain": [
       "<IPython.core.display.Markdown object>"
      ]
     },
     "metadata": {},
     "output_type": "display_data"
    }
   ],
   "source": [
    "with PrintMonitor(include='Web'):\n",
    "    fc = FredCategory.get('15', db, create=True)\n",
    "\n",
    "    while True:\n",
    "        if not fc.activeEvents():\n",
    "            fc.update()\n",
    "        print\n",
    "        print fc.name()\n",
    "        if not fc.children():\n",
    "            break\n",
    "        displayListOfDicts(fc.childCategoryInfo())\n",
    "        fc = fc.children()[0]\n",
    "        \n",
    "    \n",
    "    info = []\n",
    "    \n",
    "    if fc.seriesNames():\n",
    "        for s in fc.series():\n",
    "            #print '# releases:', len(s.allReleases()), s.allReleases()[0]\n",
    "            if not s.activeEvents():\n",
    "                s.update()\n",
    "            info.append(dict([ (k, s.info()[k]) for k in ['id', 'title'] ]) )\n",
    "    displayListOfDicts(info)\n",
    "    \n",
    "displayDict(s.info())"
   ]
  },
  {
   "cell_type": "code",
   "execution_count": 14,
   "metadata": {
    "collapsed": false
   },
   "outputs": [
    {
     "name": "stdout",
     "output_type": "stream",
     "text": [
      "Swiss Francs to One U.S. Dollar\n"
     ]
    },
    {
     "data": {
      "image/png": "[encoded data removed]",
      "text/plain": [
       "<matplotlib.figure.Figure at 0x116078f50>"
      ]
     },
     "metadata": {},
     "output_type": "display_data"
    },
    {
     "name": "stdout",
     "output_type": "stream",
     "text": [
      "U.S. Dollars to One British Pound\n"
     ]
    },
    {
     "data": {
      "image/png": "[encoded data removed]",
      "text/plain": [
       "<matplotlib.figure.Figure at 0x114100490>"
      ]
     },
     "metadata": {},
     "output_type": "display_data"
    }
   ],
   "source": [
    "chf = FredSeries.get('DEXSZUS', db, create=True)\n",
    "print chf.info()['units']\n",
    "chf.plot()\n",
    "\n",
    "gbp = FredSeries.get('DEXUSUK', db, create=True)\n",
    "print gbp.info()['units']\n",
    "gbp.plot()"
   ]
  }
 ],
 "metadata": {
  "kernelspec": {
   "display_name": "Python 2",
   "language": "python",
   "name": "python2"
  },
  "language_info": {
   "codemirror_mode": {
    "name": "ipython",
    "version": 2
   },
   "file_extension": ".py",
   "mimetype": "text/x-python",
   "name": "python",
   "nbconvert_exporter": "python",
   "pygments_lexer": "ipython2",
   "version": "2.7.13"
  }
 },
 "nbformat": 4,
 "nbformat_minor": 2
}
