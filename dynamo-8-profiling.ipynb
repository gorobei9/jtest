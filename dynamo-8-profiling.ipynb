{
 "cells": [
  {
   "cell_type": "markdown",
   "metadata": {},
   "source": [
    "# A simple profiler\n",
    "\n",
    "This is the first cut at a simple time-spent profiler for nodes. \n",
    "\n",
    "The code to profile is just the previously defined FRED code.\n",
    "\n",
    "Although primitive, the profiler output does show a few things:\n",
    "1. The bulk of the time is spent in fetching data pages.\n",
    "2. The ExternalRefData.state method is a mess:\n",
    " * It should load data pages lazily, not deeply in the EncDec mechanics\n",
    " * The low-level ObjMeta/dataField code hides some stuff we would like to expose at the node level\n",
    "3. Wow, this code is quite slow. Especially when my laptop is overheating:\n",
    " * Refactored FredSeries so that it doesn't load/persist release data by default\n",
    " * We'll fix the rest of the slowness later"
   ]
  },
  {
   "cell_type": "code",
   "execution_count": 1,
   "metadata": {
    "collapsed": false
   },
   "outputs": [],
   "source": [
    "import mand.core\n",
    "\n",
    "from mand.core import Entity, node, Context, _tr, ObjectDb, _DBO, EncDec\n",
    "from mand.core import displayDict, displayListOfDicts, displayMarkdown\n",
    "from mand.core import Monitor, PrintMonitor, SummaryMonitor\n",
    "from mand.lib.extrefdata import ExternalRefData, dataField\n",
    "\n",
    "from mand.user.refdata.FRED import FredManager, FredSeries, FredCategory\n",
    "\n",
    "db = ObjectDb(name='production-1', inMem=False, ro=True)\n",
    "\n",
    "%matplotlib inline\n"
   ]
  },
  {
   "cell_type": "code",
   "execution_count": 2,
   "metadata": {
    "collapsed": false
   },
   "outputs": [],
   "source": [
    "import time\n",
    "\n",
    "class ProfileMonitor(Monitor):\n",
    "\n",
    "    def __init__(self, mode=None):\n",
    "        self.stack = []\n",
    "        self.result = []\n",
    "        self.mode = mode\n",
    "        \n",
    "    def message(self, sys, depthInc, action, **kw):\n",
    "        if depthInc == 1:\n",
    "            v = [kw, time.clock(), 0]\n",
    "            self.stack.append(v)\n",
    "            \n",
    "        if depthInc == -1:\n",
    "            kw, start, tSub = self.stack.pop()\n",
    "            t = time.clock() - start\n",
    "            tFn = t - tSub\n",
    "            if self.stack:\n",
    "                self.stack[-1][-1] += t\n",
    "            \n",
    "            self.result.append((tFn, t, sys, kw))\n",
    "             \n",
    "    def dumpRaw(self):\n",
    "        for tFn, t, sys, kw in self.result:\n",
    "            key = self.kwToStr(kw)\n",
    "            print '%8.4f %8.4f %-16s: %s' % (tFn, t, sys, key)\n",
    "            \n",
    "    def displaySum(self):\n",
    "        if not self.result:\n",
    "            displayMarkdown('No profile info was recorded.')\n",
    "        n = {}\n",
    "        cumT = {}\n",
    "        cumTCalc = {}\n",
    "        tScale = 1e6\n",
    "        for tFn, t, sys, kw in self.result:\n",
    "            if 'path'in kw:\n",
    "                fn = kw.get('path', '//').split('/')[2]\n",
    "            else:\n",
    "                fn = kw.get('key').fullName()\n",
    "            key = (sys, fn)\n",
    "            cumT[key] = cumT.get(key, 0) + t * tScale\n",
    "            cumTCalc[key] = cumTCalc.get(key, 0) + tFn * tScale\n",
    "            n[key] = n.get(key, 0) + 1\n",
    "        res = []\n",
    "        def f(d):\n",
    "            return format(int(d), ',d')\n",
    "        for key in n:\n",
    "            line = { 'n':         f(n[key]), \n",
    "                     'cumT':      f(cumT[key]),\n",
    "                     'cumT/call': f(cumT[key]/n[key]),\n",
    "                     'calcT':     f(cumTCalc[key]),\n",
    "                     'sys':       key[0],\n",
    "                     'fn':        key[1],\n",
    "                     'key':       cumT[key],\n",
    "                     }\n",
    "            res.append(line)\n",
    "        res = sorted(res, key=lambda d: -d['key'])\n",
    "        txt = \"\"\"### Profile by nodes. \n",
    "* times are in microseconds\n",
    "* cumT is total time spent in funtion\n",
    "* calcT is time spent in function, but not in a child node\"\"\"\n",
    "        displayMarkdown(txt)\n",
    "        displayListOfDicts(res, names=['fn', 'n', 'cumT', 'calcT', 'cumT/call', 'sys'])\n",
    "        \n",
    "    def onExit(self):\n",
    "        mode = self.mode\n",
    "        if mode is None:\n",
    "            self.dumpRaw()\n",
    "        elif mode == 'sum':\n",
    "            self.displaySum()\n",
    "        else:\n",
    "            assert False, 'unknown profiler mode: %s' % mode"
   ]
  },
  {
   "cell_type": "code",
   "execution_count": 3,
   "metadata": {
    "collapsed": false,
    "scrolled": false
   },
   "outputs": [
    {
     "data": {
      "text/markdown": [
       "### Profile by nodes. \n",
       "* times are in microseconds\n",
       "* cumT is total time spent in funtion\n",
       "* calcT is time spent in function, but not in a child node"
      ],
      "text/plain": [
       "<IPython.core.display.Markdown object>"
      ]
     },
     "metadata": {},
     "output_type": "display_data"
    },
    {
     "data": {
      "text/markdown": [
       "|fn|n|cumT|calcT|cumT/call|sys|\n",
       "|-|-|-|-|-|-|\n",
       "|Test:info|1|18,389,895|18|18,389,895|GetValue\n",
       "|Test:info|1|18,389,876|1,182|18,389,876|GetValue/Calc\n",
       "|ExternalRefData:state|28|18,338,535|420|654,947|GetValue\n",
       "|ExternalRefData:state|27|18,338,115|5,377|679,189|GetValue/Calc\n",
       "|ExternalDataPage|313|18,194,631|18,194,631|58,129|Db.Get\n",
       "|RefData:state|27|138,106|291|5,115|GetValue\n",
       "|RefData:state|27|137,814|55,996|5,104|GetValue/Calc\n",
       "|RefDataUpdateEvent|27|73,779|73,779|2,732|Db.Get\n",
       "|FredCategory:series|1|46,756|16|46,756|GetValue\n",
       "|FredCategory:series|1|46,739|484|46,739|GetValue/Calc\n",
       "|FredSeries|26|46,250|46,250|1,778|Db.Get\n",
       "|Clock:cutoffs|54|4,565|207|84|GetValue\n",
       "|Clock:cutoffs|1|4,358|51|4,358|GetValue/Calc\n",
       "|Clock:parent|1|4,302|12|4,302|GetValue\n",
       "|Clock:parent|1|4,290|2,406|4,290|GetValue/Calc\n",
       "|FredCategory|1|3,406|3,406|3,406|Db.Get\n",
       "|RefData:clock|54|3,154|504|58|GetValue\n",
       "|RefData:clock|27|2,649|487|98|GetValue/Calc\n",
       "|Clock|1|2,161|2,161|2,161|Db.Get\n",
       "|Entity:clock|2|1,757|22|878|GetValue\n",
       "|Entity:clock|1|1,734|30|1,734|GetValue/Calc\n",
       "|RootClock|1|1,703|1,703|1,703|Db.Get\n",
       "|Event:amends|27|179|179|6|GetValue\n",
       "|RefDataUpdateEvent:data|27|139|139|5|GetValue\n",
       "|RootClock:cutoffs|3|130|19|43|GetValue\n",
       "|RootClock:cutoffs|1|110|49|110|GetValue/Calc\n",
       "|CosmicAll:dbState|1|39|34|39|GetValue\n",
       "|RootClock:cosmicAll|1|21|13|21|GetValue\n",
       "|RootClock:cosmicAll|1|8|8|8|GetValue/Calc\n",
       "|CosmicAll:dbState|1|5|5|5|GetValue/Calc"
      ],
      "text/plain": [
       "<IPython.core.display.Markdown object>"
      ]
     },
     "metadata": {},
     "output_type": "display_data"
    },
    {
     "name": "stdout",
     "output_type": "stream",
     "text": [
      "count is: 26\n"
     ]
    },
    {
     "data": {
      "text/markdown": [
       "|id|title|\n",
       "|-|-|\n",
       "|DEXBZUS|Brazil / U.S. Foreign Exchange Rate\n",
       "|DEXCAUS|Canada / U.S. Foreign Exchange Rate\n",
       "|DEXCHUS|China / U.S. Foreign Exchange Rate\n",
       "|DEXDNUS|Denmark / U.S. Foreign Exchange Rate\n",
       "|DEXHKUS|Hong Kong / U.S. Foreign Exchange Rate\n",
       "|DEXINUS|India / U.S. Foreign Exchange Rate\n",
       "|DEXJPUS|Japan / U.S. Foreign Exchange Rate\n",
       "|DEXKOUS|South Korea / U.S. Foreign Exchange Rate\n",
       "|DEXMAUS|Malaysia / U.S. Foreign Exchange Rate\n",
       "|DEXMXUS|Mexico / U.S. Foreign Exchange Rate\n",
       "|DEXNOUS|Norway / U.S. Foreign Exchange Rate\n",
       "|DEXSDUS|Sweden / U.S. Foreign Exchange Rate\n",
       "|DEXSFUS|South Africa / U.S. Foreign Exchange Rate\n",
       "|DEXSIUS|Singapore / U.S. Foreign Exchange Rate\n",
       "|DEXSLUS|Sri Lanka / U.S. Foreign Exchange Rate\n",
       "|DEXSZUS|Switzerland / U.S. Foreign Exchange Rate\n",
       "|DEXTAUS|Taiwan / U.S. Foreign Exchange Rate\n",
       "|DEXTHUS|Thailand / U.S. Foreign Exchange Rate\n",
       "|DEXUSAL|U.S. / Australia Foreign Exchange Rate\n",
       "|DEXUSEU|U.S. / Euro Foreign Exchange Rate\n",
       "|DEXUSNZ|U.S. / New Zealand Foreign Exchange Rate\n",
       "|DEXUSUK|U.S. / U.K. Foreign Exchange Rate\n",
       "|DEXVZUS|Venezuela / U.S. Foreign Exchange Rate\n",
       "|DTWEXB|Trade Weighted U.S. Dollar Index: Broad\n",
       "|DTWEXM|Trade Weighted U.S. Dollar Index: Major Currencies\n",
       "|DTWEXO|Trade Weighted U.S. Dollar Index: Other Important Trading..."
      ],
      "text/plain": [
       "<IPython.core.display.Markdown object>"
      ]
     },
     "metadata": {},
     "output_type": "display_data"
    }
   ],
   "source": [
    "class Test(_DBO):\n",
    "    @node\n",
    "    def info(self):\n",
    "        fc = FredCategory.get('94', self.meta.db, create=True)\n",
    "        info = []\n",
    "        if fc.seriesNames():\n",
    "            for s in fc.series():\n",
    "                seriesInfo = s.info()\n",
    "                info.append(dict([ (k, seriesInfo[k]) for k in ['id', 'title'] ]) )\n",
    "        return info\n",
    "        \n",
    "with ProfileMonitor(mode='sum'):\n",
    "    with PrintMonitor(include='Web'):\n",
    "        t = Test('Test', db=db)\n",
    "        info = t.info()\n",
    "        \n",
    "print 'count is:', len(info)\n",
    "displayListOfDicts(info)"
   ]
  },
  {
   "cell_type": "code",
   "execution_count": 4,
   "metadata": {
    "collapsed": false,
    "scrolled": false
   },
   "outputs": [
    {
     "name": "stdout",
     "output_type": "stream",
     "text": [
      "Swiss Francs to One U.S. Dollar\n"
     ]
    },
    {
     "data": {
      "image/png": "[encoded data removed]",
      "text/plain": [
       "<matplotlib.figure.Figure at 0x11265a510>"
      ]
     },
     "metadata": {},
     "output_type": "display_data"
    },
    {
     "name": "stdout",
     "output_type": "stream",
     "text": [
      "U.S. Dollars to One British Pound\n"
     ]
    },
    {
     "data": {
      "image/png": "[encoded data removed]",
      "text/plain": [
       "<matplotlib.figure.Figure at 0x11758a490>"
      ]
     },
     "metadata": {},
     "output_type": "display_data"
    }
   ],
   "source": [
    "chf = FredSeries.get('DEXSZUS', db, create=True)\n",
    "print chf.info()['units']\n",
    "chf.plot()\n",
    "\n",
    "gbp = FredSeries.get('DEXUSUK', db, create=True)\n",
    "print gbp.info()['units']\n",
    "gbp.plot()"
   ]
  },
  {
   "cell_type": "markdown",
   "metadata": {},
   "source": [
    "# Check things have a reasonable default display() method [Test]"
   ]
  },
  {
   "cell_type": "code",
   "execution_count": 5,
   "metadata": {
    "collapsed": false
   },
   "outputs": [
    {
     "data": {
      "text/markdown": [
       "# DEXUSEU"
      ],
      "text/plain": [
       "<IPython.core.display.Markdown object>"
      ]
     },
     "metadata": {},
     "output_type": "display_data"
    },
    {
     "data": {
      "text/markdown": [
       "|key|value|\n",
       "|-|-|\n",
       "|frequency|Daily\n",
       "|frequency_short|D\n",
       "|id|DEXUSEU\n",
       "|last_updated|2017-03-20 15:51:31-05\n",
       "|notes|Noon buying rates in New York City for cable transfers pa...\n",
       "|observation_end|2017-03-17\n",
       "|observation_start|1999-01-04\n",
       "|popularity|77\n",
       "|realtime_end|2017-03-27\n",
       "|realtime_start|2017-03-27\n",
       "|seasonal_adjustment|Not Seasonally Adjusted\n",
       "|seasonal_adjustment_short|NSA\n",
       "|title|U.S. / Euro Foreign Exchange Rate\n",
       "|units|U.S. Dollars to One Euro\n",
       "|units_short|U.S. $ to  1 Euro"
      ],
      "text/plain": [
       "<IPython.core.display.Markdown object>"
      ]
     },
     "metadata": {},
     "output_type": "display_data"
    },
    {
     "name": "stdout",
     "output_type": "stream",
     "text": [
      "                 Web urlopen url: https://api.stlouisfed.org/fred/series/observations?series_id=DEXUSEU&realtim...\n"
     ]
    },
    {
     "data": {
      "image/png": "[encoded data removed]",
      "text/plain": [
       "<matplotlib.figure.Figure at 0x11023b5d0>"
      ]
     },
     "metadata": {},
     "output_type": "display_data"
    },
    {
     "data": {
      "text/markdown": [
       "### Profile by nodes. \n",
       "* times are in microseconds\n",
       "* cumT is total time spent in funtion\n",
       "* calcT is time spent in function, but not in a child node"
      ],
      "text/plain": [
       "<IPython.core.display.Markdown object>"
      ]
     },
     "metadata": {},
     "output_type": "display_data"
    },
    {
     "data": {
      "text/markdown": [
       "|fn|n|cumT|calcT|cumT/call|sys|\n",
       "|-|-|-|-|-|-|\n",
       "|FredSeries:data|1|334,438|16|334,438|GetValue\n",
       "|FredSeries:data|1|334,422|103|334,422|GetValue/Calc\n",
       "|FredReleases:data|1|330,921|36|330,921|GetValue\n",
       "|FredReleases:data|1|330,884|118,047|330,884|GetValue/Calc\n",
       "|FredReleases:allObservations|1|212,774|25|212,774|GetValue\n",
       "|FredReleases:allObservations|1|212,749|9,517|212,749|GetValue/Calc\n",
       "|ExternalRefData:state|3|203,206|48|67,735|GetValue\n",
       "|ExternalRefData:state|1|203,158|200,599|203,158|GetValue/Calc\n",
       "|FredSeries:releases|1|3,397|18|3,397|GetValue\n",
       "|FredSeries:releases|1|3,378|83|3,378|GetValue/Calc\n",
       "|FredReleases|1|3,287|3,287|3,287|Db.Get\n",
       "|RefData:state|1|2,508|14|2,508|GetValue\n",
       "|RefData:state|1|2,494|2,431|2,494|GetValue/Calc\n",
       "|FredReleases:fredClock|1|53|21|53|GetValue\n",
       "|RefData:clock|2|51|26|25|GetValue\n",
       "|ExternalDataPage:data|5|47|47|9|GetValue\n",
       "|FredSeries:name|2|43|35|21|GetValue\n",
       "|FredReleases:fredClock|1|32|32|32|GetValue/Calc\n",
       "|FredReleases:fredManager|1|25|9|25|GetValue\n",
       "|RefData:clock|1|25|25|25|GetValue/Calc\n",
       "|FredReleases:name|1|18|9|18|GetValue\n",
       "|FredReleases:fredManager|1|15|15|15|GetValue/Calc\n",
       "|Clock:cutoffs|2|11|11|5|GetValue\n",
       "|FredReleases:name|1|8|8|8|GetValue/Calc\n",
       "|FredClock:cutoffs|1|8|8|8|GetValue\n",
       "|FredSeries:name|1|8|8|8|GetValue/Calc\n",
       "|FredManager:rootUrl|1|2|2|2|GetValue\n",
       "|FredManager:apiKey|1|2|2|2|GetValue"
      ],
      "text/plain": [
       "<IPython.core.display.Markdown object>"
      ]
     },
     "metadata": {},
     "output_type": "display_data"
    }
   ],
   "source": [
    "with ProfileMonitor(mode='sum'):\n",
    "    with PrintMonitor(include='Web'):\n",
    "        eur = FredSeries.get('DEXUSEU', db, create=True)\n",
    "        eur.display()"
   ]
  },
  {
   "cell_type": "markdown",
   "metadata": {},
   "source": [
    "# Using a read-only db [Test]\n",
    "\n",
    "Even with a read-only db, we should still be able to do something useful. We just don't try to\n",
    "persist newly created objects:"
   ]
  },
  {
   "cell_type": "code",
   "execution_count": 6,
   "metadata": {
    "collapsed": false,
    "scrolled": false
   },
   "outputs": [
    {
     "data": {
      "text/markdown": [
       "# Income Distribution"
      ],
      "text/plain": [
       "<IPython.core.display.Markdown object>"
      ]
     },
     "metadata": {},
     "output_type": "display_data"
    },
    {
     "data": {
      "text/markdown": [
       "* 0 sub-categories\n",
       "* 65 series"
      ],
      "text/plain": [
       "<IPython.core.display.Markdown object>"
      ]
     },
     "metadata": {},
     "output_type": "display_data"
    },
    {
     "data": {
      "text/markdown": [
       "|id|title|popularity|frequency|units|\n",
       "|-|-|-|-|-|\n",
       "|MEHOINUSA672N|Real Median Household Income in the United States|91|Annual|2015 CPI-U-RS Adjusted Dollars\n",
       "|MEPAINUSA672N|Real Median Personal Income in the United States|71|Annual|2015 CPI-U-RS Adjusted Dollars\n",
       "|MEFAINUSA672N|Real Median Family Income in the United States|65|Annual|2015 CPI-U-RS Adjusted Dollars\n",
       "|MEHOINUSA646N|Median Household Income in the United States|61|Annual|Current Dollars\n",
       "|GINIALLRH|Income Gini Ratio for Households by Race of Householder, ...|54|Annual|Ratio\n",
       "|GINIALLRF|Income Gini Ratio of Families by Race of Householder, All...|50|Annual|Ratio\n",
       "|MEFAINUSA646N|Median Family Income in the United States|43|Annual|Current Dollars\n",
       "|MAFAINUSA646N|Mean Family Income in the United States|42|Annual|Current Dollars\n",
       "|MAPAINUSA672N|Real Mean Personal Income in the United States|41|Annual|2015 CPI-U-RS Adjusted Dollars\n",
       "|GINIBAOICH|Income Gini Ratio for Households by Race of Householder, ...|38|Annual|Ratio\n",
       "|MAFAINUSA672N|Real Mean Family Income in the United States|37|Annual|2015 CPI-U-RS Adjusted Dollars\n",
       "|MEPAINUSA646N|Median Personal Income in the United States|34|Annual|Current Dollars\n",
       "|MAPAINUSA646N|Mean Personal Income in the United States|33|Annual|Current Dollars\n",
       "|GINIWAF|Income Gini Ratio of Families by Race of Householder, Whi...|31|Annual|Ratio\n",
       "|MEFAINUSNEA672N|Real Median Family Income in Northeast Census Region|28|Annual|2015 CPI-U-RS Adjusted Dollars\n",
       "|GINIAAF|Income Gini Ratio of Families by Race of Householder, Asi...|27|Annual|Ratio\n",
       "|MEFAINUSMWA672N|Real Median Family Income in Midwest Census Region|27|Annual|2015 CPI-U-RS Adjusted Dollars\n",
       "|MEFAINUSWEA672N|Real Median Family Income in West Census Region|27|Annual|2015 CPI-U-RS Adjusted Dollars\n",
       "|GINIBAF|Income Gini Ratio of Families by Race of Householder, Bla...|26|Annual|Ratio\n",
       "|MEFAINUSSOA672N|Real Median Family Income in South Census Region|24|Annual|2015 CPI-U-RS Adjusted Dollars\n",
       "|MEPAINUSMWA672N|Real Median Personal Income in Midwest Census Region|20|Annual|2015 CPI-U-RS Adjusted Dollars\n",
       "|MAFAINUSMWA672N|Real Mean Family Income in Midwest Census Region|19|Annual|2015 CPI-U-RS Adjusted Dollars\n",
       "|MEPAINUSMWA646N|Median Personal Income in Midwest Census Region|16|Annual|Current Dollars\n",
       "|GINIWANHF|Income Gini Ratio of Families by Race of Householder, Whi...|14|Annual|Ratio\n",
       "|MEPAINUSSOA672N|Real Median Personal Income in South Census Region|14|Annual|2015 CPI-U-RS Adjusted Dollars\n",
       "|GINIHARH|Income Gini Ratio for Households by Race of Householder, ...|11|Annual|Ratio\n",
       "|GINIWAH|Income Gini Ratio for Households by Race of Householder, ...|11|Annual|Ratio\n",
       "|MEFAINUSMWA646N|Median Family Income in Midwest Census Region|11|Annual|Current Dollars\n",
       "|MEFAINUSNEA646N|Median Family Income in Northeast Census Region|11|Annual|Current Dollars\n",
       "|MAPAINUSMWA672N|Real Mean Personal Income in Midwest Census Region|11|Annual|2015 CPI-U-RS Adjusted Dollars\n",
       "|MEPAINUSNEA672N|Real Median Personal Income in Northeast Census Region|11|Annual|2015 CPI-U-RS Adjusted Dollars\n",
       "|MEPAINUSWEA672N|Real Median Personal Income in West Census Region|11|Annual|2015 CPI-U-RS Adjusted Dollars\n",
       "|GINIBAH|Income Gini Ratio for Households by Race of Householder, ...|7|Annual|Ratio\n",
       "|GINIWH|Income Gini Ratio for Households by Race of Householder, ...|7|Annual|Ratio\n",
       "|MEPAINUSNEA646N|Median Personal Income in Northeast Census Region|7|Annual|Current Dollars\n",
       "|MAFAINUSSOA672N|Real Mean Family Income in South Census Region|7|Annual|2015 CPI-U-RS Adjusted Dollars\n",
       "|MAPAINUSSOA672N|Real Mean Personal Income in South Census Region|7|Annual|2015 CPI-U-RS Adjusted Dollars\n",
       "|MAPAINUSWEA672N|Real Mean Personal Income in West Census Region|7|Annual|2015 CPI-U-RS Adjusted Dollars\n",
       "|GINIAAH|Income Gini Ratio for Households by Race of Householder, ...|0|Annual|Ratio\n",
       "|GINIAAOICH|Income Gini Ratio for Households by Race of Householder, ...|0|Annual|Ratio\n",
       "|GINIBH|Income Gini Ratio for Households by Race of Householder, ...|0|Annual|Ratio\n",
       "|GINIWANHH|Income Gini Ratio for Households by Race of Householder, ...|0|Annual|Ratio\n",
       "|GINIWAOICH|Income Gini Ratio for Households by Race of Householder, ...|0|Annual|Ratio\n",
       "|GINIWNHH|Income Gini Ratio for Households by Race of Householder, ...|0|Annual|Ratio\n",
       "|GINIAAOICF|Income Gini Ratio of Families by Race of Householder, Asi...|0|Annual|Ratio\n",
       "|GINIBF|Income Gini Ratio of Families by Race of Householder, Bla...|0|Annual|Ratio\n",
       "|GINIBAOICF|Income Gini Ratio of Families by Race of Householder, Bla...|0|Annual|Ratio\n",
       "|GINIHARF|Income Gini Ratio of Families by Race of Householder, His...|0|Annual|Ratio\n",
       "|GINIWF|Income Gini Ratio of Families by Race of Householder, Whi...|0|Annual|Ratio\n",
       "|GINIWNHF|Income Gini Ratio of Families by Race of Householder, Whi...|0|Annual|Ratio\n",
       "|MAFAINUSMWA646N|Mean Family Income in Midwest Census Region|0|Annual|Current Dollars\n",
       "|MAFAINUSNEA646N|Mean Family Income in Northeast Census Region|0|Annual|Current Dollars\n",
       "|MAFAINUSSOA646N|Mean Family Income in South Census Region|0|Annual|Current Dollars\n",
       "|MAFAINUSWEA646N|Mean Family Income in West Census Region|0|Annual|Current Dollars\n",
       "|MAPAINUSMWA646N|Mean Personal Income in Midwest Census Region|0|Annual|Current Dollars\n",
       "|MAPAINUSNEA646N|Mean Personal Income in Northeast Census Region|0|Annual|Current Dollars\n",
       "|MAPAINUSSOA646N|Mean Personal Income in South Census Region|0|Annual|Current Dollars\n",
       "|MAPAINUSWEA646N|Mean Personal Income in West Census Region|0|Annual|Current Dollars\n",
       "|MEFAINUSSOA646N|Median Family Income in South Census Region|0|Annual|Current Dollars\n",
       "|MEFAINUSWEA646N|Median Family Income in West Census Region|0|Annual|Current Dollars\n",
       "|MEPAINUSSOA646N|Median Personal Income in South Census Region|0|Annual|Current Dollars\n",
       "|MEPAINUSWEA646N|Median Personal Income in West Census Region|0|Annual|Current Dollars\n",
       "|MAFAINUSNEA672N|Real Mean Family Income in Northeast Census Region|0|Annual|2015 CPI-U-RS Adjusted Dollars\n",
       "|MAFAINUSWEA672N|Real Mean Family Income in West Census Region|0|Annual|2015 CPI-U-RS Adjusted Dollars\n",
       "|MAPAINUSNEA672N|Real Mean Personal Income in Northeast Census Region|0|Annual|2015 CPI-U-RS Adjusted Dollars"
      ],
      "text/plain": [
       "<IPython.core.display.Markdown object>"
      ]
     },
     "metadata": {},
     "output_type": "display_data"
    }
   ],
   "source": [
    "fc = FredCategory.get('33001', db=db, create=True)\n",
    "fc.display()"
   ]
  },
  {
   "cell_type": "code",
   "execution_count": 7,
   "metadata": {
    "collapsed": false
   },
   "outputs": [
    {
     "data": {
      "text/markdown": [
       "# Production & Business Activity"
      ],
      "text/plain": [
       "<IPython.core.display.Markdown object>"
      ]
     },
     "metadata": {},
     "output_type": "display_data"
    },
    {
     "data": {
      "text/markdown": [
       "* 12 sub-categories\n",
       "* 10 series"
      ],
      "text/plain": [
       "<IPython.core.display.Markdown object>"
      ]
     },
     "metadata": {},
     "output_type": "display_data"
    },
    {
     "data": {
      "text/markdown": [
       "|id|name|parent_id|\n",
       "|-|-|-|\n",
       "|32262|Business Cycle Expansions & Contractions|1\n",
       "|32436|Construction|1\n",
       "|33490|Finance Companies|1\n",
       "|32216|Health Insurance|1\n",
       "|97|Housing|1\n",
       "|3|Industrial Production & Capacity Utilization|1\n",
       "|32429|Manufacturing|1\n",
       "|6|Retail Trade|1\n",
       "|33441|Services|1\n",
       "|33492|Technology|1\n",
       "|33202|Transportation|1\n",
       "|33203|Wholesale Trade|1"
      ],
      "text/plain": [
       "<IPython.core.display.Markdown object>"
      ]
     },
     "metadata": {},
     "output_type": "display_data"
    },
    {
     "data": {
      "text/markdown": [
       "|id|title|popularity|frequency|units|\n",
       "|-|-|-|-|-|\n",
       "|ISRATIO|Total Business: Inventories to Sales Ratio|67|Monthly|Ratio\n",
       "|TOTBUSSMSA|Total Business Sales|59|Monthly|Millions of Dollars\n",
       "|BUSINV|Total Business Inventories|53|Monthly, End of Period|Millions of Dollars, End of Period\n",
       "|TOTBUSMPCSMSA|Total Business Sales|37|Monthly|Percent Change\n",
       "|TOTBUSIRNSA|Total Business: Inventories to Sales Ratio|37|Monthly|Ratio\n",
       "|TOTBUSSMNSA|Total Business Sales|34|Monthly|Millions of Dollars\n",
       "|TOTBUSMPCIMSA|Total Business Inventories|31|Monthly|Percent Change\n",
       "|TOTBUSIMNSA|Total Business Inventories|23|Monthly|Millions of Dollars\n",
       "|TOTBUSMPCIMNSA|Total Business Inventories|19|Monthly|Percent Change\n",
       "|TOTBUSMPCSMNSA|Total Business Sales|18|Monthly|Percent Change"
      ],
      "text/plain": [
       "<IPython.core.display.Markdown object>"
      ]
     },
     "metadata": {},
     "output_type": "display_data"
    },
    {
     "data": {
      "text/markdown": [
       "### Profile by nodes. \n",
       "* times are in microseconds\n",
       "* cumT is total time spent in funtion\n",
       "* calcT is time spent in function, but not in a child node"
      ],
      "text/plain": [
       "<IPython.core.display.Markdown object>"
      ]
     },
     "metadata": {},
     "output_type": "display_data"
    },
    {
     "data": {
      "text/markdown": [
       "|fn|n|cumT|calcT|cumT/call|sys|\n",
       "|-|-|-|-|-|-|\n",
       "|ExternalRefData:state|16|243,408|284|15,213|GetValue\n",
       "|ExternalRefData:state|11|243,124|215,941|22,102|GetValue/Calc\n",
       "|FredCategory:name|1|47,881|12|47,881|GetValue\n",
       "|FredCategory:name|1|47,868|34|47,868|GetValue/Calc\n",
       "|RefData:state|11|26,555|134|2,414|GetValue\n",
       "|RefData:state|11|26,421|25,667|2,401|GetValue/Calc\n",
       "|FredCategory:series|2|20,934|25|10,467|GetValue\n",
       "|FredCategory:series|1|20,908|399|20,908|GetValue/Calc\n",
       "|FredSeries|10|20,505|20,505|2,050|Db.Get\n",
       "|FredCategory|1|4,119|4,119|4,119|Db.Get\n",
       "|RefData:clock|22|657|348|29|GetValue\n",
       "|RefData:clock|11|309|309|28|GetValue/Calc\n",
       "|FredSeries:fredManager|10|287|125|28|GetValue\n",
       "|FredSeries:name|10|172|103|17|GetValue\n",
       "|FredSeries:fredManager|10|161|161|16|GetValue/Calc\n",
       "|Clock:cutoffs|22|96|96|4|GetValue\n",
       "|FredSeries:name|10|69|69|6|GetValue/Calc\n",
       "|FredManager:apiKey|13|57|57|4|GetValue\n",
       "|FredManager:rootUrl|13|43|43|3|GetValue\n",
       "|FredCategory:fredManager|3|42|28|14|GetValue\n",
       "|FredCategory:id|3|21|15|7|GetValue\n",
       "|FredCategory:fredManager|1|14|14|14|GetValue/Calc\n",
       "|FredCategory:id|1|5|5|5|GetValue/Calc"
      ],
      "text/plain": [
       "<IPython.core.display.Markdown object>"
      ]
     },
     "metadata": {},
     "output_type": "display_data"
    }
   ],
   "source": [
    "with ProfileMonitor(mode='sum'):\n",
    "    fc = FredCategory.get('1', db=db, create=True)\n",
    "    fc.display()"
   ]
  },
  {
   "cell_type": "code",
   "execution_count": 8,
   "metadata": {
    "collapsed": false,
    "scrolled": false
   },
   "outputs": [
    {
     "name": "stdout",
     "output_type": "stream",
     "text": [
      "         Web urlopen/json url: https://api.stlouisfed.org/fred/category?category_id=32436&\n",
      "         Web urlopen url: https://api.stlouisfed.org/fred/category/series?category_id=32436&\n",
      "         Web urlopen/json url: https://api.stlouisfed.org/fred/category/children?category_id=32436&\n"
     ]
    },
    {
     "data": {
      "text/markdown": [
       "# Construction"
      ],
      "text/plain": [
       "<IPython.core.display.Markdown object>"
      ]
     },
     "metadata": {},
     "output_type": "display_data"
    },
    {
     "data": {
      "text/markdown": [
       "* 0 sub-categories\n",
       "* 96 series"
      ],
      "text/plain": [
       "<IPython.core.display.Markdown object>"
      ]
     },
     "metadata": {},
     "output_type": "display_data"
    },
    {
     "name": "stdout",
     "output_type": "stream",
     "text": [
      "     Web urlopen url: https://api.stlouisfed.org/fred/series?series_id=PBAMUSCON\n",
      "     Web urlopen url: https://api.stlouisfed.org/fred/series?series_id=PBAMUSCONS\n",
      "     Web urlopen url: https://api.stlouisfed.org/fred/series?series_id=PBCADCON\n",
      "     Web urlopen url: https://api.stlouisfed.org/fred/series?series_id=PBCADCONS\n",
      "     Web urlopen url: https://api.stlouisfed.org/fred/series?series_id=PBCOMCON\n",
      "     Web urlopen url: https://api.stlouisfed.org/fred/series?series_id=PBCOMCONS\n",
      "     Web urlopen url: https://api.stlouisfed.org/fred/series?series_id=PBEDUCON\n",
      "     Web urlopen url: https://api.stlouisfed.org/fred/series?series_id=PBEDUCONS\n",
      "     Web urlopen url: https://api.stlouisfed.org/fred/series?series_id=PBHLTHCON\n",
      "     Web urlopen url: https://api.stlouisfed.org/fred/series?series_id=PBHLTHCONS\n",
      "     Web urlopen url: https://api.stlouisfed.org/fred/series?series_id=PBHWYCON\n",
      "     Web urlopen url: https://api.stlouisfed.org/fred/series?series_id=PBHWYCONS\n",
      "     Web urlopen url: https://api.stlouisfed.org/fred/series?series_id=PBNRESCON\n",
      "     Web urlopen url: https://api.stlouisfed.org/fred/series?series_id=PBNRESCONS\n",
      "     Web urlopen url: https://api.stlouisfed.org/fred/series?series_id=PBOFCON\n",
      "     Web urlopen url: https://api.stlouisfed.org/fred/series?series_id=PBOFCONS\n",
      "     Web urlopen url: https://api.stlouisfed.org/fred/series?series_id=PBPSCON\n",
      "     Web urlopen url: https://api.stlouisfed.org/fred/series?series_id=PBPSCONS\n",
      "     Web urlopen url: https://api.stlouisfed.org/fred/series?series_id=PBPWRCON\n",
      "     Web urlopen url: https://api.stlouisfed.org/fred/series?series_id=PBPWRCONS\n",
      "     Web urlopen url: https://api.stlouisfed.org/fred/series?series_id=PBRESCON\n",
      "     Web urlopen url: https://api.stlouisfed.org/fred/series?series_id=PBRESCONS\n",
      "     Web urlopen url: https://api.stlouisfed.org/fred/series?series_id=PBSWGCON\n",
      "     Web urlopen url: https://api.stlouisfed.org/fred/series?series_id=PBSWGCONS\n",
      "     Web urlopen url: https://api.stlouisfed.org/fred/series?series_id=PBTRANSCON\n",
      "     Web urlopen url: https://api.stlouisfed.org/fred/series?series_id=PBTRANSCONS\n",
      "     Web urlopen url: https://api.stlouisfed.org/fred/series?series_id=PBWSCON\n",
      "     Web urlopen url: https://api.stlouisfed.org/fred/series?series_id=PBWSCONS\n",
      "     Web urlopen url: https://api.stlouisfed.org/fred/series?series_id=PLODGCON\n",
      "     Web urlopen url: https://api.stlouisfed.org/fred/series?series_id=PLODGCONS\n",
      "     Web urlopen url: https://api.stlouisfed.org/fred/series?series_id=PNRESCON\n",
      "     Web urlopen url: https://api.stlouisfed.org/fred/series?series_id=PNRESCONS\n",
      "     Web urlopen url: https://api.stlouisfed.org/fred/series?series_id=PRAMUSCON\n",
      "     Web urlopen url: https://api.stlouisfed.org/fred/series?series_id=PRAMUSCONS\n",
      "     Web urlopen url: https://api.stlouisfed.org/fred/series?series_id=PRCMUCON\n",
      "     Web urlopen url: https://api.stlouisfed.org/fred/series?series_id=PRCMUCONS\n",
      "     Web urlopen url: https://api.stlouisfed.org/fred/series?series_id=PRCOMCON\n",
      "     Web urlopen url: https://api.stlouisfed.org/fred/series?series_id=PRCOMCONS\n",
      "     Web urlopen url: https://api.stlouisfed.org/fred/series?series_id=PREDUCON\n",
      "     Web urlopen url: https://api.stlouisfed.org/fred/series?series_id=PREDUCONS\n",
      "     Web urlopen url: https://api.stlouisfed.org/fred/series?series_id=PRHLTHCON\n",
      "     Web urlopen url: https://api.stlouisfed.org/fred/series?series_id=PRHLTHCONS\n",
      "     Web urlopen url: https://api.stlouisfed.org/fred/series?series_id=PRMFGCON\n",
      "     Web urlopen url: https://api.stlouisfed.org/fred/series?series_id=PRMFGCONS\n",
      "     Web urlopen url: https://api.stlouisfed.org/fred/series?series_id=PROFCON\n",
      "     Web urlopen url: https://api.stlouisfed.org/fred/series?series_id=PROFCONS\n",
      "     Web urlopen url: https://api.stlouisfed.org/fred/series?series_id=PRPWRCON\n",
      "     Web urlopen url: https://api.stlouisfed.org/fred/series?series_id=PRPWRCONS\n",
      "     Web urlopen url: https://api.stlouisfed.org/fred/series?series_id=PRRELCON\n",
      "     Web urlopen url: https://api.stlouisfed.org/fred/series?series_id=PRRELCONS\n",
      "     Web urlopen url: https://api.stlouisfed.org/fred/series?series_id=PRRESCON\n",
      "     Web urlopen url: https://api.stlouisfed.org/fred/series?series_id=PRRESCONS\n",
      "     Web urlopen url: https://api.stlouisfed.org/fred/series?series_id=PRTRANSCON\n",
      "     Web urlopen url: https://api.stlouisfed.org/fred/series?series_id=PRTRANSCONS\n",
      "     Web urlopen url: https://api.stlouisfed.org/fred/series?series_id=TLAMUSCON\n",
      "     Web urlopen url: https://api.stlouisfed.org/fred/series?series_id=TLAMUSCONS\n",
      "     Web urlopen url: https://api.stlouisfed.org/fred/series?series_id=TLCADCON\n",
      "     Web urlopen url: https://api.stlouisfed.org/fred/series?series_id=TLCADCONS\n",
      "     Web urlopen url: https://api.stlouisfed.org/fred/series?series_id=TLCMUCON\n",
      "     Web urlopen url: https://api.stlouisfed.org/fred/series?series_id=TLCMUCONS\n",
      "     Web urlopen url: https://api.stlouisfed.org/fred/series?series_id=TLCOMCON\n",
      "     Web urlopen url: https://api.stlouisfed.org/fred/series?series_id=TLCOMCONS\n",
      "     Web urlopen url: https://api.stlouisfed.org/fred/series?series_id=TLEDUCON\n",
      "     Web urlopen url: https://api.stlouisfed.org/fred/series?series_id=TLEDUCONS\n",
      "     Web urlopen url: https://api.stlouisfed.org/fred/series?series_id=TLHLTHCON\n",
      "     Web urlopen url: https://api.stlouisfed.org/fred/series?series_id=TLHLTHCONS\n",
      "     Web urlopen url: https://api.stlouisfed.org/fred/series?series_id=TLHWYCON\n",
      "     Web urlopen url: https://api.stlouisfed.org/fred/series?series_id=TLHWYCONS\n",
      "     Web urlopen url: https://api.stlouisfed.org/fred/series?series_id=TLLODGCON\n",
      "     Web urlopen url: https://api.stlouisfed.org/fred/series?series_id=TLLODGCONS\n",
      "     Web urlopen url: https://api.stlouisfed.org/fred/series?series_id=TLMFGCON\n",
      "     Web urlopen url: https://api.stlouisfed.org/fred/series?series_id=TLMFGCONS\n",
      "     Web urlopen url: https://api.stlouisfed.org/fred/series?series_id=TLNRESCON\n",
      "     Web urlopen url: https://api.stlouisfed.org/fred/series?series_id=TLNRESCONS\n",
      "     Web urlopen url: https://api.stlouisfed.org/fred/series?series_id=TLOFCON\n",
      "     Web urlopen url: https://api.stlouisfed.org/fred/series?series_id=TLOFCONS\n",
      "     Web urlopen url: https://api.stlouisfed.org/fred/series?series_id=TLPBLCON\n",
      "     Web urlopen url: https://api.stlouisfed.org/fred/series?series_id=TLPBLCONS\n",
      "     Web urlopen url: https://api.stlouisfed.org/fred/series?series_id=TLPRVCON\n",
      "     Web urlopen url: https://api.stlouisfed.org/fred/series?series_id=TLPRVCONS\n",
      "     Web urlopen url: https://api.stlouisfed.org/fred/series?series_id=TLPSCON\n",
      "     Web urlopen url: https://api.stlouisfed.org/fred/series?series_id=TLPSCONS\n",
      "     Web urlopen url: https://api.stlouisfed.org/fred/series?series_id=TLPWRCON\n",
      "     Web urlopen url: https://api.stlouisfed.org/fred/series?series_id=TLPWRCONS\n",
      "     Web urlopen url: https://api.stlouisfed.org/fred/series?series_id=TLRELCON\n",
      "     Web urlopen url: https://api.stlouisfed.org/fred/series?series_id=TLRELCONS\n",
      "     Web urlopen url: https://api.stlouisfed.org/fred/series?series_id=TLRESCON\n",
      "     Web urlopen url: https://api.stlouisfed.org/fred/series?series_id=TLRESCONS\n",
      "     Web urlopen url: https://api.stlouisfed.org/fred/series?series_id=TLSWDCON\n",
      "     Web urlopen url: https://api.stlouisfed.org/fred/series?series_id=TLSWDCONS\n",
      "     Web urlopen url: https://api.stlouisfed.org/fred/series?series_id=TLTRANSCON\n",
      "     Web urlopen url: https://api.stlouisfed.org/fred/series?series_id=TLTRANSCONS\n",
      "     Web urlopen url: https://api.stlouisfed.org/fred/series?series_id=TLWSCON\n",
      "     Web urlopen url: https://api.stlouisfed.org/fred/series?series_id=TLWSCONS\n",
      "     Web urlopen url: https://api.stlouisfed.org/fred/series?series_id=TTLCON\n",
      "     Web urlopen url: https://api.stlouisfed.org/fred/series?series_id=TTLCONS\n"
     ]
    },
    {
     "data": {
      "text/markdown": [
       "|id|title|popularity|frequency|units|\n",
       "|-|-|-|-|-|\n",
       "|TTLCONS|Total Construction Spending|63|Monthly|Millions of Dollars\n",
       "|TLNRESCONS|Total Construction Spending: Nonresidential|57|Monthly|Millions of Dollars\n",
       "|TLPBLCONS|Total Public Construction Spending|49|Monthly|Millions of Dollars\n",
       "|TLRESCONS|Total Construction Spending: Residential|46|Monthly|Millions of Dollars\n",
       "|PRRESCONS|Total Private Construction Spending: Residential|46|Monthly|Millions of Dollars\n",
       "|TLHWYCONS|Total Construction Spending: Highway and street|44|Monthly|Millions of Dollars\n",
       "|TLCOMCONS|Total Construction Spending: Commercial|41|Monthly|Millions of Dollars\n",
       "|PNRESCON|Total Private Construction Spending: Nonresidential|40|Monthly|Millions of Dollars\n",
       "|TTLCON|Total Construction Spending|38|Monthly|Millions of Dollars\n",
       "|TLPRVCONS|Total Private Construction Spending|38|Monthly|Millions of Dollars\n",
       "|PRCMUCON|Total Private Construction Spending: Communication|36|Monthly|Millions of Dollars\n",
       "|PNRESCONS|Total Private Construction Spending: Nonresidential|36|Monthly|Millions of Dollars\n",
       "|TLHLTHCONS|Total Construction Spending: Health Care|32|Monthly|Millions of Dollars\n",
       "|TLOFCONS|Total Construction Spending: Office|32|Monthly|Millions of Dollars\n",
       "|TLPBLCON|Total Public Construction Spending|30|Monthly|Millions of Dollars\n",
       "|TLNRESCON|Total Construction Spending: Nonresidential|29|Monthly|Millions of Dollars\n",
       "|TLWSCON|Total Construction Spending: Water Supply|29|Monthly|Millions of Dollars\n",
       "|PRCOMCONS|Total Private Construction Spending: Commercial|29|Monthly|Millions of Dollars\n",
       "|PBNRESCONS|Total Public Construction Spending: Nonresidential|28|Monthly|Millions of Dollars\n",
       "|TLCOMCON|Total Construction Spending: Commercial|27|Monthly|Millions of Dollars\n",
       "|TLRESCON|Total Construction Spending: Residential|27|Monthly|Millions of Dollars\n",
       "|TLMFGCON|Total Construction Spending: Manufacturing|26|Monthly|Millions of Dollars\n",
       "|PBHWYCONS|Total Public Construction Spending: Highway and street|25|Monthly|Millions of Dollars\n",
       "|TLWSCONS|Total Construction Spending: Water Supply|24|Monthly|Millions of Dollars\n",
       "|PROFCONS|Total Private Construction Spending: Office|24|Monthly|Millions of Dollars\n",
       "|TLEDUCONS|Total Construction Spending: Educational|23|Monthly|Millions of Dollars\n",
       "|TLHWYCON|Total Construction Spending: Highway and street|23|Monthly|Millions of Dollars\n",
       "|TLRELCON|Total Construction Spending: Religious|23|Monthly|Millions of Dollars\n",
       "|PRMFGCONS|Total Private Construction Spending: Manufacturing|23|Monthly|Millions of Dollars\n",
       "|PRRESCON|Total Private Construction Spending: Residential|23|Monthly|Millions of Dollars\n",
       "|PBWSCON|Total Public Construction Spending: Water Supply|23|Monthly|Millions of Dollars\n",
       "|TLSWDCON|Total Construction Spending: Sewage and waste disposal|20|Monthly|Millions of Dollars\n",
       "|PBTRANSCONS|Total Public Construction Spending: Transportation|20|Monthly|Millions of Dollars\n",
       "|TLPWRCON|Total Construction Spending: Power|19|Monthly|Millions of Dollars\n",
       "|TLSWDCONS|Total Construction Spending: Sewage and waste disposal|19|Monthly|Millions of Dollars\n",
       "|PRCOMCON|Total Private Construction Spending: Commercial|19|Monthly|Millions of Dollars\n",
       "|PLODGCONS|Total Private Construction Spending: Lodging|19|Monthly|Millions of Dollars\n",
       "|PBRESCON|Total Public Construction Spending: Residential|19|Monthly|Millions of Dollars\n",
       "|PBWSCONS|Total Public Construction Spending: Water Supply|19|Monthly|Millions of Dollars\n",
       "|TLLODGCONS|Total Construction Spending: Lodging|18|Monthly|Millions of Dollars\n",
       "|TLMFGCONS|Total Construction Spending: Manufacturing|18|Monthly|Millions of Dollars\n",
       "|TLPWRCONS|Total Construction Spending: Power|16|Monthly|Millions of Dollars\n",
       "|TLRELCONS|Total Construction Spending: Religious|16|Monthly|Millions of Dollars\n",
       "|PRHLTHCONS|Total Private Construction Spending: Health Care|16|Monthly|Millions of Dollars\n",
       "|PBSWGCON|Total Public Construction Spending: Sewage and waste disp...|16|Monthly|Millions of Dollars\n",
       "|TLEDUCON|Total Construction Spending: Educational|14|Monthly|Millions of Dollars\n",
       "|TLOFCON|Total Construction Spending: Office|14|Monthly|Millions of Dollars\n",
       "|TLPSCON|Total Construction Spending: Public Safety|14|Monthly|Millions of Dollars\n",
       "|TLTRANSCONS|Total Construction Spending: Transportation|14|Monthly|Millions of Dollars\n",
       "|PRCMUCONS|Total Private Construction Spending: Communication|14|Monthly|Millions of Dollars\n",
       "|TLAMUSCONS|Total Construction Spending: Amusement and recreation|11|Monthly|Millions of Dollars\n",
       "|TLCMUCON|Total Construction Spending: Communication|11|Monthly|Millions of Dollars\n",
       "|PRAMUSCONS|Total Private Construction Spending: Amusement and recrea...|11|Monthly|Millions of Dollars\n",
       "|PREDUCONS|Total Private Construction Spending: Educational|11|Monthly|Millions of Dollars\n",
       "|PRRELCONS|Total Private Construction Spending: Religious|11|Monthly|Millions of Dollars\n",
       "|PRTRANSCONS|Total Private Construction Spending: Transportation|11|Monthly|Millions of Dollars\n",
       "|PBEDUCONS|Total Public Construction Spending: Educational|11|Monthly|Millions of Dollars\n",
       "|TLCMUCONS|Total Construction Spending: Communication|7|Monthly|Millions of Dollars\n",
       "|TLHLTHCON|Total Construction Spending: Health Care|7|Monthly|Millions of Dollars\n",
       "|TLPRVCON|Total Private Construction Spending|7|Monthly|Millions of Dollars\n",
       "|PRMFGCON|Total Private Construction Spending: Manufacturing|7|Monthly|Millions of Dollars\n",
       "|PRPWRCONS|Total Private Construction Spending: Power|7|Monthly|Millions of Dollars\n",
       "|PBEDUCON|Total Public Construction Spending: Educational|7|Monthly|Millions of Dollars\n",
       "|PBRESCONS|Total Public Construction Spending: Residential|7|Monthly|Millions of Dollars\n",
       "|TLAMUSCON|Total Construction Spending: Amusement and recreation|0|Monthly|Millions of Dollars\n",
       "|TLCADCON|Total Construction Spending: Conservation and development|0|Monthly|Millions of Dollars\n",
       "|TLCADCONS|Total Construction Spending: Conservation and development|0|Monthly|Millions of Dollars\n",
       "|TLLODGCON|Total Construction Spending: Lodging|0|Monthly|Millions of Dollars\n",
       "|TLPSCONS|Total Construction Spending: Public Safety|0|Monthly|Millions of Dollars\n",
       "|TLTRANSCON|Total Construction Spending: Transportation|0|Monthly|Millions of Dollars\n",
       "|PRAMUSCON|Total Private Construction Spending: Amusement and recrea...|0|Monthly|Millions of Dollars\n",
       "|PREDUCON|Total Private Construction Spending: Educational|0|Monthly|Millions of Dollars\n",
       "|PRHLTHCON|Total Private Construction Spending: Health Care|0|Monthly|Millions of Dollars\n",
       "|PLODGCON|Total Private Construction Spending: Lodging|0|Monthly|Millions of Dollars\n",
       "|PROFCON|Total Private Construction Spending: Office|0|Monthly|Millions of Dollars\n",
       "|PRPWRCON|Total Private Construction Spending: Power|0|Monthly|Millions of Dollars\n",
       "|PRRELCON|Total Private Construction Spending: Religious|0|Monthly|Millions of Dollars\n",
       "|PRTRANSCON|Total Private Construction Spending: Transportation|0|Monthly|Millions of Dollars\n",
       "|PBAMUSCON|Total Public Construction Spending: Amusement and recreation|0|Monthly|Millions of Dollars\n",
       "|PBAMUSCONS|Total Public Construction Spending: Amusement and recreation|0|Monthly|Millions of Dollars\n",
       "|PBCOMCON|Total Public Construction Spending: Commercial|0|Monthly|Millions of Dollars\n",
       "|PBCOMCONS|Total Public Construction Spending: Commercial|0|Monthly|Millions of Dollars\n",
       "|PBCADCON|Total Public Construction Spending: Conservation and deve...|0|Monthly|Millions of Dollars\n",
       "|PBCADCONS|Total Public Construction Spending: Conservation and deve...|0|Monthly|Millions of Dollars\n",
       "|PBHLTHCON|Total Public Construction Spending: Health Care|0|Monthly|Millions of Dollars\n",
       "|PBHLTHCONS|Total Public Construction Spending: Health Care|0|Monthly|Millions of Dollars\n",
       "|PBHWYCON|Total Public Construction Spending: Highway and street|0|Monthly|Millions of Dollars\n",
       "|PBNRESCON|Total Public Construction Spending: Nonresidential|0|Monthly|Millions of Dollars\n",
       "|PBOFCON|Total Public Construction Spending: Office|0|Monthly|Millions of Dollars\n",
       "|PBOFCONS|Total Public Construction Spending: Office|0|Monthly|Millions of Dollars\n",
       "|PBPWRCON|Total Public Construction Spending: Power|0|Monthly|Millions of Dollars\n",
       "|PBPWRCONS|Total Public Construction Spending: Power|0|Monthly|Millions of Dollars\n",
       "|PBPSCON|Total Public Construction Spending: Public Safety|0|Monthly|Millions of Dollars\n",
       "|PBPSCONS|Total Public Construction Spending: Public Safety|0|Monthly|Millions of Dollars\n",
       "|PBSWGCONS|Total Public Construction Spending: Sewage and waste disp...|0|Monthly|Millions of Dollars\n",
       "|PBTRANSCON|Total Public Construction Spending: Transportation|0|Monthly|Millions of Dollars"
      ],
      "text/plain": [
       "<IPython.core.display.Markdown object>"
      ]
     },
     "metadata": {},
     "output_type": "display_data"
    }
   ],
   "source": [
    "with PrintMonitor(include='Web'):\n",
    "    fc = FredCategory.get('32436', db=db, create=True)\n",
    "    fc.display()"
   ]
  }
 ],
 "metadata": {
  "kernelspec": {
   "display_name": "Python 2",
   "language": "python",
   "name": "python2"
  },
  "language_info": {
   "codemirror_mode": {
    "name": "ipython",
    "version": 2
   },
   "file_extension": ".py",
   "mimetype": "text/x-python",
   "name": "python",
   "nbconvert_exporter": "python",
   "pygments_lexer": "ipython2",
   "version": "2.7.13"
  }
 },
 "nbformat": 4,
 "nbformat_minor": 2
}
