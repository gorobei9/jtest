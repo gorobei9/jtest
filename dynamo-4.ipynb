{
 "cells": [
  {
   "cell_type": "markdown",
   "metadata": {},
   "source": [
    "# RefData and Workflow demos.\n",
    "\n",
    "This is just the dynamo-3 notebook with the core classes refactoring into the mand library."
   ]
  },
  {
   "cell_type": "code",
   "execution_count": 1,
   "metadata": {
    "collapsed": false,
    "scrolled": false
   },
   "outputs": [],
   "source": [
    "import mand.core\n",
    "\n",
    "from mand.core import ObjectDb, DynamoDbDriver, ddb, _tr, PrintMonitor\n",
    "\n",
    "db = ObjectDb()\n",
    "\n",
    "from mand.lib.dbsetup import setUpDb\n",
    "setUpDb(db)"
   ]
  },
  {
   "cell_type": "code",
   "execution_count": 2,
   "metadata": {
    "collapsed": false,
    "scrolled": false
   },
   "outputs": [
    {
     "name": "stdout",
     "output_type": "stream",
     "text": [
      "<Entity:/Global/CustomerRefData/Customer123> activeEvents:\n"
     ]
    },
    {
     "data": {
      "text/markdown": [
       "|_validTime|fullName|address|company|_entityName|\n",
       "|-|-|-|-|-|\n",
       "|2017-03-27T21:03:43.867859|Eliza Smith|10 Main St|Frobozz Magic Avocado Company|Customer123\n",
       "|2017-03-27T21:03:43.899238|None|None|Frobozz Magic Fruit Company|Customer123\n",
       "|2017-03-27T21:03:43.913132|Eliza James|None|None|Customer123\n"
      ],
      "text/plain": [
       "<IPython.core.display.Markdown object>"
      ]
     },
     "metadata": {},
     "output_type": "display_data"
    },
    {
     "name": "stdout",
     "output_type": "stream",
     "text": [
      "Clock is at: None\n",
      "data: Eliza James works for Frobozz Magic Fruit Company, located at 10 Main St\n",
      "\n",
      "<Entity:/Global/CustomerRefData/Customer123> _visibleEvents:\n"
     ]
    },
    {
     "data": {
      "text/markdown": [
       "|_validTime|fullName|address|company|_entityName|\n",
       "|-|-|-|-|-|\n",
       "|2017-03-27T21:03:43.867859|Eliza Smith|10 Main St|Frobozz Magic Avocado Company|Customer123\n",
       "|2017-03-27T21:03:43.886332|None|None|Frobozz Magic Friut Company|Customer123\n",
       "|2017-03-27T21:03:43.899238|None|None|Frobozz Magic Fruit Company|Customer123\n",
       "|2017-03-27T21:03:43.913132|Eliza James|None|None|Customer123\n"
      ],
      "text/plain": [
       "<IPython.core.display.Markdown object>"
      ]
     },
     "metadata": {},
     "output_type": "display_data"
    },
    {
     "name": "stdout",
     "output_type": "stream",
     "text": [
      "<Entity:/Global/CustomerRefData/Customer123> activeEvents:\n"
     ]
    },
    {
     "data": {
      "text/markdown": [
       "|_validTime|fullName|address|company|_entityName|\n",
       "|-|-|-|-|-|\n",
       "|2017-03-27T21:03:43.867859|Eliza Smith|10 Main St|Frobozz Magic Avocado Company|Customer123\n",
       "|2017-03-27T21:03:43.899238|None|None|Frobozz Magic Fruit Company|Customer123\n",
       "|2017-03-27T21:03:43.913132|Eliza James|None|None|Customer123\n"
      ],
      "text/plain": [
       "<IPython.core.display.Markdown object>"
      ]
     },
     "metadata": {},
     "output_type": "display_data"
    },
    {
     "name": "stdout",
     "output_type": "stream",
     "text": [
      "\n",
      "\n",
      "Clock is at: <TS:t=2017-03-27T21:03:43.881598,v=2017-03-27T21:03:43.881595>\n",
      "data: Eliza Smith works for Frobozz Magic Avocado Company, located at 10 Main St\n",
      "\n",
      "<Entity:/Global/CustomerRefData/Customer123> _visibleEvents:\n"
     ]
    },
    {
     "data": {
      "text/markdown": [
       "|_validTime|fullName|address|company|_entityName|\n",
       "|-|-|-|-|-|\n",
       "|2017-03-27T21:03:43.867859|Eliza Smith|10 Main St|Frobozz Magic Avocado Company|Customer123\n"
      ],
      "text/plain": [
       "<IPython.core.display.Markdown object>"
      ]
     },
     "metadata": {},
     "output_type": "display_data"
    },
    {
     "name": "stdout",
     "output_type": "stream",
     "text": [
      "<Entity:/Global/CustomerRefData/Customer123> activeEvents:\n"
     ]
    },
    {
     "data": {
      "text/markdown": [
       "|_validTime|fullName|address|company|_entityName|\n",
       "|-|-|-|-|-|\n",
       "|2017-03-27T21:03:43.867859|Eliza Smith|10 Main St|Frobozz Magic Avocado Company|Customer123\n"
      ],
      "text/plain": [
       "<IPython.core.display.Markdown object>"
      ]
     },
     "metadata": {},
     "output_type": "display_data"
    },
    {
     "name": "stdout",
     "output_type": "stream",
     "text": [
      "\n",
      "\n",
      "original db  : <mand.db.ObjectDb object at 0x109192090>: 13, mem=True, ro=False: entities=14, map=6\n",
      "new client db: <mand.db.ObjectDb object at 0x10a309fd0>: 13, mem=True, ro=False: entities=14, map=6\n",
      "\n",
      "current: Eliza James\n",
      "at ts1 : Eliza Smith\n",
      "\n",
      "Prod db: <mand.db.ObjectDb object at 0x109192090>: 13, mem=True, ro=False: entities=14, map=6\n",
      "\n",
      "in production:\n",
      "data: Eliza James works for Frobozz Magic Fruit Company, located at 10 Main St\n",
      "deleting union event: <Entity:/Global/CustomerRefDataUpdateEvent/7e145124-6f49-4a00-be3b-7def2bea827d> (O14:O13)\n",
      "\n",
      "in union:\n",
      "data: Eliza Smith works for Frobozz Magic Fruit Company, located at 10 Main St\n",
      "in production:\n",
      "data: Eliza James works for Frobozz Magic Fruit Company, located at 10 Main St\n",
      "Prod db: <mand.db.ObjectDb object at 0x109192090>: 13, mem=True, ro=False: entities=14, map=6\n",
      "New db: <mand.db.ObjectDb object at 0x10a320110>: 14, mem=True, ro=False: entities=2, map=1\n",
      "Union db: (<mand.db.ObjectDb object at 0x10a320110>: 14, mem=True, ro=False: entities=2, map=1 <mand.db.ObjectDb object at 0x109192090>: 13, mem=True, ro=False: entities=14, map=6)\n",
      "Line item end of day:\n",
      "data: Joe James works for Frobozz Magic Lamp Company, located at 235 W 76\n",
      "Line item end of day (rerun):\n",
      "data: Joe James works for Frobozz Magic Lamp Company, located at 235 W 76\n",
      "\n",
      "Line item generated from corrected end of day report:\n",
      "data: Joe James works for Frobozz Magic Lamp Company, located at 1 First Ave\n",
      "\n",
      "Current line item:\n",
      "data: Joe James works for Frobozz Magic Illumination Company, located at 1 First Ave\n"
     ]
    }
   ],
   "source": [
    "import mand.demos.refdata\n",
    "\n",
    "#with PrintMonitor():\n",
    "mand.demos.refdata.main(db)"
   ]
  },
  {
   "cell_type": "code",
   "execution_count": 3,
   "metadata": {
    "collapsed": false,
    "scrolled": false
   },
   "outputs": [
    {
     "name": "stdout",
     "output_type": "stream",
     "text": [
      "Status:\n",
      "    Workbook Customer123:\n",
      "\n",
      "    Workbook Customer.joe:\n",
      "\n",
      "    Workbook Helpdesk:\n",
      "\n",
      "    Workbook Fire Department:\n",
      "\n",
      "Status:\n",
      "    Workbook Customer123:\n",
      "        Ticket 0ad94f21-4dd3-40b9-9951-d364c573cf89, , waiting on Helpdesk (1 events, 1 active)\n",
      "           New, 2f417b74-24df-4913-a12f-ca8f810b79e5: raised with: Helpdesk, msg: Help, I forgot my password\n",
      "\n",
      "    Workbook Customer.joe:\n",
      "        Ticket 68ad4288-4440-49d0-9fec-7bcbb99c1ac1, , waiting on Helpdesk (1 events, 1 active)\n",
      "           New, b43e064b-3da3-4d09-9c9d-c02b3b600861: raised with: Helpdesk, msg: Help! My computer is smoking\n",
      "\n",
      "    Workbook Helpdesk:\n",
      "        Ticket 0ad94f21-4dd3-40b9-9951-d364c573cf89, , raised by Customer123 (1 events, 1 active)\n",
      "           New, 2f417b74-24df-4913-a12f-ca8f810b79e5: raised by: Customer123, msg: Help, I forgot my password\n",
      "        Ticket 68ad4288-4440-49d0-9fec-7bcbb99c1ac1, , raised by Customer.joe (1 events, 1 active)\n",
      "           New, b43e064b-3da3-4d09-9c9d-c02b3b600861: raised by: Customer.joe, msg: Help! My computer is smoking\n",
      "\n",
      "    Workbook Fire Department:\n",
      "\n",
      "Status:\n",
      "    Workbook Customer123:\n",
      "        Ticket f8f23b9b-db1c-440c-99bd-6c26294b3be2, , waiting on Helpdesk (1 events, 1 active)\n",
      "           New, 21471bf3-8ed0-423b-8a36-0fe1c6a3e964: raised with: Helpdesk, msg: My mouse is broken\n",
      "        Ticket 0ad94f21-4dd3-40b9-9951-d364c573cf89, , waiting on Helpdesk (1 events, 1 active)\n",
      "           New, 2f417b74-24df-4913-a12f-ca8f810b79e5: raised with: Helpdesk, msg: Help, I forgot my password\n",
      "\n",
      "    Workbook Customer.joe:\n",
      "        Ticket 68ad4288-4440-49d0-9fec-7bcbb99c1ac1, , waiting on Helpdesk (2 events, 1 active)\n",
      "           New, 03db302b-f734-476b-9550-d071f4c693ed: raised with: Helpdesk, msg: Help! My computer is on fire!\n",
      "\n",
      "    Workbook Helpdesk:\n",
      "        Ticket f8f23b9b-db1c-440c-99bd-6c26294b3be2, , raised by Customer123 (1 events, 1 active)\n",
      "           New, 21471bf3-8ed0-423b-8a36-0fe1c6a3e964: raised by: Customer123, msg: My mouse is broken\n",
      "        Ticket 0ad94f21-4dd3-40b9-9951-d364c573cf89, , raised by Customer123 (1 events, 1 active)\n",
      "           New, 2f417b74-24df-4913-a12f-ca8f810b79e5: raised by: Customer123, msg: Help, I forgot my password\n",
      "        Ticket 68ad4288-4440-49d0-9fec-7bcbb99c1ac1, , raised by Customer.joe (2 events, 1 active)\n",
      "           New, 03db302b-f734-476b-9550-d071f4c693ed: raised by: Customer.joe, msg: Help! My computer is on fire!\n",
      "\n",
      "    Workbook Fire Department:\n",
      "\n",
      "Status:\n",
      "    Workbook Customer123:\n",
      "        Ticket f8f23b9b-db1c-440c-99bd-6c26294b3be2, , waiting on Helpdesk (2 events, 2 active)\n",
      "           New, 21471bf3-8ed0-423b-8a36-0fe1c6a3e964: raised with: Helpdesk, msg: My mouse is broken\n",
      "           Message: Actually, only the right mouse button is bad, so just rep...\n",
      "        Ticket 0ad94f21-4dd3-40b9-9951-d364c573cf89, , waiting on Helpdesk (1 events, 1 active)\n",
      "           New, 2f417b74-24df-4913-a12f-ca8f810b79e5: raised with: Helpdesk, msg: Help, I forgot my password\n",
      "\n",
      "    Workbook Customer.joe:\n",
      "        Ticket 68ad4288-4440-49d0-9fec-7bcbb99c1ac1, , waiting on Fire Department (4 events, 3 active)\n",
      "           New, 03db302b-f734-476b-9550-d071f4c693ed: raised with: Helpdesk, msg: Help! My computer is on fire!\n",
      "           Transfer, 6ae9f7d7-e0f1-438d-8d0c-295d450a10cc: Helpdesk -> Fire Department\n",
      "           Message: Um, the smoke is making it hard to see my desk.\n",
      "\n",
      "    Workbook Helpdesk:\n",
      "        Ticket f8f23b9b-db1c-440c-99bd-6c26294b3be2, , raised by Customer123 (2 events, 2 active)\n",
      "           New, 21471bf3-8ed0-423b-8a36-0fe1c6a3e964: raised by: Customer123, msg: My mouse is broken\n",
      "           Message: Actually, only the right mouse button is bad, so just rep...\n",
      "        Ticket 0ad94f21-4dd3-40b9-9951-d364c573cf89, , raised by Customer123 (1 events, 1 active)\n",
      "           New, 2f417b74-24df-4913-a12f-ca8f810b79e5: raised by: Customer123, msg: Help, I forgot my password\n",
      "\n",
      "    Workbook Fire Department:\n",
      "        Ticket 68ad4288-4440-49d0-9fec-7bcbb99c1ac1, , raised by Customer.joe (4 events, 3 active)\n",
      "           New, 03db302b-f734-476b-9550-d071f4c693ed: ???, msg: Help! My computer is on fire!\n",
      "           Transfer, 6ae9f7d7-e0f1-438d-8d0c-295d450a10cc: Helpdesk -> Fire Department\n",
      "           Message: Um, the smoke is making it hard to see my desk.\n",
      "\n",
      "Status:\n",
      "    Workbook Customer123:\n",
      "        Ticket f8f23b9b-db1c-440c-99bd-6c26294b3be2, , waiting on Helpdesk (2 events, 2 active)\n",
      "           New, 21471bf3-8ed0-423b-8a36-0fe1c6a3e964: raised with: Helpdesk, msg: My mouse is broken\n",
      "           Message: Actually, only the right mouse button is bad, so just rep...\n",
      "\n",
      "    Workbook Customer.joe:\n",
      "        Ticket 68ad4288-4440-49d0-9fec-7bcbb99c1ac1, , waiting on Fire Department (4 events, 3 active)\n",
      "           New, 03db302b-f734-476b-9550-d071f4c693ed: raised with: Helpdesk, msg: Help! My computer is on fire!\n",
      "           Transfer, 6ae9f7d7-e0f1-438d-8d0c-295d450a10cc: Helpdesk -> Fire Department\n",
      "           Message: Um, the smoke is making it hard to see my desk.\n",
      "\n",
      "    Workbook Helpdesk:\n",
      "        Ticket f8f23b9b-db1c-440c-99bd-6c26294b3be2, , raised by Customer123 (2 events, 2 active)\n",
      "           New, 21471bf3-8ed0-423b-8a36-0fe1c6a3e964: raised by: Customer123, msg: My mouse is broken\n",
      "           Message: Actually, only the right mouse button is bad, so just rep...\n",
      "\n",
      "    Workbook Fire Department:\n",
      "        Ticket 68ad4288-4440-49d0-9fec-7bcbb99c1ac1, , raised by Customer.joe (4 events, 3 active)\n",
      "           New, 03db302b-f734-476b-9550-d071f4c693ed: ???, msg: Help! My computer is on fire!\n",
      "           Transfer, 6ae9f7d7-e0f1-438d-8d0c-295d450a10cc: Helpdesk -> Fire Department\n",
      "           Message: Um, the smoke is making it hard to see my desk.\n",
      "\n"
     ]
    },
    {
     "data": {
      "text/markdown": [
       "|action|book1|book2|message|\n",
       "|-|-|-|-|\n",
       "|open|Workbook: Customer.joe|Workbook: Helpdesk|Help! My computer is smoking\n",
       "|open|Workbook: Customer.joe|Workbook: Helpdesk|Help! My computer is on fire!\n",
       "|escalate|Workbook: Helpdesk|Workbook: Fire Department| \n",
       "|message| | |Um, the smoke is making it hard to see my desk.\n"
      ],
      "text/plain": [
       "<IPython.core.display.Markdown object>"
      ]
     },
     "metadata": {},
     "output_type": "display_data"
    },
    {
     "name": "stdout",
     "output_type": "stream",
     "text": [
      "\n"
     ]
    },
    {
     "data": {
      "text/markdown": [
       "|action|book1|book2|message|\n",
       "|-|-|-|-|\n",
       "|open|Workbook: Customer.joe|Workbook: Helpdesk|Help! My computer is on fire!\n",
       "|escalate|Workbook: Helpdesk|Workbook: Fire Department| \n",
       "|message| | |Um, the smoke is making it hard to see my desk.\n"
      ],
      "text/plain": [
       "<IPython.core.display.Markdown object>"
      ]
     },
     "metadata": {},
     "output_type": "display_data"
    },
    {
     "name": "stdout",
     "output_type": "stream",
     "text": [
      "<Entity:/Global/CustomerRefData/Customer.joe>\n",
      "<Clock: /Global/Clock/Workflow:/Global/RootClock/Main>\n",
      "<Clock: /Global/Clock/RefData:/Global/RootClock/Main>\n"
     ]
    }
   ],
   "source": [
    "import mand.demos.workflow\n",
    "\n",
    "mand.demos.workflow.main(db)"
   ]
  }
 ],
 "metadata": {
  "kernelspec": {
   "display_name": "Python 2",
   "language": "python",
   "name": "python2"
  },
  "language_info": {
   "codemirror_mode": {
    "name": "ipython",
    "version": 2
   },
   "file_extension": ".py",
   "mimetype": "text/x-python",
   "name": "python",
   "nbconvert_exporter": "python",
   "pygments_lexer": "ipython2",
   "version": "2.7.13"
  }
 },
 "nbformat": 4,
 "nbformat_minor": 2
}
