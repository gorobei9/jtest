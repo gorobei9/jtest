{
 "cells": [
  {
   "cell_type": "markdown",
   "metadata": {},
   "source": [
    "# A simple profiler\n",
    "\n",
    "This is the first cut at a simple time-spent profiler for nodes. \n",
    "\n",
    "The code to profile is just the previously defined FRED code.\n",
    "\n",
    "Although primitive, the profiler output does show a few things:\n",
    "1. The bulk of the time is spent in fetching data pages.\n",
    "2. The ExternalRefData.state method is a mess:\n",
    " * It should load data pages lazily, not deeply in the EncDec mechanics\n",
    " * The low-level ObjMeta/dataField code hides some stuff we would like to expose at the node level\n",
    "3. Wow, this code is quite slow. Especially when my laptop is overheating:\n",
    " * We'll fix the slowness later"
   ]
  },
  {
   "cell_type": "code",
   "execution_count": 1,
   "metadata": {
    "collapsed": false
   },
   "outputs": [],
   "source": [
    "import mand.core\n",
    "\n",
    "from mand.core import Entity, node, Context, _tr, ObjectDb, _DBO, EncDec\n",
    "from mand.core import displayDict, displayListOfDicts\n",
    "from mand.core import Monitor, PrintMonitor, SummaryMonitor\n",
    "from mand.lib.extrefdata import ExternalRefData, dataField\n",
    "\n",
    "from mand.user.refdata.FRED import FredManager, FredSeries, FredCategory\n",
    "\n",
    "db = ObjectDb(name='production-1', inMem=False, ro=True)\n",
    "\n",
    "%matplotlib inline\n"
   ]
  },
  {
   "cell_type": "code",
   "execution_count": 2,
   "metadata": {
    "collapsed": false
   },
   "outputs": [],
   "source": [
    "import time\n",
    "\n",
    "class ProfileMonitor(Monitor):\n",
    "\n",
    "    def __init__(self, mode=None):\n",
    "        self.stack = []\n",
    "        self.result = []\n",
    "        self.mode = mode\n",
    "        \n",
    "    def message(self, sys, depthInc, action, **kw):\n",
    "        if depthInc == 1:\n",
    "            v = [kw, time.clock(), 0]\n",
    "            self.stack.append(v)\n",
    "            \n",
    "        if depthInc == -1:\n",
    "            kw, start, tSub = self.stack.pop()\n",
    "            t = time.clock() - start\n",
    "            tFn = t - tSub\n",
    "            if self.stack:\n",
    "                self.stack[-1][-1] += t\n",
    "            \n",
    "            self.result.append((tFn, t, sys, kw))\n",
    "             \n",
    "    def dumpRaw(self):\n",
    "        for tFn, t, sys, kw in self.result:\n",
    "            key = self.kwToStr(kw)\n",
    "            print '%8.4f %8.4f %-16s: %s' % (tFn, t, sys, key)\n",
    "            \n",
    "    def displaySum(self):\n",
    "        n = {}\n",
    "        cumT = {}\n",
    "        cumTCalc = {}\n",
    "        tScale = 1e6\n",
    "        for tFn, t, sys, kw in self.result:\n",
    "            if sys == 'Db.Get': # XXX - this should get its own key.\n",
    "                fn = kw.get('value', '//').split('/')[2]\n",
    "            else:\n",
    "                fn = kw.get('key', (None, ''))[1]\n",
    "            key = (sys, fn)\n",
    "            cumT[key] = cumT.get(key, 0) + t * tScale\n",
    "            cumTCalc[key] = cumTCalc.get(key, 0) + tFn * tScale\n",
    "            n[key] = n.get(key, 0) + 1\n",
    "        res = []\n",
    "        for key in n:\n",
    "            line = { 'n': n[key], \n",
    "                     'cumT': int(cumT[key]),\n",
    "                     'cumT/call': int(cumT[key]/n[key]),\n",
    "                     'calcT': int(cumTCalc[key]),\n",
    "                     'sys': key[0],\n",
    "                     'fn': key[1]}\n",
    "            res.append(line)\n",
    "        res = sorted(res, key=lambda d: -d['cumT'])\n",
    "        print 'Total times are in microseconds'\n",
    "        print '  cumT is total time spent in funtion'\n",
    "        print '  calcT is time spent in function, but not in a child node'\n",
    "        displayListOfDicts(res, names=['fn', 'n', 'cumT', 'calcT', 'cumT/call', 'sys'])\n",
    "    def onExit(self):\n",
    "        mode = self.mode\n",
    "        if mode is None:\n",
    "            self.dumpRaw()\n",
    "        elif mode == 'sum':\n",
    "            self.displaySum()\n",
    "        else:\n",
    "            assert False, 'unknown profiler mode: %s' % mode"
   ]
  },
  {
   "cell_type": "code",
   "execution_count": 3,
   "metadata": {
    "collapsed": false,
    "scrolled": false
   },
   "outputs": [
    {
     "name": "stdout",
     "output_type": "stream",
     "text": [
      "Total times are in microseconds\n",
      "  cumT is total time spent in funtion\n",
      "  calcT is time spent in function, but not in a child node\n"
     ]
    },
    {
     "data": {
      "text/markdown": [
       "|fn|n|cumT|calcT|cumT/call|sys|\n",
       "|-|-|-|-|-|-|\n",
       "|Test:info|1|17678783|33|17678783|GetValue\n",
       "|Test:info|1|17678749|750|17678749|GetValue/Calc\n",
       "|ExternalRefData:state|28|17631710|409|629703|GetValue\n",
       "|ExternalRefData:state|27|17631301|5057|653011|GetValue/Calc\n",
       "|ExternalDataPage|313|17499635|17499635|55909|Db.Get\n",
       "|RefData:state|27|126607|247|4689|GetValue\n",
       "|RefData:state|27|126360|53556|4680|GetValue/Calc\n",
       "|RefDataUpdateEvent|27|67769|67769|2509|Db.Get\n",
       "|FredCategory:series|1|42926|13|42926|GetValue\n",
       "|FredCategory:series|1|42912|441|42912|GetValue/Calc\n",
       "|FredSeries|26|42466|42466|1633|Db.Get\n",
       "|FredCategory|1|3366|3366|3366|Db.Get\n",
       "|RefData:clock|54|2589|457|47|GetValue\n",
       "|Clock:cutoffs|54|2155|207|39|GetValue\n",
       "|RefData:clock|27|2132|319|78|GetValue/Calc\n",
       "|Clock:cutoffs|1|1947|27|1947|GetValue/Calc\n",
       "|Clock:parent|1|1917|10|1917|GetValue\n",
       "|Clock:parent|1|1906|1806|1906|GetValue/Calc\n",
       "|Clock|1|1813|1813|1813|Db.Get\n",
       "|Event:amends|27|162|162|6|GetValue\n",
       "|RefDataUpdateEvent:data|27|126|126|4|GetValue\n",
       "|RootClock:cutoffs|3|70|15|23|GetValue\n",
       "|RootClock:cutoffs|1|55|25|55|GetValue/Calc\n",
       "|Entity:clock|2|32|21|16|GetValue\n",
       "|RootClock:cosmicAll|1|17|9|17|GetValue\n",
       "|CosmicAll:dbState|1|13|8|13|GetValue\n",
       "|Entity:clock|1|10|10|10|GetValue/Calc\n",
       "|RootClock:cosmicAll|1|8|8|8|GetValue/Calc\n",
       "|CosmicAll:dbState|1|4|4|4|GetValue/Calc"
      ],
      "text/plain": [
       "<IPython.core.display.Markdown object>"
      ]
     },
     "metadata": {},
     "output_type": "display_data"
    },
    {
     "name": "stdout",
     "output_type": "stream",
     "text": [
      "count is: 26\n"
     ]
    },
    {
     "data": {
      "text/markdown": [
       "|id|title|\n",
       "|-|-|\n",
       "|DEXBZUS|Brazil / U.S. Foreign Exchange Rate\n",
       "|DEXCAUS|Canada / U.S. Foreign Exchange Rate\n",
       "|DEXCHUS|China / U.S. Foreign Exchange Rate\n",
       "|DEXDNUS|Denmark / U.S. Foreign Exchange Rate\n",
       "|DEXHKUS|Hong Kong / U.S. Foreign Exchange Rate\n",
       "|DEXINUS|India / U.S. Foreign Exchange Rate\n",
       "|DEXJPUS|Japan / U.S. Foreign Exchange Rate\n",
       "|DEXKOUS|South Korea / U.S. Foreign Exchange Rate\n",
       "|DEXMAUS|Malaysia / U.S. Foreign Exchange Rate\n",
       "|DEXMXUS|Mexico / U.S. Foreign Exchange Rate\n",
       "|DEXNOUS|Norway / U.S. Foreign Exchange Rate\n",
       "|DEXSDUS|Sweden / U.S. Foreign Exchange Rate\n",
       "|DEXSFUS|South Africa / U.S. Foreign Exchange Rate\n",
       "|DEXSIUS|Singapore / U.S. Foreign Exchange Rate\n",
       "|DEXSLUS|Sri Lanka / U.S. Foreign Exchange Rate\n",
       "|DEXSZUS|Switzerland / U.S. Foreign Exchange Rate\n",
       "|DEXTAUS|Taiwan / U.S. Foreign Exchange Rate\n",
       "|DEXTHUS|Thailand / U.S. Foreign Exchange Rate\n",
       "|DEXUSAL|U.S. / Australia Foreign Exchange Rate\n",
       "|DEXUSEU|U.S. / Euro Foreign Exchange Rate\n",
       "|DEXUSNZ|U.S. / New Zealand Foreign Exchange Rate\n",
       "|DEXUSUK|U.S. / U.K. Foreign Exchange Rate\n",
       "|DEXVZUS|Venezuela / U.S. Foreign Exchange Rate\n",
       "|DTWEXB|Trade Weighted U.S. Dollar Index: Broad\n",
       "|DTWEXM|Trade Weighted U.S. Dollar Index: Major Currencies\n",
       "|DTWEXO|Trade Weighted U.S. Dollar Index: Other Important Trading..."
      ],
      "text/plain": [
       "<IPython.core.display.Markdown object>"
      ]
     },
     "metadata": {},
     "output_type": "display_data"
    }
   ],
   "source": [
    "class Test(_DBO):\n",
    "    @node\n",
    "    def info(self):\n",
    "        fc = FredCategory.get('94', self.meta.db, create=True)\n",
    "        info = []\n",
    "        if fc.seriesNames():\n",
    "            for s in fc.series():\n",
    "                seriesInfo = s.info()\n",
    "                info.append(dict([ (k, seriesInfo[k]) for k in ['id', 'title'] ]) )\n",
    "        return info\n",
    "        \n",
    "with ProfileMonitor(mode='sum'):\n",
    "    with PrintMonitor(include='Web'):\n",
    "        t = Test('Test', db=db)\n",
    "        info = t.info()\n",
    "        \n",
    "print 'count is:', len(info)\n",
    "displayListOfDicts(info)"
   ]
  },
  {
   "cell_type": "code",
   "execution_count": 4,
   "metadata": {
    "collapsed": false
   },
   "outputs": [
    {
     "name": "stdout",
     "output_type": "stream",
     "text": [
      "Swiss Francs to One U.S. Dollar\n"
     ]
    },
    {
     "data": {
      "image/png": "[encoded data removed]",
      "text/plain": [
       "<matplotlib.figure.Figure at 0x11aad67d0>"
      ]
     },
     "metadata": {},
     "output_type": "display_data"
    },
    {
     "name": "stdout",
     "output_type": "stream",
     "text": [
      "U.S. Dollars to One British Pound\n"
     ]
    },
    {
     "data": {
      "image/png": "[encoded data removed]",
      "text/plain": [
       "<matplotlib.figure.Figure at 0x11f616810>"
      ]
     },
     "metadata": {},
     "output_type": "display_data"
    },
    {
     "name": "stdout",
     "output_type": "stream",
     "text": [
      "U.S. Dollars to One Euro\n"
     ]
    },
    {
     "data": {
      "image/png": "[encoded data removed]",
      "text/plain": [
       "<matplotlib.figure.Figure at 0x10b088a90>"
      ]
     },
     "metadata": {},
     "output_type": "display_data"
    }
   ],
   "source": [
    "chf = FredSeries.get('DEXSZUS', db, create=True)\n",
    "print chf.info()['units']\n",
    "chf.plot()\n",
    "\n",
    "gbp = FredSeries.get('DEXUSUK', db, create=True)\n",
    "print gbp.info()['units']\n",
    "gbp.plot()\n",
    "\n",
    "eur = FredSeries.get('DEXUSEU', db, create=True)\n",
    "print eur.info()['units']\n",
    "eur.plot()"
   ]
  }
 ],
 "metadata": {
  "kernelspec": {
   "display_name": "Python 2",
   "language": "python",
   "name": "python2"
  },
  "language_info": {
   "codemirror_mode": {
    "name": "ipython",
    "version": 2
   },
   "file_extension": ".py",
   "mimetype": "text/x-python",
   "name": "python",
   "nbconvert_exporter": "python",
   "pygments_lexer": "ipython2",
   "version": "2.7.13"
  }
 },
 "nbformat": 4,
 "nbformat_minor": 2
}
