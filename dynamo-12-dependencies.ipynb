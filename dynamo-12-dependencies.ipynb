{
 "cells": [
  {
   "cell_type": "code",
   "execution_count": 1,
   "metadata": {
    "collapsed": false
   },
   "outputs": [],
   "source": [
    "from mand.core import Entity, node, getNode\n",
    "from mand.core import ObjectDb, Timestamp, Context, _tr\n",
    "from mand.core import ProfileMonitor, SummaryMonitor\n",
    "from mand.core import find, addFootnote\n",
    "from mand.demos.trading import makeWorld, bookSomeTrades, PnLExplainReport\n",
    "from mand.lib.dbsetup import setUpDb\n",
    "\n",
    "db = ObjectDb()\n",
    "setUpDb(db)"
   ]
  },
  {
   "cell_type": "code",
   "execution_count": 2,
   "metadata": {
    "collapsed": false,
    "scrolled": false
   },
   "outputs": [
    {
     "name": "stdout",
     "output_type": "stream",
     "text": [
      "makeWorld, TopOfTheHouse is: <Entity:/Global/TradingPortfolio/TopOfTheHouse>\n",
      "    # books: 100\n",
      "    # children: 10\n"
     ]
    }
   ],
   "source": [
    "with db:\n",
    "    pWorld = makeWorld()\n",
    "    \n",
    "pAll, bExt, bExt2 = pWorld.children()\n",
    "p1 = pAll.children()[0]\n",
    "p2 = pAll.children()[1]\n",
    "p4 = pAll.children()[3]\n",
    "\n",
    "b2 = p2.children()[0]\n",
    "b4 = p4.children()[0]"
   ]
  },
  {
   "cell_type": "code",
   "execution_count": 3,
   "metadata": {
    "collapsed": false
   },
   "outputs": [],
   "source": [
    "ts0, ts1, ts2, ts3, ts4, ts5, eod, ts6 = bookSomeTrades(pWorld)\n",
    "\n",
    "p1.setChildren(p1.children() + [b2])\n",
    "ts7 = Timestamp()"
   ]
  },
  {
   "cell_type": "markdown",
   "metadata": {},
   "source": [
    "# Sanity check of a computation we might want to optimize [Test]\n",
    "\n",
    "The PnL report is a good test, but at 152K getValues, it's a bit too big to immediately use:"
   ]
  },
  {
   "cell_type": "code",
   "execution_count": 4,
   "metadata": {
    "collapsed": false,
    "scrolled": false
   },
   "outputs": [
    {
     "data": {
      "text/markdown": [
       "# PnL explain for TopOfTheHouse: 6256.00"
      ],
      "text/plain": [
       "<IPython.core.display.Markdown object>"
      ]
     },
     "metadata": {},
     "output_type": "display_data"
    },
    {
     "data": {
      "text/markdown": [
       "**Caveat: this report encountered problems. See footnotes at bottom.**"
      ],
      "text/plain": [
       "<IPython.core.display.Markdown object>"
      ]
     },
     "metadata": {},
     "output_type": "display_data"
    },
    {
     "data": {
      "text/markdown": [
       "|Activity|PnL|\n",
       "|-|-|\n",
       "|Starting balance breaks|0.00\n",
       "|prior day amends: MarketData|0.00\n",
       "|prior day amends: Portfolio|0.00\n",
       "|prior day amends: Trading|-4.00\n",
       "|activity: MarketData|5240.00\n",
       "|activity: Portfolio|1020.00\n",
       "|activity: Trading|0.00\n",
       "|Ending balance breaks|0.00"
      ],
      "text/plain": [
       "<IPython.core.display.Markdown object>"
      ]
     },
     "metadata": {},
     "output_type": "display_data"
    },
    {
     "data": {
      "text/markdown": [
       "1. Inadequate cash discounting model used\n",
       "1. Book appears multiple times\n",
       "  * /Global/TradingBook/Eq-Inst0"
      ],
      "text/plain": [
       "<IPython.core.display.Markdown object>"
      ]
     },
     "metadata": {},
     "output_type": "display_data"
    },
    {
     "data": {
      "text/markdown": [
       "# Compute activity summary (19.32 seconds of wall clock time)"
      ],
      "text/plain": [
       "<IPython.core.display.Markdown object>"
      ]
     },
     "metadata": {},
     "output_type": "display_data"
    },
    {
     "data": {
      "text/markdown": [
       "|key|value|\n",
       "|-|-|\n",
       "|Context|11\n",
       "|Db.Get|2176\n",
       "|GetValue|152158\n",
       "|GetValue/Calc|2891"
      ],
      "text/plain": [
       "<IPython.core.display.Markdown object>"
      ]
     },
     "metadata": {},
     "output_type": "display_data"
    },
    {
     "data": {
      "text/markdown": [
       "\n",
       "### Profile by nodes.\n",
       "* times are in microseconds\n",
       "* cumT is total time spent in funtion\n",
       "* calcT is time spent in function, but not in a child node"
      ],
      "text/plain": [
       "<IPython.core.display.Markdown object>"
      ]
     },
     "metadata": {},
     "output_type": "display_data"
    },
    {
     "data": {
      "text/markdown": [
       "|fn|n|cumT|calcT|cumT/call|sys|\n",
       "|-|-|-|-|-|-|\n",
       "|PnLExplainReport:data|1|19,314,457|17|19,314,457|GetValue\n",
       "|PnLExplainReport:data|1|19,314,440|453|19,314,440|GetValue/Calc\n",
       "|TradingContainer:NPV|11|19,252,143|149|1,750,194|GetValue\n",
       "|TradingContainer:NPV|11|19,251,994|94|1,750,181|GetValue/Calc\n",
       "|Portfolio:items|121|19,089,115|1,332|157,761|GetValue\n",
       "|Portfolio:items|121|19,089,011|922|157,760|GetValue/Calc\n",
       "|Workbook:items|1,104|18,093,355|12,315|16,388|GetValue\n",
       "|Workbook:items|1,100|18,081,040|9,427|16,437|GetValue/Calc\n",
       "|PnLExplainReport:cutoffs|1|10,598,902|25|10,598,902|GetValue\n",
       "|PnLExplainReport:cutoffs|1|10,598,877|195|10,598,877|GetValue/Calc\n",
       "|Root:Clocks|548|10,598,592|1,969,183|19,340|Context\n",
       "|TradeOpenEvent|1,014|4,272,808|4,272,808|4,213|Db.Get\n",
       "|TradeOpenEvent:ticket|22,286|3,759,164|126,122|168|GetValue\n",
       "|TradingTicket|1,014|3,633,042|3,633,042|3,582|Db.Get\n",
       "|Root:Activity Portfolio|263|1,130,841|1,048,071|4,299|Context\n",
       "|Root:Amend Trading|255|1,074,450|993,193|4,213|Context\n",
       "|Root:Amend MarketData|255|1,050,181|970,469|4,118|Context\n",
       "|Root:Start breaks|255|991,023|911,485|3,886|Context\n",
       "|Portfolio:children|242|952,294|1,771|3,935|GetValue\n",
       "|Portfolio:children|121|950,523|1,006|7,855|GetValue/Calc\n",
       "|Root:End|278|934,644|853,899|3,362|Context\n",
       "|Root:Activity Trading|263|893,194|813,660|3,396|Context\n",
       "|Root:Start|270|891,946|811,326|3,303|Context\n",
       "|Root:Activity MarketData|255|881,104|801,907|3,455|Context\n",
       "|Root:Amend Portfolio|255|864,099|785,115|3,388|Context\n",
       "|PortfolioUpdateEvent:children|121|398,031|3,041|3,289|GetValue\n",
       "|TradingBook|102|365,144|365,144|3,579|Db.Get\n",
       "|Equity:NPV|15|160,509|178|10,700|GetValue\n",
       "|Equity:NPV|15|160,330|114|10,688|GetValue/Calc\n",
       "|MarketInterface:spot|15|152,338|150|10,155|GetValue\n",
       "|MarketInterface:spot|15|152,187|113|10,145|GetValue/Calc\n",
       "|ExternalRefData:state|15|144,063|148|9,604|GetValue\n",
       "|ExternalRefData:state|15|143,915|125|9,594|GetValue/Calc\n",
       "|RefData:state|15|143,356|147|9,557|GetValue\n",
       "|RefData:state|15|143,208|120|9,547|GetValue/Calc\n",
       "|_WorkItemEvent:book2|22,286|123,085|115,859|5|GetValue\n",
       "|_WorkItemEvent:book1|22,286|116,208|116,208|5|GetValue\n",
       "|TradeOpenEvent:quantity|22,286|104,668|104,668|4|GetValue\n",
       "|Clock:cutoffs|2,480|102,808|10,259|41|GetValue\n",
       "|Clock:cutoffs|20|92,627|146|4,631|GetValue/Calc\n",
       "|Clock:parent|20|91,689|192|4,584|GetValue\n",
       "|Clock:parent|20|91,496|174|4,574|GetValue/Calc\n",
       "|_WorkItemEvent:item|11,143|86,082|79,296|7|GetValue\n",
       "|TradeOpenEvent:action|11,143|78,670|78,670|7|GetValue\n",
       "|TradeOpenEvent:premium|11,143|75,086|71,809|6|GetValue\n",
       "|TradeOpenEvent:unitPrice|11,143|63,995|63,995|5|GetValue\n",
       "|Event:amends|11,340|61,556|61,556|5|GetValue\n",
       "|TradingBook:clock|2,200|58,552|21,933|26|GetValue\n",
       "|PortfolioUpdateEvent|12|54,964|54,964|4,580|Db.Get\n",
       "|TradingPortfolio|10|37,071|37,071|3,707|Db.Get\n",
       "|TradingBook:clock|1,100|36,619|12,216|33|GetValue/Calc\n",
       "|RefDataUpdateEvent|9|36,586|36,586|4,065|Db.Get\n",
       "|Clock|5|17,535|17,535|3,507|Db.Get\n",
       "|Portfolio:clock|242|10,003|2,578|41|GetValue\n",
       "|Portfolio:books|231|9,535|1,885|41|GetValue\n",
       "|Portfolio:books|121|8,052|915|66|GetValue/Calc\n",
       "|ClockEvent|2|7,978|7,978|3,989|Db.Get\n",
       "|Portfolio:clock|121|7,425|1,331|61|GetValue/Calc\n",
       "|MarketInterface:source|15|7,412|134|494|GetValue\n",
       "|Equity:refdata|15|7,326|162|488|GetValue\n",
       "|MarketInterface:source|15|7,278|101|485|GetValue/Calc\n",
       "|Equity:refdata|15|7,163|115|477|GetValue/Calc\n",
       "|Equity|2|6,785|6,785|3,392|Db.Get\n",
       "|ClockEvent:parent|8|6,556|79|819|GetValue\n",
       "|MarketInterface|2|6,459|6,459|3,229|Db.Get\n",
       "|MarketDataSource|2|6,317|6,317|3,158|Db.Get\n",
       "|MarketDataSource:clock|30|4,883|282|162|GetValue\n",
       "|MarketDataSource:clock|15|4,600|153|306|GetValue/Calc\n",
       "|RootClock|1|3,580|3,580|3,580|Db.Get\n",
       "|ForwardCashflow|1|3,277|3,277|3,277|Db.Get\n",
       "|Entity:clock|40|920|406|23|GetValue\n",
       "|Entity:clock|20|514|208|25|GetValue/Calc\n",
       "|ForwardCashflow:NPV|11|418|163|38|GetValue\n",
       "|MarketInterface:sourceName|15|385|143|25|GetValue\n",
       "|RefDataUpdateEvent:data|58|301|301|5|GetValue\n",
       "|RootClock:cutoffs|53|274|207|5|GetValue\n",
       "|ForwardCashflow:NPV|11|254|100|23|GetValue/Calc\n",
       "|MarketInterface:sourceName|15|241|147|16|GetValue/Calc\n",
       "|Equity:assetName|15|114|114|7|GetValue\n",
       "|RootClock:cutoffs|1|66|35|66|GetValue/Calc\n",
       "|RootClock:cosmicAll|1|18|9|18|GetValue\n",
       "|CosmicAll:dbState|1|12|7|12|GetValue\n",
       "|PnLExplainReport:valuable|2|12|12|6|GetValue\n",
       "|RootClock:cosmicAll|1|9|9|9|GetValue/Calc\n",
       "|PnLExplainReport:ts1|2|9|9|4|GetValue\n",
       "|PnLExplainReport:ts2|2|8|8|4|GetValue\n",
       "|CosmicAll:dbState|1|5|5|5|GetValue/Calc"
      ],
      "text/plain": [
       "<IPython.core.display.Markdown object>"
      ]
     },
     "metadata": {},
     "output_type": "display_data"
    }
   ],
   "source": [
    "db3 = db.copy()\n",
    "p = db3._get(pAll.meta.path())\n",
    "\n",
    "r = PnLExplainReport(valuable=p, ts1=eod, ts2=ts7)\n",
    "\n",
    "with ProfileMonitor():\n",
    "    with SummaryMonitor():\n",
    "        r.run()"
   ]
  },
  {
   "cell_type": "markdown",
   "metadata": {},
   "source": [
    "# Caching/Reusing results\n",
    "\n",
    "Until now, we have just checked to see if the current context contains a value for a node we are asking for, and if so, reuse that.\n",
    "\n",
    "A better approach to caching bound *fn* on *object* in *context0* is:\n",
    "    \n",
    "1. Has fn been tweaked in context0? If so, return that\n",
    "2. Is fn sufficiently trivial that we can avoid managing it as a node?\n",
    "  * If trivial, just treat it as a pure python function and call it\n",
    "  * Meta-data (inputs, outputs, etc) will be given to its caller and callees as appropriate\n",
    "3. Ask object for context1\n",
    "  * *context1* is a simplified version of *context0*\n",
    "  * The default case is just to return *context1*\n",
    "  * IRL, this could actually be a list of contexts or a pattern to match contexts against\n",
    "4. Is fn cached in *context1*? If so, use that\n",
    "5. Compute *fn* in *context1*\n",
    "6. Construct *context2* from the inputs of the computed value\n",
    "7. If *context2* is a subset of *context1*, cache *fn* in *context1*\n",
    "8. Something odd happened\n",
    "  * Footnote the problem as part of computation notes on the node's metadata\n",
    "  * Maybe cache the node anyway in *context2*\n",
    "    * Perhaps *object* will return *context2* as a siplification for future computations?\n",
    "9. Return the value\n",
    "\n",
    "Notes:\n",
    "* Parallel compute of nodes not considered yet\n",
    "* Context simplification (step 3) and input simplification (step 9) are probably intimately related\n",
    "* The split between calculation and caching is nice:\n",
    "  * BAs can write business logic\n",
    "  * Computer scientists can add caching logic where needed\n",
    "* We can use a profiler type object to gather runtime compute cost infomation\n",
    "  * The resulting trace can be used as input to drive step 2 and step 3\n",
    "    "
   ]
  },
  {
   "cell_type": "code",
   "execution_count": 5,
   "metadata": {
    "collapsed": false,
    "scrolled": false
   },
   "outputs": [
    {
     "name": "stdout",
     "output_type": "stream",
     "text": [
      "40.85\n"
     ]
    },
    {
     "data": {
      "text/markdown": [
       "# Compute activity summary (0.18 seconds of wall clock time)"
      ],
      "text/plain": [
       "<IPython.core.display.Markdown object>"
      ]
     },
     "metadata": {},
     "output_type": "display_data"
    },
    {
     "data": {
      "text/markdown": [
       "|key|value|\n",
       "|-|-|\n",
       "|Context|1\n",
       "|Db.Get|35\n",
       "|GetValue|185\n",
       "|GetValue/Calc|24"
      ],
      "text/plain": [
       "<IPython.core.display.Markdown object>"
      ]
     },
     "metadata": {},
     "output_type": "display_data"
    },
    {
     "name": "stdout",
     "output_type": "stream",
     "text": [
      "<Node: /Global/TradingBook/Rates0.(TradingContainer:NPV)() in Root:4512165784 @4811707216 T=False>, nIn=3\n",
      "   <Node: /Global/Equity/71475ae5-2823-4c52-b08c-7ef83264d743.(Equity:NPV)() in Root:4512165784 @4618148176 T=False>, nIn=2\n",
      "      <Node: /Global/Equity/71475ae5-2823-4c52-b08c-7ef83264d743.(Equity:refdata)() in Root:4512165784 @4618148304 T=False>, nIn=1\n",
      "         <Node: /Global/Equity/71475ae5-2823-4c52-b08c-7ef83264d743.(Equity:assetName)() in Root:4512165784 @4618148432 T=False>, nIn=0\n",
      "      <Node: /Global/MarketInterface/GOOG.(MarketInterface:spot)() in Root:4512165784 @4618149200 T=True>, nIn=2\n",
      "         <Node: /Global/MarketDataSource/source1.GOOG.(ExternalRefData:state)() in Root:4512165784 @4641092368 T=False>, nIn=1\n",
      "            <Node: /Global/MarketDataSource/source1.GOOG.(RefData:state)() in Root:4512165784 @4641092432 T=False>, nIn=10\n",
      "               <Node: /Global/Clock/MarketData.(Clock:cutoffs)() in Root:4512165784 @4663107984 T=True>, nIn=2\n",
      "                  <Node: /Global/Clock/MarketData.(Clock:parent)() in Root:4512165784 @4811709648 T=False>, nIn=4\n",
      "                     <Node: /Global/Clock/MarketData.(Entity:clock)() in Root:4512165784 @4641093456 T=False>, nIn=0\n",
      "                     <Node: /Global/ClockEvent/34784bda-337a-4180-a49c-f3b79cc0a92c.(ClockEvent:parent)() in Root:4512165784 @4641091664 T=False>, nIn=0\n",
      "                     <Node: /Global/ClockEvent/34784bda-337a-4180-a49c-f3b79cc0a92c.(Event:amends)() in Root:4512165784 @4641092688 T=False>, nIn=0\n",
      "                     <Node: /Global/RootClock/Main.(RootClock:cutoffs)() in Root:4512165784 @4811707600 T=True>, nIn=0\n",
      "                  <Node: /Global/Clock/RefData.(Clock:cutoffs)() in Root:4512165784 @4641094672 T=True>, nIn=2\n",
      "                     <Node: /Global/Clock/RefData.(Clock:parent)() in Root:4512165784 @4641094544 T=False>, nIn=2\n",
      "                        <Node: /Global/Clock/RefData.(Entity:clock)() in Root:4512165784 @4641094800 T=False>, nIn=0\n",
      "                        <Node: /Global/RootClock/Main.(RootClock:cutoffs)() in Root:4512165784 @4811707600 T=True>, nIn=0\n",
      "                     <Node: /Global/RootClock/Main.(RootClock:cutoffs)() in Root:4512165784 @4811707600 T=True>, nIn=0\n",
      "               <Node: /Global/MarketDataSource/source1.GOOG.(MarketDataSource:clock)() in Root:4512165784 @4663111632 T=False>, nIn=0\n",
      "               <Node: /Global/RefDataUpdateEvent/3c2268aa-635e-47dd-81c3-5da48df7c98a.(Event:amends)() in Root:4512165784 @4662734992 T=False>, nIn=0\n",
      "               <Node: /Global/RefDataUpdateEvent/3c2268aa-635e-47dd-81c3-5da48df7c98a.(RefDataUpdateEvent:data)() in Root:4512165784 @4662735696 T=False>, nIn=0\n",
      "               <Node: /Global/RefDataUpdateEvent/658ee9c9-1347-4c49-ae71-223dcfd691bd.(Event:amends)() in Root:4512165784 @4662735248 T=False>, nIn=0\n",
      "               <Node: /Global/RefDataUpdateEvent/658ee9c9-1347-4c49-ae71-223dcfd691bd.(RefDataUpdateEvent:data)() in Root:4512165784 @4662735568 T=False>, nIn=0\n",
      "               <Node: /Global/RefDataUpdateEvent/6f0c3a04-f829-4b73-adcc-70f4aca5f0b6.(Event:amends)() in Root:4512165784 @4641094992 T=False>, nIn=0\n",
      "               <Node: /Global/RefDataUpdateEvent/6f0c3a04-f829-4b73-adcc-70f4aca5f0b6.(RefDataUpdateEvent:data)() in Root:4512165784 @4662735824 T=False>, nIn=0\n",
      "               <Node: /Global/RefDataUpdateEvent/ec1f7ad1-bea6-44f9-a810-46d8ccd35abb.(Event:amends)() in Root:4512165784 @4662735184 T=False>, nIn=0\n",
      "               <Node: /Global/RefDataUpdateEvent/ec1f7ad1-bea6-44f9-a810-46d8ccd35abb.(RefDataUpdateEvent:data)() in Root:4512165784 @4662735440 T=False>, nIn=0\n",
      "         <Node: /Global/MarketInterface/GOOG.(MarketInterface:source)() in Root:4512165784 @4618149520 T=False>, nIn=1\n",
      "            <Node: /Global/MarketInterface/GOOG.(MarketInterface:sourceName)() in Root:4512165784 @4618149392 T=False>, nIn=0\n",
      "   <Node: /Global/ForwardCashflow/c4021ffc-d742-406f-b10e-4a60bb60d7ee.(ForwardCashflow:NPV)() in Root:4512165784 @4662735888 T=False>, nIn=0\n",
      "   <Node: /Global/TradingBook/Rates0.(Workbook:items)() in Root:4512165784 @4811707024 T=False>, nIn=92\n",
      "      <Node: /Global/Clock/Trading.(Clock:cutoffs)() in Root:4512165784 @4614361808 T=True>, nIn=2\n",
      "         <Node: /Global/Clock/Trading.(Clock:parent)() in Root:4512165784 @4614362320 T=False>, nIn=4\n",
      "            <Node: /Global/Clock/Trading.(Entity:clock)() in Root:4512165784 @4811710352 T=False>, nIn=0\n",
      "            <Node: /Global/ClockEvent/22e2cbef-429e-4ebd-869f-73c0e44e2fee.(ClockEvent:parent)() in Root:4512165784 @4811708112 T=False>, nIn=0\n",
      "            <Node: /Global/ClockEvent/22e2cbef-429e-4ebd-869f-73c0e44e2fee.(Event:amends)() in Root:4512165784 @4811709136 T=False>, nIn=0\n",
      "            <Node: /Global/RootClock/Main.(RootClock:cutoffs)() in Root:4512165784 @4811707600 T=True>, nIn=0\n",
      "         <Node: /Global/Clock/Workflow.(Clock:cutoffs)() in Root:4512165784 @4811707664 T=True>, nIn=2\n",
      "            <Node: /Global/Clock/Workflow.(Clock:parent)() in Root:4512165784 @4811708176 T=False>, nIn=2\n",
      "               <Node: /Global/Clock/Workflow.(Entity:clock)() in Root:4512165784 @4811708432 T=False>, nIn=0\n",
      "               <Node: /Global/RootClock/Main.(RootClock:cutoffs)() in Root:4512165784 @4811707600 T=True>, nIn=0\n",
      "            <Node: /Global/RootClock/Main.(RootClock:cutoffs)() in Root:4512165784 @4811707600 T=True>, nIn=0\n",
      "      <Node: /Global/TradeOpenEvent/2d2857d5-2c72-4592-b5a3-c0c916c6c83f.(Event:amends)() in Root:4512165784 @4811526224 T=False>, nIn=0\n",
      "      <Node: /Global/TradeOpenEvent/2d2857d5-2c72-4592-b5a3-c0c916c6c83f.(TradeOpenEvent:action)() in Root:4512165784 @4663108048 T=False>, nIn=0\n",
      "      <Node: /Global/TradeOpenEvent/2d2857d5-2c72-4592-b5a3-c0c916c6c83f.(TradeOpenEvent:premium)() in Root:4512165784 @4811389008 T=False>, nIn=0\n",
      "      <Node: /Global/TradeOpenEvent/2d2857d5-2c72-4592-b5a3-c0c916c6c83f.(TradeOpenEvent:quantity)() in Root:4512165784 @4663108240 T=False>, nIn=0\n",
      "      <Node: /Global/TradeOpenEvent/2d2857d5-2c72-4592-b5a3-c0c916c6c83f.(TradeOpenEvent:ticket)() in Root:4512165784 @4663109904 T=False>, nIn=0\n",
      "      <Node: /Global/TradeOpenEvent/2d2857d5-2c72-4592-b5a3-c0c916c6c83f.(TradeOpenEvent:unitPrice)() in Root:4512165784 @4663108176 T=False>, nIn=0\n",
      "      <Node: /Global/TradeOpenEvent/2d2857d5-2c72-4592-b5a3-c0c916c6c83f.(_WorkItemEvent:book1)() in Root:4512165784 @4811528080 T=False>, nIn=0\n",
      "      <Node: /Global/TradeOpenEvent/2d2857d5-2c72-4592-b5a3-c0c916c6c83f.(_WorkItemEvent:book2)() in Root:4512165784 @4811527952 T=False>, nIn=0\n",
      "      <Node: /Global/TradeOpenEvent/2d2857d5-2c72-4592-b5a3-c0c916c6c83f.(_WorkItemEvent:item)() in Root:4512165784 @4811528208 T=False>, nIn=0\n",
      "      <Node: /Global/TradeOpenEvent/816b31b6-0a24-41ec-9436-bd6f90cff870.(Event:amends)() in Root:4512165784 @4663108880 T=False>, nIn=0\n",
      "      <Node: /Global/TradeOpenEvent/816b31b6-0a24-41ec-9436-bd6f90cff870.(TradeOpenEvent:action)() in Root:4512165784 @4795143696 T=False>, nIn=0\n",
      "      <Node: /Global/TradeOpenEvent/816b31b6-0a24-41ec-9436-bd6f90cff870.(TradeOpenEvent:premium)() in Root:4512165784 @4795144720 T=False>, nIn=0\n",
      "      <Node: /Global/TradeOpenEvent/816b31b6-0a24-41ec-9436-bd6f90cff870.(TradeOpenEvent:quantity)() in Root:4512165784 @4795143376 T=False>, nIn=0\n",
      "      <Node: /Global/TradeOpenEvent/816b31b6-0a24-41ec-9436-bd6f90cff870.(TradeOpenEvent:ticket)() in Root:4512165784 @4795143440 T=False>, nIn=0\n",
      "      <Node: /Global/TradeOpenEvent/816b31b6-0a24-41ec-9436-bd6f90cff870.(TradeOpenEvent:unitPrice)() in Root:4512165784 @4795143568 T=False>, nIn=0\n",
      "      <Node: /Global/TradeOpenEvent/816b31b6-0a24-41ec-9436-bd6f90cff870.(_WorkItemEvent:book1)() in Root:4512165784 @4795144848 T=False>, nIn=0\n",
      "      <Node: /Global/TradeOpenEvent/816b31b6-0a24-41ec-9436-bd6f90cff870.(_WorkItemEvent:book2)() in Root:4512165784 @4795144656 T=False>, nIn=0\n",
      "      <Node: /Global/TradeOpenEvent/816b31b6-0a24-41ec-9436-bd6f90cff870.(_WorkItemEvent:item)() in Root:4512165784 @4795144976 T=False>, nIn=0\n",
      "      <Node: /Global/TradeOpenEvent/84cde284-b054-4187-817c-aff7a6b1c6d0.(Event:amends)() in Root:4512165784 @4811528016 T=False>, nIn=0\n",
      "      <Node: /Global/TradeOpenEvent/84cde284-b054-4187-817c-aff7a6b1c6d0.(TradeOpenEvent:action)() in Root:4512165784 @4810943504 T=False>, nIn=0\n",
      "      <Node: /Global/TradeOpenEvent/84cde284-b054-4187-817c-aff7a6b1c6d0.(TradeOpenEvent:premium)() in Root:4512165784 @4795144528 T=False>, nIn=0\n",
      "      <Node: /Global/TradeOpenEvent/84cde284-b054-4187-817c-aff7a6b1c6d0.(TradeOpenEvent:quantity)() in Root:4512165784 @4810943696 T=False>, nIn=0\n",
      "      <Node: /Global/TradeOpenEvent/84cde284-b054-4187-817c-aff7a6b1c6d0.(TradeOpenEvent:ticket)() in Root:4512165784 @4795144336 T=False>, nIn=0\n",
      "      <Node: /Global/TradeOpenEvent/84cde284-b054-4187-817c-aff7a6b1c6d0.(TradeOpenEvent:unitPrice)() in Root:4512165784 @4810943632 T=False>, nIn=0\n",
      "      <Node: /Global/TradeOpenEvent/84cde284-b054-4187-817c-aff7a6b1c6d0.(_WorkItemEvent:book1)() in Root:4512165784 @4795143184 T=False>, nIn=0\n",
      "      <Node: /Global/TradeOpenEvent/84cde284-b054-4187-817c-aff7a6b1c6d0.(_WorkItemEvent:book2)() in Root:4512165784 @4795142608 T=False>, nIn=0\n",
      "      <Node: /Global/TradeOpenEvent/84cde284-b054-4187-817c-aff7a6b1c6d0.(_WorkItemEvent:item)() in Root:4512165784 @4795144144 T=False>, nIn=0\n",
      "      <Node: /Global/TradeOpenEvent/964cc7ac-7f80-4484-8b5e-1e709092bdd2.(Event:amends)() in Root:4512165784 @4811526352 T=False>, nIn=0\n",
      "      <Node: /Global/TradeOpenEvent/964cc7ac-7f80-4484-8b5e-1e709092bdd2.(TradeOpenEvent:action)() in Root:4512165784 @4811707856 T=False>, nIn=0\n",
      "      <Node: /Global/TradeOpenEvent/964cc7ac-7f80-4484-8b5e-1e709092bdd2.(TradeOpenEvent:premium)() in Root:4512165784 @4614361296 T=False>, nIn=0\n",
      "      <Node: /Global/TradeOpenEvent/964cc7ac-7f80-4484-8b5e-1e709092bdd2.(TradeOpenEvent:quantity)() in Root:4512165784 @4811710224 T=False>, nIn=0\n",
      "      <Node: /Global/TradeOpenEvent/964cc7ac-7f80-4484-8b5e-1e709092bdd2.(TradeOpenEvent:ticket)() in Root:4512165784 @4811707728 T=False>, nIn=0\n",
      "      <Node: /Global/TradeOpenEvent/964cc7ac-7f80-4484-8b5e-1e709092bdd2.(TradeOpenEvent:unitPrice)() in Root:4512165784 @4811709776 T=False>, nIn=0\n",
      "      <Node: /Global/TradeOpenEvent/964cc7ac-7f80-4484-8b5e-1e709092bdd2.(_WorkItemEvent:book1)() in Root:4512165784 @4614364624 T=False>, nIn=0\n",
      "      <Node: /Global/TradeOpenEvent/964cc7ac-7f80-4484-8b5e-1e709092bdd2.(_WorkItemEvent:book2)() in Root:4512165784 @4614363216 T=False>, nIn=0\n",
      "      <Node: /Global/TradeOpenEvent/964cc7ac-7f80-4484-8b5e-1e709092bdd2.(_WorkItemEvent:item)() in Root:4512165784 @4614363344 T=False>, nIn=0\n",
      "      <Node: /Global/TradeOpenEvent/bc5ba5e9-8752-4eab-9076-736843408955.(Event:amends)() in Root:4512165784 @4811527888 T=False>, nIn=0\n",
      "      <Node: /Global/TradeOpenEvent/bc5ba5e9-8752-4eab-9076-736843408955.(TradeOpenEvent:action)() in Root:4512165784 @4618146832 T=False>, nIn=0\n",
      "      <Node: /Global/TradeOpenEvent/bc5ba5e9-8752-4eab-9076-736843408955.(TradeOpenEvent:premium)() in Root:4512165784 @4811709840 T=False>, nIn=0\n",
      "      <Node: /Global/TradeOpenEvent/bc5ba5e9-8752-4eab-9076-736843408955.(TradeOpenEvent:quantity)() in Root:4512165784 @4618147088 T=False>, nIn=0\n",
      "      <Node: /Global/TradeOpenEvent/bc5ba5e9-8752-4eab-9076-736843408955.(TradeOpenEvent:ticket)() in Root:4512165784 @4618147216 T=False>, nIn=0\n",
      "      <Node: /Global/TradeOpenEvent/bc5ba5e9-8752-4eab-9076-736843408955.(TradeOpenEvent:unitPrice)() in Root:4512165784 @4618146960 T=False>, nIn=0\n",
      "      <Node: /Global/TradeOpenEvent/bc5ba5e9-8752-4eab-9076-736843408955.(_WorkItemEvent:book1)() in Root:4512165784 @4811708368 T=False>, nIn=0\n",
      "      <Node: /Global/TradeOpenEvent/bc5ba5e9-8752-4eab-9076-736843408955.(_WorkItemEvent:book2)() in Root:4512165784 @4811708816 T=False>, nIn=0\n",
      "      <Node: /Global/TradeOpenEvent/bc5ba5e9-8752-4eab-9076-736843408955.(_WorkItemEvent:item)() in Root:4512165784 @4811709072 T=False>, nIn=0\n",
      "      <Node: /Global/TradeOpenEvent/caa8573d-8d0e-4b82-9e6f-6cbea727eb2d.(Event:amends)() in Root:4512165784 @4811527184 T=False>, nIn=0\n",
      "      <Node: /Global/TradeOpenEvent/caa8573d-8d0e-4b82-9e6f-6cbea727eb2d.(TradeOpenEvent:action)() in Root:4512165784 @4811388304 T=False>, nIn=0\n",
      "      <Node: /Global/TradeOpenEvent/caa8573d-8d0e-4b82-9e6f-6cbea727eb2d.(TradeOpenEvent:premium)() in Root:4512165784 @4810943376 T=False>, nIn=0\n",
      "      <Node: /Global/TradeOpenEvent/caa8573d-8d0e-4b82-9e6f-6cbea727eb2d.(TradeOpenEvent:quantity)() in Root:4512165784 @4811389328 T=False>, nIn=0\n",
      "      <Node: /Global/TradeOpenEvent/caa8573d-8d0e-4b82-9e6f-6cbea727eb2d.(TradeOpenEvent:ticket)() in Root:4512165784 @4811237456 T=False>, nIn=0\n",
      "      <Node: /Global/TradeOpenEvent/caa8573d-8d0e-4b82-9e6f-6cbea727eb2d.(TradeOpenEvent:unitPrice)() in Root:4512165784 @4811389264 T=False>, nIn=0\n",
      "      <Node: /Global/TradeOpenEvent/caa8573d-8d0e-4b82-9e6f-6cbea727eb2d.(_WorkItemEvent:book1)() in Root:4512165784 @4811173968 T=False>, nIn=0\n",
      "      <Node: /Global/TradeOpenEvent/caa8573d-8d0e-4b82-9e6f-6cbea727eb2d.(_WorkItemEvent:book2)() in Root:4512165784 @4811131792 T=False>, nIn=0\n",
      "      <Node: /Global/TradeOpenEvent/caa8573d-8d0e-4b82-9e6f-6cbea727eb2d.(_WorkItemEvent:item)() in Root:4512165784 @4811174416 T=False>, nIn=0\n",
      "      <Node: /Global/TradeOpenEvent/df543522-c31b-479b-9133-bcc375d76ea6.(Event:amends)() in Root:4512165784 @4811530128 T=False>, nIn=0\n",
      "      <Node: /Global/TradeOpenEvent/df543522-c31b-479b-9133-bcc375d76ea6.(TradeOpenEvent:action)() in Root:4512165784 @4795142992 T=False>, nIn=0\n",
      "      <Node: /Global/TradeOpenEvent/df543522-c31b-479b-9133-bcc375d76ea6.(TradeOpenEvent:premium)() in Root:4512165784 @4618147408 T=False>, nIn=0\n",
      "      <Node: /Global/TradeOpenEvent/df543522-c31b-479b-9133-bcc375d76ea6.(TradeOpenEvent:quantity)() in Root:4512165784 @4795142416 T=False>, nIn=0\n",
      "      <Node: /Global/TradeOpenEvent/df543522-c31b-479b-9133-bcc375d76ea6.(TradeOpenEvent:ticket)() in Root:4512165784 @4795142224 T=False>, nIn=0\n",
      "      <Node: /Global/TradeOpenEvent/df543522-c31b-479b-9133-bcc375d76ea6.(TradeOpenEvent:unitPrice)() in Root:4512165784 @4795143056 T=False>, nIn=0\n",
      "      <Node: /Global/TradeOpenEvent/df543522-c31b-479b-9133-bcc375d76ea6.(_WorkItemEvent:book1)() in Root:4512165784 @4618147920 T=False>, nIn=0\n",
      "      <Node: /Global/TradeOpenEvent/df543522-c31b-479b-9133-bcc375d76ea6.(_WorkItemEvent:book2)() in Root:4512165784 @4618147856 T=False>, nIn=0\n",
      "      <Node: /Global/TradeOpenEvent/df543522-c31b-479b-9133-bcc375d76ea6.(_WorkItemEvent:item)() in Root:4512165784 @4618147344 T=False>, nIn=0\n",
      "      <Node: /Global/TradeOpenEvent/f2e753d6-ee8f-4ed4-bef7-cb11776dbbe5.(Event:amends)() in Root:4512165784 @4811459536 T=False>, nIn=0\n",
      "      <Node: /Global/TradeOpenEvent/f2e753d6-ee8f-4ed4-bef7-cb11776dbbe5.(TradeOpenEvent:action)() in Root:4512165784 @4795145424 T=False>, nIn=0\n",
      "      <Node: /Global/TradeOpenEvent/f2e753d6-ee8f-4ed4-bef7-cb11776dbbe5.(TradeOpenEvent:premium)() in Root:4512165784 @4618146128 T=False>, nIn=0\n",
      "      <Node: /Global/TradeOpenEvent/f2e753d6-ee8f-4ed4-bef7-cb11776dbbe5.(TradeOpenEvent:quantity)() in Root:4512165784 @4795145680 T=False>, nIn=0\n",
      "      <Node: /Global/TradeOpenEvent/f2e753d6-ee8f-4ed4-bef7-cb11776dbbe5.(TradeOpenEvent:ticket)() in Root:4512165784 @4795145808 T=False>, nIn=0\n",
      "      <Node: /Global/TradeOpenEvent/f2e753d6-ee8f-4ed4-bef7-cb11776dbbe5.(TradeOpenEvent:unitPrice)() in Root:4512165784 @4795145552 T=False>, nIn=0\n",
      "      <Node: /Global/TradeOpenEvent/f2e753d6-ee8f-4ed4-bef7-cb11776dbbe5.(_WorkItemEvent:book1)() in Root:4512165784 @4618146576 T=False>, nIn=0\n",
      "      <Node: /Global/TradeOpenEvent/f2e753d6-ee8f-4ed4-bef7-cb11776dbbe5.(_WorkItemEvent:book2)() in Root:4512165784 @4618146512 T=False>, nIn=0\n",
      "      <Node: /Global/TradeOpenEvent/f2e753d6-ee8f-4ed4-bef7-cb11776dbbe5.(_WorkItemEvent:item)() in Root:4512165784 @4618146192 T=False>, nIn=0\n",
      "      <Node: /Global/TradeOpenEvent/f4cff499-a501-4df5-963f-0d77af6af95b.(Event:amends)() in Root:4512165784 @4811529616 T=False>, nIn=0\n",
      "      <Node: /Global/TradeOpenEvent/f4cff499-a501-4df5-963f-0d77af6af95b.(TradeOpenEvent:action)() in Root:4512165784 @4614364688 T=False>, nIn=0\n",
      "      <Node: /Global/TradeOpenEvent/f4cff499-a501-4df5-963f-0d77af6af95b.(TradeOpenEvent:premium)() in Root:4512165784 @4663108304 T=False>, nIn=0\n",
      "      <Node: /Global/TradeOpenEvent/f4cff499-a501-4df5-963f-0d77af6af95b.(TradeOpenEvent:quantity)() in Root:4512165784 @4614363024 T=False>, nIn=0\n",
      "      <Node: /Global/TradeOpenEvent/f4cff499-a501-4df5-963f-0d77af6af95b.(TradeOpenEvent:ticket)() in Root:4512165784 @4614365008 T=False>, nIn=0\n",
      "      <Node: /Global/TradeOpenEvent/f4cff499-a501-4df5-963f-0d77af6af95b.(TradeOpenEvent:unitPrice)() in Root:4512165784 @4614364752 T=False>, nIn=0\n",
      "      <Node: /Global/TradeOpenEvent/f4cff499-a501-4df5-963f-0d77af6af95b.(_WorkItemEvent:book1)() in Root:4512165784 @4663110096 T=False>, nIn=0\n",
      "      <Node: /Global/TradeOpenEvent/f4cff499-a501-4df5-963f-0d77af6af95b.(_WorkItemEvent:book2)() in Root:4512165784 @4663110224 T=False>, nIn=0\n",
      "      <Node: /Global/TradeOpenEvent/f4cff499-a501-4df5-963f-0d77af6af95b.(_WorkItemEvent:item)() in Root:4512165784 @4663108368 T=False>, nIn=0\n",
      "      <Node: /Global/TradeOpenEvent/f6566623-83ec-4e05-afcb-2e3ea41ffd88.(Event:amends)() in Root:4512165784 @4663109584 T=False>, nIn=0\n",
      "      <Node: /Global/TradeOpenEvent/f6566623-83ec-4e05-afcb-2e3ea41ffd88.(TradeOpenEvent:action)() in Root:4512165784 @4663109648 T=False>, nIn=0\n",
      "      <Node: /Global/TradeOpenEvent/f6566623-83ec-4e05-afcb-2e3ea41ffd88.(TradeOpenEvent:premium)() in Root:4512165784 @4795142736 T=False>, nIn=0\n",
      "      <Node: /Global/TradeOpenEvent/f6566623-83ec-4e05-afcb-2e3ea41ffd88.(TradeOpenEvent:quantity)() in Root:4512165784 @4663109776 T=False>, nIn=0\n",
      "      <Node: /Global/TradeOpenEvent/f6566623-83ec-4e05-afcb-2e3ea41ffd88.(TradeOpenEvent:ticket)() in Root:4512165784 @4663109968 T=False>, nIn=0\n",
      "      <Node: /Global/TradeOpenEvent/f6566623-83ec-4e05-afcb-2e3ea41ffd88.(TradeOpenEvent:unitPrice)() in Root:4512165784 @4663109520 T=False>, nIn=0\n",
      "      <Node: /Global/TradeOpenEvent/f6566623-83ec-4e05-afcb-2e3ea41ffd88.(_WorkItemEvent:book1)() in Root:4512165784 @4663111248 T=False>, nIn=0\n",
      "      <Node: /Global/TradeOpenEvent/f6566623-83ec-4e05-afcb-2e3ea41ffd88.(_WorkItemEvent:book2)() in Root:4512165784 @4663111120 T=False>, nIn=0\n",
      "      <Node: /Global/TradeOpenEvent/f6566623-83ec-4e05-afcb-2e3ea41ffd88.(_WorkItemEvent:item)() in Root:4512165784 @4663110160 T=False>, nIn=0\n",
      "      <Node: /Global/TradingBook/Rates0.(TradingBook:clock)() in Root:4512165784 @4614361680 T=False>, nIn=0\n"
     ]
    }
   ],
   "source": [
    "dba = db.copy()\n",
    "valuable = dba.get(b4.meta.path())\n",
    "\n",
    "clock = valuable.getObj(_tr.RootClock, 'Main')\n",
    "with SummaryMonitor():\n",
    "    with Context({clock.cutoffs: ts7}):\n",
    "        print valuable.NPV()\n",
    "        node = getNode(valuable.NPV)\n",
    "node.printInputGraph()"
   ]
  },
  {
   "cell_type": "markdown",
   "metadata": {
    "collapsed": true
   },
   "source": [
    "# Graph Simplification\n",
    "\n",
    "* Very simple input management simplifier: ignore inputs if they are leaves and not tweakable\n",
    "* Simple context simplification: just switch to a simple context for certain known methods"
   ]
  },
  {
   "cell_type": "code",
   "execution_count": 6,
   "metadata": {
    "collapsed": false,
    "scrolled": false
   },
   "outputs": [
    {
     "name": "stdout",
     "output_type": "stream",
     "text": [
      "40.85\n",
      "<Node: /Global/TradingBook/Rates0.(TradingContainer:NPV)() in Root:4512165784 @4700718608 T=False>, nIn=3\n",
      "   <Node: /Global/Clock/Trading.(Clock:cutoffs)() in Root:4512165784 @4700717648 T=True>, nIn=2\n",
      "      <Node: /Global/Clock/Trading.(Clock:parent)() in Root:4512165784 @4700718224 T=False>, nIn=1\n",
      "         <Node: /Global/RootClock/Main.(RootClock:cutoffs)() in Root:4512165784 @4700718480 T=True>, nIn=0\n",
      "      <Node: /Global/Clock/Workflow.(Clock:cutoffs)() in Root:4512165784 @4738884880 T=True>, nIn=2\n",
      "         <Node: /Global/Clock/Workflow.(Clock:parent)() in Root:4512165784 @4738884752 T=False>, nIn=1\n",
      "            <Node: /Global/RootClock/Main.(RootClock:cutoffs)() in Root:4512165784 @4700718480 T=True>, nIn=0\n",
      "         <Node: /Global/RootClock/Main.(RootClock:cutoffs)() in Root:4512165784 @4700718480 T=True>, nIn=0\n",
      "   <Node: /Global/Equity/71475ae5-2823-4c52-b08c-7ef83264d743.(Equity:NPV)() in Root:4512165784 @4607265808 T=False>, nIn=1\n",
      "      <Node: /Global/MarketInterface/GOOG.(MarketInterface:spot)() in Root:4512165784 @4617211984 T=True>, nIn=1\n",
      "         <Node: /Global/MarketDataSource/source1.GOOG.(ExternalRefData:state)() in Root:4512165784 @4617213264 T=False>, nIn=2\n",
      "            <Node: /Global/Clock/MarketData.(Clock:cutoffs)() in Root:4512165784 @4617214544 T=True>, nIn=2\n",
      "               <Node: /Global/Clock/MarketData.(Clock:parent)() in Root:4512165784 @4617214416 T=False>, nIn=1\n",
      "                  <Node: /Global/RootClock/Main.(RootClock:cutoffs)() in Root:4512165784 @4700718480 T=True>, nIn=0\n",
      "               <Node: /Global/Clock/RefData.(Clock:cutoffs)() in Root:4512165784 @4621387216 T=True>, nIn=2\n",
      "                  <Node: /Global/Clock/RefData.(Clock:parent)() in Root:4512165784 @4621387088 T=False>, nIn=1\n",
      "                     <Node: /Global/RootClock/Main.(RootClock:cutoffs)() in Root:4512165784 @4700718480 T=True>, nIn=0\n",
      "                  <Node: /Global/RootClock/Main.(RootClock:cutoffs)() in Root:4512165784 @4700718480 T=True>, nIn=0\n",
      "            <Node: /Global/MarketDataSource/source1.GOOG.(RefData:state)() in Root:4512165784:4512165784 @4621388432 T=False>, nIn=1\n",
      "               <Node: /Global/Clock/MarketData.(Clock:cutoffs)() in Root:4512165784:4512165784 @4621388304 T=True>, nIn=0\n",
      "   <Node: /Global/TradingBook/Rates0.(Workbook:items)() in Root:4512165784:4512165784 @4738886032 T=False>, nIn=1\n",
      "      <Node: /Global/Clock/Trading.(Clock:cutoffs)() in Root:4512165784:4512165784 @4738885904 T=True>, nIn=0\n"
     ]
    }
   ],
   "source": [
    "from mand.graph import DependencyManager, setDependencyManager\n",
    "from mand.core import Event\n",
    "\n",
    "class DM1(DependencyManager):\n",
    "    \n",
    "    def __init__(self):\n",
    "        self.contexts = {}\n",
    "        self.simpleClockMethods = ('Workbook:items', 'RefData:state', 'Portfolio:children', 'Portfolio:items')\n",
    "        super(DM1, self).__init__()\n",
    "        \n",
    "    def addDep(self, input, output):\n",
    "        if not input.key.tweakable:\n",
    "            if not input.inputs:\n",
    "                return\n",
    "        output.inputs.add(input)\n",
    "        input.outputs.add(output)\n",
    "\n",
    "\n",
    "    def calculated(self, node):\n",
    "        if not node.isSimplified:\n",
    "            return\n",
    "        for input in node.inputs:\n",
    "            if input not in node.ctx.tweaks:\n",
    "                addFootnote(text='context simplification failure', info='%s used %s' % (str(node.key), str(input.key)))\n",
    "                  \n",
    "    def getCtx(self, clock):\n",
    "        ts = clock.cutoffs()\n",
    "        cKey = (clock, ts) # really want value-based comparison of ts, not object equality\n",
    "        if cKey not in self.contexts:\n",
    "            self.contexts[cKey] = Context({clock.cutoffs: ts})\n",
    "        return self.contexts[cKey]\n",
    "            \n",
    "    def getNode(self, ctx, key):\n",
    "        n = ctx._get(key)\n",
    "        if n:\n",
    "            return n\n",
    "        if key.fullName() in self.simpleClockMethods:\n",
    "            obj = key.object()\n",
    "            ctx1 = self.getCtx(obj.clock())\n",
    "            ret = ctx1.get(key)\n",
    "            ret.isSimplified = True\n",
    "        else:\n",
    "            ret = super(DM1, self).getNode(ctx, key)\n",
    "            ret.isSimplified = False\n",
    "        return ret\n",
    "    \n",
    "setDependencyManager(DM1())\n",
    "\n",
    "db4 = db.copy()\n",
    "valuable = db4.get(b4.meta.path())\n",
    "\n",
    "clock = valuable.getObj(_tr.RootClock, 'Main')\n",
    "with Context({clock.cutoffs: ts7}):\n",
    "    print valuable.NPV()\n",
    "    node = getNode(valuable.NPV)\n",
    "    node.printInputGraph()"
   ]
  },
  {
   "cell_type": "code",
   "execution_count": 7,
   "metadata": {
    "collapsed": false,
    "scrolled": false
   },
   "outputs": [
    {
     "data": {
      "text/markdown": [
       "# PnL explain for TopOfTheHouse: 6256.00"
      ],
      "text/plain": [
       "<IPython.core.display.Markdown object>"
      ]
     },
     "metadata": {},
     "output_type": "display_data"
    },
    {
     "data": {
      "text/markdown": [
       "**Caveat: this report encountered problems. See footnotes at bottom.**"
      ],
      "text/plain": [
       "<IPython.core.display.Markdown object>"
      ]
     },
     "metadata": {},
     "output_type": "display_data"
    },
    {
     "data": {
      "text/markdown": [
       "|Activity|PnL|\n",
       "|-|-|\n",
       "|Starting balance breaks|0.00\n",
       "|prior day amends: MarketData|0.00\n",
       "|prior day amends: Portfolio|0.00\n",
       "|prior day amends: Trading|0.00\n",
       "|activity: MarketData|5240.00\n",
       "|activity: Portfolio|1016.00\n",
       "|activity: Trading|0.00\n",
       "|Ending balance breaks|0.00"
      ],
      "text/plain": [
       "<IPython.core.display.Markdown object>"
      ]
     },
     "metadata": {},
     "output_type": "display_data"
    },
    {
     "data": {
      "text/markdown": [
       "1. context simplification failure\n",
       "  * <NodeKey:<Entity:/Global/TradingPortfolio/Commod>.(Portfolio:items) ()> used <NodeKey:<Entity:/Global/Clock/Trading>.(Clock:cutoffs) ()>\n",
       "  * <NodeKey:<Entity:/Global/TradingPortfolio/Commod>.(Portfolio:items) ()> used <NodeKey:<Entity:/Global/TradingBook/Commod0>.(Workbook:items) ()>\n",
       "  * <NodeKey:<Entity:/Global/TradingPortfolio/Commod>.(Portfolio:items) ()> used <NodeKey:<Entity:/Global/TradingBook/Commod1>.(Workbook:items) ()>\n",
       "  * <NodeKey:<Entity:/Global/TradingPortfolio/Commod>.(Portfolio:items) ()> used <NodeKey:<Entity:/Global/TradingBook/Commod2>.(Workbook:items) ()>\n",
       "  * <NodeKey:<Entity:/Global/TradingPortfolio/Commod>.(Portfolio:items) ()> used <NodeKey:<Entity:/Global/TradingBook/Commod3>.(Workbook:items) ()>\n",
       "  * <NodeKey:<Entity:/Global/TradingPortfolio/Commod>.(Portfolio:items) ()> used <NodeKey:<Entity:/Global/TradingBook/Commod4>.(Workbook:items) ()>\n",
       "  * <NodeKey:<Entity:/Global/TradingPortfolio/Commod>.(Portfolio:items) ()> used <NodeKey:<Entity:/Global/TradingBook/Commod5>.(Workbook:items) ()>\n",
       "  * <NodeKey:<Entity:/Global/TradingPortfolio/Commod>.(Portfolio:items) ()> used <NodeKey:<Entity:/Global/TradingBook/Commod6>.(Workbook:items) ()>\n",
       "  * <NodeKey:<Entity:/Global/TradingPortfolio/Commod>.(Portfolio:items) ()> used <NodeKey:<Entity:/Global/TradingBook/Commod7>.(Workbook:items) ()>\n",
       "  * <NodeKey:<Entity:/Global/TradingPortfolio/Commod>.(Portfolio:items) ()> used <NodeKey:<Entity:/Global/TradingBook/Commod8>.(Workbook:items) ()>\n",
       "  * <NodeKey:<Entity:/Global/TradingPortfolio/Commod>.(Portfolio:items) ()> used <NodeKey:<Entity:/Global/TradingBook/Commod9>.(Workbook:items) ()>\n",
       "  * <NodeKey:<Entity:/Global/TradingPortfolio/Commod>.(Portfolio:items) ()> used <NodeKey:<Entity:/Global/TradingPortfolio/Commod>.(Portfolio:books) ()>\n",
       "  * <NodeKey:<Entity:/Global/TradingPortfolio/Commod>.(Portfolio:items) ()> used <NodeKey:<Entity:/Global/TradingPortfolio/Commod>.(Portfolio:children) ()>\n",
       "  * <NodeKey:<Entity:/Global/TradingPortfolio/Credit>.(Portfolio:items) ()> used <NodeKey:<Entity:/Global/Clock/Trading>.(Clock:cutoffs) ()>\n",
       "  * <NodeKey:<Entity:/Global/TradingPortfolio/Credit>.(Portfolio:items) ()> used <NodeKey:<Entity:/Global/TradingBook/Credit0>.(Workbook:items) ()>\n",
       "  * <NodeKey:<Entity:/Global/TradingPortfolio/Credit>.(Portfolio:items) ()> used <NodeKey:<Entity:/Global/TradingBook/Credit1>.(Workbook:items) ()>\n",
       "  * <NodeKey:<Entity:/Global/TradingPortfolio/Credit>.(Portfolio:items) ()> used <NodeKey:<Entity:/Global/TradingBook/Credit2>.(Workbook:items) ()>\n",
       "  * <NodeKey:<Entity:/Global/TradingPortfolio/Credit>.(Portfolio:items) ()> used <NodeKey:<Entity:/Global/TradingBook/Credit3>.(Workbook:items) ()>\n",
       "  * <NodeKey:<Entity:/Global/TradingPortfolio/Credit>.(Portfolio:items) ()> used <NodeKey:<Entity:/Global/TradingBook/Credit4>.(Workbook:items) ()>\n",
       "  * <NodeKey:<Entity:/Global/TradingPortfolio/Credit>.(Portfolio:items) ()> used <NodeKey:<Entity:/Global/TradingBook/Credit5>.(Workbook:items) ()>\n",
       "  * <NodeKey:<Entity:/Global/TradingPortfolio/Credit>.(Portfolio:items) ()> used <NodeKey:<Entity:/Global/TradingBook/Credit6>.(Workbook:items) ()>\n",
       "  * <NodeKey:<Entity:/Global/TradingPortfolio/Credit>.(Portfolio:items) ()> used <NodeKey:<Entity:/Global/TradingBook/Credit7>.(Workbook:items) ()>\n",
       "  * <NodeKey:<Entity:/Global/TradingPortfolio/Credit>.(Portfolio:items) ()> used <NodeKey:<Entity:/Global/TradingBook/Credit8>.(Workbook:items) ()>\n",
       "  * <NodeKey:<Entity:/Global/TradingPortfolio/Credit>.(Portfolio:items) ()> used <NodeKey:<Entity:/Global/TradingBook/Credit9>.(Workbook:items) ()>\n",
       "  * <NodeKey:<Entity:/Global/TradingPortfolio/Credit>.(Portfolio:items) ()> used <NodeKey:<Entity:/Global/TradingPortfolio/Credit>.(Portfolio:books) ()>\n",
       "  * <NodeKey:<Entity:/Global/TradingPortfolio/Credit>.(Portfolio:items) ()> used <NodeKey:<Entity:/Global/TradingPortfolio/Credit>.(Portfolio:children) ()>\n",
       "  * <NodeKey:<Entity:/Global/TradingPortfolio/Delta1>.(Portfolio:items) ()> used <NodeKey:<Entity:/Global/Clock/Trading>.(Clock:cutoffs) ()>\n",
       "  * <NodeKey:<Entity:/Global/TradingPortfolio/Delta1>.(Portfolio:items) ()> used <NodeKey:<Entity:/Global/TradingBook/Delta10>.(Workbook:items) ()>\n",
       "  * <NodeKey:<Entity:/Global/TradingPortfolio/Delta1>.(Portfolio:items) ()> used <NodeKey:<Entity:/Global/TradingBook/Delta11>.(Workbook:items) ()>\n",
       "  * <NodeKey:<Entity:/Global/TradingPortfolio/Delta1>.(Portfolio:items) ()> used <NodeKey:<Entity:/Global/TradingBook/Delta12>.(Workbook:items) ()>\n",
       "  * <NodeKey:<Entity:/Global/TradingPortfolio/Delta1>.(Portfolio:items) ()> used <NodeKey:<Entity:/Global/TradingBook/Delta13>.(Workbook:items) ()>\n",
       "  * <NodeKey:<Entity:/Global/TradingPortfolio/Delta1>.(Portfolio:items) ()> used <NodeKey:<Entity:/Global/TradingBook/Delta14>.(Workbook:items) ()>\n",
       "  * <NodeKey:<Entity:/Global/TradingPortfolio/Delta1>.(Portfolio:items) ()> used <NodeKey:<Entity:/Global/TradingBook/Delta15>.(Workbook:items) ()>\n",
       "  * <NodeKey:<Entity:/Global/TradingPortfolio/Delta1>.(Portfolio:items) ()> used <NodeKey:<Entity:/Global/TradingBook/Delta16>.(Workbook:items) ()>\n",
       "  * <NodeKey:<Entity:/Global/TradingPortfolio/Delta1>.(Portfolio:items) ()> used <NodeKey:<Entity:/Global/TradingBook/Delta17>.(Workbook:items) ()>\n",
       "  * <NodeKey:<Entity:/Global/TradingPortfolio/Delta1>.(Portfolio:items) ()> used <NodeKey:<Entity:/Global/TradingBook/Delta18>.(Workbook:items) ()>\n",
       "  * <NodeKey:<Entity:/Global/TradingPortfolio/Delta1>.(Portfolio:items) ()> used <NodeKey:<Entity:/Global/TradingBook/Delta19>.(Workbook:items) ()>\n",
       "  * <NodeKey:<Entity:/Global/TradingPortfolio/Delta1>.(Portfolio:items) ()> used <NodeKey:<Entity:/Global/TradingPortfolio/Delta1>.(Portfolio:books) ()>\n",
       "  * <NodeKey:<Entity:/Global/TradingPortfolio/Delta1>.(Portfolio:items) ()> used <NodeKey:<Entity:/Global/TradingPortfolio/Delta1>.(Portfolio:children) ()>\n",
       "  * <NodeKey:<Entity:/Global/TradingPortfolio/ETFs>.(Portfolio:items) ()> used <NodeKey:<Entity:/Global/Clock/Trading>.(Clock:cutoffs) ()>\n",
       "  * <NodeKey:<Entity:/Global/TradingPortfolio/ETFs>.(Portfolio:items) ()> used <NodeKey:<Entity:/Global/TradingBook/ETFs0>.(Workbook:items) ()>\n",
       "  * <NodeKey:<Entity:/Global/TradingPortfolio/ETFs>.(Portfolio:items) ()> used <NodeKey:<Entity:/Global/TradingBook/ETFs1>.(Workbook:items) ()>\n",
       "  * <NodeKey:<Entity:/Global/TradingPortfolio/ETFs>.(Portfolio:items) ()> used <NodeKey:<Entity:/Global/TradingBook/ETFs2>.(Workbook:items) ()>\n",
       "  * <NodeKey:<Entity:/Global/TradingPortfolio/ETFs>.(Portfolio:items) ()> used <NodeKey:<Entity:/Global/TradingBook/ETFs3>.(Workbook:items) ()>\n",
       "  * <NodeKey:<Entity:/Global/TradingPortfolio/ETFs>.(Portfolio:items) ()> used <NodeKey:<Entity:/Global/TradingBook/ETFs4>.(Workbook:items) ()>\n",
       "  * <NodeKey:<Entity:/Global/TradingPortfolio/ETFs>.(Portfolio:items) ()> used <NodeKey:<Entity:/Global/TradingBook/ETFs5>.(Workbook:items) ()>\n",
       "  * <NodeKey:<Entity:/Global/TradingPortfolio/ETFs>.(Portfolio:items) ()> used <NodeKey:<Entity:/Global/TradingBook/ETFs6>.(Workbook:items) ()>\n",
       "  * <NodeKey:<Entity:/Global/TradingPortfolio/ETFs>.(Portfolio:items) ()> used <NodeKey:<Entity:/Global/TradingBook/ETFs7>.(Workbook:items) ()>\n",
       "  * <NodeKey:<Entity:/Global/TradingPortfolio/ETFs>.(Portfolio:items) ()> used <NodeKey:<Entity:/Global/TradingBook/ETFs8>.(Workbook:items) ()>\n",
       "  * <NodeKey:<Entity:/Global/TradingPortfolio/ETFs>.(Portfolio:items) ()> used <NodeKey:<Entity:/Global/TradingBook/ETFs9>.(Workbook:items) ()>\n",
       "  * <NodeKey:<Entity:/Global/TradingPortfolio/ETFs>.(Portfolio:items) ()> used <NodeKey:<Entity:/Global/TradingPortfolio/ETFs>.(Portfolio:books) ()>\n",
       "  * <NodeKey:<Entity:/Global/TradingPortfolio/ETFs>.(Portfolio:items) ()> used <NodeKey:<Entity:/Global/TradingPortfolio/ETFs>.(Portfolio:children) ()>\n",
       "  * <NodeKey:<Entity:/Global/TradingPortfolio/Eq-Inst>.(Portfolio:items) ()> used <NodeKey:<Entity:/Global/Clock/Trading>.(Clock:cutoffs) ()>\n",
       "  * <NodeKey:<Entity:/Global/TradingPortfolio/Eq-Inst>.(Portfolio:items) ()> used <NodeKey:<Entity:/Global/TradingBook/Eq-Inst0>.(Workbook:items) ()>\n",
       "  * <NodeKey:<Entity:/Global/TradingPortfolio/Eq-Inst>.(Portfolio:items) ()> used <NodeKey:<Entity:/Global/TradingBook/Eq-Inst1>.(Workbook:items) ()>\n",
       "  * <NodeKey:<Entity:/Global/TradingPortfolio/Eq-Inst>.(Portfolio:items) ()> used <NodeKey:<Entity:/Global/TradingBook/Eq-Inst2>.(Workbook:items) ()>\n",
       "  * <NodeKey:<Entity:/Global/TradingPortfolio/Eq-Inst>.(Portfolio:items) ()> used <NodeKey:<Entity:/Global/TradingBook/Eq-Inst3>.(Workbook:items) ()>\n",
       "  * <NodeKey:<Entity:/Global/TradingPortfolio/Eq-Inst>.(Portfolio:items) ()> used <NodeKey:<Entity:/Global/TradingBook/Eq-Inst4>.(Workbook:items) ()>\n",
       "  * <NodeKey:<Entity:/Global/TradingPortfolio/Eq-Inst>.(Portfolio:items) ()> used <NodeKey:<Entity:/Global/TradingBook/Eq-Inst5>.(Workbook:items) ()>\n",
       "  * <NodeKey:<Entity:/Global/TradingPortfolio/Eq-Inst>.(Portfolio:items) ()> used <NodeKey:<Entity:/Global/TradingBook/Eq-Inst6>.(Workbook:items) ()>\n",
       "  * <NodeKey:<Entity:/Global/TradingPortfolio/Eq-Inst>.(Portfolio:items) ()> used <NodeKey:<Entity:/Global/TradingBook/Eq-Inst7>.(Workbook:items) ()>\n",
       "  * <NodeKey:<Entity:/Global/TradingPortfolio/Eq-Inst>.(Portfolio:items) ()> used <NodeKey:<Entity:/Global/TradingBook/Eq-Inst8>.(Workbook:items) ()>\n",
       "  * <NodeKey:<Entity:/Global/TradingPortfolio/Eq-Inst>.(Portfolio:items) ()> used <NodeKey:<Entity:/Global/TradingBook/Eq-Inst9>.(Workbook:items) ()>\n",
       "  * <NodeKey:<Entity:/Global/TradingPortfolio/Eq-Inst>.(Portfolio:items) ()> used <NodeKey:<Entity:/Global/TradingPortfolio/Eq-Inst>.(Portfolio:books) ()>\n",
       "  * <NodeKey:<Entity:/Global/TradingPortfolio/Eq-Inst>.(Portfolio:items) ()> used <NodeKey:<Entity:/Global/TradingPortfolio/Eq-Inst>.(Portfolio:children) ()>\n",
       "  * <NodeKey:<Entity:/Global/TradingPortfolio/Eq-Prop>.(Portfolio:items) ()> used <NodeKey:<Entity:/Global/Clock/Trading>.(Clock:cutoffs) ()>\n",
       "  * <NodeKey:<Entity:/Global/TradingPortfolio/Eq-Prop>.(Portfolio:items) ()> used <NodeKey:<Entity:/Global/TradingBook/Eq-Inst0>.(Workbook:items) ()>\n",
       "  * <NodeKey:<Entity:/Global/TradingPortfolio/Eq-Prop>.(Portfolio:items) ()> used <NodeKey:<Entity:/Global/TradingBook/Eq-Prop0>.(Workbook:items) ()>\n",
       "  * <NodeKey:<Entity:/Global/TradingPortfolio/Eq-Prop>.(Portfolio:items) ()> used <NodeKey:<Entity:/Global/TradingBook/Eq-Prop1>.(Workbook:items) ()>\n",
       "  * <NodeKey:<Entity:/Global/TradingPortfolio/Eq-Prop>.(Portfolio:items) ()> used <NodeKey:<Entity:/Global/TradingBook/Eq-Prop2>.(Workbook:items) ()>\n",
       "  * <NodeKey:<Entity:/Global/TradingPortfolio/Eq-Prop>.(Portfolio:items) ()> used <NodeKey:<Entity:/Global/TradingBook/Eq-Prop3>.(Workbook:items) ()>\n",
       "  * <NodeKey:<Entity:/Global/TradingPortfolio/Eq-Prop>.(Portfolio:items) ()> used <NodeKey:<Entity:/Global/TradingBook/Eq-Prop4>.(Workbook:items) ()>\n",
       "  * <NodeKey:<Entity:/Global/TradingPortfolio/Eq-Prop>.(Portfolio:items) ()> used <NodeKey:<Entity:/Global/TradingBook/Eq-Prop5>.(Workbook:items) ()>\n",
       "  * <NodeKey:<Entity:/Global/TradingPortfolio/Eq-Prop>.(Portfolio:items) ()> used <NodeKey:<Entity:/Global/TradingBook/Eq-Prop6>.(Workbook:items) ()>\n",
       "  * <NodeKey:<Entity:/Global/TradingPortfolio/Eq-Prop>.(Portfolio:items) ()> used <NodeKey:<Entity:/Global/TradingBook/Eq-Prop7>.(Workbook:items) ()>\n",
       "  * <NodeKey:<Entity:/Global/TradingPortfolio/Eq-Prop>.(Portfolio:items) ()> used <NodeKey:<Entity:/Global/TradingBook/Eq-Prop8>.(Workbook:items) ()>\n",
       "  * <NodeKey:<Entity:/Global/TradingPortfolio/Eq-Prop>.(Portfolio:items) ()> used <NodeKey:<Entity:/Global/TradingBook/Eq-Prop9>.(Workbook:items) ()>\n",
       "  * <NodeKey:<Entity:/Global/TradingPortfolio/Eq-Prop>.(Portfolio:items) ()> used <NodeKey:<Entity:/Global/TradingPortfolio/Eq-Prop>.(Portfolio:books) ()>\n",
       "  * <NodeKey:<Entity:/Global/TradingPortfolio/Eq-Prop>.(Portfolio:items) ()> used <NodeKey:<Entity:/Global/TradingPortfolio/Eq-Prop>.(Portfolio:children) ()>\n",
       "  * <NodeKey:<Entity:/Global/TradingPortfolio/FX>.(Portfolio:items) ()> used <NodeKey:<Entity:/Global/Clock/Trading>.(Clock:cutoffs) ()>\n",
       "  * <NodeKey:<Entity:/Global/TradingPortfolio/FX>.(Portfolio:items) ()> used <NodeKey:<Entity:/Global/TradingBook/FX0>.(Workbook:items) ()>\n",
       "  * <NodeKey:<Entity:/Global/TradingPortfolio/FX>.(Portfolio:items) ()> used <NodeKey:<Entity:/Global/TradingBook/FX1>.(Workbook:items) ()>\n",
       "  * <NodeKey:<Entity:/Global/TradingPortfolio/FX>.(Portfolio:items) ()> used <NodeKey:<Entity:/Global/TradingBook/FX2>.(Workbook:items) ()>\n",
       "  * <NodeKey:<Entity:/Global/TradingPortfolio/FX>.(Portfolio:items) ()> used <NodeKey:<Entity:/Global/TradingBook/FX3>.(Workbook:items) ()>\n",
       "  * <NodeKey:<Entity:/Global/TradingPortfolio/FX>.(Portfolio:items) ()> used <NodeKey:<Entity:/Global/TradingBook/FX4>.(Workbook:items) ()>\n",
       "  * <NodeKey:<Entity:/Global/TradingPortfolio/FX>.(Portfolio:items) ()> used <NodeKey:<Entity:/Global/TradingBook/FX5>.(Workbook:items) ()>\n",
       "  * <NodeKey:<Entity:/Global/TradingPortfolio/FX>.(Portfolio:items) ()> used <NodeKey:<Entity:/Global/TradingBook/FX6>.(Workbook:items) ()>\n",
       "  * <NodeKey:<Entity:/Global/TradingPortfolio/FX>.(Portfolio:items) ()> used <NodeKey:<Entity:/Global/TradingBook/FX7>.(Workbook:items) ()>\n",
       "  * <NodeKey:<Entity:/Global/TradingPortfolio/FX>.(Portfolio:items) ()> used <NodeKey:<Entity:/Global/TradingBook/FX8>.(Workbook:items) ()>\n",
       "  * <NodeKey:<Entity:/Global/TradingPortfolio/FX>.(Portfolio:items) ()> used <NodeKey:<Entity:/Global/TradingBook/FX9>.(Workbook:items) ()>\n",
       "  * <NodeKey:<Entity:/Global/TradingPortfolio/FX>.(Portfolio:items) ()> used <NodeKey:<Entity:/Global/TradingPortfolio/FX>.(Portfolio:books) ()>\n",
       "  * <NodeKey:<Entity:/Global/TradingPortfolio/FX>.(Portfolio:items) ()> used <NodeKey:<Entity:/Global/TradingPortfolio/FX>.(Portfolio:children) ()>\n",
       "  * <NodeKey:<Entity:/Global/TradingPortfolio/Loans>.(Portfolio:items) ()> used <NodeKey:<Entity:/Global/Clock/Trading>.(Clock:cutoffs) ()>\n",
       "  * <NodeKey:<Entity:/Global/TradingPortfolio/Loans>.(Portfolio:items) ()> used <NodeKey:<Entity:/Global/TradingBook/Loans0>.(Workbook:items) ()>\n",
       "  * <NodeKey:<Entity:/Global/TradingPortfolio/Loans>.(Portfolio:items) ()> used <NodeKey:<Entity:/Global/TradingBook/Loans1>.(Workbook:items) ()>\n",
       "  * <NodeKey:<Entity:/Global/TradingPortfolio/Loans>.(Portfolio:items) ()> used <NodeKey:<Entity:/Global/TradingBook/Loans2>.(Workbook:items) ()>\n",
       "  * <NodeKey:<Entity:/Global/TradingPortfolio/Loans>.(Portfolio:items) ()> used <NodeKey:<Entity:/Global/TradingBook/Loans3>.(Workbook:items) ()>\n",
       "  * <NodeKey:<Entity:/Global/TradingPortfolio/Loans>.(Portfolio:items) ()> used <NodeKey:<Entity:/Global/TradingBook/Loans4>.(Workbook:items) ()>\n",
       "  * <NodeKey:<Entity:/Global/TradingPortfolio/Loans>.(Portfolio:items) ()> used <NodeKey:<Entity:/Global/TradingBook/Loans5>.(Workbook:items) ()>\n",
       "  * <NodeKey:<Entity:/Global/TradingPortfolio/Loans>.(Portfolio:items) ()> used <NodeKey:<Entity:/Global/TradingBook/Loans6>.(Workbook:items) ()>\n",
       "  * <NodeKey:<Entity:/Global/TradingPortfolio/Loans>.(Portfolio:items) ()> used <NodeKey:<Entity:/Global/TradingBook/Loans7>.(Workbook:items) ()>\n",
       "  * <NodeKey:<Entity:/Global/TradingPortfolio/Loans>.(Portfolio:items) ()> used <NodeKey:<Entity:/Global/TradingBook/Loans8>.(Workbook:items) ()>\n",
       "  * <NodeKey:<Entity:/Global/TradingPortfolio/Loans>.(Portfolio:items) ()> used <NodeKey:<Entity:/Global/TradingBook/Loans9>.(Workbook:items) ()>\n",
       "  * <NodeKey:<Entity:/Global/TradingPortfolio/Loans>.(Portfolio:items) ()> used <NodeKey:<Entity:/Global/TradingPortfolio/Loans>.(Portfolio:books) ()>\n",
       "  * <NodeKey:<Entity:/Global/TradingPortfolio/Loans>.(Portfolio:items) ()> used <NodeKey:<Entity:/Global/TradingPortfolio/Loans>.(Portfolio:children) ()>\n",
       "  * <NodeKey:<Entity:/Global/TradingPortfolio/Mtge>.(Portfolio:items) ()> used <NodeKey:<Entity:/Global/Clock/Trading>.(Clock:cutoffs) ()>\n",
       "  * <NodeKey:<Entity:/Global/TradingPortfolio/Mtge>.(Portfolio:items) ()> used <NodeKey:<Entity:/Global/TradingBook/Mtge0>.(Workbook:items) ()>\n",
       "  * <NodeKey:<Entity:/Global/TradingPortfolio/Mtge>.(Portfolio:items) ()> used <NodeKey:<Entity:/Global/TradingBook/Mtge1>.(Workbook:items) ()>\n",
       "  * <NodeKey:<Entity:/Global/TradingPortfolio/Mtge>.(Portfolio:items) ()> used <NodeKey:<Entity:/Global/TradingBook/Mtge2>.(Workbook:items) ()>\n",
       "  * <NodeKey:<Entity:/Global/TradingPortfolio/Mtge>.(Portfolio:items) ()> used <NodeKey:<Entity:/Global/TradingBook/Mtge3>.(Workbook:items) ()>\n",
       "  * <NodeKey:<Entity:/Global/TradingPortfolio/Mtge>.(Portfolio:items) ()> used <NodeKey:<Entity:/Global/TradingBook/Mtge4>.(Workbook:items) ()>\n",
       "  * <NodeKey:<Entity:/Global/TradingPortfolio/Mtge>.(Portfolio:items) ()> used <NodeKey:<Entity:/Global/TradingBook/Mtge5>.(Workbook:items) ()>\n",
       "  * <NodeKey:<Entity:/Global/TradingPortfolio/Mtge>.(Portfolio:items) ()> used <NodeKey:<Entity:/Global/TradingBook/Mtge6>.(Workbook:items) ()>\n",
       "  * <NodeKey:<Entity:/Global/TradingPortfolio/Mtge>.(Portfolio:items) ()> used <NodeKey:<Entity:/Global/TradingBook/Mtge7>.(Workbook:items) ()>\n",
       "  * <NodeKey:<Entity:/Global/TradingPortfolio/Mtge>.(Portfolio:items) ()> used <NodeKey:<Entity:/Global/TradingBook/Mtge8>.(Workbook:items) ()>\n",
       "  * <NodeKey:<Entity:/Global/TradingPortfolio/Mtge>.(Portfolio:items) ()> used <NodeKey:<Entity:/Global/TradingBook/Mtge9>.(Workbook:items) ()>\n",
       "  * <NodeKey:<Entity:/Global/TradingPortfolio/Mtge>.(Portfolio:items) ()> used <NodeKey:<Entity:/Global/TradingPortfolio/Mtge>.(Portfolio:books) ()>\n",
       "  * <NodeKey:<Entity:/Global/TradingPortfolio/Mtge>.(Portfolio:items) ()> used <NodeKey:<Entity:/Global/TradingPortfolio/Mtge>.(Portfolio:children) ()>\n",
       "  * <NodeKey:<Entity:/Global/TradingPortfolio/Rates>.(Portfolio:items) ()> used <NodeKey:<Entity:/Global/Clock/Trading>.(Clock:cutoffs) ()>\n",
       "  * <NodeKey:<Entity:/Global/TradingPortfolio/Rates>.(Portfolio:items) ()> used <NodeKey:<Entity:/Global/TradingBook/Rates0>.(Workbook:items) ()>\n",
       "  * <NodeKey:<Entity:/Global/TradingPortfolio/Rates>.(Portfolio:items) ()> used <NodeKey:<Entity:/Global/TradingBook/Rates1>.(Workbook:items) ()>\n",
       "  * <NodeKey:<Entity:/Global/TradingPortfolio/Rates>.(Portfolio:items) ()> used <NodeKey:<Entity:/Global/TradingBook/Rates2>.(Workbook:items) ()>\n",
       "  * <NodeKey:<Entity:/Global/TradingPortfolio/Rates>.(Portfolio:items) ()> used <NodeKey:<Entity:/Global/TradingBook/Rates3>.(Workbook:items) ()>\n",
       "  * <NodeKey:<Entity:/Global/TradingPortfolio/Rates>.(Portfolio:items) ()> used <NodeKey:<Entity:/Global/TradingBook/Rates4>.(Workbook:items) ()>\n",
       "  * <NodeKey:<Entity:/Global/TradingPortfolio/Rates>.(Portfolio:items) ()> used <NodeKey:<Entity:/Global/TradingBook/Rates5>.(Workbook:items) ()>\n",
       "  * <NodeKey:<Entity:/Global/TradingPortfolio/Rates>.(Portfolio:items) ()> used <NodeKey:<Entity:/Global/TradingBook/Rates6>.(Workbook:items) ()>\n",
       "  * <NodeKey:<Entity:/Global/TradingPortfolio/Rates>.(Portfolio:items) ()> used <NodeKey:<Entity:/Global/TradingBook/Rates7>.(Workbook:items) ()>\n",
       "  * <NodeKey:<Entity:/Global/TradingPortfolio/Rates>.(Portfolio:items) ()> used <NodeKey:<Entity:/Global/TradingBook/Rates8>.(Workbook:items) ()>\n",
       "  * <NodeKey:<Entity:/Global/TradingPortfolio/Rates>.(Portfolio:items) ()> used <NodeKey:<Entity:/Global/TradingBook/Rates9>.(Workbook:items) ()>\n",
       "  * <NodeKey:<Entity:/Global/TradingPortfolio/Rates>.(Portfolio:items) ()> used <NodeKey:<Entity:/Global/TradingPortfolio/Rates>.(Portfolio:books) ()>\n",
       "  * <NodeKey:<Entity:/Global/TradingPortfolio/Rates>.(Portfolio:items) ()> used <NodeKey:<Entity:/Global/TradingPortfolio/Rates>.(Portfolio:children) ()>\n",
       "  * <NodeKey:<Entity:/Global/TradingPortfolio/TopOfTheHouse>.(Portfolio:items) ()> used <NodeKey:<Entity:/Global/TradingPortfolio/Commod>.(Portfolio:items) ()>\n",
       "  * <NodeKey:<Entity:/Global/TradingPortfolio/TopOfTheHouse>.(Portfolio:items) ()> used <NodeKey:<Entity:/Global/TradingPortfolio/Credit>.(Portfolio:items) ()>\n",
       "  * <NodeKey:<Entity:/Global/TradingPortfolio/TopOfTheHouse>.(Portfolio:items) ()> used <NodeKey:<Entity:/Global/TradingPortfolio/Delta1>.(Portfolio:items) ()>\n",
       "  * <NodeKey:<Entity:/Global/TradingPortfolio/TopOfTheHouse>.(Portfolio:items) ()> used <NodeKey:<Entity:/Global/TradingPortfolio/ETFs>.(Portfolio:items) ()>\n",
       "  * <NodeKey:<Entity:/Global/TradingPortfolio/TopOfTheHouse>.(Portfolio:items) ()> used <NodeKey:<Entity:/Global/TradingPortfolio/Eq-Inst>.(Portfolio:items) ()>\n",
       "  * <NodeKey:<Entity:/Global/TradingPortfolio/TopOfTheHouse>.(Portfolio:items) ()> used <NodeKey:<Entity:/Global/TradingPortfolio/Eq-Prop>.(Portfolio:items) ()>\n",
       "  * <NodeKey:<Entity:/Global/TradingPortfolio/TopOfTheHouse>.(Portfolio:items) ()> used <NodeKey:<Entity:/Global/TradingPortfolio/FX>.(Portfolio:items) ()>\n",
       "  * <NodeKey:<Entity:/Global/TradingPortfolio/TopOfTheHouse>.(Portfolio:items) ()> used <NodeKey:<Entity:/Global/TradingPortfolio/Loans>.(Portfolio:items) ()>\n",
       "  * <NodeKey:<Entity:/Global/TradingPortfolio/TopOfTheHouse>.(Portfolio:items) ()> used <NodeKey:<Entity:/Global/TradingPortfolio/Mtge>.(Portfolio:items) ()>\n",
       "  * <NodeKey:<Entity:/Global/TradingPortfolio/TopOfTheHouse>.(Portfolio:items) ()> used <NodeKey:<Entity:/Global/TradingPortfolio/Rates>.(Portfolio:items) ()>\n",
       "  * <NodeKey:<Entity:/Global/TradingPortfolio/TopOfTheHouse>.(Portfolio:items) ()> used <NodeKey:<Entity:/Global/TradingPortfolio/TopOfTheHouse>.(Portfolio:books) ()>\n",
       "  * <NodeKey:<Entity:/Global/TradingPortfolio/TopOfTheHouse>.(Portfolio:items) ()> used <NodeKey:<Entity:/Global/TradingPortfolio/TopOfTheHouse>.(Portfolio:children) ()>\n",
       "1. Inadequate cash discounting model used\n",
       "1. Book appears multiple times\n",
       "  * /Global/TradingBook/Eq-Inst0"
      ],
      "text/plain": [
       "<IPython.core.display.Markdown object>"
      ]
     },
     "metadata": {},
     "output_type": "display_data"
    },
    {
     "data": {
      "text/markdown": [
       "# Compute activity summary (11.63 seconds of wall clock time)"
      ],
      "text/plain": [
       "<IPython.core.display.Markdown object>"
      ]
     },
     "metadata": {},
     "output_type": "display_data"
    },
    {
     "data": {
      "text/markdown": [
       "|key|value|\n",
       "|-|-|\n",
       "|Context|19\n",
       "|Db.Get|2176\n",
       "|GetValue|28897\n",
       "|GetValue/Calc|1031"
      ],
      "text/plain": [
       "<IPython.core.display.Markdown object>"
      ]
     },
     "metadata": {},
     "output_type": "display_data"
    },
    {
     "data": {
      "text/markdown": [
       "\n",
       "### Profile by nodes.\n",
       "* times are in microseconds\n",
       "* cumT is total time spent in funtion\n",
       "* calcT is time spent in function, but not in a child node"
      ],
      "text/plain": [
       "<IPython.core.display.Markdown object>"
      ]
     },
     "metadata": {},
     "output_type": "display_data"
    },
    {
     "data": {
      "text/markdown": [
       "|fn|n|cumT|calcT|cumT/call|sys|\n",
       "|-|-|-|-|-|-|\n",
       "|PnLExplainReport:data|1|11,629,583|18|11,629,583|GetValue\n",
       "|PnLExplainReport:data|1|11,629,565|459|11,629,565|GetValue/Calc\n",
       "|TradingContainer:NPV|11|11,620,229|139|1,056,384|GetValue\n",
       "|TradingContainer:NPV|11|11,620,090|87|1,056,371|GetValue/Calc\n",
       "|PnLExplainReport:cutoffs|1|11,526,910|15|11,526,910|GetValue\n",
       "|PnLExplainReport:cutoffs|1|11,526,894|149|11,526,894|GetValue/Calc\n",
       "|Root:Clocks|47|11,526,647|28,626|245,247|Context\n",
       "|Portfolio:items|41|11,476,281|6,725|279,909|GetValue\n",
       "|Portfolio:items|33|11,475,765|261|347,750|GetValue/Calc\n",
       "|Root:Clocks:4512165784|306|11,468,271|137,800|37,478|Context\n",
       "|Workbook:items|301|10,822,990|2,722|35,956|GetValue\n",
       "|Workbook:items|200|10,820,268|1,785|54,101|GetValue/Calc\n",
       "|Root:Clocks:4512165784:4512165784|400|10,818,483|1,648,773|27,046|Context\n",
       "|TradeOpenEvent|1,014|4,778,193|4,778,193|4,712|Db.Get\n",
       "|TradeOpenEvent:ticket|4,052|4,224,512|34,212|1,042|GetValue\n",
       "|TradingTicket|1,014|4,190,299|4,190,299|4,132|Db.Get\n",
       "|Portfolio:children|66|582,162|670|8,820|GetValue\n",
       "|Portfolio:children|33|581,491|321|17,620|GetValue/Calc\n",
       "|PortfolioUpdateEvent:children|33|396,232|1,699|12,007|GetValue\n",
       "|TradingBook|102|362,808|362,808|3,556|Db.Get\n",
       "|Equity:NPV|15|121,708|185|8,113|GetValue\n",
       "|Equity:NPV|15|121,523|111|8,101|GetValue/Calc\n",
       "|MarketInterface:spot|15|112,410|149|7,494|GetValue\n",
       "|MarketInterface:spot|15|112,261|107|7,484|GetValue/Calc\n",
       "|ExternalRefData:state|15|103,334|162|6,888|GetValue\n",
       "|ExternalRefData:state|15|103,172|120|6,878|GetValue/Calc\n",
       "|Clock:cutoffs|870|84,390|3,633|97|GetValue\n",
       "|Clock:cutoffs|16|80,822|122|5,051|GetValue/Calc\n",
       "|Clock:parent|16|79,987|167|4,999|GetValue\n",
       "|Clock:parent|16|79,820|133|4,988|GetValue/Calc\n",
       "|Root:Amend Portfolio|11|60,895|537|5,535|Context\n",
       "|Root:Amend Portfolio:4512165784|144|59,944|53,559|416|Context\n",
       "|RefData:state|15|56,994|90|3,799|GetValue\n",
       "|RefData:state|4|56,904|33|14,226|GetValue/Calc\n",
       "|PortfolioUpdateEvent|12|50,133|50,133|4,177|Db.Get\n",
       "|TradingPortfolio|10|39,001|39,001|3,900|Db.Get\n",
       "|RefDataUpdateEvent|9|38,367|38,367|4,263|Db.Get\n",
       "|_WorkItemEvent:book2|4,052|29,031|21,753|7|GetValue\n",
       "|_WorkItemEvent:item|2,026|26,217|19,204|12|GetValue\n",
       "|TradingBook:clock|701|23,842|7,455|34|GetValue\n",
       "|_WorkItemEvent:book1|4,052|23,510|23,510|5|GetValue\n",
       "|TradeOpenEvent:quantity|4,052|20,927|20,927|5|GetValue\n",
       "|TradeOpenEvent:premium|2,026|17,796|14,537|8|GetValue\n",
       "|Clock|5|17,202|17,202|3,440|Db.Get\n",
       "|TradingBook:clock|500|16,386|4,787|32|GetValue/Calc\n",
       "|TradeOpenEvent:action|2,026|16,260|16,260|8|GetValue\n",
       "|Root:End|27|13,145|12,360|486|Context\n",
       "|Event:amends|2,083|13,064|13,064|6|GetValue\n",
       "|Root:Start|20|12,652|12,195|632|Context\n",
       "|TradeOpenEvent:unitPrice|2,026|12,579|12,579|6|GetValue\n",
       "|Equity:refdata|15|8,247|172|549|GetValue\n",
       "|MarketInterface:source|15|8,139|162|542|GetValue\n",
       "|Equity:refdata|15|8,074|144|538|GetValue/Calc\n",
       "|MarketInterface:source|15|7,977|110|531|GetValue/Calc\n",
       "|ClockEvent|2|7,796|7,796|3,898|Db.Get\n",
       "|MarketInterface|2|7,311|7,311|3,655|Db.Get\n",
       "|Equity|2|7,013|7,013|3,506|Db.Get\n",
       "|ClockEvent:parent|6|6,936|70|1,156|GetValue\n",
       "|MarketDataSource|2|6,840|6,840|3,420|Db.Get\n",
       "|RootClock|1|6,100|6,100|6,100|Db.Get\n",
       "|Portfolio:clock|140|5,625|1,169|40|GetValue\n",
       "|Root:Amend MarketData|11|5,150|545|468|Context\n",
       "|Portfolio:clock|44|4,455|388|101|GetValue/Calc\n",
       "|Root:Amend MarketData:4512165784|2|4,395|4,321|2,197|Context\n",
       "|MarketDataSource:clock|23|3,796|262|165|GetValue\n",
       "|MarketDataSource:clock|19|3,534|182|186|GetValue/Calc\n",
       "|ForwardCashflow|1|3,258|3,258|3,258|Db.Get\n",
       "|Portfolio:books|63|2,375|607|37|GetValue\n",
       "|Portfolio:books|33|1,985|296|60|GetValue/Calc\n",
       "|Root:Activity Trading|18|1,271|885|70|Context\n",
       "|Root:Activity Portfolio|18|1,034|726|57|Context\n",
       "|Entity:clock|32|936|414|29|GetValue\n",
       "|Root:Start breaks|11|725|512|65|Context\n",
       "|Root:Amend Trading|11|612|429|55|Context\n",
       "|Root:Activity MarketData|11|584|396|53|Context\n",
       "|Entity:clock|16|521|263|32|GetValue/Calc\n",
       "|MarketInterface:sourceName|15|514|145|34|GetValue\n",
       "|MarketInterface:sourceName|15|368|110|24|GetValue/Calc\n",
       "|ForwardCashflow:NPV|11|366|163|33|GetValue\n",
       "|RootClock:cutoffs|43|243|169|5|GetValue\n",
       "|ForwardCashflow:NPV|11|203|89|18|GetValue/Calc\n",
       "|Equity:assetName|15|101|101|6|GetValue\n",
       "|RefDataUpdateEvent:data|15|81|81|5|GetValue\n",
       "|RootClock:cutoffs|1|74|40|74|GetValue/Calc\n",
       "|RootClock:cosmicAll|1|20|10|20|GetValue\n",
       "|CosmicAll:dbState|1|14|9|14|GetValue\n",
       "|PnLExplainReport:valuable|2|13|13|6|GetValue\n",
       "|PnLExplainReport:ts2|2|11|11|5|GetValue\n",
       "|PnLExplainReport:ts1|2|10|10|5|GetValue\n",
       "|RootClock:cosmicAll|1|9|9|9|GetValue/Calc\n",
       "|CosmicAll:dbState|1|5|5|5|GetValue/Calc"
      ],
      "text/plain": [
       "<IPython.core.display.Markdown object>"
      ]
     },
     "metadata": {},
     "output_type": "display_data"
    }
   ],
   "source": [
    "db4 = db.copy()\n",
    "valuable = db4.get(pAll.meta.path())\n",
    "\n",
    "r = PnLExplainReport(valuable=valuable, ts1=eod, ts2=ts7)\n",
    "with ProfileMonitor():\n",
    "    with SummaryMonitor():\n",
    "        r.run()"
   ]
  }
 ],
 "metadata": {
  "kernelspec": {
   "display_name": "Python 2",
   "language": "python",
   "name": "python2"
  },
  "language_info": {
   "codemirror_mode": {
    "name": "ipython",
    "version": 2
   },
   "file_extension": ".py",
   "mimetype": "text/x-python",
   "name": "python",
   "nbconvert_exporter": "python",
   "pygments_lexer": "ipython2",
   "version": "2.7.13"
  }
 },
 "nbformat": 4,
 "nbformat_minor": 2
}
