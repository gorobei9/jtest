{
 "cells": [
  {
   "cell_type": "markdown",
   "metadata": {},
   "source": [
    "# An Explain Report\n",
    "\n",
    "This is a POC for an explain report: given a number at time T1 and time T2, introspect the clocks involved to produce a simple linear breakdown\n",
    "of what changed on various timelines to account for the change in the number between T1 and T2.\n",
    "\n",
    "The report is an ordered sequence of clock changes: the sum of changes should equal to the total change. The order of application is important: change the\n",
    "ordering, and the resultant values may change. It's not a Jacobian-type report with T1 deltas and no ordering.\n",
    "\n",
    "The real reason for this workbook is to start working on the node class optimizations and metadata management."
   ]
  },
  {
   "cell_type": "markdown",
   "metadata": {},
   "source": [
    "## Footnotes\n",
    "\n",
    "Footnotes are one of the simplest types of metadata:\n",
    "* Any computation (even a simple read of a constant value) may declare it has footnotes\n",
    "* Every computation gets the footnote of all its inputs\n",
    "\n",
    "Footnoting is based on a number of observations about large software systems (say, 1M LOC or more):\n",
    "* Any complex report (i.e. computation output) will generally be somewhat wrong, misleading, or out of date.\n",
    "* If you want 100% correctness and truth, your report will raise an exception every time you run it.\n",
    "* If you just want it to run, you'll get a result, but some log file on some machine in some compute farm will have a message explaining why your result is wrong.\n",
    "* And you won't see that message.\n",
    "* And that message may have leaked information that bad actors can read.\n",
    "* And you won't trust this system, so your own developers will copy the underlying data and write their own version of the report with all the same issues.\n",
    "* Now you don't have a problem, but your company now has two problems.\n",
    "\n",
    "Footnotes summary:\n",
    "* Are the documentation of problems from the producer's point of view\n",
    "* Make no claim about usability of results, etc, for a specific consumer\n",
    "* May be programmatically removed/condensed/replaced at controlled code points\n"
   ]
  },
  {
   "cell_type": "code",
   "execution_count": 1,
   "metadata": {
    "collapsed": false
   },
   "outputs": [
    {
     "name": "stdout",
     "output_type": "stream",
     "text": [
      "<mand.db.ObjectDb object at 0x10bcb7350>: 231, mem=True, ro=False: entities=9, map=2\n"
     ]
    }
   ],
   "source": [
    "import mand.core\n",
    "\n",
    "from mand.core import Entity, node, Context\n",
    "from mand.core import ObjectDb, Timestamp, Context, getNode, _tr\n",
    "from mand.core import ProfileMonitor\n",
    "from mand.core import displayDict, displayMarkdown, displayListOfDicts, displayHeader\n",
    "from mand.core import find\n",
    "from mand.demos.trading import makeWorld, bookSomeTrades\n",
    "\n",
    "db = ObjectDb()\n",
    "\n",
    "from mand.lib.dbsetup import setUpDb\n",
    "setUpDb(db)\n",
    "db.describe()"
   ]
  },
  {
   "cell_type": "code",
   "execution_count": 2,
   "metadata": {
    "collapsed": false
   },
   "outputs": [
    {
     "name": "stdout",
     "output_type": "stream",
     "text": [
      "makeWorld, TopOfTheHouse is: <Entity:/Global/TradingPortfolio/TopOfTheHouse>\n",
      "    # books: 100\n",
      "    # children: 10\n"
     ]
    }
   ],
   "source": [
    "with db:\n",
    "    pWorld = makeWorld()\n",
    "    \n",
    "pAll, bExt, bExt2 = pWorld.children()\n",
    "p1 = pAll.children()[0]\n",
    "p2 = pAll.children()[1]\n",
    "#p3 = pAll.children()[2]\n",
    "p4 = pAll.children()[3]\n",
    "\n",
    "#b1 = p1.children()[0]\n",
    "b2 = p2.children()[0]\n",
    "#b3 = p3.children()[0]\n",
    "b4 = p4.children()[0]"
   ]
  },
  {
   "cell_type": "markdown",
   "metadata": {},
   "source": [
    "# Book some trades\n",
    "\n",
    "This time, we throw a few thousand in..."
   ]
  },
  {
   "cell_type": "code",
   "execution_count": 3,
   "metadata": {
    "collapsed": false
   },
   "outputs": [],
   "source": [
    "ts0, ts1, ts2, ts3, ts4, ts5, eod, ts6 = bookSomeTrades(pWorld)"
   ]
  },
  {
   "cell_type": "markdown",
   "metadata": {},
   "source": [
    "# An Explain Report\n",
    "\n",
    "This is a mix of abstractions at the Core, DBA, and BA, and User levels. But, it does the job for now..."
   ]
  },
  {
   "cell_type": "code",
   "execution_count": 4,
   "metadata": {
    "collapsed": false,
    "scrolled": false
   },
   "outputs": [
    {
     "data": {
      "text/markdown": [
       "# PnL explain for TopOfTheHouse: 5236.00"
      ],
      "text/plain": [
       "<IPython.core.display.Markdown object>"
      ]
     },
     "metadata": {},
     "output_type": "display_data"
    },
    {
     "data": {
      "text/markdown": [
       "**Caveat: this report encountered problems. See footnotes at bottom.**"
      ],
      "text/plain": [
       "<IPython.core.display.Markdown object>"
      ]
     },
     "metadata": {},
     "output_type": "display_data"
    },
    {
     "data": {
      "text/markdown": [
       "|Activity|PnL|\n",
       "|-|-|\n",
       "|Starting balance breaks|0.00\n",
       "|prior day amends: MarketData|0.00\n",
       "|prior day amends: Portfolio|0.00\n",
       "|prior day amends: Trading|-4.00\n",
       "|activity: MarketData|5240.00\n",
       "|activity: Portfolio|0.00\n",
       "|activity: Trading|0.00\n",
       "|Ending balance breaks|0.00"
      ],
      "text/plain": [
       "<IPython.core.display.Markdown object>"
      ]
     },
     "metadata": {},
     "output_type": "display_data"
    },
    {
     "data": {
      "text/markdown": [
       "## Footnotes:"
      ],
      "text/plain": [
       "<IPython.core.display.Markdown object>"
      ]
     },
     "metadata": {},
     "output_type": "display_data"
    },
    {
     "data": {
      "text/markdown": [
       "1. Inadequate cash discounting model used"
      ],
      "text/plain": [
       "<IPython.core.display.Markdown object>"
      ]
     },
     "metadata": {},
     "output_type": "display_data"
    }
   ],
   "source": [
    "class Report(Entity):\n",
    "    @node(stored=True)\n",
    "    def valuable(self):\n",
    "        return None\n",
    "    \n",
    "    @node(stored=True)\n",
    "    def ts1(self):\n",
    "        return None\n",
    "    \n",
    "    @node(stored=True)\n",
    "    def ts2(self):\n",
    "        return None\n",
    "    \n",
    "    @node\n",
    "    def data(self):\n",
    "        valuable = self.valuable()\n",
    "        ts1 = self.ts1()\n",
    "        ts2 = self.ts2()\n",
    "        clock = valuable.getObj(_tr.RootClock, 'Main')\n",
    "    \n",
    "        def clocks(ts):\n",
    "            def fn(node):\n",
    "                obj = node.key[0]\n",
    "                m = node.key[1].split(':')[-1]\n",
    "                if isinstance(obj, _tr.Clock) and m == 'cutoffs':\n",
    "                    return True\n",
    "            with Context({clock.cutoffs: ts}, 'Clocks'):\n",
    "                nodes = find(valuable.NPV, fn)\n",
    "                return dict( [ (node.tweakPoint, node) for node in nodes ] )\n",
    "    \n",
    "        allNodes = clocks(ts1)\n",
    "    \n",
    "        allNodes.update(clocks(ts2))\n",
    "        nodes = allNodes.values() \n",
    "    \n",
    "        # IRL, we'd sort these according to some business req...\n",
    "        # And our clocks might be arranged in an N-level tree...\n",
    "        nodes = sorted(nodes, key = lambda node: node.key[0].meta.name())\n",
    "    \n",
    "        data = []\n",
    "        curr = [0]\n",
    "        def add(title, npv):\n",
    "            pnl = npv - curr[0]\n",
    "            curr[0] = npv\n",
    "            data.append( {'Activity': title, 'PnL': pnl } )\n",
    "\n",
    "        with Context({clock.cutoffs: ts1}, 'Start'):\n",
    "            curr = [ valuable.NPV() ] # Starting balance\n",
    "    \n",
    "        tweaks = {}\n",
    "        for n in nodes:\n",
    "            tweaks[n.tweakPoint] = ts1\n",
    "        with Context(tweaks, name='Start breaks'):\n",
    "            start = valuable.NPV()\n",
    "            add('Starting balance breaks', start)\n",
    "\n",
    "        tsAmend = Timestamp(t=ts2.transactionTime, v=ts1.validTime)\n",
    "        # XXX - modifying tweaks in place is a bit evil\n",
    "        # This is only safe because I know Context() effectively copies, so this works\n",
    "        # for now.\n",
    "        for n in nodes:\n",
    "            tweaks[n.tweakPoint] = tsAmend\n",
    "            name = n.key[0].meta.name()\n",
    "            with Context(tweaks, name='Amend %s' % name):\n",
    "                add('prior day amends: %s' % name, valuable.NPV())\n",
    "        for n in nodes:\n",
    "            tweaks[n.tweakPoint] = ts2\n",
    "            name = n.key[0].meta.name()\n",
    "            with Context(tweaks, name='Activity %s' % name):\n",
    "                add('activity: %s' % name, valuable.NPV())\n",
    "    \n",
    "        with Context({clock.cutoffs: ts2}, name='End'):\n",
    "            end = valuable.NPV()\n",
    "            add('Ending balance breaks', end)\n",
    "\n",
    "        title = 'PnL explain for %s: %s' % (valuable.meta.name(), end-start)\n",
    "        return data, title\n",
    "\n",
    "    def run(self):\n",
    "        data, title = self.data()\n",
    "        node = getNode(self.data)\n",
    "        footnotes = node.footnotes.values()\n",
    "        displayHeader('%s' % title)\n",
    "        if footnotes:\n",
    "            displayMarkdown('**Caveat: this report encountered problems. See footnotes at bottom.**')\n",
    "        displayListOfDicts(data, names=['Activity', 'PnL'] )\n",
    "        if footnotes:\n",
    "            displayMarkdown('## Footnotes:')\n",
    "            txt = '\\n'.join( [ '1. %s' % f for f in footnotes])\n",
    "            displayMarkdown(txt)\n",
    "    \n",
    "r = Report(valuable=pAll, ts1=eod, ts2=ts6)\n",
    "r.run()"
   ]
  },
  {
   "cell_type": "markdown",
   "metadata": {},
   "source": [
    "## Add some inconsistent data [Test]\n",
    "\n",
    "Book b2 should appear multiple times in some portfolio trees and be flagged accordingly..."
   ]
  },
  {
   "cell_type": "code",
   "execution_count": 5,
   "metadata": {
    "collapsed": false
   },
   "outputs": [],
   "source": [
    "with db:\n",
    "    p1.setChildren(p1.children() + [b2])\n",
    "\n",
    "ts7 = Timestamp()"
   ]
  },
  {
   "cell_type": "markdown",
   "metadata": {},
   "source": [
    "# Footnotes\n",
    "\n",
    "Note the report calculation has run, but attached appropriate caveats to the output:"
   ]
  },
  {
   "cell_type": "code",
   "execution_count": 6,
   "metadata": {
    "collapsed": false,
    "scrolled": false
   },
   "outputs": [
    {
     "data": {
      "text/markdown": [
       "# PnL explain for TopOfTheHouse: 6256.00"
      ],
      "text/plain": [
       "<IPython.core.display.Markdown object>"
      ]
     },
     "metadata": {},
     "output_type": "display_data"
    },
    {
     "data": {
      "text/markdown": [
       "**Caveat: this report encountered problems. See footnotes at bottom.**"
      ],
      "text/plain": [
       "<IPython.core.display.Markdown object>"
      ]
     },
     "metadata": {},
     "output_type": "display_data"
    },
    {
     "data": {
      "text/markdown": [
       "|Activity|PnL|\n",
       "|-|-|\n",
       "|Starting balance breaks|0.00\n",
       "|prior day amends: MarketData|0.00\n",
       "|prior day amends: Portfolio|0.00\n",
       "|prior day amends: Trading|-4.00\n",
       "|activity: MarketData|5240.00\n",
       "|activity: Portfolio|1020.00\n",
       "|activity: Trading|0.00\n",
       "|Ending balance breaks|0.00"
      ],
      "text/plain": [
       "<IPython.core.display.Markdown object>"
      ]
     },
     "metadata": {},
     "output_type": "display_data"
    },
    {
     "data": {
      "text/markdown": [
       "## Footnotes:"
      ],
      "text/plain": [
       "<IPython.core.display.Markdown object>"
      ]
     },
     "metadata": {},
     "output_type": "display_data"
    },
    {
     "data": {
      "text/markdown": [
       "1. Inadequate cash discounting model used\n",
       "1. Book appears multiple times: /Global/TradingBook/Eq-Inst0"
      ],
      "text/plain": [
       "<IPython.core.display.Markdown object>"
      ]
     },
     "metadata": {},
     "output_type": "display_data"
    },
    {
     "data": {
      "text/markdown": [
       "\n",
       "### Profile by nodes.\n",
       "* times are in microseconds\n",
       "* cumT is total time spent in funtion\n",
       "* calcT is time spent in function, but not in a child node"
      ],
      "text/plain": [
       "<IPython.core.display.Markdown object>"
      ]
     },
     "metadata": {},
     "output_type": "display_data"
    },
    {
     "data": {
      "text/markdown": [
       "|fn|n|cumT|calcT|cumT/call|sys|\n",
       "|-|-|-|-|-|-|\n",
       "|Report:data|1|83,509,262|44|83,509,262|GetValue\n",
       "|Report:data|1|83,509,217|1,833|83,509,217|GetValue/Calc\n",
       "|TradingContainer:NPV|11|83,291,325|481|7,571,938|GetValue\n",
       "|TradingContainer:NPV|11|83,290,843|5,702|7,571,894|GetValue/Calc\n",
       "|Portfolio:items|121|82,674,153|4,012|683,257|GetValue\n",
       "|Portfolio:items|121|82,673,807|102,814|683,254|GetValue/Calc\n",
       "|Workbook:items|1,104|78,274,493|36,841|70,900|GetValue\n",
       "|Workbook:items|1,100|78,237,652|34,440,106|71,125|GetValue/Calc\n",
       "|Root:Clocks|2|52,703,429|200,712|26,351,714|Context\n",
       "|TradeOpenEvent:ticket|22,286|24,145,190|500,702|1,083|GetValue\n",
       "|TradingTicket|1,014|23,644,487|23,644,487|23,318|Db.Get\n",
       "|TradeOpenEvent|1,014|16,559,197|16,559,197|16,330|Db.Get\n",
       "|Root:Amend MarketData|1|6,657,507|546|6,657,507|Context\n",
       "|Root:Start breaks|1|4,774,165|281|4,774,165|Context\n",
       "|Portfolio:children|242|4,273,462|5,290|17,658|GetValue\n",
       "|Portfolio:children|121|4,268,171|1,772,429|35,274|GetValue/Calc\n",
       "|Root:Amend Portfolio|1|3,838,136|153|3,838,136|Context\n",
       "|Root:Start|1|3,115,121|84|3,115,121|Context\n",
       "|Root:Amend Trading|1|3,001,571|161|3,001,571|Context\n",
       "|Root:Activity Portfolio|1|2,854,208|118|2,854,208|Context\n",
       "|Root:Activity MarketData|1|2,528,877|126|2,528,877|Context\n",
       "|PortfolioUpdateEvent:children|121|2,110,382|24,403|17,441|GetValue\n",
       "|Root:End|1|2,026,770|120|2,026,770|Context\n",
       "|Root:Activity Trading|1|1,993,953|113|1,993,953|Context\n",
       "|TradingBook|102|1,979,119|1,979,119|19,403|Db.Get\n",
       "|Equity:NPV|15|601,120|641|40,074|GetValue\n",
       "|Equity:NPV|15|600,479|1,476|40,031|GetValue/Calc\n",
       "|MarketInterface:spot|15|569,103|2,099|37,940|GetValue\n",
       "|MarketInterface:spot|15|567,003|1,365|37,800|GetValue/Calc\n",
       "|ExternalRefData:state|15|529,732|410|35,315|GetValue\n",
       "|ExternalRefData:state|15|529,322|899|35,288|GetValue/Calc\n",
       "|RefData:state|15|528,422|451|35,228|GetValue\n",
       "|RefData:state|15|527,971|197,926|35,198|GetValue/Calc\n",
       "|_WorkItemEvent:book1|22,286|469,224|469,224|21|GetValue\n",
       "|_WorkItemEvent:book2|22,286|463,758|428,515|20|GetValue\n",
       "|TradeOpenEvent:quantity|22,286|385,584|385,584|17|GetValue\n",
       "|Clock:cutoffs|2,480|384,737|30,249|155|GetValue\n",
       "|Clock:cutoffs|20|354,754|2,039|17,737|GetValue/Calc\n",
       "|Clock:parent|20|352,314|706|17,615|GetValue\n",
       "|Clock:parent|20|351,607|282,126|17,580|GetValue/Calc\n",
       "|TradeOpenEvent:premium|11,143|332,222|316,431|29|GetValue\n",
       "|_WorkItemEvent:item|11,143|325,173|295,243|29|GetValue\n",
       "|PortfolioUpdateEvent|12|297,612|297,612|24,801|Db.Get\n",
       "|TradeOpenEvent:action|11,143|293,666|293,666|26|GetValue\n",
       "|TradeOpenEvent:unitPrice|11,143|246,295|246,295|22|GetValue\n",
       "|Event:amends|11,340|227,774|227,774|20|GetValue\n",
       "|TradingBook:clock|2,200|178,750|93,735|81|GetValue\n",
       "|RefDataUpdateEvent|9|148,153|148,153|16,461|Db.Get\n",
       "|TradingPortfolio|10|142,103|142,103|14,210|Db.Get\n",
       "|TradingBook:clock|1,100|85,015|69,738|77|GetValue/Calc\n",
       "|Clock|5|81,927|81,927|16,385|Db.Get\n",
       "|MarketInterface:source|15|35,905|387|2,393|GetValue\n",
       "|MarketInterface:source|15|35,518|1,296|2,367|GetValue/Calc\n",
       "|ClockEvent:parent|8|33,749|394|4,218|GetValue\n",
       "|MarketDataSource|2|33,643|33,643|16,821|Db.Get\n",
       "|ClockEvent|2|32,890|32,890|16,445|Db.Get\n",
       "|Equity|2|29,930|29,930|14,965|Db.Get\n",
       "|Equity:refdata|15|29,899|453|1,993|GetValue\n",
       "|Equity:refdata|15|29,445|2,078|1,963|GetValue/Calc\n",
       "|MarketInterface|2|26,805|26,805|13,402|Db.Get\n",
       "|Portfolio:clock|242|26,690|7,549|110|GetValue\n",
       "|MarketDataSource:clock|30|21,882|1,142|729|GetValue\n",
       "|MarketDataSource:clock|15|20,739|688|1,382|GetValue/Calc\n",
       "|Portfolio:books|231|20,720|5,311|89|GetValue\n",
       "|Portfolio:clock|121|19,140|5,895|158|GetValue/Calc\n",
       "|Portfolio:books|121|16,561|14,058|136|GetValue/Calc\n",
       "|ForwardCashflow|1|15,791|15,791|15,791|Db.Get\n",
       "|RootClock|1|13,508|13,508|13,508|Db.Get\n",
       "|ForwardCashflow:NPV|11|9,866|9,577|896|GetValue\n",
       "|RefDataUpdateEvent:data|58|7,233|7,233|124|GetValue\n",
       "|Entity:clock|40|2,127|1,299|53|GetValue\n",
       "|Entity:clock|20|827|827|41|GetValue/Calc\n",
       "|RootClock:cutoffs|52|648|648|12|GetValue\n",
       "|MarketInterface:sourceName|15|577|424|38|GetValue\n",
       "|Equity:assetName|15|562|562|37|GetValue\n",
       "|ForwardCashflow:NPV|11|288|288|26|GetValue/Calc\n",
       "|MarketInterface:sourceName|15|153|153|10|GetValue/Calc\n",
       "|Report:valuable|1|87|87|87|GetValue\n",
       "|Report:ts1|1|24|24|24|GetValue\n",
       "|Report:ts2|1|22|22|22|GetValue"
      ],
      "text/plain": [
       "<IPython.core.display.Markdown object>"
      ]
     },
     "metadata": {},
     "output_type": "display_data"
    }
   ],
   "source": [
    "db3 = db.copy()\n",
    "p = db3._get(pAll.meta.path())\n",
    "\n",
    "with ProfileMonitor(mode='sum'): \n",
    "    r = Report(valuable=p, ts1=eod, ts2=ts7)\n",
    "    r.run()"
   ]
  }
 ],
 "metadata": {
  "kernelspec": {
   "display_name": "Python 2",
   "language": "python",
   "name": "python2"
  },
  "language_info": {
   "codemirror_mode": {
    "name": "ipython",
    "version": 2
   },
   "file_extension": ".py",
   "mimetype": "text/x-python",
   "name": "python",
   "nbconvert_exporter": "python",
   "pygments_lexer": "ipython2",
   "version": "2.7.13"
  }
 },
 "nbformat": 4,
 "nbformat_minor": 2
}
