{
 "cells": [
  {
   "cell_type": "markdown",
   "metadata": {},
   "source": [
    "# An Explain Report\n",
    "\n",
    "This is a POC for an explain report: given a number at time T1 and time T2, introspect the clocks involved to produce a simple linear breakdown\n",
    "of what changed on various timelines to account for the change in the number between T1 and T2.\n",
    "\n",
    "The report is an ordered sequence of clock changes: the sum of changes should equal to the total change. The order of application is important: change the\n",
    "ordering, and the resultant values may change. It's not a Jacobian-type report with T1 deltas and no ordering.\n",
    "\n",
    "The real reason for this workbook is to start working on the node class optimizations and metadata management."
   ]
  },
  {
   "cell_type": "markdown",
   "metadata": {},
   "source": [
    "## Footnotes\n",
    "\n",
    "Footnotes are one of the simplest types of metadata:\n",
    "* Any computation (even a simple read of a constant value) may declare it has footnotes\n",
    "* Every computation gets the footnote of all its inputs\n",
    "\n",
    "Footnoting is based on a number of observations about large software systems (say, 1M LOC or more):\n",
    "* Any complex report (i.e. computation output) will generally be somewhat wrong, misleading, or out of date.\n",
    "* If you want 100% correctness and truth, your report will raise an exception every time you run it.\n",
    "* If you just want it to run, you'll get a result, but some log file on some machine in some compute farm will have a message explaining why your result is wrong.\n",
    "* And you won't see that message.\n",
    "* And that message may have leaked information that bad actors can read.\n",
    "* And you won't trust this system, so your own developers will copy the underlying data and write their own version of the report with all the same issues.\n",
    "* Now you don't have a problem, but your company now has two problems.\n",
    "\n",
    "Footnotes summary:\n",
    "* Are the documentation of problems from the producer's point of view\n",
    "* Make no claim about usability of results, etc, for a specific consumer\n",
    "* May be programmatically removed/condensed/replaced at controlled code points\n"
   ]
  },
  {
   "cell_type": "code",
   "execution_count": 1,
   "metadata": {
    "collapsed": false
   },
   "outputs": [
    {
     "name": "stdout",
     "output_type": "stream",
     "text": [
      "<mand.db.ObjectDb object at 0x10f166ef0>: 31, mem=True, ro=False: entities=9, map=2\n"
     ]
    }
   ],
   "source": [
    "from mand.core import Entity, node, Context\n",
    "from mand.core import ObjectDb, Timestamp, getNode, _tr\n",
    "from mand.core import ProfileMonitor\n",
    "from mand.core import displayDict, displayMarkdown, displayListOfDicts, displayHeader\n",
    "from mand.core import find\n",
    "from mand.demos.trading import makeWorld, bookSomeTrades\n",
    "\n",
    "db = ObjectDb()\n",
    "\n",
    "from mand.lib.dbsetup import setUpDb\n",
    "setUpDb(db)\n",
    "db.describe()"
   ]
  },
  {
   "cell_type": "code",
   "execution_count": 2,
   "metadata": {
    "collapsed": false
   },
   "outputs": [
    {
     "name": "stdout",
     "output_type": "stream",
     "text": [
      "makeWorld, TopOfTheHouse is: <Entity:/Global/TradingPortfolio/TopOfTheHouse>\n",
      "    # books: 100\n",
      "    # children: 10\n"
     ]
    }
   ],
   "source": [
    "with db:\n",
    "    pWorld = makeWorld()\n",
    "    \n",
    "pAll, bExt, bExt2 = pWorld.children()\n",
    "p1 = pAll.children()[0]\n",
    "p2 = pAll.children()[1]\n",
    "p4 = pAll.children()[3]\n",
    "\n",
    "b2 = p2.children()[0]\n",
    "b4 = p4.children()[0]"
   ]
  },
  {
   "cell_type": "markdown",
   "metadata": {},
   "source": [
    "# Book some trades\n",
    "\n",
    "This time, we throw a few thousand in..."
   ]
  },
  {
   "cell_type": "code",
   "execution_count": 3,
   "metadata": {
    "collapsed": false
   },
   "outputs": [],
   "source": [
    "ts0, ts1, ts2, ts3, ts4, ts5, eod, ts6 = bookSomeTrades(pWorld)"
   ]
  },
  {
   "cell_type": "markdown",
   "metadata": {},
   "source": [
    "# An Explain Report\n",
    "\n",
    "This is a mix of abstractions at the Core, DBA, and BA, and User levels. But, it does the job for now..."
   ]
  },
  {
   "cell_type": "code",
   "execution_count": 4,
   "metadata": {
    "collapsed": false,
    "scrolled": false
   },
   "outputs": [
    {
     "data": {
      "text/markdown": [
       "1. Inadequate cash discounting model used"
      ],
      "text/plain": [
       "<IPython.core.display.Markdown object>"
      ]
     },
     "metadata": {},
     "output_type": "display_data"
    },
    {
     "data": {
      "text/markdown": [
       "# PnL explain for TopOfTheHouse: 5236.00"
      ],
      "text/plain": [
       "<IPython.core.display.Markdown object>"
      ]
     },
     "metadata": {},
     "output_type": "display_data"
    },
    {
     "data": {
      "text/markdown": [
       "**Caveat: this report encountered problems. See footnotes at bottom.**"
      ],
      "text/plain": [
       "<IPython.core.display.Markdown object>"
      ]
     },
     "metadata": {},
     "output_type": "display_data"
    },
    {
     "data": {
      "text/markdown": [
       "|Activity|PnL|\n",
       "|-|-|\n",
       "|Starting balance breaks|0.00\n",
       "|prior day amends: MarketData|0.00\n",
       "|prior day amends: Portfolio|0.00\n",
       "|prior day amends: Trading|-4.00\n",
       "|activity: MarketData|5240.00\n",
       "|activity: Portfolio|0.00\n",
       "|activity: Trading|0.00\n",
       "|Ending balance breaks|0.00"
      ],
      "text/plain": [
       "<IPython.core.display.Markdown object>"
      ]
     },
     "metadata": {},
     "output_type": "display_data"
    },
    {
     "data": {
      "text/markdown": [
       "## Footnotes:"
      ],
      "text/plain": [
       "<IPython.core.display.Markdown object>"
      ]
     },
     "metadata": {},
     "output_type": "display_data"
    },
    {
     "data": {
      "text/markdown": [
       "1. Inadequate cash discounting model used"
      ],
      "text/plain": [
       "<IPython.core.display.Markdown object>"
      ]
     },
     "metadata": {},
     "output_type": "display_data"
    }
   ],
   "source": [
    "class Report(Entity):\n",
    "    @node(stored=True)\n",
    "    def valuable(self):\n",
    "        return None\n",
    "    \n",
    "    @node(stored=True)\n",
    "    def ts1(self):\n",
    "        return None\n",
    "    \n",
    "    @node(stored=True)\n",
    "    def ts2(self):\n",
    "        return None\n",
    "    \n",
    "    @node\n",
    "    def cutoffs(self):\n",
    "        valuable = self.valuable()\n",
    "        ts1 = self.ts1()\n",
    "        ts2 = self.ts2()\n",
    "        \n",
    "        clock = valuable.getObj(_tr.RootClock, 'Main')\n",
    "        \n",
    "        def cuts(ts):\n",
    "            def fn(node):\n",
    "                obj = node.key.object()\n",
    "                m = node.key.shortName()\n",
    "                if isinstance(obj, _tr.Clock) and m == 'cutoffs':\n",
    "                    return True\n",
    "            with Context({clock.cutoffs: ts}, 'Clocks'):\n",
    "                nodes = find(valuable.NPV, fn)\n",
    "                return nodes\n",
    "\n",
    "        ret = {}\n",
    "        for n in cuts(ts1):\n",
    "            ret[n.key._key] = n\n",
    "        for n in cuts(ts2):\n",
    "            ret[n.key._key] = n\n",
    "        return ret.values()\n",
    "    \n",
    "    @node\n",
    "    def data(self):\n",
    "        valuable = self.valuable()\n",
    "        ts1 = self.ts1()\n",
    "        ts2 = self.ts2()\n",
    "        clock = valuable.getObj(_tr.RootClock, 'Main')\n",
    "    \n",
    "        nodes = self.cutoffs()\n",
    "    \n",
    "        # IRL, we'd sort these according to some business req...\n",
    "        # And our clocks might be arranged in an N-level tree...\n",
    "        nodes = sorted(nodes, key = lambda node: node.object().meta.name())\n",
    "    \n",
    "        data = []\n",
    "        curr = [0]\n",
    "        def add(title, npv):\n",
    "            pnl = npv - curr[0]\n",
    "            curr[0] = npv\n",
    "            data.append( {'Activity': title, 'PnL': pnl } )\n",
    "\n",
    "        with Context({clock.cutoffs: ts1}, 'Start'):\n",
    "            curr = [ valuable.NPV() ] # Starting balance\n",
    "    \n",
    "        tweaks = {}\n",
    "        for n in nodes:\n",
    "            tweaks[n] = ts1\n",
    "        with Context(tweaks, name='Start breaks'):\n",
    "            start = valuable.NPV()\n",
    "            add('Starting balance breaks', start)\n",
    "\n",
    "        tsAmend = Timestamp(t=ts2.transactionTime, v=ts1.validTime)\n",
    "        # XXX - modifying tweaks in place is a bit evil\n",
    "        # This is only safe because I know Context() effectively copies, so this works\n",
    "        # for now.\n",
    "        for n in nodes:\n",
    "            tweaks[n] = tsAmend\n",
    "            name = n.object().meta.name()\n",
    "            with Context(tweaks, name='Amend %s' % name):\n",
    "                add('prior day amends: %s' % name, valuable.NPV())\n",
    "        for n in nodes:\n",
    "            tweaks[n] = ts2\n",
    "            name = n.object().meta.name()\n",
    "            with Context(tweaks, name='Activity %s' % name):\n",
    "                add('activity: %s' % name, valuable.NPV())\n",
    "    \n",
    "        with Context({clock.cutoffs: ts2}, name='End'):\n",
    "            end = valuable.NPV()\n",
    "            add('Ending balance breaks', end)\n",
    "\n",
    "        title = 'PnL explain for %s: %s' % (valuable.meta.name(), end-start)\n",
    "        return data, title\n",
    "\n",
    "    def run(self):\n",
    "        data, title = self.data()\n",
    "        node = getNode(self.data)\n",
    "        footnotes = node.footnotes.values()\n",
    "        displayHeader('%s' % title)\n",
    "        if footnotes:\n",
    "            displayMarkdown('**Caveat: this report encountered problems. See footnotes at bottom.**')\n",
    "        displayListOfDicts(data, names=['Activity', 'PnL'] )\n",
    "        if footnotes:\n",
    "            displayMarkdown('## Footnotes:')\n",
    "            displayMarkdown(node.footnoteMarkdown())\n",
    "    \n",
    "r = Report(valuable=pAll, ts1=eod, ts2=ts6)\n",
    "r.run()"
   ]
  },
  {
   "cell_type": "markdown",
   "metadata": {},
   "source": [
    "## Add some inconsistent data [Test]\n",
    "\n",
    "Book b2 should appear multiple times in some portfolio trees and be flagged accordingly..."
   ]
  },
  {
   "cell_type": "code",
   "execution_count": 5,
   "metadata": {
    "collapsed": false
   },
   "outputs": [],
   "source": [
    "with db:\n",
    "    p1.setChildren(p1.children() + [b2])\n",
    "\n",
    "ts7 = Timestamp()"
   ]
  },
  {
   "cell_type": "markdown",
   "metadata": {},
   "source": [
    "# Footnotes\n",
    "\n",
    "Note the report calculation has run, but attached appropriate caveats to the output:"
   ]
  },
  {
   "cell_type": "code",
   "execution_count": 6,
   "metadata": {
    "collapsed": false,
    "scrolled": false
   },
   "outputs": [
    {
     "data": {
      "text/markdown": [
       "1. Inadequate cash discounting model used\n",
       "1. Book appears multiple times\n",
       "  * /Global/TradingBook/Eq-Inst0"
      ],
      "text/plain": [
       "<IPython.core.display.Markdown object>"
      ]
     },
     "metadata": {},
     "output_type": "display_data"
    },
    {
     "data": {
      "text/markdown": [
       "# PnL explain for TopOfTheHouse: 6256.00"
      ],
      "text/plain": [
       "<IPython.core.display.Markdown object>"
      ]
     },
     "metadata": {},
     "output_type": "display_data"
    },
    {
     "data": {
      "text/markdown": [
       "**Caveat: this report encountered problems. See footnotes at bottom.**"
      ],
      "text/plain": [
       "<IPython.core.display.Markdown object>"
      ]
     },
     "metadata": {},
     "output_type": "display_data"
    },
    {
     "data": {
      "text/markdown": [
       "|Activity|PnL|\n",
       "|-|-|\n",
       "|Starting balance breaks|0.00\n",
       "|prior day amends: MarketData|0.00\n",
       "|prior day amends: Portfolio|0.00\n",
       "|prior day amends: Trading|-4.00\n",
       "|activity: MarketData|5240.00\n",
       "|activity: Portfolio|1020.00\n",
       "|activity: Trading|0.00\n",
       "|Ending balance breaks|0.00"
      ],
      "text/plain": [
       "<IPython.core.display.Markdown object>"
      ]
     },
     "metadata": {},
     "output_type": "display_data"
    },
    {
     "data": {
      "text/markdown": [
       "## Footnotes:"
      ],
      "text/plain": [
       "<IPython.core.display.Markdown object>"
      ]
     },
     "metadata": {},
     "output_type": "display_data"
    },
    {
     "data": {
      "text/markdown": [
       "1. Inadequate cash discounting model used\n",
       "1. Book appears multiple times\n",
       "  * /Global/TradingBook/Eq-Inst0"
      ],
      "text/plain": [
       "<IPython.core.display.Markdown object>"
      ]
     },
     "metadata": {},
     "output_type": "display_data"
    },
    {
     "data": {
      "text/markdown": [
       "\n",
       "### Profile by nodes.\n",
       "* times are in microseconds\n",
       "* cumT is total time spent in function\n",
       "* calcT is time spent in function, but not in a child node"
      ],
      "text/plain": [
       "<IPython.core.display.Markdown object>"
      ]
     },
     "metadata": {},
     "output_type": "display_data"
    },
    {
     "data": {
      "text/markdown": [
       "|fn|n|cumT|calcT|cumT/call|sys|\n",
       "|-|-|-|-|-|-|\n",
       "|Report:data|1|19,731,587|15|19,731,587|GetValue\n",
       "|Report:data|1|19,731,571|767|19,731,571|GetValue/Calc\n",
       "|TradingContainer:NPV|11|19,663,560|150|1,787,596|GetValue\n",
       "|TradingContainer:NPV|11|19,663,410|79|1,787,582|GetValue/Calc\n",
       "|Portfolio:items|121|19,480,417|1,207|160,995|GetValue\n",
       "|Portfolio:items|121|19,480,316|838|160,994|GetValue/Calc\n",
       "|Workbook:items|1,104|18,363,622|12,165|16,633|GetValue\n",
       "|Workbook:items|1,100|18,351,457|8,250|16,683|GetValue/Calc\n",
       "|Report:cutoffs|1|11,956,687|20|11,956,687|GetValue\n",
       "|Report:cutoffs|1|11,956,667|177|11,956,667|GetValue/Calc\n",
       "|Root:Clocks|548|11,956,478|1,663,885|21,818|Context\n",
       "|TradeOpenEvent|1,014|5,050,171|5,050,171|4,980|Db.Get\n",
       "|TradeOpenEvent:ticket|22,286|4,580,781|111,239|205|GetValue\n",
       "|TradingTicket|1,014|4,469,542|4,469,542|4,407|Db.Get\n",
       "|Root:Activity Portfolio|263|1,089,699|1,023,085|4,143|Context\n",
       "|Portfolio:children|242|1,076,390|1,641|4,447|GetValue\n",
       "|Portfolio:children|121|1,074,748|882|8,882|GetValue/Calc\n",
       "|Root:Amend MarketData|255|992,368|927,729|3,891|Context\n",
       "|Root:Start breaks|255|893,473|821,076|3,503|Context\n",
       "|Root:Start|270|884,315|812,367|3,275|Context\n",
       "|Root:End|278|834,408|765,904|3,001|Context\n",
       "|Root:Activity MarketData|255|789,716|724,508|3,096|Context\n",
       "|Root:Amend Portfolio|255|781,742|717,952|3,065|Context\n",
       "|Root:Amend Trading|255|753,808|691,433|2,956|Context\n",
       "|Root:Activity Trading|263|748,277|686,890|2,845|Context\n",
       "|PortfolioUpdateEvent:children|121|453,387|2,853|3,747|GetValue\n",
       "|TradingBook|102|415,202|415,202|4,070|Db.Get\n",
       "|Equity:NPV|15|181,704|205|12,113|GetValue\n",
       "|Equity:NPV|15|181,498|123|12,099|GetValue/Calc\n",
       "|MarketInterface:spot|15|171,831|185|11,455|GetValue\n",
       "|MarketInterface:spot|15|171,646|135|11,443|GetValue/Calc\n",
       "|ExternalRefData:state|15|161,830|231|10,788|GetValue\n",
       "|ExternalRefData:state|15|161,599|104|10,773|GetValue/Calc\n",
       "|RefData:state|15|161,101|163|10,740|GetValue\n",
       "|RefData:state|15|160,937|109|10,729|GetValue/Calc\n",
       "|Clock:cutoffs|2,480|117,841|8,754|47|GetValue\n",
       "|Clock:cutoffs|20|109,159|143|5,457|GetValue/Calc\n",
       "|Clock:parent|20|108,080|196|5,404|GetValue\n",
       "|Clock:parent|20|107,884|149|5,394|GetValue/Calc\n",
       "|_WorkItemEvent:book2|22,286|98,950|91,991|4|GetValue\n",
       "|_WorkItemEvent:book1|22,286|93,435|93,435|4|GetValue\n",
       "|TradeOpenEvent:quantity|22,286|92,689|92,689|4|GetValue\n",
       "|_WorkItemEvent:item|11,143|71,594|63,587|6|GetValue\n",
       "|TradeOpenEvent:premium|11,143|62,000|58,202|5|GetValue\n",
       "|TradingBook:clock|2,200|59,836|21,744|27|GetValue\n",
       "|TradeOpenEvent:action|11,143|59,102|59,102|5|GetValue\n",
       "|PortfolioUpdateEvent|12|58,935|58,935|4,911|Db.Get\n",
       "|Event:amends|11,340|56,224|56,224|4|GetValue\n",
       "|TradeOpenEvent:unitPrice|11,143|50,705|50,705|4|GetValue\n",
       "|TradingPortfolio|10|42,289|42,289|4,228|Db.Get\n",
       "|RefDataUpdateEvent|9|38,381|38,381|4,264|Db.Get\n",
       "|TradingBook:clock|1,100|38,092|11,544|34|GetValue/Calc\n",
       "|Clock|5|19,994|19,994|3,998|Db.Get\n",
       "|Portfolio:clock|242|11,064|2,835|45|GetValue\n",
       "|MarketInterface:source|15|8,991|130|599|GetValue\n",
       "|MarketInterface:source|15|8,861|94|590|GetValue/Calc\n",
       "|Equity:refdata|15|8,851|148|590|GetValue\n",
       "|ClockEvent|2|8,743|8,743|4,371|Db.Get\n",
       "|Equity:refdata|15|8,702|94|580|GetValue/Calc\n",
       "|Portfolio:clock|121|8,229|1,298|68|GetValue/Calc\n",
       "|Portfolio:books|231|8,134|1,739|35|GetValue\n",
       "|MarketInterface|2|8,016|8,016|4,008|Db.Get\n",
       "|Equity|2|8,007|8,007|4,003|Db.Get\n",
       "|MarketDataSource|2|7,966|7,966|3,983|Db.Get\n",
       "|ClockEvent:parent|8|7,642|69|955|GetValue\n",
       "|Portfolio:books|121|6,743|849|55|GetValue/Calc\n",
       "|RootClock|1|6,293|6,293|6,293|Db.Get\n",
       "|MarketDataSource:clock|30|4,497|312|149|GetValue\n",
       "|MarketDataSource:clock|15|4,184|182|278|GetValue/Calc\n",
       "|ForwardCashflow|1|3,797|3,797|3,797|Db.Get\n",
       "|Entity:clock|40|942|405|23|GetValue\n",
       "|Entity:clock|20|537|201|26|GetValue/Calc\n",
       "|ForwardCashflow:NPV|11|334|145|30|GetValue\n",
       "|RefDataUpdateEvent:data|58|301|301|5|GetValue\n",
       "|MarketInterface:sourceName|15|298|134|19|GetValue\n",
       "|ForwardCashflow:NPV|11|189|70|17|GetValue/Calc\n",
       "|MarketInterface:sourceName|15|163|98|10|GetValue/Calc\n",
       "|RootClock:cutoffs|52|163|163|3|GetValue\n",
       "|Equity:assetName|15|89|89|5|GetValue\n",
       "|Report:valuable|2|10|10|5|GetValue\n",
       "|Report:ts2|2|7|7|3|GetValue\n",
       "|Report:ts1|2|7|7|3|GetValue"
      ],
      "text/plain": [
       "<IPython.core.display.Markdown object>"
      ]
     },
     "metadata": {},
     "output_type": "display_data"
    }
   ],
   "source": [
    "db3 = db.copy()\n",
    "p = db3._get(pAll.meta.path())\n",
    "\n",
    "with ProfileMonitor(mode='sum'): \n",
    "    r = Report(valuable=p, ts1=eod, ts2=ts7)\n",
    "    r.run()"
   ]
  }
 ],
 "metadata": {
  "kernelspec": {
   "display_name": "Python 3",
   "language": "python",
   "name": "python3"
  },
  "language_info": {
   "codemirror_mode": {
    "name": "ipython",
    "version": 3
   },
   "file_extension": ".py",
   "mimetype": "text/x-python",
   "name": "python",
   "nbconvert_exporter": "python",
   "pygments_lexer": "ipython3",
   "version": "3.6.1"
  }
 },
 "nbformat": 4,
 "nbformat_minor": 2
}
