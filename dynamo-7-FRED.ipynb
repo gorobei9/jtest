{
 "cells": [
  {
   "cell_type": "markdown",
   "metadata": {},
   "source": [
    "# Practical: building an economic statistics database\n",
    "\n",
    "The goal here is to have a bi-temporal database of interesting economic statistics (e.g. gross domestic product,\n",
    "consumer price index, U-6 employment rate.) With that, we can build models of the economy, interesting\n",
    "visualizations, etc.\n",
    "\n",
    "The source of the data with be FRED/ALFRED: the Federal Reserve of St. Louis's online db.\n",
    "    \n",
    "The plan is to query ALFRED for web data as needed, then store in our database in form that works nicely \n",
    "within our framework. I alost feel bad doing this because the source is so nice and so close to being bi-temporal\n",
    "that it would be almost reasonable to declare ALFRED a system-of-record in whatever we are building: making copies\n",
    "of the data seems to show somewhat of a lack of trust. But...\n",
    "\n",
    "1. I want my apps to run even if the internet is down.\n",
    "2. I want 100% report reproducibility even if ALFRED breaks a bi-temporal promise (by accident,\n",
    "funding constraints, a legal mandate, etc.)\n",
    "3. ALFRED timeseries data is bi-temporal, but the meta-data (e.g. categories) does not seem to be.\n",
    "4. Our bi-temporality is at the UTC microsecond level, ALFRED seems at the daily, naked date level. It's\n",
    "unclear how to even map between the two.\n",
    "\n",
    "So, in our space, bi-temporal time is just:\n",
    "* transaction - when we record our copy of some ALFRED data.\n",
    "* valid - either just a copy of physical, but maybe the ALFRED update time if we can understand and trust that.\n",
    "\n",
    "We may also add an additional time-line ('ALFRED') that supports transaction/valid dates in the ALFRED world.\n",
    "That way, for example, calls such as *consumerPriceIndex.value()* would behave in a time-aware fashion."
   ]
  },
  {
   "cell_type": "code",
   "execution_count": 1,
   "metadata": {
    "collapsed": false
   },
   "outputs": [],
   "source": [
    "import mand.core\n",
    "\n",
    "from mand.core import Entity, node, Context, _tr, ObjectDb, displayDict, displayListOfDicts\n",
    "from mand.core import PrintMonitor, SummaryMonitor\n",
    "\n",
    "db = ObjectDb()"
   ]
  },
  {
   "cell_type": "code",
   "execution_count": 2,
   "metadata": {
    "collapsed": true
   },
   "outputs": [],
   "source": [
    "import os\n",
    "import sys\n",
    "import json\n",
    "import xml.etree.ElementTree as ET\n",
    "if sys.version_info[0] >= 3:\n",
    "    import urllib.request as url_request\n",
    "    import urllib.parse as url_parse\n",
    "    import urllib.error as url_error\n",
    "else:\n",
    "    import urllib2 as url_request\n",
    "    import urllib as url_parse\n",
    "    import urllib2 as url_error\n",
    "\n",
    "urlopen = url_request.urlopen\n",
    "quote_plus = url_parse.quote_plus\n",
    "urlencode = url_parse.urlencode\n",
    "HTTPError = url_error.HTTPError"
   ]
  },
  {
   "cell_type": "code",
   "execution_count": 3,
   "metadata": {
    "collapsed": false
   },
   "outputs": [],
   "source": [
    "class FredManager(Entity):\n",
    "    # a hacked version of somebody else's code.\n",
    "    \n",
    "    max_results_per_request = 1000\n",
    "    \n",
    "    @node\n",
    "    def rootUrl(self):\n",
    "         return 'https://api.stlouisfed.org/fred'\n",
    "        \n",
    "    @node\n",
    "    def apiKeyFileName(self):\n",
    "        return '../fred/.api_key'\n",
    "    \n",
    "    @node\n",
    "    def apiKey(self):\n",
    "        api_key_file = self.apiKeyFileName()\n",
    "        f = open(api_key_file, 'r')\n",
    "        ret = f.readline().strip()\n",
    "        return ret\n",
    "    \n",
    "    def __fetch_data(self, url):\n",
    "        url += '&api_key=' + self.apiKey()\n",
    "        try:\n",
    "            response = urlopen(url)\n",
    "            root = ET.fromstring(response.read())\n",
    "        except HTTPError as exc:\n",
    "            root = ET.fromstring(exc.read())\n",
    "            raise ValueError(root.get('message'))\n",
    "        return root\n",
    "    \n",
    "    def __fetch_data_json(self, url):\n",
    "        url += '&api_key=' + self.apiKey()\n",
    "        url += '&file_type=json'\n",
    "        try:\n",
    "            response = urlopen(url)\n",
    "            r = response.read()\n",
    "        except HTTPError as exc:\n",
    "            root = ET.fromstring(exc.read())\n",
    "            raise ValueError(root.get('message'))\n",
    "        ret = json.loads(r)\n",
    "        return ret\n",
    "\n",
    "    \n",
    "    def get_series_info(self, series_id):\n",
    "        url = \"%s/series?series_id=%s\" % (self.rootUrl(), series_id)\n",
    "        root = self.__fetch_data(url)\n",
    "        if root is None or not len(root):\n",
    "            raise ValueError('No info exists for series id: ' + series_id)\n",
    "        info = root[0].attrib\n",
    "        return info\n",
    "    \n",
    "    def get_series_all_releases(self, series_id):\n",
    "        earliest_realtime_start = '1776-07-04'\n",
    "        latest_realtime_end = '9999-12-31'\n",
    "        f = \"%s/series/observations?series_id=%s&realtime_start=%s&realtime_end=%s\"\n",
    "        url =  f % (self.rootUrl(),\n",
    "                    series_id,\n",
    "                    earliest_realtime_start,\n",
    "                    latest_realtime_end)\n",
    "                                                                                        \n",
    "        root = self.__fetch_data(url)\n",
    "        if root is None:\n",
    "            raise ValueError('No data exists for series id: ' + series_id)\n",
    "            \n",
    "        data = [ child.attrib for child in root ]\n",
    "        return data\n",
    "\n",
    "    def search_category(self, category_id=0):\n",
    "        url = \"%s/category?category_id=%s&\" % (self.rootUrl(), category_id)\n",
    "        return self.__fetch_data_json(url)\n",
    "        \n",
    "    def search_category_children(self, category_id=0):\n",
    "        url = \"%s/category/children?category_id=%s&\" % (self.rootUrl(), category_id)\n",
    "        return self.__fetch_data_json(url)\n",
    "        \n",
    "    def __do_series_search(self, url):\n",
    "        root = self.__fetch_data(url)\n",
    "        series_ids = []\n",
    "        num_results_returned = 0  # number of results returned in this HTTP request\n",
    "        num_results_total = int(root.get('count'))  # total number of results, this can be larger than number of results returned\n",
    "        for child in root:\n",
    "            num_results_returned += 1\n",
    "            series_id = child.get('id')\n",
    "            series_ids.append(series_id)\n",
    "        return series_ids, num_results_total\n",
    "    \n",
    "    def __get_search_results(self, url):\n",
    "        data, num_results_total = self.__do_series_search(url)\n",
    "        if data is None:\n",
    "            return data\n",
    "\n",
    "        max_results_needed = num_results_total\n",
    "\n",
    "        if max_results_needed > self.max_results_per_request:\n",
    "            for i in range(1, max_results_needed // self.max_results_per_request + 1):\n",
    "                offset = i * self.max_results_per_request\n",
    "                next_data, _ = self.__do_series_search(url + '&offset=' + str(offset))\n",
    "                data.append(next_data)\n",
    "        return data\n",
    "    \n",
    "    def search_by_category(self, category_id):\n",
    "        url = \"%s/category/series?category_id=%s&\" % (self.rootUrl(), category_id)\n",
    "        info = self.__get_search_results(url)\n",
    "        if info is None:\n",
    "            raise ValueError('No series exists for category id: ' + str(category_id))\n",
    "        return info\n",
    "    \n",
    "_tr.add(FredManager)\n",
    "fm = _tr.FredManager('Main', db=db).write()"
   ]
  },
  {
   "cell_type": "code",
   "execution_count": 4,
   "metadata": {
    "collapsed": true
   },
   "outputs": [],
   "source": [
    "class FredSeries(Entity):\n",
    "    @node \n",
    "    def fredManager(self):\n",
    "        return _tr.FredManager.get('Main', db=self.meta.db)\n",
    "    \n",
    "    @node\n",
    "    def name(self):\n",
    "        return self.meta.name()\n",
    "    \n",
    "    @node\n",
    "    def info(self):\n",
    "        fm = self.fredManager()\n",
    "        return fm.get_series_info(self.name())\n",
    "    \n",
    "    @node\n",
    "    def allReleases(self):\n",
    "        return fm.get_series_all_releases(self.name())\n",
    "    \n",
    "    \"\"\"\n",
    "    ['observation_end', 'last_updated', 'observation_start', 'title', 'seasonal_adjustment_short', \n",
    "     'seasonal_adjustment', 'notes', 'popularity', 'realtime_end', 'frequency', 'units_short', \n",
    "     'units', 'realtime_start', 'id', 'frequency_short']\n",
    "    \"\"\""
   ]
  },
  {
   "cell_type": "code",
   "execution_count": 5,
   "metadata": {
    "collapsed": true
   },
   "outputs": [],
   "source": [
    "class FredCategory(Entity):\n",
    "    @node \n",
    "    def fredManager(self):\n",
    "        return _tr.FredManager.get('Main', db=self.meta.db)\n",
    "    \n",
    "    @node\n",
    "    def id(self):\n",
    "        return self.meta.name()\n",
    "    \n",
    "    @node\n",
    "    def info(self):\n",
    "        return fm.search_category(self.id())\n",
    "    \n",
    "    @node\n",
    "    def name(self):\n",
    "        info = self.info()\n",
    "        return info['categories'][0]['name']\n",
    "    \n",
    "    @node\n",
    "    def children(self):\n",
    "        ret = fm.search_category_children(self.id())\n",
    "        return ret.get('categories')\n",
    "        \n",
    "    @node\n",
    "    def seriesNames(self):\n",
    "        return fm.search_by_category(self.id())"
   ]
  },
  {
   "cell_type": "code",
   "execution_count": 6,
   "metadata": {
    "collapsed": false
   },
   "outputs": [
    {
     "data": {
      "text/markdown": [
       "|key|value|\n",
       "|-|-|\n",
       "|observation_end|2017-01-01\n",
       "|last_updated|2017-02-15 07:51:14-06\n",
       "|observation_start|1947-01-01\n",
       "|title|Consumer Price Index for All Urban Consumers: All Items\n",
       "|seasonal_adjustment_short|SA\n",
       "|seasonal_adjustment|Seasonally Adjusted\n",
       "|notes|The Consumer Price Index for All Urban Consumers: All Ite...\n",
       "|popularity|100\n",
       "|realtime_end|2017-03-12\n",
       "|frequency|Monthly\n",
       "|units_short|Index 1982-1984=100\n",
       "|units|Index 1982-1984=100\n",
       "|realtime_start|2017-03-12\n",
       "|id|CPIAUCSL\n",
       "|frequency_short|M"
      ],
      "text/plain": [
       "<IPython.core.display.Markdown object>"
      ]
     },
     "metadata": {},
     "output_type": "display_data"
    }
   ],
   "source": [
    "with db:\n",
    "    cpi = FredSeries('CPIAUCSL')\n",
    "\n",
    "displayDict( cpi.info())"
   ]
  },
  {
   "cell_type": "code",
   "execution_count": 7,
   "metadata": {
    "collapsed": false
   },
   "outputs": [
    {
     "data": {
      "text/markdown": [
       "|key|value|\n",
       "|-|-|\n",
       "|observation_end|2016-10-01\n",
       "|last_updated|2017-02-28 07:51:17-06\n",
       "|observation_start|1947-01-01\n",
       "|title|Gross Domestic Product\n",
       "|seasonal_adjustment_short|SAAR\n",
       "|seasonal_adjustment|Seasonally Adjusted Annual Rate\n",
       "|notes|BEA Account Code: A191RC1  Gross domestic product (GDP), ...\n",
       "|popularity|89\n",
       "|realtime_end|2017-03-12\n",
       "|frequency|Quarterly\n",
       "|units_short|Bil. of $\n",
       "|units|Billions of Dollars\n",
       "|realtime_start|2017-03-12\n",
       "|id|GDP\n",
       "|frequency_short|Q"
      ],
      "text/plain": [
       "<IPython.core.display.Markdown object>"
      ]
     },
     "metadata": {},
     "output_type": "display_data"
    }
   ],
   "source": [
    "with db:\n",
    "    gdp = FredSeries('GDP')\n",
    "    \n",
    "displayDict(gdp.info())"
   ]
  },
  {
   "cell_type": "code",
   "execution_count": 8,
   "metadata": {
    "collapsed": false
   },
   "outputs": [
    {
     "name": "stdout",
     "output_type": "stream",
     "text": [
      "2303\n"
     ]
    },
    {
     "data": {
      "text/markdown": [
       "|key|value|\n",
       "|-|-|\n",
       "|date|1946-01-01\n",
       "|realtime_start|1992-12-22\n",
       "|realtime_end|1996-01-18\n",
       "|value|199.7"
      ],
      "text/plain": [
       "<IPython.core.display.Markdown object>"
      ]
     },
     "metadata": {},
     "output_type": "display_data"
    },
    {
     "data": {
      "text/markdown": [
       "|key|value|\n",
       "|-|-|\n",
       "|date|1946-01-01\n",
       "|realtime_start|1996-01-19\n",
       "|realtime_end|1997-05-06\n",
       "|value|."
      ],
      "text/plain": [
       "<IPython.core.display.Markdown object>"
      ]
     },
     "metadata": {},
     "output_type": "display_data"
    },
    {
     "data": {
      "text/markdown": [
       "|date|realtime_end|realtime_start|value|\n",
       "|-|-|-|-|\n",
       "|1979-04-01|1997-05-06|1996-01-19|2522.4\n",
       "|1979-04-01|1999-10-27|1997-05-07|2522.3\n",
       "|1979-04-01|1999-10-28|1999-10-28|.\n",
       "|1979-04-01|2003-12-09|1999-10-29|2529.3\n",
       "|1979-04-01|2009-07-30|2003-12-10|2527.6\n",
       "|1979-04-01|2013-07-30|2009-07-31|2526.4\n",
       "|1979-04-01|9999-12-31|2013-07-31|2595.9\n",
       "|1979-07-01|1996-01-18|1991-12-04|2523.3\n",
       "|1979-07-01|1997-05-06|1996-01-19|2592.6\n",
       "|1979-07-01|1999-10-27|1997-05-07|2592.8\n",
       "|1979-07-01|1999-10-28|1999-10-28|.\n",
       "|1979-07-01|2003-12-09|1999-10-29|2601.5\n",
       "|1979-07-01|2009-07-30|2003-12-10|2600.7\n",
       "|1979-07-01|2013-07-30|2009-07-31|2599.7\n",
       "|1979-07-01|9999-12-31|2013-07-31|2670.4\n",
       "|1979-10-01|1996-01-18|1991-12-04|2578.8\n",
       "|1979-10-01|1997-05-06|1996-01-19|2650.1\n",
       "|1979-10-01|1999-10-27|1997-05-07|2650.4\n",
       "|1979-10-01|1999-10-28|1999-10-28|.\n",
       "|1979-10-01|2003-12-09|1999-10-29|2663.8"
      ],
      "text/plain": [
       "<IPython.core.display.Markdown object>"
      ]
     },
     "metadata": {},
     "output_type": "display_data"
    }
   ],
   "source": [
    "r = gdp.allReleases()\n",
    "print len(r)\n",
    "for i in range(2):\n",
    "    displayDict(r[i])\n",
    "displayListOfDicts(r[1000:1020])\n"
   ]
  },
  {
   "cell_type": "code",
   "execution_count": 9,
   "metadata": {
    "collapsed": false
   },
   "outputs": [
    {
     "data": {
      "text/markdown": [
       "|date|realtime_end|realtime_start|value|\n",
       "|-|-|-|-|\n",
       "|2013-10-01|2014-02-27|2014-01-30|17102.5\n",
       "|2013-10-01|2014-03-26|2014-02-28|17080.7\n",
       "|2013-10-01|2014-07-29|2014-03-27|17089.6\n",
       "|2013-10-01|2015-07-29|2014-07-30|17078.3\n",
       "|2013-10-01|2016-07-28|2015-07-30|16957.6\n",
       "|2013-10-01|9999-12-31|2016-07-29|16999.9"
      ],
      "text/plain": [
       "<IPython.core.display.Markdown object>"
      ]
     },
     "metadata": {},
     "output_type": "display_data"
    }
   ],
   "source": [
    "\"\"\"\n",
    "This seems true, if a little out of date:\n",
    "\n",
    "Get all data for a Fred series id including first releases and all revisions. \n",
    "This returns a DataFrame with three columns: 'date', 'realtime_start', and 'value'. \n",
    "For instance, the US GDP for Q4 2013 was first released to be 17102.5 on 2014-01-30, \n",
    "and then revised to 17080.7 on 2014-02-28, \n",
    "and then revised to 17089.6 on 2014-03-27. \n",
    "You will therefore get three rows with the same 'date' (observation date) of 2013-10-01 but three\n",
    "different 'realtime_start' of 2014-01-30, 2014-02-28, and 2014-03-27 \n",
    "with corresponding 'value' of 17102.5, 17080.7 and 17089.6\n",
    "\"\"\"\n",
    "\n",
    "d = '2013-10-01'\n",
    "t = [ i for i in r if i['date'] == d]\n",
    "displayListOfDicts(t)"
   ]
  },
  {
   "cell_type": "code",
   "execution_count": 10,
   "metadata": {
    "collapsed": false,
    "scrolled": false
   },
   "outputs": [
    {
     "name": "stdout",
     "output_type": "stream",
     "text": [
      "\n",
      "Categories\n"
     ]
    },
    {
     "data": {
      "text/markdown": [
       "|id|name|parent_id|\n",
       "|-|-|-|\n",
       "|32991|Money, Banking, & Finance|0\n",
       "|10|Population, Employment, & Labor Markets|0\n",
       "|32992|National Accounts|0\n",
       "|1|Production & Business Activity|0\n",
       "|32455|Prices|0\n",
       "|32263|International Data|0\n",
       "|3008|U.S. Regional Data|0\n",
       "|33060|Academic Data|0"
      ],
      "text/plain": [
       "<IPython.core.display.Markdown object>"
      ]
     },
     "metadata": {},
     "output_type": "display_data"
    },
    {
     "name": "stdout",
     "output_type": "stream",
     "text": [
      "\n",
      "Money, Banking, & Finance\n"
     ]
    },
    {
     "data": {
      "text/markdown": [
       "|id|name|notes|parent_id|\n",
       "|-|-|-|-|\n",
       "|22|Interest Rates|None|32991\n",
       "|15|Exchange Rates|None|32991\n",
       "|24|Monetary Data|None|32991\n",
       "|46|Financial Indicators|None|32991\n",
       "|23|Banking|None|32991\n",
       "|32360|Business Lending|None|32991\n",
       "|32145|Foreign Exchange Intervention|In addition to the listed daily intervention series, intr...|32991"
      ],
      "text/plain": [
       "<IPython.core.display.Markdown object>"
      ]
     },
     "metadata": {},
     "output_type": "display_data"
    },
    {
     "name": "stdout",
     "output_type": "stream",
     "text": [
      "\n",
      "Interest Rates\n"
     ]
    },
    {
     "data": {
      "text/markdown": [
       "|id|name|parent_id|\n",
       "|-|-|-|\n",
       "|33058|Automobile Loan Rates|22\n",
       "|51|Bankers Acceptance Rate|22\n",
       "|121|Certificates of Deposit|22\n",
       "|120|Commercial Paper|22\n",
       "|32348|Corporate Bonds|22\n",
       "|33059|Credit Card Loan Rates|22\n",
       "|32298|Eurodollar Deposits|22\n",
       "|118|FRB Rates - discount, fed funds, primary credit|22\n",
       "|33056|Interest Checking Accounts|22\n",
       "|33446|Interest Rate Spreads|22\n",
       "|32299|Interest Rate Swaps|22\n",
       "|33003|LIBOR Rates|22\n",
       "|32995|Long-Term Securities|22\n",
       "|33055|Money Market Accounts|22\n",
       "|114|Mortgage Rates|22\n",
       "|33057|Personal Loan Rates|22\n",
       "|117|Prime Bank Loan Rate|22\n",
       "|33491|Saving Accounts|22\n",
       "|116|Treasury Bills|22\n",
       "|115|Treasury Constant Maturity|22\n",
       "|82|Treasury Inflation-Indexed Securities|22"
      ],
      "text/plain": [
       "<IPython.core.display.Markdown object>"
      ]
     },
     "metadata": {},
     "output_type": "display_data"
    },
    {
     "name": "stdout",
     "output_type": "stream",
     "text": [
      "\n",
      "Automobile Loan Rates\n"
     ]
    }
   ],
   "source": [
    "with db:\n",
    "    fc = FredCategory('0')\n",
    "r = fc\n",
    "for i in range(5):\n",
    "    print\n",
    "    print r.name()\n",
    "    if not r.children():\n",
    "        break\n",
    "    displayListOfDicts(r.children())\n",
    "    r = FredCategory(r.children()[0]['id'])"
   ]
  },
  {
   "cell_type": "code",
   "execution_count": 11,
   "metadata": {
    "collapsed": false
   },
   "outputs": [
    {
     "data": {
      "text/markdown": [
       "|key|value|\n",
       "|-|-|\n",
       "|observation_end|2011-01-01\n",
       "|last_updated|2012-06-26 12:01:23-05\n",
       "|observation_start|1971-06-01\n",
       "|title|New Car Average Finance Rate at Auto Finance Companies (D...\n",
       "|seasonal_adjustment_short|NSA\n",
       "|seasonal_adjustment|Not Seasonally Adjusted\n",
       "|notes|For further information, please refer to the Board of Gov...\n",
       "|popularity|45\n",
       "|realtime_end|2017-03-12\n",
       "|frequency|Monthly\n",
       "|units_short|%\n",
       "|units|Percent\n",
       "|realtime_start|2017-03-12\n",
       "|id|TERMAFCNCNSA\n",
       "|frequency_short|M"
      ],
      "text/plain": [
       "<IPython.core.display.Markdown object>"
      ]
     },
     "metadata": {},
     "output_type": "display_data"
    },
    {
     "data": {
      "text/markdown": [
       "|key|value|\n",
       "|-|-|\n",
       "|observation_end|2016-11-01\n",
       "|last_updated|2017-01-09 14:16:21-06\n",
       "|observation_start|1972-02-01\n",
       "|title|Finance Rate on Consumer Installment Loans at Commercial ...\n",
       "|seasonal_adjustment_short|NSA\n",
       "|seasonal_adjustment|Not Seasonally Adjusted\n",
       "|notes|For further information, please refer to the Board of Gov...\n",
       "|popularity|61\n",
       "|realtime_end|2017-03-12\n",
       "|frequency|Monthly\n",
       "|units_short|%\n",
       "|units|Percent\n",
       "|realtime_start|2017-03-12\n",
       "|id|TERMCBAUTO48NS\n",
       "|frequency_short|M"
      ],
      "text/plain": [
       "<IPython.core.display.Markdown object>"
      ]
     },
     "metadata": {},
     "output_type": "display_data"
    }
   ],
   "source": [
    "if r.seriesNames():\n",
    "    for s in r.seriesNames()[:5]:\n",
    "        series = FredSeries(s, db=fc.meta.db)\n",
    "        displayDict( series.info())"
   ]
  }
 ],
 "metadata": {
  "kernelspec": {
   "display_name": "Python 2",
   "language": "python",
   "name": "python2"
  },
  "language_info": {
   "codemirror_mode": {
    "name": "ipython",
    "version": 2
   },
   "file_extension": ".py",
   "mimetype": "text/x-python",
   "name": "python",
   "nbconvert_exporter": "python",
   "pygments_lexer": "ipython2",
   "version": "2.7.13"
  }
 },
 "nbformat": 4,
 "nbformat_minor": 2
}
