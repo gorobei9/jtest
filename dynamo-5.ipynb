{
 "cells": [
  {
   "cell_type": "code",
   "execution_count": 1,
   "metadata": {
    "collapsed": false,
    "scrolled": false
   },
   "outputs": [],
   "source": [
    "import mand.core\n",
    "\n",
    "from mand.core import Entity, node, Context\n"
   ]
  },
  {
   "cell_type": "code",
   "execution_count": 2,
   "metadata": {
    "collapsed": false
   },
   "outputs": [
    {
     "name": "stdout",
     "output_type": "stream",
     "text": [
      "delta: 300.003000009\n",
      "gamma: 60.0006046625\n"
     ]
    }
   ],
   "source": [
    "class O(Entity):\n",
    "\n",
    "    @node(stored=True)\n",
    "    def X(self):\n",
    "        return 10\n",
    "    \n",
    "    @node\n",
    "    def Y(self):\n",
    "        return self.X()**3\n",
    "    \n",
    "    @node\n",
    "    def eps(self):\n",
    "        return 1e-4\n",
    "    \n",
    "    @node \n",
    "    def delta(self):\n",
    "        eps = self.eps()\n",
    "        y = self.Y()\n",
    "        x_bump = self.X() + self.eps()\n",
    "        c = Context({self.X: x_bump})\n",
    "        with c:\n",
    "            y_bump = self.Y()\n",
    "        return (y_bump-y)/eps\n",
    "    \n",
    "    @node \n",
    "    def gamma(self):\n",
    "        eps = self.eps()\n",
    "        d = self.delta()\n",
    "        x_bump = self.X() + self.eps()\n",
    "        c = Context({self.X: x_bump})\n",
    "        with c:\n",
    "            d_bump = self.delta()\n",
    "        return (d_bump-d)/eps\n",
    "    \n",
    "o = O()\n",
    "print 'delta:', o.delta()\n",
    "print 'gamma:', o.gamma()  "
   ]
  }
 ],
 "metadata": {
  "kernelspec": {
   "display_name": "Python 2",
   "language": "python",
   "name": "python2"
  },
  "language_info": {
   "codemirror_mode": {
    "name": "ipython",
    "version": 2
   },
   "file_extension": ".py",
   "mimetype": "text/x-python",
   "name": "python",
   "nbconvert_exporter": "python",
   "pygments_lexer": "ipython2",
   "version": "2.7.13"
  }
 },
 "nbformat": 4,
 "nbformat_minor": 2
}
