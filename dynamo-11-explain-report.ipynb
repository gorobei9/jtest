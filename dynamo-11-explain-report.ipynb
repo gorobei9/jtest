{
 "cells": [
  {
   "cell_type": "code",
   "execution_count": 1,
   "metadata": {
    "collapsed": false
   },
   "outputs": [
    {
     "name": "stdout",
     "output_type": "stream",
     "text": [
      "<mand.db.ObjectDb object at 0x106220ad0>: 107, mem=True, ro=False: entities=9, map=2\n"
     ]
    }
   ],
   "source": [
    "import mand.core\n",
    "\n",
    "from mand.core import Entity, node, Context\n",
    "\n",
    "from mand.core import ObjectDb, _tr, Timestamp, Context\n",
    "from mand.core import ProfileMonitor, PrintMonitor\n",
    "from mand.lib.extrefdata import ExternalRefData, dataField\n",
    "from mand.lib.workflow import Workbook, WorkItemOpenEvent, WorkItem\n",
    "from mand.lib.portfolio import Portfolio\n",
    "from mand.core import displayDict, displayMarkdown, displayListOfDicts, displayHeader\n",
    "from mand.core import num, find\n",
    "import datetime\n",
    "from mand.lib.dbsetup import setUpDb\n",
    "\n",
    "from mand.demos.trading import TradingBook, TradingPortfolio, MarketDataSource, MarketInterface\n",
    "\n",
    "db = ObjectDb()\n",
    "setUpDb(db)\n",
    "db.describe()"
   ]
  },
  {
   "cell_type": "code",
   "execution_count": 2,
   "metadata": {
    "collapsed": false
   },
   "outputs": [
    {
     "name": "stdout",
     "output_type": "stream",
     "text": [
      "<mand.demos.trading.TradingPortfolio object at 0x106329750>\n",
      "# books: 20\n",
      "# children: 2\n"
     ]
    }
   ],
   "source": [
    "def makeTree(names):\n",
    "    ret = []\n",
    "    for name in names:\n",
    "        subs = [ TradingBook(name+str(i)) for i in range(10) ]\n",
    "        p = TradingPortfolio(name).write()\n",
    "        p.setChildren(subs)\n",
    "        ret.append(p)\n",
    "    return ret\n",
    "\n",
    "with db:\n",
    "    pAll = TradingPortfolio('TopOfTheHouse').write()\n",
    "    subs = makeTree(['Eq-Prop', 'Eq-Inst', ])# 'FX', 'Rates', 'Credit', 'Delta1', 'Loans', 'Commod', 'ETFs', 'Mtge'])\n",
    "    pAll.setChildren(subs)\n",
    "    \n",
    "print pAll\n",
    "print '# books:', len(pAll.books())\n",
    "print '# children:', len(pAll.children())"
   ]
  },
  {
   "cell_type": "code",
   "execution_count": 3,
   "metadata": {
    "collapsed": false
   },
   "outputs": [
    {
     "name": "stdout",
     "output_type": "stream",
     "text": [
      "Customer1\n",
      "Eq-Prop0\n",
      "Eq-Inst0\n"
     ]
    }
   ],
   "source": [
    "with db:\n",
    "    bExt  = _tr.TradingBook('Customer1')\n",
    "    bExt2 = _tr.TradingBook('Customer2')\n",
    "    \n",
    "p1 = pAll.children()[0]\n",
    "p2 = pAll.children()[1]\n",
    "\n",
    "b1 = p1.children()[0]\n",
    "b2 = p2.children()[0]\n",
    "\n",
    "print bExt.meta.name()\n",
    "print b1.meta.name()\n",
    "print b2.meta.name()"
   ]
  },
  {
   "cell_type": "code",
   "execution_count": 4,
   "metadata": {
    "collapsed": false,
    "scrolled": false
   },
   "outputs": [],
   "source": [
    "with db:\n",
    "    s1_ibm  = MarketDataSource('source1.IBM')\n",
    "    s1_goog = MarketDataSource('source1.GOOG')\n",
    "\n",
    "s1_ibm.update(last=175.61)\n",
    "s1_goog.update(last=852.12)"
   ]
  },
  {
   "cell_type": "code",
   "execution_count": 5,
   "metadata": {
    "collapsed": false
   },
   "outputs": [],
   "source": [
    "with db:\n",
    "    ibm  = MarketInterface('IBM')\n",
    "    goog = MarketInterface('GOOG')"
   ]
  },
  {
   "cell_type": "code",
   "execution_count": 6,
   "metadata": {
    "collapsed": false
   },
   "outputs": [],
   "source": [
    "with db:\n",
    "    TradeOpenEvent = _tr.TradeOpenEvent\n",
    "    cf1 = _tr.ForwardCashflow()\n",
    "    ins1 = _tr.Equity()\n",
    "    ins2 = _tr.Equity(assetName='GOOG.Eq.1')\n",
    "    \n",
    "    ts1 = Timestamp()\n",
    "    \n",
    "    ev1 = TradeOpenEvent(action='Buy',\n",
    "                         item=ins1,\n",
    "                         quantity=100,\n",
    "                         premium=cf1,\n",
    "                         unitPrice=175.65,\n",
    "                         book1=b1,\n",
    "                         book2=bExt).write()\n",
    "    \n",
    "    ts2 = Timestamp()\n",
    "    \n",
    "    s1_ibm.update(last=175.64)\n",
    "    \n",
    "    ts3 = Timestamp()\n",
    "    \n",
    "    ev2 = TradeOpenEvent(action='Buy',\n",
    "                         item=ins2,\n",
    "                         quantity=300,\n",
    "                         premium=cf1,\n",
    "                         unitPrice=852.12,\n",
    "                         book1=b2,\n",
    "                         book2=bExt).write()\n",
    "    \n",
    "    ev3 = TradeOpenEvent(action='Sell',\n",
    "                         item=ins1,\n",
    "                         quantity=100,\n",
    "                         premium=cf1,\n",
    "                         unitPrice=175.85,\n",
    "                         book1=b2,\n",
    "                         book2=bExt2).write()\n",
    "    \n",
    "    ts4 = Timestamp()\n",
    "    \n",
    "    s1_ibm.update(last=175.70)\n",
    "    s1_goog.update(last=852.11)\n",
    "    \n",
    "    ts5 = Timestamp()\n",
    "    \n",
    "    s1_ibm.update(last=175.68)\n",
    "    s1_goog.update(last=852.13)\n",
    "    \n",
    "    eod = Timestamp()\n",
    "    \n",
    "    ev4 = TradeOpenEvent(action='Buy',\n",
    "                         item=ins1,\n",
    "                         quantity=100,\n",
    "                         premium=cf1,\n",
    "                         unitPrice=175.69,\n",
    "                         book1=b1,\n",
    "                         book2=bExt,\n",
    "                         amends=ev1,\n",
    "                         message='Sorry, the broker says you actually paid 69. signed: the middle office'\n",
    "                        ).write(validTime=ev1.meta._timestamp.validTime)\n",
    "    \n",
    "    s1_ibm.update(last=177.68)\n",
    "    s1_goog.update(last=856.13)\n",
    "    \n",
    "    ts6 = Timestamp()\n",
    "    "
   ]
  },
  {
   "cell_type": "code",
   "execution_count": 7,
   "metadata": {
    "collapsed": false,
    "scrolled": false
   },
   "outputs": [
    {
     "data": {
      "text/markdown": [
       "# PnL explain for TopOfTheHouse: 1196.00"
      ],
      "text/plain": [
       "<IPython.core.display.Markdown object>"
      ]
     },
     "metadata": {},
     "output_type": "display_data"
    },
    {
     "data": {
      "text/markdown": [
       "|Activity|PnL|\n",
       "|-|-|\n",
       "|Starting balance breaks|0.00\n",
       "|prior day amends: MarketData|0.00\n",
       "|prior day amends: Portfolio|0.00\n",
       "|prior day amends: Trading|-4.00\n",
       "|activity: MarketData|1200.00\n",
       "|activity: Portfolio|0.00\n",
       "|activity: Trading|0.00\n",
       "|Ending balance breaks|0.00"
      ],
      "text/plain": [
       "<IPython.core.display.Markdown object>"
      ]
     },
     "metadata": {},
     "output_type": "display_data"
    }
   ],
   "source": [
    "pm = None\n",
    "\n",
    "class Report(Entity):\n",
    "    @node(stored=True)\n",
    "    def valuable(self):\n",
    "        return None\n",
    "    \n",
    "    @node(stored=True)\n",
    "    def ts1(self):\n",
    "        return None\n",
    "    \n",
    "    @node(stored=True)\n",
    "    def ts2(self):\n",
    "        return None\n",
    "    \n",
    "    @node\n",
    "    def data(self):\n",
    "        valuable = self.valuable()\n",
    "        ts1 = self.ts1()\n",
    "        ts2 = self.ts2()\n",
    "        clock = valuable.getObj(_tr.RootClock, 'Main')\n",
    "    \n",
    "        def clocks(ts):\n",
    "            def fn(node):\n",
    "                obj = node.key[0]\n",
    "                m = node.key[1].split(':')[-1]\n",
    "                if isinstance(obj, _tr.Clock) and m == 'cutoffs':\n",
    "                    return True\n",
    "            with Context({clock.cutoffs: ts}, 'Clocks'):\n",
    "                nodes = find(valuable.NPV, fn)\n",
    "                return dict( [ (node.tweakPoint, node) for node in nodes ] )\n",
    "    \n",
    "        allNodes = clocks(ts1)\n",
    "    \n",
    "        allNodes.update(clocks(ts2))\n",
    "        nodes = allNodes.values() \n",
    "    \n",
    "        # IRL, we'd sort these according to some business req...\n",
    "        nodes = sorted(nodes, key = lambda node: node.key[0].meta.name())\n",
    "    \n",
    "        data = []\n",
    "        curr = [0]\n",
    "        def add(title, npv):\n",
    "            pnl = npv - curr[0]\n",
    "            curr[0] = npv\n",
    "            data.append( {'Activity': title, 'PnL': pnl } )\n",
    "\n",
    "        with Context({clock.cutoffs: ts1}, 'Start'):\n",
    "            curr = [ valuable.NPV() ] # Starting balance\n",
    "    \n",
    "        tweaks = {}\n",
    "        for n in nodes:\n",
    "            tweaks[n.tweakPoint] = ts1\n",
    "        with Context(tweaks, name='Start breaks'):\n",
    "            start = valuable.NPV()\n",
    "            add('Starting balance breaks', start)\n",
    "\n",
    "        tsAmend = Timestamp(t=ts2.transactionTime, v=ts1.validTime)\n",
    "        for n in nodes:\n",
    "            tweaks[n.tweakPoint] = tsAmend\n",
    "            name = n.key[0].meta.name()\n",
    "            with Context(tweaks, name='Amend %s' % name):\n",
    "                add('prior day amends: %s' % name, valuable.NPV())\n",
    "        for n in nodes:\n",
    "            tweaks[n.tweakPoint] = ts2\n",
    "            name = n.key[0].meta.name()\n",
    "            with Context(tweaks, name='Activity %s' % name):\n",
    "                add('activity: %s' % name, valuable.NPV())\n",
    "    \n",
    "        with Context({clock.cutoffs: ts2}, name='End'):\n",
    "            end = valuable.NPV()\n",
    "            add('Ending balance breaks', end)\n",
    "\n",
    "        title = 'PnL explain for %s: %s' % (valuable.meta.name(), end-start)\n",
    "        return data, title\n",
    "\n",
    "    def run(self):\n",
    "        data, title = self.data()\n",
    "        displayHeader('%s' % title)\n",
    "        displayListOfDicts(data, names=['Activity', 'PnL'] )\n",
    "    \n",
    "r = Report(valuable=pAll, ts1=eod, ts2=ts6)\n",
    "r.run()"
   ]
  },
  {
   "cell_type": "code",
   "execution_count": 8,
   "metadata": {
    "collapsed": false
   },
   "outputs": [],
   "source": [
    "with db:\n",
    "    p1.setChildren(p1.children() + [b2])\n",
    "\n",
    "ts7 = Timestamp()"
   ]
  },
  {
   "cell_type": "code",
   "execution_count": 9,
   "metadata": {
    "collapsed": false,
    "scrolled": false
   },
   "outputs": [
    {
     "name": "stdout",
     "output_type": "stream",
     "text": [
      "LogMessage: Oops, book appears multiple times\n",
      "LogMessage: Oops, book appears multiple times\n",
      "LogMessage: Oops, book appears multiple times\n",
      "LogMessage: Oops, book appears multiple times\n"
     ]
    },
    {
     "data": {
      "text/markdown": [
       "# PnL explain for TopOfTheHouse: 2216.00"
      ],
      "text/plain": [
       "<IPython.core.display.Markdown object>"
      ]
     },
     "metadata": {},
     "output_type": "display_data"
    },
    {
     "data": {
      "text/markdown": [
       "|Activity|PnL|\n",
       "|-|-|\n",
       "|Starting balance breaks|0.00\n",
       "|prior day amends: MarketData|0.00\n",
       "|prior day amends: Portfolio|0.00\n",
       "|prior day amends: Trading|-4.00\n",
       "|activity: MarketData|1200.00\n",
       "|activity: Portfolio|1020.00\n",
       "|activity: Trading|0.00\n",
       "|Ending balance breaks|0.00"
      ],
      "text/plain": [
       "<IPython.core.display.Markdown object>"
      ]
     },
     "metadata": {},
     "output_type": "display_data"
    },
    {
     "data": {
      "text/markdown": [
       "\n",
       "### Profile by nodes.\n",
       "* times are in microseconds\n",
       "* cumT is total time spent in funtion\n",
       "* calcT is time spent in function, but not in a child node"
      ],
      "text/plain": [
       "<IPython.core.display.Markdown object>"
      ]
     },
     "metadata": {},
     "output_type": "display_data"
    },
    {
     "data": {
      "text/markdown": [
       "|fn|n|cumT|calcT|cumT/call|sys|\n",
       "|-|-|-|-|-|-|\n",
       "|Portfolio:items|33|2,532,120|279|76,730|GetValue\n",
       "|Portfolio:items|33|2,531,841|5,445|76,722|GetValue/Calc\n",
       "|Report:data|1|1,499,593|10|1,499,593|GetValue\n",
       "|Report:data|1|1,499,582|361|1,499,582|GetValue/Calc\n",
       "|TradingContainer:NPV|11|1,494,647|113|135,877|GetValue\n",
       "|TradingContainer:NPV|11|1,494,534|1,476|135,866|GetValue/Calc\n",
       "|Workbook:items|224|1,033,570|1,980|4,614|GetValue\n",
       "|Workbook:items|220|1,031,590|917,180|4,689|GetValue/Calc\n",
       "|Root:Clocks|2|505,798|797|252,899|Context\n",
       "|Portfolio:children|66|267,353|430|4,050|GetValue\n",
       "|Portfolio:children|33|266,922|138,249|8,088|GetValue/Calc\n",
       "|Equity:NPV|15|184,614|167|12,307|GetValue\n",
       "|Equity:NPV|15|184,446|381|12,296|GetValue/Calc\n",
       "|MarketInterface:spot|15|170,474|124|11,364|GetValue\n",
       "|MarketInterface:spot|15|170,350|459|11,356|GetValue/Calc\n",
       "|ExternalRefData:state|15|161,431|105|10,762|GetValue\n",
       "|ExternalRefData:state|15|161,325|283|10,755|GetValue/Calc\n",
       "|RefData:state|15|161,041|118|10,736|GetValue\n",
       "|RefData:state|15|160,922|72,446|10,728|GetValue/Calc\n",
       "|Clock:cutoffs|544|140,428|2,021|258|GetValue\n",
       "|Clock:cutoffs|20|138,406|408|6,920|GetValue/Calc\n",
       "|Root:End|1|126,748|35|126,748|Context\n",
       "|Root:Start|1|121,417|15|121,417|Context\n",
       "|Root:Activity Trading|1|108,735|34|108,735|Context\n",
       "|Root:Activity MarketData|1|108,043|35|108,043|Context\n",
       "|Root:Amend Portfolio|1|107,815|39|107,815|Context\n",
       "|Root:Activity Portfolio|1|107,685|39|107,685|Context\n",
       "|Root:Amend MarketData|1|103,942|32|103,942|Context\n",
       "|Clock:parent|20|103,797|156|5,189|GetValue\n",
       "|Clock:parent|20|103,640|84,275|5,182|GetValue/Calc\n",
       "|Root:Start breaks|1|103,267|32|103,267|Context\n",
       "|Root:Amend Trading|1|102,292|36|102,292|Context\n",
       "|TradingBook|22|86,039|86,039|3,910|Db.Get\n",
       "|PortfolioUpdateEvent:children|33|86,027|507|2,606|GetValue\n",
       "|RefDataUpdateEvent|9|40,228|40,228|4,469|Db.Get\n",
       "|Clock|5|21,116|21,116|4,223|Db.Get\n",
       "|PortfolioUpdateEvent|4|20,166|20,166|5,041|Db.Get\n",
       "|TradeOpenEvent|4|17,888|17,888|4,472|Db.Get\n",
       "|TradeOpenEvent:ticket|66|16,317|368|247|GetValue\n",
       "|TradingTicket|4|15,949|15,949|3,987|Db.Get\n",
       "|Equity:refdata|15|13,590|259|906|GetValue\n",
       "|Equity:refdata|15|13,331|415|888|GetValue/Calc\n",
       "|TradingBook:clock|440|12,170|4,141|27|GetValue\n",
       "|ClockEvent|2|10,151|10,151|5,075|Db.Get\n",
       "|_WorkItemEvent:book2|66|9,194|334|139|GetValue\n",
       "|MarketInterface|2|9,055|9,055|4,527|Db.Get\n",
       "|MarketInterface:source|15|8,459|150|563|GetValue\n",
       "|ClockEvent:parent|8|8,445|71|1,055|GetValue\n",
       "|TradingPortfolio|2|8,340|8,340|4,170|Db.Get\n",
       "|MarketInterface:source|15|8,308|349|553|GetValue/Calc\n",
       "|TradingBook:clock|220|8,028|3,398|36|GetValue/Calc\n",
       "|MarketDataSource|2|7,768|7,768|3,884|Db.Get\n",
       "|_WorkItemEvent:item|33|7,736|271|234|GetValue\n",
       "|Equity|2|7,464|7,464|3,732|Db.Get\n",
       "|Portfolio:clock|66|5,473|593|82|GetValue\n",
       "|Portfolio:clock|33|4,879|483|147|GetValue/Calc\n",
       "|MarketDataSource:clock|30|4,186|255|139|GetValue\n",
       "|MarketDataSource:clock|15|3,931|216|262|GetValue/Calc\n",
       "|MarketInterface|1|3,747|3,747|3,747|Db.Put\n",
       "|TradeOpenEvent:premium|33|3,665|222|111|GetValue\n",
       "|RootClock|1|3,458|3,458|3,458|Db.Get\n",
       "|ForwardCashflow|1|3,443|3,443|3,443|Db.Get\n",
       "|Portfolio:books|55|1,855|408|33|GetValue\n",
       "|Portfolio:books|33|1,446|1,213|43|GetValue/Calc\n",
       "|Event:amends|142|1,049|1,049|7|GetValue\n",
       "|Entity:clock|40|574|357|14|GetValue\n",
       "|_WorkItemEvent:book1|66|323|323|4|GetValue\n",
       "|TradeOpenEvent:quantity|66|293|293|4|GetValue\n",
       "|RefDataUpdateEvent:data|58|256|256|4|GetValue\n",
       "|Entity:clock|20|216|216|10|GetValue/Calc\n",
       "|MarketInterface:sourceName|15|190|129|12|GetValue\n",
       "|TradeOpenEvent:action|33|183|183|5|GetValue\n",
       "|RootClock:cutoffs|52|181|181|3|GetValue\n",
       "|TradeOpenEvent:unitPrice|33|180|180|5|GetValue\n",
       "|ForwardCashflow:NPV|11|173|118|15|GetValue\n",
       "|Equity:assetName|15|112|112|7|GetValue\n",
       "|MarketInterface:sourceName|15|61|61|4|GetValue/Calc\n",
       "|ForwardCashflow:NPV|11|54|54|4|GetValue/Calc\n",
       "|Report:valuable|1|5|5|5|GetValue\n",
       "|Report:ts1|1|5|5|5|GetValue\n",
       "|Report:ts2|1|3|3|3|GetValue"
      ],
      "text/plain": [
       "<IPython.core.display.Markdown object>"
      ]
     },
     "metadata": {},
     "output_type": "display_data"
    }
   ],
   "source": [
    "db3 = db.copy()\n",
    "p = db3._get(pAll.meta.path())\n",
    "    \n",
    "# Note misleading cum times below due to recursion...\n",
    "\n",
    "with ProfileMonitor(mode='sum'): \n",
    "    r = Report(valuable=p, ts1=eod, ts2=ts7)\n",
    "    r.run()"
   ]
  }
 ],
 "metadata": {
  "kernelspec": {
   "display_name": "Python 2",
   "language": "python",
   "name": "python2"
  },
  "language_info": {
   "codemirror_mode": {
    "name": "ipython",
    "version": 2
   },
   "file_extension": ".py",
   "mimetype": "text/x-python",
   "name": "python",
   "nbconvert_exporter": "python",
   "pygments_lexer": "ipython2",
   "version": "2.7.13"
  }
 },
 "nbformat": 4,
 "nbformat_minor": 2
}
