{
 "cells": [
  {
   "cell_type": "markdown",
   "metadata": {},
   "source": [
    "# Simple demo of contexts, monitors, and dependencies\n",
    "\n",
    "The basic class is just a function from X to Y.\n",
    "The class provides some numerical derivatives:\n",
    "* delta() - dY/dX\n",
    "* gamma() - dDelta/dX\n",
    "\n",
    "\n",
    "1. **Contexts** are used to provide values when X has been shifted by some epsilon amount. In earlier demos, these were\n",
    "only used to hold timestamps for database views, but they are quite general.\n",
    "1. **Monitors** provide some logging/summarization of what is being done under the covers.\n",
    "1. **Dependencies** are the map from computations to their inputs.  \n",
    "\n",
    "Note that there is some caching behind the scenes now that the system understands dependencies."
   ]
  },
  {
   "cell_type": "code",
   "execution_count": 1,
   "metadata": {
    "collapsed": false,
    "scrolled": false
   },
   "outputs": [],
   "source": [
    "import mand.core\n",
    "\n",
    "from mand.core import Entity, node, Context, NodeKey\n",
    "from mand.core import PrintMonitor, SummaryMonitor"
   ]
  },
  {
   "cell_type": "markdown",
   "metadata": {},
   "source": [
    "## A simple function [User]\n",
    "\n",
    "This class just computes Y = cube(X)\n",
    "\n",
    "Note the greeks (derivatives) are singled-sided, so this has some bias/inaccuracy, but it's simplier to understand."
   ]
  },
  {
   "cell_type": "code",
   "execution_count": 2,
   "metadata": {
    "collapsed": false
   },
   "outputs": [],
   "source": [
    "class O(Entity):\n",
    "\n",
    "    @node(tweakable=True)\n",
    "    def X(self):\n",
    "        return 10\n",
    "    \n",
    "    @node\n",
    "    def Y(self):\n",
    "        return self.X()**3\n",
    "    \n",
    "    @node\n",
    "    def eps(self):\n",
    "        return 1e-4\n",
    "    \n",
    "    @node \n",
    "    def delta(self):\n",
    "        # bad: single-sided delta\n",
    "        eps = self.eps()\n",
    "        y = self.Y()\n",
    "        x_bump = self.X() + self.eps()\n",
    "        c = Context({self.X: x_bump}, name='delta-up')\n",
    "        with c:\n",
    "            y_bump = self.Y()\n",
    "        return (y_bump-y)/eps\n",
    "    \n",
    "    @node \n",
    "    def gamma(self):\n",
    "        eps = self.eps()\n",
    "        d = self.delta()\n",
    "        x_bump = self.X() + self.eps()\n",
    "        c = Context({self.X: x_bump}, name='gamma-up')\n",
    "        with c:\n",
    "            d_bump = self.delta()\n",
    "        return (d_bump-d)/eps"
   ]
  },
  {
   "cell_type": "code",
   "execution_count": 3,
   "metadata": {
    "collapsed": false,
    "scrolled": false
   },
   "outputs": [
    {
     "name": "stdout",
     "output_type": "stream",
     "text": [
      " Context set key: /Global/anon:O/18c050d6-1c3d-4f51-9351-11530fac0618.(O:delta)(), ctx: Root, value: <mand.noval.NoVal object at 0x10a691550>\n",
      " GetValue begin key: /Global/anon:O/18c050d6-1c3d-4f51-9351-11530fac0618.(O:delta)(), ctx: Root\n",
      "   GetValue/Calc begin key: /Global/anon:O/18c050d6-1c3d-4f51-9351-11530fac0618.(O:delta)(), ctx: Root\n",
      "     Context set key: /Global/anon:O/18c050d6-1c3d-4f51-9351-11530fac0618.(O:eps)(), ctx: Root, value: <mand.noval.NoVal object at 0x10a691550>\n",
      "     GetValue begin key: /Global/anon:O/18c050d6-1c3d-4f51-9351-11530fac0618.(O:eps)(), ctx: Root\n",
      "       GetValue/Calc begin key: /Global/anon:O/18c050d6-1c3d-4f51-9351-11530fac0618.(O:eps)(), ctx: Root\n",
      "         GetValue/Calc end key: /Global/anon:O/18c050d6-1c3d-4f51-9351-11530fac0618.(O:eps)(), ctx: Root\n",
      "       GetValue end key: /Global/anon:O/18c050d6-1c3d-4f51-9351-11530fac0618.(O:eps)(), ctx: Root, value: 0.0001\n",
      "     Context set key: /Global/anon:O/18c050d6-1c3d-4f51-9351-11530fac0618.(O:Y)(), ctx: Root, value: <mand.noval.NoVal object at 0x10a691550>\n",
      "     GetValue begin key: /Global/anon:O/18c050d6-1c3d-4f51-9351-11530fac0618.(O:Y)(), ctx: Root\n",
      "       GetValue/Calc begin key: /Global/anon:O/18c050d6-1c3d-4f51-9351-11530fac0618.(O:Y)(), ctx: Root\n",
      "         Context set key: /Global/anon:O/18c050d6-1c3d-4f51-9351-11530fac0618.(O:X)(), ctx: Root, value: <mand.noval.NoVal object at 0x10a691550>\n",
      "         GetValue begin key: /Global/anon:O/18c050d6-1c3d-4f51-9351-11530fac0618.(O:X)(), ctx: Root\n",
      "           GetValue/Calc begin key: /Global/anon:O/18c050d6-1c3d-4f51-9351-11530fac0618.(O:X)(), ctx: Root\n",
      "             GetValue/Calc end key: /Global/anon:O/18c050d6-1c3d-4f51-9351-11530fac0618.(O:X)(), ctx: Root\n",
      "           GetValue end key: /Global/anon:O/18c050d6-1c3d-4f51-9351-11530fac0618.(O:X)(), ctx: Root, value: 10\n",
      "         GetValue/Calc end key: /Global/anon:O/18c050d6-1c3d-4f51-9351-11530fac0618.(O:Y)(), ctx: Root\n",
      "       GetValue end key: /Global/anon:O/18c050d6-1c3d-4f51-9351-11530fac0618.(O:Y)(), ctx: Root, value: 1000\n",
      "     GetValue begin key: /Global/anon:O/18c050d6-1c3d-4f51-9351-11530fac0618.(O:X)(), ctx: Root\n",
      "       GetValue from ctx key: /Global/anon:O/18c050d6-1c3d-4f51-9351-11530fac0618.(O:X)(), ctx: Root, value: 10\n",
      "     GetValue begin key: /Global/anon:O/18c050d6-1c3d-4f51-9351-11530fac0618.(O:eps)(), ctx: Root\n",
      "       GetValue from ctx key: /Global/anon:O/18c050d6-1c3d-4f51-9351-11530fac0618.(O:eps)(), ctx: Root, value: 0.0001\n",
      "     Context create ctx: Root:delta-up, other: dict_keys(['name'])\n",
      "     Context set key: /Global/anon:O/18c050d6-1c3d-4f51-9351-11530fac0618.(O:X)(), ctx: Root:delta-up, value: <mand.noval.NoVal object at 0x10a691550>\n",
      "     Context set key: /Global/anon:O/18c050d6-1c3d-4f51-9351-11530fac0618.(O:X)(), ctx: Root:delta-up, value: 10.0001\n",
      "     Context enter ctx: Root:delta-up, other: dict_keys(['name'])\n",
      "       Context set key: /Global/anon:O/18c050d6-1c3d-4f51-9351-11530fac0618.(O:Y)(), ctx: Root:delta-up, value: <mand.noval.NoVal object at 0x10a691550>\n",
      "       GetValue begin key: /Global/anon:O/18c050d6-1c3d-4f51-9351-11530fac0618.(O:Y)(), ctx: Root:delta-up\n",
      "         GetValue/Calc begin key: /Global/anon:O/18c050d6-1c3d-4f51-9351-11530fac0618.(O:Y)(), ctx: Root:delta-up\n",
      "           Context enter ctx: Root:delta-up, other: dict_keys(['name'])\n",
      "             GetValue begin key: /Global/anon:O/18c050d6-1c3d-4f51-9351-11530fac0618.(O:X)(), ctx: Root:delta-up\n",
      "               GetValue from ctx key: /Global/anon:O/18c050d6-1c3d-4f51-9351-11530fac0618.(O:X)(), ctx: Root:delta-up, value: 10.0001\n",
      "           GetValue/Calc end key: /Global/anon:O/18c050d6-1c3d-4f51-9351-11530fac0618.(O:Y)(), ctx: Root:delta-up\n",
      "         GetValue end key: /Global/anon:O/18c050d6-1c3d-4f51-9351-11530fac0618.(O:Y)(), ctx: Root:delta-up, value: 1000.0300003000009\n",
      "     GetValue/Calc end key: /Global/anon:O/18c050d6-1c3d-4f51-9351-11530fac0618.(O:delta)(), ctx: Root\n",
      "   GetValue end key: /Global/anon:O/18c050d6-1c3d-4f51-9351-11530fac0618.(O:delta)(), ctx: Root, value: 300.0030000089282\n",
      "delta: 300.0030000089282\n"
     ]
    }
   ],
   "source": [
    "with PrintMonitor():\n",
    "    o = O()\n",
    "    d = o.delta()\n",
    "    print('delta:', d)"
   ]
  },
  {
   "cell_type": "code",
   "execution_count": 4,
   "metadata": {
    "collapsed": false,
    "scrolled": false
   },
   "outputs": [
    {
     "name": "stdout",
     "output_type": "stream",
     "text": [
      "delta: 300.0030000089282\n",
      "gamma: 60.00060466249124\n"
     ]
    }
   ],
   "source": [
    "d = o.delta()\n",
    "print('delta:', d)\n",
    "g = o.gamma()\n",
    "print('gamma:', g)"
   ]
  },
  {
   "cell_type": "markdown",
   "metadata": {},
   "source": [
    "## Showing captured dependencies\n",
    "\n",
    "Note the nested context for delta inside the gamma context."
   ]
  },
  {
   "cell_type": "code",
   "execution_count": 5,
   "metadata": {
    "collapsed": false
   },
   "outputs": [
    {
     "name": "stdout",
     "output_type": "stream",
     "text": [
      "<Node: /Global/anon:O/18c050d6-1c3d-4f51-9351-11530fac0618.(O:gamma)() in Root @4469285944>, nIn=4\n",
      "   <Node: /Global/anon:O/18c050d6-1c3d-4f51-9351-11530fac0618.(O:X)() in Root @4469750304>, nIn=0\n",
      "   <Node: /Global/anon:O/18c050d6-1c3d-4f51-9351-11530fac0618.(O:delta)() in Root:gamma-up @4469906064>, nIn=4\n",
      "      <Node: /Global/anon:O/18c050d6-1c3d-4f51-9351-11530fac0618.(O:X)() in Root:gamma-up @4469906120>, nIn=0\n",
      "      <Node: /Global/anon:O/18c050d6-1c3d-4f51-9351-11530fac0618.(O:Y)() in Root:gamma-up:delta-up @4469905784>, nIn=1\n",
      "         <Node: /Global/anon:O/18c050d6-1c3d-4f51-9351-11530fac0618.(O:X)() in Root:gamma-up:delta-up @4469905560>, nIn=0\n",
      "      <Node: /Global/anon:O/18c050d6-1c3d-4f51-9351-11530fac0618.(O:Y)() in Root:gamma-up @4469906680>, nIn=1\n",
      "         <Node: /Global/anon:O/18c050d6-1c3d-4f51-9351-11530fac0618.(O:X)() in Root:gamma-up @4469906120>, nIn=0\n",
      "      <Node: /Global/anon:O/18c050d6-1c3d-4f51-9351-11530fac0618.(O:eps)() in Root:gamma-up @4469903712>, nIn=0\n",
      "   <Node: /Global/anon:O/18c050d6-1c3d-4f51-9351-11530fac0618.(O:delta)() in Root @4469898488>, nIn=4\n",
      "      <Node: /Global/anon:O/18c050d6-1c3d-4f51-9351-11530fac0618.(O:X)() in Root @4469750304>, nIn=0\n",
      "      <Node: /Global/anon:O/18c050d6-1c3d-4f51-9351-11530fac0618.(O:Y)() in Root:delta-up @4469904328>, nIn=1\n",
      "         <Node: /Global/anon:O/18c050d6-1c3d-4f51-9351-11530fac0618.(O:X)() in Root:delta-up @4469751760>, nIn=0\n",
      "      <Node: /Global/anon:O/18c050d6-1c3d-4f51-9351-11530fac0618.(O:Y)() in Root @4469905392>, nIn=1\n",
      "         <Node: /Global/anon:O/18c050d6-1c3d-4f51-9351-11530fac0618.(O:X)() in Root @4469750304>, nIn=0\n",
      "      <Node: /Global/anon:O/18c050d6-1c3d-4f51-9351-11530fac0618.(O:eps)() in Root @4469899160>, nIn=0\n",
      "   <Node: /Global/anon:O/18c050d6-1c3d-4f51-9351-11530fac0618.(O:eps)() in Root @4469899160>, nIn=0\n"
     ]
    }
   ],
   "source": [
    "c = Context.current()\n",
    "bm = o.gamma\n",
    "n = c.get(NodeKey.fromBM(bm))\n",
    "n.printInputGraph()"
   ]
  },
  {
   "cell_type": "markdown",
   "metadata": {},
   "source": [
    "## O2 - the two-sided derivative version of O. [User]\n",
    "\n",
    "More version of the O class: we now bump X up and down, taking the average of the dependent variable changes.\n",
    "    \n",
    "*For readers having the pleasure of dealing with certain USA financial supervisors, this is the pattern you want.*"
   ]
  },
  {
   "cell_type": "code",
   "execution_count": 6,
   "metadata": {
    "collapsed": false,
    "scrolled": false
   },
   "outputs": [
    {
     "name": "stdout",
     "output_type": "stream",
     "text": [
      " Context set key: /Global/anon:O2/17d361b1-6126-4632-9b50-b1343389a020.(O2:delta)(), ctx: Root, value: <mand.noval.NoVal object at 0x10a691550>\n",
      " GetValue begin key: /Global/anon:O2/17d361b1-6126-4632-9b50-b1343389a020.(O2:delta)(), ctx: Root\n",
      "   GetValue/Calc begin key: /Global/anon:O2/17d361b1-6126-4632-9b50-b1343389a020.(O2:delta)(), ctx: Root\n",
      "     Context set key: /Global/anon:O2/17d361b1-6126-4632-9b50-b1343389a020.(O2:eps)(), ctx: Root, value: <mand.noval.NoVal object at 0x10a691550>\n",
      "     GetValue begin key: /Global/anon:O2/17d361b1-6126-4632-9b50-b1343389a020.(O2:eps)(), ctx: Root\n",
      "       GetValue/Calc begin key: /Global/anon:O2/17d361b1-6126-4632-9b50-b1343389a020.(O2:eps)(), ctx: Root\n",
      "         GetValue/Calc end key: /Global/anon:O2/17d361b1-6126-4632-9b50-b1343389a020.(O2:eps)(), ctx: Root\n",
      "       GetValue end key: /Global/anon:O2/17d361b1-6126-4632-9b50-b1343389a020.(O2:eps)(), ctx: Root, value: 0.0001\n",
      "     Context set key: /Global/anon:O2/17d361b1-6126-4632-9b50-b1343389a020.(O2:upCtx)(), ctx: Root, value: <mand.noval.NoVal object at 0x10a691550>\n",
      "     GetValue begin key: /Global/anon:O2/17d361b1-6126-4632-9b50-b1343389a020.(O2:upCtx)(), ctx: Root\n",
      "       GetValue/Calc begin key: /Global/anon:O2/17d361b1-6126-4632-9b50-b1343389a020.(O2:upCtx)(), ctx: Root\n",
      "         Context set key: /Global/anon:O2/17d361b1-6126-4632-9b50-b1343389a020.(O2:X)(), ctx: Root, value: <mand.noval.NoVal object at 0x10a691550>\n",
      "         GetValue begin key: /Global/anon:O2/17d361b1-6126-4632-9b50-b1343389a020.(O2:X)(), ctx: Root\n",
      "           GetValue/Calc begin key: /Global/anon:O2/17d361b1-6126-4632-9b50-b1343389a020.(O2:X)(), ctx: Root\n",
      "             GetValue/Calc end key: /Global/anon:O2/17d361b1-6126-4632-9b50-b1343389a020.(O2:X)(), ctx: Root\n",
      "           GetValue end key: /Global/anon:O2/17d361b1-6126-4632-9b50-b1343389a020.(O2:X)(), ctx: Root, value: 10\n",
      "         GetValue begin key: /Global/anon:O2/17d361b1-6126-4632-9b50-b1343389a020.(O2:eps)(), ctx: Root\n",
      "           GetValue from ctx key: /Global/anon:O2/17d361b1-6126-4632-9b50-b1343389a020.(O2:eps)(), ctx: Root, value: 0.0001\n",
      "         Context create ctx: Root:X-up, other: dict_keys(['name'])\n",
      "         Context set key: /Global/anon:O2/17d361b1-6126-4632-9b50-b1343389a020.(O2:X)(), ctx: Root:X-up, value: <mand.noval.NoVal object at 0x10a691550>\n",
      "         Context set key: /Global/anon:O2/17d361b1-6126-4632-9b50-b1343389a020.(O2:X)(), ctx: Root:X-up, value: 10.0001\n",
      "         GetValue/Calc end key: /Global/anon:O2/17d361b1-6126-4632-9b50-b1343389a020.(O2:upCtx)(), ctx: Root\n",
      "       GetValue end key: /Global/anon:O2/17d361b1-6126-4632-9b50-b1343389a020.(O2:upCtx)(), ctx: Root, value: <mand.context.Context object at 0x10a...\n",
      "     Context enter ctx: Root:X-up, other: dict_keys(['name'])\n",
      "       Context set key: /Global/anon:O2/17d361b1-6126-4632-9b50-b1343389a020.(O2:Y)(), ctx: Root:X-up, value: <mand.noval.NoVal object at 0x10a691550>\n",
      "       GetValue begin key: /Global/anon:O2/17d361b1-6126-4632-9b50-b1343389a020.(O2:Y)(), ctx: Root:X-up\n",
      "         GetValue/Calc begin key: /Global/anon:O2/17d361b1-6126-4632-9b50-b1343389a020.(O2:Y)(), ctx: Root:X-up\n",
      "           Context enter ctx: Root:X-up, other: dict_keys(['name'])\n",
      "             GetValue begin key: /Global/anon:O2/17d361b1-6126-4632-9b50-b1343389a020.(O2:X)(), ctx: Root:X-up\n",
      "               GetValue from ctx key: /Global/anon:O2/17d361b1-6126-4632-9b50-b1343389a020.(O2:X)(), ctx: Root:X-up, value: 10.0001\n",
      "           GetValue/Calc end key: /Global/anon:O2/17d361b1-6126-4632-9b50-b1343389a020.(O2:Y)(), ctx: Root:X-up\n",
      "         GetValue end key: /Global/anon:O2/17d361b1-6126-4632-9b50-b1343389a020.(O2:Y)(), ctx: Root:X-up, value: 1000.0300003000009\n",
      "     Context set key: /Global/anon:O2/17d361b1-6126-4632-9b50-b1343389a020.(O2:downCtx)(), ctx: Root, value: <mand.noval.NoVal object at 0x10a691550>\n",
      "     GetValue begin key: /Global/anon:O2/17d361b1-6126-4632-9b50-b1343389a020.(O2:downCtx)(), ctx: Root\n",
      "       GetValue/Calc begin key: /Global/anon:O2/17d361b1-6126-4632-9b50-b1343389a020.(O2:downCtx)(), ctx: Root\n",
      "         GetValue begin key: /Global/anon:O2/17d361b1-6126-4632-9b50-b1343389a020.(O2:X)(), ctx: Root\n",
      "           GetValue from ctx key: /Global/anon:O2/17d361b1-6126-4632-9b50-b1343389a020.(O2:X)(), ctx: Root, value: 10\n",
      "         GetValue begin key: /Global/anon:O2/17d361b1-6126-4632-9b50-b1343389a020.(O2:eps)(), ctx: Root\n",
      "           GetValue from ctx key: /Global/anon:O2/17d361b1-6126-4632-9b50-b1343389a020.(O2:eps)(), ctx: Root, value: 0.0001\n",
      "         Context create ctx: Root:X-down, other: dict_keys(['name'])\n",
      "         Context set key: /Global/anon:O2/17d361b1-6126-4632-9b50-b1343389a020.(O2:X)(), ctx: Root:X-down, value: <mand.noval.NoVal object at 0x10a691550>\n",
      "         Context set key: /Global/anon:O2/17d361b1-6126-4632-9b50-b1343389a020.(O2:X)(), ctx: Root:X-down, value: 9.9999\n",
      "         GetValue/Calc end key: /Global/anon:O2/17d361b1-6126-4632-9b50-b1343389a020.(O2:downCtx)(), ctx: Root\n",
      "       GetValue end key: /Global/anon:O2/17d361b1-6126-4632-9b50-b1343389a020.(O2:downCtx)(), ctx: Root, value: <mand.context.Context object at 0x10a...\n",
      "     Context enter ctx: Root:X-down, other: dict_keys(['name'])\n",
      "       Context set key: /Global/anon:O2/17d361b1-6126-4632-9b50-b1343389a020.(O2:Y)(), ctx: Root:X-down, value: <mand.noval.NoVal object at 0x10a691550>\n",
      "       GetValue begin key: /Global/anon:O2/17d361b1-6126-4632-9b50-b1343389a020.(O2:Y)(), ctx: Root:X-down\n",
      "         GetValue/Calc begin key: /Global/anon:O2/17d361b1-6126-4632-9b50-b1343389a020.(O2:Y)(), ctx: Root:X-down\n",
      "           Context enter ctx: Root:X-down, other: dict_keys(['name'])\n",
      "             GetValue begin key: /Global/anon:O2/17d361b1-6126-4632-9b50-b1343389a020.(O2:X)(), ctx: Root:X-down\n",
      "               GetValue from ctx key: /Global/anon:O2/17d361b1-6126-4632-9b50-b1343389a020.(O2:X)(), ctx: Root:X-down, value: 9.9999\n",
      "           GetValue/Calc end key: /Global/anon:O2/17d361b1-6126-4632-9b50-b1343389a020.(O2:Y)(), ctx: Root:X-down\n",
      "         GetValue end key: /Global/anon:O2/17d361b1-6126-4632-9b50-b1343389a020.(O2:Y)(), ctx: Root:X-down, value: 999.970000299999\n",
      "     GetValue/Calc end key: /Global/anon:O2/17d361b1-6126-4632-9b50-b1343389a020.(O2:delta)(), ctx: Root\n",
      "   GetValue end key: /Global/anon:O2/17d361b1-6126-4632-9b50-b1343389a020.(O2:delta)(), ctx: Root, value: 300.00000000939053\n",
      "delta: 300.00000000939053\n",
      " Context set key: /Global/anon:O2/17d361b1-6126-4632-9b50-b1343389a020.(O2:gamma)(), ctx: Root, value: <mand.noval.NoVal object at 0x10a691550>\n",
      " GetValue begin key: /Global/anon:O2/17d361b1-6126-4632-9b50-b1343389a020.(O2:gamma)(), ctx: Root\n",
      "   GetValue/Calc begin key: /Global/anon:O2/17d361b1-6126-4632-9b50-b1343389a020.(O2:gamma)(), ctx: Root\n",
      "     GetValue begin key: /Global/anon:O2/17d361b1-6126-4632-9b50-b1343389a020.(O2:eps)(), ctx: Root\n",
      "       GetValue from ctx key: /Global/anon:O2/17d361b1-6126-4632-9b50-b1343389a020.(O2:eps)(), ctx: Root, value: 0.0001\n",
      "     GetValue begin key: /Global/anon:O2/17d361b1-6126-4632-9b50-b1343389a020.(O2:upCtx)(), ctx: Root\n",
      "       GetValue from ctx key: /Global/anon:O2/17d361b1-6126-4632-9b50-b1343389a020.(O2:upCtx)(), ctx: Root, value: <mand.context.Context object at 0x10a...\n",
      "     Context enter ctx: Root:X-up, other: dict_keys(['name'])\n",
      "       Context set key: /Global/anon:O2/17d361b1-6126-4632-9b50-b1343389a020.(O2:delta)(), ctx: Root:X-up, value: <mand.noval.NoVal object at 0x10a691550>\n",
      "       GetValue begin key: /Global/anon:O2/17d361b1-6126-4632-9b50-b1343389a020.(O2:delta)(), ctx: Root:X-up\n",
      "         GetValue/Calc begin key: /Global/anon:O2/17d361b1-6126-4632-9b50-b1343389a020.(O2:delta)(), ctx: Root:X-up\n",
      "           Context enter ctx: Root:X-up, other: dict_keys(['name'])\n",
      "             Context set key: /Global/anon:O2/17d361b1-6126-4632-9b50-b1343389a020.(O2:eps)(), ctx: Root:X-up, value: <mand.noval.NoVal object at 0x10a691550>\n",
      "             GetValue begin key: /Global/anon:O2/17d361b1-6126-4632-9b50-b1343389a020.(O2:eps)(), ctx: Root:X-up\n",
      "               GetValue/Calc begin key: /Global/anon:O2/17d361b1-6126-4632-9b50-b1343389a020.(O2:eps)(), ctx: Root:X-up\n",
      "                 Context enter ctx: Root:X-up, other: dict_keys(['name'])\n",
      "                 GetValue/Calc end key: /Global/anon:O2/17d361b1-6126-4632-9b50-b1343389a020.(O2:eps)(), ctx: Root:X-up\n",
      "               GetValue end key: /Global/anon:O2/17d361b1-6126-4632-9b50-b1343389a020.(O2:eps)(), ctx: Root:X-up, value: 0.0001\n",
      "             Context set key: /Global/anon:O2/17d361b1-6126-4632-9b50-b1343389a020.(O2:upCtx)(), ctx: Root:X-up, value: <mand.noval.NoVal object at 0x10a691550>\n",
      "             GetValue begin key: /Global/anon:O2/17d361b1-6126-4632-9b50-b1343389a020.(O2:upCtx)(), ctx: Root:X-up\n",
      "               GetValue/Calc begin key: /Global/anon:O2/17d361b1-6126-4632-9b50-b1343389a020.(O2:upCtx)(), ctx: Root:X-up\n",
      "                 Context enter ctx: Root:X-up, other: dict_keys(['name'])\n",
      "                   GetValue begin key: /Global/anon:O2/17d361b1-6126-4632-9b50-b1343389a020.(O2:X)(), ctx: Root:X-up\n",
      "                     GetValue from ctx key: /Global/anon:O2/17d361b1-6126-4632-9b50-b1343389a020.(O2:X)(), ctx: Root:X-up, value: 10.0001\n",
      "                   GetValue begin key: /Global/anon:O2/17d361b1-6126-4632-9b50-b1343389a020.(O2:eps)(), ctx: Root:X-up\n",
      "                     GetValue from ctx key: /Global/anon:O2/17d361b1-6126-4632-9b50-b1343389a020.(O2:eps)(), ctx: Root:X-up, value: 0.0001\n",
      "                   Context create ctx: Root:X-up:X-up, other: dict_keys(['name'])\n",
      "                   Context set key: /Global/anon:O2/17d361b1-6126-4632-9b50-b1343389a020.(O2:X)(), ctx: Root:X-up:X-up, value: 10.0001\n",
      "                   Context set key: /Global/anon:O2/17d361b1-6126-4632-9b50-b1343389a020.(O2:X)(), ctx: Root:X-up:X-up, value: 10.0002\n",
      "                 GetValue/Calc end key: /Global/anon:O2/17d361b1-6126-4632-9b50-b1343389a020.(O2:upCtx)(), ctx: Root:X-up\n",
      "               GetValue end key: /Global/anon:O2/17d361b1-6126-4632-9b50-b1343389a020.(O2:upCtx)(), ctx: Root:X-up, value: <mand.context.Context object at 0x10a...\n",
      "             Context enter ctx: Root:X-up:X-up, other: dict_keys(['name'])\n",
      "               Context set key: /Global/anon:O2/17d361b1-6126-4632-9b50-b1343389a020.(O2:Y)(), ctx: Root:X-up:X-up, value: <mand.noval.NoVal object at 0x10a691550>\n",
      "               GetValue begin key: /Global/anon:O2/17d361b1-6126-4632-9b50-b1343389a020.(O2:Y)(), ctx: Root:X-up:X-up\n",
      "                 GetValue/Calc begin key: /Global/anon:O2/17d361b1-6126-4632-9b50-b1343389a020.(O2:Y)(), ctx: Root:X-up:X-up\n",
      "                   Context enter ctx: Root:X-up:X-up, other: dict_keys(['name'])\n",
      "                     GetValue begin key: /Global/anon:O2/17d361b1-6126-4632-9b50-b1343389a020.(O2:X)(), ctx: Root:X-up:X-up\n",
      "                       GetValue from ctx key: /Global/anon:O2/17d361b1-6126-4632-9b50-b1343389a020.(O2:X)(), ctx: Root:X-up:X-up, value: 10.0002\n",
      "                   GetValue/Calc end key: /Global/anon:O2/17d361b1-6126-4632-9b50-b1343389a020.(O2:Y)(), ctx: Root:X-up:X-up\n",
      "                 GetValue end key: /Global/anon:O2/17d361b1-6126-4632-9b50-b1343389a020.(O2:Y)(), ctx: Root:X-up:X-up, value: 1000.0600012000078\n",
      "             Context set key: /Global/anon:O2/17d361b1-6126-4632-9b50-b1343389a020.(O2:downCtx)(), ctx: Root:X-up, value: <mand.noval.NoVal object at 0x10a691550>\n",
      "             GetValue begin key: /Global/anon:O2/17d361b1-6126-4632-9b50-b1343389a020.(O2:downCtx)(), ctx: Root:X-up\n",
      "               GetValue/Calc begin key: /Global/anon:O2/17d361b1-6126-4632-9b50-b1343389a020.(O2:downCtx)(), ctx: Root:X-up\n",
      "                 Context enter ctx: Root:X-up, other: dict_keys(['name'])\n",
      "                   GetValue begin key: /Global/anon:O2/17d361b1-6126-4632-9b50-b1343389a020.(O2:X)(), ctx: Root:X-up\n",
      "                     GetValue from ctx key: /Global/anon:O2/17d361b1-6126-4632-9b50-b1343389a020.(O2:X)(), ctx: Root:X-up, value: 10.0001\n",
      "                   GetValue begin key: /Global/anon:O2/17d361b1-6126-4632-9b50-b1343389a020.(O2:eps)(), ctx: Root:X-up\n",
      "                     GetValue from ctx key: /Global/anon:O2/17d361b1-6126-4632-9b50-b1343389a020.(O2:eps)(), ctx: Root:X-up, value: 0.0001\n",
      "                   Context create ctx: Root:X-up:X-down, other: dict_keys(['name'])\n",
      "                   Context set key: /Global/anon:O2/17d361b1-6126-4632-9b50-b1343389a020.(O2:X)(), ctx: Root:X-up:X-down, value: 10.0001\n",
      "                   Context set key: /Global/anon:O2/17d361b1-6126-4632-9b50-b1343389a020.(O2:X)(), ctx: Root:X-up:X-down, value: 10.0\n",
      "                 GetValue/Calc end key: /Global/anon:O2/17d361b1-6126-4632-9b50-b1343389a020.(O2:downCtx)(), ctx: Root:X-up\n",
      "               GetValue end key: /Global/anon:O2/17d361b1-6126-4632-9b50-b1343389a020.(O2:downCtx)(), ctx: Root:X-up, value: <mand.context.Context object at 0x10a...\n",
      "             Context enter ctx: Root:X-up:X-down, other: dict_keys(['name'])\n",
      "               Context set key: /Global/anon:O2/17d361b1-6126-4632-9b50-b1343389a020.(O2:Y)(), ctx: Root:X-up:X-down, value: <mand.noval.NoVal object at 0x10a691550>\n",
      "               GetValue begin key: /Global/anon:O2/17d361b1-6126-4632-9b50-b1343389a020.(O2:Y)(), ctx: Root:X-up:X-down\n",
      "                 GetValue/Calc begin key: /Global/anon:O2/17d361b1-6126-4632-9b50-b1343389a020.(O2:Y)(), ctx: Root:X-up:X-down\n",
      "                   Context enter ctx: Root:X-up:X-down, other: dict_keys(['name'])\n",
      "                     GetValue begin key: /Global/anon:O2/17d361b1-6126-4632-9b50-b1343389a020.(O2:X)(), ctx: Root:X-up:X-down\n",
      "                       GetValue from ctx key: /Global/anon:O2/17d361b1-6126-4632-9b50-b1343389a020.(O2:X)(), ctx: Root:X-up:X-down, value: 10.0\n",
      "                   GetValue/Calc end key: /Global/anon:O2/17d361b1-6126-4632-9b50-b1343389a020.(O2:Y)(), ctx: Root:X-up:X-down\n",
      "                 GetValue end key: /Global/anon:O2/17d361b1-6126-4632-9b50-b1343389a020.(O2:Y)(), ctx: Root:X-up:X-down, value: 1000.0\n",
      "           GetValue/Calc end key: /Global/anon:O2/17d361b1-6126-4632-9b50-b1343389a020.(O2:delta)(), ctx: Root:X-up\n",
      "         GetValue end key: /Global/anon:O2/17d361b1-6126-4632-9b50-b1343389a020.(O2:delta)(), ctx: Root:X-up, value: 300.00600003916134\n",
      "     GetValue begin key: /Global/anon:O2/17d361b1-6126-4632-9b50-b1343389a020.(O2:downCtx)(), ctx: Root\n",
      "       GetValue from ctx key: /Global/anon:O2/17d361b1-6126-4632-9b50-b1343389a020.(O2:downCtx)(), ctx: Root, value: <mand.context.Context object at 0x10a...\n",
      "     Context enter ctx: Root:X-down, other: dict_keys(['name'])\n",
      "       Context set key: /Global/anon:O2/17d361b1-6126-4632-9b50-b1343389a020.(O2:delta)(), ctx: Root:X-down, value: <mand.noval.NoVal object at 0x10a691550>\n",
      "       GetValue begin key: /Global/anon:O2/17d361b1-6126-4632-9b50-b1343389a020.(O2:delta)(), ctx: Root:X-down\n",
      "         GetValue/Calc begin key: /Global/anon:O2/17d361b1-6126-4632-9b50-b1343389a020.(O2:delta)(), ctx: Root:X-down\n",
      "           Context enter ctx: Root:X-down, other: dict_keys(['name'])\n",
      "             Context set key: /Global/anon:O2/17d361b1-6126-4632-9b50-b1343389a020.(O2:eps)(), ctx: Root:X-down, value: <mand.noval.NoVal object at 0x10a691550>\n",
      "             GetValue begin key: /Global/anon:O2/17d361b1-6126-4632-9b50-b1343389a020.(O2:eps)(), ctx: Root:X-down\n",
      "               GetValue/Calc begin key: /Global/anon:O2/17d361b1-6126-4632-9b50-b1343389a020.(O2:eps)(), ctx: Root:X-down\n",
      "                 Context enter ctx: Root:X-down, other: dict_keys(['name'])\n",
      "                 GetValue/Calc end key: /Global/anon:O2/17d361b1-6126-4632-9b50-b1343389a020.(O2:eps)(), ctx: Root:X-down\n",
      "               GetValue end key: /Global/anon:O2/17d361b1-6126-4632-9b50-b1343389a020.(O2:eps)(), ctx: Root:X-down, value: 0.0001\n",
      "             Context set key: /Global/anon:O2/17d361b1-6126-4632-9b50-b1343389a020.(O2:upCtx)(), ctx: Root:X-down, value: <mand.noval.NoVal object at 0x10a691550>\n",
      "             GetValue begin key: /Global/anon:O2/17d361b1-6126-4632-9b50-b1343389a020.(O2:upCtx)(), ctx: Root:X-down\n",
      "               GetValue/Calc begin key: /Global/anon:O2/17d361b1-6126-4632-9b50-b1343389a020.(O2:upCtx)(), ctx: Root:X-down\n",
      "                 Context enter ctx: Root:X-down, other: dict_keys(['name'])\n",
      "                   GetValue begin key: /Global/anon:O2/17d361b1-6126-4632-9b50-b1343389a020.(O2:X)(), ctx: Root:X-down\n",
      "                     GetValue from ctx key: /Global/anon:O2/17d361b1-6126-4632-9b50-b1343389a020.(O2:X)(), ctx: Root:X-down, value: 9.9999\n",
      "                   GetValue begin key: /Global/anon:O2/17d361b1-6126-4632-9b50-b1343389a020.(O2:eps)(), ctx: Root:X-down\n",
      "                     GetValue from ctx key: /Global/anon:O2/17d361b1-6126-4632-9b50-b1343389a020.(O2:eps)(), ctx: Root:X-down, value: 0.0001\n",
      "                   Context create ctx: Root:X-down:X-up, other: dict_keys(['name'])\n",
      "                   Context set key: /Global/anon:O2/17d361b1-6126-4632-9b50-b1343389a020.(O2:X)(), ctx: Root:X-down:X-up, value: 9.9999\n",
      "                   Context set key: /Global/anon:O2/17d361b1-6126-4632-9b50-b1343389a020.(O2:X)(), ctx: Root:X-down:X-up, value: 10.0\n",
      "                 GetValue/Calc end key: /Global/anon:O2/17d361b1-6126-4632-9b50-b1343389a020.(O2:upCtx)(), ctx: Root:X-down\n",
      "               GetValue end key: /Global/anon:O2/17d361b1-6126-4632-9b50-b1343389a020.(O2:upCtx)(), ctx: Root:X-down, value: <mand.context.Context object at 0x10a...\n",
      "             Context enter ctx: Root:X-down:X-up, other: dict_keys(['name'])\n",
      "               Context set key: /Global/anon:O2/17d361b1-6126-4632-9b50-b1343389a020.(O2:Y)(), ctx: Root:X-down:X-up, value: <mand.noval.NoVal object at 0x10a691550>\n",
      "               GetValue begin key: /Global/anon:O2/17d361b1-6126-4632-9b50-b1343389a020.(O2:Y)(), ctx: Root:X-down:X-up\n",
      "                 GetValue/Calc begin key: /Global/anon:O2/17d361b1-6126-4632-9b50-b1343389a020.(O2:Y)(), ctx: Root:X-down:X-up\n",
      "                   Context enter ctx: Root:X-down:X-up, other: dict_keys(['name'])\n",
      "                     GetValue begin key: /Global/anon:O2/17d361b1-6126-4632-9b50-b1343389a020.(O2:X)(), ctx: Root:X-down:X-up\n",
      "                       GetValue from ctx key: /Global/anon:O2/17d361b1-6126-4632-9b50-b1343389a020.(O2:X)(), ctx: Root:X-down:X-up, value: 10.0\n",
      "                   GetValue/Calc end key: /Global/anon:O2/17d361b1-6126-4632-9b50-b1343389a020.(O2:Y)(), ctx: Root:X-down:X-up\n",
      "                 GetValue end key: /Global/anon:O2/17d361b1-6126-4632-9b50-b1343389a020.(O2:Y)(), ctx: Root:X-down:X-up, value: 1000.0\n",
      "             Context set key: /Global/anon:O2/17d361b1-6126-4632-9b50-b1343389a020.(O2:downCtx)(), ctx: Root:X-down, value: <mand.noval.NoVal object at 0x10a691550>\n",
      "             GetValue begin key: /Global/anon:O2/17d361b1-6126-4632-9b50-b1343389a020.(O2:downCtx)(), ctx: Root:X-down\n",
      "               GetValue/Calc begin key: /Global/anon:O2/17d361b1-6126-4632-9b50-b1343389a020.(O2:downCtx)(), ctx: Root:X-down\n",
      "                 Context enter ctx: Root:X-down, other: dict_keys(['name'])\n",
      "                   GetValue begin key: /Global/anon:O2/17d361b1-6126-4632-9b50-b1343389a020.(O2:X)(), ctx: Root:X-down\n",
      "                     GetValue from ctx key: /Global/anon:O2/17d361b1-6126-4632-9b50-b1343389a020.(O2:X)(), ctx: Root:X-down, value: 9.9999\n",
      "                   GetValue begin key: /Global/anon:O2/17d361b1-6126-4632-9b50-b1343389a020.(O2:eps)(), ctx: Root:X-down\n",
      "                     GetValue from ctx key: /Global/anon:O2/17d361b1-6126-4632-9b50-b1343389a020.(O2:eps)(), ctx: Root:X-down, value: 0.0001\n",
      "                   Context create ctx: Root:X-down:X-down, other: dict_keys(['name'])\n",
      "                   Context set key: /Global/anon:O2/17d361b1-6126-4632-9b50-b1343389a020.(O2:X)(), ctx: Root:X-down:X-down, value: 9.9999\n",
      "                   Context set key: /Global/anon:O2/17d361b1-6126-4632-9b50-b1343389a020.(O2:X)(), ctx: Root:X-down:X-down, value: 9.9998\n",
      "                 GetValue/Calc end key: /Global/anon:O2/17d361b1-6126-4632-9b50-b1343389a020.(O2:downCtx)(), ctx: Root:X-down\n",
      "               GetValue end key: /Global/anon:O2/17d361b1-6126-4632-9b50-b1343389a020.(O2:downCtx)(), ctx: Root:X-down, value: <mand.context.Context object at 0x10a...\n",
      "             Context enter ctx: Root:X-down:X-down, other: dict_keys(['name'])\n",
      "               Context set key: /Global/anon:O2/17d361b1-6126-4632-9b50-b1343389a020.(O2:Y)(), ctx: Root:X-down:X-down, value: <mand.noval.NoVal object at 0x10a691550>\n",
      "               GetValue begin key: /Global/anon:O2/17d361b1-6126-4632-9b50-b1343389a020.(O2:Y)(), ctx: Root:X-down:X-down\n",
      "                 GetValue/Calc begin key: /Global/anon:O2/17d361b1-6126-4632-9b50-b1343389a020.(O2:Y)(), ctx: Root:X-down:X-down\n",
      "                   Context enter ctx: Root:X-down:X-down, other: dict_keys(['name'])\n",
      "                     GetValue begin key: /Global/anon:O2/17d361b1-6126-4632-9b50-b1343389a020.(O2:X)(), ctx: Root:X-down:X-down\n",
      "                       GetValue from ctx key: /Global/anon:O2/17d361b1-6126-4632-9b50-b1343389a020.(O2:X)(), ctx: Root:X-down:X-down, value: 9.9998\n",
      "                   GetValue/Calc end key: /Global/anon:O2/17d361b1-6126-4632-9b50-b1343389a020.(O2:Y)(), ctx: Root:X-down:X-down\n",
      "                 GetValue end key: /Global/anon:O2/17d361b1-6126-4632-9b50-b1343389a020.(O2:Y)(), ctx: Root:X-down:X-down, value: 999.9400011999921\n",
      "           GetValue/Calc end key: /Global/anon:O2/17d361b1-6126-4632-9b50-b1343389a020.(O2:delta)(), ctx: Root:X-down\n",
      "         GetValue end key: /Global/anon:O2/17d361b1-6126-4632-9b50-b1343389a020.(O2:delta)(), ctx: Root:X-down, value: 299.9940000393053\n",
      "     GetValue/Calc end key: /Global/anon:O2/17d361b1-6126-4632-9b50-b1343389a020.(O2:gamma)(), ctx: Root\n",
      "   GetValue end key: /Global/anon:O2/17d361b1-6126-4632-9b50-b1343389a020.(O2:gamma)(), ctx: Root, value: 59.999999280080374\n",
      "gamma: 59.999999280080374\n"
     ]
    }
   ],
   "source": [
    "class O2(Entity):\n",
    "\n",
    "    @node(tweakable=True)\n",
    "    def X(self):\n",
    "        return 10\n",
    "    \n",
    "    @node\n",
    "    def Y(self):\n",
    "        return self.X()**3\n",
    "    \n",
    "    @node\n",
    "    def eps(self):\n",
    "        return 1e-4\n",
    "    \n",
    "    @node\n",
    "    def upCtx(self):\n",
    "        x_bump = self.X() + self.eps()\n",
    "        c = Context({self.X: x_bump}, name='X-up')\n",
    "        return c\n",
    "    \n",
    "    @node\n",
    "    def downCtx(self):\n",
    "        x_bump = self.X() - self.eps()\n",
    "        c = Context({self.X: x_bump}, name='X-down')\n",
    "        return c\n",
    "    \n",
    "    @node \n",
    "    def delta(self):\n",
    "        eps = self.eps()\n",
    "        with self.upCtx():\n",
    "            y_up = self.Y()\n",
    "        with self.downCtx():\n",
    "            y_down = self.Y()\n",
    "        return (y_up-y_down)/eps/2\n",
    "    \n",
    "    @node \n",
    "    def gamma(self):\n",
    "        eps = self.eps()\n",
    "        with self.upCtx():\n",
    "            delta_up = self.delta()\n",
    "        with self.downCtx():\n",
    "            delta_down = self.delta()\n",
    "        return (delta_up-delta_down)/eps/2\n",
    "    \n",
    "with PrintMonitor():\n",
    "    o2 = O2()\n",
    "    d = o2.delta()\n",
    "    print('delta:', d)\n",
    "    g = o2.gamma()\n",
    "    print('gamma:', g)"
   ]
  },
  {
   "cell_type": "markdown",
   "metadata": {},
   "source": [
    "## Summary Monitor [Test]\n",
    "\n",
    "This monitor just prints basic summary information about a computation.\n",
    "\n",
    "Note that 6 contexts were created: 2 for the gamma up/down, and then two nested contexts for delta within those gamma\n",
    "contexts."
   ]
  },
  {
   "cell_type": "code",
   "execution_count": 7,
   "metadata": {
    "collapsed": false
   },
   "outputs": [
    {
     "name": "stdout",
     "output_type": "stream",
     "text": [
      "delta: 300.00000000939053\n",
      "gamma: 59.999999280080374\n"
     ]
    },
    {
     "data": {
      "text/markdown": [
       "### Compute activity summary (0.00 seconds of wall clock time)"
      ],
      "text/plain": [
       "<IPython.core.display.Markdown object>"
      ]
     },
     "metadata": {},
     "output_type": "display_data"
    },
    {
     "data": {
      "text/markdown": [
       "|key|value|\n",
       "|-|-|\n",
       "|Context|6\n",
       "|GetValue|40\n",
       "|GetValue/Calc|20"
      ],
      "text/plain": [
       "<IPython.core.display.Markdown object>"
      ]
     },
     "metadata": {},
     "output_type": "display_data"
    }
   ],
   "source": [
    "with SummaryMonitor():\n",
    "    o2a = O2()\n",
    "    d = o2a.delta()\n",
    "    print('delta:', d)\n",
    "    g = o2a.gamma()\n",
    "    print('gamma:', g)"
   ]
  }
 ],
 "metadata": {
  "kernelspec": {
   "display_name": "Python 3",
   "language": "python",
   "name": "python3"
  },
  "language_info": {
   "codemirror_mode": {
    "name": "ipython",
    "version": 3
   },
   "file_extension": ".py",
   "mimetype": "text/x-python",
   "name": "python",
   "nbconvert_exporter": "python",
   "pygments_lexer": "ipython3",
   "version": "3.6.1"
  }
 },
 "nbformat": 4,
 "nbformat_minor": 2
}
