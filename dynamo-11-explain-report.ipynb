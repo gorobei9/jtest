{
 "cells": [
  {
   "cell_type": "code",
   "execution_count": 1,
   "metadata": {
    "collapsed": false
   },
   "outputs": [
    {
     "name": "stdout",
     "output_type": "stream",
     "text": [
      "<mand.db.ObjectDb object at 0x10efadad0>: 108, mem=True, ro=False: entities=9, map=2\n"
     ]
    }
   ],
   "source": [
    "import mand.core\n",
    "\n",
    "from mand.core import Entity, node, Context\n",
    "\n",
    "from mand.core import ObjectDb, _tr, Timestamp, Context\n",
    "from mand.core import ProfileMonitor, PrintMonitor\n",
    "from mand.lib.extrefdata import ExternalRefData, dataField\n",
    "from mand.lib.workflow import Workbook, WorkItemOpenEvent, WorkItem\n",
    "from mand.lib.portfolio import Portfolio\n",
    "from mand.core import displayDict, displayMarkdown, displayListOfDicts, displayHeader\n",
    "from mand.core import num, find\n",
    "import datetime\n",
    "from mand.lib.dbsetup import setUpDb\n",
    "\n",
    "from mand.demos.trading import TradingBook, TradingPortfolio, MarketDataSource, MarketInterface\n",
    "\n",
    "db = ObjectDb()\n",
    "setUpDb(db)\n",
    "db.describe()"
   ]
  },
  {
   "cell_type": "code",
   "execution_count": 2,
   "metadata": {
    "collapsed": false
   },
   "outputs": [
    {
     "name": "stdout",
     "output_type": "stream",
     "text": [
      "<mand.demos.trading.TradingPortfolio object at 0x1102e85d0>\n",
      "# books: 100\n",
      "# children: 10\n"
     ]
    }
   ],
   "source": [
    "def makeTree(names):\n",
    "    ret = []\n",
    "    for name in names:\n",
    "        subs = [ TradingBook(name+str(i)) for i in range(10) ]\n",
    "        p = TradingPortfolio(name).write()\n",
    "        p.setChildren(subs)\n",
    "        ret.append(p)\n",
    "    return ret\n",
    "\n",
    "with db:\n",
    "    pAll = TradingPortfolio('TopOfTheHouse').write()\n",
    "    subs = makeTree(['Eq-Prop', 'Eq-Inst', 'FX', 'Rates', 'Credit', 'Delta1', 'Loans', 'Commod', 'ETFs', 'Mtge'])\n",
    "    pAll.setChildren(subs)\n",
    "    \n",
    "print pAll\n",
    "print '# books:', len(pAll.books())\n",
    "print '# children:', len(pAll.children())"
   ]
  },
  {
   "cell_type": "code",
   "execution_count": 3,
   "metadata": {
    "collapsed": false
   },
   "outputs": [
    {
     "name": "stdout",
     "output_type": "stream",
     "text": [
      "Customer1\n",
      "Eq-Prop0\n",
      "Eq-Inst0\n"
     ]
    }
   ],
   "source": [
    "with db:\n",
    "    bExt  = _tr.TradingBook('Customer1')\n",
    "    bExt2 = _tr.TradingBook('Customer2')\n",
    "    \n",
    "p1 = pAll.children()[0]\n",
    "p2 = pAll.children()[1]\n",
    "\n",
    "b1 = p1.children()[0]\n",
    "b2 = p2.children()[0]\n",
    "\n",
    "print bExt.meta.name()\n",
    "print b1.meta.name()\n",
    "print b2.meta.name()"
   ]
  },
  {
   "cell_type": "code",
   "execution_count": 4,
   "metadata": {
    "collapsed": false,
    "scrolled": false
   },
   "outputs": [],
   "source": [
    "with db:\n",
    "    s1_ibm  = MarketDataSource('source1.IBM')\n",
    "    s1_goog = MarketDataSource('source1.GOOG')\n",
    "\n",
    "s1_ibm.update(last=175.61)\n",
    "s1_goog.update(last=852.12)"
   ]
  },
  {
   "cell_type": "code",
   "execution_count": 5,
   "metadata": {
    "collapsed": false
   },
   "outputs": [],
   "source": [
    "with db:\n",
    "    ibm  = MarketInterface('IBM')\n",
    "    goog = MarketInterface('GOOG')"
   ]
  },
  {
   "cell_type": "code",
   "execution_count": 6,
   "metadata": {
    "collapsed": false
   },
   "outputs": [],
   "source": [
    "with db:\n",
    "    TradeOpenEvent = _tr.TradeOpenEvent\n",
    "    cf1 = _tr.ForwardCashflow()\n",
    "    ins1 = _tr.Equity()\n",
    "    ins2 = _tr.Equity(assetName='GOOG.Eq.1')\n",
    "    \n",
    "    ts1 = Timestamp()\n",
    "    \n",
    "    ev1 = TradeOpenEvent(action='Buy',\n",
    "                         item=ins1,\n",
    "                         quantity=100,\n",
    "                         premium=cf1,\n",
    "                         unitPrice=175.65,\n",
    "                         book1=b1,\n",
    "                         book2=bExt).write()\n",
    "    \n",
    "    ts2 = Timestamp()\n",
    "    \n",
    "    s1_ibm.update(last=175.64)\n",
    "    \n",
    "    ts3 = Timestamp()\n",
    "    \n",
    "    ev2 = TradeOpenEvent(action='Buy',\n",
    "                         item=ins2,\n",
    "                         quantity=300,\n",
    "                         premium=cf1,\n",
    "                         unitPrice=852.12,\n",
    "                         book1=b2,\n",
    "                         book2=bExt).write()\n",
    "    \n",
    "    ev3 = TradeOpenEvent(action='Sell',\n",
    "                         item=ins1,\n",
    "                         quantity=100,\n",
    "                         premium=cf1,\n",
    "                         unitPrice=175.85,\n",
    "                         book1=b2,\n",
    "                         book2=bExt2).write()\n",
    "    \n",
    "    ts4 = Timestamp()\n",
    "    \n",
    "    s1_ibm.update(last=175.70)\n",
    "    s1_goog.update(last=852.11)\n",
    "    \n",
    "    ts5 = Timestamp()\n",
    "    \n",
    "    s1_ibm.update(last=175.68)\n",
    "    s1_goog.update(last=852.13)\n",
    "    \n",
    "    eod = Timestamp()\n",
    "    \n",
    "    ev4 = TradeOpenEvent(action='Buy',\n",
    "                         item=ins1,\n",
    "                         quantity=100,\n",
    "                         premium=cf1,\n",
    "                         unitPrice=175.69,\n",
    "                         book1=b1,\n",
    "                         book2=bExt,\n",
    "                         amends=ev1,\n",
    "                         message='Sorry, the broker says you actually paid 69. signed: the middle office'\n",
    "                        ).write(validTime=ev1.meta._timestamp.validTime)\n",
    "    \n",
    "    s1_ibm.update(last=177.68)\n",
    "    s1_goog.update(last=856.13)\n",
    "    \n",
    "    ts6 = Timestamp()\n",
    "    "
   ]
  },
  {
   "cell_type": "code",
   "execution_count": 7,
   "metadata": {
    "collapsed": false,
    "scrolled": false
   },
   "outputs": [
    {
     "data": {
      "text/markdown": [
       "# PnL explain for TopOfTheHouse: 1196.00"
      ],
      "text/plain": [
       "<IPython.core.display.Markdown object>"
      ]
     },
     "metadata": {},
     "output_type": "display_data"
    },
    {
     "data": {
      "text/markdown": [
       "|Activity|PnL|\n",
       "|-|-|\n",
       "|Starting balance breaks|0.00\n",
       "|prior day amends: MarketData|0.00\n",
       "|prior day amends: Portfolio|0.00\n",
       "|prior day amends: Trading|-4.00\n",
       "|activity: MarketData|1200.00\n",
       "|activity: Portfolio|0.00\n",
       "|activity: Trading|0.00\n",
       "|Ending balance breaks|0.00"
      ],
      "text/plain": [
       "<IPython.core.display.Markdown object>"
      ]
     },
     "metadata": {},
     "output_type": "display_data"
    }
   ],
   "source": [
    "pm = None\n",
    "\n",
    "class Report(Entity):\n",
    "    @node(stored=True)\n",
    "    def valuable(self):\n",
    "        return None\n",
    "    \n",
    "    @node(stored=True)\n",
    "    def ts1(self):\n",
    "        return None\n",
    "    \n",
    "    @node(stored=True)\n",
    "    def ts2(self):\n",
    "        return None\n",
    "    \n",
    "    @node\n",
    "    def data(self):\n",
    "        valuable = self.valuable()\n",
    "        ts1 = self.ts1()\n",
    "        ts2 = self.ts2()\n",
    "        clock = valuable.getObj(_tr.RootClock, 'Main')\n",
    "    \n",
    "        def clocks(ts):\n",
    "            def fn(node):\n",
    "                obj = node.key[0]\n",
    "                m = node.key[1].split(':')[-1]\n",
    "                if isinstance(obj, _tr.Clock) and m == 'cutoffs':\n",
    "                    return True\n",
    "            with Context({clock.cutoffs: ts}, 'Clocks'):\n",
    "                nodes = find(valuable.NPV, fn)\n",
    "                return dict( [ (node.tweakPoint, node) for node in nodes ] )\n",
    "    \n",
    "        allNodes = clocks(ts1)\n",
    "    \n",
    "        allNodes.update(clocks(ts2))\n",
    "        nodes = allNodes.values() \n",
    "    \n",
    "        # IRL, we'd sort these according to some business req...\n",
    "        nodes = sorted(nodes, key = lambda node: node.key[0].meta.name())\n",
    "    \n",
    "        data = []\n",
    "        curr = [0]\n",
    "        def add(title, npv):\n",
    "            pnl = npv - curr[0]\n",
    "            curr[0] = npv\n",
    "            data.append( {'Activity': title, 'PnL': pnl } )\n",
    "\n",
    "        with Context({clock.cutoffs: ts1}, 'Start'):\n",
    "            curr = [ valuable.NPV() ] # Starting balance\n",
    "    \n",
    "        tweaks = {}\n",
    "        for n in nodes:\n",
    "            tweaks[n.tweakPoint] = ts1\n",
    "        with Context(tweaks, name='Start breaks'):\n",
    "            start = valuable.NPV()\n",
    "            add('Starting balance breaks', start)\n",
    "\n",
    "        tsAmend = Timestamp(t=ts2.transactionTime, v=ts1.validTime)\n",
    "        for n in nodes:\n",
    "            tweaks[n.tweakPoint] = tsAmend\n",
    "            name = n.key[0].meta.name()\n",
    "            with Context(tweaks, name='Amend %s' % name):\n",
    "                add('prior day amends: %s' % name, valuable.NPV())\n",
    "        for n in nodes:\n",
    "            tweaks[n.tweakPoint] = ts2\n",
    "            name = n.key[0].meta.name()\n",
    "            with Context(tweaks, name='Activity %s' % name):\n",
    "                add('activity: %s' % name, valuable.NPV())\n",
    "    \n",
    "        with Context({clock.cutoffs: ts2}, name='End'):\n",
    "            end = valuable.NPV()\n",
    "            add('Ending balance breaks', end)\n",
    "\n",
    "        title = 'PnL explain for %s: %s' % (valuable.meta.name(), end-start)\n",
    "        return data, title\n",
    "\n",
    "    def run(self):\n",
    "        data, title = self.data()\n",
    "        displayHeader('%s' % title)\n",
    "        displayListOfDicts(data, names=['Activity', 'PnL'] )\n",
    "    \n",
    "r = Report(valuable=pAll, ts1=eod, ts2=ts6)\n",
    "r.run()"
   ]
  },
  {
   "cell_type": "code",
   "execution_count": 8,
   "metadata": {
    "collapsed": false
   },
   "outputs": [],
   "source": [
    "with db:\n",
    "    p1.setChildren(p1.children() + [b2])\n",
    "\n",
    "ts7 = Timestamp()"
   ]
  },
  {
   "cell_type": "code",
   "execution_count": 9,
   "metadata": {
    "collapsed": false,
    "scrolled": false
   },
   "outputs": [
    {
     "name": "stdout",
     "output_type": "stream",
     "text": [
      "LogMessage: Oops, book appears multiple times\n",
      "LogMessage: Oops, book appears multiple times\n",
      "LogMessage: Oops, book appears multiple times\n",
      "LogMessage: Oops, book appears multiple times\n"
     ]
    },
    {
     "data": {
      "text/markdown": [
       "# PnL explain for TopOfTheHouse: 2216.00"
      ],
      "text/plain": [
       "<IPython.core.display.Markdown object>"
      ]
     },
     "metadata": {},
     "output_type": "display_data"
    },
    {
     "data": {
      "text/markdown": [
       "|Activity|PnL|\n",
       "|-|-|\n",
       "|Starting balance breaks|0.00\n",
       "|prior day amends: MarketData|0.00\n",
       "|prior day amends: Portfolio|0.00\n",
       "|prior day amends: Trading|-4.00\n",
       "|activity: MarketData|1200.00\n",
       "|activity: Portfolio|1020.00\n",
       "|activity: Trading|0.00\n",
       "|Ending balance breaks|0.00"
      ],
      "text/plain": [
       "<IPython.core.display.Markdown object>"
      ]
     },
     "metadata": {},
     "output_type": "display_data"
    },
    {
     "data": {
      "text/markdown": [
       "\n",
       "### Profile by nodes.\n",
       "* times are in microseconds\n",
       "* cumT is total time spent in funtion\n",
       "* calcT is time spent in function, but not in a child node"
      ],
      "text/plain": [
       "<IPython.core.display.Markdown object>"
      ]
     },
     "metadata": {},
     "output_type": "display_data"
    },
    {
     "data": {
      "text/markdown": [
       "|fn|n|cumT|calcT|cumT/call|sys|\n",
       "|-|-|-|-|-|-|\n",
       "|Portfolio:items|121|11,727,664|1,137|96,922|GetValue\n",
       "|Portfolio:items|121|11,726,527|19,302|96,913|GetValue/Calc\n",
       "|Report:data|1|6,123,947|14|6,123,947|GetValue\n",
       "|Report:data|1|6,123,932|399|6,123,932|GetValue/Calc\n",
       "|TradingContainer:NPV|11|6,116,075|125|556,006|GetValue\n",
       "|TradingContainer:NPV|11|6,115,949|1,758|555,995|GetValue/Calc\n",
       "|Workbook:items|1,104|4,831,296|10,852|4,376|GetValue\n",
       "|Workbook:items|1,100|4,820,443|4,666,364|4,382|GetValue/Calc\n",
       "|Root:Clocks|2|1,622,207|2,487|811,103|Context\n",
       "|Portfolio:children|242|1,066,009|1,716|4,404|GetValue\n",
       "|Portfolio:children|121|1,064,293|539,760|8,795|GetValue/Calc\n",
       "|Root:End|1|568,400|47|568,400|Context\n",
       "|Root:Activity Trading|1|536,880|45|536,880|Context\n",
       "|Root:Activity Portfolio|1|521,213|44|521,213|Context\n",
       "|Root:Activity MarketData|1|502,534|46|502,534|Context\n",
       "|Root:Amend Trading|1|482,803|101|482,803|Context\n",
       "|Root:Start|1|477,694|20|477,694|Context\n",
       "|Root:Amend Portfolio|1|476,025|39|476,025|Context\n",
       "|Root:Amend MarketData|1|467,263|39|467,263|Context\n",
       "|Root:Start breaks|1|463,961|38|463,961|Context\n",
       "|PortfolioUpdateEvent:children|121|443,712|2,450|3,667|GetValue\n",
       "|TradingBook|102|407,885|407,885|3,998|Db.Get\n",
       "|Equity:NPV|15|189,104|180|12,606|GetValue\n",
       "|Equity:NPV|15|188,924|515|12,594|GetValue/Calc\n",
       "|MarketInterface:spot|15|174,712|150|11,647|GetValue\n",
       "|MarketInterface:spot|15|174,562|470|11,637|GetValue/Calc\n",
       "|ExternalRefData:state|15|165,554|125|11,036|GetValue\n",
       "|ExternalRefData:state|15|165,428|288|11,028|GetValue/Calc\n",
       "|RefData:state|15|165,139|136|11,009|GetValue\n",
       "|RefData:state|15|165,003|71,954|11,000|GetValue/Calc\n",
       "|Clock:cutoffs|2,480|148,214|9,891|59|GetValue\n",
       "|Clock:cutoffs|20|138,323|456|6,916|GetValue/Calc\n",
       "|Clock:parent|20|105,036|389|5,251|GetValue\n",
       "|Clock:parent|20|104,647|84,492|5,232|GetValue/Calc\n",
       "|PortfolioUpdateEvent|12|55,443|55,443|4,620|Db.Get\n",
       "|TradingBook:clock|2,200|44,170|21,613|20|GetValue\n",
       "|RefDataUpdateEvent|9|42,420|42,420|4,713|Db.Get\n",
       "|TradingPortfolio|10|41,571|41,571|4,157|Db.Get\n",
       "|Clock|5|23,209|23,209|4,641|Db.Get\n",
       "|TradingBook:clock|1,100|22,556|17,814|20|GetValue/Calc\n",
       "|TradeOpenEvent|4|19,077|19,077|4,769|Db.Get\n",
       "|TradeOpenEvent:ticket|66|15,723|586|238|GetValue\n",
       "|TradingTicket|4|15,136|15,136|3,784|Db.Get\n",
       "|Equity:refdata|15|13,695|165|913|GetValue\n",
       "|Equity:refdata|15|13,530|485|902|GetValue/Calc\n",
       "|ClockEvent:parent|8|10,607|81|1,325|GetValue\n",
       "|Portfolio:books|231|9,271|2,941|40|GetValue\n",
       "|ClockEvent|2|8,774|8,774|4,387|Db.Get\n",
       "|MarketInterface:source|15|8,537|124|569|GetValue\n",
       "|_WorkItemEvent:book2|66|8,519|324|129|GetValue\n",
       "|MarketInterface:source|15|8,413|390|560|GetValue/Calc\n",
       "|MarketInterface|2|8,200|8,200|4,100|Db.Get\n",
       "|_WorkItemEvent:item|33|7,944|240|240|GetValue\n",
       "|MarketDataSource|2|7,806|7,806|3,903|Db.Get\n",
       "|Equity|2|7,703|7,703|3,851|Db.Get\n",
       "|Portfolio:clock|242|7,697|2,285|31|GetValue\n",
       "|Portfolio:books|121|6,330|4,215|52|GetValue/Calc\n",
       "|Portfolio:clock|121|5,411|1,837|44|GetValue/Calc\n",
       "|MarketDataSource:clock|30|4,897|285|163|GetValue\n",
       "|MarketInterface|1|4,714|4,714|4,714|Db.Put\n",
       "|MarketDataSource:clock|15|4,611|244|307|GetValue/Calc\n",
       "|RootClock|1|4,534|4,534|4,534|Db.Get\n",
       "|TradeOpenEvent:premium|33|3,796|248|115|GetValue\n",
       "|ForwardCashflow|1|3,548|3,548|3,548|Db.Get\n",
       "|Event:amends|230|1,590|1,590|6|GetValue\n",
       "|Entity:clock|40|568|347|14|GetValue\n",
       "|_WorkItemEvent:book1|66|336|336|5|GetValue\n",
       "|TradeOpenEvent:quantity|66|298|298|4|GetValue\n",
       "|RefDataUpdateEvent:data|58|290|290|5|GetValue\n",
       "|Entity:clock|20|220|220|11|GetValue/Calc\n",
       "|MarketInterface:sourceName|15|215|149|14|GetValue\n",
       "|RootClock:cutoffs|52|188|188|3|GetValue\n",
       "|TradeOpenEvent:action|33|188|188|5|GetValue\n",
       "|TradeOpenEvent:unitPrice|33|186|186|5|GetValue\n",
       "|ForwardCashflow:NPV|11|183|139|16|GetValue\n",
       "|Equity:assetName|15|128|128|8|GetValue\n",
       "|MarketInterface:sourceName|15|65|65|4|GetValue/Calc\n",
       "|ForwardCashflow:NPV|11|43|43|3|GetValue/Calc\n",
       "|Report:valuable|1|6|6|6|GetValue\n",
       "|Report:ts1|1|3|3|3|GetValue\n",
       "|Report:ts2|1|3|3|3|GetValue"
      ],
      "text/plain": [
       "<IPython.core.display.Markdown object>"
      ]
     },
     "metadata": {},
     "output_type": "display_data"
    }
   ],
   "source": [
    "db3 = db.copy()\n",
    "p = db3._get(pAll.meta.path())\n",
    "    \n",
    "# Note misleading cum times below due to recursion...\n",
    "\n",
    "with ProfileMonitor(mode='sum'): \n",
    "    r = Report(valuable=p, ts1=eod, ts2=ts7)\n",
    "    r.run()"
   ]
  }
 ],
 "metadata": {
  "kernelspec": {
   "display_name": "Python 2",
   "language": "python",
   "name": "python2"
  },
  "language_info": {
   "codemirror_mode": {
    "name": "ipython",
    "version": 2
   },
   "file_extension": ".py",
   "mimetype": "text/x-python",
   "name": "python",
   "nbconvert_exporter": "python",
   "pygments_lexer": "ipython2",
   "version": "2.7.13"
  }
 },
 "nbformat": 4,
 "nbformat_minor": 2
}
