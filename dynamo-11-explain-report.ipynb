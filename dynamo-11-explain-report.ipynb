{
 "cells": [
  {
   "cell_type": "code",
   "execution_count": 1,
   "metadata": {
    "collapsed": false
   },
   "outputs": [
    {
     "name": "stdout",
     "output_type": "stream",
     "text": [
      "<mand.db.ObjectDb object at 0x109f9dad0>: 106, mem=True, ro=False: entities=9, map=2\n"
     ]
    }
   ],
   "source": [
    "import mand.core\n",
    "\n",
    "from mand.core import Entity, node, Context\n",
    "\n",
    "from mand.core import ObjectDb, _tr, Timestamp, Context\n",
    "from mand.core import ProfileMonitor, PrintMonitor\n",
    "from mand.lib.extrefdata import ExternalRefData, dataField\n",
    "from mand.lib.workflow import Workbook, WorkItemOpenEvent, WorkItem\n",
    "from mand.lib.portfolio import Portfolio\n",
    "from mand.core import displayDict, displayMarkdown, displayListOfDicts, displayHeader\n",
    "from mand.core import num, find\n",
    "import datetime\n",
    "from mand.lib.dbsetup import setUpDb\n",
    "\n",
    "from mand.demos.trading import TradingBook, TradingPortfolio, MarketDataSource, MarketInterface\n",
    "\n",
    "db = ObjectDb()\n",
    "setUpDb(db)\n",
    "db.describe()"
   ]
  },
  {
   "cell_type": "code",
   "execution_count": 2,
   "metadata": {
    "collapsed": false
   },
   "outputs": [
    {
     "name": "stdout",
     "output_type": "stream",
     "text": [
      "<mand.demos.trading.TradingPortfolio object at 0x10a1068d0>\n",
      "# books: 20\n",
      "# children: 2\n"
     ]
    }
   ],
   "source": [
    "def makeTree(names):\n",
    "    ret = []\n",
    "    for name in names:\n",
    "        subs = [ TradingBook(name+str(i)) for i in range(10) ]\n",
    "        p = TradingPortfolio(name).write()\n",
    "        p.setChildren(subs)\n",
    "        ret.append(p)\n",
    "    return ret\n",
    "\n",
    "with db:\n",
    "    pAll = TradingPortfolio('TopOfTheHouse').write()\n",
    "    subs = makeTree(['Eq-Prop', 'Eq-Inst', ])# 'FX', 'Rates', 'Credit', 'Delta1', 'Loans', 'Commod', 'ETFs', 'Mtge'])\n",
    "    pAll.setChildren(subs)\n",
    "    \n",
    "print pAll\n",
    "print '# books:', len(pAll.books())\n",
    "print '# children:', len(pAll.children())"
   ]
  },
  {
   "cell_type": "code",
   "execution_count": 3,
   "metadata": {
    "collapsed": false
   },
   "outputs": [
    {
     "name": "stdout",
     "output_type": "stream",
     "text": [
      "Customer1\n",
      "Eq-Prop0\n",
      "Eq-Inst0\n"
     ]
    }
   ],
   "source": [
    "with db:\n",
    "    bExt  = _tr.TradingBook('Customer1')\n",
    "    bExt2 = _tr.TradingBook('Customer2')\n",
    "    \n",
    "p1 = pAll.children()[0]\n",
    "p2 = pAll.children()[1]\n",
    "\n",
    "b1 = p1.children()[0]\n",
    "b2 = p2.children()[0]\n",
    "\n",
    "print bExt.meta.name()\n",
    "print b1.meta.name()\n",
    "print b2.meta.name()"
   ]
  },
  {
   "cell_type": "code",
   "execution_count": 4,
   "metadata": {
    "collapsed": false,
    "scrolled": false
   },
   "outputs": [],
   "source": [
    "with db:\n",
    "    s1_ibm  = MarketDataSource('source1.IBM')\n",
    "    s1_goog = MarketDataSource('source1.GOOG')\n",
    "\n",
    "s1_ibm.update(last=175.61)\n",
    "s1_goog.update(last=852.12)"
   ]
  },
  {
   "cell_type": "code",
   "execution_count": 5,
   "metadata": {
    "collapsed": false
   },
   "outputs": [],
   "source": [
    "with db:\n",
    "    ibm  = MarketInterface('IBM')\n",
    "    goog = MarketInterface('GOOG')"
   ]
  },
  {
   "cell_type": "code",
   "execution_count": 6,
   "metadata": {
    "collapsed": false
   },
   "outputs": [],
   "source": [
    "with db:\n",
    "    TradeOpenEvent = _tr.TradeOpenEvent\n",
    "    cf1 = _tr.ForwardCashflow()\n",
    "    ins1 = _tr.Equity()\n",
    "    ins2 = _tr.Equity(assetName='GOOG.Eq.1')\n",
    "    \n",
    "    ts1 = Timestamp()\n",
    "    \n",
    "    ev1 = TradeOpenEvent(action='Buy',\n",
    "                         item=ins1,\n",
    "                         quantity=100,\n",
    "                         premium=cf1,\n",
    "                         unitPrice=175.65,\n",
    "                         book1=b1,\n",
    "                         book2=bExt).write()\n",
    "    \n",
    "    ts2 = Timestamp()\n",
    "    \n",
    "    s1_ibm.update(last=175.64)\n",
    "    \n",
    "    ts3 = Timestamp()\n",
    "    \n",
    "    ev2 = TradeOpenEvent(action='Buy',\n",
    "                         item=ins2,\n",
    "                         quantity=300,\n",
    "                         premium=cf1,\n",
    "                         unitPrice=852.12,\n",
    "                         book1=b2,\n",
    "                         book2=bExt).write()\n",
    "    \n",
    "    ev3 = TradeOpenEvent(action='Sell',\n",
    "                         item=ins1,\n",
    "                         quantity=100,\n",
    "                         premium=cf1,\n",
    "                         unitPrice=175.85,\n",
    "                         book1=b2,\n",
    "                         book2=bExt2).write()\n",
    "    \n",
    "    ts4 = Timestamp()\n",
    "    \n",
    "    s1_ibm.update(last=175.70)\n",
    "    s1_goog.update(last=852.11)\n",
    "    \n",
    "    ts5 = Timestamp()\n",
    "    \n",
    "    s1_ibm.update(last=175.68)\n",
    "    s1_goog.update(last=852.13)\n",
    "    \n",
    "    eod = Timestamp()\n",
    "    \n",
    "    ev4 = TradeOpenEvent(action='Buy',\n",
    "                         item=ins1,\n",
    "                         quantity=100,\n",
    "                         premium=cf1,\n",
    "                         unitPrice=175.69,\n",
    "                         book1=b1,\n",
    "                         book2=bExt,\n",
    "                         amends=ev1,\n",
    "                         message='Sorry, the broker says you actually paid 69. signed: the middle office'\n",
    "                        ).write(validTime=ev1.meta._timestamp.validTime)\n",
    "    \n",
    "    s1_ibm.update(last=177.68)\n",
    "    s1_goog.update(last=856.13)\n",
    "    \n",
    "    ts6 = Timestamp()\n",
    "    "
   ]
  },
  {
   "cell_type": "code",
   "execution_count": 7,
   "metadata": {
    "collapsed": false,
    "scrolled": false
   },
   "outputs": [
    {
     "data": {
      "text/markdown": [
       "# PnL explain for TopOfTheHouse: $1196.00"
      ],
      "text/plain": [
       "<IPython.core.display.Markdown object>"
      ]
     },
     "metadata": {},
     "output_type": "display_data"
    },
    {
     "data": {
      "text/markdown": [
       "|Activity|PnL|\n",
       "|-|-|\n",
       "|Starting balance breaks|0.00\n",
       "|prior day amends: MarketData|0.00\n",
       "|prior day amends: Portfolio|0.00\n",
       "|prior day amends: Trading|-4.00\n",
       "|activity: MarketData|1200.00\n",
       "|activity: Portfolio|0.00\n",
       "|activity: Trading|0.00\n",
       "|Ending balance breaks|0.00"
      ],
      "text/plain": [
       "<IPython.core.display.Markdown object>"
      ]
     },
     "metadata": {},
     "output_type": "display_data"
    }
   ],
   "source": [
    "pm = None\n",
    "\n",
    "class Report(Entity):\n",
    "    @node(stored=True)\n",
    "    def valuable(self):\n",
    "        return None\n",
    "    \n",
    "    @node(stored=True)\n",
    "    def ts1(self):\n",
    "        return None\n",
    "    \n",
    "    @node(stored=True)\n",
    "    def ts2(self):\n",
    "        return None\n",
    "    \n",
    "    @node\n",
    "    def data(self):\n",
    "        valuable = self.valuable()\n",
    "        ts1 = self.ts1()\n",
    "        ts2 = self.ts2()\n",
    "        clock = valuable.getObj(_tr.RootClock, 'Main')\n",
    "    \n",
    "        def clocks(ts):\n",
    "            def fn(node):\n",
    "                obj = node.key[0]\n",
    "                m = node.key[1].split(':')[-1]\n",
    "                if isinstance(obj, _tr.Clock) and m == 'cutoffs':\n",
    "                    return True\n",
    "            with Context({clock.cutoffs: ts}, 'Clocks'):\n",
    "                nodes = find(valuable.NPV, fn)\n",
    "                return dict( [ (node.tweakPoint, node) for node in nodes ] )\n",
    "    \n",
    "        allNodes = clocks(ts1)\n",
    "    \n",
    "        allNodes.update(clocks(ts2))\n",
    "        nodes = allNodes.values() \n",
    "    \n",
    "        # IRL, we'd sort these according to some business req...\n",
    "        nodes = sorted(nodes, key = lambda node: node.key[0].meta.name())\n",
    "    \n",
    "        data = []\n",
    "        curr = [0]\n",
    "        def add(title, npv):\n",
    "            pnl = npv - curr[0]\n",
    "            curr[0] = npv\n",
    "            data.append( {'Activity': title, 'PnL': pnl } )\n",
    "\n",
    "        with Context({clock.cutoffs: ts1}, 'Start'):\n",
    "            curr = [ valuable.NPV() ] # Starting balance\n",
    "    \n",
    "        tweaks = {}\n",
    "        for n in nodes:\n",
    "            tweaks[n.tweakPoint] = ts1\n",
    "        with Context(tweaks, name='Start breaks'):\n",
    "            start = valuable.NPV()\n",
    "            add('Starting balance breaks', start)\n",
    "\n",
    "        tsAmend = Timestamp(t=ts2.transactionTime, v=ts1.validTime)\n",
    "        for n in nodes:\n",
    "            tweaks[n.tweakPoint] = tsAmend\n",
    "            name = n.key[0].meta.name()\n",
    "            with Context(tweaks, name='Amend %s' % name):\n",
    "                add('prior day amends: %s' % name, valuable.NPV())\n",
    "        for n in nodes:\n",
    "            tweaks[n.tweakPoint] = ts2\n",
    "            name = n.key[0].meta.name()\n",
    "            with Context(tweaks, name='Activity %s' % name):\n",
    "                add('activity: %s' % name, valuable.NPV())\n",
    "    \n",
    "        with Context({clock.cutoffs: ts2}, name='End'):\n",
    "            end = valuable.NPV()\n",
    "            add('Ending balance breaks', end)\n",
    "\n",
    "        title = 'PnL explain for %s: $%s' % (valuable.meta.name(), end-start)\n",
    "        return data, title\n",
    "\n",
    "    def run(self):\n",
    "        data, title = self.data()\n",
    "        displayHeader('%s' % title)\n",
    "        displayListOfDicts(data, names=['Activity', 'PnL'] )\n",
    "    \n",
    "r = Report(valuable=pAll, ts1=eod, ts2=ts6)\n",
    "r.run()"
   ]
  },
  {
   "cell_type": "code",
   "execution_count": 8,
   "metadata": {
    "collapsed": false
   },
   "outputs": [],
   "source": [
    "with db:\n",
    "    p1.setChildren(p1.children() + [b2])\n",
    "\n",
    "ts7 = Timestamp()"
   ]
  },
  {
   "cell_type": "code",
   "execution_count": 9,
   "metadata": {
    "collapsed": false,
    "scrolled": false
   },
   "outputs": [
    {
     "name": "stdout",
     "output_type": "stream",
     "text": [
      "LogMessage: Oops, book appears multiple times\n",
      "LogMessage: Oops, book appears multiple times\n",
      "LogMessage: Oops, book appears multiple times\n",
      "LogMessage: Oops, book appears multiple times\n"
     ]
    },
    {
     "data": {
      "text/markdown": [
       "# PnL explain for TopOfTheHouse: $2216.00"
      ],
      "text/plain": [
       "<IPython.core.display.Markdown object>"
      ]
     },
     "metadata": {},
     "output_type": "display_data"
    },
    {
     "data": {
      "text/markdown": [
       "|Activity|PnL|\n",
       "|-|-|\n",
       "|Starting balance breaks|0.00\n",
       "|prior day amends: MarketData|0.00\n",
       "|prior day amends: Portfolio|0.00\n",
       "|prior day amends: Trading|-4.00\n",
       "|activity: MarketData|1200.00\n",
       "|activity: Portfolio|1020.00\n",
       "|activity: Trading|0.00\n",
       "|Ending balance breaks|0.00"
      ],
      "text/plain": [
       "<IPython.core.display.Markdown object>"
      ]
     },
     "metadata": {},
     "output_type": "display_data"
    },
    {
     "data": {
      "text/markdown": [
       "\n",
       "### Profile by nodes.\n",
       "* times are in microseconds\n",
       "* cumT is total time spent in funtion\n",
       "* calcT is time spent in function, but not in a child node"
      ],
      "text/plain": [
       "<IPython.core.display.Markdown object>"
      ]
     },
     "metadata": {},
     "output_type": "display_data"
    },
    {
     "data": {
      "text/markdown": [
       "|fn|n|cumT|calcT|cumT/call|sys|\n",
       "|-|-|-|-|-|-|\n",
       "|Portfolio:items|33|2,503,195|294|75,854|GetValue\n",
       "|Portfolio:items|33|2,502,900|5,532|75,845|GetValue/Calc\n",
       "|Report:data|1|1,481,264|13|1,481,264|GetValue\n",
       "|Report:data|1|1,481,251|372|1,481,251|GetValue/Calc\n",
       "|TradingContainer:NPV|11|1,476,015|137|134,183|GetValue\n",
       "|TradingContainer:NPV|11|1,475,878|1,616|134,170|GetValue/Calc\n",
       "|Workbook:items|224|1,021,675|1,975|4,561|GetValue\n",
       "|Workbook:items|220|1,019,700|905,266|4,635|GetValue/Calc\n",
       "|Root:Clocks|2|505,146|869|252,573|Context\n",
       "|Portfolio:children|66|265,836|374|4,027|GetValue\n",
       "|Portfolio:children|33|265,461|134,452|8,044|GetValue/Calc\n",
       "|Equity:NPV|15|179,113|331|11,940|GetValue\n",
       "|Equity:NPV|15|178,781|344|11,918|GetValue/Calc\n",
       "|MarketInterface:spot|15|166,820|125|11,121|GetValue\n",
       "|MarketInterface:spot|15|166,694|402|11,112|GetValue/Calc\n",
       "|ExternalRefData:state|15|157,623|126|10,508|GetValue\n",
       "|ExternalRefData:state|15|157,496|283|10,499|GetValue/Calc\n",
       "|RefData:state|15|157,212|163|10,480|GetValue\n",
       "|RefData:state|15|157,049|67,733|10,469|GetValue/Calc\n",
       "|Clock:cutoffs|544|136,202|1,994|250|GetValue\n",
       "|Clock:cutoffs|20|134,207|395|6,710|GetValue/Calc\n",
       "|Root:End|1|125,242|39|125,242|Context\n",
       "|Root:Start|1|122,199|20|122,199|Context\n",
       "|Root:Activity Portfolio|1|107,239|36|107,239|Context\n",
       "|Root:Activity Trading|1|105,363|35|105,363|Context\n",
       "|Root:Amend MarketData|1|104,871|33|104,871|Context\n",
       "|Root:Amend Trading|1|104,609|38|104,609|Context\n",
       "|Root:Start breaks|1|101,909|41|101,909|Context\n",
       "|Clock:parent|20|101,586|139|5,079|GetValue\n",
       "|Clock:parent|20|101,446|83,475|5,072|GetValue/Calc\n",
       "|Root:Amend Portfolio|1|100,919|41|100,919|Context\n",
       "|Root:Activity MarketData|1|99,709|40|99,709|Context\n",
       "|TradingBook|22|85,565|85,565|3,889|Db.Get\n",
       "|PortfolioUpdateEvent:children|33|85,402|496|2,587|GetValue\n",
       "|RefDataUpdateEvent|9|41,906|41,906|4,656|Db.Get\n",
       "|Clock|5|21,427|21,427|4,285|Db.Get\n",
       "|PortfolioUpdateEvent|4|20,926|20,926|5,231|Db.Get\n",
       "|TradeOpenEvent:ticket|66|19,022|360|288|GetValue\n",
       "|TradingTicket|4|18,662|18,662|4,665|Db.Get\n",
       "|TradeOpenEvent|4|17,751|17,751|4,437|Db.Get\n",
       "|TradingBook:clock|440|12,037|3,868|27|GetValue\n",
       "|Equity:refdata|15|11,616|133|774|GetValue\n",
       "|Equity:refdata|15|11,482|435|765|GetValue/Calc\n",
       "|ClockEvent:parent|8|8,890|67|1,111|GetValue\n",
       "|MarketInterface:source|15|8,668|116|577|GetValue\n",
       "|MarketInterface:source|15|8,552|349|570|GetValue/Calc\n",
       "|ClockEvent|2|8,354|8,354|4,177|Db.Get\n",
       "|_WorkItemEvent:book2|66|8,288|308|125|GetValue\n",
       "|TradingBook:clock|220|8,169|3,519|37|GetValue/Calc\n",
       "|MarketDataSource|2|8,023|8,023|4,011|Db.Get\n",
       "|_WorkItemEvent:item|33|7,365|216|223|GetValue\n",
       "|TradingPortfolio|2|7,320|7,320|3,660|Db.Get\n",
       "|Equity|2|7,148|7,148|3,574|Db.Get\n",
       "|MarketInterface|2|7,107|7,107|3,553|Db.Get\n",
       "|Portfolio:clock|66|5,269|583|79|GetValue\n",
       "|TradeOpenEvent:premium|33|4,886|199|148|GetValue\n",
       "|ForwardCashflow|1|4,686|4,686|4,686|Db.Get\n",
       "|Portfolio:clock|33|4,685|481|141|GetValue/Calc\n",
       "|MarketDataSource:clock|30|4,302|290|143|GetValue\n",
       "|MarketDataSource:clock|15|4,012|262|267|GetValue/Calc\n",
       "|MarketInterface|1|3,822|3,822|3,822|Db.Put\n",
       "|RootClock|1|3,649|3,649|3,649|Db.Get\n",
       "|Event:amends|142|2,433|2,433|17|GetValue\n",
       "|Portfolio:books|55|1,751|387|31|GetValue\n",
       "|Portfolio:books|33|1,363|1,185|41|GetValue/Calc\n",
       "|Entity:clock|40|534|325|13|GetValue\n",
       "|_WorkItemEvent:book1|66|323|323|4|GetValue\n",
       "|TradeOpenEvent:quantity|66|275|275|4|GetValue\n",
       "|RefDataUpdateEvent:data|58|263|263|4|GetValue\n",
       "|ForwardCashflow:NPV|11|235|171|21|GetValue\n",
       "|Entity:clock|20|208|208|10|GetValue/Calc\n",
       "|MarketInterface:sourceName|15|179|115|11|GetValue\n",
       "|TradeOpenEvent:action|33|176|176|5|GetValue\n",
       "|TradeOpenEvent:unitPrice|33|174|174|5|GetValue\n",
       "|RootClock:cutoffs|52|167|167|3|GetValue\n",
       "|Equity:assetName|15|117|117|7|GetValue\n",
       "|MarketInterface:sourceName|15|63|63|4|GetValue/Calc\n",
       "|ForwardCashflow:NPV|11|63|63|5|GetValue/Calc\n",
       "|Report:valuable|1|5|5|5|GetValue\n",
       "|Report:ts2|1|5|5|5|GetValue\n",
       "|Report:ts1|1|5|5|5|GetValue"
      ],
      "text/plain": [
       "<IPython.core.display.Markdown object>"
      ]
     },
     "metadata": {},
     "output_type": "display_data"
    }
   ],
   "source": [
    "db3 = db.copy()\n",
    "p = db3._get(pAll.meta.path())\n",
    "    \n",
    "# Note misleading cum times below due to recursion...\n",
    "\n",
    "with ProfileMonitor(mode='sum'): \n",
    "    r = Report(valuable=p, ts1=eod, ts2=ts7)\n",
    "    r.run()"
   ]
  }
 ],
 "metadata": {
  "kernelspec": {
   "display_name": "Python 2",
   "language": "python",
   "name": "python2"
  },
  "language_info": {
   "codemirror_mode": {
    "name": "ipython",
    "version": 2
   },
   "file_extension": ".py",
   "mimetype": "text/x-python",
   "name": "python",
   "nbconvert_exporter": "python",
   "pygments_lexer": "ipython2",
   "version": "2.7.13"
  }
 },
 "nbformat": 4,
 "nbformat_minor": 2
}
