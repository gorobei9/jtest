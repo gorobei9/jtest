{
 "cells": [
  {
   "cell_type": "code",
   "execution_count": 1,
   "metadata": {
    "collapsed": false,
    "scrolled": false
   },
   "outputs": [],
   "source": [
    "from mand.core import Entity, node, getNode\n",
    "from mand.core import ObjectDb, Timestamp, Context, _tr\n",
    "from mand.core import ProfileMonitor, SummaryMonitor, PrintMonitor\n",
    "from mand.core import find, addFootnote, setDependencyManager\n",
    "from mand.demos.trading import makeWorld, bookSomeTrades, PnLExplainReport\n",
    "from mand.lib.dbsetup import setUpDb\n",
    "\n",
    "db = ObjectDb()\n",
    "setUpDb(db)"
   ]
  },
  {
   "cell_type": "code",
   "execution_count": 2,
   "metadata": {
    "collapsed": false,
    "scrolled": false
   },
   "outputs": [],
   "source": [
    "class C(Entity):\n",
    "    \n",
    "    @node\n",
    "    def fib(self, n):\n",
    "        if n < 2:\n",
    "            return n\n",
    "        return self.fib(n-1) + self.fib(n-2)\n"
   ]
  },
  {
   "cell_type": "code",
   "execution_count": 3,
   "metadata": {
    "collapsed": true
   },
   "outputs": [],
   "source": [
    "c = C()"
   ]
  },
  {
   "cell_type": "code",
   "execution_count": 4,
   "metadata": {
    "collapsed": false,
    "scrolled": false
   },
   "outputs": [
    {
     "data": {
      "text/markdown": [
       "# Compute activity summary (0.00 seconds of wall clock time)"
      ],
      "text/plain": [
       "<IPython.core.display.Markdown object>"
      ]
     },
     "metadata": {},
     "output_type": "display_data"
    },
    {
     "data": {
      "text/markdown": [
       "|key|value|\n",
       "|-|-|\n",
       "|GetValue|19\n",
       "|GetValue/Calc|11"
      ],
      "text/plain": [
       "<IPython.core.display.Markdown object>"
      ]
     },
     "metadata": {},
     "output_type": "display_data"
    },
    {
     "name": "stdout",
     "output_type": "stream",
     "text": [
      "55\n"
     ]
    },
    {
     "data": {
      "text/markdown": [
       "# Compute activity summary (0.00 seconds of wall clock time)"
      ],
      "text/plain": [
       "<IPython.core.display.Markdown object>"
      ]
     },
     "metadata": {},
     "output_type": "display_data"
    },
    {
     "data": {
      "text/markdown": [
       "|key|value|\n",
       "|-|-|\n",
       "|GetValue|61\n",
       "|GetValue/Calc|30"
      ],
      "text/plain": [
       "<IPython.core.display.Markdown object>"
      ]
     },
     "metadata": {},
     "output_type": "display_data"
    },
    {
     "name": "stdout",
     "output_type": "stream",
     "text": [
      "102334155\n"
     ]
    }
   ],
   "source": [
    "with SummaryMonitor():\n",
    "    v = c.fib(10)\n",
    "print v\n",
    "\n",
    "with SummaryMonitor():\n",
    "    v = c.fib(40)\n",
    "print v"
   ]
  },
  {
   "cell_type": "code",
   "execution_count": 5,
   "metadata": {
    "collapsed": false
   },
   "outputs": [
    {
     "name": "stdout",
     "output_type": "stream",
     "text": [
      "Expect 30: 30\n",
      "Expect 40: 40\n",
      "Expect 30: 30\n",
      "Expect 60: 60\n"
     ]
    }
   ],
   "source": [
    "class D(Entity):\n",
    "    \n",
    "    @node(tweakable=True)\n",
    "    def v(self): \n",
    "        return 10\n",
    "        \n",
    "class E(D):\n",
    "    \n",
    "    @node(tweakable=True)\n",
    "    def v(self): \n",
    "        return super(E, self).v() + 20\n",
    "    \n",
    "e = E()\n",
    "\n",
    "print 'Expect 30:', e.v()\n",
    "assert e.v() == 30\n",
    "\n",
    "with Context({e.v: 40}):\n",
    "    print 'Expect 40:', e.v()\n",
    "    assert e.v() == 40\n",
    "        \n",
    "print 'Expect 30:', e.v()\n",
    "assert e.v() == 30\n",
    "\n",
    "with Context({super(E, e).v: 40}):\n",
    "    print 'Expect 60:', e.v()\n",
    "    assert e.v() == 60"
   ]
  },
  {
   "cell_type": "code",
   "execution_count": 6,
   "metadata": {
    "collapsed": false,
    "scrolled": false
   },
   "outputs": [
    {
     "name": "stdout",
     "output_type": "stream",
     "text": [
      "175.61\n",
      "180\n",
      "175.61\n"
     ]
    }
   ],
   "source": [
    "from mand.demos.trading import MarketDataSource\n",
    "\n",
    "class MarketInterface1(Entity):\n",
    "    \n",
    "    @node(tweakable=True)\n",
    "    def sourceName(self):\n",
    "        return 'source1'\n",
    "    \n",
    "    @node\n",
    "    def source(self):\n",
    "        return self.getObj(_tr.MarketDataSource, '%s.%s' % (self.sourceName(), self.meta.name()))\n",
    "    \n",
    "    @node(tweakable=True)\n",
    "    def spot(self):\n",
    "        return self.source().last()\n",
    "      \n",
    "_tr.add(MarketInterface1)\n",
    "\n",
    "with db:\n",
    "    s1_ibm  = MarketDataSource('source1.IBM')\n",
    "    s1_ibm.update(last=175.61)\n",
    "\n",
    "    s2_ibm  = MarketDataSource('user_marks.IBM')\n",
    "    s2_ibm.update(last=180)\n",
    "    \n",
    "    ibm  = MarketInterface1('IBM').write()\n",
    "    \n",
    "print ibm.spot()\n",
    "with Context({ibm.sourceName: 'user_marks'}):\n",
    "    print ibm.spot()\n",
    "print ibm.spot()"
   ]
  },
  {
   "cell_type": "code",
   "execution_count": 7,
   "metadata": {
    "collapsed": false,
    "scrolled": false
   },
   "outputs": [
    {
     "name": "stdout",
     "output_type": "stream",
     "text": [
      "CALCULATED: <Node: /Global/MarketDataSource/user_marks.IBM.(RefData:state)() in Root:user:Simp-MarketData @4463224336 T=False>\n",
      "  INPUT: <Node: /Global/Clock/MarketData.(Clock:cutoffs)() in Root:user:Simp-MarketData @4463224208 T=True>\n"
     ]
    },
    {
     "data": {
      "text/markdown": [
       "# Compute activity summary (0.04 seconds of wall clock time)"
      ],
      "text/plain": [
       "<IPython.core.display.Markdown object>"
      ]
     },
     "metadata": {},
     "output_type": "display_data"
    },
    {
     "data": {
      "text/markdown": [
       "|key|value|\n",
       "|-|-|\n",
       "|Context|1\n",
       "|Db.Get|6\n",
       "|GetValue|29\n",
       "|GetValue/Calc|15"
      ],
      "text/plain": [
       "<IPython.core.display.Markdown object>"
      ]
     },
     "metadata": {},
     "output_type": "display_data"
    },
    {
     "name": "stdout",
     "output_type": "stream",
     "text": [
      "180\n",
      "<Node: /Global/MarketInterface1/IBM.(MarketInterface1:spot)() in Root:user @4463074064 T=True>, nIn=2\n",
      "   <Node: /Global/MarketDataSource/user_marks.IBM.(ExternalRefData:state)() in Root:user @4463124752 T=False>, nIn=2\n",
      "      <Node: /Global/Clock/MarketData.(Clock:cutoffs)() in Root:user @4463074704 T=True>, nIn=2\n",
      "         <Node: /Global/Clock/MarketData.(Clock:parent)() in Root:user @4463075216 T=False>, nIn=1\n",
      "            <Node: /Global/RootClock/Main.(RootClock:cutoffs)() in Root:user @4463127312 T=True>, nIn=0\n",
      "         <Node: /Global/Clock/RefData.(Clock:cutoffs)() in Root:user @4463222992 T=True>, nIn=2\n",
      "            <Node: /Global/Clock/RefData.(Clock:parent)() in Root:user @4463223376 T=False>, nIn=1\n",
      "               <Node: /Global/RootClock/Main.(RootClock:cutoffs)() in Root:user @4463127312 T=True>, nIn=0\n",
      "            <Node: /Global/RootClock/Main.(RootClock:cutoffs)() in Root:user @4463127312 T=True>, nIn=0\n",
      "      <Node: /Global/MarketDataSource/user_marks.IBM.(RefData:state)() in Root:user:Simp-MarketData @4463224336 T=False>, nIn=1\n",
      "         <Node: /Global/Clock/MarketData.(Clock:cutoffs)() in Root:user:Simp-MarketData @4463224208 T=True>, nIn=0\n",
      "   <Node: /Global/MarketInterface1/IBM.(MarketInterface1:source)() in Root:user @4463074512 T=False>, nIn=1\n",
      "      <Node: /Global/MarketInterface1/IBM.(MarketInterface1:sourceName)() in Root:user @4463074192 T=True>, nIn=0\n",
      "[]\n",
      "(<Entity:/Global/Clock/MarketData>, None): <mand.context.Context object at 0x10a0762d0>\n",
      "\n",
      "CALCULATED: <Node: /Global/MarketDataSource/source1.IBM.(RefData:state)() in Root:user:Simp-MarketData @4463277392 T=False>\n",
      "  INPUT: <Node: /Global/Clock/MarketData.(Clock:cutoffs)() in Root:user:Simp-MarketData @4463224208 T=True>\n"
     ]
    },
    {
     "data": {
      "text/markdown": [
       "# Compute activity summary (0.02 seconds of wall clock time)"
      ],
      "text/plain": [
       "<IPython.core.display.Markdown object>"
      ]
     },
     "metadata": {},
     "output_type": "display_data"
    },
    {
     "data": {
      "text/markdown": [
       "|key|value|\n",
       "|-|-|\n",
       "|Db.Get|2\n",
       "|GetValue|29\n",
       "|GetValue/Calc|15"
      ],
      "text/plain": [
       "<IPython.core.display.Markdown object>"
      ]
     },
     "metadata": {},
     "output_type": "display_data"
    },
    {
     "name": "stdout",
     "output_type": "stream",
     "text": [
      "175.61\n",
      "<Node: /Global/MarketInterface1/IBM.(MarketInterface1:spot)() in Root @4463222864 T=True>, nIn=2\n",
      "   <Node: /Global/MarketDataSource/source1.IBM.(ExternalRefData:state)() in Root @4463127056 T=False>, nIn=2\n",
      "      <Node: /Global/Clock/MarketData.(Clock:cutoffs)() in Root @4463223760 T=True>, nIn=2\n",
      "         <Node: /Global/Clock/MarketData.(Clock:parent)() in Root @4462902032 T=False>, nIn=1\n",
      "            <Node: /Global/RootClock/Main.(RootClock:cutoffs)() in Root @4462901456 T=True>, nIn=0\n",
      "         <Node: /Global/Clock/RefData.(Clock:cutoffs)() in Root @4463073232 T=True>, nIn=2\n",
      "            <Node: /Global/Clock/RefData.(Clock:parent)() in Root @4463276304 T=False>, nIn=1\n",
      "               <Node: /Global/RootClock/Main.(RootClock:cutoffs)() in Root @4462901456 T=True>, nIn=0\n",
      "            <Node: /Global/RootClock/Main.(RootClock:cutoffs)() in Root @4462901456 T=True>, nIn=0\n",
      "      <Node: /Global/MarketDataSource/source1.IBM.(RefData:state)() in Root:user:Simp-MarketData @4463277392 T=False>, nIn=1\n",
      "         <Node: /Global/Clock/MarketData.(Clock:cutoffs)() in Root:user:Simp-MarketData @4463224208 T=True>, nIn=0\n",
      "   <Node: /Global/MarketInterface1/IBM.(MarketInterface1:source)() in Root @4463226512 T=False>, nIn=1\n",
      "      <Node: /Global/MarketInterface1/IBM.(MarketInterface1:sourceName)() in Root @4463223888 T=True>, nIn=0\n",
      "[]\n"
     ]
    }
   ],
   "source": [
    "from mand.demos.depmanager import DM1\n",
    "\n",
    "class DM2(DM1):\n",
    "    \n",
    "    def __init__(self):\n",
    "        super(DM2, self).__init__()\n",
    "        #self.simpleClockMethods = ('Clock:cutoffs', 'Workbook:items', 'RefData:state', 'Portfolio:children', 'Portfolio:items') # , 'MarketInterface1:spot')\n",
    "        self.simpleClockMethods = ('Workbook:items', 'RefData:state', 'Portfolio:children', 'Portfolio:items') # , 'MarketInterface1:spot')\n",
    "        #self.simpleClockMethods = ('Clock:cutoffs', 'Workbook:items', 'RefData:state', 'Portfolio:children', 'Portfolio:items', 'MarketInterface1:spot')\n",
    "        \n",
    "    def calculated(self, node):\n",
    "        if not node.isSimplified:\n",
    "            return\n",
    "        print 'CALCULATED:', node\n",
    "        for input in node.inputs:\n",
    "            print '  INPUT:', input\n",
    "        super(DM1, self).calculated(node)\n",
    "                \n",
    "dm = DM2()\n",
    "setDependencyManager(dm)\n",
    "\n",
    "db4 = db.copy()   \n",
    "ibm2 = db4.get(ibm.meta.path())\n",
    "\n",
    "ts = Timestamp()\n",
    "\n",
    "\n",
    "with Context({ibm2.sourceName: 'user_marks'}, 'user'):\n",
    "    with SummaryMonitor():\n",
    "        v = ibm2.spot()\n",
    "    print v\n",
    "    node = getNode(ibm2.spot)\n",
    "    node.printInputGraph()\n",
    "\n",
    "footnotes = node.footnotes.values()\n",
    "print footnotes\n",
    "\n",
    "for k, v in dm.contexts.items():\n",
    "    print '%s: %s' % (k, v)\n",
    "\n",
    "print \n",
    "\n",
    "with SummaryMonitor():\n",
    "    v = ibm2.spot()\n",
    "print v\n",
    "node = getNode(ibm2.spot)\n",
    "node.printInputGraph()\n",
    "footnotes = node.footnotes.values()\n",
    "print footnotes\n"
   ]
  }
 ],
 "metadata": {
  "kernelspec": {
   "display_name": "Python 2",
   "language": "python",
   "name": "python2"
  },
  "language_info": {
   "codemirror_mode": {
    "name": "ipython",
    "version": 2
   },
   "file_extension": ".py",
   "mimetype": "text/x-python",
   "name": "python",
   "nbconvert_exporter": "python",
   "pygments_lexer": "ipython2",
   "version": "2.7.13"
  }
 },
 "nbformat": 4,
 "nbformat_minor": 2
}
